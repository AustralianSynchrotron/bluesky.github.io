{
 "cells": [
  {
   "cell_type": "markdown",
   "metadata": {},
   "source": [
    "# Monochromator Optimization\n",
    "\n",
    "In this notebook you will:\n",
    "\n",
    "* Use a custom plan that is tuned to a specific, common task at an XAFS (X-ray Absorbance Fine Structure) beamline.\n",
    "* This plan will take some readings, do some prompt analysis on those readings, and then immediately take an action based on the result.\n",
    "\n",
    "## Science Background\n",
    "\n",
    "Here is a schematic of a double crystal monochromator (DCM), like the one at NSLS-II's BMM (Beamline for Materials Measurement) and many other beamlines.  The broadband radiation from the 3-pole wiggler source is incident upon the first crystal of the DCM.  At BMM, we most often use a Si(111) DCM and have the option to use Si(311) crystals.  The schematic below applies equally well to either crystal type and to any other crystal monochrmoator, as well. \n",
    "\n",
    "The first crystal monochromates the X-ray beam by Bragg diffraction. The crystal is on a high-preceision rotation stage and the angle between the incident beam and the lattice planes of the crystal is chosen so that a specific wavelength meets the Bragg condition, $\\lambda = 2d\\sin(\\Theta)$, where $d$ is the spacing between the lattice planes of the crystal and $\\Theta$ is the angle between the incident beam and the lattice planes of the first crystal.  By changing the angle, we change the wavelength of the beam diffracting from the first crystal.  Because there is a simple relationship between wavelength and energy, we select X-ray energy by changing the angle of the first crystal.\n",
    "\n",
    "![DCM](./static/doubleb.gif)  [(image source)](http://pd.chem.ucl.ac.uk/pdnn/inst2/condit.htm)\n",
    "\n",
    "The second crystal of the DCM is used to direct the beam downstream, towards the experimental hutch.  The second crystal needs to be at the same angle as the first crystal in order to meet the Bragg condition for the wavelength selected by the first crystal.  In order to pass the X-rays with high efficiency through the DCM, the first and second crystals must be parallel, within microradians. \n",
    "\n",
    "Whenever we make a large change in energy -- for example, when moving between elements with absorption edge energies that are very far apart -- it is prudent to verify that this difference in angle is small.  This is done by making a scan of the pitch of the second crustal, monitoring the intensity of the X-ray beam in the experimental hutch. When the second crystal is perfectly parallel to the first crystal, the intensity of the X-rays passing the the onochromator is maximized.  Thus this pitch scan of the second crystal will be a peaked function.  We want to place the second crystal pitch at the maximum of this peak.\n",
    " \n",
    "## Running a beamline\n",
    "\n",
    "BlueSky provides all the tools we need to perform this optimization.  Here's the game plan:\n",
    "\n",
    "1. Perform a scan of the pitch motor over a range that will include the optimal pitch position\n",
    "2. Record an intensity signal from a detector downstream of the DCM\n",
    "3. When the scan is finished, analyze the intensity measurements and determine the position of peak intensity\n",
    "4. Move the second crystal pitch motor to its optimized position\n",
    "\n",
    "BlueSky has you covered.  It comes with scan plans that perfom steps 1 and 2.  Step 3 is readily implemented using tools from Numerical and Scientific Python.  Step 4 is handled by one of BlueSky's standard motor motion commands.  None of this is difficult ... *except* that you need to know some things:\n",
    "\n",
    "* The name of the motor to be scanned\n",
    "* The name of the detector to be monitored\n",
    "* The syntax of the mathematical tools used to analyze the measured data\n",
    "* The names of the standard plans for scanning and moving motors\n",
    "\n",
    "For the beamline staff, those things should be common knowledge.  For a general user or a new post-doc, those things are esoteric mysteries.\n",
    "\n",
    "Training a user to remember the names of everything and the sequence of commands to run in order to perform this scan is certainly possible, but certainly  challanging. At an XAFS beamline, this optimization might be needed dozens of times each day -- and it **must** be done correctly *every single time*. Even a modestly complicated procedure like this optimization becomes a serious friction point in the use of the beamline.\n",
    "\n",
    "A solution to this friction is make a bespoke measurement plan, tailored to the beamline and constructed from the basic plans provided by BlueSky.  That is, we make a plan that performs all the steps of this optimization chore.  Thus, instead of training the general user or new post-doc the steps of the optimization, you simply have to train them to run this one plan when it is needed.\n",
    "\n",
    "In the XAFS community, we usually call this monochromator optimization a \"rocking curve scan\".  (We are \"rocking\" the second crystal through its optimal position and measuring the resulting peak-shaped curve.)  The `rocking_curve()` plan explained below is used reliably everyday by users and staff at BMM.\n",
    "\n",
    "--------\n",
    "\n",
    "## Tutorial\n",
    "\n",
    "We start by setting up our BlueSky environment:"
   ]
  },
  {
   "cell_type": "code",
   "execution_count": 1,
   "metadata": {
    "execution": {
     "iopub.execute_input": "2021-02-05T23:38:31.033185Z",
     "iopub.status.busy": "2021-02-05T23:38:31.032271Z",
     "iopub.status.idle": "2021-02-05T23:38:32.800420Z",
     "shell.execute_reply": "2021-02-05T23:38:32.799825Z"
    }
   },
   "outputs": [
    {
     "name": "stderr",
     "output_type": "stream",
     "text": [
      "/home/travis/virtualenv/python3.7.1/lib/python3.7/site-packages/traitlets/traitlets.py:3036: FutureWarning: --rc={'figure.dpi': 96} for dict-traits is deprecated in traitlets 5.0. You can pass --rc <key=value> ... multiple times to add items to a dict.\n",
      "  FutureWarning,\n"
     ]
    },
    {
     "name": "stderr",
     "output_type": "stream",
     "text": [
      "/home/travis/virtualenv/python3.7.1/lib/python3.7/site-packages/pims/image_reader.py:26: RuntimeWarning: PIMS image_reader.py could not find scikit-image. Falling back to matplotlib's imread(), which uses floats instead of integers. This may break your scripts. \n",
      "(To ignore this warning, include the line \"warnings.simplefilter(\"ignore\", RuntimeWarning)\" in your script.)\n",
      "  warnings.warn(RuntimeWarning(ski_preferred))\n"
     ]
    }
   ],
   "source": [
    "%matplotlib widget\n",
    "import matplotlib.pyplot as plt\n",
    "from bluesky import RunEngine\n",
    "from bluesky_tutorial_utils import setup_data_saving\n",
    "\n",
    "\n",
    "RE = RunEngine()\n",
    "catalog = setup_data_saving(RE)"
   ]
  },
  {
   "cell_type": "markdown",
   "metadata": {},
   "source": [
    "We will import a Bluesky *plan* from a script in the current directory, [plans.py](./plans.py). The plan operates on simulated hardware defined in another script, [simulated_hardware.py](./simulated_hardware.py). For the purposes of this tutorial we do not need to interact with the hardware directly; it's all done through the plan. You are encouraged to examine [plans.py](./plans.py) to understand how the rocking curve scan is implemented."
   ]
  },
  {
   "cell_type": "code",
   "execution_count": 2,
   "metadata": {
    "execution": {
     "iopub.execute_input": "2021-02-05T23:38:32.805380Z",
     "iopub.status.busy": "2021-02-05T23:38:32.803999Z",
     "iopub.status.idle": "2021-02-05T23:38:32.972748Z",
     "shell.execute_reply": "2021-02-05T23:38:32.973173Z"
    }
   },
   "outputs": [
    {
     "name": "stdout",
     "output_type": "stream",
     "text": [
      "Help on function rocking_curve in module plans:\n",
      "\n",
      "rocking_curve(start=-0.1, stop=0.1, nsteps=101, choice='peak')\n",
      "    Perform a relative scan of the DCM 2nd crystal pitch around the current\n",
      "    position to find the peak of the crystal rocking curve.  Begin by opening\n",
      "    the hutch slits to 3 mm. At the end, move to the position of maximum\n",
      "    intensity on I0, then return to the hutch slits to their original height.\n",
      "    Input:\n",
      "      start:    (float)  starting position relative to current  [-0.1]\n",
      "      end:      (float)  ending position relative to current    [0.1]\n",
      "      nsteps:   (int)    number of steps                        [101]\n",
      "      choice:   (string) 'peak', fit' or 'com' (center of mass) ['peak']\n",
      "    If choice is fit, the fit is performed using the\n",
      "    SkewedGaussianModel from lmfit, which works pretty well for this\n",
      "    measurement at BMM.  The line shape is a bit skewed due to the\n",
      "    convolution with the slightly misaligned entrance slits.\n",
      "\n"
     ]
    }
   ],
   "source": [
    "from plans import rocking_curve\n",
    "\n",
    "help(rocking_curve)"
   ]
  },
  {
   "cell_type": "code",
   "execution_count": 3,
   "metadata": {
    "execution": {
     "iopub.execute_input": "2021-02-05T23:38:32.988882Z",
     "iopub.status.busy": "2021-02-05T23:38:32.987980Z",
     "iopub.status.idle": "2021-02-05T23:38:32.999084Z",
     "shell.execute_reply": "2021-02-05T23:38:32.998151Z"
    }
   },
   "outputs": [
    {
     "data": {
      "application/vnd.jupyter.widget-view+json": {
       "model_id": "916650b937c644e5aeea937388fcaeb7",
       "version_major": 2,
       "version_minor": 0
      },
      "text/plain": [
       "Canvas(toolbar=Toolbar(toolitems=[('Home', 'Reset original view', 'home', 'home'), ('Back', 'Back to previous …"
      ]
     },
     "metadata": {},
     "output_type": "display_data"
    },
    {
     "data": {
      "text/plain": [
       "<Figure size 640x480 with 0 Axes>"
      ]
     },
     "execution_count": 1,
     "metadata": {},
     "output_type": "execute_result"
    }
   ],
   "source": [
    "plt.figure()"
   ]
  },
  {
   "cell_type": "code",
   "execution_count": 4,
   "metadata": {
    "execution": {
     "iopub.execute_input": "2021-02-05T23:38:33.010874Z",
     "iopub.status.busy": "2021-02-05T23:38:33.010367Z",
     "iopub.status.idle": "2021-02-05T23:38:39.070093Z",
     "shell.execute_reply": "2021-02-05T23:38:39.069544Z"
    }
   },
   "outputs": [
    {
     "name": "stdout",
     "output_type": "stream",
     "text": [
      "rocking curve scan: pitch, I0, -0.100, 0.100, 101 -- starting at 4.000\n",
      "\tuid = 7e3b5dd0-7e4f-459f-b24a-763712036927, scan_id = 1\n",
      "Found and moved to peak at 4.04 via method peak\n"
     ]
    },
    {
     "data": {
      "text/plain": [
       "('7e3b5dd0-7e4f-459f-b24a-763712036927',)"
      ]
     },
     "execution_count": 1,
     "metadata": {},
     "output_type": "execute_result"
    }
   ],
   "source": [
    "RE(rocking_curve())"
   ]
  },
  {
   "cell_type": "markdown",
   "metadata": {},
   "source": [
    "Note that the `rocking_curve()` plan performs the scan of the DCM second crystal while monitoring the intensity signal, then analyzes the result to find the position of maximum intensity, and finally moves the second crystal pitch to that position.  At this point, the DCM is optimized and the beamline is ready to begin measuring XAFS in the range of the current energy of the DCM.\n",
    "\n",
    "Now let's look at a plot of the rocking curve data using matplotlib's `gcf` (i.e. [get current figure](https://matplotlib.org/3.2.1/api/_as_gen/matplotlib.pyplot.gcf.html)) method. At the beamline, this is typically displayed as a live plot during the rocking curve scan."
   ]
  },
  {
   "cell_type": "code",
   "execution_count": 5,
   "metadata": {
    "execution": {
     "iopub.execute_input": "2021-02-05T23:38:39.078219Z",
     "iopub.status.busy": "2021-02-05T23:38:39.077666Z",
     "iopub.status.idle": "2021-02-05T23:38:39.180888Z",
     "shell.execute_reply": "2021-02-05T23:38:39.181478Z"
    }
   },
   "outputs": [
    {
     "data": {
      "image/png": "[encoded data removed]",
      "text/plain": [
       "<Figure size 640x480 with 1 Axes>"
      ]
     },
     "execution_count": 1,
     "metadata": {},
     "output_type": "execute_result"
    }
   ],
   "source": [
    "plt.gcf()  # Display a snapshot of the current state of the figure."
   ]
  },
  {
   "cell_type": "markdown",
   "metadata": {},
   "source": [
    "By default, the `rocking_curve()` plan simply looks for the position of highest intesity, then moves to that position.  In practice, this works quite well at BMM.\n",
    "\n",
    "There are other ways to examine and interpret a peak-like function.  In fact, the `rocking_curve()` plan offers three algorithms for determining the peak position:\n",
    "\n",
    "1. `peak`: find the position of maximum intensity\n",
    "2. `com`: find the position of the [center of mass](https://docs.scipy.org/doc/scipy/reference/generated/scipy.ndimage.center_of_mass.html) of the masured peak\n",
    "3. `fit`: fit an analytic function to the measured data and find the centroid of that function.  In practice at BMM, we have found that a [skewed Gaussian function](https://lmfit.github.io/lmfit-py/builtin_models.html#skewedgaussianmodel) works well.\n",
    "\n",
    "Let's see how these work.\n",
    "\n",
    "-------\n",
    "\n",
    "First, we need to get the data from the measurement in a form that is convenient to work with. One of the things we set up back in the first step of this tutorial was a \"catalog\", i.e. a way of accessing the live data from a measurement. In the step that follows, the `run` vairable will contain the data from the `rocking_curve()` performed above."
   ]
  },
  {
   "cell_type": "code",
   "execution_count": 6,
   "metadata": {
    "execution": {
     "iopub.execute_input": "2021-02-05T23:38:39.185592Z",
     "iopub.status.busy": "2021-02-05T23:38:39.184835Z",
     "iopub.status.idle": "2021-02-05T23:38:39.213290Z",
     "shell.execute_reply": "2021-02-05T23:38:39.213661Z"
    }
   },
   "outputs": [
    {
     "data": {
      "application/json": "7e3b5dd0-7e4f-459f-b24a-763712036927:\n  args:\n    entry: !!python/object:databroker.core.Entry\n      args: []\n      cls: databroker.core.Entry\n      kwargs:\n        name: 7e3b5dd0-7e4f-459f-b24a-763712036927\n        description: {}\n        driver: databroker.core.BlueskyRunFromGenerator\n        direct_access: forbid\n        args:\n          gen_args: !!python/tuple\n          - /home/travis/.local/share/bluesky/7e3b5dd0-7e4f-459f-b24a-763712036927.msgpack\n          gen_func: &id003 !!python/name:databroker._drivers.msgpack.gen ''\n          gen_kwargs: {}\n          get_filler: &id004 !!python/object/apply:functools.partial\n            args:\n            - &id001 !!python/name:event_model.Filler ''\n            state: !!python/tuple\n            - *id001\n            - !!python/tuple []\n            - handler_registry: !!python/object:event_model.HandlerRegistryView\n                _handler_registry:\n                  NPY_SEQ: !!python/name:ophyd.sim.NumpySeqHandler ''\n                  newton: !!python/name:bluesky_tutorial_utils._newton.NewtonHandler ''\n                  npy: !!python/name:bluesky_tutorial_utils._old_handlers.NpyHandler ''\n                  npy_FRAMEWISE: !!python/name:bluesky_tutorial_utils._old_handlers.NpyFrameWise ''\n              inplace: false\n              root_map: {}\n            - null\n          transforms:\n            descriptor: &id002 !!python/name:databroker.core._no_op ''\n            resource: *id002\n            start: *id002\n            stop: *id002\n        cache: null\n        parameters: []\n        metadata:\n          start:\n            detectors:\n            - I0\n            hints:\n              dimensions:\n              - - - pitch\n                - primary\n            motors:\n            - pitch\n            num_intervals: 100\n            num_points: 101\n            plan_args:\n              args:\n              - SynAxis(prefix='', name='pitch', read_attrs=['readback', 'setpoint'],\n                configuration_attrs=['velocity', 'acceleration'])\n              - -0.1\n              - 0.1\n              detectors:\n              - SynSignal(name='I0', value=1.6168615132709439, timestamp=1612568312.967992)\n              num: 101\n              per_step: None\n            plan_name: rel_scan\n            plan_pattern: inner_product\n            plan_pattern_args:\n              args:\n              - SynAxis(prefix='', name='pitch', read_attrs=['readback', 'setpoint'],\n                configuration_attrs=['velocity', 'acceleration'])\n              - -0.1\n              - 0.1\n              num: 101\n            plan_pattern_module: bluesky.plan_patterns\n            plan_type: generator\n            scan_id: 1\n            time: 1612568313.0476182\n            uid: 7e3b5dd0-7e4f-459f-b24a-763712036927\n            versions:\n              bluesky: 1.6.7\n              ophyd: 1.6.0\n          stop:\n            exit_status: success\n            num_events:\n              primary: 101\n            reason: ''\n            run_start: 7e3b5dd0-7e4f-459f-b24a-763712036927\n            time: 1612568318.831152\n            uid: 9129d4ec-3a7e-45fc-b192-03b30d57ca16\n        catalog_dir: null\n        getenv: true\n        getshell: true\n        catalog:\n          cls: databroker._drivers.msgpack.BlueskyMsgpackCatalog\n          args:\n          - /home/travis/.local/share/bluesky/*.msgpack\n          kwargs: {}\n    gen_args: !!python/tuple\n    - /home/travis/.local/share/bluesky/7e3b5dd0-7e4f-459f-b24a-763712036927.msgpack\n    gen_func: *id003\n    gen_kwargs: {}\n    get_filler: *id004\n    transforms:\n      descriptor: *id002\n      resource: *id002\n      start: *id002\n      stop: *id002\n  description: ''\n  driver: databroker.core.BlueskyRunFromGenerator\n  metadata:\n    catalog_dir: null\n    start: !!python/object/new:databroker.core.Start\n      dictitems:\n        detectors: &id005\n        - I0\n        hints: &id006\n          dimensions:\n          - - - pitch\n            - primary\n        motors: &id007\n        - pitch\n        num_intervals: 100\n        num_points: 101\n        plan_args: &id008\n          args:\n          - SynAxis(prefix='', name='pitch', read_attrs=['readback', 'setpoint'],\n            configuration_attrs=['velocity', 'acceleration'])\n          - -0.1\n          - 0.1\n          detectors:\n          - SynSignal(name='I0', value=1.6168615132709439, timestamp=1612568312.967992)\n          num: 101\n          per_step: None\n        plan_name: rel_scan\n        plan_pattern: inner_product\n        plan_pattern_args: &id009\n          args:\n          - SynAxis(prefix='', name='pitch', read_attrs=['readback', 'setpoint'],\n            configuration_attrs=['velocity', 'acceleration'])\n          - -0.1\n          - 0.1\n          num: 101\n        plan_pattern_module: bluesky.plan_patterns\n        plan_type: generator\n        scan_id: 1\n        time: 1612568313.0476182\n        uid: 7e3b5dd0-7e4f-459f-b24a-763712036927\n        versions: &id010\n          bluesky: 1.6.7\n          ophyd: 1.6.0\n      state:\n        detectors: *id005\n        hints: *id006\n        motors: *id007\n        num_intervals: 100\n        num_points: 101\n        plan_args: *id008\n        plan_name: rel_scan\n        plan_pattern: inner_product\n        plan_pattern_args: *id009\n        plan_pattern_module: bluesky.plan_patterns\n        plan_type: generator\n        scan_id: 1\n        time: 1612568313.0476182\n        uid: 7e3b5dd0-7e4f-459f-b24a-763712036927\n        versions: *id010\n    stop: !!python/object/new:databroker.core.Stop\n      dictitems:\n        exit_status: success\n        num_events: &id011\n          primary: 101\n        reason: ''\n        run_start: 7e3b5dd0-7e4f-459f-b24a-763712036927\n        time: 1612568318.831152\n        uid: 9129d4ec-3a7e-45fc-b192-03b30d57ca16\n      state:\n        exit_status: success\n        num_events: *id011\n        reason: ''\n        run_start: 7e3b5dd0-7e4f-459f-b24a-763712036927\n        time: 1612568318.831152\n        uid: 9129d4ec-3a7e-45fc-b192-03b30d57ca16\n",
      "text/plain": [
       "7e3b5dd0-7e4f-459f-b24a-763712036927:\n",
       "  args:\n",
       "    entry: !!python/object:databroker.core.Entry\n",
       "      args: []\n",
       "      cls: databroker.core.Entry\n",
       "      kwargs:\n",
       "        name: 7e3b5dd0-7e4f-459f-b24a-763712036927\n",
       "        description: {}\n",
       "        driver: databroker.core.BlueskyRunFromGenerator\n",
       "        direct_access: forbid\n",
       "        args:\n",
       "          gen_args: !!python/tuple\n",
       "          - /home/travis/.local/share/bluesky/7e3b5dd0-7e4f-459f-b24a-763712036927.msgpack\n",
       "          gen_func: &id003 !!python/name:databroker._drivers.msgpack.gen ''\n",
       "          gen_kwargs: {}\n",
       "          get_filler: &id004 !!python/object/apply:functools.partial\n",
       "            args:\n",
       "            - &id001 !!python/name:event_model.Filler ''\n",
       "            state: !!python/tuple\n",
       "            - *id001\n",
       "            - !!python/tuple []\n",
       "            - handler_registry: !!python/object:event_model.HandlerRegistryView\n",
       "                _handler_registry:\n",
       "                  NPY_SEQ: !!python/name:ophyd.sim.NumpySeqHandler ''\n",
       "                  newton: !!python/name:bluesky_tutorial_utils._newton.NewtonHandler ''\n",
       "                  npy: !!python/name:bluesky_tutorial_utils._old_handlers.NpyHandler ''\n",
       "                  npy_FRAMEWISE: !!python/name:bluesky_tutorial_utils._old_handlers.NpyFrameWise ''\n",
       "              inplace: false\n",
       "              root_map: {}\n",
       "            - null\n",
       "          transforms:\n",
       "            descriptor: &id002 !!python/name:databroker.core._no_op ''\n",
       "            resource: *id002\n",
       "            start: *id002\n",
       "            stop: *id002\n",
       "        cache: null\n",
       "        parameters: []\n",
       "        metadata:\n",
       "          start:\n",
       "            detectors:\n",
       "            - I0\n",
       "            hints:\n",
       "              dimensions:\n",
       "              - - - pitch\n",
       "                - primary\n",
       "            motors:\n",
       "            - pitch\n",
       "            num_intervals: 100\n",
       "            num_points: 101\n",
       "            plan_args:\n",
       "              args:\n",
       "              - SynAxis(prefix='', name='pitch', read_attrs=['readback', 'setpoint'],\n",
       "                configuration_attrs=['velocity', 'acceleration'])\n",
       "              - -0.1\n",
       "              - 0.1\n",
       "              detectors:\n",
       "              - SynSignal(name='I0', value=1.6168615132709439, timestamp=1612568312.967992)\n",
       "              num: 101\n",
       "              per_step: None\n",
       "            plan_name: rel_scan\n",
       "            plan_pattern: inner_product\n",
       "            plan_pattern_args:\n",
       "              args:\n",
       "              - SynAxis(prefix='', name='pitch', read_attrs=['readback', 'setpoint'],\n",
       "                configuration_attrs=['velocity', 'acceleration'])\n",
       "              - -0.1\n",
       "              - 0.1\n",
       "              num: 101\n",
       "            plan_pattern_module: bluesky.plan_patterns\n",
       "            plan_type: generator\n",
       "            scan_id: 1\n",
       "            time: 1612568313.0476182\n",
       "            uid: 7e3b5dd0-7e4f-459f-b24a-763712036927\n",
       "            versions:\n",
       "              bluesky: 1.6.7\n",
       "              ophyd: 1.6.0\n",
       "          stop:\n",
       "            exit_status: success\n",
       "            num_events:\n",
       "              primary: 101\n",
       "            reason: ''\n",
       "            run_start: 7e3b5dd0-7e4f-459f-b24a-763712036927\n",
       "            time: 1612568318.831152\n",
       "            uid: 9129d4ec-3a7e-45fc-b192-03b30d57ca16\n",
       "        catalog_dir: null\n",
       "        getenv: true\n",
       "        getshell: true\n",
       "        catalog:\n",
       "          cls: databroker._drivers.msgpack.BlueskyMsgpackCatalog\n",
       "          args:\n",
       "          - /home/travis/.local/share/bluesky/*.msgpack\n",
       "          kwargs: {}\n",
       "    gen_args: !!python/tuple\n",
       "    - /home/travis/.local/share/bluesky/7e3b5dd0-7e4f-459f-b24a-763712036927.msgpack\n",
       "    gen_func: *id003\n",
       "    gen_kwargs: {}\n",
       "    get_filler: *id004\n",
       "    transforms:\n",
       "      descriptor: *id002\n",
       "      resource: *id002\n",
       "      start: *id002\n",
       "      stop: *id002\n",
       "  description: ''\n",
       "  driver: databroker.core.BlueskyRunFromGenerator\n",
       "  metadata:\n",
       "    catalog_dir: null\n",
       "    start: !!python/object/new:databroker.core.Start\n",
       "      dictitems:\n",
       "        detectors: &id005\n",
       "        - I0\n",
       "        hints: &id006\n",
       "          dimensions:\n",
       "          - - - pitch\n",
       "            - primary\n",
       "        motors: &id007\n",
       "        - pitch\n",
       "        num_intervals: 100\n",
       "        num_points: 101\n",
       "        plan_args: &id008\n",
       "          args:\n",
       "          - SynAxis(prefix='', name='pitch', read_attrs=['readback', 'setpoint'],\n",
       "            configuration_attrs=['velocity', 'acceleration'])\n",
       "          - -0.1\n",
       "          - 0.1\n",
       "          detectors:\n",
       "          - SynSignal(name='I0', value=1.6168615132709439, timestamp=1612568312.967992)\n",
       "          num: 101\n",
       "          per_step: None\n",
       "        plan_name: rel_scan\n",
       "        plan_pattern: inner_product\n",
       "        plan_pattern_args: &id009\n",
       "          args:\n",
       "          - SynAxis(prefix='', name='pitch', read_attrs=['readback', 'setpoint'],\n",
       "            configuration_attrs=['velocity', 'acceleration'])\n",
       "          - -0.1\n",
       "          - 0.1\n",
       "          num: 101\n",
       "        plan_pattern_module: bluesky.plan_patterns\n",
       "        plan_type: generator\n",
       "        scan_id: 1\n",
       "        time: 1612568313.0476182\n",
       "        uid: 7e3b5dd0-7e4f-459f-b24a-763712036927\n",
       "        versions: &id010\n",
       "          bluesky: 1.6.7\n",
       "          ophyd: 1.6.0\n",
       "      state:\n",
       "        detectors: *id005\n",
       "        hints: *id006\n",
       "        motors: *id007\n",
       "        num_intervals: 100\n",
       "        num_points: 101\n",
       "        plan_args: *id008\n",
       "        plan_name: rel_scan\n",
       "        plan_pattern: inner_product\n",
       "        plan_pattern_args: *id009\n",
       "        plan_pattern_module: bluesky.plan_patterns\n",
       "        plan_type: generator\n",
       "        scan_id: 1\n",
       "        time: 1612568313.0476182\n",
       "        uid: 7e3b5dd0-7e4f-459f-b24a-763712036927\n",
       "        versions: *id010\n",
       "    stop: !!python/object/new:databroker.core.Stop\n",
       "      dictitems:\n",
       "        exit_status: success\n",
       "        num_events: &id011\n",
       "          primary: 101\n",
       "        reason: ''\n",
       "        run_start: 7e3b5dd0-7e4f-459f-b24a-763712036927\n",
       "        time: 1612568318.831152\n",
       "        uid: 9129d4ec-3a7e-45fc-b192-03b30d57ca16\n",
       "      state:\n",
       "        exit_status: success\n",
       "        num_events: *id011\n",
       "        reason: ''\n",
       "        run_start: 7e3b5dd0-7e4f-459f-b24a-763712036927\n",
       "        time: 1612568318.831152\n",
       "        uid: 9129d4ec-3a7e-45fc-b192-03b30d57ca16\n"
      ]
     },
     "metadata": {
      "application/json": {
       "root": "7e3b5dd0-7e4f-459f-b24a-763712036927"
      }
     },
     "output_type": "display_data"
    }
   ],
   "source": [
    "run = catalog[-1]\n",
    "run"
   ]
  },
  {
   "cell_type": "markdown",
   "metadata": {},
   "source": [
    "Access the saved data."
   ]
  },
  {
   "cell_type": "code",
   "execution_count": 7,
   "metadata": {
    "execution": {
     "iopub.execute_input": "2021-02-05T23:38:39.227382Z",
     "iopub.status.busy": "2021-02-05T23:38:39.226611Z",
     "iopub.status.idle": "2021-02-05T23:38:39.344759Z",
     "shell.execute_reply": "2021-02-05T23:38:39.345156Z"
    }
   },
   "outputs": [
    {
     "data": {
      "text/html": [
       "<div><svg style=\"position: absolute; width: 0; height: 0; overflow: hidden\">\n",
       "<defs>\n",
       "<symbol id=\"icon-database\" viewBox=\"0 0 32 32\">\n",
       "<path d=\"M16 0c-8.837 0-16 2.239-16 5v4c0 2.761 7.163 5 16 5s16-2.239 16-5v-4c0-2.761-7.163-5-16-5z\"></path>\n",
       "<path d=\"M16 17c-8.837 0-16-2.239-16-5v6c0 2.761 7.163 5 16 5s16-2.239 16-5v-6c0 2.761-7.163 5-16 5z\"></path>\n",
       "<path d=\"M16 26c-8.837 0-16-2.239-16-5v6c0 2.761 7.163 5 16 5s16-2.239 16-5v-6c0 2.761-7.163 5-16 5z\"></path>\n",
       "</symbol>\n",
       "<symbol id=\"icon-file-text2\" viewBox=\"0 0 32 32\">\n",
       "<path d=\"M28.681 7.159c-0.694-0.947-1.662-2.053-2.724-3.116s-2.169-2.030-3.116-2.724c-1.612-1.182-2.393-1.319-2.841-1.319h-15.5c-1.378 0-2.5 1.121-2.5 2.5v27c0 1.378 1.122 2.5 2.5 2.5h23c1.378 0 2.5-1.122 2.5-2.5v-19.5c0-0.448-0.137-1.23-1.319-2.841zM24.543 5.457c0.959 0.959 1.712 1.825 2.268 2.543h-4.811v-4.811c0.718 0.556 1.584 1.309 2.543 2.268zM28 29.5c0 0.271-0.229 0.5-0.5 0.5h-23c-0.271 0-0.5-0.229-0.5-0.5v-27c0-0.271 0.229-0.5 0.5-0.5 0 0 15.499-0 15.5 0v7c0 0.552 0.448 1 1 1h7v19.5z\"></path>\n",
       "<path d=\"M23 26h-14c-0.552 0-1-0.448-1-1s0.448-1 1-1h14c0.552 0 1 0.448 1 1s-0.448 1-1 1z\"></path>\n",
       "<path d=\"M23 22h-14c-0.552 0-1-0.448-1-1s0.448-1 1-1h14c0.552 0 1 0.448 1 1s-0.448 1-1 1z\"></path>\n",
       "<path d=\"M23 18h-14c-0.552 0-1-0.448-1-1s0.448-1 1-1h14c0.552 0 1 0.448 1 1s-0.448 1-1 1z\"></path>\n",
       "</symbol>\n",
       "</defs>\n",
       "</svg>\n",
       "<style>/* CSS stylesheet for displaying xarray objects in jupyterlab.\n",
       " *\n",
       " */\n",
       "\n",
       ":root {\n",
       "  --xr-font-color0: var(--jp-content-font-color0, rgba(0, 0, 0, 1));\n",
       "  --xr-font-color2: var(--jp-content-font-color2, rgba(0, 0, 0, 0.54));\n",
       "  --xr-font-color3: var(--jp-content-font-color3, rgba(0, 0, 0, 0.38));\n",
       "  --xr-border-color: var(--jp-border-color2, #e0e0e0);\n",
       "  --xr-disabled-color: var(--jp-layout-color3, #bdbdbd);\n",
       "  --xr-background-color: var(--jp-layout-color0, white);\n",
       "  --xr-background-color-row-even: var(--jp-layout-color1, white);\n",
       "  --xr-background-color-row-odd: var(--jp-layout-color2, #eeeeee);\n",
       "}\n",
       "\n",
       "html[theme=dark],\n",
       "body.vscode-dark {\n",
       "  --xr-font-color0: rgba(255, 255, 255, 1);\n",
       "  --xr-font-color2: rgba(255, 255, 255, 0.54);\n",
       "  --xr-font-color3: rgba(255, 255, 255, 0.38);\n",
       "  --xr-border-color: #1F1F1F;\n",
       "  --xr-disabled-color: #515151;\n",
       "  --xr-background-color: #111111;\n",
       "  --xr-background-color-row-even: #111111;\n",
       "  --xr-background-color-row-odd: #313131;\n",
       "}\n",
       "\n",
       ".xr-wrap {\n",
       "  display: block;\n",
       "  min-width: 300px;\n",
       "  max-width: 700px;\n",
       "}\n",
       "\n",
       ".xr-text-repr-fallback {\n",
       "  /* fallback to plain text repr when CSS is not injected (untrusted notebook) */\n",
       "  display: none;\n",
       "}\n",
       "\n",
       ".xr-header {\n",
       "  padding-top: 6px;\n",
       "  padding-bottom: 6px;\n",
       "  margin-bottom: 4px;\n",
       "  border-bottom: solid 1px var(--xr-border-color);\n",
       "}\n",
       "\n",
       ".xr-header > div,\n",
       ".xr-header > ul {\n",
       "  display: inline;\n",
       "  margin-top: 0;\n",
       "  margin-bottom: 0;\n",
       "}\n",
       "\n",
       ".xr-obj-type,\n",
       ".xr-array-name {\n",
       "  margin-left: 2px;\n",
       "  margin-right: 10px;\n",
       "}\n",
       "\n",
       ".xr-obj-type {\n",
       "  color: var(--xr-font-color2);\n",
       "}\n",
       "\n",
       ".xr-sections {\n",
       "  padding-left: 0 !important;\n",
       "  display: grid;\n",
       "  grid-template-columns: 150px auto auto 1fr 20px 20px;\n",
       "}\n",
       "\n",
       ".xr-section-item {\n",
       "  display: contents;\n",
       "}\n",
       "\n",
       ".xr-section-item input {\n",
       "  display: none;\n",
       "}\n",
       "\n",
       ".xr-section-item input + label {\n",
       "  color: var(--xr-disabled-color);\n",
       "}\n",
       "\n",
       ".xr-section-item input:enabled + label {\n",
       "  cursor: pointer;\n",
       "  color: var(--xr-font-color2);\n",
       "}\n",
       "\n",
       ".xr-section-item input:enabled + label:hover {\n",
       "  color: var(--xr-font-color0);\n",
       "}\n",
       "\n",
       ".xr-section-summary {\n",
       "  grid-column: 1;\n",
       "  color: var(--xr-font-color2);\n",
       "  font-weight: 500;\n",
       "}\n",
       "\n",
       ".xr-section-summary > span {\n",
       "  display: inline-block;\n",
       "  padding-left: 0.5em;\n",
       "}\n",
       "\n",
       ".xr-section-summary-in:disabled + label {\n",
       "  color: var(--xr-font-color2);\n",
       "}\n",
       "\n",
       ".xr-section-summary-in + label:before {\n",
       "  display: inline-block;\n",
       "  content: '►';\n",
       "  font-size: 11px;\n",
       "  width: 15px;\n",
       "  text-align: center;\n",
       "}\n",
       "\n",
       ".xr-section-summary-in:disabled + label:before {\n",
       "  color: var(--xr-disabled-color);\n",
       "}\n",
       "\n",
       ".xr-section-summary-in:checked + label:before {\n",
       "  content: '▼';\n",
       "}\n",
       "\n",
       ".xr-section-summary-in:checked + label > span {\n",
       "  display: none;\n",
       "}\n",
       "\n",
       ".xr-section-summary,\n",
       ".xr-section-inline-details {\n",
       "  padding-top: 4px;\n",
       "  padding-bottom: 4px;\n",
       "}\n",
       "\n",
       ".xr-section-inline-details {\n",
       "  grid-column: 2 / -1;\n",
       "}\n",
       "\n",
       ".xr-section-details {\n",
       "  display: none;\n",
       "  grid-column: 1 / -1;\n",
       "  margin-bottom: 5px;\n",
       "}\n",
       "\n",
       ".xr-section-summary-in:checked ~ .xr-section-details {\n",
       "  display: contents;\n",
       "}\n",
       "\n",
       ".xr-array-wrap {\n",
       "  grid-column: 1 / -1;\n",
       "  display: grid;\n",
       "  grid-template-columns: 20px auto;\n",
       "}\n",
       "\n",
       ".xr-array-wrap > label {\n",
       "  grid-column: 1;\n",
       "  vertical-align: top;\n",
       "}\n",
       "\n",
       ".xr-preview {\n",
       "  color: var(--xr-font-color3);\n",
       "}\n",
       "\n",
       ".xr-array-preview,\n",
       ".xr-array-data {\n",
       "  padding: 0 5px !important;\n",
       "  grid-column: 2;\n",
       "}\n",
       "\n",
       ".xr-array-data,\n",
       ".xr-array-in:checked ~ .xr-array-preview {\n",
       "  display: none;\n",
       "}\n",
       "\n",
       ".xr-array-in:checked ~ .xr-array-data,\n",
       ".xr-array-preview {\n",
       "  display: inline-block;\n",
       "}\n",
       "\n",
       ".xr-dim-list {\n",
       "  display: inline-block !important;\n",
       "  list-style: none;\n",
       "  padding: 0 !important;\n",
       "  margin: 0;\n",
       "}\n",
       "\n",
       ".xr-dim-list li {\n",
       "  display: inline-block;\n",
       "  padding: 0;\n",
       "  margin: 0;\n",
       "}\n",
       "\n",
       ".xr-dim-list:before {\n",
       "  content: '(';\n",
       "}\n",
       "\n",
       ".xr-dim-list:after {\n",
       "  content: ')';\n",
       "}\n",
       "\n",
       ".xr-dim-list li:not(:last-child):after {\n",
       "  content: ',';\n",
       "  padding-right: 5px;\n",
       "}\n",
       "\n",
       ".xr-has-index {\n",
       "  font-weight: bold;\n",
       "}\n",
       "\n",
       ".xr-var-list,\n",
       ".xr-var-item {\n",
       "  display: contents;\n",
       "}\n",
       "\n",
       ".xr-var-item > div,\n",
       ".xr-var-item label,\n",
       ".xr-var-item > .xr-var-name span {\n",
       "  background-color: var(--xr-background-color-row-even);\n",
       "  margin-bottom: 0;\n",
       "}\n",
       "\n",
       ".xr-var-item > .xr-var-name:hover span {\n",
       "  padding-right: 5px;\n",
       "}\n",
       "\n",
       ".xr-var-list > li:nth-child(odd) > div,\n",
       ".xr-var-list > li:nth-child(odd) > label,\n",
       ".xr-var-list > li:nth-child(odd) > .xr-var-name span {\n",
       "  background-color: var(--xr-background-color-row-odd);\n",
       "}\n",
       "\n",
       ".xr-var-name {\n",
       "  grid-column: 1;\n",
       "}\n",
       "\n",
       ".xr-var-dims {\n",
       "  grid-column: 2;\n",
       "}\n",
       "\n",
       ".xr-var-dtype {\n",
       "  grid-column: 3;\n",
       "  text-align: right;\n",
       "  color: var(--xr-font-color2);\n",
       "}\n",
       "\n",
       ".xr-var-preview {\n",
       "  grid-column: 4;\n",
       "}\n",
       "\n",
       ".xr-var-name,\n",
       ".xr-var-dims,\n",
       ".xr-var-dtype,\n",
       ".xr-preview,\n",
       ".xr-attrs dt {\n",
       "  white-space: nowrap;\n",
       "  overflow: hidden;\n",
       "  text-overflow: ellipsis;\n",
       "  padding-right: 10px;\n",
       "}\n",
       "\n",
       ".xr-var-name:hover,\n",
       ".xr-var-dims:hover,\n",
       ".xr-var-dtype:hover,\n",
       ".xr-attrs dt:hover {\n",
       "  overflow: visible;\n",
       "  width: auto;\n",
       "  z-index: 1;\n",
       "}\n",
       "\n",
       ".xr-var-attrs,\n",
       ".xr-var-data {\n",
       "  display: none;\n",
       "  background-color: var(--xr-background-color) !important;\n",
       "  padding-bottom: 5px !important;\n",
       "}\n",
       "\n",
       ".xr-var-attrs-in:checked ~ .xr-var-attrs,\n",
       ".xr-var-data-in:checked ~ .xr-var-data {\n",
       "  display: block;\n",
       "}\n",
       "\n",
       ".xr-var-data > table {\n",
       "  float: right;\n",
       "}\n",
       "\n",
       ".xr-var-name span,\n",
       ".xr-var-data,\n",
       ".xr-attrs {\n",
       "  padding-left: 25px !important;\n",
       "}\n",
       "\n",
       ".xr-attrs,\n",
       ".xr-var-attrs,\n",
       ".xr-var-data {\n",
       "  grid-column: 1 / -1;\n",
       "}\n",
       "\n",
       "dl.xr-attrs {\n",
       "  padding: 0;\n",
       "  margin: 0;\n",
       "  display: grid;\n",
       "  grid-template-columns: 125px auto;\n",
       "}\n",
       "\n",
       ".xr-attrs dt,\n",
       ".xr-attrs dd {\n",
       "  padding: 0;\n",
       "  margin: 0;\n",
       "  float: left;\n",
       "  padding-right: 10px;\n",
       "  width: auto;\n",
       "}\n",
       "\n",
       ".xr-attrs dt {\n",
       "  font-weight: normal;\n",
       "  grid-column: 1;\n",
       "}\n",
       "\n",
       ".xr-attrs dt:hover span {\n",
       "  display: inline-block;\n",
       "  background: var(--xr-background-color);\n",
       "  padding-right: 10px;\n",
       "}\n",
       "\n",
       ".xr-attrs dd {\n",
       "  grid-column: 2;\n",
       "  white-space: pre-wrap;\n",
       "  word-break: break-all;\n",
       "}\n",
       "\n",
       ".xr-icon-database,\n",
       ".xr-icon-file-text2 {\n",
       "  display: inline-block;\n",
       "  vertical-align: middle;\n",
       "  width: 1em;\n",
       "  height: 1.5em !important;\n",
       "  stroke-width: 0;\n",
       "  stroke: currentColor;\n",
       "  fill: currentColor;\n",
       "}\n",
       "</style><pre class='xr-text-repr-fallback'>&lt;xarray.Dataset&gt;\n",
       "Dimensions:         (time: 101)\n",
       "Coordinates:\n",
       "  * time            (time) float64 1.613e+09 1.613e+09 ... 1.613e+09 1.613e+09\n",
       "Data variables:\n",
       "    I0              (time) float64 0.001037 0.001037 0.001037 ... 0.5701 0.4802\n",
       "    pitch           (time) float64 3.9 3.902 3.904 3.906 ... 4.096 4.098 4.1\n",
       "    pitch_setpoint  (time) float64 3.9 3.902 3.904 3.906 ... 4.096 4.098 4.1</pre><div class='xr-wrap' hidden><div class='xr-header'><div class='xr-obj-type'>xarray.Dataset</div></div><ul class='xr-sections'><li class='xr-section-item'><input id='section-951d4f5f-750c-4cd6-ba48-13d82c2c2440' class='xr-section-summary-in' type='checkbox' disabled ><label for='section-951d4f5f-750c-4cd6-ba48-13d82c2c2440' class='xr-section-summary'  title='Expand/collapse section'>Dimensions:</label><div class='xr-section-inline-details'><ul class='xr-dim-list'><li><span class='xr-has-index'>time</span>: 101</li></ul></div><div class='xr-section-details'></div></li><li class='xr-section-item'><input id='section-0a7e74b7-2f55-479a-9c81-5d4731ba834f' class='xr-section-summary-in' type='checkbox'  checked><label for='section-0a7e74b7-2f55-479a-9c81-5d4731ba834f' class='xr-section-summary' >Coordinates: <span>(1)</span></label><div class='xr-section-inline-details'></div><div class='xr-section-details'><ul class='xr-var-list'><li class='xr-var-item'><div class='xr-var-name'><span class='xr-has-index'>time</span></div><div class='xr-var-dims'>(time)</div><div class='xr-var-dtype'>float64</div><div class='xr-var-preview xr-preview'>1.613e+09 1.613e+09 ... 1.613e+09</div><input id='attrs-ebf863ed-efeb-468d-ac0d-87e5e41656dd' class='xr-var-attrs-in' type='checkbox' disabled><label for='attrs-ebf863ed-efeb-468d-ac0d-87e5e41656dd' title='Show/Hide attributes'><svg class='icon xr-icon-file-text2'><use xlink:href='#icon-file-text2'></use></svg></label><input id='data-7de18c68-080a-4f65-81d2-9808741c61ba' class='xr-var-data-in' type='checkbox'><label for='data-7de18c68-080a-4f65-81d2-9808741c61ba' title='Show/Hide data repr'><svg class='icon xr-icon-database'><use xlink:href='#icon-database'></use></svg></label><div class='xr-var-attrs'><dl class='xr-attrs'></dl></div><div class='xr-var-data'><pre>array([1.612568e+09, 1.612568e+09, 1.612568e+09, 1.612568e+09, 1.612568e+09,\n",
       "       1.612568e+09, 1.612568e+09, 1.612568e+09, 1.612568e+09, 1.612568e+09,\n",
       "       1.612568e+09, 1.612568e+09, 1.612568e+09, 1.612568e+09, 1.612568e+09,\n",
       "       1.612568e+09, 1.612568e+09, 1.612568e+09, 1.612568e+09, 1.612568e+09,\n",
       "       1.612568e+09, 1.612568e+09, 1.612568e+09, 1.612568e+09, 1.612568e+09,\n",
       "       1.612568e+09, 1.612568e+09, 1.612568e+09, 1.612568e+09, 1.612568e+09,\n",
       "       1.612568e+09, 1.612568e+09, 1.612568e+09, 1.612568e+09, 1.612568e+09,\n",
       "       1.612568e+09, 1.612568e+09, 1.612568e+09, 1.612568e+09, 1.612568e+09,\n",
       "       1.612568e+09, 1.612568e+09, 1.612568e+09, 1.612568e+09, 1.612568e+09,\n",
       "       1.612568e+09, 1.612568e+09, 1.612568e+09, 1.612568e+09, 1.612568e+09,\n",
       "       1.612568e+09, 1.612568e+09, 1.612568e+09, 1.612568e+09, 1.612568e+09,\n",
       "       1.612568e+09, 1.612568e+09, 1.612568e+09, 1.612568e+09, 1.612568e+09,\n",
       "       1.612568e+09, 1.612568e+09, 1.612568e+09, 1.612568e+09, 1.612568e+09,\n",
       "       1.612568e+09, 1.612568e+09, 1.612568e+09, 1.612568e+09, 1.612568e+09,\n",
       "       1.612568e+09, 1.612568e+09, 1.612568e+09, 1.612568e+09, 1.612568e+09,\n",
       "       1.612568e+09, 1.612568e+09, 1.612568e+09, 1.612568e+09, 1.612568e+09,\n",
       "       1.612568e+09, 1.612568e+09, 1.612568e+09, 1.612568e+09, 1.612568e+09,\n",
       "       1.612568e+09, 1.612568e+09, 1.612568e+09, 1.612568e+09, 1.612568e+09,\n",
       "       1.612568e+09, 1.612568e+09, 1.612568e+09, 1.612568e+09, 1.612568e+09,\n",
       "       1.612568e+09, 1.612568e+09, 1.612568e+09, 1.612568e+09, 1.612568e+09,\n",
       "       1.612568e+09])</pre></div></li></ul></div></li><li class='xr-section-item'><input id='section-bcdbf342-dd58-4ff6-b83f-c19db4e2fecf' class='xr-section-summary-in' type='checkbox'  checked><label for='section-bcdbf342-dd58-4ff6-b83f-c19db4e2fecf' class='xr-section-summary' >Data variables: <span>(3)</span></label><div class='xr-section-inline-details'></div><div class='xr-section-details'><ul class='xr-var-list'><li class='xr-var-item'><div class='xr-var-name'><span>I0</span></div><div class='xr-var-dims'>(time)</div><div class='xr-var-dtype'>float64</div><div class='xr-var-preview xr-preview'>0.001037 0.001037 ... 0.5701 0.4802</div><input id='attrs-64cf35bd-c8c0-4a5b-a859-ee3cf6a71ee7' class='xr-var-attrs-in' type='checkbox' ><label for='attrs-64cf35bd-c8c0-4a5b-a859-ee3cf6a71ee7' title='Show/Hide attributes'><svg class='icon xr-icon-file-text2'><use xlink:href='#icon-file-text2'></use></svg></label><input id='data-a2961aec-b6e9-43a5-a53c-c86aef404187' class='xr-var-data-in' type='checkbox'><label for='data-a2961aec-b6e9-43a5-a53c-c86aef404187' title='Show/Hide data repr'><svg class='icon xr-icon-database'><use xlink:href='#icon-database'></use></svg></label><div class='xr-var-attrs'><dl class='xr-attrs'><dt><span>object :</span></dt><dd>I0</dd></dl></div><div class='xr-var-data'><pre>array([1.03727341e-03, 1.03727341e-03, 1.03727341e-03, 8.34610961e-04,\n",
       "       9.24857384e-04, 1.04346785e-03, 1.07517364e-03, 9.54820500e-04,\n",
       "       1.07894543e-03, 1.17747906e-03, 1.19033370e-03, 1.28335287e-03,\n",
       "       1.08317675e-03, 1.07198715e-03, 1.41938076e-03, 1.31079474e-03,\n",
       "       1.30392651e-03, 1.32839380e-03, 1.37866663e-03, 1.36896355e-03,\n",
       "       1.58811347e-03, 1.82593989e-03, 1.71332825e-03, 1.85248752e-03,\n",
       "       2.00403568e-03, 1.87879917e-03, 1.92928159e-03, 2.42396953e-03,\n",
       "       2.83950052e-03, 2.99468772e-03, 3.26737382e-03, 4.44959729e-03,\n",
       "       8.04585590e-03, 1.62914959e-02, 3.10926156e-02, 5.24777559e-02,\n",
       "       7.92951983e-02, 1.16950004e-01, 1.62608162e-01, 2.16530134e-01,\n",
       "       2.73049529e-01, 3.44536643e-01, 4.30735996e-01, 5.24716397e-01,\n",
       "       6.32706321e-01, 7.53853454e-01, 8.91991150e-01, 1.02045180e+00,\n",
       "       1.16975129e+00, 1.38058299e+00, 1.61686151e+00, 1.88687493e+00,\n",
       "       2.23472301e+00, 2.67917774e+00, 3.19842820e+00, 3.88774326e+00,\n",
       "       4.66676315e+00, 5.58796635e+00, 6.51768910e+00, 7.36206738e+00,\n",
       "       8.29099441e+00, 9.09568215e+00, 9.89898627e+00, 1.07474555e+01,\n",
       "       1.15853071e+01, 1.23472935e+01, 1.29691683e+01, 1.35816309e+01,\n",
       "       1.42412382e+01, 1.47657584e+01, 1.51825360e+01, 1.54152564e+01,\n",
       "       1.54106799e+01, 1.51267395e+01, 1.46708126e+01, 1.41291701e+01,\n",
       "       1.34457543e+01, 1.26391738e+01, 1.18269370e+01, 1.09551316e+01,\n",
       "       1.01354074e+01, 9.29964172e+00, 8.43036426e+00, 7.54936463e+00,\n",
       "       6.66425341e+00, 5.83844712e+00, 5.04178009e+00, 4.20029861e+00,\n",
       "       3.45080772e+00, 2.86284243e+00, 2.42551267e+00, 2.09375260e+00,\n",
       "       1.80942062e+00, 1.57328099e+00, 1.34632652e+00, 1.14790389e+00,\n",
       "       9.88044001e-01, 8.43324148e-01, 6.90856598e-01, 5.70050163e-01,\n",
       "       4.80226559e-01])</pre></div></li><li class='xr-var-item'><div class='xr-var-name'><span>pitch</span></div><div class='xr-var-dims'>(time)</div><div class='xr-var-dtype'>float64</div><div class='xr-var-preview xr-preview'>3.9 3.902 3.904 ... 4.096 4.098 4.1</div><input id='attrs-2bd5e916-80ec-4c8b-b6d9-fddf85161782' class='xr-var-attrs-in' type='checkbox' ><label for='attrs-2bd5e916-80ec-4c8b-b6d9-fddf85161782' title='Show/Hide attributes'><svg class='icon xr-icon-file-text2'><use xlink:href='#icon-file-text2'></use></svg></label><input id='data-423cbab8-2aa9-4b67-98fd-fc7919d79397' class='xr-var-data-in' type='checkbox'><label for='data-423cbab8-2aa9-4b67-98fd-fc7919d79397' title='Show/Hide data repr'><svg class='icon xr-icon-database'><use xlink:href='#icon-database'></use></svg></label><div class='xr-var-attrs'><dl class='xr-attrs'><dt><span>object :</span></dt><dd>pitch</dd></dl></div><div class='xr-var-data'><pre>array([3.9  , 3.902, 3.904, 3.906, 3.908, 3.91 , 3.912, 3.914, 3.916,\n",
       "       3.918, 3.92 , 3.922, 3.924, 3.926, 3.928, 3.93 , 3.932, 3.934,\n",
       "       3.936, 3.938, 3.94 , 3.942, 3.944, 3.946, 3.948, 3.95 , 3.952,\n",
       "       3.954, 3.956, 3.958, 3.96 , 3.962, 3.964, 3.966, 3.968, 3.97 ,\n",
       "       3.972, 3.974, 3.976, 3.978, 3.98 , 3.982, 3.984, 3.986, 3.988,\n",
       "       3.99 , 3.992, 3.994, 3.996, 3.998, 4.   , 4.002, 4.004, 4.006,\n",
       "       4.008, 4.01 , 4.012, 4.014, 4.016, 4.018, 4.02 , 4.022, 4.024,\n",
       "       4.026, 4.028, 4.03 , 4.032, 4.034, 4.036, 4.038, 4.04 , 4.042,\n",
       "       4.044, 4.046, 4.048, 4.05 , 4.052, 4.054, 4.056, 4.058, 4.06 ,\n",
       "       4.062, 4.064, 4.066, 4.068, 4.07 , 4.072, 4.074, 4.076, 4.078,\n",
       "       4.08 , 4.082, 4.084, 4.086, 4.088, 4.09 , 4.092, 4.094, 4.096,\n",
       "       4.098, 4.1  ])</pre></div></li><li class='xr-var-item'><div class='xr-var-name'><span>pitch_setpoint</span></div><div class='xr-var-dims'>(time)</div><div class='xr-var-dtype'>float64</div><div class='xr-var-preview xr-preview'>3.9 3.902 3.904 ... 4.096 4.098 4.1</div><input id='attrs-ef4f798d-e048-476f-a665-4cc416946232' class='xr-var-attrs-in' type='checkbox' ><label for='attrs-ef4f798d-e048-476f-a665-4cc416946232' title='Show/Hide attributes'><svg class='icon xr-icon-file-text2'><use xlink:href='#icon-file-text2'></use></svg></label><input id='data-edabdbe7-9cbb-44d3-8286-5c391077fe98' class='xr-var-data-in' type='checkbox'><label for='data-edabdbe7-9cbb-44d3-8286-5c391077fe98' title='Show/Hide data repr'><svg class='icon xr-icon-database'><use xlink:href='#icon-database'></use></svg></label><div class='xr-var-attrs'><dl class='xr-attrs'><dt><span>object :</span></dt><dd>pitch</dd></dl></div><div class='xr-var-data'><pre>array([3.9  , 3.902, 3.904, 3.906, 3.908, 3.91 , 3.912, 3.914, 3.916,\n",
       "       3.918, 3.92 , 3.922, 3.924, 3.926, 3.928, 3.93 , 3.932, 3.934,\n",
       "       3.936, 3.938, 3.94 , 3.942, 3.944, 3.946, 3.948, 3.95 , 3.952,\n",
       "       3.954, 3.956, 3.958, 3.96 , 3.962, 3.964, 3.966, 3.968, 3.97 ,\n",
       "       3.972, 3.974, 3.976, 3.978, 3.98 , 3.982, 3.984, 3.986, 3.988,\n",
       "       3.99 , 3.992, 3.994, 3.996, 3.998, 4.   , 4.002, 4.004, 4.006,\n",
       "       4.008, 4.01 , 4.012, 4.014, 4.016, 4.018, 4.02 , 4.022, 4.024,\n",
       "       4.026, 4.028, 4.03 , 4.032, 4.034, 4.036, 4.038, 4.04 , 4.042,\n",
       "       4.044, 4.046, 4.048, 4.05 , 4.052, 4.054, 4.056, 4.058, 4.06 ,\n",
       "       4.062, 4.064, 4.066, 4.068, 4.07 , 4.072, 4.074, 4.076, 4.078,\n",
       "       4.08 , 4.082, 4.084, 4.086, 4.088, 4.09 , 4.092, 4.094, 4.096,\n",
       "       4.098, 4.1  ])</pre></div></li></ul></div></li><li class='xr-section-item'><input id='section-f7140e25-1800-4f60-8082-4222afd0dfd0' class='xr-section-summary-in' type='checkbox' disabled ><label for='section-f7140e25-1800-4f60-8082-4222afd0dfd0' class='xr-section-summary'  title='Expand/collapse section'>Attributes: <span>(0)</span></label><div class='xr-section-inline-details'></div><div class='xr-section-details'><dl class='xr-attrs'></dl></div></li></ul></div></div>"
      ],
      "text/plain": [
       "<xarray.Dataset>\n",
       "Dimensions:         (time: 101)\n",
       "Coordinates:\n",
       "  * time            (time) float64 1.613e+09 1.613e+09 ... 1.613e+09 1.613e+09\n",
       "Data variables:\n",
       "    I0              (time) float64 0.001037 0.001037 0.001037 ... 0.5701 0.4802\n",
       "    pitch           (time) float64 3.9 3.902 3.904 3.906 ... 4.096 4.098 4.1\n",
       "    pitch_setpoint  (time) float64 3.9 3.902 3.904 3.906 ... 4.096 4.098 4.1"
      ]
     },
     "execution_count": 1,
     "metadata": {},
     "output_type": "execute_result"
    }
   ],
   "source": [
    "data = run.primary.read()\n",
    "data"
   ]
  },
  {
   "cell_type": "markdown",
   "metadata": {},
   "source": [
    "Plot I0 vs pitch."
   ]
  },
  {
   "cell_type": "code",
   "execution_count": 8,
   "metadata": {
    "execution": {
     "iopub.execute_input": "2021-02-05T23:38:39.360165Z",
     "iopub.status.busy": "2021-02-05T23:38:39.359299Z",
     "iopub.status.idle": "2021-02-05T23:38:39.370532Z",
     "shell.execute_reply": "2021-02-05T23:38:39.369141Z"
    }
   },
   "outputs": [
    {
     "data": {
      "application/vnd.jupyter.widget-view+json": {
       "model_id": "8446191c3d3d490b9dd5120b6c11cf37",
       "version_major": 2,
       "version_minor": 0
      },
      "text/plain": [
       "Canvas(toolbar=Toolbar(toolitems=[('Home', 'Reset original view', 'home', 'home'), ('Back', 'Back to previous …"
      ]
     },
     "metadata": {},
     "output_type": "display_data"
    },
    {
     "data": {
      "text/plain": [
       "<Figure size 640x480 with 0 Axes>"
      ]
     },
     "execution_count": 1,
     "metadata": {},
     "output_type": "execute_result"
    }
   ],
   "source": [
    "plt.figure()  # New figure"
   ]
  },
  {
   "cell_type": "code",
   "execution_count": 9,
   "metadata": {
    "execution": {
     "iopub.execute_input": "2021-02-05T23:38:39.395097Z",
     "iopub.status.busy": "2021-02-05T23:38:39.394129Z",
     "iopub.status.idle": "2021-02-05T23:38:39.550699Z",
     "shell.execute_reply": "2021-02-05T23:38:39.549728Z"
    }
   },
   "outputs": [
    {
     "data": {
      "image/png": "[encoded data removed]",
      "text/plain": [
       "<Figure size 640x480 with 1 Axes>"
      ]
     },
     "execution_count": 1,
     "metadata": {},
     "output_type": "execute_result"
    }
   ],
   "source": [
    "data.plot.scatter(\"pitch\", \"I0\")\n",
    "plt.gcf()  # Display a snapshot of the current state of the figure."
   ]
  },
  {
   "cell_type": "markdown",
   "metadata": {},
   "source": [
    "We could have gone straight to the plot in one line by chaining all of this together."
   ]
  },
  {
   "cell_type": "code",
   "execution_count": 10,
   "metadata": {
    "execution": {
     "iopub.execute_input": "2021-02-05T23:38:39.555369Z",
     "iopub.status.busy": "2021-02-05T23:38:39.554498Z",
     "iopub.status.idle": "2021-02-05T23:38:39.702190Z",
     "shell.execute_reply": "2021-02-05T23:38:39.701255Z"
    }
   },
   "outputs": [
    {
     "data": {
      "image/png": "[encoded data removed]",
      "text/plain": [
       "<Figure size 640x480 with 1 Axes>"
      ]
     },
     "execution_count": 1,
     "metadata": {},
     "output_type": "execute_result"
    }
   ],
   "source": [
    "catalog[-1].primary.read().plot.scatter(\"pitch\", \"I0\")\n",
    "plt.gcf()  # Display a snapshot of the current state of the figure."
   ]
  },
  {
   "cell_type": "markdown",
   "metadata": {},
   "source": [
    "-----\n",
    "\n",
    "The variable `data` contains the result of our just completed rocking curve measurement. The type of this data is [xarray Dataset](http://xarray.pydata.org/en/stable/generated/xarray.Dataset.html).  In the following, we will work instead with a [pandas DataFrame](https://pandas.pydata.org/pandas-docs/stable/reference/api/pandas.DataFrame.html).  Here, we convert the xarray Dataset to a pandas DataFrame:"
   ]
  },
  {
   "cell_type": "code",
   "execution_count": 11,
   "metadata": {
    "execution": {
     "iopub.execute_input": "2021-02-05T23:38:39.709629Z",
     "iopub.status.busy": "2021-02-05T23:38:39.708758Z",
     "iopub.status.idle": "2021-02-05T23:38:39.723252Z",
     "shell.execute_reply": "2021-02-05T23:38:39.722725Z"
    }
   },
   "outputs": [
    {
     "data": {
      "text/html": [
       "<div>\n",
       "<style scoped>\n",
       "    .dataframe tbody tr th:only-of-type {\n",
       "        vertical-align: middle;\n",
       "    }\n",
       "\n",
       "    .dataframe tbody tr th {\n",
       "        vertical-align: top;\n",
       "    }\n",
       "\n",
       "    .dataframe thead th {\n",
       "        text-align: right;\n",
       "    }\n",
       "</style>\n",
       "<table border=\"1\" class=\"dataframe\">\n",
       "  <thead>\n",
       "    <tr style=\"text-align: right;\">\n",
       "      <th></th>\n",
       "      <th>I0</th>\n",
       "      <th>pitch</th>\n",
       "      <th>pitch_setpoint</th>\n",
       "    </tr>\n",
       "    <tr>\n",
       "      <th>time</th>\n",
       "      <th></th>\n",
       "      <th></th>\n",
       "      <th></th>\n",
       "    </tr>\n",
       "  </thead>\n",
       "  <tbody>\n",
       "    <tr>\n",
       "      <th>1.612568e+09</th>\n",
       "      <td>0.001037</td>\n",
       "      <td>3.900</td>\n",
       "      <td>3.900</td>\n",
       "    </tr>\n",
       "    <tr>\n",
       "      <th>1.612568e+09</th>\n",
       "      <td>0.001037</td>\n",
       "      <td>3.902</td>\n",
       "      <td>3.902</td>\n",
       "    </tr>\n",
       "    <tr>\n",
       "      <th>1.612568e+09</th>\n",
       "      <td>0.001037</td>\n",
       "      <td>3.904</td>\n",
       "      <td>3.904</td>\n",
       "    </tr>\n",
       "    <tr>\n",
       "      <th>1.612568e+09</th>\n",
       "      <td>0.000835</td>\n",
       "      <td>3.906</td>\n",
       "      <td>3.906</td>\n",
       "    </tr>\n",
       "    <tr>\n",
       "      <th>1.612568e+09</th>\n",
       "      <td>0.000925</td>\n",
       "      <td>3.908</td>\n",
       "      <td>3.908</td>\n",
       "    </tr>\n",
       "    <tr>\n",
       "      <th>...</th>\n",
       "      <td>...</td>\n",
       "      <td>...</td>\n",
       "      <td>...</td>\n",
       "    </tr>\n",
       "    <tr>\n",
       "      <th>1.612568e+09</th>\n",
       "      <td>0.988044</td>\n",
       "      <td>4.092</td>\n",
       "      <td>4.092</td>\n",
       "    </tr>\n",
       "    <tr>\n",
       "      <th>1.612568e+09</th>\n",
       "      <td>0.843324</td>\n",
       "      <td>4.094</td>\n",
       "      <td>4.094</td>\n",
       "    </tr>\n",
       "    <tr>\n",
       "      <th>1.612568e+09</th>\n",
       "      <td>0.690857</td>\n",
       "      <td>4.096</td>\n",
       "      <td>4.096</td>\n",
       "    </tr>\n",
       "    <tr>\n",
       "      <th>1.612568e+09</th>\n",
       "      <td>0.570050</td>\n",
       "      <td>4.098</td>\n",
       "      <td>4.098</td>\n",
       "    </tr>\n",
       "    <tr>\n",
       "      <th>1.612568e+09</th>\n",
       "      <td>0.480227</td>\n",
       "      <td>4.100</td>\n",
       "      <td>4.100</td>\n",
       "    </tr>\n",
       "  </tbody>\n",
       "</table>\n",
       "<p>101 rows × 3 columns</p>\n",
       "</div>"
      ],
      "text/plain": [
       "                    I0  pitch  pitch_setpoint\n",
       "time                                         \n",
       "1.612568e+09  0.001037  3.900           3.900\n",
       "1.612568e+09  0.001037  3.902           3.902\n",
       "1.612568e+09  0.001037  3.904           3.904\n",
       "1.612568e+09  0.000835  3.906           3.906\n",
       "1.612568e+09  0.000925  3.908           3.908\n",
       "...                ...    ...             ...\n",
       "1.612568e+09  0.988044  4.092           4.092\n",
       "1.612568e+09  0.843324  4.094           4.094\n",
       "1.612568e+09  0.690857  4.096           4.096\n",
       "1.612568e+09  0.570050  4.098           4.098\n",
       "1.612568e+09  0.480227  4.100           4.100\n",
       "\n",
       "[101 rows x 3 columns]"
      ]
     },
     "execution_count": 1,
     "metadata": {},
     "output_type": "execute_result"
    }
   ],
   "source": [
    "df = data.to_dataframe()\n",
    "df"
   ]
  },
  {
   "cell_type": "markdown",
   "metadata": {},
   "source": [
    "Let's take a slice out of that DataFrame so we can focus on the most relevant parts of this data record, i.e. the values of pitch throughout the scan and the beam intensity at each value of pitch (taken from a detector named `I0`):"
   ]
  },
  {
   "cell_type": "code",
   "execution_count": 12,
   "metadata": {
    "execution": {
     "iopub.execute_input": "2021-02-05T23:38:39.734703Z",
     "iopub.status.busy": "2021-02-05T23:38:39.734194Z",
     "iopub.status.idle": "2021-02-05T23:38:39.741024Z",
     "shell.execute_reply": "2021-02-05T23:38:39.740617Z"
    }
   },
   "outputs": [
    {
     "data": {
      "text/html": [
       "<div>\n",
       "<style scoped>\n",
       "    .dataframe tbody tr th:only-of-type {\n",
       "        vertical-align: middle;\n",
       "    }\n",
       "\n",
       "    .dataframe tbody tr th {\n",
       "        vertical-align: top;\n",
       "    }\n",
       "\n",
       "    .dataframe thead th {\n",
       "        text-align: right;\n",
       "    }\n",
       "</style>\n",
       "<table border=\"1\" class=\"dataframe\">\n",
       "  <thead>\n",
       "    <tr style=\"text-align: right;\">\n",
       "      <th></th>\n",
       "      <th>I0</th>\n",
       "      <th>pitch</th>\n",
       "    </tr>\n",
       "    <tr>\n",
       "      <th>time</th>\n",
       "      <th></th>\n",
       "      <th></th>\n",
       "    </tr>\n",
       "  </thead>\n",
       "  <tbody>\n",
       "    <tr>\n",
       "      <th>1.612568e+09</th>\n",
       "      <td>0.001037</td>\n",
       "      <td>3.900</td>\n",
       "    </tr>\n",
       "    <tr>\n",
       "      <th>1.612568e+09</th>\n",
       "      <td>0.001037</td>\n",
       "      <td>3.902</td>\n",
       "    </tr>\n",
       "    <tr>\n",
       "      <th>1.612568e+09</th>\n",
       "      <td>0.001037</td>\n",
       "      <td>3.904</td>\n",
       "    </tr>\n",
       "    <tr>\n",
       "      <th>1.612568e+09</th>\n",
       "      <td>0.000835</td>\n",
       "      <td>3.906</td>\n",
       "    </tr>\n",
       "    <tr>\n",
       "      <th>1.612568e+09</th>\n",
       "      <td>0.000925</td>\n",
       "      <td>3.908</td>\n",
       "    </tr>\n",
       "    <tr>\n",
       "      <th>...</th>\n",
       "      <td>...</td>\n",
       "      <td>...</td>\n",
       "    </tr>\n",
       "    <tr>\n",
       "      <th>1.612568e+09</th>\n",
       "      <td>0.988044</td>\n",
       "      <td>4.092</td>\n",
       "    </tr>\n",
       "    <tr>\n",
       "      <th>1.612568e+09</th>\n",
       "      <td>0.843324</td>\n",
       "      <td>4.094</td>\n",
       "    </tr>\n",
       "    <tr>\n",
       "      <th>1.612568e+09</th>\n",
       "      <td>0.690857</td>\n",
       "      <td>4.096</td>\n",
       "    </tr>\n",
       "    <tr>\n",
       "      <th>1.612568e+09</th>\n",
       "      <td>0.570050</td>\n",
       "      <td>4.098</td>\n",
       "    </tr>\n",
       "    <tr>\n",
       "      <th>1.612568e+09</th>\n",
       "      <td>0.480227</td>\n",
       "      <td>4.100</td>\n",
       "    </tr>\n",
       "  </tbody>\n",
       "</table>\n",
       "<p>101 rows × 2 columns</p>\n",
       "</div>"
      ],
      "text/plain": [
       "                    I0  pitch\n",
       "time                         \n",
       "1.612568e+09  0.001037  3.900\n",
       "1.612568e+09  0.001037  3.902\n",
       "1.612568e+09  0.001037  3.904\n",
       "1.612568e+09  0.000835  3.906\n",
       "1.612568e+09  0.000925  3.908\n",
       "...                ...    ...\n",
       "1.612568e+09  0.988044  4.092\n",
       "1.612568e+09  0.843324  4.094\n",
       "1.612568e+09  0.690857  4.096\n",
       "1.612568e+09  0.570050  4.098\n",
       "1.612568e+09  0.480227  4.100\n",
       "\n",
       "[101 rows x 2 columns]"
      ]
     },
     "execution_count": 1,
     "metadata": {},
     "output_type": "execute_result"
    }
   ],
   "source": [
    "measurement = df.loc[:, ['I0', 'pitch']]\n",
    "measurement"
   ]
  },
  {
   "cell_type": "markdown",
   "metadata": {},
   "source": [
    "### Moving to the peak of the rocking curve\n",
    "\n",
    "First we find the time index of the data point which has the highest `I0` value, i.e. the peak of the plot above."
   ]
  },
  {
   "cell_type": "code",
   "execution_count": 13,
   "metadata": {
    "execution": {
     "iopub.execute_input": "2021-02-05T23:38:39.746946Z",
     "iopub.status.busy": "2021-02-05T23:38:39.745565Z",
     "iopub.status.idle": "2021-02-05T23:38:39.750771Z",
     "shell.execute_reply": "2021-02-05T23:38:39.749854Z"
    }
   },
   "outputs": [
    {
     "data": {
      "text/plain": [
       "1612568317.1241188"
      ]
     },
     "execution_count": 1,
     "metadata": {},
     "output_type": "execute_result"
    }
   ],
   "source": [
    "i0max = measurement['I0'].idxmax()\n",
    "i0max"
   ]
  },
  {
   "cell_type": "markdown",
   "metadata": {},
   "source": [
    "Now we find the value of pitch at which the `I0` intensity was maximum:"
   ]
  },
  {
   "cell_type": "code",
   "execution_count": 14,
   "metadata": {
    "execution": {
     "iopub.execute_input": "2021-02-05T23:38:39.756357Z",
     "iopub.status.busy": "2021-02-05T23:38:39.754984Z",
     "iopub.status.idle": "2021-02-05T23:38:39.760501Z",
     "shell.execute_reply": "2021-02-05T23:38:39.759610Z"
    }
   },
   "outputs": [
    {
     "data": {
      "text/plain": [
       "4.042"
      ]
     },
     "execution_count": 1,
     "metadata": {},
     "output_type": "execute_result"
    }
   ],
   "source": [
    "optimal_pitch = measurement.loc[i0max, 'pitch']\n",
    "optimal_pitch"
   ]
  },
  {
   "cell_type": "markdown",
   "metadata": {},
   "source": [
    "Finally, we want to move the pitch motor to its optimal value.  In the `rocking_curve()` plan actually used at BMM, we have a line like:\n",
    "```\n",
    "RE(mv(pitch, optimal_pitch))\n",
    "```"
   ]
  },
  {
   "cell_type": "markdown",
   "metadata": {},
   "source": [
    "### Moving to the center of mass of the rocking curve\n",
    "\n",
    "SciPy's center of mass calculation is an N-dimensional generalization of the sort of gravitational center of mass calculation you might remember from your mechanics class in physics.  In this case, the `I0` values at each point of the measurement are used as the \"mass\" of each position in the array.  This way of optimizing the DCM second crystal position might be useful if the measured peak is highly assymetric.\n",
    "\n",
    "The center of mass calculation will return a real number, not an integer.  That is, the center of mass will be between two of the actual measured points.  The line below with `int(round( ... ))` returns the index closest to the center of mass, which we then move to.  Alternately, you could interpolate to the position of the actual center of mass, but we have opted for the simpler solution here."
   ]
  },
  {
   "cell_type": "code",
   "execution_count": 15,
   "metadata": {
    "execution": {
     "iopub.execute_input": "2021-02-05T23:38:39.766619Z",
     "iopub.status.busy": "2021-02-05T23:38:39.765285Z",
     "iopub.status.idle": "2021-02-05T23:38:39.770442Z",
     "shell.execute_reply": "2021-02-05T23:38:39.769518Z"
    }
   },
   "outputs": [
    {
     "data": {
      "text/plain": [
       "71"
      ]
     },
     "execution_count": 1,
     "metadata": {},
     "output_type": "execute_result"
    }
   ],
   "source": [
    "from scipy.ndimage.measurements import center_of_mass\n",
    "import numpy\n",
    "arr = numpy.array(measurement['I0'])\n",
    "val = int(round(center_of_mass(arr)[0]))\n",
    "val"
   ]
  },
  {
   "cell_type": "code",
   "execution_count": 16,
   "metadata": {
    "execution": {
     "iopub.execute_input": "2021-02-05T23:38:39.774218Z",
     "iopub.status.busy": "2021-02-05T23:38:39.773540Z",
     "iopub.status.idle": "2021-02-05T23:38:39.779284Z",
     "shell.execute_reply": "2021-02-05T23:38:39.779683Z"
    }
   },
   "outputs": [
    {
     "data": {
      "text/plain": [
       "4.042"
      ]
     },
     "execution_count": 1,
     "metadata": {},
     "output_type": "execute_result"
    }
   ],
   "source": [
    "optimal_pitch = measurement['pitch'].iloc[val]\n",
    "optimal_pitch"
   ]
  },
  {
   "cell_type": "markdown",
   "metadata": {},
   "source": [
    "Again, we want to move the pitch motor to its optimal value. So something like like:\n",
    "```\n",
    "RE(mv(pitch, optimal_pitch))\n",
    "```\n",
    "\n",
    "### Fitting a peak function to the rocking curve measurement\n",
    "\n",
    "Sometimes, when interpreting a peak-like function, it is preferable to bring some more prior knwoeldge to the interpretation.  If you know a line shape that provides a good physical description of the measurement, then fitting that line shape might provide you with more information.\n",
    "\n",
    "Here is how we use [lmfit](https://lmfit.github.io/lmfit-py/) to fit a simple skewed Gaussian model to our rocking curve measurement.\n",
    "\n",
    "First we convert the I0 and pitch columns of the DataFrame to NumPy arrays, which we then feed to lmfit's skewed Gaussian model.  From these, we guess initial parameters.  We run the fit, then print the results and prepare a plot showing those results.  Finally we set the `optimal_pitch` parameter for use in the same manner as for the peak and center-of-mass interpretations."
   ]
  },
  {
   "cell_type": "code",
   "execution_count": 17,
   "metadata": {
    "execution": {
     "iopub.execute_input": "2021-02-05T23:38:39.795674Z",
     "iopub.status.busy": "2021-02-05T23:38:39.794732Z",
     "iopub.status.idle": "2021-02-05T23:38:39.947885Z",
     "shell.execute_reply": "2021-02-05T23:38:39.948375Z"
    }
   },
   "outputs": [
    {
     "name": "stdout",
     "output_type": "stream",
     "text": [
      "[[Model]]\n",
      "    Model(skewed_gaussian)\n",
      "[[Fit Statistics]]\n",
      "    # fitting method   = leastsq\n",
      "    # function evals   = 42\n",
      "    # data points      = 101\n",
      "    # variables        = 4\n",
      "    chi-square         = 2.05327819\n",
      "    reduced chi-square = 0.02116782\n",
      "    Akaike info crit   = -385.463971\n",
      "    Bayesian info crit = -375.003489\n",
      "[[Variables]]\n",
      "    amplitude:  0.75779773 +/- 0.00212331 (0.28%) (init = 1.017352)\n",
      "    center:     4.04734352 +/- 0.00384230 (0.09%) (init = 4.042)\n",
      "    sigma:      0.02060087 +/- 9.6300e-04 (4.67%) (init = 0.022)\n",
      "    gamma:     -0.32026890 +/- 0.25962846 (81.07%) (init = 0)\n",
      "[[Correlations]] (unreported correlations are < 0.000)\n",
      "    C(center, gamma)     = -1.000\n",
      "    C(center, sigma)     =  0.998\n",
      "    C(sigma, gamma)      = -0.998\n",
      "    C(amplitude, sigma)  =  0.074\n",
      "    C(amplitude, center) =  0.037\n",
      "    C(amplitude, gamma)  = -0.035\n"
     ]
    },
    {
     "data": {
      "application/vnd.jupyter.widget-view+json": {
       "model_id": "fd9b511f4d1b48e19b8cf50c0feb27a0",
       "version_major": 2,
       "version_minor": 0
      },
      "text/plain": [
       "Canvas(toolbar=Toolbar(toolitems=[('Home', 'Reset original view', 'home', 'home'), ('Back', 'Back to previous …"
      ]
     },
     "metadata": {},
     "output_type": "display_data"
    },
    {
     "data": {
      "text/plain": [
       "4.047343524735657"
      ]
     },
     "execution_count": 1,
     "metadata": {},
     "output_type": "execute_result"
    }
   ],
   "source": [
    "from lmfit.models import SkewedGaussianModel\n",
    "signal = numpy.array(measurement['I0'])\n",
    "position = numpy.array(measurement['pitch'])\n",
    "mod = SkewedGaussianModel()\n",
    "pars = mod.guess(signal, x=position)\n",
    "out = mod.fit(signal, pars, x=position)\n",
    "print(out.fit_report(min_correl=0))\n",
    "out.plot()\n",
    "optimal_pitch = out.params[\"center\"].value\n",
    "optimal_pitch"
   ]
  },
  {
   "cell_type": "markdown",
   "metadata": {},
   "source": [
    "Finally, we move the pitch motor to its optimal value. So something like like:\n",
    "```\n",
    "RE(mv(pitch, optimal_pitch))\n",
    "```  \n",
    "We can examine the result of the fit by showing the plot:"
   ]
  },
  {
   "cell_type": "code",
   "execution_count": 18,
   "metadata": {
    "execution": {
     "iopub.execute_input": "2021-02-05T23:38:39.956616Z",
     "iopub.status.busy": "2021-02-05T23:38:39.951419Z",
     "iopub.status.idle": "2021-02-05T23:38:40.236626Z",
     "shell.execute_reply": "2021-02-05T23:38:40.236194Z"
    }
   },
   "outputs": [
    {
     "data": {
      "image/png": "[encoded data removed]",
      "text/plain": [
       "<Figure size 640x640 with 2 Axes>"
      ]
     },
     "execution_count": 1,
     "metadata": {},
     "output_type": "execute_result"
    }
   ],
   "source": [
    "plt.gcf()"
   ]
  },
  {
   "cell_type": "markdown",
   "metadata": {},
   "source": [
    "The peak and center-of-mass algorithms only return the optimal position.  An advantage of a fitted analysis of the measurement is that we terms for the amplitide, width, and (in this case) peak assymetry.  While we do not need those terms for the purpose of optimizing the rocking curve, in other situations that kind of information might be actionable in a plan like this one.\n",
    "\n",
    "-----\n",
    "\n",
    "## In conclusion\n",
    "\n",
    "At BMM, we usually run this rocking curve scan using the peak interpretation.  That is the default, so the plan is typically run like so:\n",
    "```\n",
    "RE(rocking_curve())\n",
    "```\n",
    "You can specify the kind of intepretation by using the `choice` argument.  This is equivalent to the default:\n",
    "```\n",
    "RE(rocking_curve(choice='peak'))\n",
    "```\n",
    "Here is the center of mass calculation:\n",
    "```\n",
    "RE(rocking_curve(choice='com'))\n",
    "```\n",
    "and here is the fitted interpretation:\n",
    "```\n",
    "RE(rocking_curve(choice='fit'))\n",
    "```\n",
    "\n",
    "You could go way back to the third step of this tutorial and give each a try.  You will find that the three give slightly different answers for the optimized position of the DCM second crystal.\n",
    "\n",
    "### Hierarchies of plans in BlueSky\n",
    "\n",
    "In truth, the rocking curve plan is rarely called directly either by staff or by users at BMM.  It is, nonetheless, used many times each day.  At BMM, we have a plan called `change_edge()` that is used to automate the reconfiguration of the beamline for measurements in different energy ranges.  This plan is how the staff and users typically perform the rocking curve chore.\n",
    "\n",
    "The `change_edge()` plan requires an argument specifying the element of the next experiment.  So, if we want to begin measuring the iron K edge of iron-bearing samples, we do:\n",
    "```\n",
    "RE(change_edge('Fe'))\n",
    "```\n",
    "This plan \n",
    "\n",
    "1. verifies that the photon delivery system is in the correct configuration for the specified energy range\n",
    "2. performs a rocking curve scan just like the one in this tutorial\n",
    "3. optimizes the position of the beam-definition slits\n",
    "4. makes sure detectors are properly configured to make measurements at the chosen absorption edge\n",
    "\n",
    "leaving the beamline completely optimized for measurement at the selected absorption edge.\n",
    "\n",
    "The reason such a magical plan is possible is because, in BlueSky, plans are composed of plans.  \n",
    "\n",
    "Just as the rocking curve plan is built from basic plans (specifically the `rel_scan()` and `mv()` plans), complex user-defined plans are composed of simpler user-defined plans.  At BMM, we have plans for each item `change_edge()` chore list.  Thus, the `change_edge()` plan is composed of these smaller plans such as `rocking_curve()`.  \n",
    "\n",
    "By building complicated plans out of well-tested, single-purpose plans, we are able to perform automation at the beamline in ways that make the beamline easy to operate for staff and users alike.  In fact, at BMM, we allow *and* encourage our users to run the `change_edge()` command all by themselves!\n"
   ]
  }
 ],
 "metadata": {
  "kernelspec": {
   "display_name": "Python 3",
   "language": "python",
   "name": "python3"
  },
  "language_info": {
   "codemirror_mode": {
    "name": "ipython",
    "version": 3
   },
   "file_extension": ".py",
   "mimetype": "text/x-python",
   "name": "python",
   "nbconvert_exporter": "python",
   "pygments_lexer": "ipython3",
   "version": "3.7.1"
  },
  "widgets": {
   "application/vnd.jupyter.widget-state+json": {
    "state": {
     "0ad9ab7fdef2426d9c4a0695cceed380": {
      "model_module": "jupyter-matplotlib",
      "model_module_version": "^0.8.3",
      "model_name": "ToolbarModel",
      "state": {
       "_current_action": "",
       "_dom_classes": [],
       "_model_module": "jupyter-matplotlib",
       "_model_module_version": "^0.8.3",
       "_model_name": "ToolbarModel",
       "_view_count": null,
       "_view_module": "jupyter-matplotlib",
       "_view_module_version": "^0.8.3",
       "_view_name": "ToolbarView",
       "button_style": "",
       "collapsed": true,
       "layout": "IPY_MODEL_7248face5c8346638bbf4667928ef6a6",
       "orientation": "vertical",
       "toolitems": [
        [
         "Home",
         "Reset original view",
         "home",
         "home"
        ],
        [
         "Back",
         "Back to previous view",
         "arrow-left",
         "back"
        ],
        [
         "Forward",
         "Forward to next view",
         "arrow-right",
         "forward"
        ],
        [
         "Pan",
         "Left button pans, Right button zooms\nx/y fixes axis, CTRL fixes aspect",
         "arrows",
         "pan"
        ],
        [
         "Zoom",
         "Zoom to rectangle\nx/y fixes axis, CTRL fixes aspect",
         "square-o",
         "zoom"
        ],
        [
         "Download",
         "Download plot",
         "floppy-o",
         "save_figure"
        ]
       ]
      }
     },
     "6ec92db9a42148dab5397a3fcc34cb6a": {
      "model_module": "@jupyter-widgets/base",
      "model_module_version": "1.2.0",
      "model_name": "LayoutModel",
      "state": {
       "_model_module": "@jupyter-widgets/base",
       "_model_module_version": "1.2.0",
       "_model_name": "LayoutModel",
       "_view_count": null,
       "_view_module": "@jupyter-widgets/base",
       "_view_module_version": "1.2.0",
       "_view_name": "LayoutView",
       "align_content": null,
       "align_items": null,
       "align_self": null,
       "border": null,
       "bottom": null,
       "display": null,
       "flex": null,
       "flex_flow": null,
       "grid_area": null,
       "grid_auto_columns": null,
       "grid_auto_flow": null,
       "grid_auto_rows": null,
       "grid_column": null,
       "grid_gap": null,
       "grid_row": null,
       "grid_template_areas": null,
       "grid_template_columns": null,
       "grid_template_rows": null,
       "height": null,
       "justify_content": null,
       "justify_items": null,
       "left": null,
       "margin": null,
       "max_height": null,
       "max_width": null,
       "min_height": null,
       "min_width": null,
       "object_fit": null,
       "object_position": null,
       "order": null,
       "overflow": null,
       "overflow_x": null,
       "overflow_y": null,
       "padding": null,
       "right": null,
       "top": null,
       "visibility": null,
       "width": null
      }
     },
     "7248face5c8346638bbf4667928ef6a6": {
      "model_module": "@jupyter-widgets/base",
      "model_module_version": "1.2.0",
      "model_name": "LayoutModel",
      "state": {
       "_model_module": "@jupyter-widgets/base",
       "_model_module_version": "1.2.0",
       "_model_name": "LayoutModel",
       "_view_count": null,
       "_view_module": "@jupyter-widgets/base",
       "_view_module_version": "1.2.0",
       "_view_name": "LayoutView",
       "align_content": null,
       "align_items": null,
       "align_self": null,
       "border": null,
       "bottom": null,
       "display": null,
       "flex": null,
       "flex_flow": null,
       "grid_area": null,
       "grid_auto_columns": null,
       "grid_auto_flow": null,
       "grid_auto_rows": null,
       "grid_column": null,
       "grid_gap": null,
       "grid_row": null,
       "grid_template_areas": null,
       "grid_template_columns": null,
       "grid_template_rows": null,
       "height": null,
       "justify_content": null,
       "justify_items": null,
       "left": null,
       "margin": null,
       "max_height": null,
       "max_width": null,
       "min_height": null,
       "min_width": null,
       "object_fit": null,
       "object_position": null,
       "order": null,
       "overflow": null,
       "overflow_x": null,
       "overflow_y": null,
       "padding": null,
       "right": null,
       "top": null,
       "visibility": null,
       "width": null
      }
     },
     "8446191c3d3d490b9dd5120b6c11cf37": {
      "model_module": "jupyter-matplotlib",
      "model_module_version": "^0.8.3",
      "model_name": "MPLCanvasModel",
      "state": {
       "_cursor": "pointer",
       "_dom_classes": [],
       "_figure_label": "Figure",
       "_height": 0,
       "_image_mode": "full",
       "_message": "",
       "_model_module": "jupyter-matplotlib",
       "_model_module_version": "^0.8.3",
       "_model_name": "MPLCanvasModel",
       "_rubberband_height": 0,
       "_rubberband_width": 0,
       "_rubberband_x": 0,
       "_rubberband_y": 0,
       "_view_count": null,
       "_view_module": "jupyter-matplotlib",
       "_view_module_version": "^0.8.3",
       "_view_name": "MPLCanvasView",
       "_width": 0,
       "capture_scroll": false,
       "footer_visible": true,
       "header_visible": true,
       "layout": "IPY_MODEL_90ee164f165743d3ac15f72d7f02cd0b",
       "resizable": true,
       "toolbar": "IPY_MODEL_acb0ac27f5464869956cf0b6482762f4",
       "toolbar_position": "left",
       "toolbar_visible": true
      }
     },
     "90ee164f165743d3ac15f72d7f02cd0b": {
      "model_module": "@jupyter-widgets/base",
      "model_module_version": "1.2.0",
      "model_name": "LayoutModel",
      "state": {
       "_model_module": "@jupyter-widgets/base",
       "_model_module_version": "1.2.0",
       "_model_name": "LayoutModel",
       "_view_count": null,
       "_view_module": "@jupyter-widgets/base",
       "_view_module_version": "1.2.0",
       "_view_name": "LayoutView",
       "align_content": null,
       "align_items": null,
       "align_self": null,
       "border": null,
       "bottom": null,
       "display": null,
       "flex": null,
       "flex_flow": null,
       "grid_area": null,
       "grid_auto_columns": null,
       "grid_auto_flow": null,
       "grid_auto_rows": null,
       "grid_column": null,
       "grid_gap": null,
       "grid_row": null,
       "grid_template_areas": null,
       "grid_template_columns": null,
       "grid_template_rows": null,
       "height": null,
       "justify_content": null,
       "justify_items": null,
       "left": null,
       "margin": null,
       "max_height": null,
       "max_width": null,
       "min_height": null,
       "min_width": null,
       "object_fit": null,
       "object_position": null,
       "order": null,
       "overflow": null,
       "overflow_x": null,
       "overflow_y": null,
       "padding": null,
       "right": null,
       "top": null,
       "visibility": null,
       "width": null
      }
     },
     "916650b937c644e5aeea937388fcaeb7": {
      "model_module": "jupyter-matplotlib",
      "model_module_version": "^0.8.3",
      "model_name": "MPLCanvasModel",
      "state": {
       "_cursor": "default",
       "_dom_classes": [],
       "_figure_label": "Figure",
       "_height": 0,
       "_image_mode": "diff",
       "_message": "",
       "_model_module": "jupyter-matplotlib",
       "_model_module_version": "^0.8.3",
       "_model_name": "MPLCanvasModel",
       "_rubberband_height": 0,
       "_rubberband_width": 0,
       "_rubberband_x": 0,
       "_rubberband_y": 0,
       "_view_count": null,
       "_view_module": "jupyter-matplotlib",
       "_view_module_version": "^0.8.3",
       "_view_name": "MPLCanvasView",
       "_width": 0,
       "capture_scroll": false,
       "footer_visible": true,
       "header_visible": true,
       "layout": "IPY_MODEL_ceb0c91e44f64772a93a6d4d3dbf3fee",
       "resizable": true,
       "toolbar": "IPY_MODEL_0ad9ab7fdef2426d9c4a0695cceed380",
       "toolbar_position": "left",
       "toolbar_visible": true
      }
     },
     "a6425a17c3ee4c6183762889184c2f82": {
      "model_module": "@jupyter-widgets/base",
      "model_module_version": "1.2.0",
      "model_name": "LayoutModel",
      "state": {
       "_model_module": "@jupyter-widgets/base",
       "_model_module_version": "1.2.0",
       "_model_name": "LayoutModel",
       "_view_count": null,
       "_view_module": "@jupyter-widgets/base",
       "_view_module_version": "1.2.0",
       "_view_name": "LayoutView",
       "align_content": null,
       "align_items": null,
       "align_self": null,
       "border": null,
       "bottom": null,
       "display": null,
       "flex": null,
       "flex_flow": null,
       "grid_area": null,
       "grid_auto_columns": null,
       "grid_auto_flow": null,
       "grid_auto_rows": null,
       "grid_column": null,
       "grid_gap": null,
       "grid_row": null,
       "grid_template_areas": null,
       "grid_template_columns": null,
       "grid_template_rows": null,
       "height": null,
       "justify_content": null,
       "justify_items": null,
       "left": null,
       "margin": null,
       "max_height": null,
       "max_width": null,
       "min_height": null,
       "min_width": null,
       "object_fit": null,
       "object_position": null,
       "order": null,
       "overflow": null,
       "overflow_x": null,
       "overflow_y": null,
       "padding": null,
       "right": null,
       "top": null,
       "visibility": null,
       "width": null
      }
     },
     "a8916b20c3484d8a874a2e634ed16aa0": {
      "model_module": "jupyter-matplotlib",
      "model_module_version": "^0.8.3",
      "model_name": "ToolbarModel",
      "state": {
       "_current_action": "",
       "_dom_classes": [],
       "_model_module": "jupyter-matplotlib",
       "_model_module_version": "^0.8.3",
       "_model_name": "ToolbarModel",
       "_view_count": null,
       "_view_module": "jupyter-matplotlib",
       "_view_module_version": "^0.8.3",
       "_view_name": "ToolbarView",
       "button_style": "",
       "collapsed": true,
       "layout": "IPY_MODEL_fc232db86a2b48cab0f68ef6405d6bc5",
       "orientation": "vertical",
       "toolitems": [
        [
         "Home",
         "Reset original view",
         "home",
         "home"
        ],
        [
         "Back",
         "Back to previous view",
         "arrow-left",
         "back"
        ],
        [
         "Forward",
         "Forward to next view",
         "arrow-right",
         "forward"
        ],
        [
         "Pan",
         "Left button pans, Right button zooms\nx/y fixes axis, CTRL fixes aspect",
         "arrows",
         "pan"
        ],
        [
         "Zoom",
         "Zoom to rectangle\nx/y fixes axis, CTRL fixes aspect",
         "square-o",
         "zoom"
        ],
        [
         "Download",
         "Download plot",
         "floppy-o",
         "save_figure"
        ]
       ]
      }
     },
     "acb0ac27f5464869956cf0b6482762f4": {
      "model_module": "jupyter-matplotlib",
      "model_module_version": "^0.8.3",
      "model_name": "ToolbarModel",
      "state": {
       "_current_action": "",
       "_dom_classes": [],
       "_model_module": "jupyter-matplotlib",
       "_model_module_version": "^0.8.3",
       "_model_name": "ToolbarModel",
       "_view_count": null,
       "_view_module": "jupyter-matplotlib",
       "_view_module_version": "^0.8.3",
       "_view_name": "ToolbarView",
       "button_style": "",
       "collapsed": true,
       "layout": "IPY_MODEL_6ec92db9a42148dab5397a3fcc34cb6a",
       "orientation": "vertical",
       "toolitems": [
        [
         "Home",
         "Reset original view",
         "home",
         "home"
        ],
        [
         "Back",
         "Back to previous view",
         "arrow-left",
         "back"
        ],
        [
         "Forward",
         "Forward to next view",
         "arrow-right",
         "forward"
        ],
        [
         "Pan",
         "Left button pans, Right button zooms\nx/y fixes axis, CTRL fixes aspect",
         "arrows",
         "pan"
        ],
        [
         "Zoom",
         "Zoom to rectangle\nx/y fixes axis, CTRL fixes aspect",
         "square-o",
         "zoom"
        ],
        [
         "Download",
         "Download plot",
         "floppy-o",
         "save_figure"
        ]
       ]
      }
     },
     "ceb0c91e44f64772a93a6d4d3dbf3fee": {
      "model_module": "@jupyter-widgets/base",
      "model_module_version": "1.2.0",
      "model_name": "LayoutModel",
      "state": {
       "_model_module": "@jupyter-widgets/base",
       "_model_module_version": "1.2.0",
       "_model_name": "LayoutModel",
       "_view_count": null,
       "_view_module": "@jupyter-widgets/base",
       "_view_module_version": "1.2.0",
       "_view_name": "LayoutView",
       "align_content": null,
       "align_items": null,
       "align_self": null,
       "border": null,
       "bottom": null,
       "display": null,
       "flex": null,
       "flex_flow": null,
       "grid_area": null,
       "grid_auto_columns": null,
       "grid_auto_flow": null,
       "grid_auto_rows": null,
       "grid_column": null,
       "grid_gap": null,
       "grid_row": null,
       "grid_template_areas": null,
       "grid_template_columns": null,
       "grid_template_rows": null,
       "height": null,
       "justify_content": null,
       "justify_items": null,
       "left": null,
       "margin": null,
       "max_height": null,
       "max_width": null,
       "min_height": null,
       "min_width": null,
       "object_fit": null,
       "object_position": null,
       "order": null,
       "overflow": null,
       "overflow_x": null,
       "overflow_y": null,
       "padding": null,
       "right": null,
       "top": null,
       "visibility": null,
       "width": null
      }
     },
     "fc232db86a2b48cab0f68ef6405d6bc5": {
      "model_module": "@jupyter-widgets/base",
      "model_module_version": "1.2.0",
      "model_name": "LayoutModel",
      "state": {
       "_model_module": "@jupyter-widgets/base",
       "_model_module_version": "1.2.0",
       "_model_name": "LayoutModel",
       "_view_count": null,
       "_view_module": "@jupyter-widgets/base",
       "_view_module_version": "1.2.0",
       "_view_name": "LayoutView",
       "align_content": null,
       "align_items": null,
       "align_self": null,
       "border": null,
       "bottom": null,
       "display": null,
       "flex": null,
       "flex_flow": null,
       "grid_area": null,
       "grid_auto_columns": null,
       "grid_auto_flow": null,
       "grid_auto_rows": null,
       "grid_column": null,
       "grid_gap": null,
       "grid_row": null,
       "grid_template_areas": null,
       "grid_template_columns": null,
       "grid_template_rows": null,
       "height": null,
       "justify_content": null,
       "justify_items": null,
       "left": null,
       "margin": null,
       "max_height": null,
       "max_width": null,
       "min_height": null,
       "min_width": null,
       "object_fit": null,
       "object_position": null,
       "order": null,
       "overflow": null,
       "overflow_x": null,
       "overflow_y": null,
       "padding": null,
       "right": null,
       "top": null,
       "visibility": null,
       "width": null
      }
     },
     "fd9b511f4d1b48e19b8cf50c0feb27a0": {
      "model_module": "jupyter-matplotlib",
      "model_module_version": "^0.8.3",
      "model_name": "MPLCanvasModel",
      "state": {
       "_cursor": "pointer",
       "_dom_classes": [],
       "_figure_label": "Figure",
       "_height": 0,
       "_image_mode": "full",
       "_message": "",
       "_model_module": "jupyter-matplotlib",
       "_model_module_version": "^0.8.3",
       "_model_name": "MPLCanvasModel",
       "_rubberband_height": 0,
       "_rubberband_width": 0,
       "_rubberband_x": 0,
       "_rubberband_y": 0,
       "_view_count": null,
       "_view_module": "jupyter-matplotlib",
       "_view_module_version": "^0.8.3",
       "_view_name": "MPLCanvasView",
       "_width": 0,
       "capture_scroll": false,
       "footer_visible": true,
       "header_visible": true,
       "layout": "IPY_MODEL_a6425a17c3ee4c6183762889184c2f82",
       "resizable": true,
       "toolbar": "IPY_MODEL_a8916b20c3484d8a874a2e634ed16aa0",
       "toolbar_position": "left",
       "toolbar_visible": true
      }
     }
    },
    "version_major": 2,
    "version_minor": 0
   }
  }
 },
 "nbformat": 4,
 "nbformat_minor": 4
}
