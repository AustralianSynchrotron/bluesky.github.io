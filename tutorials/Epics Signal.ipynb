{
 "cells": [
  {
   "cell_type": "markdown",
   "metadata": {},
   "source": [
    "# Epics Signal\n",
    "\n",
    "In this notebook you will:\n",
    "\n",
    "* Connect to some simulated hardware using `EpicsSignal`\n",
    "* Explore the `EpicsSignal` interface.\n",
    "\n",
    "Recommend Prerequisites:\n",
    "\n",
    "* [Hello Python and Jupyter](./Hello%20Python%20and%20Jupyter.ipynb)"
   ]
  },
  {
   "cell_type": "markdown",
   "metadata": {},
   "source": [
    "## Simulated Hardware\n",
    "Below, we will connect to EPICS IOC(s) controlling simulated hardware in lieu of actual motors, detectors. The IOCs should already be running in the background. Run this command to verify that they are running: it should produce output with RUNNING on each line. In the event of a problem, edit this command to replace `status` with `restart all` and run again."
   ]
  },
  {
   "cell_type": "code",
   "execution_count": 1,
   "metadata": {
    "execution": {
     "iopub.execute_input": "2021-02-05T23:34:20.270799Z",
     "iopub.status.busy": "2021-02-05T23:34:20.269914Z",
     "iopub.status.idle": "2021-02-05T23:34:20.599494Z",
     "shell.execute_reply": "2021-02-05T23:34:20.598937Z"
    }
   },
   "outputs": [
    {
     "name": "stdout",
     "output_type": "stream",
     "text": [
      "decay                            RUNNING   pid 4922, uptime 0:00:32\r\n",
      "mini_beamline                    RUNNING   pid 4923, uptime 0:00:32\r\n",
      "random_walk                      RUNNING   pid 4924, uptime 0:00:32\r\n",
      "random_walk_horiz                RUNNING   pid 4925, uptime 0:00:32\r\n",
      "random_walk_vert                 RUNNING   pid 4926, uptime 0:00:32\r\n",
      "simple                           RUNNING   pid 4927, uptime 0:00:32\r\n",
      "thermo_sim                       RUNNING   pid 4928, uptime 0:00:32\r\n",
      "trigger_with_pc                  FATAL     Exited too quickly (process log may have details)\r\n"
     ]
    }
   ],
   "source": [
    "!supervisorctl -c supervisor/supervisord.conf status"
   ]
  },
  {
   "cell_type": "markdown",
   "metadata": {},
   "source": [
    "## Hello, EpicsSignal\n",
    "\n",
    "An `EpicsSignal` is ophyd's representation of a single EPICS channel or a pair of channels, one readable and one writeable."
   ]
  },
  {
   "cell_type": "code",
   "execution_count": 2,
   "metadata": {
    "execution": {
     "iopub.execute_input": "2021-02-05T23:34:20.604730Z",
     "iopub.status.busy": "2021-02-05T23:34:20.603297Z",
     "iopub.status.idle": "2021-02-05T23:34:21.299981Z",
     "shell.execute_reply": "2021-02-05T23:34:21.300413Z"
    }
   },
   "outputs": [],
   "source": [
    "from ophyd import EpicsSignal"
   ]
  },
  {
   "cell_type": "code",
   "execution_count": 3,
   "metadata": {
    "execution": {
     "iopub.execute_input": "2021-02-05T23:34:21.304974Z",
     "iopub.status.busy": "2021-02-05T23:34:21.304474Z",
     "iopub.status.idle": "2021-02-05T23:34:21.307786Z",
     "shell.execute_reply": "2021-02-05T23:34:21.308199Z"
    }
   },
   "outputs": [],
   "source": [
    "a = EpicsSignal('simple:A', name='a')"
   ]
  },
  {
   "cell_type": "code",
   "execution_count": 4,
   "metadata": {
    "execution": {
     "iopub.execute_input": "2021-02-05T23:34:21.316701Z",
     "iopub.status.busy": "2021-02-05T23:34:21.316236Z",
     "iopub.status.idle": "2021-02-05T23:34:21.320239Z",
     "shell.execute_reply": "2021-02-05T23:34:21.320603Z"
    }
   },
   "outputs": [
    {
     "data": {
      "text/plain": [
       "EpicsSignal(read_pv='simple:A', name='a', timestamp=1612568061.3032012, auto_monitor=False, string=False, write_pv='simple:A', limits=False, put_complete=False)"
      ]
     },
     "execution_count": 1,
     "metadata": {},
     "output_type": "execute_result"
    }
   ],
   "source": [
    "a"
   ]
  },
  {
   "cell_type": "code",
   "execution_count": 5,
   "metadata": {
    "execution": {
     "iopub.execute_input": "2021-02-05T23:34:21.324933Z",
     "iopub.status.busy": "2021-02-05T23:34:21.324339Z",
     "iopub.status.idle": "2021-02-05T23:34:21.327111Z",
     "shell.execute_reply": "2021-02-05T23:34:21.327507Z"
    }
   },
   "outputs": [
    {
     "data": {
      "text/plain": [
       "'a'"
      ]
     },
     "execution_count": 1,
     "metadata": {},
     "output_type": "execute_result"
    }
   ],
   "source": [
    "a.name  # human-friendly label, which will be encoded in 'documents' emitted by bluesky"
   ]
  },
  {
   "cell_type": "code",
   "execution_count": 6,
   "metadata": {
    "execution": {
     "iopub.execute_input": "2021-02-05T23:34:21.330713Z",
     "iopub.status.busy": "2021-02-05T23:34:21.330105Z",
     "iopub.status.idle": "2021-02-05T23:34:21.341145Z",
     "shell.execute_reply": "2021-02-05T23:34:21.341509Z"
    }
   },
   "outputs": [],
   "source": [
    "a.wait_for_connection()"
   ]
  },
  {
   "cell_type": "code",
   "execution_count": 7,
   "metadata": {
    "execution": {
     "iopub.execute_input": "2021-02-05T23:34:21.346572Z",
     "iopub.status.busy": "2021-02-05T23:34:21.345352Z",
     "iopub.status.idle": "2021-02-05T23:34:21.348214Z",
     "shell.execute_reply": "2021-02-05T23:34:21.348618Z"
    }
   },
   "outputs": [
    {
     "data": {
      "text/plain": [
       "True"
      ]
     },
     "execution_count": 1,
     "metadata": {},
     "output_type": "execute_result"
    }
   ],
   "source": [
    "a.connected"
   ]
  },
  {
   "cell_type": "code",
   "execution_count": 8,
   "metadata": {
    "execution": {
     "iopub.execute_input": "2021-02-05T23:34:21.353797Z",
     "iopub.status.busy": "2021-02-05T23:34:21.352670Z",
     "iopub.status.idle": "2021-02-05T23:34:21.356061Z",
     "shell.execute_reply": "2021-02-05T23:34:21.356576Z"
    }
   },
   "outputs": [
    {
     "data": {
      "text/plain": [
       "1"
      ]
     },
     "execution_count": 1,
     "metadata": {},
     "output_type": "execute_result"
    }
   ],
   "source": [
    "a.get()"
   ]
  },
  {
   "cell_type": "code",
   "execution_count": 9,
   "metadata": {
    "execution": {
     "iopub.execute_input": "2021-02-05T23:34:21.362096Z",
     "iopub.status.busy": "2021-02-05T23:34:21.361508Z",
     "iopub.status.idle": "2021-02-05T23:34:21.364040Z",
     "shell.execute_reply": "2021-02-05T23:34:21.364429Z"
    }
   },
   "outputs": [
    {
     "data": {
      "text/plain": [
       "3"
      ]
     },
     "execution_count": 1,
     "metadata": {},
     "output_type": "execute_result"
    }
   ],
   "source": [
    "a.put(3)\n",
    "a.get()"
   ]
  },
  {
   "cell_type": "code",
   "execution_count": 10,
   "metadata": {
    "execution": {
     "iopub.execute_input": "2021-02-05T23:34:21.369674Z",
     "iopub.status.busy": "2021-02-05T23:34:21.368017Z",
     "iopub.status.idle": "2021-02-05T23:34:21.371864Z",
     "shell.execute_reply": "2021-02-05T23:34:21.372260Z"
    }
   },
   "outputs": [
    {
     "data": {
      "text/plain": [
       "{'a': {'value': 3, 'timestamp': 1612568061.3592}}"
      ]
     },
     "execution_count": 1,
     "metadata": {},
     "output_type": "execute_result"
    }
   ],
   "source": [
    "a.read()"
   ]
  },
  {
   "cell_type": "code",
   "execution_count": 11,
   "metadata": {
    "execution": {
     "iopub.execute_input": "2021-02-05T23:34:21.376887Z",
     "iopub.status.busy": "2021-02-05T23:34:21.376281Z",
     "iopub.status.idle": "2021-02-05T23:34:21.379020Z",
     "shell.execute_reply": "2021-02-05T23:34:21.379405Z"
    }
   },
   "outputs": [
    {
     "data": {
      "text/plain": [
       "{'a': {'source': 'PV:simple:A',\n",
       "  'dtype': 'integer',\n",
       "  'shape': [],\n",
       "  'units': '',\n",
       "  'lower_ctrl_limit': 0,\n",
       "  'upper_ctrl_limit': 0}}"
      ]
     },
     "execution_count": 1,
     "metadata": {},
     "output_type": "execute_result"
    }
   ],
   "source": [
    "a.describe()"
   ]
  },
  {
   "cell_type": "markdown",
   "metadata": {},
   "source": [
    "## Exercise\n",
    "\n",
    "Instaniate an `EpicsSignal` that is connect to some made-up PV that does not exist, as in:\n",
    "\n",
    "```py\n",
    "broken = EpicsSignal('THIS_IS_NOT_A_THING', name='broken')\n",
    "```\n",
    "\n",
    "What does `broken.connected` do? What about `broken.wait_for_connection()`? And `broken.read()`?"
   ]
  },
  {
   "cell_type": "code",
   "execution_count": null,
   "metadata": {},
   "outputs": [],
   "source": []
  },
  {
   "cell_type": "code",
   "execution_count": null,
   "metadata": {},
   "outputs": [],
   "source": []
  },
  {
   "cell_type": "code",
   "execution_count": null,
   "metadata": {},
   "outputs": [],
   "source": []
  },
  {
   "cell_type": "code",
   "execution_count": null,
   "metadata": {},
   "outputs": [],
   "source": []
  },
  {
   "cell_type": "markdown",
   "metadata": {},
   "source": [
    "## Read-only"
   ]
  },
  {
   "cell_type": "markdown",
   "metadata": {},
   "source": [
    "The `EpicsSignalRO` represents a read-only signal. It can't be put to."
   ]
  },
  {
   "cell_type": "code",
   "execution_count": 12,
   "metadata": {
    "execution": {
     "iopub.execute_input": "2021-02-05T23:34:21.384325Z",
     "iopub.status.busy": "2021-02-05T23:34:21.383038Z",
     "iopub.status.idle": "2021-02-05T23:34:21.385461Z",
     "shell.execute_reply": "2021-02-05T23:34:21.386338Z"
    }
   },
   "outputs": [],
   "source": [
    "from ophyd import EpicsSignalRO\n",
    "\n",
    "x = EpicsSignalRO('random_walk:x', name='x')"
   ]
  },
  {
   "cell_type": "code",
   "execution_count": 13,
   "metadata": {
    "execution": {
     "iopub.execute_input": "2021-02-05T23:34:21.391397Z",
     "iopub.status.busy": "2021-02-05T23:34:21.390654Z",
     "iopub.status.idle": "2021-02-05T23:34:21.399328Z",
     "shell.execute_reply": "2021-02-05T23:34:21.398829Z"
    }
   },
   "outputs": [
    {
     "data": {
      "text/plain": [
       "-2.624722132309728"
      ]
     },
     "execution_count": 1,
     "metadata": {},
     "output_type": "execute_result"
    }
   ],
   "source": [
    "x.get()"
   ]
  },
  {
   "cell_type": "markdown",
   "metadata": {},
   "source": [
    "Try putting a value to `x` It will raise a `ReadOnlyError`."
   ]
  },
  {
   "cell_type": "code",
   "execution_count": null,
   "metadata": {},
   "outputs": [],
   "source": []
  },
  {
   "cell_type": "markdown",
   "metadata": {},
   "source": [
    "## A read&ndash;write pair\n",
    "\n",
    "Sometimes the readback and setpoint are different PVs. We can group them into one `EpicsSignal`."
   ]
  },
  {
   "cell_type": "code",
   "execution_count": 14,
   "metadata": {
    "execution": {
     "iopub.execute_input": "2021-02-05T23:34:21.404463Z",
     "iopub.status.busy": "2021-02-05T23:34:21.403838Z",
     "iopub.status.idle": "2021-02-05T23:34:21.406595Z",
     "shell.execute_reply": "2021-02-05T23:34:21.406995Z"
    }
   },
   "outputs": [
    {
     "data": {
      "text/plain": [
       "EpicsSignal(read_pv='thermo:I', name='temp', timestamp=1612568061.4013352, auto_monitor=False, string=False, write_pv='thermo:SP', limits=False, put_complete=False)"
      ]
     },
     "execution_count": 1,
     "metadata": {},
     "output_type": "execute_result"
    }
   ],
   "source": [
    "temp = EpicsSignal('thermo:I', write_pv='thermo:SP', name='temp')\n",
    "temp"
   ]
  },
  {
   "cell_type": "code",
   "execution_count": 15,
   "metadata": {
    "execution": {
     "iopub.execute_input": "2021-02-05T23:34:21.410466Z",
     "iopub.status.busy": "2021-02-05T23:34:21.409664Z",
     "iopub.status.idle": "2021-02-05T23:34:21.468366Z",
     "shell.execute_reply": "2021-02-05T23:34:21.468797Z"
    }
   },
   "outputs": [
    {
     "data": {
      "text/plain": [
       "99.92939666367943"
      ]
     },
     "execution_count": 1,
     "metadata": {},
     "output_type": "execute_result"
    }
   ],
   "source": [
    "temp.get()"
   ]
  },
  {
   "cell_type": "code",
   "execution_count": 16,
   "metadata": {
    "execution": {
     "iopub.execute_input": "2021-02-05T23:34:21.472248Z",
     "iopub.status.busy": "2021-02-05T23:34:21.471776Z",
     "iopub.status.idle": "2021-02-05T23:34:21.475540Z",
     "shell.execute_reply": "2021-02-05T23:34:21.475110Z"
    }
   },
   "outputs": [],
   "source": [
    "temp.put(105)"
   ]
  },
  {
   "cell_type": "code",
   "execution_count": 17,
   "metadata": {
    "execution": {
     "iopub.execute_input": "2021-02-05T23:34:21.479594Z",
     "iopub.status.busy": "2021-02-05T23:34:21.478791Z",
     "iopub.status.idle": "2021-02-05T23:34:21.482467Z",
     "shell.execute_reply": "2021-02-05T23:34:21.481977Z"
    }
   },
   "outputs": [
    {
     "data": {
      "text/plain": [
       "99.92939666367943"
      ]
     },
     "execution_count": 1,
     "metadata": {},
     "output_type": "execute_result"
    }
   ],
   "source": [
    "temp.get()"
   ]
  },
  {
   "cell_type": "markdown",
   "metadata": {},
   "source": [
    "This IOC simulates the oscillations of a temperature controller and will take some time to settle to the desired value. Executing the cell above several times will return varied values. This illustrates the importance of tracking \"done\"-ness, which we will address in the tutorial on Devices."
   ]
  },
  {
   "cell_type": "markdown",
   "metadata": {},
   "source": [
    "More on `status` later."
   ]
  },
  {
   "cell_type": "markdown",
   "metadata": {},
   "source": [
    "## Subscribe\n",
    "\n",
    "The actions on an EPICS channel are:\n",
    "\n",
    "* read (get)\n",
    "* write (put)\n",
    "* monitor (subscribe, \"event add\")\n",
    "\n",
    "To subscribe is to say, \"Send me updates asynchronously whenever the value changes.\" To process these changes, we write a function that will be called each time a new value arrives and register than function with the Signal."
   ]
  },
  {
   "cell_type": "code",
   "execution_count": 18,
   "metadata": {
    "execution": {
     "iopub.execute_input": "2021-02-05T23:34:21.487599Z",
     "iopub.status.busy": "2021-02-05T23:34:21.486236Z",
     "iopub.status.idle": "2021-02-05T23:34:21.493651Z",
     "shell.execute_reply": "2021-02-05T23:34:21.492906Z"
    }
   },
   "outputs": [
    {
     "name": "stdout",
     "output_type": "stream",
     "text": [
      "Value changed from <object object at 0x7f8621220570> to -2.624722132309728.\n"
     ]
    }
   ],
   "source": [
    "x = EpicsSignal('random_walk:x', name='x')\n",
    "\n",
    "def callback(value, old_value, **kwargs):\n",
    "    print(f\"Value changed from {old_value} to {value}.\")\n",
    "    \n",
    "token = x.subscribe(callback)"
   ]
  },
  {
   "cell_type": "code",
   "execution_count": 19,
   "metadata": {
    "execution": {
     "iopub.execute_input": "2021-02-05T23:34:21.496924Z",
     "iopub.status.busy": "2021-02-05T23:34:21.496433Z",
     "iopub.status.idle": "2021-02-05T23:34:21.501095Z",
     "shell.execute_reply": "2021-02-05T23:34:21.501468Z"
    }
   },
   "outputs": [
    {
     "data": {
      "text/plain": [
       "0"
      ]
     },
     "execution_count": 1,
     "metadata": {},
     "output_type": "execute_result"
    }
   ],
   "source": [
    "token  # We can use this to unsubscribe."
   ]
  },
  {
   "cell_type": "code",
   "execution_count": 20,
   "metadata": {
    "execution": {
     "iopub.execute_input": "2021-02-05T23:34:21.504635Z",
     "iopub.status.busy": "2021-02-05T23:34:21.504171Z",
     "iopub.status.idle": "2021-02-05T23:34:21.507608Z",
     "shell.execute_reply": "2021-02-05T23:34:21.507190Z"
    }
   },
   "outputs": [],
   "source": [
    "x.unsubscribe(token)"
   ]
  },
  {
   "cell_type": "markdown",
   "metadata": {},
   "source": [
    "## Exercise\n",
    "\n",
    "Define and subscribe a callback that prints \"+\" when the value changes in the positive direction and \"-\" when it changes in the negative direction."
   ]
  },
  {
   "cell_type": "code",
   "execution_count": null,
   "metadata": {},
   "outputs": [],
   "source": []
  },
  {
   "cell_type": "code",
   "execution_count": 21,
   "metadata": {
    "execution": {
     "iopub.execute_input": "2021-02-05T23:34:21.511167Z",
     "iopub.status.busy": "2021-02-05T23:34:21.510701Z",
     "iopub.status.idle": "2021-02-05T23:34:21.533830Z",
     "shell.execute_reply": "2021-02-05T23:34:21.533011Z"
    }
   },
   "outputs": [],
   "source": [
    "%load solutions/callback_print_sign.py"
   ]
  },
  {
   "cell_type": "markdown",
   "metadata": {},
   "source": [
    "## `set` is `put` like with a way to know when the action is complete.\n",
    "\n",
    "`put` is the low-level method that actually communicates with hardware. `set` is a higher-level method that calls `put` and then tracks when the action initiated by `put` has completed, either by using Channel Access \"put completion\" or by polling the signal on a background thread."
   ]
  },
  {
   "cell_type": "code",
   "execution_count": 22,
   "metadata": {
    "execution": {
     "iopub.execute_input": "2021-02-05T23:34:21.537347Z",
     "iopub.status.busy": "2021-02-05T23:34:21.536653Z",
     "iopub.status.idle": "2021-02-05T23:34:21.539995Z",
     "shell.execute_reply": "2021-02-05T23:34:21.540386Z"
    }
   },
   "outputs": [],
   "source": [
    "temp.tolerance = 0.05"
   ]
  },
  {
   "cell_type": "code",
   "execution_count": 23,
   "metadata": {
    "execution": {
     "iopub.execute_input": "2021-02-05T23:34:21.544316Z",
     "iopub.status.busy": "2021-02-05T23:34:21.543562Z",
     "iopub.status.idle": "2021-02-05T23:34:21.548813Z",
     "shell.execute_reply": "2021-02-05T23:34:21.549441Z"
    }
   },
   "outputs": [],
   "source": [
    "status = temp.set(273)\n",
    "status.add_callback(lambda *args, **kwargs: print('done!'))\n",
    "# Wait several seconds and then 'done!' will be printed by a background thread."
   ]
  },
  {
   "cell_type": "markdown",
   "metadata": {},
   "source": [
    "More about `status` and exactly what is happening here in the notebook on `Device`."
   ]
  },
  {
   "cell_type": "markdown",
   "metadata": {},
   "source": [
    "## Accessing the PV name for debugging\n",
    "\n",
    "When we have *many* signals in play, it can be useful to as a Signal which PV it is connected to (or attempting to connect to)."
   ]
  },
  {
   "cell_type": "code",
   "execution_count": 24,
   "metadata": {
    "execution": {
     "iopub.execute_input": "2021-02-05T23:34:21.553394Z",
     "iopub.status.busy": "2021-02-05T23:34:21.552704Z",
     "iopub.status.idle": "2021-02-05T23:34:21.555431Z",
     "shell.execute_reply": "2021-02-05T23:34:21.555824Z"
    }
   },
   "outputs": [
    {
     "data": {
      "text/plain": [
       "'simple:A'"
      ]
     },
     "execution_count": 1,
     "metadata": {},
     "output_type": "execute_result"
    }
   ],
   "source": [
    "a.pvname  # PV name we gave above"
   ]
  },
  {
   "cell_type": "markdown",
   "metadata": {},
   "source": [
    "If ophyd is failing to connect, we can try to isolate the problem by using another Channel Access client like `caget` or `caproto-get`."
   ]
  },
  {
   "cell_type": "code",
   "execution_count": 25,
   "metadata": {
    "execution": {
     "iopub.execute_input": "2021-02-05T23:34:21.560580Z",
     "iopub.status.busy": "2021-02-05T23:34:21.559864Z",
     "iopub.status.idle": "2021-02-05T23:34:21.891027Z",
     "shell.execute_reply": "2021-02-05T23:34:21.891478Z"
    }
   },
   "outputs": [
    {
     "name": "stdout",
     "output_type": "stream",
     "text": [
      "simple:A                                  [3]\r\n"
     ]
    }
   ],
   "source": [
    "!caproto-get 'simple:A'"
   ]
  },
  {
   "cell_type": "markdown",
   "metadata": {},
   "source": [
    "We can add verbose output to learn more about which server this is from, etc."
   ]
  },
  {
   "cell_type": "code",
   "execution_count": 26,
   "metadata": {
    "execution": {
     "iopub.execute_input": "2021-02-05T23:34:21.900611Z",
     "iopub.status.busy": "2021-02-05T23:34:21.897669Z",
     "iopub.status.idle": "2021-02-05T23:34:22.232048Z",
     "shell.execute_reply": "2021-02-05T23:34:22.231557Z"
    }
   },
   "outputs": [
    {
     "name": "stdout",
     "output_type": "stream",
     "text": [
      "\u001b[34m[D 23:34:22.100       client:   57]\u001b[m Registering with the Channel Access repeater.\r\n",
      "\u001b[34m[D 23:34:22.101       client:   72]\u001b[m Searching for 'simple:A'....\r\n",
      "\u001b[34m[D 23:34:22.103       client:  131]\u001b[m Found 'simple:A' at 10.20.1.160:59092\r\n",
      "\u001b[34m[D 23:34:22.106       client:  185]\u001b[m 10.20.1.160:55900 <<<--- 10.20.1.160:59092 16B VersionResponse(version=13)\r\n",
      "\u001b[34m[D 23:34:22.106       client:  185]\u001b[m 10.20.1.160:55900 <<<--- 10.20.1.160:59092 16B AccessRightsResponse(cid=0, access_rights=<AccessRights.WRITE|READ: 3>)\r\n",
      "\u001b[34m[D 23:34:22.106       client:  185]\u001b[m 10.20.1.160:55900 <<<--- 10.20.1.160:59092 16B CreateChanResponse(data_type=<ChannelType.LONG: 5>, data_count=1, cid=0, sid=0)\r\n",
      "\u001b[32m[I 23:34:22.107       client:  189]\u001b[m simple:A Channel connected.\r\n",
      "\u001b[34m[D 23:34:22.107       client:  202]\u001b[m 10.20.1.160:59092 simple:A Detected native data_type <ChannelType.LONG: 5>.\r\n",
      "\u001b[34m[D 23:34:22.108       client:  226]\u001b[m 10.20.1.160:55900 <<<--- 10.20.1.160:59092 20B simple:A ReadNotifyResponse(data=array([3], dtype=int32), data_type=<ChannelType.LONG: 5>, data_count=1, status=CAStatusCode(name='ECA_NORMAL', code=0, code_with_severity=1, severity=<CASeverity.SUCCESS: 1>, success=1, defunct=False, description='Normal successful completion'), ioid=0, metadata=None)\r\n",
      "simple:A                                  [3]\r\n"
     ]
    }
   ],
   "source": [
    "!caproto-get -v 'simple:A'"
   ]
  },
  {
   "cell_type": "code",
   "execution_count": 27,
   "metadata": {
    "execution": {
     "iopub.execute_input": "2021-02-05T23:34:22.242675Z",
     "iopub.status.busy": "2021-02-05T23:34:22.238674Z",
     "iopub.status.idle": "2021-02-05T23:34:22.582948Z",
     "shell.execute_reply": "2021-02-05T23:34:22.582356Z"
    }
   },
   "outputs": [
    {
     "name": "stdout",
     "output_type": "stream",
     "text": [
      "\u001b[34m[D 23:34:22.446     repeater:  221]\u001b[m Another repeater is already running; will not spawn one.\r\n",
      "\u001b[34m[D 23:34:22.446       client:   57]\u001b[m Registering with the Channel Access repeater.\r\n",
      "\u001b[34m[D 23:34:22.446 _broadcaster:   94]\u001b[m (1 of 1) RepeaterRegisterRequest(client_address='0.0.0.0')\r\n",
      "\u001b[34m[D 23:34:22.447       _utils:  536]\u001b[m Netifaces unavailable; using 127.0.0.1 as local address\r\n",
      "\u001b[34m[D 23:34:22.448       client:   72]\u001b[m Searching for 'simple:A'....\r\n",
      "\u001b[34m[D 23:34:22.448 _broadcaster:   94]\u001b[m (1 of 2) VersionRequest(priority=0, version=13)\r\n",
      "\u001b[34m[D 23:34:22.448 _broadcaster:   92]\u001b[m (2 of 2) SearchRequest(name='simple:A', cid=0, version=13, reply=5)\r\n",
      "\u001b[34m[D 23:34:22.448       client:   86]\u001b[m 0.0.0.0:47978 --->>> 255.255.255.255:5064 2 commands 48B\r\n",
      "\u001b[34m[D 23:34:22.448 _broadcaster:  134]\u001b[m 0.0.0.0:47978 <<<--- 127.0.0.1:5065 16B RepeaterConfirmResponse(repeater_address='127.0.0.1')\r\n",
      "\u001b[34m[D 23:34:22.450 _broadcaster:  134]\u001b[m 0.0.0.0:47978 <<<--- 10.20.1.160:5064 16B VersionResponse(version=13)\r\n",
      "\u001b[34m[D 23:34:22.450 _broadcaster:  134]\u001b[m 0.0.0.0:47978 <<<--- 10.20.1.160:5064 24B SearchResponse(port=59092, ip='255.255.255.255', cid=0, version=13)\r\n",
      "\u001b[34m[D 23:34:22.450       client:  131]\u001b[m Found 'simple:A' at 10.20.1.160:59092\r\n"
     ]
    },
    {
     "name": "stdout",
     "output_type": "stream",
     "text": [
      "\u001b[34m[D 23:34:22.452     _circuit:  166]\u001b[m 10.20.1.160:55902 --->>> 10.20.1.160:59092 16B simple:A VersionRequest(priority=0, version=13)\r\n",
      "\u001b[34m[D 23:34:22.453     _circuit:  166]\u001b[m 10.20.1.160:55902 --->>> 10.20.1.160:59092 64B HostNameRequest(name='travis-job-e47a654b-a263-4919-9061-7ce83cad53de')\r\n",
      "\u001b[34m[D 23:34:22.453     _circuit:  166]\u001b[m 10.20.1.160:55902 --->>> 10.20.1.160:59092 24B ClientNameRequest(name='travis')\r\n",
      "\u001b[34m[D 23:34:22.453     _circuit:  166]\u001b[m 10.20.1.160:55902 --->>> 10.20.1.160:59092 32B simple:A CreateChanRequest(name='simple:A', cid=0, version=13)\r\n",
      "\u001b[34m[D 23:34:22.454       client:  185]\u001b[m 10.20.1.160:55902 <<<--- 10.20.1.160:59092 16B VersionResponse(version=13)\r\n",
      "\u001b[34m[D 23:34:22.455       client:  185]\u001b[m 10.20.1.160:55902 <<<--- 10.20.1.160:59092 16B AccessRightsResponse(cid=0, access_rights=<AccessRights.WRITE|READ: 3>)\r\n",
      "\u001b[34m[D 23:34:22.455       client:  185]\u001b[m 10.20.1.160:55902 <<<--- 10.20.1.160:59092 16B CreateChanResponse(data_type=<ChannelType.LONG: 5>, data_count=1, cid=0, sid=0)\r\n",
      "\u001b[32m[I 23:34:22.455       client:  189]\u001b[m simple:A Channel connected.\r\n",
      "\u001b[34m[D 23:34:22.455       client:  202]\u001b[m 10.20.1.160:59092 simple:A Detected native data_type <ChannelType.LONG: 5>.\r\n",
      "\u001b[34m[D 23:34:22.456     _circuit:  166]\u001b[m 10.20.1.160:55902 --->>> 10.20.1.160:59092 16B simple:A ReadNotifyRequest(data_type=<ChannelType.LONG: 5>, data_count=0, sid=0, ioid=0)\r\n",
      "\u001b[34m[D 23:34:22.458       client:  226]\u001b[m 10.20.1.160:55902 <<<--- 10.20.1.160:59092 20B simple:A ReadNotifyResponse(data=array([3], dtype=int32), data_type=<ChannelType.LONG: 5>, data_count=1, status=CAStatusCode(name='ECA_NORMAL', code=0, code_with_severity=1, severity=<CASeverity.SUCCESS: 1>, success=1, defunct=False, description='Normal successful completion'), ioid=0, metadata=None)\r\n",
      "\u001b[34m[D 23:34:22.458     _circuit:  166]\u001b[m 10.20.1.160:55902 --->>> 10.20.1.160:59092 16B simple:A ClearChannelRequest(sid=0, cid=0)\r\n",
      "simple:A                                  [3]\r\n"
     ]
    }
   ],
   "source": [
    "!caproto-get -vvv 'simple:A'"
   ]
  },
  {
   "cell_type": "markdown",
   "metadata": {},
   "source": [
    "## So many names\n",
    "\n",
    "In summary, we have:\n",
    "\n",
    "* The `pvname`, an address for machines\n",
    "* The `name`, a label for humans and downstream analysis code that wants `'temperature'` not `'PV:asdfoijefopefpoaewaopivjapoefijaeftep'`.\n",
    "* The name of the variable in Python, the name we use in the code. There could be multiple of these pointing to the same object, as in `a = b = EpicsSignal(...)`."
   ]
  }
 ],
 "metadata": {
  "kernelspec": {
   "display_name": "Python 3",
   "language": "python",
   "name": "python3"
  },
  "language_info": {
   "codemirror_mode": {
    "name": "ipython",
    "version": 3
   },
   "file_extension": ".py",
   "mimetype": "text/x-python",
   "name": "python",
   "nbconvert_exporter": "python",
   "pygments_lexer": "ipython3",
   "version": "3.7.1"
  }
 },
 "nbformat": 4,
 "nbformat_minor": 4
}
