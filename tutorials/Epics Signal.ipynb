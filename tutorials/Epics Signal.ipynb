{
 "cells": [
  {
   "cell_type": "markdown",
   "metadata": {},
   "source": [
    "# Epics Signal\n",
    "\n",
    "In this notebook you will:\n",
    "\n",
    "* Connect to some simulated hardware using `EpicsSignal`\n",
    "* Explore the `EpicsSignal` interface.\n",
    "\n",
    "Recommend Prerequisites:\n",
    "\n",
    "* [Hello Python and Jupyter](./Hello%20Python%20and%20Jupyter.ipynb)"
   ]
  },
  {
   "cell_type": "markdown",
   "metadata": {},
   "source": [
    "## Simulated Hardware\n",
    "Below, we will connect to EPICS IOC(s) controlling simulated hardware in lieu of actual motors, detectors. The IOCs should already be running in the background. Run this command to verify that they are running: it should produce output with RUNNING on each line. In the event of a problem, edit this command to replace `status` with `restart all` and run again."
   ]
  },
  {
   "cell_type": "code",
   "execution_count": 1,
   "metadata": {
    "execution": {
     "iopub.execute_input": "2021-03-28T22:27:44.593540Z",
     "iopub.status.busy": "2021-03-28T22:27:44.592686Z",
     "iopub.status.idle": "2021-03-28T22:27:44.918960Z",
     "shell.execute_reply": "2021-03-28T22:27:44.918132Z"
    }
   },
   "outputs": [
    {
     "name": "stdout",
     "output_type": "stream",
     "text": [
      "decay                            RUNNING   pid 4895, uptime 0:00:28\r\n",
      "mini_beamline                    RUNNING   pid 4896, uptime 0:00:28\r\n",
      "random_walk                      RUNNING   pid 4897, uptime 0:00:28\r\n",
      "random_walk_horiz                RUNNING   pid 4898, uptime 0:00:28\r\n",
      "random_walk_vert                 RUNNING   pid 4899, uptime 0:00:28\r\n",
      "simple                           RUNNING   pid 4900, uptime 0:00:28\r\n",
      "thermo_sim                       RUNNING   pid 4901, uptime 0:00:28\r\n",
      "trigger_with_pc                  FATAL     Exited too quickly (process log may have details)\r\n"
     ]
    }
   ],
   "source": [
    "!supervisorctl -c supervisor/supervisord.conf status"
   ]
  },
  {
   "cell_type": "markdown",
   "metadata": {},
   "source": [
    "## Hello, EpicsSignal\n",
    "\n",
    "An `EpicsSignal` is ophyd's representation of a single EPICS channel or a pair of channels, one readable and one writeable."
   ]
  },
  {
   "cell_type": "code",
   "execution_count": 2,
   "metadata": {
    "execution": {
     "iopub.execute_input": "2021-03-28T22:27:44.924114Z",
     "iopub.status.busy": "2021-03-28T22:27:44.923029Z",
     "iopub.status.idle": "2021-03-28T22:27:45.615602Z",
     "shell.execute_reply": "2021-03-28T22:27:45.614733Z"
    }
   },
   "outputs": [],
   "source": [
    "from ophyd import EpicsSignal"
   ]
  },
  {
   "cell_type": "code",
   "execution_count": 3,
   "metadata": {
    "execution": {
     "iopub.execute_input": "2021-03-28T22:27:45.619692Z",
     "iopub.status.busy": "2021-03-28T22:27:45.619209Z",
     "iopub.status.idle": "2021-03-28T22:27:45.623542Z",
     "shell.execute_reply": "2021-03-28T22:27:45.622679Z"
    }
   },
   "outputs": [],
   "source": [
    "a = EpicsSignal('simple:A', name='a')"
   ]
  },
  {
   "cell_type": "code",
   "execution_count": 4,
   "metadata": {
    "execution": {
     "iopub.execute_input": "2021-03-28T22:27:45.631942Z",
     "iopub.status.busy": "2021-03-28T22:27:45.631486Z",
     "iopub.status.idle": "2021-03-28T22:27:45.636350Z",
     "shell.execute_reply": "2021-03-28T22:27:45.635944Z"
    }
   },
   "outputs": [
    {
     "data": {
      "text/plain": [
       "EpicsSignal(read_pv='simple:A', name='a', timestamp=1616970465.6181235, auto_monitor=False, string=False, write_pv='simple:A', limits=False, put_complete=False)"
      ]
     },
     "execution_count": 1,
     "metadata": {},
     "output_type": "execute_result"
    }
   ],
   "source": [
    "a"
   ]
  },
  {
   "cell_type": "code",
   "execution_count": 5,
   "metadata": {
    "execution": {
     "iopub.execute_input": "2021-03-28T22:27:45.639892Z",
     "iopub.status.busy": "2021-03-28T22:27:45.639439Z",
     "iopub.status.idle": "2021-03-28T22:27:45.643925Z",
     "shell.execute_reply": "2021-03-28T22:27:45.644293Z"
    }
   },
   "outputs": [
    {
     "data": {
      "text/plain": [
       "'a'"
      ]
     },
     "execution_count": 1,
     "metadata": {},
     "output_type": "execute_result"
    }
   ],
   "source": [
    "a.name  # human-friendly label, which will be encoded in 'documents' emitted by bluesky"
   ]
  },
  {
   "cell_type": "code",
   "execution_count": 6,
   "metadata": {
    "execution": {
     "iopub.execute_input": "2021-03-28T22:27:45.651798Z",
     "iopub.status.busy": "2021-03-28T22:27:45.651018Z",
     "iopub.status.idle": "2021-03-28T22:27:45.659342Z",
     "shell.execute_reply": "2021-03-28T22:27:45.658918Z"
    }
   },
   "outputs": [],
   "source": [
    "a.wait_for_connection()"
   ]
  },
  {
   "cell_type": "code",
   "execution_count": 7,
   "metadata": {
    "execution": {
     "iopub.execute_input": "2021-03-28T22:27:45.663280Z",
     "iopub.status.busy": "2021-03-28T22:27:45.662476Z",
     "iopub.status.idle": "2021-03-28T22:27:45.665882Z",
     "shell.execute_reply": "2021-03-28T22:27:45.665471Z"
    }
   },
   "outputs": [
    {
     "data": {
      "text/plain": [
       "True"
      ]
     },
     "execution_count": 1,
     "metadata": {},
     "output_type": "execute_result"
    }
   ],
   "source": [
    "a.connected"
   ]
  },
  {
   "cell_type": "code",
   "execution_count": 8,
   "metadata": {
    "execution": {
     "iopub.execute_input": "2021-03-28T22:27:45.669349Z",
     "iopub.status.busy": "2021-03-28T22:27:45.668871Z",
     "iopub.status.idle": "2021-03-28T22:27:45.674381Z",
     "shell.execute_reply": "2021-03-28T22:27:45.673954Z"
    }
   },
   "outputs": [
    {
     "data": {
      "text/plain": [
       "1"
      ]
     },
     "execution_count": 1,
     "metadata": {},
     "output_type": "execute_result"
    }
   ],
   "source": [
    "a.get()"
   ]
  },
  {
   "cell_type": "code",
   "execution_count": 9,
   "metadata": {
    "execution": {
     "iopub.execute_input": "2021-03-28T22:27:45.678081Z",
     "iopub.status.busy": "2021-03-28T22:27:45.677294Z",
     "iopub.status.idle": "2021-03-28T22:27:45.682286Z",
     "shell.execute_reply": "2021-03-28T22:27:45.681899Z"
    }
   },
   "outputs": [
    {
     "data": {
      "text/plain": [
       "3"
      ]
     },
     "execution_count": 1,
     "metadata": {},
     "output_type": "execute_result"
    }
   ],
   "source": [
    "a.put(3)\n",
    "a.get()"
   ]
  },
  {
   "cell_type": "code",
   "execution_count": 10,
   "metadata": {
    "execution": {
     "iopub.execute_input": "2021-03-28T22:27:45.686276Z",
     "iopub.status.busy": "2021-03-28T22:27:45.685111Z",
     "iopub.status.idle": "2021-03-28T22:27:45.689500Z",
     "shell.execute_reply": "2021-03-28T22:27:45.689120Z"
    }
   },
   "outputs": [
    {
     "data": {
      "text/plain": [
       "{'a': {'value': 3, 'timestamp': 1616970465.676961}}"
      ]
     },
     "execution_count": 1,
     "metadata": {},
     "output_type": "execute_result"
    }
   ],
   "source": [
    "a.read()"
   ]
  },
  {
   "cell_type": "code",
   "execution_count": 11,
   "metadata": {
    "execution": {
     "iopub.execute_input": "2021-03-28T22:27:45.693411Z",
     "iopub.status.busy": "2021-03-28T22:27:45.692814Z",
     "iopub.status.idle": "2021-03-28T22:27:45.695816Z",
     "shell.execute_reply": "2021-03-28T22:27:45.695415Z"
    }
   },
   "outputs": [
    {
     "data": {
      "text/plain": [
       "{'a': {'source': 'PV:simple:A',\n",
       "  'dtype': 'integer',\n",
       "  'shape': [],\n",
       "  'units': '',\n",
       "  'lower_ctrl_limit': 0,\n",
       "  'upper_ctrl_limit': 0}}"
      ]
     },
     "execution_count": 1,
     "metadata": {},
     "output_type": "execute_result"
    }
   ],
   "source": [
    "a.describe()"
   ]
  },
  {
   "cell_type": "markdown",
   "metadata": {},
   "source": [
    "## Exercise\n",
    "\n",
    "Instaniate an `EpicsSignal` that is connect to some made-up PV that does not exist, as in:\n",
    "\n",
    "```py\n",
    "broken = EpicsSignal('THIS_IS_NOT_A_THING', name='broken')\n",
    "```\n",
    "\n",
    "What does `broken.connected` do? What about `broken.wait_for_connection()`? And `broken.read()`?"
   ]
  },
  {
   "cell_type": "code",
   "execution_count": null,
   "metadata": {},
   "outputs": [],
   "source": []
  },
  {
   "cell_type": "code",
   "execution_count": null,
   "metadata": {},
   "outputs": [],
   "source": []
  },
  {
   "cell_type": "code",
   "execution_count": null,
   "metadata": {},
   "outputs": [],
   "source": []
  },
  {
   "cell_type": "code",
   "execution_count": null,
   "metadata": {},
   "outputs": [],
   "source": []
  },
  {
   "cell_type": "markdown",
   "metadata": {},
   "source": [
    "## Read-only"
   ]
  },
  {
   "cell_type": "markdown",
   "metadata": {},
   "source": [
    "The `EpicsSignalRO` represents a read-only signal. It can't be put to."
   ]
  },
  {
   "cell_type": "code",
   "execution_count": 12,
   "metadata": {
    "execution": {
     "iopub.execute_input": "2021-03-28T22:27:45.702319Z",
     "iopub.status.busy": "2021-03-28T22:27:45.699517Z",
     "iopub.status.idle": "2021-03-28T22:27:45.703701Z",
     "shell.execute_reply": "2021-03-28T22:27:45.704098Z"
    }
   },
   "outputs": [],
   "source": [
    "from ophyd import EpicsSignalRO\n",
    "\n",
    "x = EpicsSignalRO('random_walk:x', name='x')"
   ]
  },
  {
   "cell_type": "code",
   "execution_count": 13,
   "metadata": {
    "execution": {
     "iopub.execute_input": "2021-03-28T22:27:45.707068Z",
     "iopub.status.busy": "2021-03-28T22:27:45.706322Z",
     "iopub.status.idle": "2021-03-28T22:27:45.715426Z",
     "shell.execute_reply": "2021-03-28T22:27:45.715043Z"
    }
   },
   "outputs": [
    {
     "data": {
      "text/plain": [
       "-1.8114512679142807"
      ]
     },
     "execution_count": 1,
     "metadata": {},
     "output_type": "execute_result"
    }
   ],
   "source": [
    "x.get()"
   ]
  },
  {
   "cell_type": "markdown",
   "metadata": {},
   "source": [
    "Try putting a value to `x` It will raise a `ReadOnlyError`."
   ]
  },
  {
   "cell_type": "code",
   "execution_count": null,
   "metadata": {},
   "outputs": [],
   "source": []
  },
  {
   "cell_type": "markdown",
   "metadata": {},
   "source": [
    "## A read&ndash;write pair\n",
    "\n",
    "Sometimes the readback and setpoint are different PVs. We can group them into one `EpicsSignal`."
   ]
  },
  {
   "cell_type": "code",
   "execution_count": 14,
   "metadata": {
    "execution": {
     "iopub.execute_input": "2021-03-28T22:27:45.719445Z",
     "iopub.status.busy": "2021-03-28T22:27:45.718982Z",
     "iopub.status.idle": "2021-03-28T22:27:45.723592Z",
     "shell.execute_reply": "2021-03-28T22:27:45.723979Z"
    }
   },
   "outputs": [
    {
     "data": {
      "text/plain": [
       "EpicsSignal(read_pv='thermo:I', name='temp', timestamp=1616970465.7174015, auto_monitor=False, string=False, write_pv='thermo:SP', limits=False, put_complete=False)"
      ]
     },
     "execution_count": 1,
     "metadata": {},
     "output_type": "execute_result"
    }
   ],
   "source": [
    "temp = EpicsSignal('thermo:I', write_pv='thermo:SP', name='temp')\n",
    "temp"
   ]
  },
  {
   "cell_type": "code",
   "execution_count": 15,
   "metadata": {
    "execution": {
     "iopub.execute_input": "2021-03-28T22:27:45.734234Z",
     "iopub.status.busy": "2021-03-28T22:27:45.730722Z",
     "iopub.status.idle": "2021-03-28T22:27:45.779506Z",
     "shell.execute_reply": "2021-03-28T22:27:45.779899Z"
    }
   },
   "outputs": [
    {
     "data": {
      "text/plain": [
       "99.64173286926801"
      ]
     },
     "execution_count": 1,
     "metadata": {},
     "output_type": "execute_result"
    }
   ],
   "source": [
    "temp.get()"
   ]
  },
  {
   "cell_type": "code",
   "execution_count": 16,
   "metadata": {
    "execution": {
     "iopub.execute_input": "2021-03-28T22:27:45.783523Z",
     "iopub.status.busy": "2021-03-28T22:27:45.783029Z",
     "iopub.status.idle": "2021-03-28T22:27:45.785262Z",
     "shell.execute_reply": "2021-03-28T22:27:45.785642Z"
    }
   },
   "outputs": [],
   "source": [
    "temp.put(105)"
   ]
  },
  {
   "cell_type": "code",
   "execution_count": 17,
   "metadata": {
    "execution": {
     "iopub.execute_input": "2021-03-28T22:27:45.790516Z",
     "iopub.status.busy": "2021-03-28T22:27:45.789480Z",
     "iopub.status.idle": "2021-03-28T22:27:45.792982Z",
     "shell.execute_reply": "2021-03-28T22:27:45.793542Z"
    }
   },
   "outputs": [
    {
     "data": {
      "text/plain": [
       "99.64173286926801"
      ]
     },
     "execution_count": 1,
     "metadata": {},
     "output_type": "execute_result"
    }
   ],
   "source": [
    "temp.get()"
   ]
  },
  {
   "cell_type": "markdown",
   "metadata": {},
   "source": [
    "This IOC simulates the oscillations of a temperature controller and will take some time to settle to the desired value. Executing the cell above several times will return varied values. This illustrates the importance of tracking \"done\"-ness, which we will address in the tutorial on Devices."
   ]
  },
  {
   "cell_type": "markdown",
   "metadata": {},
   "source": [
    "More on `status` later."
   ]
  },
  {
   "cell_type": "markdown",
   "metadata": {},
   "source": [
    "## Subscribe\n",
    "\n",
    "The actions on an EPICS channel are:\n",
    "\n",
    "* read (get)\n",
    "* write (put)\n",
    "* monitor (subscribe, \"event add\")\n",
    "\n",
    "To subscribe is to say, \"Send me updates asynchronously whenever the value changes.\" To process these changes, we write a function that will be called each time a new value arrives and register than function with the Signal."
   ]
  },
  {
   "cell_type": "code",
   "execution_count": 18,
   "metadata": {
    "execution": {
     "iopub.execute_input": "2021-03-28T22:27:45.800514Z",
     "iopub.status.busy": "2021-03-28T22:27:45.799917Z",
     "iopub.status.idle": "2021-03-28T22:27:45.802543Z",
     "shell.execute_reply": "2021-03-28T22:27:45.802951Z"
    }
   },
   "outputs": [
    {
     "name": "stdout",
     "output_type": "stream",
     "text": [
      "Value changed from <object object at 0x7fbed56115d0> to -1.8114512679142807.\n",
      "Value changed from -1.8114512679142807 to -1.8114512679142807.\n"
     ]
    }
   ],
   "source": [
    "x = EpicsSignal('random_walk:x', name='x')\n",
    "\n",
    "def callback(value, old_value, **kwargs):\n",
    "    print(f\"Value changed from {old_value} to {value}.\")\n",
    "    \n",
    "token = x.subscribe(callback)"
   ]
  },
  {
   "cell_type": "code",
   "execution_count": 19,
   "metadata": {
    "execution": {
     "iopub.execute_input": "2021-03-28T22:27:45.807145Z",
     "iopub.status.busy": "2021-03-28T22:27:45.806529Z",
     "iopub.status.idle": "2021-03-28T22:27:45.809351Z",
     "shell.execute_reply": "2021-03-28T22:27:45.809743Z"
    }
   },
   "outputs": [
    {
     "data": {
      "text/plain": [
       "0"
      ]
     },
     "execution_count": 1,
     "metadata": {},
     "output_type": "execute_result"
    }
   ],
   "source": [
    "token  # We can use this to unsubscribe."
   ]
  },
  {
   "cell_type": "code",
   "execution_count": 20,
   "metadata": {
    "execution": {
     "iopub.execute_input": "2021-03-28T22:27:45.813867Z",
     "iopub.status.busy": "2021-03-28T22:27:45.812588Z",
     "iopub.status.idle": "2021-03-28T22:27:45.814629Z",
     "shell.execute_reply": "2021-03-28T22:27:45.815022Z"
    }
   },
   "outputs": [],
   "source": [
    "x.unsubscribe(token)"
   ]
  },
  {
   "cell_type": "markdown",
   "metadata": {},
   "source": [
    "## Exercise\n",
    "\n",
    "Define and subscribe a callback that prints \"+\" when the value changes in the positive direction and \"-\" when it changes in the negative direction."
   ]
  },
  {
   "cell_type": "code",
   "execution_count": null,
   "metadata": {},
   "outputs": [],
   "source": []
  },
  {
   "cell_type": "code",
   "execution_count": 21,
   "metadata": {
    "execution": {
     "iopub.execute_input": "2021-03-28T22:27:45.818308Z",
     "iopub.status.busy": "2021-03-28T22:27:45.817860Z",
     "iopub.status.idle": "2021-03-28T22:27:45.833553Z",
     "shell.execute_reply": "2021-03-28T22:27:45.833964Z"
    }
   },
   "outputs": [],
   "source": [
    "%load solutions/callback_print_sign.py"
   ]
  },
  {
   "cell_type": "markdown",
   "metadata": {},
   "source": [
    "## `set` is `put` like with a way to know when the action is complete.\n",
    "\n",
    "`put` is the low-level method that actually communicates with hardware. `set` is a higher-level method that calls `put` and then tracks when the action initiated by `put` has completed, either by using Channel Access \"put completion\" or by polling the signal on a background thread."
   ]
  },
  {
   "cell_type": "code",
   "execution_count": 22,
   "metadata": {
    "execution": {
     "iopub.execute_input": "2021-03-28T22:27:45.838155Z",
     "iopub.status.busy": "2021-03-28T22:27:45.836847Z",
     "iopub.status.idle": "2021-03-28T22:27:45.838901Z",
     "shell.execute_reply": "2021-03-28T22:27:45.839287Z"
    }
   },
   "outputs": [],
   "source": [
    "temp.tolerance = 0.05"
   ]
  },
  {
   "cell_type": "code",
   "execution_count": 23,
   "metadata": {
    "execution": {
     "iopub.execute_input": "2021-03-28T22:27:45.842640Z",
     "iopub.status.busy": "2021-03-28T22:27:45.841948Z",
     "iopub.status.idle": "2021-03-28T22:27:45.847320Z",
     "shell.execute_reply": "2021-03-28T22:27:45.846942Z"
    }
   },
   "outputs": [],
   "source": [
    "status = temp.set(273)\n",
    "status.add_callback(lambda *args, **kwargs: print('done!'))\n",
    "# Wait several seconds and then 'done!' will be printed by a background thread."
   ]
  },
  {
   "cell_type": "markdown",
   "metadata": {},
   "source": [
    "More about `status` and exactly what is happening here in the notebook on `Device`."
   ]
  },
  {
   "cell_type": "markdown",
   "metadata": {},
   "source": [
    "## Accessing the PV name for debugging\n",
    "\n",
    "When we have *many* signals in play, it can be useful to as a Signal which PV it is connected to (or attempting to connect to)."
   ]
  },
  {
   "cell_type": "code",
   "execution_count": 24,
   "metadata": {
    "execution": {
     "iopub.execute_input": "2021-03-28T22:27:45.851423Z",
     "iopub.status.busy": "2021-03-28T22:27:45.850364Z",
     "iopub.status.idle": "2021-03-28T22:27:45.853878Z",
     "shell.execute_reply": "2021-03-28T22:27:45.853496Z"
    }
   },
   "outputs": [
    {
     "data": {
      "text/plain": [
       "'simple:A'"
      ]
     },
     "execution_count": 1,
     "metadata": {},
     "output_type": "execute_result"
    }
   ],
   "source": [
    "a.pvname  # PV name we gave above"
   ]
  },
  {
   "cell_type": "markdown",
   "metadata": {},
   "source": [
    "If ophyd is failing to connect, we can try to isolate the problem by using another Channel Access client like `caget` or `caproto-get`."
   ]
  },
  {
   "cell_type": "code",
   "execution_count": 25,
   "metadata": {
    "execution": {
     "iopub.execute_input": "2021-03-28T22:27:45.862142Z",
     "iopub.status.busy": "2021-03-28T22:27:45.857629Z",
     "iopub.status.idle": "2021-03-28T22:27:46.210444Z",
     "shell.execute_reply": "2021-03-28T22:27:46.210959Z"
    }
   },
   "outputs": [
    {
     "name": "stdout",
     "output_type": "stream",
     "text": [
      "simple:A                                  [3]\r\n"
     ]
    }
   ],
   "source": [
    "!caproto-get 'simple:A'"
   ]
  },
  {
   "cell_type": "markdown",
   "metadata": {},
   "source": [
    "We can add verbose output to learn more about which server this is from, etc."
   ]
  },
  {
   "cell_type": "code",
   "execution_count": 26,
   "metadata": {
    "execution": {
     "iopub.execute_input": "2021-03-28T22:27:46.218133Z",
     "iopub.status.busy": "2021-03-28T22:27:46.215164Z",
     "iopub.status.idle": "2021-03-28T22:27:46.555447Z",
     "shell.execute_reply": "2021-03-28T22:27:46.554999Z"
    }
   },
   "outputs": [
    {
     "name": "stdout",
     "output_type": "stream",
     "text": [
      "\u001b[34m[D 22:27:46.425       client:   59]\u001b[m Registering with the Channel Access repeater.\r\n",
      "\u001b[34m[D 22:27:46.426       client:   74]\u001b[m Searching for 'simple:A'....\r\n",
      "\u001b[34m[D 22:27:46.428       client:  148]\u001b[m Found 'simple:A' at 10.20.1.26:55802\r\n"
     ]
    },
    {
     "name": "stdout",
     "output_type": "stream",
     "text": [
      "\u001b[34m[D 22:27:46.432       client:  202]\u001b[m 10.20.1.26:42498 <<<--- 10.20.1.26:55802 16B VersionResponse(version=13)\r\n",
      "\u001b[34m[D 22:27:46.433       client:  202]\u001b[m 10.20.1.26:42498 <<<--- 10.20.1.26:55802 16B AccessRightsResponse(cid=0, access_rights=<AccessRights.WRITE|READ: 3>)\r\n",
      "\u001b[34m[D 22:27:46.433       client:  202]\u001b[m 10.20.1.26:42498 <<<--- 10.20.1.26:55802 16B CreateChanResponse(data_type=<ChannelType.LONG: 5>, data_count=1, cid=0, sid=0)\r\n",
      "\u001b[32m[I 22:27:46.433       client:  206]\u001b[m simple:A Channel connected.\r\n",
      "\u001b[34m[D 22:27:46.433       client:  219]\u001b[m 10.20.1.26:55802 simple:A Detected native data_type <ChannelType.LONG: 5>.\r\n",
      "\u001b[34m[D 22:27:46.434       client:  243]\u001b[m 10.20.1.26:42498 <<<--- 10.20.1.26:55802 20B simple:A ReadNotifyResponse(data=array([3], dtype=int32), data_type=<ChannelType.LONG: 5>, data_count=1, status=CAStatusCode(name='ECA_NORMAL', code=0, code_with_severity=1, severity=<CASeverity.SUCCESS: 1>, success=1, defunct=False, description='Normal successful completion'), ioid=0, metadata=None)\r\n",
      "simple:A                                  [3]\r\n"
     ]
    }
   ],
   "source": [
    "!caproto-get -v 'simple:A'"
   ]
  },
  {
   "cell_type": "code",
   "execution_count": 27,
   "metadata": {
    "execution": {
     "iopub.execute_input": "2021-03-28T22:27:46.560230Z",
     "iopub.status.busy": "2021-03-28T22:27:46.559529Z",
     "iopub.status.idle": "2021-03-28T22:27:46.889814Z",
     "shell.execute_reply": "2021-03-28T22:27:46.889367Z"
    }
   },
   "outputs": [
    {
     "name": "stdout",
     "output_type": "stream",
     "text": [
      "\u001b[34m[D 22:27:46.757     repeater:  221]\u001b[m Another repeater is already running; will not spawn one.\r\n",
      "\u001b[34m[D 22:27:46.758       client:   59]\u001b[m Registering with the Channel Access repeater.\r\n",
      "\u001b[34m[D 22:27:46.758 _broadcaster:   94]\u001b[m (1 of 1) RepeaterRegisterRequest(client_address='0.0.0.0')\r\n",
      "\u001b[34m[D 22:27:46.759       _utils:  536]\u001b[m Netifaces unavailable; using 127.0.0.1 as local address\r\n",
      "\u001b[34m[D 22:27:46.759       client:   74]\u001b[m Searching for 'simple:A'....\r\n",
      "\u001b[34m[D 22:27:46.759 _broadcaster:   94]\u001b[m (1 of 2) VersionRequest(priority=0, version=13)\r\n",
      "\u001b[34m[D 22:27:46.760 _broadcaster:   92]\u001b[m (2 of 2) SearchRequest(name='simple:A', cid=16596, version=13, reply=5)\r\n",
      "\u001b[34m[D 22:27:46.760       client:   90]\u001b[m 0.0.0.0:47617 --->>> 255.255.255.255:5064 2 commands 48B\r\n",
      "\u001b[34m[D 22:27:46.761 _broadcaster:  136]\u001b[m 0.0.0.0:47617 <<<--- 127.0.0.1:5065 16B RepeaterConfirmResponse(repeater_address='127.0.0.1')\r\n",
      "\u001b[34m[D 22:27:46.761 _broadcaster:  136]\u001b[m 0.0.0.0:47617 <<<--- 10.20.1.26:5064 16B VersionResponse(version=13)\r\n",
      "\u001b[34m[D 22:27:46.762 _broadcaster:  136]\u001b[m 0.0.0.0:47617 <<<--- 10.20.1.26:5064 24B SearchResponse(port=55802, ip='255.255.255.255', cid=16596, version=13)\r\n",
      "\u001b[34m[D 22:27:46.763       client:  148]\u001b[m Found 'simple:A' at 10.20.1.26:55802\r\n",
      "\u001b[34m[D 22:27:46.764     _circuit:  166]\u001b[m 10.20.1.26:42500 --->>> 10.20.1.26:55802 16B simple:A VersionRequest(priority=0, version=13)\r\n",
      "\u001b[34m[D 22:27:46.764     _circuit:  166]\u001b[m 10.20.1.26:42500 --->>> 10.20.1.26:55802 64B HostNameRequest(name='travis-job-0e95b67e-e72e-4d71-b7e1-f64cbd97c1c0')\r\n",
      "\u001b[34m[D 22:27:46.765     _circuit:  166]\u001b[m 10.20.1.26:42500 --->>> 10.20.1.26:55802 24B ClientNameRequest(name='travis')\r\n",
      "\u001b[34m[D 22:27:46.765     _circuit:  166]\u001b[m 10.20.1.26:42500 --->>> 10.20.1.26:55802 32B simple:A CreateChanRequest(name='simple:A', cid=0, version=13)\r\n",
      "\u001b[34m[D 22:27:46.766       client:  202]\u001b[m 10.20.1.26:42500 <<<--- 10.20.1.26:55802 16B VersionResponse(version=13)\r\n",
      "\u001b[34m[D 22:27:46.766       client:  202]\u001b[m 10.20.1.26:42500 <<<--- 10.20.1.26:55802 16B AccessRightsResponse(cid=0, access_rights=<AccessRights.WRITE|READ: 3>)\r\n",
      "\u001b[34m[D 22:27:46.767       client:  202]\u001b[m 10.20.1.26:42500 <<<--- 10.20.1.26:55802 16B CreateChanResponse(data_type=<ChannelType.LONG: 5>, data_count=1, cid=0, sid=0)\r\n",
      "\u001b[32m[I 22:27:46.767       client:  206]\u001b[m simple:A Channel connected.\r\n",
      "\u001b[34m[D 22:27:46.767       client:  219]\u001b[m 10.20.1.26:55802 simple:A Detected native data_type <ChannelType.LONG: 5>.\r\n",
      "\u001b[34m[D 22:27:46.767     _circuit:  166]\u001b[m 10.20.1.26:42500 --->>> 10.20.1.26:55802 16B simple:A ReadNotifyRequest(data_type=<ChannelType.LONG: 5>, data_count=0, sid=0, ioid=0)\r\n",
      "\u001b[34m[D 22:27:46.768       client:  243]\u001b[m 10.20.1.26:42500 <<<--- 10.20.1.26:55802 20B simple:A ReadNotifyResponse(data=array([3], dtype=int32), data_type=<ChannelType.LONG: 5>, data_count=1, status=CAStatusCode(name='ECA_NORMAL', code=0, code_with_severity=1, severity=<CASeverity.SUCCESS: 1>, success=1, defunct=False, description='Normal successful completion'), ioid=0, metadata=None)\r\n",
      "\u001b[34m[D 22:27:46.768     _circuit:  166]\u001b[m 10.20.1.26:42500 --->>> 10.20.1.26:55802 16B simple:A ClearChannelRequest(sid=0, cid=0)\r\n",
      "simple:A                                  [3]\r\n"
     ]
    }
   ],
   "source": [
    "!caproto-get -vvv 'simple:A'"
   ]
  },
  {
   "cell_type": "markdown",
   "metadata": {},
   "source": [
    "## So many names\n",
    "\n",
    "In summary, we have:\n",
    "\n",
    "* The `pvname`, an address for machines\n",
    "* The `name`, a label for humans and downstream analysis code that wants `'temperature'` not `'PV:asdfoijefopefpoaewaopivjapoefijaeftep'`.\n",
    "* The name of the variable in Python, the name we use in the code. There could be multiple of these pointing to the same object, as in `a = b = EpicsSignal(...)`."
   ]
  }
 ],
 "metadata": {
  "kernelspec": {
   "display_name": "Python 3",
   "language": "python",
   "name": "python3"
  },
  "language_info": {
   "codemirror_mode": {
    "name": "ipython",
    "version": 3
   },
   "file_extension": ".py",
   "mimetype": "text/x-python",
   "name": "python",
   "nbconvert_exporter": "python",
   "pygments_lexer": "ipython3",
   "version": "3.7.1"
  }
 },
 "nbformat": 4,
 "nbformat_minor": 4
}
