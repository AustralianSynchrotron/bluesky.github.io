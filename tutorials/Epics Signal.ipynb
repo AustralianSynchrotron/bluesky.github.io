{
 "cells": [
  {
   "cell_type": "markdown",
   "metadata": {},
   "source": [
    "# Epics Signal\n",
    "\n",
    "In this notebook you will:\n",
    "\n",
    "* Connect to some simulated hardware using `EpicsSignal`\n",
    "* Explore the `EpicsSignal` interface.\n",
    "\n",
    "Recommend Prerequisites:\n",
    "\n",
    "* [Hello Python and Jupyter](./Hello%20Python%20and%20Jupyter.ipynb)"
   ]
  },
  {
   "cell_type": "markdown",
   "metadata": {},
   "source": [
    "## Simulated Hardware\n",
    "Below, we will connect to EPICS IOC(s) controlling simulated hardware in lieu of actual motors, detectors. The IOCs should already be running in the background. Run this command to verify that they are running: it should produce output with RUNNING on each line. In the event of a problem, edit this command to replace `status` with `restart all` and run again."
   ]
  },
  {
   "cell_type": "code",
   "execution_count": 1,
   "metadata": {
    "execution": {
     "iopub.execute_input": "2021-03-27T22:27:45.904850Z",
     "iopub.status.busy": "2021-03-27T22:27:45.904090Z",
     "iopub.status.idle": "2021-03-27T22:27:46.247806Z",
     "shell.execute_reply": "2021-03-27T22:27:46.248318Z"
    }
   },
   "outputs": [
    {
     "name": "stdout",
     "output_type": "stream",
     "text": [
      "decay                            RUNNING   pid 4958, uptime 0:00:29\r\n",
      "mini_beamline                    RUNNING   pid 4959, uptime 0:00:29\r\n",
      "random_walk                      RUNNING   pid 4960, uptime 0:00:29\r\n",
      "random_walk_horiz                RUNNING   pid 4961, uptime 0:00:29\r\n",
      "random_walk_vert                 RUNNING   pid 4962, uptime 0:00:29\r\n",
      "simple                           RUNNING   pid 4963, uptime 0:00:29\r\n",
      "thermo_sim                       RUNNING   pid 4964, uptime 0:00:29\r\n",
      "trigger_with_pc                  FATAL     Exited too quickly (process log may have details)\r\n"
     ]
    }
   ],
   "source": [
    "!supervisorctl -c supervisor/supervisord.conf status"
   ]
  },
  {
   "cell_type": "markdown",
   "metadata": {},
   "source": [
    "## Hello, EpicsSignal\n",
    "\n",
    "An `EpicsSignal` is ophyd's representation of a single EPICS channel or a pair of channels, one readable and one writeable."
   ]
  },
  {
   "cell_type": "code",
   "execution_count": 2,
   "metadata": {
    "execution": {
     "iopub.execute_input": "2021-03-27T22:27:46.254439Z",
     "iopub.status.busy": "2021-03-27T22:27:46.253454Z",
     "iopub.status.idle": "2021-03-27T22:27:47.026025Z",
     "shell.execute_reply": "2021-03-27T22:27:47.025502Z"
    }
   },
   "outputs": [],
   "source": [
    "from ophyd import EpicsSignal"
   ]
  },
  {
   "cell_type": "code",
   "execution_count": 3,
   "metadata": {
    "execution": {
     "iopub.execute_input": "2021-03-27T22:27:47.030976Z",
     "iopub.status.busy": "2021-03-27T22:27:47.030376Z",
     "iopub.status.idle": "2021-03-27T22:27:47.032733Z",
     "shell.execute_reply": "2021-03-27T22:27:47.033125Z"
    }
   },
   "outputs": [],
   "source": [
    "a = EpicsSignal('simple:A', name='a')"
   ]
  },
  {
   "cell_type": "code",
   "execution_count": 4,
   "metadata": {
    "execution": {
     "iopub.execute_input": "2021-03-27T22:27:47.043663Z",
     "iopub.status.busy": "2021-03-27T22:27:47.042637Z",
     "iopub.status.idle": "2021-03-27T22:27:47.046784Z",
     "shell.execute_reply": "2021-03-27T22:27:47.046349Z"
    }
   },
   "outputs": [
    {
     "data": {
      "text/plain": [
       "EpicsSignal(read_pv='simple:A', name='a', timestamp=1616884067.028859, auto_monitor=False, string=False, write_pv='simple:A', limits=False, put_complete=False)"
      ]
     },
     "execution_count": 1,
     "metadata": {},
     "output_type": "execute_result"
    }
   ],
   "source": [
    "a"
   ]
  },
  {
   "cell_type": "code",
   "execution_count": 5,
   "metadata": {
    "execution": {
     "iopub.execute_input": "2021-03-27T22:27:47.052651Z",
     "iopub.status.busy": "2021-03-27T22:27:47.051608Z",
     "iopub.status.idle": "2021-03-27T22:27:47.054911Z",
     "shell.execute_reply": "2021-03-27T22:27:47.055341Z"
    }
   },
   "outputs": [
    {
     "data": {
      "text/plain": [
       "'a'"
      ]
     },
     "execution_count": 1,
     "metadata": {},
     "output_type": "execute_result"
    }
   ],
   "source": [
    "a.name  # human-friendly label, which will be encoded in 'documents' emitted by bluesky"
   ]
  },
  {
   "cell_type": "code",
   "execution_count": 6,
   "metadata": {
    "execution": {
     "iopub.execute_input": "2021-03-27T22:27:47.065235Z",
     "iopub.status.busy": "2021-03-27T22:27:47.064676Z",
     "iopub.status.idle": "2021-03-27T22:27:47.073003Z",
     "shell.execute_reply": "2021-03-27T22:27:47.072505Z"
    }
   },
   "outputs": [],
   "source": [
    "a.wait_for_connection()"
   ]
  },
  {
   "cell_type": "code",
   "execution_count": 7,
   "metadata": {
    "execution": {
     "iopub.execute_input": "2021-03-27T22:27:47.077334Z",
     "iopub.status.busy": "2021-03-27T22:27:47.076848Z",
     "iopub.status.idle": "2021-03-27T22:27:47.082547Z",
     "shell.execute_reply": "2021-03-27T22:27:47.082082Z"
    }
   },
   "outputs": [
    {
     "data": {
      "text/plain": [
       "True"
      ]
     },
     "execution_count": 1,
     "metadata": {},
     "output_type": "execute_result"
    }
   ],
   "source": [
    "a.connected"
   ]
  },
  {
   "cell_type": "code",
   "execution_count": 8,
   "metadata": {
    "execution": {
     "iopub.execute_input": "2021-03-27T22:27:47.087894Z",
     "iopub.status.busy": "2021-03-27T22:27:47.086250Z",
     "iopub.status.idle": "2021-03-27T22:27:47.092781Z",
     "shell.execute_reply": "2021-03-27T22:27:47.092334Z"
    }
   },
   "outputs": [
    {
     "data": {
      "text/plain": [
       "1"
      ]
     },
     "execution_count": 1,
     "metadata": {},
     "output_type": "execute_result"
    }
   ],
   "source": [
    "a.get()"
   ]
  },
  {
   "cell_type": "code",
   "execution_count": 9,
   "metadata": {
    "execution": {
     "iopub.execute_input": "2021-03-27T22:27:47.099085Z",
     "iopub.status.busy": "2021-03-27T22:27:47.098565Z",
     "iopub.status.idle": "2021-03-27T22:27:47.104026Z",
     "shell.execute_reply": "2021-03-27T22:27:47.103553Z"
    }
   },
   "outputs": [
    {
     "data": {
      "text/plain": [
       "3"
      ]
     },
     "execution_count": 1,
     "metadata": {},
     "output_type": "execute_result"
    }
   ],
   "source": [
    "a.put(3)\n",
    "a.get()"
   ]
  },
  {
   "cell_type": "code",
   "execution_count": 10,
   "metadata": {
    "execution": {
     "iopub.execute_input": "2021-03-27T22:27:47.108280Z",
     "iopub.status.busy": "2021-03-27T22:27:47.107658Z",
     "iopub.status.idle": "2021-03-27T22:27:47.114605Z",
     "shell.execute_reply": "2021-03-27T22:27:47.115330Z"
    }
   },
   "outputs": [
    {
     "data": {
      "text/plain": [
       "{'a': {'value': 3, 'timestamp': 1616884067.096252}}"
      ]
     },
     "execution_count": 1,
     "metadata": {},
     "output_type": "execute_result"
    }
   ],
   "source": [
    "a.read()"
   ]
  },
  {
   "cell_type": "code",
   "execution_count": 11,
   "metadata": {
    "execution": {
     "iopub.execute_input": "2021-03-27T22:27:47.120123Z",
     "iopub.status.busy": "2021-03-27T22:27:47.119631Z",
     "iopub.status.idle": "2021-03-27T22:27:47.125306Z",
     "shell.execute_reply": "2021-03-27T22:27:47.124829Z"
    }
   },
   "outputs": [
    {
     "data": {
      "text/plain": [
       "{'a': {'source': 'PV:simple:A',\n",
       "  'dtype': 'integer',\n",
       "  'shape': [],\n",
       "  'units': '',\n",
       "  'lower_ctrl_limit': 0,\n",
       "  'upper_ctrl_limit': 0}}"
      ]
     },
     "execution_count": 1,
     "metadata": {},
     "output_type": "execute_result"
    }
   ],
   "source": [
    "a.describe()"
   ]
  },
  {
   "cell_type": "markdown",
   "metadata": {},
   "source": [
    "## Exercise\n",
    "\n",
    "Instaniate an `EpicsSignal` that is connect to some made-up PV that does not exist, as in:\n",
    "\n",
    "```py\n",
    "broken = EpicsSignal('THIS_IS_NOT_A_THING', name='broken')\n",
    "```\n",
    "\n",
    "What does `broken.connected` do? What about `broken.wait_for_connection()`? And `broken.read()`?"
   ]
  },
  {
   "cell_type": "code",
   "execution_count": null,
   "metadata": {},
   "outputs": [],
   "source": []
  },
  {
   "cell_type": "code",
   "execution_count": null,
   "metadata": {},
   "outputs": [],
   "source": []
  },
  {
   "cell_type": "code",
   "execution_count": null,
   "metadata": {},
   "outputs": [],
   "source": []
  },
  {
   "cell_type": "code",
   "execution_count": null,
   "metadata": {},
   "outputs": [],
   "source": []
  },
  {
   "cell_type": "markdown",
   "metadata": {},
   "source": [
    "## Read-only"
   ]
  },
  {
   "cell_type": "markdown",
   "metadata": {},
   "source": [
    "The `EpicsSignalRO` represents a read-only signal. It can't be put to."
   ]
  },
  {
   "cell_type": "code",
   "execution_count": 12,
   "metadata": {
    "execution": {
     "iopub.execute_input": "2021-03-27T22:27:47.129591Z",
     "iopub.status.busy": "2021-03-27T22:27:47.129129Z",
     "iopub.status.idle": "2021-03-27T22:27:47.133177Z",
     "shell.execute_reply": "2021-03-27T22:27:47.132699Z"
    }
   },
   "outputs": [],
   "source": [
    "from ophyd import EpicsSignalRO\n",
    "\n",
    "x = EpicsSignalRO('random_walk:x', name='x')"
   ]
  },
  {
   "cell_type": "code",
   "execution_count": 13,
   "metadata": {
    "execution": {
     "iopub.execute_input": "2021-03-27T22:27:47.137449Z",
     "iopub.status.busy": "2021-03-27T22:27:47.136637Z",
     "iopub.status.idle": "2021-03-27T22:27:47.152869Z",
     "shell.execute_reply": "2021-03-27T22:27:47.152321Z"
    }
   },
   "outputs": [
    {
     "data": {
      "text/plain": [
       "1.641097133638528"
      ]
     },
     "execution_count": 1,
     "metadata": {},
     "output_type": "execute_result"
    }
   ],
   "source": [
    "x.get()"
   ]
  },
  {
   "cell_type": "markdown",
   "metadata": {},
   "source": [
    "Try putting a value to `x` It will raise a `ReadOnlyError`."
   ]
  },
  {
   "cell_type": "code",
   "execution_count": null,
   "metadata": {},
   "outputs": [],
   "source": []
  },
  {
   "cell_type": "markdown",
   "metadata": {},
   "source": [
    "## A read&ndash;write pair\n",
    "\n",
    "Sometimes the readback and setpoint are different PVs. We can group them into one `EpicsSignal`."
   ]
  },
  {
   "cell_type": "code",
   "execution_count": 14,
   "metadata": {
    "execution": {
     "iopub.execute_input": "2021-03-27T22:27:47.158562Z",
     "iopub.status.busy": "2021-03-27T22:27:47.157083Z",
     "iopub.status.idle": "2021-03-27T22:27:47.163219Z",
     "shell.execute_reply": "2021-03-27T22:27:47.163650Z"
    }
   },
   "outputs": [
    {
     "data": {
      "text/plain": [
       "EpicsSignal(read_pv='thermo:I', name='temp', timestamp=1616884067.155808, auto_monitor=False, string=False, write_pv='thermo:SP', limits=False, put_complete=False)"
      ]
     },
     "execution_count": 1,
     "metadata": {},
     "output_type": "execute_result"
    }
   ],
   "source": [
    "temp = EpicsSignal('thermo:I', write_pv='thermo:SP', name='temp')\n",
    "temp"
   ]
  },
  {
   "cell_type": "code",
   "execution_count": 15,
   "metadata": {
    "execution": {
     "iopub.execute_input": "2021-03-27T22:27:47.173886Z",
     "iopub.status.busy": "2021-03-27T22:27:47.173010Z",
     "iopub.status.idle": "2021-03-27T22:27:47.183905Z",
     "shell.execute_reply": "2021-03-27T22:27:47.184318Z"
    }
   },
   "outputs": [
    {
     "data": {
      "text/plain": [
       "99.90956328785296"
      ]
     },
     "execution_count": 1,
     "metadata": {},
     "output_type": "execute_result"
    }
   ],
   "source": [
    "temp.get()"
   ]
  },
  {
   "cell_type": "code",
   "execution_count": 16,
   "metadata": {
    "execution": {
     "iopub.execute_input": "2021-03-27T22:27:47.188394Z",
     "iopub.status.busy": "2021-03-27T22:27:47.187830Z",
     "iopub.status.idle": "2021-03-27T22:27:47.190430Z",
     "shell.execute_reply": "2021-03-27T22:27:47.190854Z"
    }
   },
   "outputs": [],
   "source": [
    "temp.put(105)"
   ]
  },
  {
   "cell_type": "code",
   "execution_count": 17,
   "metadata": {
    "execution": {
     "iopub.execute_input": "2021-03-27T22:27:47.195138Z",
     "iopub.status.busy": "2021-03-27T22:27:47.194366Z",
     "iopub.status.idle": "2021-03-27T22:27:47.200116Z",
     "shell.execute_reply": "2021-03-27T22:27:47.199635Z"
    }
   },
   "outputs": [
    {
     "data": {
      "text/plain": [
       "99.90956328785296"
      ]
     },
     "execution_count": 1,
     "metadata": {},
     "output_type": "execute_result"
    }
   ],
   "source": [
    "temp.get()"
   ]
  },
  {
   "cell_type": "markdown",
   "metadata": {},
   "source": [
    "This IOC simulates the oscillations of a temperature controller and will take some time to settle to the desired value. Executing the cell above several times will return varied values. This illustrates the importance of tracking \"done\"-ness, which we will address in the tutorial on Devices."
   ]
  },
  {
   "cell_type": "markdown",
   "metadata": {},
   "source": [
    "More on `status` later."
   ]
  },
  {
   "cell_type": "markdown",
   "metadata": {},
   "source": [
    "## Subscribe\n",
    "\n",
    "The actions on an EPICS channel are:\n",
    "\n",
    "* read (get)\n",
    "* write (put)\n",
    "* monitor (subscribe, \"event add\")\n",
    "\n",
    "To subscribe is to say, \"Send me updates asynchronously whenever the value changes.\" To process these changes, we write a function that will be called each time a new value arrives and register than function with the Signal."
   ]
  },
  {
   "cell_type": "code",
   "execution_count": 18,
   "metadata": {
    "execution": {
     "iopub.execute_input": "2021-03-27T22:27:47.208680Z",
     "iopub.status.busy": "2021-03-27T22:27:47.207963Z",
     "iopub.status.idle": "2021-03-27T22:27:47.211801Z",
     "shell.execute_reply": "2021-03-27T22:27:47.212236Z"
    }
   },
   "outputs": [
    {
     "name": "stdout",
     "output_type": "stream",
     "text": [
      "Value changed from <object object at 0x7fde368d95d0> to 1.641097133638528.\n",
      "Value changed from 1.641097133638528 to 1.641097133638528.\n"
     ]
    }
   ],
   "source": [
    "x = EpicsSignal('random_walk:x', name='x')\n",
    "\n",
    "def callback(value, old_value, **kwargs):\n",
    "    print(f\"Value changed from {old_value} to {value}.\")\n",
    "    \n",
    "token = x.subscribe(callback)"
   ]
  },
  {
   "cell_type": "code",
   "execution_count": 19,
   "metadata": {
    "execution": {
     "iopub.execute_input": "2021-03-27T22:27:47.218202Z",
     "iopub.status.busy": "2021-03-27T22:27:47.216905Z",
     "iopub.status.idle": "2021-03-27T22:27:47.220465Z",
     "shell.execute_reply": "2021-03-27T22:27:47.220025Z"
    }
   },
   "outputs": [
    {
     "data": {
      "text/plain": [
       "0"
      ]
     },
     "execution_count": 1,
     "metadata": {},
     "output_type": "execute_result"
    }
   ],
   "source": [
    "token  # We can use this to unsubscribe."
   ]
  },
  {
   "cell_type": "code",
   "execution_count": 20,
   "metadata": {
    "execution": {
     "iopub.execute_input": "2021-03-27T22:27:47.225432Z",
     "iopub.status.busy": "2021-03-27T22:27:47.224075Z",
     "iopub.status.idle": "2021-03-27T22:27:47.226795Z",
     "shell.execute_reply": "2021-03-27T22:27:47.226370Z"
    }
   },
   "outputs": [],
   "source": [
    "x.unsubscribe(token)"
   ]
  },
  {
   "cell_type": "markdown",
   "metadata": {},
   "source": [
    "## Exercise\n",
    "\n",
    "Define and subscribe a callback that prints \"+\" when the value changes in the positive direction and \"-\" when it changes in the negative direction."
   ]
  },
  {
   "cell_type": "code",
   "execution_count": null,
   "metadata": {},
   "outputs": [],
   "source": []
  },
  {
   "cell_type": "code",
   "execution_count": 21,
   "metadata": {
    "execution": {
     "iopub.execute_input": "2021-03-27T22:27:47.230933Z",
     "iopub.status.busy": "2021-03-27T22:27:47.230440Z",
     "iopub.status.idle": "2021-03-27T22:27:47.248732Z",
     "shell.execute_reply": "2021-03-27T22:27:47.247991Z"
    }
   },
   "outputs": [],
   "source": [
    "%load solutions/callback_print_sign.py"
   ]
  },
  {
   "cell_type": "markdown",
   "metadata": {},
   "source": [
    "## `set` is `put` like with a way to know when the action is complete.\n",
    "\n",
    "`put` is the low-level method that actually communicates with hardware. `set` is a higher-level method that calls `put` and then tracks when the action initiated by `put` has completed, either by using Channel Access \"put completion\" or by polling the signal on a background thread."
   ]
  },
  {
   "cell_type": "code",
   "execution_count": 22,
   "metadata": {
    "execution": {
     "iopub.execute_input": "2021-03-27T22:27:47.253721Z",
     "iopub.status.busy": "2021-03-27T22:27:47.252815Z",
     "iopub.status.idle": "2021-03-27T22:27:47.259104Z",
     "shell.execute_reply": "2021-03-27T22:27:47.257591Z"
    }
   },
   "outputs": [],
   "source": [
    "temp.tolerance = 0.05"
   ]
  },
  {
   "cell_type": "code",
   "execution_count": 23,
   "metadata": {
    "execution": {
     "iopub.execute_input": "2021-03-27T22:27:47.263815Z",
     "iopub.status.busy": "2021-03-27T22:27:47.263290Z",
     "iopub.status.idle": "2021-03-27T22:27:47.270278Z",
     "shell.execute_reply": "2021-03-27T22:27:47.269700Z"
    }
   },
   "outputs": [],
   "source": [
    "status = temp.set(273)\n",
    "status.add_callback(lambda *args, **kwargs: print('done!'))\n",
    "# Wait several seconds and then 'done!' will be printed by a background thread."
   ]
  },
  {
   "cell_type": "markdown",
   "metadata": {},
   "source": [
    "More about `status` and exactly what is happening here in the notebook on `Device`."
   ]
  },
  {
   "cell_type": "markdown",
   "metadata": {},
   "source": [
    "## Accessing the PV name for debugging\n",
    "\n",
    "When we have *many* signals in play, it can be useful to as a Signal which PV it is connected to (or attempting to connect to)."
   ]
  },
  {
   "cell_type": "code",
   "execution_count": 24,
   "metadata": {
    "execution": {
     "iopub.execute_input": "2021-03-27T22:27:47.275083Z",
     "iopub.status.busy": "2021-03-27T22:27:47.274589Z",
     "iopub.status.idle": "2021-03-27T22:27:47.280830Z",
     "shell.execute_reply": "2021-03-27T22:27:47.281891Z"
    }
   },
   "outputs": [
    {
     "data": {
      "text/plain": [
       "'simple:A'"
      ]
     },
     "execution_count": 1,
     "metadata": {},
     "output_type": "execute_result"
    }
   ],
   "source": [
    "a.pvname  # PV name we gave above"
   ]
  },
  {
   "cell_type": "markdown",
   "metadata": {},
   "source": [
    "If ophyd is failing to connect, we can try to isolate the problem by using another Channel Access client like `caget` or `caproto-get`."
   ]
  },
  {
   "cell_type": "code",
   "execution_count": 25,
   "metadata": {
    "execution": {
     "iopub.execute_input": "2021-03-27T22:27:47.287159Z",
     "iopub.status.busy": "2021-03-27T22:27:47.286244Z",
     "iopub.status.idle": "2021-03-27T22:27:47.644728Z",
     "shell.execute_reply": "2021-03-27T22:27:47.645468Z"
    }
   },
   "outputs": [
    {
     "name": "stdout",
     "output_type": "stream",
     "text": [
      "simple:A                                  [3]\r\n"
     ]
    }
   ],
   "source": [
    "!caproto-get 'simple:A'"
   ]
  },
  {
   "cell_type": "markdown",
   "metadata": {},
   "source": [
    "We can add verbose output to learn more about which server this is from, etc."
   ]
  },
  {
   "cell_type": "code",
   "execution_count": 26,
   "metadata": {
    "execution": {
     "iopub.execute_input": "2021-03-27T22:27:47.650378Z",
     "iopub.status.busy": "2021-03-27T22:27:47.649810Z",
     "iopub.status.idle": "2021-03-27T22:27:48.017717Z",
     "shell.execute_reply": "2021-03-27T22:27:48.017235Z"
    }
   },
   "outputs": [
    {
     "name": "stdout",
     "output_type": "stream",
     "text": [
      "\u001b[34m[D 22:27:47.876       client:   59]\u001b[m Registering with the Channel Access repeater.\r\n",
      "\u001b[34m[D 22:27:47.877       client:   74]\u001b[m Searching for 'simple:A'....\r\n",
      "\u001b[34m[D 22:27:47.879       client:  148]\u001b[m Found 'simple:A' at 10.20.0.25:61183\r\n",
      "\u001b[34m[D 22:27:47.884       client:  202]\u001b[m 10.20.0.25:34278 <<<--- 10.20.0.25:61183 16B VersionResponse(version=13)\r\n",
      "\u001b[34m[D 22:27:47.885       client:  202]\u001b[m 10.20.0.25:34278 <<<--- 10.20.0.25:61183 16B AccessRightsResponse(cid=0, access_rights=<AccessRights.WRITE|READ: 3>)\r\n",
      "\u001b[34m[D 22:27:47.885       client:  202]\u001b[m 10.20.0.25:34278 <<<--- 10.20.0.25:61183 16B CreateChanResponse(data_type=<ChannelType.LONG: 5>, data_count=1, cid=0, sid=0)\r\n",
      "\u001b[32m[I 22:27:47.885       client:  206]\u001b[m simple:A Channel connected.\r\n",
      "\u001b[34m[D 22:27:47.885       client:  219]\u001b[m 10.20.0.25:61183 simple:A Detected native data_type <ChannelType.LONG: 5>.\r\n",
      "\u001b[34m[D 22:27:47.886       client:  243]\u001b[m 10.20.0.25:34278 <<<--- 10.20.0.25:61183 20B simple:A ReadNotifyResponse(data=array([3], dtype=int32), data_type=<ChannelType.LONG: 5>, data_count=1, status=CAStatusCode(name='ECA_NORMAL', code=0, code_with_severity=1, severity=<CASeverity.SUCCESS: 1>, success=1, defunct=False, description='Normal successful completion'), ioid=0, metadata=None)\r\n",
      "simple:A                                  [3]\r\n"
     ]
    }
   ],
   "source": [
    "!caproto-get -v 'simple:A'"
   ]
  },
  {
   "cell_type": "code",
   "execution_count": 27,
   "metadata": {
    "execution": {
     "iopub.execute_input": "2021-03-27T22:27:48.025593Z",
     "iopub.status.busy": "2021-03-27T22:27:48.022092Z",
     "iopub.status.idle": "2021-03-27T22:27:48.429383Z",
     "shell.execute_reply": "2021-03-27T22:27:48.428920Z"
    }
   },
   "outputs": [
    {
     "name": "stdout",
     "output_type": "stream",
     "text": [
      "\u001b[34m[D 22:27:48.242     repeater:  221]\u001b[m Another repeater is already running; will not spawn one.\r\n",
      "\u001b[34m[D 22:27:48.243       client:   59]\u001b[m Registering with the Channel Access repeater.\r\n",
      "\u001b[34m[D 22:27:48.243 _broadcaster:   94]\u001b[m (1 of 1) RepeaterRegisterRequest(client_address='0.0.0.0')\r\n",
      "\u001b[34m[D 22:27:48.245       _utils:  536]\u001b[m Netifaces unavailable; using 127.0.0.1 as local address\r\n",
      "\u001b[34m[D 22:27:48.245       client:   74]\u001b[m Searching for 'simple:A'....\r\n",
      "\u001b[34m[D 22:27:48.245 _broadcaster:   94]\u001b[m (1 of 2) VersionRequest(priority=0, version=13)\r\n",
      "\u001b[34m[D 22:27:48.246 _broadcaster:   92]\u001b[m (2 of 2) SearchRequest(name='simple:A', cid=33121, version=13, reply=5)\r\n",
      "\u001b[34m[D 22:27:48.246       client:   90]\u001b[m 0.0.0.0:35032 --->>> 255.255.255.255:5064 2 commands 48B\r\n",
      "\u001b[34m[D 22:27:48.248 _broadcaster:  136]\u001b[m 0.0.0.0:35032 <<<--- 127.0.0.1:5065 16B RepeaterConfirmResponse(repeater_address='127.0.0.1')\r\n",
      "\u001b[34m[D 22:27:48.248 _broadcaster:  136]\u001b[m 0.0.0.0:35032 <<<--- 10.20.0.25:5064 16B VersionResponse(version=13)\r\n",
      "\u001b[34m[D 22:27:48.250 _broadcaster:  136]\u001b[m 0.0.0.0:35032 <<<--- 10.20.0.25:5064 24B SearchResponse(port=61183, ip='255.255.255.255', cid=33121, version=13)\r\n",
      "\u001b[34m[D 22:27:48.250       client:  148]\u001b[m Found 'simple:A' at 10.20.0.25:61183\r\n",
      "\u001b[34m[D 22:27:48.254     _circuit:  166]\u001b[m 10.20.0.25:34280 --->>> 10.20.0.25:61183 16B simple:A VersionRequest(priority=0, version=13)\r\n",
      "\u001b[34m[D 22:27:48.255     _circuit:  166]\u001b[m 10.20.0.25:34280 --->>> 10.20.0.25:61183 64B HostNameRequest(name='travis-job-d5375561-beac-4460-929a-eb6781532466')\r\n",
      "\u001b[34m[D 22:27:48.255     _circuit:  166]\u001b[m 10.20.0.25:34280 --->>> 10.20.0.25:61183 24B ClientNameRequest(name='travis')\r\n",
      "\u001b[34m[D 22:27:48.257     _circuit:  166]\u001b[m 10.20.0.25:34280 --->>> 10.20.0.25:61183 32B simple:A CreateChanRequest(name='simple:A', cid=0, version=13)\r\n",
      "\u001b[34m[D 22:27:48.257       client:  202]\u001b[m 10.20.0.25:34280 <<<--- 10.20.0.25:61183 16B VersionResponse(version=13)\r\n"
     ]
    },
    {
     "name": "stdout",
     "output_type": "stream",
     "text": [
      "\u001b[34m[D 22:27:48.298       client:  202]\u001b[m 10.20.0.25:34280 <<<--- 10.20.0.25:61183 16B AccessRightsResponse(cid=0, access_rights=<AccessRights.WRITE|READ: 3>)\r\n",
      "\u001b[34m[D 22:27:48.299       client:  202]\u001b[m 10.20.0.25:34280 <<<--- 10.20.0.25:61183 16B CreateChanResponse(data_type=<ChannelType.LONG: 5>, data_count=1, cid=0, sid=0)\r\n",
      "\u001b[32m[I 22:27:48.299       client:  206]\u001b[m simple:A Channel connected.\r\n",
      "\u001b[34m[D 22:27:48.299       client:  219]\u001b[m 10.20.0.25:61183 simple:A Detected native data_type <ChannelType.LONG: 5>.\r\n",
      "\u001b[34m[D 22:27:48.299     _circuit:  166]\u001b[m 10.20.0.25:34280 --->>> 10.20.0.25:61183 16B simple:A ReadNotifyRequest(data_type=<ChannelType.LONG: 5>, data_count=0, sid=0, ioid=0)\r\n",
      "\u001b[34m[D 22:27:48.300       client:  243]\u001b[m 10.20.0.25:34280 <<<--- 10.20.0.25:61183 20B simple:A ReadNotifyResponse(data=array([3], dtype=int32), data_type=<ChannelType.LONG: 5>, data_count=1, status=CAStatusCode(name='ECA_NORMAL', code=0, code_with_severity=1, severity=<CASeverity.SUCCESS: 1>, success=1, defunct=False, description='Normal successful completion'), ioid=0, metadata=None)\r\n",
      "\u001b[34m[D 22:27:48.301     _circuit:  166]\u001b[m 10.20.0.25:34280 --->>> 10.20.0.25:61183 16B simple:A ClearChannelRequest(sid=0, cid=0)\r\n",
      "simple:A                                  [3]\r\n"
     ]
    }
   ],
   "source": [
    "!caproto-get -vvv 'simple:A'"
   ]
  },
  {
   "cell_type": "markdown",
   "metadata": {},
   "source": [
    "## So many names\n",
    "\n",
    "In summary, we have:\n",
    "\n",
    "* The `pvname`, an address for machines\n",
    "* The `name`, a label for humans and downstream analysis code that wants `'temperature'` not `'PV:asdfoijefopefpoaewaopivjapoefijaeftep'`.\n",
    "* The name of the variable in Python, the name we use in the code. There could be multiple of these pointing to the same object, as in `a = b = EpicsSignal(...)`."
   ]
  }
 ],
 "metadata": {
  "kernelspec": {
   "display_name": "Python 3",
   "language": "python",
   "name": "python3"
  },
  "language_info": {
   "codemirror_mode": {
    "name": "ipython",
    "version": 3
   },
   "file_extension": ".py",
   "mimetype": "text/x-python",
   "name": "python",
   "nbconvert_exporter": "python",
   "pygments_lexer": "ipython3",
   "version": "3.7.1"
  }
 },
 "nbformat": 4,
 "nbformat_minor": 4
}
