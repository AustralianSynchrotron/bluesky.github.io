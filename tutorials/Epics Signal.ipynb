{
 "cells": [
  {
   "cell_type": "markdown",
   "metadata": {},
   "source": [
    "# Epics Signal\n",
    "\n",
    "In this notebook you will:\n",
    "\n",
    "* Connect to some simulated hardware using `EpicsSignal`\n",
    "* Explore the `EpicsSignal` interface.\n",
    "\n",
    "Recommend Prerequisites:\n",
    "\n",
    "* [Hello Python and Jupyter](./Hello%20Python%20and%20Jupyter.ipynb)"
   ]
  },
  {
   "cell_type": "markdown",
   "metadata": {},
   "source": [
    "## Simulated Hardware\n",
    "Below, we will connect to EPICS IOC(s) controlling simulated hardware in lieu of actual motors, detectors. The IOCs should already be running in the background. Run this command to verify that they are running: it should produce output with RUNNING on each line. In the event of a problem, edit this command to replace `status` with `restart all` and run again."
   ]
  },
  {
   "cell_type": "code",
   "execution_count": 1,
   "metadata": {},
   "outputs": [
    {
     "name": "stdout",
     "output_type": "stream",
     "text": [
      "decay                            RUNNING   pid 4976, uptime 0:00:29\r\n",
      "mini_beamline                    RUNNING   pid 4977, uptime 0:00:29\r\n",
      "random_walk                      RUNNING   pid 4978, uptime 0:00:29\r\n",
      "random_walk_horiz                RUNNING   pid 4992, uptime 0:00:28\r\n",
      "random_walk_vert                 RUNNING   pid 4980, uptime 0:00:29\r\n",
      "simple                           RUNNING   pid 4981, uptime 0:00:29\r\n",
      "thermo_sim                       RUNNING   pid 4982, uptime 0:00:29\r\n",
      "trigger_with_pc                  RUNNING   pid 4983, uptime 0:00:29\r\n"
     ]
    }
   ],
   "source": [
    "!supervisorctl -c supervisor/supervisord.conf status"
   ]
  },
  {
   "cell_type": "markdown",
   "metadata": {},
   "source": [
    "## Hello, EpicsSignal\n",
    "\n",
    "An `EpicsSignal` is ophyd's representation of a single EPICS channel or a pair of channels, one readable and one writeable."
   ]
  },
  {
   "cell_type": "code",
   "execution_count": 2,
   "metadata": {},
   "outputs": [],
   "source": [
    "from ophyd import EpicsSignal"
   ]
  },
  {
   "cell_type": "code",
   "execution_count": 3,
   "metadata": {},
   "outputs": [],
   "source": [
    "a = EpicsSignal('simple:A', name='a')"
   ]
  },
  {
   "cell_type": "code",
   "execution_count": 4,
   "metadata": {},
   "outputs": [
    {
     "data": {
      "text/plain": [
       "EpicsSignal(read_pv='simple:A', name='a', timestamp=1589835309.147721, auto_monitor=False, string=False, write_pv='simple:A', limits=False, put_complete=False)"
      ]
     },
     "execution_count": 4,
     "metadata": {},
     "output_type": "execute_result"
    }
   ],
   "source": [
    "a"
   ]
  },
  {
   "cell_type": "code",
   "execution_count": 5,
   "metadata": {},
   "outputs": [
    {
     "data": {
      "text/plain": [
       "'a'"
      ]
     },
     "execution_count": 5,
     "metadata": {},
     "output_type": "execute_result"
    }
   ],
   "source": [
    "a.name  # human-friendly label, which will be encoded in 'documents' emitted by bluesky"
   ]
  },
  {
   "cell_type": "code",
   "execution_count": 6,
   "metadata": {},
   "outputs": [],
   "source": [
    "a.wait_for_connection()"
   ]
  },
  {
   "cell_type": "code",
   "execution_count": 7,
   "metadata": {},
   "outputs": [
    {
     "data": {
      "text/plain": [
       "True"
      ]
     },
     "execution_count": 7,
     "metadata": {},
     "output_type": "execute_result"
    }
   ],
   "source": [
    "a.connected"
   ]
  },
  {
   "cell_type": "code",
   "execution_count": 8,
   "metadata": {},
   "outputs": [
    {
     "data": {
      "text/plain": [
       "1"
      ]
     },
     "execution_count": 8,
     "metadata": {},
     "output_type": "execute_result"
    }
   ],
   "source": [
    "a.get()"
   ]
  },
  {
   "cell_type": "code",
   "execution_count": 9,
   "metadata": {},
   "outputs": [
    {
     "data": {
      "text/plain": [
       "3"
      ]
     },
     "execution_count": 9,
     "metadata": {},
     "output_type": "execute_result"
    }
   ],
   "source": [
    "a.put(3)\n",
    "a.get()"
   ]
  },
  {
   "cell_type": "code",
   "execution_count": 10,
   "metadata": {},
   "outputs": [
    {
     "data": {
      "text/plain": [
       "{'a': {'value': 3, 'timestamp': 1589835309.207418}}"
      ]
     },
     "execution_count": 10,
     "metadata": {},
     "output_type": "execute_result"
    }
   ],
   "source": [
    "a.read()"
   ]
  },
  {
   "cell_type": "code",
   "execution_count": 11,
   "metadata": {},
   "outputs": [
    {
     "data": {
      "text/plain": [
       "{'a': {'source': 'PV:simple:A',\n",
       "  'dtype': 'integer',\n",
       "  'shape': [],\n",
       "  'units': '',\n",
       "  'lower_ctrl_limit': 0,\n",
       "  'upper_ctrl_limit': 0}}"
      ]
     },
     "execution_count": 11,
     "metadata": {},
     "output_type": "execute_result"
    }
   ],
   "source": [
    "a.describe()"
   ]
  },
  {
   "cell_type": "markdown",
   "metadata": {},
   "source": [
    "## Exercise\n",
    "\n",
    "Instaniate an `EpicsSignal` that is connect to some made-up PV that does not exist, as in:\n",
    "\n",
    "```py\n",
    "broken = EpicsSignal('THIS_IS_NOT_A_THING', name='broken')\n",
    "```\n",
    "\n",
    "What does `broken.connected` do? What about `broken.wait_for_connection()`? And `broken.read()`?"
   ]
  },
  {
   "cell_type": "code",
   "execution_count": null,
   "metadata": {},
   "outputs": [],
   "source": []
  },
  {
   "cell_type": "code",
   "execution_count": null,
   "metadata": {},
   "outputs": [],
   "source": []
  },
  {
   "cell_type": "code",
   "execution_count": null,
   "metadata": {},
   "outputs": [],
   "source": []
  },
  {
   "cell_type": "code",
   "execution_count": null,
   "metadata": {},
   "outputs": [],
   "source": []
  },
  {
   "cell_type": "markdown",
   "metadata": {},
   "source": [
    "## Read-only"
   ]
  },
  {
   "cell_type": "markdown",
   "metadata": {},
   "source": [
    "The `EpicsSignalRO` represents a read-only signal. It can't be put to."
   ]
  },
  {
   "cell_type": "code",
   "execution_count": 12,
   "metadata": {},
   "outputs": [],
   "source": [
    "from ophyd import EpicsSignalRO\n",
    "\n",
    "x = EpicsSignalRO('random_walk:x', name='x')"
   ]
  },
  {
   "cell_type": "code",
   "execution_count": 13,
   "metadata": {},
   "outputs": [
    {
     "data": {
      "text/plain": [
       "-1.9941550690030536"
      ]
     },
     "execution_count": 13,
     "metadata": {},
     "output_type": "execute_result"
    }
   ],
   "source": [
    "x.get()"
   ]
  },
  {
   "cell_type": "markdown",
   "metadata": {},
   "source": [
    "Try putting a value to `x` It will raise a `ReadOnlyError`."
   ]
  },
  {
   "cell_type": "code",
   "execution_count": null,
   "metadata": {},
   "outputs": [],
   "source": []
  },
  {
   "cell_type": "markdown",
   "metadata": {},
   "source": [
    "## A read&ndash;write pair\n",
    "\n",
    "Sometimes the readback and setpoint are different PVs. We can group them into one `EpicsSignal`."
   ]
  },
  {
   "cell_type": "code",
   "execution_count": 14,
   "metadata": {},
   "outputs": [
    {
     "data": {
      "text/plain": [
       "EpicsSignal(read_pv='thermo:I', name='temp', timestamp=1589835309.2748964, auto_monitor=False, string=False, write_pv='thermo:SP', limits=False, put_complete=False)"
      ]
     },
     "execution_count": 14,
     "metadata": {},
     "output_type": "execute_result"
    }
   ],
   "source": [
    "temp = EpicsSignal('thermo:I', write_pv='thermo:SP', name='temp')\n",
    "temp"
   ]
  },
  {
   "cell_type": "code",
   "execution_count": 15,
   "metadata": {},
   "outputs": [
    {
     "data": {
      "text/plain": [
       "99.49064681474661"
      ]
     },
     "execution_count": 15,
     "metadata": {},
     "output_type": "execute_result"
    }
   ],
   "source": [
    "temp.get()"
   ]
  },
  {
   "cell_type": "code",
   "execution_count": 16,
   "metadata": {},
   "outputs": [],
   "source": [
    "temp.put(105)"
   ]
  },
  {
   "cell_type": "code",
   "execution_count": 17,
   "metadata": {},
   "outputs": [
    {
     "data": {
      "text/plain": [
       "99.610354358518"
      ]
     },
     "execution_count": 17,
     "metadata": {},
     "output_type": "execute_result"
    }
   ],
   "source": [
    "temp.get()"
   ]
  },
  {
   "cell_type": "markdown",
   "metadata": {},
   "source": [
    "This IOC simulates the oscillations of a temperature controller and will take some time to settle to the desired value. Executing the cell above several times will return varied values. This illustrates the importance of tracking \"done\"-ness, which we will address in the tutorial on Devices."
   ]
  },
  {
   "cell_type": "markdown",
   "metadata": {},
   "source": [
    "More on `status` later."
   ]
  },
  {
   "cell_type": "markdown",
   "metadata": {},
   "source": [
    "## Subscribe\n",
    "\n",
    "The actions on an EPICS channel are:\n",
    "\n",
    "* read (get)\n",
    "* write (put)\n",
    "* monitor (subscribe, \"event add\")\n",
    "\n",
    "To subscribe is to say, \"Send me updates asynchronously whenever the value changes.\" To process these changes, we write a function that will be called each time a new value arrives and register than function with the Signal."
   ]
  },
  {
   "cell_type": "code",
   "execution_count": 18,
   "metadata": {},
   "outputs": [
    {
     "name": "stdout",
     "output_type": "stream",
     "text": [
      "Value changed from <object object at 0x7f4faccb1ad0> to -1.9941550690030536.Value changed from -1.9941550690030536 to -1.9941550690030536.\n",
      "\n"
     ]
    }
   ],
   "source": [
    "x = EpicsSignal('random_walk:x', name='x')\n",
    "\n",
    "def callback(value, old_value, **kwargs):\n",
    "    print(f\"Value changed from {old_value} to {value}.\")\n",
    "    \n",
    "token = x.subscribe(callback)"
   ]
  },
  {
   "cell_type": "code",
   "execution_count": 19,
   "metadata": {},
   "outputs": [
    {
     "data": {
      "text/plain": [
       "0"
      ]
     },
     "execution_count": 19,
     "metadata": {},
     "output_type": "execute_result"
    }
   ],
   "source": [
    "token  # We can use this to unsubscribe."
   ]
  },
  {
   "cell_type": "code",
   "execution_count": 20,
   "metadata": {},
   "outputs": [],
   "source": [
    "x.unsubscribe(token)"
   ]
  },
  {
   "cell_type": "markdown",
   "metadata": {},
   "source": [
    "## Exercise\n",
    "\n",
    "Define and subscribe a callback that prints \"+\" when the value changes in the positive direction and \"-\" when it changes in the negative direction."
   ]
  },
  {
   "cell_type": "code",
   "execution_count": null,
   "metadata": {},
   "outputs": [],
   "source": []
  },
  {
   "cell_type": "code",
   "execution_count": 21,
   "metadata": {},
   "outputs": [],
   "source": [
    "%load solutions/callback_print_sign.py"
   ]
  },
  {
   "cell_type": "markdown",
   "metadata": {},
   "source": [
    "## `set` is `put` like with a way to know when the action is complete.\n",
    "\n",
    "`put` is the low-level method that actually communicates with hardware. `set` is a higher-level method that calls `put` and then tracks when the action initiated by `put` has completed, either by using Channel Access \"put completion\" or by polling the signal on a background thread."
   ]
  },
  {
   "cell_type": "code",
   "execution_count": 22,
   "metadata": {},
   "outputs": [],
   "source": [
    "temp.tolerance = 0.05"
   ]
  },
  {
   "cell_type": "code",
   "execution_count": 23,
   "metadata": {},
   "outputs": [],
   "source": [
    "status = temp.set(273)\n",
    "status.add_callback(lambda *args, **kwargs: print('done!'))\n",
    "# Wait several seconds and then 'done!' will be printed by a background thread."
   ]
  },
  {
   "cell_type": "markdown",
   "metadata": {},
   "source": [
    "More about `status` and exactly what is happening here in the notebook on `Device`."
   ]
  },
  {
   "cell_type": "markdown",
   "metadata": {},
   "source": [
    "## Accessing the PV name for debugging\n",
    "\n",
    "When we have *many* signals in play, it can be useful to as a Signal which PV it is connected to (or attempting to connect to)."
   ]
  },
  {
   "cell_type": "code",
   "execution_count": 24,
   "metadata": {},
   "outputs": [
    {
     "data": {
      "text/plain": [
       "'simple:A'"
      ]
     },
     "execution_count": 24,
     "metadata": {},
     "output_type": "execute_result"
    }
   ],
   "source": [
    "a.pvname  # PV name we gave above"
   ]
  },
  {
   "cell_type": "markdown",
   "metadata": {},
   "source": [
    "If ophyd is failing to connect, we can try to isolate the problem by using another Channel Access client like `caget` or `caproto-get`."
   ]
  },
  {
   "cell_type": "code",
   "execution_count": 25,
   "metadata": {},
   "outputs": [
    {
     "name": "stdout",
     "output_type": "stream",
     "text": [
      "simple:A                                  [3]\r\n"
     ]
    }
   ],
   "source": [
    "!caproto-get 'simple:A'"
   ]
  },
  {
   "cell_type": "markdown",
   "metadata": {},
   "source": [
    "We can add verbose output to learn more about which server this is from, etc."
   ]
  },
  {
   "cell_type": "code",
   "execution_count": 26,
   "metadata": {},
   "outputs": [
    {
     "name": "stdout",
     "output_type": "stream",
     "text": [
      "\u001b[34m[D 20:55:09.936       client:   59]\u001b[m Registering with the Channel Access repeater.\r\n",
      "\u001b[34m[D 20:55:09.937       client:   69]\u001b[m Searching for 'simple:A'....\r\n",
      "\u001b[34m[D 20:55:09.940       client:  133]\u001b[m Found 'simple:A' at 10.20.1.233:52495\r\n",
      "\u001b[34m[D 20:55:09.943       client:  187]\u001b[m 10.20.1.233:41370 <<<--- 10.20.1.233:52495 16B VersionResponse(version=13)\r\n",
      "\u001b[34m[D 20:55:09.943       client:  187]\u001b[m 10.20.1.233:41370 <<<--- 10.20.1.233:52495 16B AccessRightsResponse(cid=0, access_rights=<AccessRights.WRITE|READ: 3>)\r\n",
      "\u001b[34m[D 20:55:09.943       client:  187]\u001b[m 10.20.1.233:41370 <<<--- 10.20.1.233:52495 16B CreateChanResponse(data_type=<ChannelType.LONG: 5>, data_count=1, cid=0, sid=0)\r\n",
      "\u001b[32m[I 20:55:09.944       client:  191]\u001b[m simple:A Channel connected.\r\n",
      "\u001b[34m[D 20:55:09.944       client:  204]\u001b[m 10.20.1.233:52495 simple:A Detected native data_type <ChannelType.LONG: 5>.\r\n",
      "\u001b[34m[D 20:55:09.945       client:  228]\u001b[m 10.20.1.233:41370 <<<--- 10.20.1.233:52495 20B simple:A ReadNotifyResponse(data=array([3], dtype=int32), data_type=<ChannelType.LONG: 5>, data_count=1, status=CAStatusCode(name='ECA_NORMAL', code=0, code_with_severity=1, severity=<CASeverity.SUCCESS: 1>, success=1, defunct=False, description='Normal successful completion'), ioid=0, metadata=None)\r\n",
      "simple:A                                  [3]\r\n"
     ]
    }
   ],
   "source": [
    "!caproto-get -v 'simple:A'"
   ]
  },
  {
   "cell_type": "code",
   "execution_count": 27,
   "metadata": {},
   "outputs": [
    {
     "name": "stdout",
     "output_type": "stream",
     "text": [
      "\u001b[34m[D 20:55:10.251     repeater:  221]\u001b[m Another repeater is already running; will not spawn one.\r\n",
      "\u001b[34m[D 20:55:10.251       client:   59]\u001b[m Registering with the Channel Access repeater.\r\n",
      "\u001b[34m[D 20:55:10.251 _broadcaster:  103]\u001b[m (1 of 1) RepeaterRegisterRequest(client_address='0.0.0.0')\r\n",
      "\u001b[34m[D 20:55:10.252       client:   69]\u001b[m Searching for 'simple:A'....\r\n",
      "\u001b[34m[D 20:55:10.253 _broadcaster:  103]\u001b[m (1 of 2) VersionRequest(priority=0, version=13)\r\n",
      "\u001b[34m[D 20:55:10.253 _broadcaster:  101]\u001b[m (2 of 2) SearchRequest(name='simple:A', cid=0, version=13, reply=5)\r\n",
      "\u001b[34m[D 20:55:10.254       client:   88]\u001b[m 0.0.0.0:48305 --->>> 255.255.255.255:5064 2 commands 48B\r\n",
      "\u001b[34m[D 20:55:10.254 _broadcaster:  143]\u001b[m 0.0.0.0:48305 <<<--- 10.20.1.233:5065 16B RepeaterConfirmResponse(repeater_address='10.20.1.233')\r\n",
      "\u001b[34m[D 20:55:10.255 _broadcaster:  143]\u001b[m 0.0.0.0:48305 <<<--- 10.20.1.233:5064 16B VersionResponse(version=13)\r\n",
      "\u001b[34m[D 20:55:10.255 _broadcaster:  143]\u001b[m 0.0.0.0:48305 <<<--- 10.20.1.233:5064 24B SearchResponse(port=52495, ip='255.255.255.255', cid=0, version=13)\r\n",
      "\u001b[34m[D 20:55:10.255       client:  133]\u001b[m Found 'simple:A' at 10.20.1.233:52495\r\n",
      "\u001b[34m[D 20:55:10.257     _circuit:  166]\u001b[m 10.20.1.233:41372 --->>> 10.20.1.233:52495 16B simple:A VersionRequest(priority=0, version=13)\r\n",
      "\u001b[34m[D 20:55:10.258     _circuit:  166]\u001b[m 10.20.1.233:41372 --->>> 10.20.1.233:52495 64B HostNameRequest(name='travis-job-203248fe-1f8d-43db-80b8-21349376657c')\r\n",
      "\u001b[34m[D 20:55:10.258     _circuit:  166]\u001b[m 10.20.1.233:41372 --->>> 10.20.1.233:52495 24B ClientNameRequest(name='travis')\r\n",
      "\u001b[34m[D 20:55:10.259     _circuit:  166]\u001b[m 10.20.1.233:41372 --->>> 10.20.1.233:52495 32B simple:A CreateChanRequest(name='simple:A', cid=0, version=13)\r\n",
      "\u001b[34m[D 20:55:10.259       client:  187]\u001b[m 10.20.1.233:41372 <<<--- 10.20.1.233:52495 16B VersionResponse(version=13)\r\n"
     ]
    },
    {
     "name": "stdout",
     "output_type": "stream",
     "text": [
      "\u001b[34m[D 20:55:10.302       client:  187]\u001b[m 10.20.1.233:41372 <<<--- 10.20.1.233:52495 16B AccessRightsResponse(cid=0, access_rights=<AccessRights.WRITE|READ: 3>)\r\n",
      "\u001b[34m[D 20:55:10.302       client:  187]\u001b[m 10.20.1.233:41372 <<<--- 10.20.1.233:52495 16B CreateChanResponse(data_type=<ChannelType.LONG: 5>, data_count=1, cid=0, sid=0)\r\n",
      "\u001b[32m[I 20:55:10.302       client:  191]\u001b[m simple:A Channel connected.\r\n",
      "\u001b[34m[D 20:55:10.302       client:  204]\u001b[m 10.20.1.233:52495 simple:A Detected native data_type <ChannelType.LONG: 5>.\r\n",
      "\u001b[34m[D 20:55:10.303     _circuit:  166]\u001b[m 10.20.1.233:41372 --->>> 10.20.1.233:52495 16B simple:A ReadNotifyRequest(data_type=<ChannelType.LONG: 5>, data_count=0, sid=0, ioid=0)\r\n",
      "\u001b[34m[D 20:55:10.304       client:  228]\u001b[m 10.20.1.233:41372 <<<--- 10.20.1.233:52495 20B simple:A ReadNotifyResponse(data=array([3], dtype=int32), data_type=<ChannelType.LONG: 5>, data_count=1, status=CAStatusCode(name='ECA_NORMAL', code=0, code_with_severity=1, severity=<CASeverity.SUCCESS: 1>, success=1, defunct=False, description='Normal successful completion'), ioid=0, metadata=None)\r\n",
      "\u001b[34m[D 20:55:10.304     _circuit:  166]\u001b[m 10.20.1.233:41372 --->>> 10.20.1.233:52495 16B simple:A ClearChannelRequest(sid=0, cid=0)\r\n",
      "simple:A                                  [3]\r\n"
     ]
    }
   ],
   "source": [
    "!caproto-get -vvv 'simple:A'"
   ]
  },
  {
   "cell_type": "markdown",
   "metadata": {},
   "source": [
    "## So many names\n",
    "\n",
    "In summary, we have:\n",
    "\n",
    "* The `pvname`, an address for machines\n",
    "* The `name`, a label for humans and downstream analysis code that wants `'temperature'` not `'PV:asdfoijefopefpoaewaopivjapoefijaeftep'`.\n",
    "* The name of the variable in Python, the name we use in the code. There could be multiple of these pointing to the same object, as in `a = b = EpicsSignal(...)`."
   ]
  }
 ],
 "metadata": {
  "kernelspec": {
   "display_name": "Python 3",
   "language": "python",
   "name": "python3"
  },
  "language_info": {
   "codemirror_mode": {
    "name": "ipython",
    "version": 3
   },
   "file_extension": ".py",
   "mimetype": "text/x-python",
   "name": "python",
   "nbconvert_exporter": "python",
   "pygments_lexer": "ipython3",
   "version": "3.7.1"
  }
 },
 "nbformat": 4,
 "nbformat_minor": 4
}
