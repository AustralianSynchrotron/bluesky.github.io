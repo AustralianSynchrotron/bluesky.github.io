{
 "cells": [
  {
   "cell_type": "markdown",
   "metadata": {},
   "source": [
    "# Anatomy of a Device\n",
    "\n",
    "In this notebook you will:\n",
    "\n",
    "* Understand the various methods of an ophyd Signal\n",
    "* Learn how to group Signals into Devices.\n",
    "* Learn how to specific \"pseudopositions\" that expose real axes (corresponding to physical hardware) and pseudoaxes, that move real axes via some mathematical transformation.\n",
    "\n",
    "Recommended Prerequisites:\n",
    "\n",
    "* [Hello Bluesky](./Hello%20Bluesky.ipynb)\n",
    "\n",
    "## Configuration\n",
    "Below, we will connect to EPICS IOC(s) controlling simulated hardware in lieu of actual motors, detectors. The IOCs should already be running in the background. Run this command to verify that they are running: it should produce output with RUNNING on each line. In the event of a problem, edit this command to replace `status` with `restart all` and run again."
   ]
  },
  {
   "cell_type": "code",
   "execution_count": 1,
   "metadata": {
    "execution": {
     "iopub.execute_input": "2021-03-28T22:27:34.395012Z",
     "iopub.status.busy": "2021-03-28T22:27:34.394117Z",
     "iopub.status.idle": "2021-03-28T22:27:34.716440Z",
     "shell.execute_reply": "2021-03-28T22:27:34.715870Z"
    }
   },
   "outputs": [
    {
     "name": "stdout",
     "output_type": "stream",
     "text": [
      "decay                            RUNNING   pid 4895, uptime 0:00:18\r\n",
      "mini_beamline                    RUNNING   pid 4896, uptime 0:00:18\r\n",
      "random_walk                      RUNNING   pid 4897, uptime 0:00:18\r\n",
      "random_walk_horiz                RUNNING   pid 4898, uptime 0:00:18\r\n",
      "random_walk_vert                 RUNNING   pid 4899, uptime 0:00:18\r\n",
      "simple                           RUNNING   pid 4900, uptime 0:00:18\r\n",
      "thermo_sim                       RUNNING   pid 4901, uptime 0:00:18\r\n",
      "trigger_with_pc                  FATAL     Exited too quickly (process log may have details)\r\n"
     ]
    }
   ],
   "source": [
    "!supervisorctl -c supervisor/supervisord.conf status"
   ]
  },
  {
   "cell_type": "code",
   "execution_count": 2,
   "metadata": {
    "execution": {
     "iopub.execute_input": "2021-03-28T22:27:34.723256Z",
     "iopub.status.busy": "2021-03-28T22:27:34.720992Z",
     "iopub.status.idle": "2021-03-28T22:27:36.707632Z",
     "shell.execute_reply": "2021-03-28T22:27:36.706597Z"
    }
   },
   "outputs": [
    {
     "name": "stderr",
     "output_type": "stream",
     "text": [
      "/home/travis/virtualenv/python3.7.1/lib/python3.7/site-packages/traitlets/traitlets.py:3036: FutureWarning: --rc={'figure.dpi': 96} for dict-traits is deprecated in traitlets 5.0. You can pass --rc <key=value> ... multiple times to add items to a dict.\n",
      "  FutureWarning,\n"
     ]
    },
    {
     "name": "stderr",
     "output_type": "stream",
     "text": [
      "/home/travis/virtualenv/python3.7.1/lib/python3.7/site-packages/pims/image_reader.py:26: RuntimeWarning: PIMS image_reader.py could not find scikit-image. Falling back to matplotlib's imread(), which uses floats instead of integers. This may break your scripts. \n",
      "(To ignore this warning, include the line \"warnings.simplefilter(\"ignore\", RuntimeWarning)\" in your script.)\n",
      "  warnings.warn(RuntimeWarning(ski_preferred))\n"
     ]
    }
   ],
   "source": [
    "%run scripts/beamline_configuration.py"
   ]
  },
  {
   "cell_type": "code",
   "execution_count": 3,
   "metadata": {
    "execution": {
     "iopub.execute_input": "2021-03-28T22:27:36.712135Z",
     "iopub.status.busy": "2021-03-28T22:27:36.711613Z",
     "iopub.status.idle": "2021-03-28T22:27:36.715240Z",
     "shell.execute_reply": "2021-03-28T22:27:36.714809Z"
    }
   },
   "outputs": [],
   "source": [
    "import time\n",
    "from ophyd import Device, Signal, Component as Cpt, DeviceStatus\n",
    "from ophyd.sim import SynSignal, SynPeriodicSignal"
   ]
  },
  {
   "cell_type": "markdown",
   "metadata": {},
   "source": [
    "## Interface to Signal"
   ]
  },
  {
   "cell_type": "code",
   "execution_count": 4,
   "metadata": {
    "execution": {
     "iopub.execute_input": "2021-03-28T22:27:36.721181Z",
     "iopub.status.busy": "2021-03-28T22:27:36.720571Z",
     "iopub.status.idle": "2021-03-28T22:27:36.723420Z",
     "shell.execute_reply": "2021-03-28T22:27:36.723820Z"
    }
   },
   "outputs": [
    {
     "data": {
      "text/plain": [
       "Signal(name='sig', value=3, timestamp=1616970456.7172682)"
      ]
     },
     "execution_count": 1,
     "metadata": {},
     "output_type": "execute_result"
    }
   ],
   "source": [
    "sig = Signal(name='sig', value=3)\n",
    "sig"
   ]
  },
  {
   "cell_type": "markdown",
   "metadata": {},
   "source": [
    "### Methods that require no communication with the IOC"
   ]
  },
  {
   "cell_type": "code",
   "execution_count": 5,
   "metadata": {
    "execution": {
     "iopub.execute_input": "2021-03-28T22:27:36.728325Z",
     "iopub.status.busy": "2021-03-28T22:27:36.727709Z",
     "iopub.status.idle": "2021-03-28T22:27:36.730561Z",
     "shell.execute_reply": "2021-03-28T22:27:36.731045Z"
    }
   },
   "outputs": [
    {
     "data": {
      "text/plain": [
       "'sig'"
      ]
     },
     "execution_count": 1,
     "metadata": {},
     "output_type": "execute_result"
    }
   ],
   "source": [
    "sig.name"
   ]
  },
  {
   "cell_type": "code",
   "execution_count": 6,
   "metadata": {
    "execution": {
     "iopub.execute_input": "2021-03-28T22:27:36.736058Z",
     "iopub.status.busy": "2021-03-28T22:27:36.735131Z",
     "iopub.status.idle": "2021-03-28T22:27:36.738080Z",
     "shell.execute_reply": "2021-03-28T22:27:36.738586Z"
    }
   },
   "outputs": [
    {
     "data": {
      "text/plain": [
       "True"
      ]
     },
     "execution_count": 1,
     "metadata": {},
     "output_type": "execute_result"
    }
   ],
   "source": [
    "sig.parent is None"
   ]
  },
  {
   "cell_type": "markdown",
   "metadata": {},
   "source": [
    "### Methods that ask the IOC to tell us something it already 'knows'"
   ]
  },
  {
   "cell_type": "code",
   "execution_count": 7,
   "metadata": {
    "execution": {
     "iopub.execute_input": "2021-03-28T22:27:36.743490Z",
     "iopub.status.busy": "2021-03-28T22:27:36.742560Z",
     "iopub.status.idle": "2021-03-28T22:27:36.745498Z",
     "shell.execute_reply": "2021-03-28T22:27:36.745905Z"
    }
   },
   "outputs": [
    {
     "data": {
      "text/plain": [
       "True"
      ]
     },
     "execution_count": 1,
     "metadata": {},
     "output_type": "execute_result"
    }
   ],
   "source": [
    "sig.connected"
   ]
  },
  {
   "cell_type": "code",
   "execution_count": 8,
   "metadata": {
    "execution": {
     "iopub.execute_input": "2021-03-28T22:27:36.751123Z",
     "iopub.status.busy": "2021-03-28T22:27:36.749884Z",
     "iopub.status.idle": "2021-03-28T22:27:36.752937Z",
     "shell.execute_reply": "2021-03-28T22:27:36.753335Z"
    }
   },
   "outputs": [
    {
     "data": {
      "text/plain": [
       "(0, 0)"
      ]
     },
     "execution_count": 1,
     "metadata": {},
     "output_type": "execute_result"
    }
   ],
   "source": [
    "sig.limits"
   ]
  },
  {
   "cell_type": "code",
   "execution_count": 9,
   "metadata": {
    "execution": {
     "iopub.execute_input": "2021-03-28T22:27:36.758948Z",
     "iopub.status.busy": "2021-03-28T22:27:36.757467Z",
     "iopub.status.idle": "2021-03-28T22:27:36.760722Z",
     "shell.execute_reply": "2021-03-28T22:27:36.761120Z"
    }
   },
   "outputs": [
    {
     "data": {
      "text/plain": [
       "{'sig': {'value': 3, 'timestamp': 1616970456.7172682}}"
      ]
     },
     "execution_count": 1,
     "metadata": {},
     "output_type": "execute_result"
    }
   ],
   "source": [
    "sig.read()"
   ]
  },
  {
   "cell_type": "code",
   "execution_count": 10,
   "metadata": {
    "execution": {
     "iopub.execute_input": "2021-03-28T22:27:36.766124Z",
     "iopub.status.busy": "2021-03-28T22:27:36.765477Z",
     "iopub.status.idle": "2021-03-28T22:27:36.768299Z",
     "shell.execute_reply": "2021-03-28T22:27:36.768699Z"
    }
   },
   "outputs": [
    {
     "data": {
      "text/plain": [
       "{'sig': {'source': 'SIM:sig', 'dtype': 'integer', 'shape': []}}"
      ]
     },
     "execution_count": 1,
     "metadata": {},
     "output_type": "execute_result"
    }
   ],
   "source": [
    "sig.describe()"
   ]
  },
  {
   "cell_type": "markdown",
   "metadata": {},
   "source": [
    "### Monitoring (subscribing for updates asynchronously)"
   ]
  },
  {
   "cell_type": "code",
   "execution_count": 11,
   "metadata": {
    "execution": {
     "iopub.execute_input": "2021-03-28T22:27:36.773435Z",
     "iopub.status.busy": "2021-03-28T22:27:36.772829Z",
     "iopub.status.idle": "2021-03-28T22:27:36.775588Z",
     "shell.execute_reply": "2021-03-28T22:27:36.776092Z"
    }
   },
   "outputs": [
    {
     "data": {
      "text/plain": [
       "0"
      ]
     },
     "execution_count": 1,
     "metadata": {},
     "output_type": "execute_result"
    }
   ],
   "source": [
    "def cb(value, old_value, **a_whole_bunch_of_junk):\n",
    "    print(f'changed from {old_value} to {value}')\n",
    "    \n",
    "sig.subscribe(cb)\n",
    "# The act of subscribing always generates one reading immediately..."
   ]
  },
  {
   "cell_type": "markdown",
   "metadata": {},
   "source": [
    "If this were an `EpicsSignal` instead of a `Signal`, `cb` would be called from a thread every time pyepics receives a new update about the value of `sig`. In this case, we have to update it manually."
   ]
  },
  {
   "cell_type": "code",
   "execution_count": 12,
   "metadata": {
    "execution": {
     "iopub.execute_input": "2021-03-28T22:27:36.779742Z",
     "iopub.status.busy": "2021-03-28T22:27:36.779215Z",
     "iopub.status.idle": "2021-03-28T22:27:36.781376Z",
     "shell.execute_reply": "2021-03-28T22:27:36.781820Z"
    }
   },
   "outputs": [
    {
     "name": "stdout",
     "output_type": "stream",
     "text": [
      "changed from 3 to 5\n"
     ]
    }
   ],
   "source": [
    "sig.put(5)"
   ]
  },
  {
   "cell_type": "code",
   "execution_count": 13,
   "metadata": {
    "execution": {
     "iopub.execute_input": "2021-03-28T22:27:36.785535Z",
     "iopub.status.busy": "2021-03-28T22:27:36.784921Z",
     "iopub.status.idle": "2021-03-28T22:27:36.787491Z",
     "shell.execute_reply": "2021-03-28T22:27:36.787907Z"
    }
   },
   "outputs": [
    {
     "name": "stdout",
     "output_type": "stream",
     "text": [
      "changed from 5 to 10\n"
     ]
    }
   ],
   "source": [
    "sig.put(10)"
   ]
  },
  {
   "cell_type": "markdown",
   "metadata": {},
   "source": [
    "Or we can connect to the `random_walk` IOC which publishes a new updates at a regular interval."
   ]
  },
  {
   "cell_type": "code",
   "execution_count": 14,
   "metadata": {
    "execution": {
     "iopub.execute_input": "2021-03-28T22:27:36.792115Z",
     "iopub.status.busy": "2021-03-28T22:27:36.791573Z",
     "iopub.status.idle": "2021-03-28T22:27:36.796297Z",
     "shell.execute_reply": "2021-03-28T22:27:36.796682Z"
    }
   },
   "outputs": [],
   "source": [
    "from ophyd import EpicsSignal\n",
    "\n",
    "rand = EpicsSignal('random_walk:x', name='rand')\n",
    "token = rand.subscribe(cb)"
   ]
  },
  {
   "cell_type": "code",
   "execution_count": 15,
   "metadata": {
    "execution": {
     "iopub.execute_input": "2021-03-28T22:27:36.804070Z",
     "iopub.status.busy": "2021-03-28T22:27:36.802754Z",
     "iopub.status.idle": "2021-03-28T22:27:36.806902Z",
     "shell.execute_reply": "2021-03-28T22:27:36.807292Z"
    }
   },
   "outputs": [],
   "source": [
    "rand.unsubscribe(token)"
   ]
  },
  {
   "cell_type": "markdown",
   "metadata": {},
   "source": [
    "### Methods that ask the IOC to take a (potentially lengthy) action"
   ]
  },
  {
   "cell_type": "code",
   "execution_count": 16,
   "metadata": {
    "execution": {
     "iopub.execute_input": "2021-03-28T22:27:36.811286Z",
     "iopub.status.busy": "2021-03-28T22:27:36.810780Z",
     "iopub.status.idle": "2021-03-28T22:27:36.817068Z",
     "shell.execute_reply": "2021-03-28T22:27:36.817456Z"
    }
   },
   "outputs": [
    {
     "name": "stdout",
     "output_type": "stream",
     "text": [
      "changed from 10 to 5\n",
      "finished at t = 1616970456.8126624\n"
     ]
    },
    {
     "name": "stderr",
     "output_type": "stream",
     "text": [
      "/home/travis/virtualenv/python3.7.1/lib/python3.7/site-packages/ipykernel_launcher.py:5: DeprecationWarning: The signature of a Status callback is now expected to be cb(status). The signature cb() is supported, but support will be removed in a future release of ophyd.\n",
      "  \"\"\"\n"
     ]
    }
   ],
   "source": [
    "def cb():\n",
    "    print(\"finished at t =\", time.time())\n",
    "\n",
    "status = sig.set(5)\n",
    "status.add_callback(cb)"
   ]
  },
  {
   "cell_type": "code",
   "execution_count": 17,
   "metadata": {
    "execution": {
     "iopub.execute_input": "2021-03-28T22:27:36.822829Z",
     "iopub.status.busy": "2021-03-28T22:27:36.821437Z",
     "iopub.status.idle": "2021-03-28T22:27:36.824607Z",
     "shell.execute_reply": "2021-03-28T22:27:36.825009Z"
    }
   },
   "outputs": [
    {
     "data": {
      "text/plain": [
       "Status(obj=Signal(name='sig', value=5, timestamp=1616970456.811568), done=True, success=True)"
      ]
     },
     "execution_count": 1,
     "metadata": {},
     "output_type": "execute_result"
    }
   ],
   "source": [
    "status"
   ]
  },
  {
   "cell_type": "code",
   "execution_count": 18,
   "metadata": {
    "execution": {
     "iopub.execute_input": "2021-03-28T22:27:36.829244Z",
     "iopub.status.busy": "2021-03-28T22:27:36.828640Z",
     "iopub.status.idle": "2021-03-28T22:27:36.831735Z",
     "shell.execute_reply": "2021-03-28T22:27:36.832142Z"
    }
   },
   "outputs": [
    {
     "data": {
      "text/plain": [
       "True"
      ]
     },
     "execution_count": 1,
     "metadata": {},
     "output_type": "execute_result"
    }
   ],
   "source": [
    "status.done"
   ]
  },
  {
   "cell_type": "code",
   "execution_count": 19,
   "metadata": {
    "execution": {
     "iopub.execute_input": "2021-03-28T22:27:36.835291Z",
     "iopub.status.busy": "2021-03-28T22:27:36.834785Z",
     "iopub.status.idle": "2021-03-28T22:27:36.840822Z",
     "shell.execute_reply": "2021-03-28T22:27:36.841231Z"
    }
   },
   "outputs": [
    {
     "name": "stderr",
     "output_type": "stream",
     "text": [
      "/home/travis/virtualenv/python3.7.1/lib/python3.7/site-packages/ipykernel_launcher.py:2: DeprecationWarning: The signature of a Status callback is now expected to be cb(status). The signature cb() is supported, but support will be removed in a future release of ophyd.\n",
      "  \n"
     ]
    },
    {
     "name": "stdout",
     "output_type": "stream",
     "text": [
      "finished at t = 1616970456.8361418\n"
     ]
    }
   ],
   "source": [
    "status = sig.trigger()\n",
    "status.add_callback(cb)"
   ]
  },
  {
   "cell_type": "markdown",
   "metadata": {},
   "source": [
    "## Interface of a Status object"
   ]
  },
  {
   "cell_type": "code",
   "execution_count": 20,
   "metadata": {
    "execution": {
     "iopub.execute_input": "2021-03-28T22:27:36.844665Z",
     "iopub.status.busy": "2021-03-28T22:27:36.844134Z",
     "iopub.status.idle": "2021-03-28T22:27:36.848109Z",
     "shell.execute_reply": "2021-03-28T22:27:36.847693Z"
    }
   },
   "outputs": [],
   "source": [
    "status = DeviceStatus(sig)"
   ]
  },
  {
   "cell_type": "code",
   "execution_count": 21,
   "metadata": {
    "execution": {
     "iopub.execute_input": "2021-03-28T22:27:36.852310Z",
     "iopub.status.busy": "2021-03-28T22:27:36.851624Z",
     "iopub.status.idle": "2021-03-28T22:27:36.854567Z",
     "shell.execute_reply": "2021-03-28T22:27:36.854951Z"
    }
   },
   "outputs": [
    {
     "data": {
      "text/plain": [
       "False"
      ]
     },
     "execution_count": 1,
     "metadata": {},
     "output_type": "execute_result"
    }
   ],
   "source": [
    "status.done"
   ]
  },
  {
   "cell_type": "code",
   "execution_count": 22,
   "metadata": {
    "execution": {
     "iopub.execute_input": "2021-03-28T22:27:36.859530Z",
     "iopub.status.busy": "2021-03-28T22:27:36.858878Z",
     "iopub.status.idle": "2021-03-28T22:27:36.861738Z",
     "shell.execute_reply": "2021-03-28T22:27:36.862124Z"
    }
   },
   "outputs": [
    {
     "data": {
      "text/plain": [
       "False"
      ]
     },
     "execution_count": 1,
     "metadata": {},
     "output_type": "execute_result"
    }
   ],
   "source": [
    "status.success"
   ]
  },
  {
   "cell_type": "code",
   "execution_count": 23,
   "metadata": {
    "execution": {
     "iopub.execute_input": "2021-03-28T22:27:36.867324Z",
     "iopub.status.busy": "2021-03-28T22:27:36.865876Z",
     "iopub.status.idle": "2021-03-28T22:27:36.868967Z",
     "shell.execute_reply": "2021-03-28T22:27:36.868542Z"
    }
   },
   "outputs": [
    {
     "name": "stderr",
     "output_type": "stream",
     "text": [
      "/home/travis/virtualenv/python3.7.1/lib/python3.7/site-packages/ipykernel_launcher.py:4: DeprecationWarning: The signature of a Status callback is now expected to be cb(status). The signature cb() is supported, but support will be removed in a future release of ophyd.\n",
      "  after removing the cwd from sys.path.\n"
     ]
    }
   ],
   "source": [
    "def cb():\n",
    "    print(\"BOOM\")\n",
    "\n",
    "status.add_callback(cb)"
   ]
  },
  {
   "cell_type": "code",
   "execution_count": 24,
   "metadata": {
    "execution": {
     "iopub.execute_input": "2021-03-28T22:27:36.873409Z",
     "iopub.status.busy": "2021-03-28T22:27:36.872845Z",
     "iopub.status.idle": "2021-03-28T22:27:36.875565Z",
     "shell.execute_reply": "2021-03-28T22:27:36.875958Z"
    }
   },
   "outputs": [
    {
     "data": {
      "text/plain": [
       "deque([<function ophyd.utils.adapt_old_callback_signature.<locals>.callback(status)>])"
      ]
     },
     "execution_count": 1,
     "metadata": {},
     "output_type": "execute_result"
    }
   ],
   "source": [
    "status.callbacks"
   ]
  },
  {
   "cell_type": "code",
   "execution_count": 25,
   "metadata": {
    "execution": {
     "iopub.execute_input": "2021-03-28T22:27:36.879553Z",
     "iopub.status.busy": "2021-03-28T22:27:36.879025Z",
     "iopub.status.idle": "2021-03-28T22:27:36.883809Z",
     "shell.execute_reply": "2021-03-28T22:27:36.884203Z"
    }
   },
   "outputs": [
    {
     "data": {
      "text/plain": [
       "Signal(name='sig', value=5, timestamp=1616970456.811568)"
      ]
     },
     "execution_count": 1,
     "metadata": {},
     "output_type": "execute_result"
    }
   ],
   "source": [
    "status.device  # the Device or Signal that the Status pertains to"
   ]
  },
  {
   "cell_type": "code",
   "execution_count": 26,
   "metadata": {
    "execution": {
     "iopub.execute_input": "2021-03-28T22:27:36.889229Z",
     "iopub.status.busy": "2021-03-28T22:27:36.887671Z",
     "iopub.status.idle": "2021-03-28T22:27:36.891083Z",
     "shell.execute_reply": "2021-03-28T22:27:36.890604Z"
    }
   },
   "outputs": [
    {
     "name": "stdout",
     "output_type": "stream",
     "text": [
      "BOOM\n"
     ]
    }
   ],
   "source": [
    "status._finished()"
   ]
  },
  {
   "cell_type": "code",
   "execution_count": 27,
   "metadata": {
    "execution": {
     "iopub.execute_input": "2021-03-28T22:27:36.895463Z",
     "iopub.status.busy": "2021-03-28T22:27:36.894879Z",
     "iopub.status.idle": "2021-03-28T22:27:36.897661Z",
     "shell.execute_reply": "2021-03-28T22:27:36.898045Z"
    }
   },
   "outputs": [
    {
     "data": {
      "text/plain": [
       "True"
      ]
     },
     "execution_count": 1,
     "metadata": {},
     "output_type": "execute_result"
    }
   ],
   "source": [
    "status.done"
   ]
  },
  {
   "cell_type": "code",
   "execution_count": 28,
   "metadata": {
    "execution": {
     "iopub.execute_input": "2021-03-28T22:27:36.902361Z",
     "iopub.status.busy": "2021-03-28T22:27:36.901788Z",
     "iopub.status.idle": "2021-03-28T22:27:36.904544Z",
     "shell.execute_reply": "2021-03-28T22:27:36.904961Z"
    }
   },
   "outputs": [
    {
     "data": {
      "text/plain": [
       "True"
      ]
     },
     "execution_count": 1,
     "metadata": {},
     "output_type": "execute_result"
    }
   ],
   "source": [
    "status.success"
   ]
  },
  {
   "cell_type": "code",
   "execution_count": 29,
   "metadata": {
    "execution": {
     "iopub.execute_input": "2021-03-28T22:27:36.910084Z",
     "iopub.status.busy": "2021-03-28T22:27:36.908149Z",
     "iopub.status.idle": "2021-03-28T22:27:36.915691Z",
     "shell.execute_reply": "2021-03-28T22:27:36.915276Z"
    }
   },
   "outputs": [
    {
     "name": "stderr",
     "output_type": "stream",
     "text": [
      "/home/travis/virtualenv/python3.7.1/lib/python3.7/site-packages/ipykernel_launcher.py:3: DeprecationWarning: The signature of a Status callback is now expected to be cb(status). The signature cb() is supported, but support will be removed in a future release of ophyd.\n",
      "  This is separate from the ipykernel package so we can avoid doing imports until\n",
      "DeviceStatus(device=sig, done=True, success=False) encountered an error during _handle_failure()\n",
      "Traceback (most recent call last):\n",
      "  File \"/home/travis/virtualenv/python3.7.1/lib/python3.7/site-packages/ophyd/status.py\", line 253, in _run_callbacks\n",
      "    self._handle_failure()\n",
      "  File \"/home/travis/virtualenv/python3.7.1/lib/python3.7/site-packages/ophyd/status.py\", line 608, in _handle_failure\n",
      "    self.device.stop()\n",
      "AttributeError: 'Signal' object has no attribute 'stop'\n"
     ]
    },
    {
     "data": {
      "text/plain": [
       "False"
      ]
     },
     "execution_count": 1,
     "metadata": {},
     "output_type": "execute_result"
    },
    {
     "name": "stdout",
     "output_type": "stream",
     "text": [
      "BOOM\n"
     ]
    }
   ],
   "source": [
    "# Failure looks like this:\n",
    "status = DeviceStatus(sig)\n",
    "status.add_callback(cb)\n",
    "status._finished(success=False)\n",
    "status.success"
   ]
  },
  {
   "cell_type": "markdown",
   "metadata": {},
   "source": [
    "We'll see later how to actually use this in practice."
   ]
  },
  {
   "cell_type": "markdown",
   "metadata": {},
   "source": [
    "## Interface to Device"
   ]
  },
  {
   "cell_type": "code",
   "execution_count": 30,
   "metadata": {
    "execution": {
     "iopub.execute_input": "2021-03-28T22:27:36.922106Z",
     "iopub.status.busy": "2021-03-28T22:27:36.920385Z",
     "iopub.status.idle": "2021-03-28T22:27:36.922686Z",
     "shell.execute_reply": "2021-03-28T22:27:36.923079Z"
    }
   },
   "outputs": [],
   "source": [
    "# This encodes the _structure_ of a kind of Device.\n",
    "# Real examples include EpicsMotor, EpicsScaler or user-defined\n",
    "# combinations of these, such as a platform that can move in X and Y.\n",
    "\n",
    "class Platform(Device):\n",
    "    x = Cpt(Signal, value=3)\n",
    "    y = Cpt(Signal, value=4)\n",
    "    \n",
    "p1 = Platform(name='p1')\n",
    "p2 = Platform(name='p2')"
   ]
  },
  {
   "cell_type": "markdown",
   "metadata": {},
   "source": [
    "### Names and relationships"
   ]
  },
  {
   "cell_type": "code",
   "execution_count": 31,
   "metadata": {
    "execution": {
     "iopub.execute_input": "2021-03-28T22:27:36.927576Z",
     "iopub.status.busy": "2021-03-28T22:27:36.927001Z",
     "iopub.status.idle": "2021-03-28T22:27:36.929281Z",
     "shell.execute_reply": "2021-03-28T22:27:36.929670Z"
    }
   },
   "outputs": [
    {
     "data": {
      "text/plain": [
       "Platform(prefix='', name='p1', read_attrs=['x', 'y'], configuration_attrs=[])"
      ]
     },
     "execution_count": 1,
     "metadata": {},
     "output_type": "execute_result"
    }
   ],
   "source": [
    "p1"
   ]
  },
  {
   "cell_type": "code",
   "execution_count": 32,
   "metadata": {
    "execution": {
     "iopub.execute_input": "2021-03-28T22:27:36.933502Z",
     "iopub.status.busy": "2021-03-28T22:27:36.932861Z",
     "iopub.status.idle": "2021-03-28T22:27:36.935944Z",
     "shell.execute_reply": "2021-03-28T22:27:36.935522Z"
    }
   },
   "outputs": [
    {
     "data": {
      "text/plain": [
       "('x', 'y')"
      ]
     },
     "execution_count": 1,
     "metadata": {},
     "output_type": "execute_result"
    }
   ],
   "source": [
    "p1.component_names"
   ]
  },
  {
   "cell_type": "code",
   "execution_count": 33,
   "metadata": {
    "execution": {
     "iopub.execute_input": "2021-03-28T22:27:36.939759Z",
     "iopub.status.busy": "2021-03-28T22:27:36.939121Z",
     "iopub.status.idle": "2021-03-28T22:27:36.942197Z",
     "shell.execute_reply": "2021-03-28T22:27:36.941791Z"
    }
   },
   "outputs": [
    {
     "data": {
      "text/plain": [
       "Signal(name='p1_x', parent='p1', value=3, timestamp=1616970456.9187677)"
      ]
     },
     "execution_count": 1,
     "metadata": {},
     "output_type": "execute_result"
    }
   ],
   "source": [
    "p1.x"
   ]
  },
  {
   "cell_type": "code",
   "execution_count": 34,
   "metadata": {
    "execution": {
     "iopub.execute_input": "2021-03-28T22:27:36.946021Z",
     "iopub.status.busy": "2021-03-28T22:27:36.945394Z",
     "iopub.status.idle": "2021-03-28T22:27:36.948482Z",
     "shell.execute_reply": "2021-03-28T22:27:36.948080Z"
    }
   },
   "outputs": [
    {
     "data": {
      "text/plain": [
       "Signal(name='p1_y', parent='p1', value=4, timestamp=1616970456.918838)"
      ]
     },
     "execution_count": 1,
     "metadata": {},
     "output_type": "execute_result"
    }
   ],
   "source": [
    "p1.y"
   ]
  },
  {
   "cell_type": "code",
   "execution_count": 35,
   "metadata": {
    "execution": {
     "iopub.execute_input": "2021-03-28T22:27:36.952239Z",
     "iopub.status.busy": "2021-03-28T22:27:36.951573Z",
     "iopub.status.idle": "2021-03-28T22:27:36.954952Z",
     "shell.execute_reply": "2021-03-28T22:27:36.954486Z"
    }
   },
   "outputs": [
    {
     "data": {
      "text/plain": [
       "'p1'"
      ]
     },
     "execution_count": 1,
     "metadata": {},
     "output_type": "execute_result"
    }
   ],
   "source": [
    "p1.name"
   ]
  },
  {
   "cell_type": "code",
   "execution_count": 36,
   "metadata": {
    "execution": {
     "iopub.execute_input": "2021-03-28T22:27:36.959178Z",
     "iopub.status.busy": "2021-03-28T22:27:36.958339Z",
     "iopub.status.idle": "2021-03-28T22:27:36.961703Z",
     "shell.execute_reply": "2021-03-28T22:27:36.962117Z"
    }
   },
   "outputs": [
    {
     "data": {
      "text/plain": [
       "'p1_x'"
      ]
     },
     "execution_count": 1,
     "metadata": {},
     "output_type": "execute_result"
    }
   ],
   "source": [
    "p1.x.name"
   ]
  },
  {
   "cell_type": "code",
   "execution_count": 37,
   "metadata": {
    "execution": {
     "iopub.execute_input": "2021-03-28T22:27:36.965905Z",
     "iopub.status.busy": "2021-03-28T22:27:36.965288Z",
     "iopub.status.idle": "2021-03-28T22:27:36.967905Z",
     "shell.execute_reply": "2021-03-28T22:27:36.968333Z"
    }
   },
   "outputs": [
    {
     "data": {
      "text/plain": [
       "True"
      ]
     },
     "execution_count": 1,
     "metadata": {},
     "output_type": "execute_result"
    }
   ],
   "source": [
    "p1.x.parent is p1"
   ]
  },
  {
   "cell_type": "markdown",
   "metadata": {},
   "source": [
    "### Reading the parent combines the readings of its children"
   ]
  },
  {
   "cell_type": "code",
   "execution_count": 38,
   "metadata": {
    "execution": {
     "iopub.execute_input": "2021-03-28T22:27:36.972880Z",
     "iopub.status.busy": "2021-03-28T22:27:36.972278Z",
     "iopub.status.idle": "2021-03-28T22:27:36.975058Z",
     "shell.execute_reply": "2021-03-28T22:27:36.975444Z"
    }
   },
   "outputs": [
    {
     "data": {
      "text/plain": [
       "OrderedDict([('p1_x', {'value': 3, 'timestamp': 1616970456.9187677}),\n",
       "             ('p1_y', {'value': 4, 'timestamp': 1616970456.918838})])"
      ]
     },
     "execution_count": 1,
     "metadata": {},
     "output_type": "execute_result"
    }
   ],
   "source": [
    "p1.read()"
   ]
  },
  {
   "cell_type": "code",
   "execution_count": 39,
   "metadata": {
    "execution": {
     "iopub.execute_input": "2021-03-28T22:27:36.979970Z",
     "iopub.status.busy": "2021-03-28T22:27:36.979381Z",
     "iopub.status.idle": "2021-03-28T22:27:36.981812Z",
     "shell.execute_reply": "2021-03-28T22:27:36.982229Z"
    }
   },
   "outputs": [
    {
     "data": {
      "text/plain": [
       "{'p1_x': {'value': 3, 'timestamp': 1616970456.9187677}}"
      ]
     },
     "execution_count": 1,
     "metadata": {},
     "output_type": "execute_result"
    }
   ],
   "source": [
    "p1.x.read()"
   ]
  },
  {
   "cell_type": "markdown",
   "metadata": {},
   "source": [
    "and `describe` works exactly the same way:"
   ]
  },
  {
   "cell_type": "code",
   "execution_count": 40,
   "metadata": {
    "execution": {
     "iopub.execute_input": "2021-03-28T22:27:36.986315Z",
     "iopub.status.busy": "2021-03-28T22:27:36.985707Z",
     "iopub.status.idle": "2021-03-28T22:27:36.988731Z",
     "shell.execute_reply": "2021-03-28T22:27:36.988305Z"
    }
   },
   "outputs": [
    {
     "data": {
      "text/plain": [
       "OrderedDict([('p1_x', {'source': 'SIM:p1_x', 'dtype': 'integer', 'shape': []}),\n",
       "             ('p1_y',\n",
       "              {'source': 'SIM:p1_y', 'dtype': 'integer', 'shape': []})])"
      ]
     },
     "execution_count": 1,
     "metadata": {},
     "output_type": "execute_result"
    }
   ],
   "source": [
    "p1.describe()"
   ]
  },
  {
   "cell_type": "code",
   "execution_count": 41,
   "metadata": {
    "execution": {
     "iopub.execute_input": "2021-03-28T22:27:36.993128Z",
     "iopub.status.busy": "2021-03-28T22:27:36.992535Z",
     "iopub.status.idle": "2021-03-28T22:27:36.995294Z",
     "shell.execute_reply": "2021-03-28T22:27:36.995683Z"
    }
   },
   "outputs": [
    {
     "data": {
      "text/plain": [
       "{'p1_x': {'source': 'SIM:p1_x', 'dtype': 'integer', 'shape': []}}"
      ]
     },
     "execution_count": 1,
     "metadata": {},
     "output_type": "execute_result"
    }
   ],
   "source": [
    "p1.x.describe()"
   ]
  },
  {
   "cell_type": "markdown",
   "metadata": {},
   "source": [
    "### Components are sorted into categories:\n",
    "\n",
    "* `OMITTED` -- not read (exposed for debugging only)\n",
    "* `NORMAL` / `read_attrs` -- things to read once per Event (i.e. row in the table)\n",
    "* `CONFIG` / `configuration_attrs` -- things to read once per Event Descriptor (which usually means one per run)\n",
    "* things ommitted from data collection entirely, but available for debugging etc.\n",
    "* `HINTED` -- subset of `NORMAL` flagged as interesting"
   ]
  },
  {
   "cell_type": "code",
   "execution_count": 42,
   "metadata": {
    "execution": {
     "iopub.execute_input": "2021-03-28T22:27:37.000004Z",
     "iopub.status.busy": "2021-03-28T22:27:36.999410Z",
     "iopub.status.idle": "2021-03-28T22:27:37.002174Z",
     "shell.execute_reply": "2021-03-28T22:27:37.002577Z"
    }
   },
   "outputs": [
    {
     "data": {
      "text/plain": [
       "['x', 'y']"
      ]
     },
     "execution_count": 1,
     "metadata": {},
     "output_type": "execute_result"
    }
   ],
   "source": [
    "p1.read_attrs"
   ]
  },
  {
   "cell_type": "code",
   "execution_count": 43,
   "metadata": {
    "execution": {
     "iopub.execute_input": "2021-03-28T22:27:37.006893Z",
     "iopub.status.busy": "2021-03-28T22:27:37.006246Z",
     "iopub.status.idle": "2021-03-28T22:27:37.009091Z",
     "shell.execute_reply": "2021-03-28T22:27:37.009671Z"
    }
   },
   "outputs": [
    {
     "data": {
      "text/plain": [
       "[]"
      ]
     },
     "execution_count": 1,
     "metadata": {},
     "output_type": "execute_result"
    }
   ],
   "source": [
    "p1.configuration_attrs"
   ]
  },
  {
   "cell_type": "code",
   "execution_count": 44,
   "metadata": {
    "execution": {
     "iopub.execute_input": "2021-03-28T22:27:37.015654Z",
     "iopub.status.busy": "2021-03-28T22:27:37.014292Z",
     "iopub.status.idle": "2021-03-28T22:27:37.016370Z",
     "shell.execute_reply": "2021-03-28T22:27:37.016767Z"
    }
   },
   "outputs": [],
   "source": [
    "# dumb example...\n",
    "\n",
    "class Platform(Device):\n",
    "    x = Cpt(Signal, value=3)\n",
    "    y = Cpt(Signal, value=4)\n",
    "    motion_compensation = Cpt(Signal, value=1, kind='CONFIG')  # a boolean\n",
    "    \n",
    "p1 = Platform(name='p1')\n",
    "p2 = Platform(name='p2')"
   ]
  },
  {
   "cell_type": "code",
   "execution_count": 45,
   "metadata": {
    "execution": {
     "iopub.execute_input": "2021-03-28T22:27:37.021079Z",
     "iopub.status.busy": "2021-03-28T22:27:37.020487Z",
     "iopub.status.idle": "2021-03-28T22:27:37.023230Z",
     "shell.execute_reply": "2021-03-28T22:27:37.023618Z"
    }
   },
   "outputs": [
    {
     "data": {
      "text/plain": [
       "['x', 'y']"
      ]
     },
     "execution_count": 1,
     "metadata": {},
     "output_type": "execute_result"
    }
   ],
   "source": [
    "p1.read_attrs"
   ]
  },
  {
   "cell_type": "code",
   "execution_count": 46,
   "metadata": {
    "execution": {
     "iopub.execute_input": "2021-03-28T22:27:37.027871Z",
     "iopub.status.busy": "2021-03-28T22:27:37.027276Z",
     "iopub.status.idle": "2021-03-28T22:27:37.030004Z",
     "shell.execute_reply": "2021-03-28T22:27:37.030384Z"
    }
   },
   "outputs": [
    {
     "data": {
      "text/plain": [
       "['motion_compensation']"
      ]
     },
     "execution_count": 1,
     "metadata": {},
     "output_type": "execute_result"
    }
   ],
   "source": [
    "p1.configuration_attrs"
   ]
  },
  {
   "cell_type": "code",
   "execution_count": 47,
   "metadata": {
    "execution": {
     "iopub.execute_input": "2021-03-28T22:27:37.034794Z",
     "iopub.status.busy": "2021-03-28T22:27:37.034190Z",
     "iopub.status.idle": "2021-03-28T22:27:37.038190Z",
     "shell.execute_reply": "2021-03-28T22:27:37.038598Z"
    }
   },
   "outputs": [
    {
     "data": {
      "text/plain": [
       "OrderedDict([('p1_motion_compensation',\n",
       "              {'value': 1, 'timestamp': 1616970457.012623})])"
      ]
     },
     "execution_count": 1,
     "metadata": {},
     "output_type": "execute_result"
    }
   ],
   "source": [
    "p1.read_configuration()"
   ]
  },
  {
   "cell_type": "code",
   "execution_count": 48,
   "metadata": {
    "execution": {
     "iopub.execute_input": "2021-03-28T22:27:37.042474Z",
     "iopub.status.busy": "2021-03-28T22:27:37.041818Z",
     "iopub.status.idle": "2021-03-28T22:27:37.044741Z",
     "shell.execute_reply": "2021-03-28T22:27:37.045127Z"
    }
   },
   "outputs": [
    {
     "data": {
      "text/plain": [
       "OrderedDict([('p1_motion_compensation',\n",
       "              {'source': 'SIM:p1_motion_compensation',\n",
       "               'dtype': 'integer',\n",
       "               'shape': []})])"
      ]
     },
     "execution_count": 1,
     "metadata": {},
     "output_type": "execute_result"
    }
   ],
   "source": [
    "p1.describe_configuration()"
   ]
  },
  {
   "cell_type": "markdown",
   "metadata": {},
   "source": [
    "The data from `configuration_attrs` isn't displayed by the built-in callbacks..."
   ]
  },
  {
   "cell_type": "code",
   "execution_count": 49,
   "metadata": {
    "execution": {
     "iopub.execute_input": "2021-03-28T22:27:37.054584Z",
     "iopub.status.busy": "2021-03-28T22:27:37.053931Z",
     "iopub.status.idle": "2021-03-28T22:27:37.162273Z",
     "shell.execute_reply": "2021-03-28T22:27:37.161809Z"
    }
   },
   "outputs": [
    {
     "name": "stdout",
     "output_type": "stream",
     "text": [
      "\n",
      "\n",
      "Transient Scan ID: 1     Time: 2021-03-28 22:27:37\n",
      "Persistent Unique Scan ID: 'e5f7417c-b6e6-4cd5-8080-7ba90995c854'\n",
      "New stream: 'primary'\n",
      "+-----------+------------+\n",
      "|   seq_num |       time |\n",
      "+-----------+------------+\n",
      "|         1 | 22:27:37.0 |\n"
     ]
    },
    {
     "name": "stdout",
     "output_type": "stream",
     "text": [
      "+-----------+------------+\n",
      "generator count ['e5f7417c'] (scan num: 1)\n",
      "\n",
      "\n",
      "\n"
     ]
    },
    {
     "data": {
      "text/plain": [
       "('e5f7417c-b6e6-4cd5-8080-7ba90995c854',)"
      ]
     },
     "execution_count": 1,
     "metadata": {},
     "output_type": "execute_result"
    }
   ],
   "source": [
    "RE(count([p1]))"
   ]
  },
  {
   "cell_type": "markdown",
   "metadata": {},
   "source": [
    "... but the data is saved, and it can accessed conveniently like so:"
   ]
  },
  {
   "cell_type": "code",
   "execution_count": 50,
   "metadata": {
    "execution": {
     "iopub.execute_input": "2021-03-28T22:27:37.175430Z",
     "iopub.status.busy": "2021-03-28T22:27:37.174296Z",
     "iopub.status.idle": "2021-03-28T22:27:37.177126Z",
     "shell.execute_reply": "2021-03-28T22:27:37.177652Z"
    }
   },
   "outputs": [
    {
     "data": {
      "text/plain": [
       "{'primary': [{'p1_motion_compensation': 1}]}"
      ]
     },
     "execution_count": 1,
     "metadata": {},
     "output_type": "execute_result"
    }
   ],
   "source": [
    "h = db[-1]\n",
    "h.config_data('p1')"
   ]
  },
  {
   "cell_type": "code",
   "execution_count": 51,
   "metadata": {
    "execution": {
     "iopub.execute_input": "2021-03-28T22:27:37.182574Z",
     "iopub.status.busy": "2021-03-28T22:27:37.181238Z",
     "iopub.status.idle": "2021-03-28T22:27:37.184333Z",
     "shell.execute_reply": "2021-03-28T22:27:37.183917Z"
    }
   },
   "outputs": [
    {
     "name": "stdout",
     "output_type": "stream",
     "text": [
      "data keys (* hints)\n",
      "-------------------\n",
      " p1_x\n",
      " p1_y\n",
      "\n",
      "read attrs\n",
      "----------\n",
      "x                    Signal              ('p1_x')\n",
      "y                    Signal              ('p1_y')\n",
      "\n",
      "config keys\n",
      "-----------\n",
      "p1_motion_compensation\n",
      "\n",
      "configuration attrs\n",
      "-------------------\n",
      "motion_compensation  Signal              ('p1_motion_compensation')\n",
      "\n",
      "unused attrs\n",
      "------------\n",
      "\n"
     ]
    }
   ],
   "source": [
    "p1.summary()"
   ]
  },
  {
   "cell_type": "markdown",
   "metadata": {},
   "source": [
    "Hints are meant to help downstream consumers of the data correctly infer user intent and automatically construct useful views on the data. They are only a suggestion. *They do not affect what is saved.*"
   ]
  },
  {
   "cell_type": "code",
   "execution_count": 52,
   "metadata": {
    "execution": {
     "iopub.execute_input": "2021-03-28T22:27:37.190203Z",
     "iopub.status.busy": "2021-03-28T22:27:37.189588Z",
     "iopub.status.idle": "2021-03-28T22:27:37.192348Z",
     "shell.execute_reply": "2021-03-28T22:27:37.192731Z"
    }
   },
   "outputs": [
    {
     "data": {
      "text/plain": [
       "{'fields': ['p1_x', 'p1_y']}"
      ]
     },
     "execution_count": 1,
     "metadata": {},
     "output_type": "execute_result"
    }
   ],
   "source": [
    "# dumb example...\n",
    "\n",
    "class Platform(Device):\n",
    "    x = Cpt(Signal, value=3, kind='hinted')\n",
    "    y = Cpt(Signal, value=4, kind='hinted')\n",
    "    motion_compensation = Cpt(Signal, value=1, kind='config')  # a boolean\n",
    "    \n",
    "p1 = Platform(name='p1')\n",
    "p1.hints"
   ]
  },
  {
   "cell_type": "code",
   "execution_count": 53,
   "metadata": {
    "execution": {
     "iopub.execute_input": "2021-03-28T22:27:37.197398Z",
     "iopub.status.busy": "2021-03-28T22:27:37.196292Z",
     "iopub.status.idle": "2021-03-28T22:27:37.199455Z",
     "shell.execute_reply": "2021-03-28T22:27:37.199016Z"
    }
   },
   "outputs": [
    {
     "name": "stdout",
     "output_type": "stream",
     "text": [
      "data keys (* hints)\n",
      "-------------------\n",
      "*p1_x\n",
      "*p1_y\n",
      "\n",
      "read attrs\n",
      "----------\n",
      "x                    Signal              ('p1_x')\n",
      "y                    Signal              ('p1_y')\n",
      "\n",
      "config keys\n",
      "-----------\n",
      "p1_motion_compensation\n",
      "\n",
      "configuration attrs\n",
      "-------------------\n",
      "motion_compensation  Signal              ('p1_motion_compensation')\n",
      "\n",
      "unused attrs\n",
      "------------\n",
      "\n"
     ]
    }
   ],
   "source": [
    "p1.summary()"
   ]
  },
  {
   "cell_type": "markdown",
   "metadata": {},
   "source": [
    "### 'Staging' -- a hook for putting a device into a controlled state for data collection (and then putting it back)"
   ]
  },
  {
   "cell_type": "code",
   "execution_count": 54,
   "metadata": {
    "execution": {
     "iopub.execute_input": "2021-03-28T22:27:37.206348Z",
     "iopub.status.busy": "2021-03-28T22:27:37.204709Z",
     "iopub.status.idle": "2021-03-28T22:27:37.206992Z",
     "shell.execute_reply": "2021-03-28T22:27:37.207394Z"
    }
   },
   "outputs": [],
   "source": [
    "class Platform(Device):\n",
    "    _default_configuration_attrs = ('motion_compensation',)\n",
    "    _default_read_attrs = ('x', 'y')\n",
    "    x = Cpt(Signal, value=3)\n",
    "    y = Cpt(Signal, value=4)\n",
    "    motion_compensation = Cpt(Signal, value=1)  # a boolean\n",
    "    \n",
    "    def __init__(self, *args, **kwargs):\n",
    "        super().__init__(*args, **kwargs)\n",
    "        self.stage_sigs['motion_compensation'] = 1\n",
    "        \n",
    "\n",
    "p1 = Platform(name='p1')"
   ]
  },
  {
   "cell_type": "code",
   "execution_count": 55,
   "metadata": {
    "execution": {
     "iopub.execute_input": "2021-03-28T22:27:37.211744Z",
     "iopub.status.busy": "2021-03-28T22:27:37.211219Z",
     "iopub.status.idle": "2021-03-28T22:27:37.213760Z",
     "shell.execute_reply": "2021-03-28T22:27:37.214180Z"
    }
   },
   "outputs": [
    {
     "data": {
      "text/plain": [
       "1"
      ]
     },
     "execution_count": 1,
     "metadata": {},
     "output_type": "execute_result"
    }
   ],
   "source": [
    "p1.motion_compensation.get()"
   ]
  },
  {
   "cell_type": "code",
   "execution_count": 56,
   "metadata": {
    "execution": {
     "iopub.execute_input": "2021-03-28T22:27:37.218374Z",
     "iopub.status.busy": "2021-03-28T22:27:37.217093Z",
     "iopub.status.idle": "2021-03-28T22:27:37.219139Z",
     "shell.execute_reply": "2021-03-28T22:27:37.219539Z"
    }
   },
   "outputs": [],
   "source": [
    "p1.motion_compensation.put(0)"
   ]
  },
  {
   "cell_type": "markdown",
   "metadata": {},
   "source": [
    "`Device.stage()` stashes the current state of the signals in `stage_sigs` and then puts the device into the desired state."
   ]
  },
  {
   "cell_type": "code",
   "execution_count": 57,
   "metadata": {
    "execution": {
     "iopub.execute_input": "2021-03-28T22:27:37.223920Z",
     "iopub.status.busy": "2021-03-28T22:27:37.223335Z",
     "iopub.status.idle": "2021-03-28T22:27:37.226038Z",
     "shell.execute_reply": "2021-03-28T22:27:37.226488Z"
    }
   },
   "outputs": [
    {
     "data": {
      "text/plain": [
       "[Platform(prefix='', name='p1', read_attrs=['x', 'y'], configuration_attrs=['motion_compensation'])]"
      ]
     },
     "execution_count": 1,
     "metadata": {},
     "output_type": "execute_result"
    }
   ],
   "source": [
    "p1.stage()"
   ]
  },
  {
   "cell_type": "code",
   "execution_count": 58,
   "metadata": {
    "execution": {
     "iopub.execute_input": "2021-03-28T22:27:37.231639Z",
     "iopub.status.busy": "2021-03-28T22:27:37.230363Z",
     "iopub.status.idle": "2021-03-28T22:27:37.233791Z",
     "shell.execute_reply": "2021-03-28T22:27:37.233370Z"
    }
   },
   "outputs": [
    {
     "data": {
      "text/plain": [
       "1"
      ]
     },
     "execution_count": 1,
     "metadata": {},
     "output_type": "execute_result"
    }
   ],
   "source": [
    "p1.motion_compensation.get()"
   ]
  },
  {
   "cell_type": "markdown",
   "metadata": {},
   "source": [
    "`Device.unstage()` uses that stashed stage to put everything back."
   ]
  },
  {
   "cell_type": "code",
   "execution_count": 59,
   "metadata": {
    "execution": {
     "iopub.execute_input": "2021-03-28T22:27:37.238627Z",
     "iopub.status.busy": "2021-03-28T22:27:37.237908Z",
     "iopub.status.idle": "2021-03-28T22:27:37.240880Z",
     "shell.execute_reply": "2021-03-28T22:27:37.241313Z"
    }
   },
   "outputs": [
    {
     "data": {
      "text/plain": [
       "[Platform(prefix='', name='p1', read_attrs=['x', 'y'], configuration_attrs=['motion_compensation'])]"
      ]
     },
     "execution_count": 1,
     "metadata": {},
     "output_type": "execute_result"
    }
   ],
   "source": [
    "p1.unstage()"
   ]
  },
  {
   "cell_type": "code",
   "execution_count": 60,
   "metadata": {
    "execution": {
     "iopub.execute_input": "2021-03-28T22:27:37.246167Z",
     "iopub.status.busy": "2021-03-28T22:27:37.245242Z",
     "iopub.status.idle": "2021-03-28T22:27:37.248210Z",
     "shell.execute_reply": "2021-03-28T22:27:37.248628Z"
    }
   },
   "outputs": [
    {
     "data": {
      "text/plain": [
       "0"
      ]
     },
     "execution_count": 1,
     "metadata": {},
     "output_type": "execute_result"
    }
   ],
   "source": [
    "p1.motion_compensation.get()"
   ]
  },
  {
   "cell_type": "markdown",
   "metadata": {},
   "source": [
    "Staging twice is illegal:"
   ]
  },
  {
   "cell_type": "code",
   "execution_count": 61,
   "metadata": {
    "execution": {
     "iopub.execute_input": "2021-03-28T22:27:37.254321Z",
     "iopub.status.busy": "2021-03-28T22:27:37.253079Z",
     "iopub.status.idle": "2021-03-28T22:27:37.256162Z",
     "shell.execute_reply": "2021-03-28T22:27:37.256588Z"
    }
   },
   "outputs": [
    {
     "data": {
      "text/plain": [
       "[Platform(prefix='', name='p1', read_attrs=['x', 'y'], configuration_attrs=['motion_compensation'])]"
      ]
     },
     "execution_count": 1,
     "metadata": {},
     "output_type": "execute_result"
    }
   ],
   "source": [
    "p1.stage()"
   ]
  },
  {
   "cell_type": "code",
   "execution_count": 62,
   "metadata": {
    "execution": {
     "iopub.execute_input": "2021-03-28T22:27:37.260974Z",
     "iopub.status.busy": "2021-03-28T22:27:37.260141Z",
     "iopub.status.idle": "2021-03-28T22:27:37.431959Z",
     "shell.execute_reply": "2021-03-28T22:27:37.432393Z"
    },
    "tags": [
     "raises-exception"
    ]
   },
   "outputs": [
    {
     "ename": "RedundantStaging",
     "evalue": "Device Platform(prefix='', name='p1', read_attrs=['x', 'y'], configuration_attrs=['motion_compensation']) is already staged. Unstage it first.",
     "output_type": "error",
     "traceback": [
      "\u001b[0;31m---------------------------------------------------------------------------\u001b[0m",
      "\u001b[0;31mRedundantStaging\u001b[0m                          Traceback (most recent call last)",
      "\u001b[0;32m<ipython-input-1-acdfc37e2a79>\u001b[0m in \u001b[0;36m<module>\u001b[0;34m\u001b[0m\n\u001b[1;32m      1\u001b[0m \u001b[0;31m# THIS IS EXPECTED TO CREATE AN ERROR.\u001b[0m\u001b[0;34m\u001b[0m\u001b[0;34m\u001b[0m\u001b[0;34m\u001b[0m\u001b[0m\n\u001b[1;32m      2\u001b[0m \u001b[0;34m\u001b[0m\u001b[0m\n\u001b[0;32m----> 3\u001b[0;31m \u001b[0mp1\u001b[0m\u001b[0;34m.\u001b[0m\u001b[0mstage\u001b[0m\u001b[0;34m(\u001b[0m\u001b[0;34m)\u001b[0m\u001b[0;34m\u001b[0m\u001b[0;34m\u001b[0m\u001b[0m\n\u001b[0m",
      "\u001b[0;32m~/virtualenv/python3.7.1/lib/python3.7/site-packages/ophyd/device.py\u001b[0m in \u001b[0;36mstage\u001b[0;34m(self)\u001b[0m\n\u001b[1;32m    516\u001b[0m         \u001b[0;32melif\u001b[0m \u001b[0mself\u001b[0m\u001b[0;34m.\u001b[0m\u001b[0m_staged\u001b[0m \u001b[0;34m==\u001b[0m \u001b[0mStaged\u001b[0m\u001b[0;34m.\u001b[0m\u001b[0myes\u001b[0m\u001b[0;34m:\u001b[0m\u001b[0;34m\u001b[0m\u001b[0;34m\u001b[0m\u001b[0m\n\u001b[1;32m    517\u001b[0m             raise RedundantStaging(\"Device {!r} is already staged. \"\n\u001b[0;32m--> 518\u001b[0;31m                                    \"Unstage it first.\".format(self))\n\u001b[0m\u001b[1;32m    519\u001b[0m         \u001b[0;32melif\u001b[0m \u001b[0mself\u001b[0m\u001b[0;34m.\u001b[0m\u001b[0m_staged\u001b[0m \u001b[0;34m==\u001b[0m \u001b[0mStaged\u001b[0m\u001b[0;34m.\u001b[0m\u001b[0mpartially\u001b[0m\u001b[0;34m:\u001b[0m\u001b[0;34m\u001b[0m\u001b[0;34m\u001b[0m\u001b[0m\n\u001b[1;32m    520\u001b[0m             raise RedundantStaging(\"Device {!r} has been partially staged. \"\n",
      "\u001b[0;31mRedundantStaging\u001b[0m: Device Platform(prefix='', name='p1', read_attrs=['x', 'y'], configuration_attrs=['motion_compensation']) is already staged. Unstage it first."
     ]
    }
   ],
   "source": [
    "# THIS IS EXPECTED TO CREATE AN ERROR.\n",
    "\n",
    "p1.stage()"
   ]
  },
  {
   "cell_type": "markdown",
   "metadata": {},
   "source": [
    "But unstaging is indempotent:"
   ]
  },
  {
   "cell_type": "code",
   "execution_count": 63,
   "metadata": {
    "execution": {
     "iopub.execute_input": "2021-03-28T22:27:37.436562Z",
     "iopub.status.busy": "2021-03-28T22:27:37.436089Z",
     "iopub.status.idle": "2021-03-28T22:27:37.441048Z",
     "shell.execute_reply": "2021-03-28T22:27:37.440620Z"
    }
   },
   "outputs": [
    {
     "data": {
      "text/plain": [
       "[Platform(prefix='', name='p1', read_attrs=['x', 'y'], configuration_attrs=['motion_compensation'])]"
      ]
     },
     "execution_count": 1,
     "metadata": {},
     "output_type": "execute_result"
    }
   ],
   "source": [
    "p1.unstage()\n",
    "p1.unstage()\n",
    "p1.unstage()"
   ]
  },
  {
   "cell_type": "markdown",
   "metadata": {},
   "source": [
    "## Pseudopositioners"
   ]
  },
  {
   "cell_type": "code",
   "execution_count": 64,
   "metadata": {
    "execution": {
     "iopub.execute_input": "2021-03-28T22:27:37.449125Z",
     "iopub.status.busy": "2021-03-28T22:27:37.448648Z",
     "iopub.status.idle": "2021-03-28T22:27:37.453956Z",
     "shell.execute_reply": "2021-03-28T22:27:37.454351Z"
    }
   },
   "outputs": [],
   "source": [
    "from ophyd import (PseudoPositioner, PseudoSingle)\n",
    "from ophyd.pseudopos import (pseudo_position_argument,\n",
    "                             real_position_argument)\n",
    "from ophyd import SoftPositioner\n",
    "C = Cpt\n",
    "\n",
    "class SPseudo3x3(PseudoPositioner):\n",
    "    pseudo1 = C(PseudoSingle, limits=(-10, 10), egu='a')\n",
    "    pseudo2 = C(PseudoSingle, limits=(-10, 10), egu='b')\n",
    "    pseudo3 = C(PseudoSingle, limits=None, egu='c')\n",
    "    \n",
    "    real1 = C(SoftPositioner, init_pos=0.)\n",
    "    real2 = C(SoftPositioner, init_pos=0.)\n",
    "    real3 = C(SoftPositioner, init_pos=0.)\n",
    "\n",
    "    sig = C(Signal, value=0)\n",
    "\n",
    "    @pseudo_position_argument\n",
    "    def forward(self, pseudo_pos):\n",
    "        # logger.debug('forward %s', pseudo_pos)\n",
    "        return self.RealPosition(real1=-pseudo_pos.pseudo1,\n",
    "                                    real2=-pseudo_pos.pseudo2,\n",
    "                                    real3=-pseudo_pos.pseudo3)\n",
    "\n",
    "    @real_position_argument\n",
    "    def inverse(self, real_pos):\n",
    "        # logger.debug('inverse %s', real_pos)\n",
    "        return self.PseudoPosition(pseudo1=-real_pos.real1,\n",
    "                                    pseudo2=-real_pos.real2,\n",
    "                                    pseudo3=-real_pos.real3)\n",
    "    \n",
    "\n",
    "p3 = SPseudo3x3(name='p3')"
   ]
  },
  {
   "cell_type": "code",
   "execution_count": 65,
   "metadata": {
    "execution": {
     "iopub.execute_input": "2021-03-28T22:27:37.461690Z",
     "iopub.status.busy": "2021-03-28T22:27:37.459968Z",
     "iopub.status.idle": "2021-03-28T22:27:38.247590Z",
     "shell.execute_reply": "2021-03-28T22:27:38.247144Z"
    }
   },
   "outputs": [
    {
     "name": "stdout",
     "output_type": "stream",
     "text": [
      "\n",
      "\n",
      "Transient Scan ID: 2     Time: 2021-03-28 22:27:37\n",
      "Persistent Unique Scan ID: '74350de3-3ae4-4cb0-b32b-54b6f8dcadd5'\n",
      "New stream: 'primary'\n"
     ]
    },
    {
     "data": {
      "application/vnd.jupyter.widget-view+json": {
       "model_id": "59b7137b80884b8bb48c80810900195a",
       "version_major": 2,
       "version_minor": 0
      },
      "text/plain": [
       "Canvas(toolbar=Toolbar(toolitems=[('Home', 'Reset original view', 'home', 'home'), ('Back', 'Back to previous …"
      ]
     },
     "metadata": {},
     "output_type": "display_data"
    },
    {
     "name": "stdout",
     "output_type": "stream",
     "text": [
      "+-----------+------------+------------+------------+------------+------------+\n",
      "|   seq_num |       time | p3_pseudo2 |        det | p3_pseudo1 | p3_pseudo3 |\n",
      "+-----------+------------+------------+------------+------------+------------+\n",
      "|         1 | 22:27:37.7 |     -1.000 |      1.000 |     -0.000 |     -0.000 |\n",
      "|         2 | 22:27:37.8 |     -0.500 |      1.000 |     -0.000 |     -0.000 |\n",
      "|         3 | 22:27:37.8 |      0.000 |      1.000 |     -0.000 |     -0.000 |\n",
      "|         4 | 22:27:37.9 |      0.500 |      1.000 |     -0.000 |     -0.000 |\n",
      "|         5 | 22:27:37.9 |      1.000 |      1.000 |     -0.000 |     -0.000 |\n"
     ]
    },
    {
     "name": "stdout",
     "output_type": "stream",
     "text": [
      "+-----------+------------+------------+------------+------------+------------+\n",
      "generator scan ['74350de3'] (scan num: 2)\n",
      "\n",
      "\n",
      "\n"
     ]
    },
    {
     "name": "stderr",
     "output_type": "stream",
     "text": [
      "/home/travis/virtualenv/python3.7.1/lib/python3.7/site-packages/bluesky/callbacks/fitting.py:166: RuntimeWarning: invalid value encountered in double_scalars\n",
      "  for dir in range(input.ndim)]\n"
     ]
    },
    {
     "data": {
      "text/plain": [
       "('74350de3-3ae4-4cb0-b32b-54b6f8dcadd5',)"
      ]
     },
     "execution_count": 1,
     "metadata": {},
     "output_type": "execute_result"
    }
   ],
   "source": [
    "from ophyd.sim import det\n",
    "\n",
    "RE(scan([det, p3], p3.pseudo2, -1, 1, 5))"
   ]
  },
  {
   "cell_type": "code",
   "execution_count": null,
   "metadata": {},
   "outputs": [],
   "source": []
  }
 ],
 "metadata": {
  "kernelspec": {
   "display_name": "Python 3",
   "language": "python",
   "name": "python3"
  },
  "language_info": {
   "codemirror_mode": {
    "name": "ipython",
    "version": 3
   },
   "file_extension": ".py",
   "mimetype": "text/x-python",
   "name": "python",
   "nbconvert_exporter": "python",
   "pygments_lexer": "ipython3",
   "version": "3.7.1"
  },
  "widgets": {
   "application/vnd.jupyter.widget-state+json": {
    "state": {
     "59b7137b80884b8bb48c80810900195a": {
      "model_module": "jupyter-matplotlib",
      "model_module_version": "^0.9.0",
      "model_name": "MPLCanvasModel",
      "state": {
       "_cursor": "default",
       "_dom_classes": [],
       "_figure_label": "det p3_pseudo1 p3_pseudo3 vs p3_pseudo2",
       "_height": 1500,
       "_image_mode": "diff",
       "_message": "",
       "_model_module": "jupyter-matplotlib",
       "_model_module_version": "^0.9.0",
       "_model_name": "MPLCanvasModel",
       "_rubberband_height": 0,
       "_rubberband_width": 0,
       "_rubberband_x": 0,
       "_rubberband_y": 0,
       "_view_count": null,
       "_view_module": "jupyter-matplotlib",
       "_view_module_version": "^0.9.0",
       "_view_name": "MPLCanvasView",
       "_width": 500,
       "capture_scroll": false,
       "footer_visible": true,
       "header_visible": true,
       "layout": "IPY_MODEL_b2bb092dc351408a83049f6569fce499",
       "resizable": true,
       "toolbar": "IPY_MODEL_7f82324b1e0348fd95b2b2fa7cfc337e",
       "toolbar_position": "left",
       "toolbar_visible": true
      }
     },
     "64f39853fd864a57a1290a5c07cf7398": {
      "model_module": "@jupyter-widgets/base",
      "model_module_version": "1.2.0",
      "model_name": "LayoutModel",
      "state": {
       "_model_module": "@jupyter-widgets/base",
       "_model_module_version": "1.2.0",
       "_model_name": "LayoutModel",
       "_view_count": null,
       "_view_module": "@jupyter-widgets/base",
       "_view_module_version": "1.2.0",
       "_view_name": "LayoutView",
       "align_content": null,
       "align_items": null,
       "align_self": null,
       "border": null,
       "bottom": null,
       "display": null,
       "flex": null,
       "flex_flow": null,
       "grid_area": null,
       "grid_auto_columns": null,
       "grid_auto_flow": null,
       "grid_auto_rows": null,
       "grid_column": null,
       "grid_gap": null,
       "grid_row": null,
       "grid_template_areas": null,
       "grid_template_columns": null,
       "grid_template_rows": null,
       "height": null,
       "justify_content": null,
       "justify_items": null,
       "left": null,
       "margin": null,
       "max_height": null,
       "max_width": null,
       "min_height": null,
       "min_width": null,
       "object_fit": null,
       "object_position": null,
       "order": null,
       "overflow": null,
       "overflow_x": null,
       "overflow_y": null,
       "padding": null,
       "right": null,
       "top": null,
       "visibility": null,
       "width": null
      }
     },
     "7f82324b1e0348fd95b2b2fa7cfc337e": {
      "model_module": "jupyter-matplotlib",
      "model_module_version": "^0.9.0",
      "model_name": "ToolbarModel",
      "state": {
       "_current_action": "",
       "_dom_classes": [],
       "_model_module": "jupyter-matplotlib",
       "_model_module_version": "^0.9.0",
       "_model_name": "ToolbarModel",
       "_view_count": null,
       "_view_module": "jupyter-matplotlib",
       "_view_module_version": "^0.9.0",
       "_view_name": "ToolbarView",
       "button_style": "",
       "collapsed": true,
       "layout": "IPY_MODEL_64f39853fd864a57a1290a5c07cf7398",
       "orientation": "vertical",
       "toolitems": [
        [
         "Home",
         "Reset original view",
         "home",
         "home"
        ],
        [
         "Back",
         "Back to previous view",
         "arrow-left",
         "back"
        ],
        [
         "Forward",
         "Forward to next view",
         "arrow-right",
         "forward"
        ],
        [
         "Pan",
         "Left button pans, Right button zooms\nx/y fixes axis, CTRL fixes aspect",
         "arrows",
         "pan"
        ],
        [
         "Zoom",
         "Zoom to rectangle\nx/y fixes axis, CTRL fixes aspect",
         "square-o",
         "zoom"
        ],
        [
         "Download",
         "Download plot",
         "floppy-o",
         "save_figure"
        ]
       ]
      }
     },
     "b2bb092dc351408a83049f6569fce499": {
      "model_module": "@jupyter-widgets/base",
      "model_module_version": "1.2.0",
      "model_name": "LayoutModel",
      "state": {
       "_model_module": "@jupyter-widgets/base",
       "_model_module_version": "1.2.0",
       "_model_name": "LayoutModel",
       "_view_count": null,
       "_view_module": "@jupyter-widgets/base",
       "_view_module_version": "1.2.0",
       "_view_name": "LayoutView",
       "align_content": null,
       "align_items": null,
       "align_self": null,
       "border": null,
       "bottom": null,
       "display": null,
       "flex": null,
       "flex_flow": null,
       "grid_area": null,
       "grid_auto_columns": null,
       "grid_auto_flow": null,
       "grid_auto_rows": null,
       "grid_column": null,
       "grid_gap": null,
       "grid_row": null,
       "grid_template_areas": null,
       "grid_template_columns": null,
       "grid_template_rows": null,
       "height": null,
       "justify_content": null,
       "justify_items": null,
       "left": null,
       "margin": null,
       "max_height": null,
       "max_width": null,
       "min_height": null,
       "min_width": null,
       "object_fit": null,
       "object_position": null,
       "order": null,
       "overflow": null,
       "overflow_x": null,
       "overflow_y": null,
       "padding": null,
       "right": null,
       "top": null,
       "visibility": null,
       "width": null
      }
     }
    },
    "version_major": 2,
    "version_minor": 0
   }
  }
 },
 "nbformat": 4,
 "nbformat_minor": 2
}
