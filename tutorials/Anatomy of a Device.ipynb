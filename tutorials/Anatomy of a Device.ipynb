{
 "cells": [
  {
   "cell_type": "markdown",
   "metadata": {},
   "source": [
    "# Anatomy of a Device\n",
    "\n",
    "In this notebook you will:\n",
    "\n",
    "* Understand the various methods of an ophyd Signal\n",
    "* Learn how to group Signals into Devices.\n",
    "* Learn how to specific \"pseudopositions\" that expose real axes (corresponding to physical hardware) and pseudoaxes, that move real axes via some mathematical transformation.\n",
    "\n",
    "Recommended Prerequisites:\n",
    "\n",
    "* [Hello Bluesky](./Hello%20Bluesky.ipynb)\n",
    "\n",
    "## Configuration\n",
    "Below, we will connect to EPICS IOC(s) controlling simulated hardware in lieu of actual motors, detectors. The IOCs should already be running in the background. Run this command to verify that they are running: it should produce output with RUNNING on each line. In the event of a problem, edit this command to replace `status` with `restart all` and run again."
   ]
  },
  {
   "cell_type": "code",
   "execution_count": 1,
   "metadata": {
    "execution": {
     "iopub.execute_input": "2021-02-05T23:34:07.890635Z",
     "iopub.status.busy": "2021-02-05T23:34:07.889818Z",
     "iopub.status.idle": "2021-02-05T23:34:08.212856Z",
     "shell.execute_reply": "2021-02-05T23:34:08.212297Z"
    }
   },
   "outputs": [
    {
     "name": "stdout",
     "output_type": "stream",
     "text": [
      "decay                            RUNNING   pid 4922, uptime 0:00:20\r\n",
      "mini_beamline                    RUNNING   pid 4923, uptime 0:00:20\r\n",
      "random_walk                      RUNNING   pid 4924, uptime 0:00:20\r\n",
      "random_walk_horiz                RUNNING   pid 4925, uptime 0:00:20\r\n",
      "random_walk_vert                 RUNNING   pid 4926, uptime 0:00:20\r\n",
      "simple                           RUNNING   pid 4927, uptime 0:00:20\r\n",
      "thermo_sim                       RUNNING   pid 4928, uptime 0:00:20\r\n",
      "trigger_with_pc                  FATAL     Exited too quickly (process log may have details)\r\n"
     ]
    }
   ],
   "source": [
    "!supervisorctl -c supervisor/supervisord.conf status"
   ]
  },
  {
   "cell_type": "code",
   "execution_count": 2,
   "metadata": {
    "execution": {
     "iopub.execute_input": "2021-02-05T23:34:08.218839Z",
     "iopub.status.busy": "2021-02-05T23:34:08.217026Z",
     "iopub.status.idle": "2021-02-05T23:34:10.233027Z",
     "shell.execute_reply": "2021-02-05T23:34:10.233449Z"
    }
   },
   "outputs": [
    {
     "name": "stderr",
     "output_type": "stream",
     "text": [
      "/home/travis/virtualenv/python3.7.1/lib/python3.7/site-packages/traitlets/traitlets.py:3036: FutureWarning: --rc={'figure.dpi': 96} for dict-traits is deprecated in traitlets 5.0. You can pass --rc <key=value> ... multiple times to add items to a dict.\n",
      "  FutureWarning,\n"
     ]
    },
    {
     "name": "stderr",
     "output_type": "stream",
     "text": [
      "/home/travis/virtualenv/python3.7.1/lib/python3.7/site-packages/pims/image_reader.py:26: RuntimeWarning: PIMS image_reader.py could not find scikit-image. Falling back to matplotlib's imread(), which uses floats instead of integers. This may break your scripts. \n",
      "(To ignore this warning, include the line \"warnings.simplefilter(\"ignore\", RuntimeWarning)\" in your script.)\n",
      "  warnings.warn(RuntimeWarning(ski_preferred))\n"
     ]
    }
   ],
   "source": [
    "%run scripts/beamline_configuration.py"
   ]
  },
  {
   "cell_type": "code",
   "execution_count": 3,
   "metadata": {
    "execution": {
     "iopub.execute_input": "2021-02-05T23:34:10.237603Z",
     "iopub.status.busy": "2021-02-05T23:34:10.237103Z",
     "iopub.status.idle": "2021-02-05T23:34:10.240667Z",
     "shell.execute_reply": "2021-02-05T23:34:10.240257Z"
    }
   },
   "outputs": [],
   "source": [
    "import time\n",
    "from ophyd import Device, Signal, Component as Cpt, DeviceStatus\n",
    "from ophyd.sim import SynSignal, SynPeriodicSignal"
   ]
  },
  {
   "cell_type": "markdown",
   "metadata": {},
   "source": [
    "## Interface to Signal"
   ]
  },
  {
   "cell_type": "code",
   "execution_count": 4,
   "metadata": {
    "execution": {
     "iopub.execute_input": "2021-02-05T23:34:10.246678Z",
     "iopub.status.busy": "2021-02-05T23:34:10.246031Z",
     "iopub.status.idle": "2021-02-05T23:34:10.248852Z",
     "shell.execute_reply": "2021-02-05T23:34:10.249247Z"
    }
   },
   "outputs": [
    {
     "data": {
      "text/plain": [
       "Signal(name='sig', value=3, timestamp=1612568050.242655)"
      ]
     },
     "execution_count": 1,
     "metadata": {},
     "output_type": "execute_result"
    }
   ],
   "source": [
    "sig = Signal(name='sig', value=3)\n",
    "sig"
   ]
  },
  {
   "cell_type": "markdown",
   "metadata": {},
   "source": [
    "### Methods that require no communication with the IOC"
   ]
  },
  {
   "cell_type": "code",
   "execution_count": 5,
   "metadata": {
    "execution": {
     "iopub.execute_input": "2021-02-05T23:34:10.253767Z",
     "iopub.status.busy": "2021-02-05T23:34:10.253161Z",
     "iopub.status.idle": "2021-02-05T23:34:10.255948Z",
     "shell.execute_reply": "2021-02-05T23:34:10.256341Z"
    }
   },
   "outputs": [
    {
     "data": {
      "text/plain": [
       "'sig'"
      ]
     },
     "execution_count": 1,
     "metadata": {},
     "output_type": "execute_result"
    }
   ],
   "source": [
    "sig.name"
   ]
  },
  {
   "cell_type": "code",
   "execution_count": 6,
   "metadata": {
    "execution": {
     "iopub.execute_input": "2021-02-05T23:34:10.260705Z",
     "iopub.status.busy": "2021-02-05T23:34:10.260095Z",
     "iopub.status.idle": "2021-02-05T23:34:10.262866Z",
     "shell.execute_reply": "2021-02-05T23:34:10.263321Z"
    }
   },
   "outputs": [
    {
     "data": {
      "text/plain": [
       "True"
      ]
     },
     "execution_count": 1,
     "metadata": {},
     "output_type": "execute_result"
    }
   ],
   "source": [
    "sig.parent is None"
   ]
  },
  {
   "cell_type": "markdown",
   "metadata": {},
   "source": [
    "### Methods that ask the IOC to tell us something it already 'knows'"
   ]
  },
  {
   "cell_type": "code",
   "execution_count": 7,
   "metadata": {
    "execution": {
     "iopub.execute_input": "2021-02-05T23:34:10.267609Z",
     "iopub.status.busy": "2021-02-05T23:34:10.266995Z",
     "iopub.status.idle": "2021-02-05T23:34:10.269699Z",
     "shell.execute_reply": "2021-02-05T23:34:10.270142Z"
    }
   },
   "outputs": [
    {
     "data": {
      "text/plain": [
       "True"
      ]
     },
     "execution_count": 1,
     "metadata": {},
     "output_type": "execute_result"
    }
   ],
   "source": [
    "sig.connected"
   ]
  },
  {
   "cell_type": "code",
   "execution_count": 8,
   "metadata": {
    "execution": {
     "iopub.execute_input": "2021-02-05T23:34:10.274436Z",
     "iopub.status.busy": "2021-02-05T23:34:10.273800Z",
     "iopub.status.idle": "2021-02-05T23:34:10.276511Z",
     "shell.execute_reply": "2021-02-05T23:34:10.276890Z"
    }
   },
   "outputs": [
    {
     "data": {
      "text/plain": [
       "(0, 0)"
      ]
     },
     "execution_count": 1,
     "metadata": {},
     "output_type": "execute_result"
    }
   ],
   "source": [
    "sig.limits"
   ]
  },
  {
   "cell_type": "code",
   "execution_count": 9,
   "metadata": {
    "execution": {
     "iopub.execute_input": "2021-02-05T23:34:10.281317Z",
     "iopub.status.busy": "2021-02-05T23:34:10.280663Z",
     "iopub.status.idle": "2021-02-05T23:34:10.283647Z",
     "shell.execute_reply": "2021-02-05T23:34:10.284083Z"
    }
   },
   "outputs": [
    {
     "data": {
      "text/plain": [
       "{'sig': {'value': 3, 'timestamp': 1612568050.242655}}"
      ]
     },
     "execution_count": 1,
     "metadata": {},
     "output_type": "execute_result"
    }
   ],
   "source": [
    "sig.read()"
   ]
  },
  {
   "cell_type": "code",
   "execution_count": 10,
   "metadata": {
    "execution": {
     "iopub.execute_input": "2021-02-05T23:34:10.289166Z",
     "iopub.status.busy": "2021-02-05T23:34:10.288573Z",
     "iopub.status.idle": "2021-02-05T23:34:10.291361Z",
     "shell.execute_reply": "2021-02-05T23:34:10.291750Z"
    }
   },
   "outputs": [
    {
     "data": {
      "text/plain": [
       "{'sig': {'source': 'SIM:sig', 'dtype': 'integer', 'shape': []}}"
      ]
     },
     "execution_count": 1,
     "metadata": {},
     "output_type": "execute_result"
    }
   ],
   "source": [
    "sig.describe()"
   ]
  },
  {
   "cell_type": "markdown",
   "metadata": {},
   "source": [
    "### Monitoring (subscribing for updates asynchronously)"
   ]
  },
  {
   "cell_type": "code",
   "execution_count": 11,
   "metadata": {
    "execution": {
     "iopub.execute_input": "2021-02-05T23:34:10.296548Z",
     "iopub.status.busy": "2021-02-05T23:34:10.295934Z",
     "iopub.status.idle": "2021-02-05T23:34:10.298683Z",
     "shell.execute_reply": "2021-02-05T23:34:10.299065Z"
    }
   },
   "outputs": [
    {
     "data": {
      "text/plain": [
       "0"
      ]
     },
     "execution_count": 1,
     "metadata": {},
     "output_type": "execute_result"
    }
   ],
   "source": [
    "def cb(value, old_value, **a_whole_bunch_of_junk):\n",
    "    print(f'changed from {old_value} to {value}')\n",
    "    \n",
    "sig.subscribe(cb)\n",
    "# The act of subscribing always generates one reading immediately..."
   ]
  },
  {
   "cell_type": "markdown",
   "metadata": {},
   "source": [
    "If this were an `EpicsSignal` instead of a `Signal`, `cb` would be called from a thread every time pyepics receives a new update about the value of `sig`. In this case, we have to update it manually."
   ]
  },
  {
   "cell_type": "code",
   "execution_count": 12,
   "metadata": {
    "execution": {
     "iopub.execute_input": "2021-02-05T23:34:10.303675Z",
     "iopub.status.busy": "2021-02-05T23:34:10.302567Z",
     "iopub.status.idle": "2021-02-05T23:34:10.305760Z",
     "shell.execute_reply": "2021-02-05T23:34:10.305363Z"
    }
   },
   "outputs": [
    {
     "name": "stdout",
     "output_type": "stream",
     "text": [
      "changed from 3 to 5\n"
     ]
    }
   ],
   "source": [
    "sig.put(5)"
   ]
  },
  {
   "cell_type": "code",
   "execution_count": 13,
   "metadata": {
    "execution": {
     "iopub.execute_input": "2021-02-05T23:34:10.310365Z",
     "iopub.status.busy": "2021-02-05T23:34:10.309198Z",
     "iopub.status.idle": "2021-02-05T23:34:10.312448Z",
     "shell.execute_reply": "2021-02-05T23:34:10.312038Z"
    }
   },
   "outputs": [
    {
     "name": "stdout",
     "output_type": "stream",
     "text": [
      "changed from 5 to 10\n"
     ]
    }
   ],
   "source": [
    "sig.put(10)"
   ]
  },
  {
   "cell_type": "markdown",
   "metadata": {},
   "source": [
    "Or we can connect to the `random_walk` IOC which publishes a new updates at a regular interval."
   ]
  },
  {
   "cell_type": "code",
   "execution_count": 14,
   "metadata": {
    "execution": {
     "iopub.execute_input": "2021-02-05T23:34:10.316842Z",
     "iopub.status.busy": "2021-02-05T23:34:10.316266Z",
     "iopub.status.idle": "2021-02-05T23:34:10.318500Z",
     "shell.execute_reply": "2021-02-05T23:34:10.318900Z"
    }
   },
   "outputs": [],
   "source": [
    "from ophyd import EpicsSignal\n",
    "\n",
    "rand = EpicsSignal('random_walk:x', name='rand')\n",
    "token = rand.subscribe(cb)"
   ]
  },
  {
   "cell_type": "code",
   "execution_count": 15,
   "metadata": {
    "execution": {
     "iopub.execute_input": "2021-02-05T23:34:10.322195Z",
     "iopub.status.busy": "2021-02-05T23:34:10.321580Z",
     "iopub.status.idle": "2021-02-05T23:34:10.323739Z",
     "shell.execute_reply": "2021-02-05T23:34:10.324130Z"
    }
   },
   "outputs": [],
   "source": [
    "rand.unsubscribe(token)"
   ]
  },
  {
   "cell_type": "markdown",
   "metadata": {},
   "source": [
    "### Methods that ask the IOC to take a (potentially lengthy) action"
   ]
  },
  {
   "cell_type": "code",
   "execution_count": 16,
   "metadata": {
    "execution": {
     "iopub.execute_input": "2021-02-05T23:34:10.329929Z",
     "iopub.status.busy": "2021-02-05T23:34:10.329146Z",
     "iopub.status.idle": "2021-02-05T23:34:10.337968Z",
     "shell.execute_reply": "2021-02-05T23:34:10.338636Z"
    }
   },
   "outputs": [
    {
     "name": "stderr",
     "output_type": "stream",
     "text": [
      "/home/travis/virtualenv/python3.7.1/lib/python3.7/site-packages/ipykernel_launcher.py:5: DeprecationWarning: The signature of a Status callback is now expected to be cb(status). The signature cb() is supported, but support will be removed in a future release of ophyd.\n",
      "  \"\"\"\n"
     ]
    },
    {
     "name": "stdout",
     "output_type": "stream",
     "text": [
      "changed from 10 to 5\n",
      "finished at t = 1612568050.3315525\n"
     ]
    }
   ],
   "source": [
    "def cb():\n",
    "    print(\"finished at t =\", time.time())\n",
    "\n",
    "status = sig.set(5)\n",
    "status.add_callback(cb)"
   ]
  },
  {
   "cell_type": "code",
   "execution_count": 17,
   "metadata": {
    "execution": {
     "iopub.execute_input": "2021-02-05T23:34:10.342801Z",
     "iopub.status.busy": "2021-02-05T23:34:10.342175Z",
     "iopub.status.idle": "2021-02-05T23:34:10.344515Z",
     "shell.execute_reply": "2021-02-05T23:34:10.344921Z"
    }
   },
   "outputs": [
    {
     "data": {
      "text/plain": [
       "Status(obj=Signal(name='sig', value=5, timestamp=1612568050.3306763), done=True, success=True)"
      ]
     },
     "execution_count": 1,
     "metadata": {},
     "output_type": "execute_result"
    }
   ],
   "source": [
    "status"
   ]
  },
  {
   "cell_type": "code",
   "execution_count": 18,
   "metadata": {
    "execution": {
     "iopub.execute_input": "2021-02-05T23:34:10.348775Z",
     "iopub.status.busy": "2021-02-05T23:34:10.348278Z",
     "iopub.status.idle": "2021-02-05T23:34:10.352461Z",
     "shell.execute_reply": "2021-02-05T23:34:10.352079Z"
    }
   },
   "outputs": [
    {
     "data": {
      "text/plain": [
       "True"
      ]
     },
     "execution_count": 1,
     "metadata": {},
     "output_type": "execute_result"
    }
   ],
   "source": [
    "status.done"
   ]
  },
  {
   "cell_type": "code",
   "execution_count": 19,
   "metadata": {
    "execution": {
     "iopub.execute_input": "2021-02-05T23:34:10.355515Z",
     "iopub.status.busy": "2021-02-05T23:34:10.355065Z",
     "iopub.status.idle": "2021-02-05T23:34:10.360157Z",
     "shell.execute_reply": "2021-02-05T23:34:10.360545Z"
    }
   },
   "outputs": [
    {
     "name": "stderr",
     "output_type": "stream",
     "text": [
      "/home/travis/virtualenv/python3.7.1/lib/python3.7/site-packages/ipykernel_launcher.py:2: DeprecationWarning: The signature of a Status callback is now expected to be cb(status). The signature cb() is supported, but support will be removed in a future release of ophyd.\n",
      "  \n"
     ]
    },
    {
     "name": "stdout",
     "output_type": "stream",
     "text": [
      "finished at t = 1612568050.3559823\n"
     ]
    }
   ],
   "source": [
    "status = sig.trigger()\n",
    "status.add_callback(cb)"
   ]
  },
  {
   "cell_type": "markdown",
   "metadata": {},
   "source": [
    "## Interface of a Status object"
   ]
  },
  {
   "cell_type": "code",
   "execution_count": 20,
   "metadata": {
    "execution": {
     "iopub.execute_input": "2021-02-05T23:34:10.363467Z",
     "iopub.status.busy": "2021-02-05T23:34:10.363017Z",
     "iopub.status.idle": "2021-02-05T23:34:10.366338Z",
     "shell.execute_reply": "2021-02-05T23:34:10.366758Z"
    }
   },
   "outputs": [],
   "source": [
    "status = DeviceStatus(sig)"
   ]
  },
  {
   "cell_type": "code",
   "execution_count": 21,
   "metadata": {
    "execution": {
     "iopub.execute_input": "2021-02-05T23:34:10.370238Z",
     "iopub.status.busy": "2021-02-05T23:34:10.369588Z",
     "iopub.status.idle": "2021-02-05T23:34:10.373769Z",
     "shell.execute_reply": "2021-02-05T23:34:10.373351Z"
    }
   },
   "outputs": [
    {
     "data": {
      "text/plain": [
       "False"
      ]
     },
     "execution_count": 1,
     "metadata": {},
     "output_type": "execute_result"
    }
   ],
   "source": [
    "status.done"
   ]
  },
  {
   "cell_type": "code",
   "execution_count": 22,
   "metadata": {
    "execution": {
     "iopub.execute_input": "2021-02-05T23:34:10.378023Z",
     "iopub.status.busy": "2021-02-05T23:34:10.377394Z",
     "iopub.status.idle": "2021-02-05T23:34:10.380352Z",
     "shell.execute_reply": "2021-02-05T23:34:10.380758Z"
    }
   },
   "outputs": [
    {
     "data": {
      "text/plain": [
       "False"
      ]
     },
     "execution_count": 1,
     "metadata": {},
     "output_type": "execute_result"
    }
   ],
   "source": [
    "status.success"
   ]
  },
  {
   "cell_type": "code",
   "execution_count": 23,
   "metadata": {
    "execution": {
     "iopub.execute_input": "2021-02-05T23:34:10.385934Z",
     "iopub.status.busy": "2021-02-05T23:34:10.384510Z",
     "iopub.status.idle": "2021-02-05T23:34:10.387621Z",
     "shell.execute_reply": "2021-02-05T23:34:10.387195Z"
    }
   },
   "outputs": [
    {
     "name": "stderr",
     "output_type": "stream",
     "text": [
      "/home/travis/virtualenv/python3.7.1/lib/python3.7/site-packages/ipykernel_launcher.py:4: DeprecationWarning: The signature of a Status callback is now expected to be cb(status). The signature cb() is supported, but support will be removed in a future release of ophyd.\n",
      "  after removing the cwd from sys.path.\n"
     ]
    }
   ],
   "source": [
    "def cb():\n",
    "    print(\"BOOM\")\n",
    "\n",
    "status.add_callback(cb)"
   ]
  },
  {
   "cell_type": "code",
   "execution_count": 24,
   "metadata": {
    "execution": {
     "iopub.execute_input": "2021-02-05T23:34:10.390872Z",
     "iopub.status.busy": "2021-02-05T23:34:10.390410Z",
     "iopub.status.idle": "2021-02-05T23:34:10.394935Z",
     "shell.execute_reply": "2021-02-05T23:34:10.395341Z"
    }
   },
   "outputs": [
    {
     "data": {
      "text/plain": [
       "deque([<function ophyd.utils.adapt_old_callback_signature.<locals>.callback(status)>])"
      ]
     },
     "execution_count": 1,
     "metadata": {},
     "output_type": "execute_result"
    }
   ],
   "source": [
    "status.callbacks"
   ]
  },
  {
   "cell_type": "code",
   "execution_count": 25,
   "metadata": {
    "execution": {
     "iopub.execute_input": "2021-02-05T23:34:10.398897Z",
     "iopub.status.busy": "2021-02-05T23:34:10.398438Z",
     "iopub.status.idle": "2021-02-05T23:34:10.402655Z",
     "shell.execute_reply": "2021-02-05T23:34:10.403449Z"
    }
   },
   "outputs": [
    {
     "data": {
      "text/plain": [
       "Signal(name='sig', value=5, timestamp=1612568050.3306763)"
      ]
     },
     "execution_count": 1,
     "metadata": {},
     "output_type": "execute_result"
    }
   ],
   "source": [
    "status.device  # the Device or Signal that the Status pertains to"
   ]
  },
  {
   "cell_type": "code",
   "execution_count": 26,
   "metadata": {
    "execution": {
     "iopub.execute_input": "2021-02-05T23:34:10.406765Z",
     "iopub.status.busy": "2021-02-05T23:34:10.406298Z",
     "iopub.status.idle": "2021-02-05T23:34:10.410269Z",
     "shell.execute_reply": "2021-02-05T23:34:10.410645Z"
    }
   },
   "outputs": [
    {
     "name": "stdout",
     "output_type": "stream",
     "text": [
      "BOOM\n"
     ]
    }
   ],
   "source": [
    "status._finished()"
   ]
  },
  {
   "cell_type": "code",
   "execution_count": 27,
   "metadata": {
    "execution": {
     "iopub.execute_input": "2021-02-05T23:34:10.414658Z",
     "iopub.status.busy": "2021-02-05T23:34:10.414169Z",
     "iopub.status.idle": "2021-02-05T23:34:10.417849Z",
     "shell.execute_reply": "2021-02-05T23:34:10.418286Z"
    }
   },
   "outputs": [
    {
     "data": {
      "text/plain": [
       "True"
      ]
     },
     "execution_count": 1,
     "metadata": {},
     "output_type": "execute_result"
    }
   ],
   "source": [
    "status.done"
   ]
  },
  {
   "cell_type": "code",
   "execution_count": 28,
   "metadata": {
    "execution": {
     "iopub.execute_input": "2021-02-05T23:34:10.421609Z",
     "iopub.status.busy": "2021-02-05T23:34:10.421067Z",
     "iopub.status.idle": "2021-02-05T23:34:10.425753Z",
     "shell.execute_reply": "2021-02-05T23:34:10.426309Z"
    }
   },
   "outputs": [
    {
     "data": {
      "text/plain": [
       "True"
      ]
     },
     "execution_count": 1,
     "metadata": {},
     "output_type": "execute_result"
    }
   ],
   "source": [
    "status.success"
   ]
  },
  {
   "cell_type": "code",
   "execution_count": 29,
   "metadata": {
    "execution": {
     "iopub.execute_input": "2021-02-05T23:34:10.429513Z",
     "iopub.status.busy": "2021-02-05T23:34:10.429037Z",
     "iopub.status.idle": "2021-02-05T23:34:10.439617Z",
     "shell.execute_reply": "2021-02-05T23:34:10.439986Z"
    }
   },
   "outputs": [
    {
     "name": "stderr",
     "output_type": "stream",
     "text": [
      "/home/travis/virtualenv/python3.7.1/lib/python3.7/site-packages/ipykernel_launcher.py:3: DeprecationWarning: The signature of a Status callback is now expected to be cb(status). The signature cb() is supported, but support will be removed in a future release of ophyd.\n",
      "  This is separate from the ipykernel package so we can avoid doing imports until\n"
     ]
    },
    {
     "name": "stderr",
     "output_type": "stream",
     "text": [
      "DeviceStatus(device=sig, done=True, success=False) encountered an error during _handle_failure()\n",
      "Traceback (most recent call last):\n",
      "  File \"/home/travis/virtualenv/python3.7.1/lib/python3.7/site-packages/ophyd/status.py\", line 253, in _run_callbacks\n",
      "    self._handle_failure()\n",
      "  File \"/home/travis/virtualenv/python3.7.1/lib/python3.7/site-packages/ophyd/status.py\", line 608, in _handle_failure\n",
      "    self.device.stop()\n",
      "AttributeError: 'Signal' object has no attribute 'stop'\n"
     ]
    },
    {
     "data": {
      "text/plain": [
       "False"
      ]
     },
     "execution_count": 1,
     "metadata": {},
     "output_type": "execute_result"
    },
    {
     "name": "stdout",
     "output_type": "stream",
     "text": [
      "BOOM\n"
     ]
    }
   ],
   "source": [
    "# Failure looks like this:\n",
    "status = DeviceStatus(sig)\n",
    "status.add_callback(cb)\n",
    "status._finished(success=False)\n",
    "status.success"
   ]
  },
  {
   "cell_type": "markdown",
   "metadata": {},
   "source": [
    "We'll see later how to actually use this in practice."
   ]
  },
  {
   "cell_type": "markdown",
   "metadata": {},
   "source": [
    "## Interface to Device"
   ]
  },
  {
   "cell_type": "code",
   "execution_count": 30,
   "metadata": {
    "execution": {
     "iopub.execute_input": "2021-02-05T23:34:10.445915Z",
     "iopub.status.busy": "2021-02-05T23:34:10.444557Z",
     "iopub.status.idle": "2021-02-05T23:34:10.446689Z",
     "shell.execute_reply": "2021-02-05T23:34:10.447084Z"
    }
   },
   "outputs": [],
   "source": [
    "# This encodes the _structure_ of a kind of Device.\n",
    "# Real examples include EpicsMotor, EpicsScaler or user-defined\n",
    "# combinations of these, such as a platform that can move in X and Y.\n",
    "\n",
    "class Platform(Device):\n",
    "    x = Cpt(Signal, value=3)\n",
    "    y = Cpt(Signal, value=4)\n",
    "    \n",
    "p1 = Platform(name='p1')\n",
    "p2 = Platform(name='p2')"
   ]
  },
  {
   "cell_type": "markdown",
   "metadata": {},
   "source": [
    "### Names and relationships"
   ]
  },
  {
   "cell_type": "code",
   "execution_count": 31,
   "metadata": {
    "execution": {
     "iopub.execute_input": "2021-02-05T23:34:10.451503Z",
     "iopub.status.busy": "2021-02-05T23:34:10.450903Z",
     "iopub.status.idle": "2021-02-05T23:34:10.453626Z",
     "shell.execute_reply": "2021-02-05T23:34:10.454061Z"
    }
   },
   "outputs": [
    {
     "data": {
      "text/plain": [
       "Platform(prefix='', name='p1', read_attrs=['x', 'y'], configuration_attrs=[])"
      ]
     },
     "execution_count": 1,
     "metadata": {},
     "output_type": "execute_result"
    }
   ],
   "source": [
    "p1"
   ]
  },
  {
   "cell_type": "code",
   "execution_count": 32,
   "metadata": {
    "execution": {
     "iopub.execute_input": "2021-02-05T23:34:10.458403Z",
     "iopub.status.busy": "2021-02-05T23:34:10.457744Z",
     "iopub.status.idle": "2021-02-05T23:34:10.460543Z",
     "shell.execute_reply": "2021-02-05T23:34:10.460940Z"
    }
   },
   "outputs": [
    {
     "data": {
      "text/plain": [
       "('x', 'y')"
      ]
     },
     "execution_count": 1,
     "metadata": {},
     "output_type": "execute_result"
    }
   ],
   "source": [
    "p1.component_names"
   ]
  },
  {
   "cell_type": "code",
   "execution_count": 33,
   "metadata": {
    "execution": {
     "iopub.execute_input": "2021-02-05T23:34:10.465202Z",
     "iopub.status.busy": "2021-02-05T23:34:10.464620Z",
     "iopub.status.idle": "2021-02-05T23:34:10.467380Z",
     "shell.execute_reply": "2021-02-05T23:34:10.467793Z"
    }
   },
   "outputs": [
    {
     "data": {
      "text/plain": [
       "Signal(name='p1_x', parent='p1', value=3, timestamp=1612568050.4429872)"
      ]
     },
     "execution_count": 1,
     "metadata": {},
     "output_type": "execute_result"
    }
   ],
   "source": [
    "p1.x"
   ]
  },
  {
   "cell_type": "code",
   "execution_count": 34,
   "metadata": {
    "execution": {
     "iopub.execute_input": "2021-02-05T23:34:10.470885Z",
     "iopub.status.busy": "2021-02-05T23:34:10.470431Z",
     "iopub.status.idle": "2021-02-05T23:34:10.475457Z",
     "shell.execute_reply": "2021-02-05T23:34:10.475029Z"
    }
   },
   "outputs": [
    {
     "data": {
      "text/plain": [
       "Signal(name='p1_y', parent='p1', value=4, timestamp=1612568050.4430525)"
      ]
     },
     "execution_count": 1,
     "metadata": {},
     "output_type": "execute_result"
    }
   ],
   "source": [
    "p1.y"
   ]
  },
  {
   "cell_type": "code",
   "execution_count": 35,
   "metadata": {
    "execution": {
     "iopub.execute_input": "2021-02-05T23:34:10.478954Z",
     "iopub.status.busy": "2021-02-05T23:34:10.478446Z",
     "iopub.status.idle": "2021-02-05T23:34:10.483135Z",
     "shell.execute_reply": "2021-02-05T23:34:10.483512Z"
    }
   },
   "outputs": [
    {
     "data": {
      "text/plain": [
       "'p1'"
      ]
     },
     "execution_count": 1,
     "metadata": {},
     "output_type": "execute_result"
    }
   ],
   "source": [
    "p1.name"
   ]
  },
  {
   "cell_type": "code",
   "execution_count": 36,
   "metadata": {
    "execution": {
     "iopub.execute_input": "2021-02-05T23:34:10.486788Z",
     "iopub.status.busy": "2021-02-05T23:34:10.486328Z",
     "iopub.status.idle": "2021-02-05T23:34:10.490852Z",
     "shell.execute_reply": "2021-02-05T23:34:10.491656Z"
    }
   },
   "outputs": [
    {
     "data": {
      "text/plain": [
       "'p1_x'"
      ]
     },
     "execution_count": 1,
     "metadata": {},
     "output_type": "execute_result"
    }
   ],
   "source": [
    "p1.x.name"
   ]
  },
  {
   "cell_type": "code",
   "execution_count": 37,
   "metadata": {
    "execution": {
     "iopub.execute_input": "2021-02-05T23:34:10.494890Z",
     "iopub.status.busy": "2021-02-05T23:34:10.494430Z",
     "iopub.status.idle": "2021-02-05T23:34:10.498982Z",
     "shell.execute_reply": "2021-02-05T23:34:10.498330Z"
    }
   },
   "outputs": [
    {
     "data": {
      "text/plain": [
       "True"
      ]
     },
     "execution_count": 1,
     "metadata": {},
     "output_type": "execute_result"
    }
   ],
   "source": [
    "p1.x.parent is p1"
   ]
  },
  {
   "cell_type": "markdown",
   "metadata": {},
   "source": [
    "### Reading the parent combines the readings of its children"
   ]
  },
  {
   "cell_type": "code",
   "execution_count": 38,
   "metadata": {
    "execution": {
     "iopub.execute_input": "2021-02-05T23:34:10.503572Z",
     "iopub.status.busy": "2021-02-05T23:34:10.502289Z",
     "iopub.status.idle": "2021-02-05T23:34:10.505832Z",
     "shell.execute_reply": "2021-02-05T23:34:10.505351Z"
    }
   },
   "outputs": [
    {
     "data": {
      "text/plain": [
       "OrderedDict([('p1_x', {'value': 3, 'timestamp': 1612568050.4429872}),\n",
       "             ('p1_y', {'value': 4, 'timestamp': 1612568050.4430525})])"
      ]
     },
     "execution_count": 1,
     "metadata": {},
     "output_type": "execute_result"
    }
   ],
   "source": [
    "p1.read()"
   ]
  },
  {
   "cell_type": "code",
   "execution_count": 39,
   "metadata": {
    "execution": {
     "iopub.execute_input": "2021-02-05T23:34:10.509325Z",
     "iopub.status.busy": "2021-02-05T23:34:10.508861Z",
     "iopub.status.idle": "2021-02-05T23:34:10.513939Z",
     "shell.execute_reply": "2021-02-05T23:34:10.513487Z"
    }
   },
   "outputs": [
    {
     "data": {
      "text/plain": [
       "{'p1_x': {'value': 3, 'timestamp': 1612568050.4429872}}"
      ]
     },
     "execution_count": 1,
     "metadata": {},
     "output_type": "execute_result"
    }
   ],
   "source": [
    "p1.x.read()"
   ]
  },
  {
   "cell_type": "markdown",
   "metadata": {},
   "source": [
    "and `describe` works exactly the same way:"
   ]
  },
  {
   "cell_type": "code",
   "execution_count": 40,
   "metadata": {
    "execution": {
     "iopub.execute_input": "2021-02-05T23:34:10.517665Z",
     "iopub.status.busy": "2021-02-05T23:34:10.517211Z",
     "iopub.status.idle": "2021-02-05T23:34:10.521698Z",
     "shell.execute_reply": "2021-02-05T23:34:10.522191Z"
    }
   },
   "outputs": [
    {
     "data": {
      "text/plain": [
       "OrderedDict([('p1_x', {'source': 'SIM:p1_x', 'dtype': 'integer', 'shape': []}),\n",
       "             ('p1_y',\n",
       "              {'source': 'SIM:p1_y', 'dtype': 'integer', 'shape': []})])"
      ]
     },
     "execution_count": 1,
     "metadata": {},
     "output_type": "execute_result"
    }
   ],
   "source": [
    "p1.describe()"
   ]
  },
  {
   "cell_type": "code",
   "execution_count": 41,
   "metadata": {
    "execution": {
     "iopub.execute_input": "2021-02-05T23:34:10.525588Z",
     "iopub.status.busy": "2021-02-05T23:34:10.525133Z",
     "iopub.status.idle": "2021-02-05T23:34:10.529719Z",
     "shell.execute_reply": "2021-02-05T23:34:10.530214Z"
    }
   },
   "outputs": [
    {
     "data": {
      "text/plain": [
       "{'p1_x': {'source': 'SIM:p1_x', 'dtype': 'integer', 'shape': []}}"
      ]
     },
     "execution_count": 1,
     "metadata": {},
     "output_type": "execute_result"
    }
   ],
   "source": [
    "p1.x.describe()"
   ]
  },
  {
   "cell_type": "markdown",
   "metadata": {},
   "source": [
    "### Components are sorted into categories:\n",
    "\n",
    "* `OMITTED` -- not read (exposed for debugging only)\n",
    "* `NORMAL` / `read_attrs` -- things to read once per Event (i.e. row in the table)\n",
    "* `CONFIG` / `configuration_attrs` -- things to read once per Event Descriptor (which usually means one per run)\n",
    "* things ommitted from data collection entirely, but available for debugging etc.\n",
    "* `HINTED` -- subset of `NORMAL` flagged as interesting"
   ]
  },
  {
   "cell_type": "code",
   "execution_count": 42,
   "metadata": {
    "execution": {
     "iopub.execute_input": "2021-02-05T23:34:10.533685Z",
     "iopub.status.busy": "2021-02-05T23:34:10.533218Z",
     "iopub.status.idle": "2021-02-05T23:34:10.537710Z",
     "shell.execute_reply": "2021-02-05T23:34:10.538196Z"
    }
   },
   "outputs": [
    {
     "data": {
      "text/plain": [
       "['x', 'y']"
      ]
     },
     "execution_count": 1,
     "metadata": {},
     "output_type": "execute_result"
    }
   ],
   "source": [
    "p1.read_attrs"
   ]
  },
  {
   "cell_type": "code",
   "execution_count": 43,
   "metadata": {
    "execution": {
     "iopub.execute_input": "2021-02-05T23:34:10.541944Z",
     "iopub.status.busy": "2021-02-05T23:34:10.541193Z",
     "iopub.status.idle": "2021-02-05T23:34:10.544389Z",
     "shell.execute_reply": "2021-02-05T23:34:10.543912Z"
    }
   },
   "outputs": [
    {
     "data": {
      "text/plain": [
       "[]"
      ]
     },
     "execution_count": 1,
     "metadata": {},
     "output_type": "execute_result"
    }
   ],
   "source": [
    "p1.configuration_attrs"
   ]
  },
  {
   "cell_type": "code",
   "execution_count": 44,
   "metadata": {
    "execution": {
     "iopub.execute_input": "2021-02-05T23:34:10.549177Z",
     "iopub.status.busy": "2021-02-05T23:34:10.548720Z",
     "iopub.status.idle": "2021-02-05T23:34:10.551754Z",
     "shell.execute_reply": "2021-02-05T23:34:10.552116Z"
    }
   },
   "outputs": [],
   "source": [
    "# dumb example...\n",
    "\n",
    "class Platform(Device):\n",
    "    x = Cpt(Signal, value=3)\n",
    "    y = Cpt(Signal, value=4)\n",
    "    motion_compensation = Cpt(Signal, value=1, kind='CONFIG')  # a boolean\n",
    "    \n",
    "p1 = Platform(name='p1')\n",
    "p2 = Platform(name='p2')"
   ]
  },
  {
   "cell_type": "code",
   "execution_count": 45,
   "metadata": {
    "execution": {
     "iopub.execute_input": "2021-02-05T23:34:10.556438Z",
     "iopub.status.busy": "2021-02-05T23:34:10.555848Z",
     "iopub.status.idle": "2021-02-05T23:34:10.558624Z",
     "shell.execute_reply": "2021-02-05T23:34:10.559015Z"
    }
   },
   "outputs": [
    {
     "data": {
      "text/plain": [
       "['x', 'y']"
      ]
     },
     "execution_count": 1,
     "metadata": {},
     "output_type": "execute_result"
    }
   ],
   "source": [
    "p1.read_attrs"
   ]
  },
  {
   "cell_type": "code",
   "execution_count": 46,
   "metadata": {
    "execution": {
     "iopub.execute_input": "2021-02-05T23:34:10.563342Z",
     "iopub.status.busy": "2021-02-05T23:34:10.562739Z",
     "iopub.status.idle": "2021-02-05T23:34:10.565665Z",
     "shell.execute_reply": "2021-02-05T23:34:10.566078Z"
    }
   },
   "outputs": [
    {
     "data": {
      "text/plain": [
       "['motion_compensation']"
      ]
     },
     "execution_count": 1,
     "metadata": {},
     "output_type": "execute_result"
    }
   ],
   "source": [
    "p1.configuration_attrs"
   ]
  },
  {
   "cell_type": "code",
   "execution_count": 47,
   "metadata": {
    "execution": {
     "iopub.execute_input": "2021-02-05T23:34:10.570648Z",
     "iopub.status.busy": "2021-02-05T23:34:10.570008Z",
     "iopub.status.idle": "2021-02-05T23:34:10.572817Z",
     "shell.execute_reply": "2021-02-05T23:34:10.573207Z"
    }
   },
   "outputs": [
    {
     "data": {
      "text/plain": [
       "OrderedDict([('p1_motion_compensation',\n",
       "              {'value': 1, 'timestamp': 1612568050.5473948})])"
      ]
     },
     "execution_count": 1,
     "metadata": {},
     "output_type": "execute_result"
    }
   ],
   "source": [
    "p1.read_configuration()"
   ]
  },
  {
   "cell_type": "code",
   "execution_count": 48,
   "metadata": {
    "execution": {
     "iopub.execute_input": "2021-02-05T23:34:10.577850Z",
     "iopub.status.busy": "2021-02-05T23:34:10.577255Z",
     "iopub.status.idle": "2021-02-05T23:34:10.580034Z",
     "shell.execute_reply": "2021-02-05T23:34:10.580416Z"
    }
   },
   "outputs": [
    {
     "data": {
      "text/plain": [
       "OrderedDict([('p1_motion_compensation',\n",
       "              {'source': 'SIM:p1_motion_compensation',\n",
       "               'dtype': 'integer',\n",
       "               'shape': []})])"
      ]
     },
     "execution_count": 1,
     "metadata": {},
     "output_type": "execute_result"
    }
   ],
   "source": [
    "p1.describe_configuration()"
   ]
  },
  {
   "cell_type": "markdown",
   "metadata": {},
   "source": [
    "The data from `configuration_attrs` isn't displayed by the built-in callbacks..."
   ]
  },
  {
   "cell_type": "code",
   "execution_count": 49,
   "metadata": {
    "execution": {
     "iopub.execute_input": "2021-02-05T23:34:10.585249Z",
     "iopub.status.busy": "2021-02-05T23:34:10.584467Z",
     "iopub.status.idle": "2021-02-05T23:34:10.698715Z",
     "shell.execute_reply": "2021-02-05T23:34:10.699153Z"
    }
   },
   "outputs": [
    {
     "name": "stdout",
     "output_type": "stream",
     "text": [
      "\n",
      "\n",
      "Transient Scan ID: 1     Time: 2021-02-05 23:34:10\n",
      "Persistent Unique Scan ID: '79b79cf9-8198-4324-a0ff-abe712a53cce'\n",
      "New stream: 'primary'\n",
      "+-----------+------------+\n",
      "|   seq_num |       time |\n",
      "+-----------+------------+\n",
      "|         1 | 23:34:10.5 |\n"
     ]
    },
    {
     "name": "stdout",
     "output_type": "stream",
     "text": [
      "+-----------+------------+\n",
      "generator count ['79b79cf9'] (scan num: 1)\n",
      "\n",
      "\n",
      "\n"
     ]
    },
    {
     "data": {
      "text/plain": [
       "('79b79cf9-8198-4324-a0ff-abe712a53cce',)"
      ]
     },
     "execution_count": 1,
     "metadata": {},
     "output_type": "execute_result"
    }
   ],
   "source": [
    "RE(count([p1]))"
   ]
  },
  {
   "cell_type": "markdown",
   "metadata": {},
   "source": [
    "... but the data is saved, and it can accessed conveniently like so:"
   ]
  },
  {
   "cell_type": "code",
   "execution_count": 50,
   "metadata": {
    "execution": {
     "iopub.execute_input": "2021-02-05T23:34:10.711630Z",
     "iopub.status.busy": "2021-02-05T23:34:10.711125Z",
     "iopub.status.idle": "2021-02-05T23:34:10.716727Z",
     "shell.execute_reply": "2021-02-05T23:34:10.716055Z"
    }
   },
   "outputs": [
    {
     "data": {
      "text/plain": [
       "{'primary': [{'p1_motion_compensation': 1}]}"
      ]
     },
     "execution_count": 1,
     "metadata": {},
     "output_type": "execute_result"
    }
   ],
   "source": [
    "h = db[-1]\n",
    "h.config_data('p1')"
   ]
  },
  {
   "cell_type": "code",
   "execution_count": 51,
   "metadata": {
    "execution": {
     "iopub.execute_input": "2021-02-05T23:34:10.720325Z",
     "iopub.status.busy": "2021-02-05T23:34:10.719847Z",
     "iopub.status.idle": "2021-02-05T23:34:10.723994Z",
     "shell.execute_reply": "2021-02-05T23:34:10.723549Z"
    }
   },
   "outputs": [
    {
     "name": "stdout",
     "output_type": "stream",
     "text": [
      "data keys (* hints)\n",
      "-------------------\n",
      " p1_x\n",
      " p1_y\n",
      "\n",
      "read attrs\n",
      "----------\n",
      "x                    Signal              ('p1_x')\n",
      "y                    Signal              ('p1_y')\n",
      "\n",
      "config keys\n",
      "-----------\n",
      "p1_motion_compensation\n",
      "\n",
      "configuration attrs\n",
      "-------------------\n",
      "motion_compensation  Signal              ('p1_motion_compensation')\n",
      "\n",
      "unused attrs\n",
      "------------\n",
      "\n"
     ]
    }
   ],
   "source": [
    "p1.summary()"
   ]
  },
  {
   "cell_type": "markdown",
   "metadata": {},
   "source": [
    "Hints are meant to help downstream consumers of the data correctly infer user intent and automatically construct useful views on the data. They are only a suggestion. *They do not affect what is saved.*"
   ]
  },
  {
   "cell_type": "code",
   "execution_count": 52,
   "metadata": {
    "execution": {
     "iopub.execute_input": "2021-02-05T23:34:10.730287Z",
     "iopub.status.busy": "2021-02-05T23:34:10.729619Z",
     "iopub.status.idle": "2021-02-05T23:34:10.732492Z",
     "shell.execute_reply": "2021-02-05T23:34:10.732889Z"
    }
   },
   "outputs": [
    {
     "data": {
      "text/plain": [
       "{'fields': ['p1_x', 'p1_y']}"
      ]
     },
     "execution_count": 1,
     "metadata": {},
     "output_type": "execute_result"
    }
   ],
   "source": [
    "# dumb example...\n",
    "\n",
    "class Platform(Device):\n",
    "    x = Cpt(Signal, value=3, kind='hinted')\n",
    "    y = Cpt(Signal, value=4, kind='hinted')\n",
    "    motion_compensation = Cpt(Signal, value=1, kind='config')  # a boolean\n",
    "    \n",
    "p1 = Platform(name='p1')\n",
    "p1.hints"
   ]
  },
  {
   "cell_type": "code",
   "execution_count": 53,
   "metadata": {
    "execution": {
     "iopub.execute_input": "2021-02-05T23:34:10.736561Z",
     "iopub.status.busy": "2021-02-05T23:34:10.736051Z",
     "iopub.status.idle": "2021-02-05T23:34:10.738325Z",
     "shell.execute_reply": "2021-02-05T23:34:10.738822Z"
    }
   },
   "outputs": [
    {
     "name": "stdout",
     "output_type": "stream",
     "text": [
      "data keys (* hints)\n",
      "-------------------\n",
      "*p1_x\n",
      "*p1_y\n",
      "\n",
      "read attrs\n",
      "----------\n",
      "x                    Signal              ('p1_x')\n",
      "y                    Signal              ('p1_y')\n",
      "\n",
      "config keys\n",
      "-----------\n",
      "p1_motion_compensation\n",
      "\n",
      "configuration attrs\n",
      "-------------------\n",
      "motion_compensation  Signal              ('p1_motion_compensation')\n",
      "\n",
      "unused attrs\n",
      "------------\n",
      "\n"
     ]
    }
   ],
   "source": [
    "p1.summary()"
   ]
  },
  {
   "cell_type": "markdown",
   "metadata": {},
   "source": [
    "### 'Staging' -- a hook for putting a device into a controlled state for data collection (and then putting it back)"
   ]
  },
  {
   "cell_type": "code",
   "execution_count": 54,
   "metadata": {
    "execution": {
     "iopub.execute_input": "2021-02-05T23:34:10.745267Z",
     "iopub.status.busy": "2021-02-05T23:34:10.743842Z",
     "iopub.status.idle": "2021-02-05T23:34:10.745965Z",
     "shell.execute_reply": "2021-02-05T23:34:10.746383Z"
    }
   },
   "outputs": [],
   "source": [
    "class Platform(Device):\n",
    "    _default_configuration_attrs = ('motion_compensation',)\n",
    "    _default_read_attrs = ('x', 'y')\n",
    "    x = Cpt(Signal, value=3)\n",
    "    y = Cpt(Signal, value=4)\n",
    "    motion_compensation = Cpt(Signal, value=1)  # a boolean\n",
    "    \n",
    "    def __init__(self, *args, **kwargs):\n",
    "        super().__init__(*args, **kwargs)\n",
    "        self.stage_sigs['motion_compensation'] = 1\n",
    "        \n",
    "\n",
    "p1 = Platform(name='p1')"
   ]
  },
  {
   "cell_type": "code",
   "execution_count": 55,
   "metadata": {
    "execution": {
     "iopub.execute_input": "2021-02-05T23:34:10.750724Z",
     "iopub.status.busy": "2021-02-05T23:34:10.750118Z",
     "iopub.status.idle": "2021-02-05T23:34:10.752865Z",
     "shell.execute_reply": "2021-02-05T23:34:10.753260Z"
    }
   },
   "outputs": [
    {
     "data": {
      "text/plain": [
       "1"
      ]
     },
     "execution_count": 1,
     "metadata": {},
     "output_type": "execute_result"
    }
   ],
   "source": [
    "p1.motion_compensation.get()"
   ]
  },
  {
   "cell_type": "code",
   "execution_count": 56,
   "metadata": {
    "execution": {
     "iopub.execute_input": "2021-02-05T23:34:10.757392Z",
     "iopub.status.busy": "2021-02-05T23:34:10.756123Z",
     "iopub.status.idle": "2021-02-05T23:34:10.758164Z",
     "shell.execute_reply": "2021-02-05T23:34:10.758625Z"
    }
   },
   "outputs": [],
   "source": [
    "p1.motion_compensation.put(0)"
   ]
  },
  {
   "cell_type": "markdown",
   "metadata": {},
   "source": [
    "`Device.stage()` stashes the current state of the signals in `stage_sigs` and then puts the device into the desired state."
   ]
  },
  {
   "cell_type": "code",
   "execution_count": 57,
   "metadata": {
    "execution": {
     "iopub.execute_input": "2021-02-05T23:34:10.762515Z",
     "iopub.status.busy": "2021-02-05T23:34:10.761803Z",
     "iopub.status.idle": "2021-02-05T23:34:10.764658Z",
     "shell.execute_reply": "2021-02-05T23:34:10.765063Z"
    }
   },
   "outputs": [
    {
     "data": {
      "text/plain": [
       "[Platform(prefix='', name='p1', read_attrs=['x', 'y'], configuration_attrs=['motion_compensation'])]"
      ]
     },
     "execution_count": 1,
     "metadata": {},
     "output_type": "execute_result"
    }
   ],
   "source": [
    "p1.stage()"
   ]
  },
  {
   "cell_type": "code",
   "execution_count": 58,
   "metadata": {
    "execution": {
     "iopub.execute_input": "2021-02-05T23:34:10.769697Z",
     "iopub.status.busy": "2021-02-05T23:34:10.768985Z",
     "iopub.status.idle": "2021-02-05T23:34:10.772074Z",
     "shell.execute_reply": "2021-02-05T23:34:10.772485Z"
    }
   },
   "outputs": [
    {
     "data": {
      "text/plain": [
       "1"
      ]
     },
     "execution_count": 1,
     "metadata": {},
     "output_type": "execute_result"
    }
   ],
   "source": [
    "p1.motion_compensation.get()"
   ]
  },
  {
   "cell_type": "markdown",
   "metadata": {},
   "source": [
    "`Device.unstage()` uses that stashed stage to put everything back."
   ]
  },
  {
   "cell_type": "code",
   "execution_count": 59,
   "metadata": {
    "execution": {
     "iopub.execute_input": "2021-02-05T23:34:10.777400Z",
     "iopub.status.busy": "2021-02-05T23:34:10.776756Z",
     "iopub.status.idle": "2021-02-05T23:34:10.779705Z",
     "shell.execute_reply": "2021-02-05T23:34:10.780113Z"
    }
   },
   "outputs": [
    {
     "data": {
      "text/plain": [
       "[Platform(prefix='', name='p1', read_attrs=['x', 'y'], configuration_attrs=['motion_compensation'])]"
      ]
     },
     "execution_count": 1,
     "metadata": {},
     "output_type": "execute_result"
    }
   ],
   "source": [
    "p1.unstage()"
   ]
  },
  {
   "cell_type": "code",
   "execution_count": 60,
   "metadata": {
    "execution": {
     "iopub.execute_input": "2021-02-05T23:34:10.784916Z",
     "iopub.status.busy": "2021-02-05T23:34:10.784012Z",
     "iopub.status.idle": "2021-02-05T23:34:10.786699Z",
     "shell.execute_reply": "2021-02-05T23:34:10.787152Z"
    }
   },
   "outputs": [
    {
     "data": {
      "text/plain": [
       "0"
      ]
     },
     "execution_count": 1,
     "metadata": {},
     "output_type": "execute_result"
    }
   ],
   "source": [
    "p1.motion_compensation.get()"
   ]
  },
  {
   "cell_type": "markdown",
   "metadata": {},
   "source": [
    "Staging twice is illegal:"
   ]
  },
  {
   "cell_type": "code",
   "execution_count": 61,
   "metadata": {
    "execution": {
     "iopub.execute_input": "2021-02-05T23:34:10.790905Z",
     "iopub.status.busy": "2021-02-05T23:34:10.790426Z",
     "iopub.status.idle": "2021-02-05T23:34:10.795609Z",
     "shell.execute_reply": "2021-02-05T23:34:10.795187Z"
    }
   },
   "outputs": [
    {
     "data": {
      "text/plain": [
       "[Platform(prefix='', name='p1', read_attrs=['x', 'y'], configuration_attrs=['motion_compensation'])]"
      ]
     },
     "execution_count": 1,
     "metadata": {},
     "output_type": "execute_result"
    }
   ],
   "source": [
    "p1.stage()"
   ]
  },
  {
   "cell_type": "code",
   "execution_count": 62,
   "metadata": {
    "execution": {
     "iopub.execute_input": "2021-02-05T23:34:10.799290Z",
     "iopub.status.busy": "2021-02-05T23:34:10.798523Z",
     "iopub.status.idle": "2021-02-05T23:34:11.030749Z",
     "shell.execute_reply": "2021-02-05T23:34:11.028646Z"
    },
    "tags": [
     "raises-exception"
    ]
   },
   "outputs": [
    {
     "ename": "RedundantStaging",
     "evalue": "Device Platform(prefix='', name='p1', read_attrs=['x', 'y'], configuration_attrs=['motion_compensation']) is already staged. Unstage it first.",
     "output_type": "error",
     "traceback": [
      "\u001b[0;31m---------------------------------------------------------------------------\u001b[0m",
      "\u001b[0;31mRedundantStaging\u001b[0m                          Traceback (most recent call last)",
      "\u001b[0;32m<ipython-input-1-acdfc37e2a79>\u001b[0m in \u001b[0;36m<module>\u001b[0;34m\u001b[0m\n\u001b[1;32m      1\u001b[0m \u001b[0;31m# THIS IS EXPECTED TO CREATE AN ERROR.\u001b[0m\u001b[0;34m\u001b[0m\u001b[0;34m\u001b[0m\u001b[0;34m\u001b[0m\u001b[0m\n\u001b[1;32m      2\u001b[0m \u001b[0;34m\u001b[0m\u001b[0m\n\u001b[0;32m----> 3\u001b[0;31m \u001b[0mp1\u001b[0m\u001b[0;34m.\u001b[0m\u001b[0mstage\u001b[0m\u001b[0;34m(\u001b[0m\u001b[0;34m)\u001b[0m\u001b[0;34m\u001b[0m\u001b[0;34m\u001b[0m\u001b[0m\n\u001b[0m",
      "\u001b[0;32m~/virtualenv/python3.7.1/lib/python3.7/site-packages/ophyd/device.py\u001b[0m in \u001b[0;36mstage\u001b[0;34m(self)\u001b[0m\n\u001b[1;32m    516\u001b[0m         \u001b[0;32melif\u001b[0m \u001b[0mself\u001b[0m\u001b[0;34m.\u001b[0m\u001b[0m_staged\u001b[0m \u001b[0;34m==\u001b[0m \u001b[0mStaged\u001b[0m\u001b[0;34m.\u001b[0m\u001b[0myes\u001b[0m\u001b[0;34m:\u001b[0m\u001b[0;34m\u001b[0m\u001b[0;34m\u001b[0m\u001b[0m\n\u001b[1;32m    517\u001b[0m             raise RedundantStaging(\"Device {!r} is already staged. \"\n\u001b[0;32m--> 518\u001b[0;31m                                    \"Unstage it first.\".format(self))\n\u001b[0m\u001b[1;32m    519\u001b[0m         \u001b[0;32melif\u001b[0m \u001b[0mself\u001b[0m\u001b[0;34m.\u001b[0m\u001b[0m_staged\u001b[0m \u001b[0;34m==\u001b[0m \u001b[0mStaged\u001b[0m\u001b[0;34m.\u001b[0m\u001b[0mpartially\u001b[0m\u001b[0;34m:\u001b[0m\u001b[0;34m\u001b[0m\u001b[0;34m\u001b[0m\u001b[0m\n\u001b[1;32m    520\u001b[0m             raise RedundantStaging(\"Device {!r} has been partially staged. \"\n",
      "\u001b[0;31mRedundantStaging\u001b[0m: Device Platform(prefix='', name='p1', read_attrs=['x', 'y'], configuration_attrs=['motion_compensation']) is already staged. Unstage it first."
     ]
    }
   ],
   "source": [
    "# THIS IS EXPECTED TO CREATE AN ERROR.\n",
    "\n",
    "p1.stage()"
   ]
  },
  {
   "cell_type": "markdown",
   "metadata": {},
   "source": [
    "But unstaging is indempotent:"
   ]
  },
  {
   "cell_type": "code",
   "execution_count": 63,
   "metadata": {
    "execution": {
     "iopub.execute_input": "2021-02-05T23:34:11.134832Z",
     "iopub.status.busy": "2021-02-05T23:34:11.134325Z",
     "iopub.status.idle": "2021-02-05T23:34:11.140060Z",
     "shell.execute_reply": "2021-02-05T23:34:11.139580Z"
    }
   },
   "outputs": [
    {
     "data": {
      "text/plain": [
       "[Platform(prefix='', name='p1', read_attrs=['x', 'y'], configuration_attrs=['motion_compensation'])]"
      ]
     },
     "execution_count": 1,
     "metadata": {},
     "output_type": "execute_result"
    }
   ],
   "source": [
    "p1.unstage()\n",
    "p1.unstage()\n",
    "p1.unstage()"
   ]
  },
  {
   "cell_type": "markdown",
   "metadata": {},
   "source": [
    "## Pseudopositioners"
   ]
  },
  {
   "cell_type": "code",
   "execution_count": 64,
   "metadata": {
    "execution": {
     "iopub.execute_input": "2021-02-05T23:34:11.148104Z",
     "iopub.status.busy": "2021-02-05T23:34:11.147633Z",
     "iopub.status.idle": "2021-02-05T23:34:11.153518Z",
     "shell.execute_reply": "2021-02-05T23:34:11.152847Z"
    }
   },
   "outputs": [],
   "source": [
    "from ophyd import (PseudoPositioner, PseudoSingle)\n",
    "from ophyd.pseudopos import (pseudo_position_argument,\n",
    "                             real_position_argument)\n",
    "from ophyd import SoftPositioner\n",
    "C = Cpt\n",
    "\n",
    "class SPseudo3x3(PseudoPositioner):\n",
    "    pseudo1 = C(PseudoSingle, limits=(-10, 10), egu='a')\n",
    "    pseudo2 = C(PseudoSingle, limits=(-10, 10), egu='b')\n",
    "    pseudo3 = C(PseudoSingle, limits=None, egu='c')\n",
    "    \n",
    "    real1 = C(SoftPositioner, init_pos=0.)\n",
    "    real2 = C(SoftPositioner, init_pos=0.)\n",
    "    real3 = C(SoftPositioner, init_pos=0.)\n",
    "\n",
    "    sig = C(Signal, value=0)\n",
    "\n",
    "    @pseudo_position_argument\n",
    "    def forward(self, pseudo_pos):\n",
    "        # logger.debug('forward %s', pseudo_pos)\n",
    "        return self.RealPosition(real1=-pseudo_pos.pseudo1,\n",
    "                                    real2=-pseudo_pos.pseudo2,\n",
    "                                    real3=-pseudo_pos.pseudo3)\n",
    "\n",
    "    @real_position_argument\n",
    "    def inverse(self, real_pos):\n",
    "        # logger.debug('inverse %s', real_pos)\n",
    "        return self.PseudoPosition(pseudo1=-real_pos.real1,\n",
    "                                    pseudo2=-real_pos.real2,\n",
    "                                    pseudo3=-real_pos.real3)\n",
    "    \n",
    "\n",
    "p3 = SPseudo3x3(name='p3')"
   ]
  },
  {
   "cell_type": "code",
   "execution_count": 65,
   "metadata": {
    "execution": {
     "iopub.execute_input": "2021-02-05T23:34:11.158983Z",
     "iopub.status.busy": "2021-02-05T23:34:11.158516Z",
     "iopub.status.idle": "2021-02-05T23:34:11.589332Z",
     "shell.execute_reply": "2021-02-05T23:34:11.589755Z"
    }
   },
   "outputs": [
    {
     "name": "stdout",
     "output_type": "stream",
     "text": [
      "\n",
      "\n",
      "Transient Scan ID: 2     Time: 2021-02-05 23:34:11\n",
      "Persistent Unique Scan ID: 'd169c4af-10fe-433b-8897-23be282cff46'\n",
      "New stream: 'primary'\n"
     ]
    },
    {
     "data": {
      "application/vnd.jupyter.widget-view+json": {
       "model_id": "ce07e2244a4f48859ce9741f4494f193",
       "version_major": 2,
       "version_minor": 0
      },
      "text/plain": [
       "Canvas(toolbar=Toolbar(toolitems=[('Home', 'Reset original view', 'home', 'home'), ('Back', 'Back to previous …"
      ]
     },
     "metadata": {},
     "output_type": "display_data"
    },
    {
     "name": "stderr",
     "output_type": "stream",
     "text": [
      "An exception raised in the callback <function BestEffortCallback.__call__ at 0x7f7e7bdf1bf8> is being suppressed to not interrupt plan execution.  To investigate try setting the BLUESKY_DEBUG_CALLBACKS env to '1'\n",
      "Traceback (most recent call last):\n",
      "  File \"/home/travis/virtualenv/python3.7.1/lib/python3.7/site-packages/bluesky/callbacks/core.py\", line 56, in inner\n",
      "    return func(*args, **kwargs)\n",
      "  File \"/home/travis/virtualenv/python3.7.1/lib/python3.7/site-packages/bluesky/callbacks/best_effort.py\", line 98, in __call__\n",
      "    super().__call__(name, doc, *args, **kwargs)\n",
      "  File \"/home/travis/virtualenv/python3.7.1/lib/python3.7/site-packages/bluesky/callbacks/mpl_plotting.py\", line 75, in __call__\n",
      "    return CallbackBase.__call__(self, name, doc)\n",
      "  File \"/home/travis/virtualenv/python3.7.1/lib/python3.7/site-packages/event_model/__init__.py\", line 113, in __call__\n",
      "    return self._dispatch(name, doc, validate)\n",
      "  File \"/home/travis/virtualenv/python3.7.1/lib/python3.7/site-packages/event_model/__init__.py\", line 121, in _dispatch\n",
      "    output_doc = getattr(self, name)(doc)\n",
      "  File \"/home/travis/virtualenv/python3.7.1/lib/python3.7/site-packages/bluesky/callbacks/best_effort.py\", line 353, in descriptor\n",
      "    fig.tight_layout()\n",
      "  File \"/home/travis/virtualenv/python3.7.1/lib/python3.7/site-packages/matplotlib/cbook/deprecation.py\", line 411, in wrapper\n",
      "    return func(*inner_args, **inner_kwargs)\n",
      "  File \"/home/travis/virtualenv/python3.7.1/lib/python3.7/site-packages/matplotlib/figure.py\", line 2615, in tight_layout\n",
      "    pad=pad, h_pad=h_pad, w_pad=w_pad, rect=rect)\n",
      "  File \"/home/travis/virtualenv/python3.7.1/lib/python3.7/site-packages/matplotlib/tight_layout.py\", line 308, in get_tight_layout_figure\n",
      "    pad=pad, h_pad=h_pad, w_pad=w_pad)\n",
      "  File \"/home/travis/virtualenv/python3.7.1/lib/python3.7/site-packages/matplotlib/tight_layout.py\", line 84, in auto_adjust_subplotpars\n",
      "    bb += [ax.get_tightbbox(renderer, for_layout_only=True)]\n",
      "  File \"/home/travis/virtualenv/python3.7.1/lib/python3.7/site-packages/matplotlib/axes/_base.py\", line 4163, in get_tightbbox\n",
      "    renderer, for_layout_only=for_layout_only)\n",
      "  File \"/home/travis/virtualenv/python3.7.1/lib/python3.7/site-packages/matplotlib/axis.py\", line 1111, in get_tightbbox\n",
      "    self._update_label_position(renderer)\n",
      "  File \"/home/travis/virtualenv/python3.7.1/lib/python3.7/site-packages/matplotlib/axis.py\", line 2353, in _update_label_position\n",
      "    bboxes, bboxes2 = self._get_tick_boxes_siblings(renderer=renderer)\n",
      "  File \"/home/travis/virtualenv/python3.7.1/lib/python3.7/site-packages/matplotlib/axis.py\", line 2338, in _get_tick_boxes_siblings\n",
      "    tlb, tlb2 = axx.yaxis._get_tick_bboxes(ticks_to_draw, renderer)\n",
      "  File \"/home/travis/virtualenv/python3.7.1/lib/python3.7/site-packages/matplotlib/axis.py\", line 1092, in _get_tick_bboxes\n",
      "    for tick in ticks if tick.label1.get_visible()],\n",
      "  File \"/home/travis/virtualenv/python3.7.1/lib/python3.7/site-packages/matplotlib/axis.py\", line 1092, in <listcomp>\n",
      "    for tick in ticks if tick.label1.get_visible()],\n",
      "  File \"/home/travis/virtualenv/python3.7.1/lib/python3.7/site-packages/matplotlib/text.py\", line 902, in get_window_extent\n",
      "    bbox, info, descent = self._get_layout(self._renderer)\n",
      "  File \"/home/travis/virtualenv/python3.7.1/lib/python3.7/site-packages/matplotlib/text.py\", line 296, in _get_layout\n",
      "    clean_line, self._fontproperties, ismath=ismath)\n",
      "  File \"/home/travis/virtualenv/python3.7.1/lib/python3.7/site-packages/matplotlib/backends/backend_agg.py\", line 238, in get_text_width_height_descent\n",
      "    font.set_text(s, 0.0, flags=flags)\n",
      "RuntimeError: In set_text: Could not load glyph (error code 0x16)\n"
     ]
    },
    {
     "name": "stdout",
     "output_type": "stream",
     "text": [
      "\n",
      "\n",
      "\n"
     ]
    },
    {
     "name": "stderr",
     "output_type": "stream",
     "text": [
      "/home/travis/virtualenv/python3.7.1/lib/python3.7/site-packages/bluesky/utils.py:1598: UserWarning: Tight layout not applied. tight_layout cannot make axes height small enough to accommodate all axes decorations\n",
      "  f_mgr.canvas.draw()\n",
      "/home/travis/virtualenv/python3.7.1/lib/python3.7/site-packages/bluesky/callbacks/fitting.py:166: RuntimeWarning: invalid value encountered in double_scalars\n",
      "  for dir in range(input.ndim)]\n"
     ]
    },
    {
     "data": {
      "text/plain": [
       "('d169c4af-10fe-433b-8897-23be282cff46',)"
      ]
     },
     "execution_count": 1,
     "metadata": {},
     "output_type": "execute_result"
    }
   ],
   "source": [
    "from ophyd.sim import det\n",
    "\n",
    "RE(scan([det, p3], p3.pseudo2, -1, 1, 5))"
   ]
  },
  {
   "cell_type": "code",
   "execution_count": null,
   "metadata": {},
   "outputs": [],
   "source": []
  }
 ],
 "metadata": {
  "kernelspec": {
   "display_name": "Python 3",
   "language": "python",
   "name": "python3"
  },
  "language_info": {
   "codemirror_mode": {
    "name": "ipython",
    "version": 3
   },
   "file_extension": ".py",
   "mimetype": "text/x-python",
   "name": "python",
   "nbconvert_exporter": "python",
   "pygments_lexer": "ipython3",
   "version": "3.7.1"
  },
  "widgets": {
   "application/vnd.jupyter.widget-state+json": {
    "state": {
     "753f34d4a5584171a0802ffe1dbd93b6": {
      "model_module": "@jupyter-widgets/base",
      "model_module_version": "1.2.0",
      "model_name": "LayoutModel",
      "state": {
       "_model_module": "@jupyter-widgets/base",
       "_model_module_version": "1.2.0",
       "_model_name": "LayoutModel",
       "_view_count": null,
       "_view_module": "@jupyter-widgets/base",
       "_view_module_version": "1.2.0",
       "_view_name": "LayoutView",
       "align_content": null,
       "align_items": null,
       "align_self": null,
       "border": null,
       "bottom": null,
       "display": null,
       "flex": null,
       "flex_flow": null,
       "grid_area": null,
       "grid_auto_columns": null,
       "grid_auto_flow": null,
       "grid_auto_rows": null,
       "grid_column": null,
       "grid_gap": null,
       "grid_row": null,
       "grid_template_areas": null,
       "grid_template_columns": null,
       "grid_template_rows": null,
       "height": null,
       "justify_content": null,
       "justify_items": null,
       "left": null,
       "margin": null,
       "max_height": null,
       "max_width": null,
       "min_height": null,
       "min_width": null,
       "object_fit": null,
       "object_position": null,
       "order": null,
       "overflow": null,
       "overflow_x": null,
       "overflow_y": null,
       "padding": null,
       "right": null,
       "top": null,
       "visibility": null,
       "width": null
      }
     },
     "7995916a8cb94b8797757dfbfdbf0410": {
      "model_module": "jupyter-matplotlib",
      "model_module_version": "^0.8.3",
      "model_name": "ToolbarModel",
      "state": {
       "_current_action": "",
       "_dom_classes": [],
       "_model_module": "jupyter-matplotlib",
       "_model_module_version": "^0.8.3",
       "_model_name": "ToolbarModel",
       "_view_count": null,
       "_view_module": "jupyter-matplotlib",
       "_view_module_version": "^0.8.3",
       "_view_name": "ToolbarView",
       "button_style": "",
       "collapsed": true,
       "layout": "IPY_MODEL_753f34d4a5584171a0802ffe1dbd93b6",
       "orientation": "vertical",
       "toolitems": [
        [
         "Home",
         "Reset original view",
         "home",
         "home"
        ],
        [
         "Back",
         "Back to previous view",
         "arrow-left",
         "back"
        ],
        [
         "Forward",
         "Forward to next view",
         "arrow-right",
         "forward"
        ],
        [
         "Pan",
         "Left button pans, Right button zooms\nx/y fixes axis, CTRL fixes aspect",
         "arrows",
         "pan"
        ],
        [
         "Zoom",
         "Zoom to rectangle\nx/y fixes axis, CTRL fixes aspect",
         "square-o",
         "zoom"
        ],
        [
         "Download",
         "Download plot",
         "floppy-o",
         "save_figure"
        ]
       ]
      }
     },
     "840426c6358945a581de841d654af463": {
      "model_module": "@jupyter-widgets/base",
      "model_module_version": "1.2.0",
      "model_name": "LayoutModel",
      "state": {
       "_model_module": "@jupyter-widgets/base",
       "_model_module_version": "1.2.0",
       "_model_name": "LayoutModel",
       "_view_count": null,
       "_view_module": "@jupyter-widgets/base",
       "_view_module_version": "1.2.0",
       "_view_name": "LayoutView",
       "align_content": null,
       "align_items": null,
       "align_self": null,
       "border": null,
       "bottom": null,
       "display": null,
       "flex": null,
       "flex_flow": null,
       "grid_area": null,
       "grid_auto_columns": null,
       "grid_auto_flow": null,
       "grid_auto_rows": null,
       "grid_column": null,
       "grid_gap": null,
       "grid_row": null,
       "grid_template_areas": null,
       "grid_template_columns": null,
       "grid_template_rows": null,
       "height": null,
       "justify_content": null,
       "justify_items": null,
       "left": null,
       "margin": null,
       "max_height": null,
       "max_width": null,
       "min_height": null,
       "min_width": null,
       "object_fit": null,
       "object_position": null,
       "order": null,
       "overflow": null,
       "overflow_x": null,
       "overflow_y": null,
       "padding": null,
       "right": null,
       "top": null,
       "visibility": null,
       "width": null
      }
     },
     "ce07e2244a4f48859ce9741f4494f193": {
      "model_module": "jupyter-matplotlib",
      "model_module_version": "^0.8.3",
      "model_name": "MPLCanvasModel",
      "state": {
       "_cursor": "default",
       "_dom_classes": [],
       "_figure_label": "det p3_pseudo1 p3_pseudo3 vs p3_pseudo2",
       "_height": 1500,
       "_image_mode": "full",
       "_message": "",
       "_model_module": "jupyter-matplotlib",
       "_model_module_version": "^0.8.3",
       "_model_name": "MPLCanvasModel",
       "_rubberband_height": 0,
       "_rubberband_width": 0,
       "_rubberband_x": 0,
       "_rubberband_y": 0,
       "_view_count": null,
       "_view_module": "jupyter-matplotlib",
       "_view_module_version": "^0.8.3",
       "_view_name": "MPLCanvasView",
       "_width": 500,
       "capture_scroll": false,
       "footer_visible": true,
       "header_visible": true,
       "layout": "IPY_MODEL_840426c6358945a581de841d654af463",
       "resizable": true,
       "toolbar": "IPY_MODEL_7995916a8cb94b8797757dfbfdbf0410",
       "toolbar_position": "left",
       "toolbar_visible": true
      }
     }
    },
    "version_major": 2,
    "version_minor": 0
   }
  }
 },
 "nbformat": 4,
 "nbformat_minor": 2
}
