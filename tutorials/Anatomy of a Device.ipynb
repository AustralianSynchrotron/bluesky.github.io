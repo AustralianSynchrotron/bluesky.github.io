{
 "cells": [
  {
   "cell_type": "markdown",
   "metadata": {},
   "source": [
    "# Anatomy of a Device\n",
    "\n",
    "In this notebook you will:\n",
    "\n",
    "* Understand the various methods of an ophyd Signal\n",
    "* Learn how to group Signals into Devices.\n",
    "* Learn how to specific \"pseudopositions\" that expose real axes (corresponding to physical hardware) and pseudoaxes, that move real axes via some mathematical transformation.\n",
    "\n",
    "Recommended Prerequisites:\n",
    "\n",
    "* [Hello Bluesky](./Hello%20Bluesky.ipynb)\n",
    "\n",
    "## Configuration\n",
    "Below, we will connect to EPICS IOC(s) controlling simulated hardware in lieu of actual motors, detectors. The IOCs should already be running in the background. Run this command to verify that they are running: it should produce output with RUNNING on each line. In the event of a problem, edit this command to replace `status` with `restart all` and run again."
   ]
  },
  {
   "cell_type": "code",
   "execution_count": 1,
   "metadata": {
    "execution": {
     "iopub.execute_input": "2021-03-27T22:27:35.760726Z",
     "iopub.status.busy": "2021-03-27T22:27:35.759905Z",
     "iopub.status.idle": "2021-03-27T22:27:36.101292Z",
     "shell.execute_reply": "2021-03-27T22:27:36.100711Z"
    }
   },
   "outputs": [
    {
     "name": "stdout",
     "output_type": "stream",
     "text": [
      "decay                            RUNNING   pid 4958, uptime 0:00:18\r\n",
      "mini_beamline                    RUNNING   pid 4959, uptime 0:00:18\r\n",
      "random_walk                      RUNNING   pid 4960, uptime 0:00:18\r\n",
      "random_walk_horiz                RUNNING   pid 4961, uptime 0:00:18\r\n",
      "random_walk_vert                 RUNNING   pid 4962, uptime 0:00:18\r\n",
      "simple                           RUNNING   pid 4963, uptime 0:00:18\r\n",
      "thermo_sim                       RUNNING   pid 4964, uptime 0:00:18\r\n",
      "trigger_with_pc                  FATAL     Exited too quickly (process log may have details)\r\n"
     ]
    }
   ],
   "source": [
    "!supervisorctl -c supervisor/supervisord.conf status"
   ]
  },
  {
   "cell_type": "code",
   "execution_count": 2,
   "metadata": {
    "execution": {
     "iopub.execute_input": "2021-03-27T22:27:36.108015Z",
     "iopub.status.busy": "2021-03-27T22:27:36.106321Z",
     "iopub.status.idle": "2021-03-27T22:27:38.210471Z",
     "shell.execute_reply": "2021-03-27T22:27:38.210992Z"
    }
   },
   "outputs": [
    {
     "name": "stderr",
     "output_type": "stream",
     "text": [
      "/home/travis/virtualenv/python3.7.1/lib/python3.7/site-packages/traitlets/traitlets.py:3036: FutureWarning: --rc={'figure.dpi': 96} for dict-traits is deprecated in traitlets 5.0. You can pass --rc <key=value> ... multiple times to add items to a dict.\n",
      "  FutureWarning,\n"
     ]
    },
    {
     "name": "stderr",
     "output_type": "stream",
     "text": [
      "/home/travis/virtualenv/python3.7.1/lib/python3.7/site-packages/pims/image_reader.py:26: RuntimeWarning: PIMS image_reader.py could not find scikit-image. Falling back to matplotlib's imread(), which uses floats instead of integers. This may break your scripts. \n",
      "(To ignore this warning, include the line \"warnings.simplefilter(\"ignore\", RuntimeWarning)\" in your script.)\n",
      "  warnings.warn(RuntimeWarning(ski_preferred))\n"
     ]
    }
   ],
   "source": [
    "%run scripts/beamline_configuration.py"
   ]
  },
  {
   "cell_type": "code",
   "execution_count": 3,
   "metadata": {
    "execution": {
     "iopub.execute_input": "2021-03-27T22:27:38.216010Z",
     "iopub.status.busy": "2021-03-27T22:27:38.215438Z",
     "iopub.status.idle": "2021-03-27T22:27:38.219668Z",
     "shell.execute_reply": "2021-03-27T22:27:38.219196Z"
    }
   },
   "outputs": [],
   "source": [
    "import time\n",
    "from ophyd import Device, Signal, Component as Cpt, DeviceStatus\n",
    "from ophyd.sim import SynSignal, SynPeriodicSignal"
   ]
  },
  {
   "cell_type": "markdown",
   "metadata": {},
   "source": [
    "## Interface to Signal"
   ]
  },
  {
   "cell_type": "code",
   "execution_count": 4,
   "metadata": {
    "execution": {
     "iopub.execute_input": "2021-03-27T22:27:38.226193Z",
     "iopub.status.busy": "2021-03-27T22:27:38.225241Z",
     "iopub.status.idle": "2021-03-27T22:27:38.230305Z",
     "shell.execute_reply": "2021-03-27T22:27:38.230807Z"
    }
   },
   "outputs": [
    {
     "data": {
      "text/plain": [
       "Signal(name='sig', value=3, timestamp=1616884058.2223675)"
      ]
     },
     "execution_count": 1,
     "metadata": {},
     "output_type": "execute_result"
    }
   ],
   "source": [
    "sig = Signal(name='sig', value=3)\n",
    "sig"
   ]
  },
  {
   "cell_type": "markdown",
   "metadata": {},
   "source": [
    "### Methods that require no communication with the IOC"
   ]
  },
  {
   "cell_type": "code",
   "execution_count": 5,
   "metadata": {
    "execution": {
     "iopub.execute_input": "2021-03-27T22:27:38.236923Z",
     "iopub.status.busy": "2021-03-27T22:27:38.236252Z",
     "iopub.status.idle": "2021-03-27T22:27:38.239689Z",
     "shell.execute_reply": "2021-03-27T22:27:38.240242Z"
    }
   },
   "outputs": [
    {
     "data": {
      "text/plain": [
       "'sig'"
      ]
     },
     "execution_count": 1,
     "metadata": {},
     "output_type": "execute_result"
    }
   ],
   "source": [
    "sig.name"
   ]
  },
  {
   "cell_type": "code",
   "execution_count": 6,
   "metadata": {
    "execution": {
     "iopub.execute_input": "2021-03-27T22:27:38.246183Z",
     "iopub.status.busy": "2021-03-27T22:27:38.244933Z",
     "iopub.status.idle": "2021-03-27T22:27:38.248697Z",
     "shell.execute_reply": "2021-03-27T22:27:38.249110Z"
    }
   },
   "outputs": [
    {
     "data": {
      "text/plain": [
       "True"
      ]
     },
     "execution_count": 1,
     "metadata": {},
     "output_type": "execute_result"
    }
   ],
   "source": [
    "sig.parent is None"
   ]
  },
  {
   "cell_type": "markdown",
   "metadata": {},
   "source": [
    "### Methods that ask the IOC to tell us something it already 'knows'"
   ]
  },
  {
   "cell_type": "code",
   "execution_count": 7,
   "metadata": {
    "execution": {
     "iopub.execute_input": "2021-03-27T22:27:38.254823Z",
     "iopub.status.busy": "2021-03-27T22:27:38.254189Z",
     "iopub.status.idle": "2021-03-27T22:27:38.257385Z",
     "shell.execute_reply": "2021-03-27T22:27:38.257840Z"
    }
   },
   "outputs": [
    {
     "data": {
      "text/plain": [
       "True"
      ]
     },
     "execution_count": 1,
     "metadata": {},
     "output_type": "execute_result"
    }
   ],
   "source": [
    "sig.connected"
   ]
  },
  {
   "cell_type": "code",
   "execution_count": 8,
   "metadata": {
    "execution": {
     "iopub.execute_input": "2021-03-27T22:27:38.262996Z",
     "iopub.status.busy": "2021-03-27T22:27:38.262304Z",
     "iopub.status.idle": "2021-03-27T22:27:38.268276Z",
     "shell.execute_reply": "2021-03-27T22:27:38.267016Z"
    }
   },
   "outputs": [
    {
     "data": {
      "text/plain": [
       "(0, 0)"
      ]
     },
     "execution_count": 1,
     "metadata": {},
     "output_type": "execute_result"
    }
   ],
   "source": [
    "sig.limits"
   ]
  },
  {
   "cell_type": "code",
   "execution_count": 9,
   "metadata": {
    "execution": {
     "iopub.execute_input": "2021-03-27T22:27:38.274084Z",
     "iopub.status.busy": "2021-03-27T22:27:38.273330Z",
     "iopub.status.idle": "2021-03-27T22:27:38.276488Z",
     "shell.execute_reply": "2021-03-27T22:27:38.276922Z"
    }
   },
   "outputs": [
    {
     "data": {
      "text/plain": [
       "{'sig': {'value': 3, 'timestamp': 1616884058.2223675}}"
      ]
     },
     "execution_count": 1,
     "metadata": {},
     "output_type": "execute_result"
    }
   ],
   "source": [
    "sig.read()"
   ]
  },
  {
   "cell_type": "code",
   "execution_count": 10,
   "metadata": {
    "execution": {
     "iopub.execute_input": "2021-03-27T22:27:38.282962Z",
     "iopub.status.busy": "2021-03-27T22:27:38.282230Z",
     "iopub.status.idle": "2021-03-27T22:27:38.285396Z",
     "shell.execute_reply": "2021-03-27T22:27:38.285826Z"
    }
   },
   "outputs": [
    {
     "data": {
      "text/plain": [
       "{'sig': {'source': 'SIM:sig', 'dtype': 'integer', 'shape': []}}"
      ]
     },
     "execution_count": 1,
     "metadata": {},
     "output_type": "execute_result"
    }
   ],
   "source": [
    "sig.describe()"
   ]
  },
  {
   "cell_type": "markdown",
   "metadata": {},
   "source": [
    "### Monitoring (subscribing for updates asynchronously)"
   ]
  },
  {
   "cell_type": "code",
   "execution_count": 11,
   "metadata": {
    "execution": {
     "iopub.execute_input": "2021-03-27T22:27:38.291610Z",
     "iopub.status.busy": "2021-03-27T22:27:38.290913Z",
     "iopub.status.idle": "2021-03-27T22:27:38.294001Z",
     "shell.execute_reply": "2021-03-27T22:27:38.295298Z"
    }
   },
   "outputs": [
    {
     "data": {
      "text/plain": [
       "0"
      ]
     },
     "execution_count": 1,
     "metadata": {},
     "output_type": "execute_result"
    }
   ],
   "source": [
    "def cb(value, old_value, **a_whole_bunch_of_junk):\n",
    "    print(f'changed from {old_value} to {value}')\n",
    "    \n",
    "sig.subscribe(cb)\n",
    "# The act of subscribing always generates one reading immediately..."
   ]
  },
  {
   "cell_type": "markdown",
   "metadata": {},
   "source": [
    "If this were an `EpicsSignal` instead of a `Signal`, `cb` would be called from a thread every time pyepics receives a new update about the value of `sig`. In this case, we have to update it manually."
   ]
  },
  {
   "cell_type": "code",
   "execution_count": 12,
   "metadata": {
    "execution": {
     "iopub.execute_input": "2021-03-27T22:27:38.302418Z",
     "iopub.status.busy": "2021-03-27T22:27:38.300754Z",
     "iopub.status.idle": "2021-03-27T22:27:38.304733Z",
     "shell.execute_reply": "2021-03-27T22:27:38.304220Z"
    }
   },
   "outputs": [
    {
     "name": "stdout",
     "output_type": "stream",
     "text": [
      "changed from 3 to 5\n"
     ]
    }
   ],
   "source": [
    "sig.put(5)"
   ]
  },
  {
   "cell_type": "code",
   "execution_count": 13,
   "metadata": {
    "execution": {
     "iopub.execute_input": "2021-03-27T22:27:38.311181Z",
     "iopub.status.busy": "2021-03-27T22:27:38.309600Z",
     "iopub.status.idle": "2021-03-27T22:27:38.312861Z",
     "shell.execute_reply": "2021-03-27T22:27:38.312419Z"
    }
   },
   "outputs": [
    {
     "name": "stdout",
     "output_type": "stream",
     "text": [
      "changed from 5 to 10\n"
     ]
    }
   ],
   "source": [
    "sig.put(10)"
   ]
  },
  {
   "cell_type": "markdown",
   "metadata": {},
   "source": [
    "Or we can connect to the `random_walk` IOC which publishes a new updates at a regular interval."
   ]
  },
  {
   "cell_type": "code",
   "execution_count": 14,
   "metadata": {
    "execution": {
     "iopub.execute_input": "2021-03-27T22:27:38.318995Z",
     "iopub.status.busy": "2021-03-27T22:27:38.317447Z",
     "iopub.status.idle": "2021-03-27T22:27:38.319714Z",
     "shell.execute_reply": "2021-03-27T22:27:38.320157Z"
    }
   },
   "outputs": [],
   "source": [
    "from ophyd import EpicsSignal\n",
    "\n",
    "rand = EpicsSignal('random_walk:x', name='rand')\n",
    "token = rand.subscribe(cb)"
   ]
  },
  {
   "cell_type": "code",
   "execution_count": 15,
   "metadata": {
    "execution": {
     "iopub.execute_input": "2021-03-27T22:27:38.324955Z",
     "iopub.status.busy": "2021-03-27T22:27:38.323645Z",
     "iopub.status.idle": "2021-03-27T22:27:38.325857Z",
     "shell.execute_reply": "2021-03-27T22:27:38.326299Z"
    }
   },
   "outputs": [],
   "source": [
    "rand.unsubscribe(token)"
   ]
  },
  {
   "cell_type": "markdown",
   "metadata": {},
   "source": [
    "### Methods that ask the IOC to take a (potentially lengthy) action"
   ]
  },
  {
   "cell_type": "code",
   "execution_count": 16,
   "metadata": {
    "execution": {
     "iopub.execute_input": "2021-03-27T22:27:38.330484Z",
     "iopub.status.busy": "2021-03-27T22:27:38.329848Z",
     "iopub.status.idle": "2021-03-27T22:27:38.339408Z",
     "shell.execute_reply": "2021-03-27T22:27:38.339913Z"
    }
   },
   "outputs": [
    {
     "name": "stdout",
     "output_type": "stream",
     "text": [
      "changed from 10 to 5\n",
      "finished at t = 1616884058.331913\n"
     ]
    },
    {
     "name": "stderr",
     "output_type": "stream",
     "text": [
      "/home/travis/virtualenv/python3.7.1/lib/python3.7/site-packages/ipykernel_launcher.py:5: DeprecationWarning: The signature of a Status callback is now expected to be cb(status). The signature cb() is supported, but support will be removed in a future release of ophyd.\n",
      "  \"\"\"\n"
     ]
    }
   ],
   "source": [
    "def cb():\n",
    "    print(\"finished at t =\", time.time())\n",
    "\n",
    "status = sig.set(5)\n",
    "status.add_callback(cb)"
   ]
  },
  {
   "cell_type": "code",
   "execution_count": 17,
   "metadata": {
    "execution": {
     "iopub.execute_input": "2021-03-27T22:27:38.346295Z",
     "iopub.status.busy": "2021-03-27T22:27:38.344725Z",
     "iopub.status.idle": "2021-03-27T22:27:38.351992Z",
     "shell.execute_reply": "2021-03-27T22:27:38.352528Z"
    }
   },
   "outputs": [
    {
     "data": {
      "text/plain": [
       "Status(obj=Signal(name='sig', value=5, timestamp=1616884058.330701), done=True, success=True)"
      ]
     },
     "execution_count": 1,
     "metadata": {},
     "output_type": "execute_result"
    }
   ],
   "source": [
    "status"
   ]
  },
  {
   "cell_type": "code",
   "execution_count": 18,
   "metadata": {
    "execution": {
     "iopub.execute_input": "2021-03-27T22:27:38.358008Z",
     "iopub.status.busy": "2021-03-27T22:27:38.357223Z",
     "iopub.status.idle": "2021-03-27T22:27:38.360779Z",
     "shell.execute_reply": "2021-03-27T22:27:38.361201Z"
    }
   },
   "outputs": [
    {
     "data": {
      "text/plain": [
       "True"
      ]
     },
     "execution_count": 1,
     "metadata": {},
     "output_type": "execute_result"
    }
   ],
   "source": [
    "status.done"
   ]
  },
  {
   "cell_type": "code",
   "execution_count": 19,
   "metadata": {
    "execution": {
     "iopub.execute_input": "2021-03-27T22:27:38.364932Z",
     "iopub.status.busy": "2021-03-27T22:27:38.364436Z",
     "iopub.status.idle": "2021-03-27T22:27:38.371397Z",
     "shell.execute_reply": "2021-03-27T22:27:38.371785Z"
    }
   },
   "outputs": [
    {
     "name": "stdout",
     "output_type": "stream",
     "text": [
      "finished at t = 1616884058.3656204\n"
     ]
    },
    {
     "name": "stderr",
     "output_type": "stream",
     "text": [
      "/home/travis/virtualenv/python3.7.1/lib/python3.7/site-packages/ipykernel_launcher.py:2: DeprecationWarning: The signature of a Status callback is now expected to be cb(status). The signature cb() is supported, but support will be removed in a future release of ophyd.\n",
      "  \n"
     ]
    }
   ],
   "source": [
    "status = sig.trigger()\n",
    "status.add_callback(cb)"
   ]
  },
  {
   "cell_type": "markdown",
   "metadata": {},
   "source": [
    "## Interface of a Status object"
   ]
  },
  {
   "cell_type": "code",
   "execution_count": 20,
   "metadata": {
    "execution": {
     "iopub.execute_input": "2021-03-27T22:27:38.375346Z",
     "iopub.status.busy": "2021-03-27T22:27:38.374865Z",
     "iopub.status.idle": "2021-03-27T22:27:38.378610Z",
     "shell.execute_reply": "2021-03-27T22:27:38.379032Z"
    }
   },
   "outputs": [],
   "source": [
    "status = DeviceStatus(sig)"
   ]
  },
  {
   "cell_type": "code",
   "execution_count": 21,
   "metadata": {
    "execution": {
     "iopub.execute_input": "2021-03-27T22:27:38.382951Z",
     "iopub.status.busy": "2021-03-27T22:27:38.382464Z",
     "iopub.status.idle": "2021-03-27T22:27:38.388013Z",
     "shell.execute_reply": "2021-03-27T22:27:38.387537Z"
    }
   },
   "outputs": [
    {
     "data": {
      "text/plain": [
       "False"
      ]
     },
     "execution_count": 1,
     "metadata": {},
     "output_type": "execute_result"
    }
   ],
   "source": [
    "status.done"
   ]
  },
  {
   "cell_type": "code",
   "execution_count": 22,
   "metadata": {
    "execution": {
     "iopub.execute_input": "2021-03-27T22:27:38.393364Z",
     "iopub.status.busy": "2021-03-27T22:27:38.392640Z",
     "iopub.status.idle": "2021-03-27T22:27:38.396099Z",
     "shell.execute_reply": "2021-03-27T22:27:38.396588Z"
    }
   },
   "outputs": [
    {
     "data": {
      "text/plain": [
       "False"
      ]
     },
     "execution_count": 1,
     "metadata": {},
     "output_type": "execute_result"
    }
   ],
   "source": [
    "status.success"
   ]
  },
  {
   "cell_type": "code",
   "execution_count": 23,
   "metadata": {
    "execution": {
     "iopub.execute_input": "2021-03-27T22:27:38.402609Z",
     "iopub.status.busy": "2021-03-27T22:27:38.401017Z",
     "iopub.status.idle": "2021-03-27T22:27:38.404715Z",
     "shell.execute_reply": "2021-03-27T22:27:38.404263Z"
    }
   },
   "outputs": [
    {
     "name": "stderr",
     "output_type": "stream",
     "text": [
      "/home/travis/virtualenv/python3.7.1/lib/python3.7/site-packages/ipykernel_launcher.py:4: DeprecationWarning: The signature of a Status callback is now expected to be cb(status). The signature cb() is supported, but support will be removed in a future release of ophyd.\n",
      "  after removing the cwd from sys.path.\n"
     ]
    }
   ],
   "source": [
    "def cb():\n",
    "    print(\"BOOM\")\n",
    "\n",
    "status.add_callback(cb)"
   ]
  },
  {
   "cell_type": "code",
   "execution_count": 24,
   "metadata": {
    "execution": {
     "iopub.execute_input": "2021-03-27T22:27:38.409942Z",
     "iopub.status.busy": "2021-03-27T22:27:38.409205Z",
     "iopub.status.idle": "2021-03-27T22:27:38.412235Z",
     "shell.execute_reply": "2021-03-27T22:27:38.412639Z"
    }
   },
   "outputs": [
    {
     "data": {
      "text/plain": [
       "deque([<function ophyd.utils.adapt_old_callback_signature.<locals>.callback(status)>])"
      ]
     },
     "execution_count": 1,
     "metadata": {},
     "output_type": "execute_result"
    }
   ],
   "source": [
    "status.callbacks"
   ]
  },
  {
   "cell_type": "code",
   "execution_count": 25,
   "metadata": {
    "execution": {
     "iopub.execute_input": "2021-03-27T22:27:38.418033Z",
     "iopub.status.busy": "2021-03-27T22:27:38.417291Z",
     "iopub.status.idle": "2021-03-27T22:27:38.420289Z",
     "shell.execute_reply": "2021-03-27T22:27:38.420698Z"
    }
   },
   "outputs": [
    {
     "data": {
      "text/plain": [
       "Signal(name='sig', value=5, timestamp=1616884058.330701)"
      ]
     },
     "execution_count": 1,
     "metadata": {},
     "output_type": "execute_result"
    }
   ],
   "source": [
    "status.device  # the Device or Signal that the Status pertains to"
   ]
  },
  {
   "cell_type": "code",
   "execution_count": 26,
   "metadata": {
    "execution": {
     "iopub.execute_input": "2021-03-27T22:27:38.424953Z",
     "iopub.status.busy": "2021-03-27T22:27:38.424366Z",
     "iopub.status.idle": "2021-03-27T22:27:38.427692Z",
     "shell.execute_reply": "2021-03-27T22:27:38.428121Z"
    }
   },
   "outputs": [
    {
     "name": "stdout",
     "output_type": "stream",
     "text": [
      "BOOM\n"
     ]
    }
   ],
   "source": [
    "status._finished()"
   ]
  },
  {
   "cell_type": "code",
   "execution_count": 27,
   "metadata": {
    "execution": {
     "iopub.execute_input": "2021-03-27T22:27:38.433220Z",
     "iopub.status.busy": "2021-03-27T22:27:38.432575Z",
     "iopub.status.idle": "2021-03-27T22:27:38.435571Z",
     "shell.execute_reply": "2021-03-27T22:27:38.435972Z"
    }
   },
   "outputs": [
    {
     "data": {
      "text/plain": [
       "True"
      ]
     },
     "execution_count": 1,
     "metadata": {},
     "output_type": "execute_result"
    }
   ],
   "source": [
    "status.done"
   ]
  },
  {
   "cell_type": "code",
   "execution_count": 28,
   "metadata": {
    "execution": {
     "iopub.execute_input": "2021-03-27T22:27:38.440961Z",
     "iopub.status.busy": "2021-03-27T22:27:38.440341Z",
     "iopub.status.idle": "2021-03-27T22:27:38.443325Z",
     "shell.execute_reply": "2021-03-27T22:27:38.443719Z"
    }
   },
   "outputs": [
    {
     "data": {
      "text/plain": [
       "True"
      ]
     },
     "execution_count": 1,
     "metadata": {},
     "output_type": "execute_result"
    }
   ],
   "source": [
    "status.success"
   ]
  },
  {
   "cell_type": "code",
   "execution_count": 29,
   "metadata": {
    "execution": {
     "iopub.execute_input": "2021-03-27T22:27:38.447469Z",
     "iopub.status.busy": "2021-03-27T22:27:38.446985Z",
     "iopub.status.idle": "2021-03-27T22:27:38.457339Z",
     "shell.execute_reply": "2021-03-27T22:27:38.457749Z"
    }
   },
   "outputs": [
    {
     "name": "stderr",
     "output_type": "stream",
     "text": [
      "/home/travis/virtualenv/python3.7.1/lib/python3.7/site-packages/ipykernel_launcher.py:3: DeprecationWarning: The signature of a Status callback is now expected to be cb(status). The signature cb() is supported, but support will be removed in a future release of ophyd.\n",
      "  This is separate from the ipykernel package so we can avoid doing imports until\n"
     ]
    },
    {
     "data": {
      "text/plain": [
       "False"
      ]
     },
     "execution_count": 1,
     "metadata": {},
     "output_type": "execute_result"
    },
    {
     "name": "stderr",
     "output_type": "stream",
     "text": [
      "DeviceStatus(device=sig, done=True, success=False) encountered an error during _handle_failure()\n",
      "Traceback (most recent call last):\n",
      "  File \"/home/travis/virtualenv/python3.7.1/lib/python3.7/site-packages/ophyd/status.py\", line 253, in _run_callbacks\n",
      "    self._handle_failure()\n",
      "  File \"/home/travis/virtualenv/python3.7.1/lib/python3.7/site-packages/ophyd/status.py\", line 608, in _handle_failure\n",
      "    self.device.stop()\n",
      "AttributeError: 'Signal' object has no attribute 'stop'\n"
     ]
    },
    {
     "name": "stdout",
     "output_type": "stream",
     "text": [
      "BOOM\n"
     ]
    }
   ],
   "source": [
    "# Failure looks like this:\n",
    "status = DeviceStatus(sig)\n",
    "status.add_callback(cb)\n",
    "status._finished(success=False)\n",
    "status.success"
   ]
  },
  {
   "cell_type": "markdown",
   "metadata": {},
   "source": [
    "We'll see later how to actually use this in practice."
   ]
  },
  {
   "cell_type": "markdown",
   "metadata": {},
   "source": [
    "## Interface to Device"
   ]
  },
  {
   "cell_type": "code",
   "execution_count": 30,
   "metadata": {
    "execution": {
     "iopub.execute_input": "2021-03-27T22:27:38.463765Z",
     "iopub.status.busy": "2021-03-27T22:27:38.462919Z",
     "iopub.status.idle": "2021-03-27T22:27:38.465469Z",
     "shell.execute_reply": "2021-03-27T22:27:38.465031Z"
    }
   },
   "outputs": [],
   "source": [
    "# This encodes the _structure_ of a kind of Device.\n",
    "# Real examples include EpicsMotor, EpicsScaler or user-defined\n",
    "# combinations of these, such as a platform that can move in X and Y.\n",
    "\n",
    "class Platform(Device):\n",
    "    x = Cpt(Signal, value=3)\n",
    "    y = Cpt(Signal, value=4)\n",
    "    \n",
    "p1 = Platform(name='p1')\n",
    "p2 = Platform(name='p2')"
   ]
  },
  {
   "cell_type": "markdown",
   "metadata": {},
   "source": [
    "### Names and relationships"
   ]
  },
  {
   "cell_type": "code",
   "execution_count": 31,
   "metadata": {
    "execution": {
     "iopub.execute_input": "2021-03-27T22:27:38.470232Z",
     "iopub.status.busy": "2021-03-27T22:27:38.469531Z",
     "iopub.status.idle": "2021-03-27T22:27:38.472310Z",
     "shell.execute_reply": "2021-03-27T22:27:38.472772Z"
    }
   },
   "outputs": [
    {
     "data": {
      "text/plain": [
       "Platform(prefix='', name='p1', read_attrs=['x', 'y'], configuration_attrs=[])"
      ]
     },
     "execution_count": 1,
     "metadata": {},
     "output_type": "execute_result"
    }
   ],
   "source": [
    "p1"
   ]
  },
  {
   "cell_type": "code",
   "execution_count": 32,
   "metadata": {
    "execution": {
     "iopub.execute_input": "2021-03-27T22:27:38.477206Z",
     "iopub.status.busy": "2021-03-27T22:27:38.476507Z",
     "iopub.status.idle": "2021-03-27T22:27:38.479895Z",
     "shell.execute_reply": "2021-03-27T22:27:38.479432Z"
    }
   },
   "outputs": [
    {
     "data": {
      "text/plain": [
       "('x', 'y')"
      ]
     },
     "execution_count": 1,
     "metadata": {},
     "output_type": "execute_result"
    }
   ],
   "source": [
    "p1.component_names"
   ]
  },
  {
   "cell_type": "code",
   "execution_count": 33,
   "metadata": {
    "execution": {
     "iopub.execute_input": "2021-03-27T22:27:38.484406Z",
     "iopub.status.busy": "2021-03-27T22:27:38.483722Z",
     "iopub.status.idle": "2021-03-27T22:27:38.486669Z",
     "shell.execute_reply": "2021-03-27T22:27:38.487118Z"
    }
   },
   "outputs": [
    {
     "data": {
      "text/plain": [
       "Signal(name='p1_x', parent='p1', value=3, timestamp=1616884058.4611309)"
      ]
     },
     "execution_count": 1,
     "metadata": {},
     "output_type": "execute_result"
    }
   ],
   "source": [
    "p1.x"
   ]
  },
  {
   "cell_type": "code",
   "execution_count": 34,
   "metadata": {
    "execution": {
     "iopub.execute_input": "2021-03-27T22:27:38.491668Z",
     "iopub.status.busy": "2021-03-27T22:27:38.490885Z",
     "iopub.status.idle": "2021-03-27T22:27:38.494425Z",
     "shell.execute_reply": "2021-03-27T22:27:38.493971Z"
    }
   },
   "outputs": [
    {
     "data": {
      "text/plain": [
       "Signal(name='p1_y', parent='p1', value=4, timestamp=1616884058.4611952)"
      ]
     },
     "execution_count": 1,
     "metadata": {},
     "output_type": "execute_result"
    }
   ],
   "source": [
    "p1.y"
   ]
  },
  {
   "cell_type": "code",
   "execution_count": 35,
   "metadata": {
    "execution": {
     "iopub.execute_input": "2021-03-27T22:27:38.499277Z",
     "iopub.status.busy": "2021-03-27T22:27:38.498628Z",
     "iopub.status.idle": "2021-03-27T22:27:38.501410Z",
     "shell.execute_reply": "2021-03-27T22:27:38.501855Z"
    }
   },
   "outputs": [
    {
     "data": {
      "text/plain": [
       "'p1'"
      ]
     },
     "execution_count": 1,
     "metadata": {},
     "output_type": "execute_result"
    }
   ],
   "source": [
    "p1.name"
   ]
  },
  {
   "cell_type": "code",
   "execution_count": 36,
   "metadata": {
    "execution": {
     "iopub.execute_input": "2021-03-27T22:27:38.506788Z",
     "iopub.status.busy": "2021-03-27T22:27:38.505963Z",
     "iopub.status.idle": "2021-03-27T22:27:38.509763Z",
     "shell.execute_reply": "2021-03-27T22:27:38.509289Z"
    }
   },
   "outputs": [
    {
     "data": {
      "text/plain": [
       "'p1_x'"
      ]
     },
     "execution_count": 1,
     "metadata": {},
     "output_type": "execute_result"
    }
   ],
   "source": [
    "p1.x.name"
   ]
  },
  {
   "cell_type": "code",
   "execution_count": 37,
   "metadata": {
    "execution": {
     "iopub.execute_input": "2021-03-27T22:27:38.515547Z",
     "iopub.status.busy": "2021-03-27T22:27:38.514532Z",
     "iopub.status.idle": "2021-03-27T22:27:38.517758Z",
     "shell.execute_reply": "2021-03-27T22:27:38.518323Z"
    }
   },
   "outputs": [
    {
     "data": {
      "text/plain": [
       "True"
      ]
     },
     "execution_count": 1,
     "metadata": {},
     "output_type": "execute_result"
    }
   ],
   "source": [
    "p1.x.parent is p1"
   ]
  },
  {
   "cell_type": "markdown",
   "metadata": {},
   "source": [
    "### Reading the parent combines the readings of its children"
   ]
  },
  {
   "cell_type": "code",
   "execution_count": 38,
   "metadata": {
    "execution": {
     "iopub.execute_input": "2021-03-27T22:27:38.522958Z",
     "iopub.status.busy": "2021-03-27T22:27:38.522482Z",
     "iopub.status.idle": "2021-03-27T22:27:38.528003Z",
     "shell.execute_reply": "2021-03-27T22:27:38.527532Z"
    }
   },
   "outputs": [
    {
     "data": {
      "text/plain": [
       "OrderedDict([('p1_x', {'value': 3, 'timestamp': 1616884058.4611309}),\n",
       "             ('p1_y', {'value': 4, 'timestamp': 1616884058.4611952})])"
      ]
     },
     "execution_count": 1,
     "metadata": {},
     "output_type": "execute_result"
    }
   ],
   "source": [
    "p1.read()"
   ]
  },
  {
   "cell_type": "code",
   "execution_count": 39,
   "metadata": {
    "execution": {
     "iopub.execute_input": "2021-03-27T22:27:38.533447Z",
     "iopub.status.busy": "2021-03-27T22:27:38.532746Z",
     "iopub.status.idle": "2021-03-27T22:27:38.535826Z",
     "shell.execute_reply": "2021-03-27T22:27:38.536236Z"
    }
   },
   "outputs": [
    {
     "data": {
      "text/plain": [
       "{'p1_x': {'value': 3, 'timestamp': 1616884058.4611309}}"
      ]
     },
     "execution_count": 1,
     "metadata": {},
     "output_type": "execute_result"
    }
   ],
   "source": [
    "p1.x.read()"
   ]
  },
  {
   "cell_type": "markdown",
   "metadata": {},
   "source": [
    "and `describe` works exactly the same way:"
   ]
  },
  {
   "cell_type": "code",
   "execution_count": 40,
   "metadata": {
    "execution": {
     "iopub.execute_input": "2021-03-27T22:27:38.542680Z",
     "iopub.status.busy": "2021-03-27T22:27:38.541420Z",
     "iopub.status.idle": "2021-03-27T22:27:38.544705Z",
     "shell.execute_reply": "2021-03-27T22:27:38.545153Z"
    }
   },
   "outputs": [
    {
     "data": {
      "text/plain": [
       "OrderedDict([('p1_x', {'source': 'SIM:p1_x', 'dtype': 'integer', 'shape': []}),\n",
       "             ('p1_y',\n",
       "              {'source': 'SIM:p1_y', 'dtype': 'integer', 'shape': []})])"
      ]
     },
     "execution_count": 1,
     "metadata": {},
     "output_type": "execute_result"
    }
   ],
   "source": [
    "p1.describe()"
   ]
  },
  {
   "cell_type": "code",
   "execution_count": 41,
   "metadata": {
    "execution": {
     "iopub.execute_input": "2021-03-27T22:27:38.550884Z",
     "iopub.status.busy": "2021-03-27T22:27:38.550174Z",
     "iopub.status.idle": "2021-03-27T22:27:38.553313Z",
     "shell.execute_reply": "2021-03-27T22:27:38.553743Z"
    }
   },
   "outputs": [
    {
     "data": {
      "text/plain": [
       "{'p1_x': {'source': 'SIM:p1_x', 'dtype': 'integer', 'shape': []}}"
      ]
     },
     "execution_count": 1,
     "metadata": {},
     "output_type": "execute_result"
    }
   ],
   "source": [
    "p1.x.describe()"
   ]
  },
  {
   "cell_type": "markdown",
   "metadata": {},
   "source": [
    "### Components are sorted into categories:\n",
    "\n",
    "* `OMITTED` -- not read (exposed for debugging only)\n",
    "* `NORMAL` / `read_attrs` -- things to read once per Event (i.e. row in the table)\n",
    "* `CONFIG` / `configuration_attrs` -- things to read once per Event Descriptor (which usually means one per run)\n",
    "* things ommitted from data collection entirely, but available for debugging etc.\n",
    "* `HINTED` -- subset of `NORMAL` flagged as interesting"
   ]
  },
  {
   "cell_type": "code",
   "execution_count": 42,
   "metadata": {
    "execution": {
     "iopub.execute_input": "2021-03-27T22:27:38.559262Z",
     "iopub.status.busy": "2021-03-27T22:27:38.558546Z",
     "iopub.status.idle": "2021-03-27T22:27:38.561575Z",
     "shell.execute_reply": "2021-03-27T22:27:38.562005Z"
    }
   },
   "outputs": [
    {
     "data": {
      "text/plain": [
       "['x', 'y']"
      ]
     },
     "execution_count": 1,
     "metadata": {},
     "output_type": "execute_result"
    }
   ],
   "source": [
    "p1.read_attrs"
   ]
  },
  {
   "cell_type": "code",
   "execution_count": 43,
   "metadata": {
    "execution": {
     "iopub.execute_input": "2021-03-27T22:27:38.567214Z",
     "iopub.status.busy": "2021-03-27T22:27:38.566576Z",
     "iopub.status.idle": "2021-03-27T22:27:38.569621Z",
     "shell.execute_reply": "2021-03-27T22:27:38.570060Z"
    }
   },
   "outputs": [
    {
     "data": {
      "text/plain": [
       "[]"
      ]
     },
     "execution_count": 1,
     "metadata": {},
     "output_type": "execute_result"
    }
   ],
   "source": [
    "p1.configuration_attrs"
   ]
  },
  {
   "cell_type": "code",
   "execution_count": 44,
   "metadata": {
    "execution": {
     "iopub.execute_input": "2021-03-27T22:27:38.577342Z",
     "iopub.status.busy": "2021-03-27T22:27:38.575777Z",
     "iopub.status.idle": "2021-03-27T22:27:38.578106Z",
     "shell.execute_reply": "2021-03-27T22:27:38.578535Z"
    }
   },
   "outputs": [],
   "source": [
    "# dumb example...\n",
    "\n",
    "class Platform(Device):\n",
    "    x = Cpt(Signal, value=3)\n",
    "    y = Cpt(Signal, value=4)\n",
    "    motion_compensation = Cpt(Signal, value=1, kind='CONFIG')  # a boolean\n",
    "    \n",
    "p1 = Platform(name='p1')\n",
    "p2 = Platform(name='p2')"
   ]
  },
  {
   "cell_type": "code",
   "execution_count": 45,
   "metadata": {
    "execution": {
     "iopub.execute_input": "2021-03-27T22:27:38.583923Z",
     "iopub.status.busy": "2021-03-27T22:27:38.583244Z",
     "iopub.status.idle": "2021-03-27T22:27:38.586326Z",
     "shell.execute_reply": "2021-03-27T22:27:38.586745Z"
    }
   },
   "outputs": [
    {
     "data": {
      "text/plain": [
       "['x', 'y']"
      ]
     },
     "execution_count": 1,
     "metadata": {},
     "output_type": "execute_result"
    }
   ],
   "source": [
    "p1.read_attrs"
   ]
  },
  {
   "cell_type": "code",
   "execution_count": 46,
   "metadata": {
    "execution": {
     "iopub.execute_input": "2021-03-27T22:27:38.592114Z",
     "iopub.status.busy": "2021-03-27T22:27:38.591415Z",
     "iopub.status.idle": "2021-03-27T22:27:38.594637Z",
     "shell.execute_reply": "2021-03-27T22:27:38.595100Z"
    }
   },
   "outputs": [
    {
     "data": {
      "text/plain": [
       "['motion_compensation']"
      ]
     },
     "execution_count": 1,
     "metadata": {},
     "output_type": "execute_result"
    }
   ],
   "source": [
    "p1.configuration_attrs"
   ]
  },
  {
   "cell_type": "code",
   "execution_count": 47,
   "metadata": {
    "execution": {
     "iopub.execute_input": "2021-03-27T22:27:38.601867Z",
     "iopub.status.busy": "2021-03-27T22:27:38.600605Z",
     "iopub.status.idle": "2021-03-27T22:27:38.603886Z",
     "shell.execute_reply": "2021-03-27T22:27:38.604306Z"
    }
   },
   "outputs": [
    {
     "data": {
      "text/plain": [
       "OrderedDict([('p1_motion_compensation',\n",
       "              {'value': 1, 'timestamp': 1616884058.5737505})])"
      ]
     },
     "execution_count": 1,
     "metadata": {},
     "output_type": "execute_result"
    }
   ],
   "source": [
    "p1.read_configuration()"
   ]
  },
  {
   "cell_type": "code",
   "execution_count": 48,
   "metadata": {
    "execution": {
     "iopub.execute_input": "2021-03-27T22:27:38.609545Z",
     "iopub.status.busy": "2021-03-27T22:27:38.609042Z",
     "iopub.status.idle": "2021-03-27T22:27:38.615888Z",
     "shell.execute_reply": "2021-03-27T22:27:38.616313Z"
    }
   },
   "outputs": [
    {
     "data": {
      "text/plain": [
       "OrderedDict([('p1_motion_compensation',\n",
       "              {'source': 'SIM:p1_motion_compensation',\n",
       "               'dtype': 'integer',\n",
       "               'shape': []})])"
      ]
     },
     "execution_count": 1,
     "metadata": {},
     "output_type": "execute_result"
    }
   ],
   "source": [
    "p1.describe_configuration()"
   ]
  },
  {
   "cell_type": "markdown",
   "metadata": {},
   "source": [
    "The data from `configuration_attrs` isn't displayed by the built-in callbacks..."
   ]
  },
  {
   "cell_type": "code",
   "execution_count": 49,
   "metadata": {
    "execution": {
     "iopub.execute_input": "2021-03-27T22:27:38.622392Z",
     "iopub.status.busy": "2021-03-27T22:27:38.621529Z",
     "iopub.status.idle": "2021-03-27T22:27:38.742700Z",
     "shell.execute_reply": "2021-03-27T22:27:38.743357Z"
    }
   },
   "outputs": [
    {
     "name": "stdout",
     "output_type": "stream",
     "text": [
      "\n",
      "\n",
      "Transient Scan ID: 1     Time: 2021-03-27 22:27:38\n",
      "Persistent Unique Scan ID: '6c3770fc-3191-426d-8d8f-b643543b9128'\n"
     ]
    },
    {
     "name": "stdout",
     "output_type": "stream",
     "text": [
      "New stream: 'primary'\n",
      "+-----------+------------+\n",
      "|   seq_num |       time |\n",
      "+-----------+------------+\n",
      "|         1 | 22:27:38.6 |\n"
     ]
    },
    {
     "name": "stdout",
     "output_type": "stream",
     "text": [
      "+-----------+------------+\n",
      "generator count ['6c3770fc'] (scan num: 1)\n",
      "\n",
      "\n",
      "\n"
     ]
    },
    {
     "data": {
      "text/plain": [
       "('6c3770fc-3191-426d-8d8f-b643543b9128',)"
      ]
     },
     "execution_count": 1,
     "metadata": {},
     "output_type": "execute_result"
    }
   ],
   "source": [
    "RE(count([p1]))"
   ]
  },
  {
   "cell_type": "markdown",
   "metadata": {},
   "source": [
    "... but the data is saved, and it can accessed conveniently like so:"
   ]
  },
  {
   "cell_type": "code",
   "execution_count": 50,
   "metadata": {
    "execution": {
     "iopub.execute_input": "2021-03-27T22:27:38.751931Z",
     "iopub.status.busy": "2021-03-27T22:27:38.751156Z",
     "iopub.status.idle": "2021-03-27T22:27:38.769710Z",
     "shell.execute_reply": "2021-03-27T22:27:38.770361Z"
    }
   },
   "outputs": [
    {
     "data": {
      "text/plain": [
       "{'primary': [{'p1_motion_compensation': 1}]}"
      ]
     },
     "execution_count": 1,
     "metadata": {},
     "output_type": "execute_result"
    }
   ],
   "source": [
    "h = db[-1]\n",
    "h.config_data('p1')"
   ]
  },
  {
   "cell_type": "code",
   "execution_count": 51,
   "metadata": {
    "execution": {
     "iopub.execute_input": "2021-03-27T22:27:38.774963Z",
     "iopub.status.busy": "2021-03-27T22:27:38.774376Z",
     "iopub.status.idle": "2021-03-27T22:27:38.776984Z",
     "shell.execute_reply": "2021-03-27T22:27:38.777430Z"
    }
   },
   "outputs": [
    {
     "name": "stdout",
     "output_type": "stream",
     "text": [
      "data keys (* hints)\n",
      "-------------------\n",
      " p1_x\n",
      " p1_y\n",
      "\n",
      "read attrs\n",
      "----------\n",
      "x                    Signal              ('p1_x')\n",
      "y                    Signal              ('p1_y')\n",
      "\n",
      "config keys\n",
      "-----------\n",
      "p1_motion_compensation\n",
      "\n",
      "configuration attrs\n",
      "-------------------\n",
      "motion_compensation  Signal              ('p1_motion_compensation')\n",
      "\n",
      "unused attrs\n",
      "------------\n",
      "\n"
     ]
    }
   ],
   "source": [
    "p1.summary()"
   ]
  },
  {
   "cell_type": "markdown",
   "metadata": {},
   "source": [
    "Hints are meant to help downstream consumers of the data correctly infer user intent and automatically construct useful views on the data. They are only a suggestion. *They do not affect what is saved.*"
   ]
  },
  {
   "cell_type": "code",
   "execution_count": 52,
   "metadata": {
    "execution": {
     "iopub.execute_input": "2021-03-27T22:27:38.784042Z",
     "iopub.status.busy": "2021-03-27T22:27:38.783369Z",
     "iopub.status.idle": "2021-03-27T22:27:38.786137Z",
     "shell.execute_reply": "2021-03-27T22:27:38.786571Z"
    }
   },
   "outputs": [
    {
     "data": {
      "text/plain": [
       "{'fields': ['p1_x', 'p1_y']}"
      ]
     },
     "execution_count": 1,
     "metadata": {},
     "output_type": "execute_result"
    }
   ],
   "source": [
    "# dumb example...\n",
    "\n",
    "class Platform(Device):\n",
    "    x = Cpt(Signal, value=3, kind='hinted')\n",
    "    y = Cpt(Signal, value=4, kind='hinted')\n",
    "    motion_compensation = Cpt(Signal, value=1, kind='config')  # a boolean\n",
    "    \n",
    "p1 = Platform(name='p1')\n",
    "p1.hints"
   ]
  },
  {
   "cell_type": "code",
   "execution_count": 53,
   "metadata": {
    "execution": {
     "iopub.execute_input": "2021-03-27T22:27:38.791243Z",
     "iopub.status.busy": "2021-03-27T22:27:38.790607Z",
     "iopub.status.idle": "2021-03-27T22:27:38.793031Z",
     "shell.execute_reply": "2021-03-27T22:27:38.793456Z"
    }
   },
   "outputs": [
    {
     "name": "stdout",
     "output_type": "stream",
     "text": [
      "data keys (* hints)\n",
      "-------------------\n",
      "*p1_x\n",
      "*p1_y\n",
      "\n",
      "read attrs\n",
      "----------\n",
      "x                    Signal              ('p1_x')\n",
      "y                    Signal              ('p1_y')\n",
      "\n",
      "config keys\n",
      "-----------\n",
      "p1_motion_compensation\n",
      "\n",
      "configuration attrs\n",
      "-------------------\n",
      "motion_compensation  Signal              ('p1_motion_compensation')\n",
      "\n",
      "unused attrs\n",
      "------------\n",
      "\n"
     ]
    }
   ],
   "source": [
    "p1.summary()"
   ]
  },
  {
   "cell_type": "markdown",
   "metadata": {},
   "source": [
    "### 'Staging' -- a hook for putting a device into a controlled state for data collection (and then putting it back)"
   ]
  },
  {
   "cell_type": "code",
   "execution_count": 54,
   "metadata": {
    "execution": {
     "iopub.execute_input": "2021-03-27T22:27:38.801069Z",
     "iopub.status.busy": "2021-03-27T22:27:38.800153Z",
     "iopub.status.idle": "2021-03-27T22:27:38.802877Z",
     "shell.execute_reply": "2021-03-27T22:27:38.802389Z"
    }
   },
   "outputs": [],
   "source": [
    "class Platform(Device):\n",
    "    _default_configuration_attrs = ('motion_compensation',)\n",
    "    _default_read_attrs = ('x', 'y')\n",
    "    x = Cpt(Signal, value=3)\n",
    "    y = Cpt(Signal, value=4)\n",
    "    motion_compensation = Cpt(Signal, value=1)  # a boolean\n",
    "    \n",
    "    def __init__(self, *args, **kwargs):\n",
    "        super().__init__(*args, **kwargs)\n",
    "        self.stage_sigs['motion_compensation'] = 1\n",
    "        \n",
    "\n",
    "p1 = Platform(name='p1')"
   ]
  },
  {
   "cell_type": "code",
   "execution_count": 55,
   "metadata": {
    "execution": {
     "iopub.execute_input": "2021-03-27T22:27:38.808455Z",
     "iopub.status.busy": "2021-03-27T22:27:38.807774Z",
     "iopub.status.idle": "2021-03-27T22:27:38.810578Z",
     "shell.execute_reply": "2021-03-27T22:27:38.811025Z"
    }
   },
   "outputs": [
    {
     "data": {
      "text/plain": [
       "1"
      ]
     },
     "execution_count": 1,
     "metadata": {},
     "output_type": "execute_result"
    }
   ],
   "source": [
    "p1.motion_compensation.get()"
   ]
  },
  {
   "cell_type": "code",
   "execution_count": 56,
   "metadata": {
    "execution": {
     "iopub.execute_input": "2021-03-27T22:27:38.815432Z",
     "iopub.status.busy": "2021-03-27T22:27:38.814598Z",
     "iopub.status.idle": "2021-03-27T22:27:38.819361Z",
     "shell.execute_reply": "2021-03-27T22:27:38.818830Z"
    }
   },
   "outputs": [],
   "source": [
    "p1.motion_compensation.put(0)"
   ]
  },
  {
   "cell_type": "markdown",
   "metadata": {},
   "source": [
    "`Device.stage()` stashes the current state of the signals in `stage_sigs` and then puts the device into the desired state."
   ]
  },
  {
   "cell_type": "code",
   "execution_count": 57,
   "metadata": {
    "execution": {
     "iopub.execute_input": "2021-03-27T22:27:38.824401Z",
     "iopub.status.busy": "2021-03-27T22:27:38.823812Z",
     "iopub.status.idle": "2021-03-27T22:27:38.829346Z",
     "shell.execute_reply": "2021-03-27T22:27:38.828883Z"
    }
   },
   "outputs": [
    {
     "data": {
      "text/plain": [
       "[Platform(prefix='', name='p1', read_attrs=['x', 'y'], configuration_attrs=['motion_compensation'])]"
      ]
     },
     "execution_count": 1,
     "metadata": {},
     "output_type": "execute_result"
    }
   ],
   "source": [
    "p1.stage()"
   ]
  },
  {
   "cell_type": "code",
   "execution_count": 58,
   "metadata": {
    "execution": {
     "iopub.execute_input": "2021-03-27T22:27:38.833670Z",
     "iopub.status.busy": "2021-03-27T22:27:38.833142Z",
     "iopub.status.idle": "2021-03-27T22:27:38.839226Z",
     "shell.execute_reply": "2021-03-27T22:27:38.838757Z"
    }
   },
   "outputs": [
    {
     "data": {
      "text/plain": [
       "1"
      ]
     },
     "execution_count": 1,
     "metadata": {},
     "output_type": "execute_result"
    }
   ],
   "source": [
    "p1.motion_compensation.get()"
   ]
  },
  {
   "cell_type": "markdown",
   "metadata": {},
   "source": [
    "`Device.unstage()` uses that stashed stage to put everything back."
   ]
  },
  {
   "cell_type": "code",
   "execution_count": 59,
   "metadata": {
    "execution": {
     "iopub.execute_input": "2021-03-27T22:27:38.843298Z",
     "iopub.status.busy": "2021-03-27T22:27:38.842807Z",
     "iopub.status.idle": "2021-03-27T22:27:38.847974Z",
     "shell.execute_reply": "2021-03-27T22:27:38.848999Z"
    }
   },
   "outputs": [
    {
     "data": {
      "text/plain": [
       "[Platform(prefix='', name='p1', read_attrs=['x', 'y'], configuration_attrs=['motion_compensation'])]"
      ]
     },
     "execution_count": 1,
     "metadata": {},
     "output_type": "execute_result"
    }
   ],
   "source": [
    "p1.unstage()"
   ]
  },
  {
   "cell_type": "code",
   "execution_count": 60,
   "metadata": {
    "execution": {
     "iopub.execute_input": "2021-03-27T22:27:38.853345Z",
     "iopub.status.busy": "2021-03-27T22:27:38.852807Z",
     "iopub.status.idle": "2021-03-27T22:27:38.859261Z",
     "shell.execute_reply": "2021-03-27T22:27:38.858780Z"
    }
   },
   "outputs": [
    {
     "data": {
      "text/plain": [
       "0"
      ]
     },
     "execution_count": 1,
     "metadata": {},
     "output_type": "execute_result"
    }
   ],
   "source": [
    "p1.motion_compensation.get()"
   ]
  },
  {
   "cell_type": "markdown",
   "metadata": {},
   "source": [
    "Staging twice is illegal:"
   ]
  },
  {
   "cell_type": "code",
   "execution_count": 61,
   "metadata": {
    "execution": {
     "iopub.execute_input": "2021-03-27T22:27:38.865041Z",
     "iopub.status.busy": "2021-03-27T22:27:38.864345Z",
     "iopub.status.idle": "2021-03-27T22:27:38.867511Z",
     "shell.execute_reply": "2021-03-27T22:27:38.867935Z"
    }
   },
   "outputs": [
    {
     "data": {
      "text/plain": [
       "[Platform(prefix='', name='p1', read_attrs=['x', 'y'], configuration_attrs=['motion_compensation'])]"
      ]
     },
     "execution_count": 1,
     "metadata": {},
     "output_type": "execute_result"
    }
   ],
   "source": [
    "p1.stage()"
   ]
  },
  {
   "cell_type": "code",
   "execution_count": 62,
   "metadata": {
    "execution": {
     "iopub.execute_input": "2021-03-27T22:27:38.872690Z",
     "iopub.status.busy": "2021-03-27T22:27:38.871888Z",
     "iopub.status.idle": "2021-03-27T22:27:39.042211Z",
     "shell.execute_reply": "2021-03-27T22:27:39.042699Z"
    },
    "tags": [
     "raises-exception"
    ]
   },
   "outputs": [
    {
     "ename": "RedundantStaging",
     "evalue": "Device Platform(prefix='', name='p1', read_attrs=['x', 'y'], configuration_attrs=['motion_compensation']) is already staged. Unstage it first.",
     "output_type": "error",
     "traceback": [
      "\u001b[0;31m---------------------------------------------------------------------------\u001b[0m",
      "\u001b[0;31mRedundantStaging\u001b[0m                          Traceback (most recent call last)",
      "\u001b[0;32m<ipython-input-1-acdfc37e2a79>\u001b[0m in \u001b[0;36m<module>\u001b[0;34m\u001b[0m\n\u001b[1;32m      1\u001b[0m \u001b[0;31m# THIS IS EXPECTED TO CREATE AN ERROR.\u001b[0m\u001b[0;34m\u001b[0m\u001b[0;34m\u001b[0m\u001b[0;34m\u001b[0m\u001b[0m\n\u001b[1;32m      2\u001b[0m \u001b[0;34m\u001b[0m\u001b[0m\n\u001b[0;32m----> 3\u001b[0;31m \u001b[0mp1\u001b[0m\u001b[0;34m.\u001b[0m\u001b[0mstage\u001b[0m\u001b[0;34m(\u001b[0m\u001b[0;34m)\u001b[0m\u001b[0;34m\u001b[0m\u001b[0;34m\u001b[0m\u001b[0m\n\u001b[0m",
      "\u001b[0;32m~/virtualenv/python3.7.1/lib/python3.7/site-packages/ophyd/device.py\u001b[0m in \u001b[0;36mstage\u001b[0;34m(self)\u001b[0m\n\u001b[1;32m    516\u001b[0m         \u001b[0;32melif\u001b[0m \u001b[0mself\u001b[0m\u001b[0;34m.\u001b[0m\u001b[0m_staged\u001b[0m \u001b[0;34m==\u001b[0m \u001b[0mStaged\u001b[0m\u001b[0;34m.\u001b[0m\u001b[0myes\u001b[0m\u001b[0;34m:\u001b[0m\u001b[0;34m\u001b[0m\u001b[0;34m\u001b[0m\u001b[0m\n\u001b[1;32m    517\u001b[0m             raise RedundantStaging(\"Device {!r} is already staged. \"\n\u001b[0;32m--> 518\u001b[0;31m                                    \"Unstage it first.\".format(self))\n\u001b[0m\u001b[1;32m    519\u001b[0m         \u001b[0;32melif\u001b[0m \u001b[0mself\u001b[0m\u001b[0;34m.\u001b[0m\u001b[0m_staged\u001b[0m \u001b[0;34m==\u001b[0m \u001b[0mStaged\u001b[0m\u001b[0;34m.\u001b[0m\u001b[0mpartially\u001b[0m\u001b[0;34m:\u001b[0m\u001b[0;34m\u001b[0m\u001b[0;34m\u001b[0m\u001b[0m\n\u001b[1;32m    520\u001b[0m             raise RedundantStaging(\"Device {!r} has been partially staged. \"\n",
      "\u001b[0;31mRedundantStaging\u001b[0m: Device Platform(prefix='', name='p1', read_attrs=['x', 'y'], configuration_attrs=['motion_compensation']) is already staged. Unstage it first."
     ]
    }
   ],
   "source": [
    "# THIS IS EXPECTED TO CREATE AN ERROR.\n",
    "\n",
    "p1.stage()"
   ]
  },
  {
   "cell_type": "markdown",
   "metadata": {},
   "source": [
    "But unstaging is indempotent:"
   ]
  },
  {
   "cell_type": "code",
   "execution_count": 63,
   "metadata": {
    "execution": {
     "iopub.execute_input": "2021-03-27T22:27:39.048273Z",
     "iopub.status.busy": "2021-03-27T22:27:39.047590Z",
     "iopub.status.idle": "2021-03-27T22:27:39.050653Z",
     "shell.execute_reply": "2021-03-27T22:27:39.051061Z"
    }
   },
   "outputs": [
    {
     "data": {
      "text/plain": [
       "[Platform(prefix='', name='p1', read_attrs=['x', 'y'], configuration_attrs=['motion_compensation'])]"
      ]
     },
     "execution_count": 1,
     "metadata": {},
     "output_type": "execute_result"
    }
   ],
   "source": [
    "p1.unstage()\n",
    "p1.unstage()\n",
    "p1.unstage()"
   ]
  },
  {
   "cell_type": "markdown",
   "metadata": {},
   "source": [
    "## Pseudopositioners"
   ]
  },
  {
   "cell_type": "code",
   "execution_count": 64,
   "metadata": {
    "execution": {
     "iopub.execute_input": "2021-03-27T22:27:39.061486Z",
     "iopub.status.busy": "2021-03-27T22:27:39.060445Z",
     "iopub.status.idle": "2021-03-27T22:27:39.066254Z",
     "shell.execute_reply": "2021-03-27T22:27:39.066725Z"
    }
   },
   "outputs": [],
   "source": [
    "from ophyd import (PseudoPositioner, PseudoSingle)\n",
    "from ophyd.pseudopos import (pseudo_position_argument,\n",
    "                             real_position_argument)\n",
    "from ophyd import SoftPositioner\n",
    "C = Cpt\n",
    "\n",
    "class SPseudo3x3(PseudoPositioner):\n",
    "    pseudo1 = C(PseudoSingle, limits=(-10, 10), egu='a')\n",
    "    pseudo2 = C(PseudoSingle, limits=(-10, 10), egu='b')\n",
    "    pseudo3 = C(PseudoSingle, limits=None, egu='c')\n",
    "    \n",
    "    real1 = C(SoftPositioner, init_pos=0.)\n",
    "    real2 = C(SoftPositioner, init_pos=0.)\n",
    "    real3 = C(SoftPositioner, init_pos=0.)\n",
    "\n",
    "    sig = C(Signal, value=0)\n",
    "\n",
    "    @pseudo_position_argument\n",
    "    def forward(self, pseudo_pos):\n",
    "        # logger.debug('forward %s', pseudo_pos)\n",
    "        return self.RealPosition(real1=-pseudo_pos.pseudo1,\n",
    "                                    real2=-pseudo_pos.pseudo2,\n",
    "                                    real3=-pseudo_pos.pseudo3)\n",
    "\n",
    "    @real_position_argument\n",
    "    def inverse(self, real_pos):\n",
    "        # logger.debug('inverse %s', real_pos)\n",
    "        return self.PseudoPosition(pseudo1=-real_pos.real1,\n",
    "                                    pseudo2=-real_pos.real2,\n",
    "                                    pseudo3=-real_pos.real3)\n",
    "    \n",
    "\n",
    "p3 = SPseudo3x3(name='p3')"
   ]
  },
  {
   "cell_type": "code",
   "execution_count": 65,
   "metadata": {
    "execution": {
     "iopub.execute_input": "2021-03-27T22:27:39.073429Z",
     "iopub.status.busy": "2021-03-27T22:27:39.070998Z",
     "iopub.status.idle": "2021-03-27T22:27:39.812166Z",
     "shell.execute_reply": "2021-03-27T22:27:39.812614Z"
    }
   },
   "outputs": [
    {
     "name": "stdout",
     "output_type": "stream",
     "text": [
      "\n",
      "\n",
      "Transient Scan ID: 2     Time: 2021-03-27 22:27:39\n",
      "Persistent Unique Scan ID: '9ba55745-86f4-42c2-a2c1-99dffff35e3b'\n",
      "New stream: 'primary'\n"
     ]
    },
    {
     "data": {
      "application/vnd.jupyter.widget-view+json": {
       "model_id": "4e9d7817e15e4c8a8319952c3af09661",
       "version_major": 2,
       "version_minor": 0
      },
      "text/plain": [
       "Canvas(toolbar=Toolbar(toolitems=[('Home', 'Reset original view', 'home', 'home'), ('Back', 'Back to previous …"
      ]
     },
     "metadata": {},
     "output_type": "display_data"
    },
    {
     "name": "stdout",
     "output_type": "stream",
     "text": [
      "+-----------+------------+------------+------------+------------+------------+\n",
      "|   seq_num |       time | p3_pseudo2 | p3_pseudo1 | p3_pseudo3 |        det |\n",
      "+-----------+------------+------------+------------+------------+------------+\n",
      "|         1 | 22:27:39.4 |     -1.000 |     -0.000 |     -0.000 |      1.000 |\n",
      "|         2 | 22:27:39.4 |     -0.500 |     -0.000 |     -0.000 |      1.000 |\n",
      "|         3 | 22:27:39.4 |      0.000 |     -0.000 |     -0.000 |      1.000 |\n",
      "|         4 | 22:27:39.5 |      0.500 |     -0.000 |     -0.000 |      1.000 |\n",
      "|         5 | 22:27:39.5 |      1.000 |     -0.000 |     -0.000 |      1.000 |\n"
     ]
    },
    {
     "name": "stdout",
     "output_type": "stream",
     "text": [
      "+-----------+------------+------------+------------+------------+------------+\n",
      "generator scan ['9ba55745'] (scan num: 2)\n",
      "\n",
      "\n",
      "\n"
     ]
    },
    {
     "name": "stderr",
     "output_type": "stream",
     "text": [
      "/home/travis/virtualenv/python3.7.1/lib/python3.7/site-packages/bluesky/callbacks/fitting.py:166: RuntimeWarning: invalid value encountered in double_scalars\n",
      "  for dir in range(input.ndim)]\n"
     ]
    },
    {
     "data": {
      "text/plain": [
       "('9ba55745-86f4-42c2-a2c1-99dffff35e3b',)"
      ]
     },
     "execution_count": 1,
     "metadata": {},
     "output_type": "execute_result"
    }
   ],
   "source": [
    "from ophyd.sim import det\n",
    "\n",
    "RE(scan([det, p3], p3.pseudo2, -1, 1, 5))"
   ]
  },
  {
   "cell_type": "code",
   "execution_count": null,
   "metadata": {},
   "outputs": [],
   "source": []
  }
 ],
 "metadata": {
  "kernelspec": {
   "display_name": "Python 3",
   "language": "python",
   "name": "python3"
  },
  "language_info": {
   "codemirror_mode": {
    "name": "ipython",
    "version": 3
   },
   "file_extension": ".py",
   "mimetype": "text/x-python",
   "name": "python",
   "nbconvert_exporter": "python",
   "pygments_lexer": "ipython3",
   "version": "3.7.1"
  },
  "widgets": {
   "application/vnd.jupyter.widget-state+json": {
    "state": {
     "4e9d7817e15e4c8a8319952c3af09661": {
      "model_module": "jupyter-matplotlib",
      "model_module_version": "^0.9.0",
      "model_name": "MPLCanvasModel",
      "state": {
       "_cursor": "default",
       "_dom_classes": [],
       "_figure_label": "det p3_pseudo1 p3_pseudo3 vs p3_pseudo2",
       "_height": 1500,
       "_image_mode": "full",
       "_message": "",
       "_model_module": "jupyter-matplotlib",
       "_model_module_version": "^0.9.0",
       "_model_name": "MPLCanvasModel",
       "_rubberband_height": 0,
       "_rubberband_width": 0,
       "_rubberband_x": 0,
       "_rubberband_y": 0,
       "_view_count": null,
       "_view_module": "jupyter-matplotlib",
       "_view_module_version": "^0.9.0",
       "_view_name": "MPLCanvasView",
       "_width": 500,
       "capture_scroll": false,
       "footer_visible": true,
       "header_visible": true,
       "layout": "IPY_MODEL_b227809f4aa94a0d838163351fb0c708",
       "resizable": true,
       "toolbar": "IPY_MODEL_949e36387b0d45d781fe8dca1460d132",
       "toolbar_position": "left",
       "toolbar_visible": true
      }
     },
     "8d5fe44c1cdc4e1b8dd8c2d54f5426f0": {
      "model_module": "@jupyter-widgets/base",
      "model_module_version": "1.2.0",
      "model_name": "LayoutModel",
      "state": {
       "_model_module": "@jupyter-widgets/base",
       "_model_module_version": "1.2.0",
       "_model_name": "LayoutModel",
       "_view_count": null,
       "_view_module": "@jupyter-widgets/base",
       "_view_module_version": "1.2.0",
       "_view_name": "LayoutView",
       "align_content": null,
       "align_items": null,
       "align_self": null,
       "border": null,
       "bottom": null,
       "display": null,
       "flex": null,
       "flex_flow": null,
       "grid_area": null,
       "grid_auto_columns": null,
       "grid_auto_flow": null,
       "grid_auto_rows": null,
       "grid_column": null,
       "grid_gap": null,
       "grid_row": null,
       "grid_template_areas": null,
       "grid_template_columns": null,
       "grid_template_rows": null,
       "height": null,
       "justify_content": null,
       "justify_items": null,
       "left": null,
       "margin": null,
       "max_height": null,
       "max_width": null,
       "min_height": null,
       "min_width": null,
       "object_fit": null,
       "object_position": null,
       "order": null,
       "overflow": null,
       "overflow_x": null,
       "overflow_y": null,
       "padding": null,
       "right": null,
       "top": null,
       "visibility": null,
       "width": null
      }
     },
     "949e36387b0d45d781fe8dca1460d132": {
      "model_module": "jupyter-matplotlib",
      "model_module_version": "^0.9.0",
      "model_name": "ToolbarModel",
      "state": {
       "_current_action": "",
       "_dom_classes": [],
       "_model_module": "jupyter-matplotlib",
       "_model_module_version": "^0.9.0",
       "_model_name": "ToolbarModel",
       "_view_count": null,
       "_view_module": "jupyter-matplotlib",
       "_view_module_version": "^0.9.0",
       "_view_name": "ToolbarView",
       "button_style": "",
       "collapsed": true,
       "layout": "IPY_MODEL_8d5fe44c1cdc4e1b8dd8c2d54f5426f0",
       "orientation": "vertical",
       "toolitems": [
        [
         "Home",
         "Reset original view",
         "home",
         "home"
        ],
        [
         "Back",
         "Back to previous view",
         "arrow-left",
         "back"
        ],
        [
         "Forward",
         "Forward to next view",
         "arrow-right",
         "forward"
        ],
        [
         "Pan",
         "Left button pans, Right button zooms\nx/y fixes axis, CTRL fixes aspect",
         "arrows",
         "pan"
        ],
        [
         "Zoom",
         "Zoom to rectangle\nx/y fixes axis, CTRL fixes aspect",
         "square-o",
         "zoom"
        ],
        [
         "Download",
         "Download plot",
         "floppy-o",
         "save_figure"
        ]
       ]
      }
     },
     "b227809f4aa94a0d838163351fb0c708": {
      "model_module": "@jupyter-widgets/base",
      "model_module_version": "1.2.0",
      "model_name": "LayoutModel",
      "state": {
       "_model_module": "@jupyter-widgets/base",
       "_model_module_version": "1.2.0",
       "_model_name": "LayoutModel",
       "_view_count": null,
       "_view_module": "@jupyter-widgets/base",
       "_view_module_version": "1.2.0",
       "_view_name": "LayoutView",
       "align_content": null,
       "align_items": null,
       "align_self": null,
       "border": null,
       "bottom": null,
       "display": null,
       "flex": null,
       "flex_flow": null,
       "grid_area": null,
       "grid_auto_columns": null,
       "grid_auto_flow": null,
       "grid_auto_rows": null,
       "grid_column": null,
       "grid_gap": null,
       "grid_row": null,
       "grid_template_areas": null,
       "grid_template_columns": null,
       "grid_template_rows": null,
       "height": null,
       "justify_content": null,
       "justify_items": null,
       "left": null,
       "margin": null,
       "max_height": null,
       "max_width": null,
       "min_height": null,
       "min_width": null,
       "object_fit": null,
       "object_position": null,
       "order": null,
       "overflow": null,
       "overflow_x": null,
       "overflow_y": null,
       "padding": null,
       "right": null,
       "top": null,
       "visibility": null,
       "width": null
      }
     }
    },
    "version_major": 2,
    "version_minor": 0
   }
  }
 },
 "nbformat": 4,
 "nbformat_minor": 2
}
