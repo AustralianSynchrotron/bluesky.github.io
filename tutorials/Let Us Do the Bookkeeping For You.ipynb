{
 "cells": [
  {
   "cell_type": "markdown",
   "metadata": {},
   "source": [
    "# Let Us Do the Bookkeeping For You\n",
    "\n",
    "In this notebook you will:\n",
    "\n",
    "* Run some simulated experiments and then access the metadata about them.\n",
    "* Use that metadata to generate a summary report.\n",
    "* Use it filter search results.\n",
    "* Explore some of Python's string formatting features in detail.\n",
    "\n",
    "## Configuration\n",
    "Below, we will connect to EPICS IOC(s) controlling simulated hardware in lieu of actual motors, detectors. The IOCs should already be running in the background. Run this command to verify that they are running: it should produce output with RUNNING on each line. In the event of a problem, edit this command to replace `status` with `restart all` and run again."
   ]
  },
  {
   "cell_type": "code",
   "execution_count": 1,
   "metadata": {},
   "outputs": [
    {
     "name": "stdout",
     "output_type": "stream",
     "text": [
      "decay                            RUNNING   pid 4876, uptime 0:02:11\r\n",
      "mini_beamline                    RUNNING   pid 4861, uptime 0:02:14\r\n",
      "random_walk                      RUNNING   pid 4862, uptime 0:02:14\r\n",
      "random_walk_horiz                RUNNING   pid 4863, uptime 0:02:14\r\n",
      "random_walk_vert                 RUNNING   pid 4864, uptime 0:02:14\r\n",
      "simple                           RUNNING   pid 4865, uptime 0:02:14\r\n",
      "thermo_sim                       RUNNING   pid 4866, uptime 0:02:14\r\n",
      "trigger_with_pc                  RUNNING   pid 4867, uptime 0:02:14\r\n"
     ]
    }
   ],
   "source": [
    "!supervisorctl -c supervisor/supervisord.conf status"
   ]
  },
  {
   "cell_type": "code",
   "execution_count": 2,
   "metadata": {},
   "outputs": [],
   "source": [
    "%run scripts/beamline_configuration.py"
   ]
  },
  {
   "cell_type": "markdown",
   "metadata": {},
   "source": [
    "## Generate a Summary Report\n",
    "\n",
    "Acquire some data like so. The details of what we are doing here are not important for what follows. If you want to know more about data acquisition, start with [Hello Bluesky](./Hello%20Bluesky.ipynb)."
   ]
  },
  {
   "cell_type": "code",
   "execution_count": 3,
   "metadata": {},
   "outputs": [
    {
     "name": "stdout",
     "output_type": "stream",
     "text": [
      "\n",
      "\n",
      "Transient Scan ID: 13     Time: 2020-05-18 23:34:27\n",
      "Persistent Unique Scan ID: '5a40bead-0f45-486d-9834-db898e675f0d'\n",
      "New stream: 'primary'\n",
      "+-----------+------------+------------+\n",
      "|   seq_num |       time |     ph_det |\n",
      "+-----------+------------+------------+\n",
      "|         1 | 23:34:27.8 |      14092 |\n",
      "+-----------+------------+------------+\n",
      "generator count ['5a40bead'] (scan num: 13)\n",
      "\n",
      "\n",
      "\n"
     ]
    },
    {
     "name": "stdout",
     "output_type": "stream",
     "text": [
      "\n",
      "\n",
      "Transient Scan ID: 14     Time: 2020-05-18 23:34:27\n",
      "Persistent Unique Scan ID: '6097fde5-96d9-44e2-93fc-c0beaff336ed'\n",
      "New stream: 'primary'\n"
     ]
    },
    {
     "data": {
      "application/vnd.jupyter.widget-view+json": {
       "model_id": "7403972896564c80901db08077a97fe3",
       "version_major": 2,
       "version_minor": 0
      },
      "text/plain": [
       "Canvas(toolbar=Toolbar(toolitems=[('Home', 'Reset original view', 'home', 'home'), ('Back', 'Back to previous …"
      ]
     },
     "metadata": {},
     "output_type": "display_data"
    },
    {
     "name": "stdout",
     "output_type": "stream",
     "text": [
      "+-----------+------------+------------+------------+------------+\n",
      "|   seq_num |       time |     ph_det |   slit_det |   edge_det |\n",
      "+-----------+------------+------------+------------+------------+\n",
      "|         1 | 23:34:28.2 |      14087 |     104450 |        212 |\n",
      "|         2 | 23:34:28.2 |      13965 |     104988 |        276 |\n",
      "|         3 | 23:34:28.2 |      14272 |     104920 |        234 |\n",
      "+-----------+------------+------------+------------+------------+\n",
      "generator count ['6097fde5'] (scan num: 14)\n",
      "\n",
      "\n",
      "\n"
     ]
    },
    {
     "name": "stdout",
     "output_type": "stream",
     "text": [
      "\n",
      "\n",
      "Transient Scan ID: 15     Time: 2020-05-18 23:34:28\n",
      "Persistent Unique Scan ID: 'e42a9938-1bb6-4675-9f29-3da7c0e6b11c'\n"
     ]
    },
    {
     "name": "stdout",
     "output_type": "stream",
     "text": [
      "New stream: 'primary'\n"
     ]
    },
    {
     "data": {
      "application/vnd.jupyter.widget-view+json": {
       "model_id": "4550a6ada5ff4b9ea76c4e79e477e252",
       "version_major": 2,
       "version_minor": 0
      },
      "text/plain": [
       "Canvas(toolbar=Toolbar(toolitems=[('Home', 'Reset original view', 'home', 'home'), ('Back', 'Back to previous …"
      ]
     },
     "metadata": {},
     "output_type": "display_data"
    },
    {
     "name": "stdout",
     "output_type": "stream",
     "text": [
      "+-----------+------------+------------+------------+\n",
      "|   seq_num |       time | motor_edge |   edge_det |\n",
      "+-----------+------------+------------+------------+\n",
      "|         1 | 23:34:28.7 |    -10.000 |          0 |\n",
      "|         2 | 23:34:28.8 |     -8.571 |          0 |\n",
      "|         3 | 23:34:28.8 |     -7.143 |          0 |\n",
      "|         4 | 23:34:28.8 |     -5.714 |          0 |\n",
      "|         5 | 23:34:28.9 |     -4.286 |          0 |\n"
     ]
    },
    {
     "name": "stdout",
     "output_type": "stream",
     "text": [
      "|         6 | 23:34:28.9 |     -2.857 |          0 |\n",
      "|         7 | 23:34:28.9 |     -1.429 |         15 |\n",
      "|         8 | 23:34:28.9 |      0.000 |        275 |\n",
      "|         9 | 23:34:28.9 |      1.429 |       2209 |\n",
      "|        10 | 23:34:28.9 |      2.857 |      11676 |\n",
      "|        11 | 23:34:28.9 |      4.286 |      35482 |\n",
      "|        12 | 23:34:28.9 |      5.714 |      67551 |\n",
      "|        13 | 23:34:28.9 |      7.143 |      90172 |\n",
      "|        14 | 23:34:28.9 |      8.571 |      99632 |\n"
     ]
    },
    {
     "name": "stdout",
     "output_type": "stream",
     "text": [
      "|        15 | 23:34:29.0 |     10.000 |     101597 |\n",
      "+-----------+------------+------------+------------+\n",
      "generator scan ['e42a9938'] (scan num: 15)\n",
      "\n",
      "\n",
      "\n"
     ]
    },
    {
     "name": "stdout",
     "output_type": "stream",
     "text": [
      "\n",
      "\n",
      "Transient Scan ID: 16     Time: 2020-05-18 23:34:29\n",
      "Persistent Unique Scan ID: 'eeba3ad9-175e-4c99-89e8-30d330fbbf3f'\n"
     ]
    },
    {
     "name": "stdout",
     "output_type": "stream",
     "text": [
      "New stream: 'primary'\n",
      "+-----------+------------+------------+------------+\n",
      "|   seq_num |       time | motor_edge |   edge_det |\n",
      "+-----------+------------+------------+------------+\n",
      "|         1 | 23:34:29.3 |     -1.000 |         46 |\n",
      "|         2 | 23:34:29.4 |      0.000 |        220 |\n",
      "|         3 | 23:34:29.4 |      1.000 |       1112 |\n",
      "|         4 | 23:34:29.4 |      2.000 |       4517 |\n",
      "|         5 | 23:34:29.4 |      3.000 |      12720 |\n",
      "+-----------+------------+------------+------------+\n",
      "generator scan ['eeba3ad9'] (scan num: 16)\n",
      "\n",
      "\n",
      "\n"
     ]
    },
    {
     "name": "stdout",
     "output_type": "stream",
     "text": [
      "\n",
      "\n",
      "Transient Scan ID: 17     Time: 2020-05-18 23:34:29\n",
      "Persistent Unique Scan ID: '76e8c104-8910-4ba7-aad3-2866036057c0'\n"
     ]
    },
    {
     "name": "stdout",
     "output_type": "stream",
     "text": [
      "New stream: 'primary'\n"
     ]
    },
    {
     "data": {
      "application/vnd.jupyter.widget-view+json": {
       "model_id": "83b81bc8ef954b699315af748a92a646",
       "version_major": 2,
       "version_minor": 0
      },
      "text/plain": [
       "Canvas(toolbar=Toolbar(toolitems=[('Home', 'Reset original view', 'home', 'home'), ('Back', 'Back to previous …"
      ]
     },
     "metadata": {},
     "output_type": "display_data"
    },
    {
     "name": "stdout",
     "output_type": "stream",
     "text": [
      "+-----------+------------+------------+------------+\n",
      "|   seq_num |       time |   motor_ph |     ph_det |\n",
      "+-----------+------------+------------+------------+\n",
      "|         1 | 23:34:29.8 |     -1.000 |      93832 |\n",
      "|         2 | 23:34:29.8 |      0.000 |      97066 |\n",
      "|         3 | 23:34:29.9 |      1.000 |      94022 |\n",
      "|         4 | 23:34:29.9 |      2.000 |      88459 |\n",
      "|         5 | 23:34:29.9 |      3.000 |      79781 |\n"
     ]
    },
    {
     "name": "stdout",
     "output_type": "stream",
     "text": [
      "+-----------+------------+------------+------------+\n",
      "generator scan ['76e8c104'] (scan num: 17)\n",
      "\n",
      "\n",
      "\n"
     ]
    },
    {
     "name": "stdout",
     "output_type": "stream",
     "text": [
      "\n",
      "\n",
      "Transient Scan ID: 18     Time: 2020-05-18 23:34:30\n",
      "Persistent Unique Scan ID: '64a8a25a-d895-45fd-b100-ed4d27099598'\n"
     ]
    },
    {
     "name": "stdout",
     "output_type": "stream",
     "text": [
      "New stream: 'primary'\n"
     ]
    },
    {
     "data": {
      "application/vnd.jupyter.widget-view+json": {
       "model_id": "27ae50dc30f54e3ca34b957a7d97d072",
       "version_major": 2,
       "version_minor": 0
      },
      "text/plain": [
       "Canvas(toolbar=Toolbar(toolitems=[('Home', 'Reset original view', 'home', 'home'), ('Back', 'Back to previous …"
      ]
     },
     "metadata": {},
     "output_type": "display_data"
    },
    {
     "name": "stdout",
     "output_type": "stream",
     "text": [
      "+-----------+------------+------------+------------+\n",
      "|   seq_num |       time | motor_slit |   slit_det |\n",
      "+-----------+------------+------------+------------+\n",
      "|         1 | 23:34:30.4 |    -10.000 |       7564 |\n",
      "|         2 | 23:34:30.4 |     -8.571 |      25988 |\n",
      "|         3 | 23:34:30.5 |     -7.143 |      55230 |\n",
      "|         4 | 23:34:30.5 |     -5.714 |      80540 |\n"
     ]
    },
    {
     "name": "stdout",
     "output_type": "stream",
     "text": [
      "|         5 | 23:34:30.5 |     -4.286 |      92729 |\n",
      "|         6 | 23:34:30.6 |     -2.857 |      95227 |\n",
      "|         7 | 23:34:30.6 |     -1.429 |      96055 |\n",
      "|         8 | 23:34:30.6 |      0.000 |      96016 |\n",
      "|         9 | 23:34:30.6 |      1.429 |      95682 |\n",
      "|        10 | 23:34:30.6 |      2.857 |      95298 |\n",
      "|        11 | 23:34:30.6 |      4.286 |      93062 |\n",
      "|        12 | 23:34:30.6 |      5.714 |      80896 |\n"
     ]
    },
    {
     "name": "stdout",
     "output_type": "stream",
     "text": [
      "|        13 | 23:34:30.6 |      7.143 |      55664 |\n",
      "|        14 | 23:34:30.6 |      8.571 |      26070 |\n",
      "|        15 | 23:34:30.6 |     10.000 |       7502 |\n"
     ]
    },
    {
     "name": "stdout",
     "output_type": "stream",
     "text": [
      "+-----------+------------+------------+------------+\n",
      "generator scan ['64a8a25a'] (scan num: 18)\n",
      "\n",
      "\n",
      "\n"
     ]
    },
    {
     "data": {
      "text/plain": [
       "('64a8a25a-d895-45fd-b100-ed4d27099598',)"
      ]
     },
     "execution_count": 3,
     "metadata": {},
     "output_type": "execute_result"
    }
   ],
   "source": [
    "RE(count([ph]))\n",
    "RE(count([ph, edge, slit], 3))\n",
    "RE(scan([edge], motor_edge, -10, 10, 15))\n",
    "RE(scan([edge], motor_edge, -1, 3, 5))\n",
    "RE(scan([ph], motor_ph, -1, 3, 5))\n",
    "RE(scan([slit], motor_slit, -10, 10, 15))"
   ]
  },
  {
   "cell_type": "markdown",
   "metadata": {},
   "source": [
    "Here a some code that prints a summary with some of the metadata automatically captured by Bluesky. Note the time filter added to the databroker object (db) - see [Filtering](#Filtering) for more about this feature."
   ]
  },
  {
   "cell_type": "code",
   "execution_count": 4,
   "metadata": {},
   "outputs": [
    {
     "name": "stdout",
     "output_type": "stream",
     "text": [
      "HH:MM  plan_name  detectors      motors\n",
      "23:34  count      ph,edge,slit                  \n",
      "23:34  count      ph                            \n",
      "23:34  scan       edge           motor_edge     \n",
      "23:34  scan       ph             motor_ph       \n",
      "23:34  scan       slit           motor_slit     \n",
      "23:34  scan       edge           motor_edge     \n"
     ]
    }
   ],
   "source": [
    "import time\n",
    "from datetime import datetime\n",
    "\n",
    "now = time.time()\n",
    "an_hour_ago = now - 60 * 60 *24\n",
    "print(\"HH:MM  plan_name  detectors      motors\")\n",
    "for h in db(since=an_hour_ago):\n",
    "    md = h.start\n",
    "    print(f\"{datetime.fromtimestamp(md['time']):%H:%M}  \"\n",
    "          f\"{md['plan_name']:11}\"\n",
    "          f\"{','.join(md.get('detectors', [])):15}\"\n",
    "          f\"{','.join(md.get('motors', [])):15}\")"
   ]
  },
  {
   "cell_type": "markdown",
   "metadata": {},
   "source": [
    "Let's add one more example data, a run that failed because of a user error."
   ]
  },
  {
   "cell_type": "code",
   "execution_count": 5,
   "metadata": {
    "tags": [
     "raises-exception"
    ]
   },
   "outputs": [
    {
     "name": "stderr",
     "output_type": "stream",
     "text": [
      "Run aborted\n",
      "Traceback (most recent call last):\n",
      "  File \"/home/travis/virtualenv/python3.7.1/lib/python3.7/site-packages/bluesky/run_engine.py\", line 1353, in _run\n",
      "    msg = self._plan_stack[-1].send(resp)\n",
      "  File \"/home/travis/virtualenv/python3.7.1/lib/python3.7/site-packages/bluesky/preprocessors.py\", line 1307, in __call__\n",
      "    return (yield from plan)\n",
      "  File \"/home/travis/virtualenv/python3.7.1/lib/python3.7/site-packages/bluesky/preprocessors.py\", line 1160, in baseline_wrapper\n",
      "    return (yield from plan)\n",
      "  File \"/home/travis/virtualenv/python3.7.1/lib/python3.7/site-packages/bluesky/preprocessors.py\", line 803, in monitor_during_wrapper\n",
      "    return (yield from plan2)\n",
      "  File \"/home/travis/virtualenv/python3.7.1/lib/python3.7/site-packages/bluesky/preprocessors.py\", line 170, in plan_mutator\n",
      "    raise ex\n",
      "  File \"/home/travis/virtualenv/python3.7.1/lib/python3.7/site-packages/bluesky/preprocessors.py\", line 123, in plan_mutator\n",
      "    msg = plan_stack[-1].send(ret)\n",
      "  File \"/home/travis/virtualenv/python3.7.1/lib/python3.7/site-packages/bluesky/preprocessors.py\", line 170, in plan_mutator\n",
      "    raise ex\n",
      "  File \"/home/travis/virtualenv/python3.7.1/lib/python3.7/site-packages/bluesky/preprocessors.py\", line 123, in plan_mutator\n",
      "    msg = plan_stack[-1].send(ret)\n",
      "  File \"/home/travis/virtualenv/python3.7.1/lib/python3.7/site-packages/bluesky/preprocessors.py\", line 861, in fly_during_wrapper\n",
      "    return (yield from plan2)\n",
      "  File \"/home/travis/virtualenv/python3.7.1/lib/python3.7/site-packages/bluesky/preprocessors.py\", line 170, in plan_mutator\n",
      "    raise ex\n",
      "  File \"/home/travis/virtualenv/python3.7.1/lib/python3.7/site-packages/bluesky/preprocessors.py\", line 123, in plan_mutator\n",
      "    msg = plan_stack[-1].send(ret)\n",
      "  File \"/home/travis/virtualenv/python3.7.1/lib/python3.7/site-packages/bluesky/preprocessors.py\", line 170, in plan_mutator\n",
      "    raise ex\n",
      "  File \"/home/travis/virtualenv/python3.7.1/lib/python3.7/site-packages/bluesky/preprocessors.py\", line 123, in plan_mutator\n",
      "    msg = plan_stack[-1].send(ret)\n",
      "  File \"/home/travis/virtualenv/python3.7.1/lib/python3.7/site-packages/bluesky/plans.py\", line 1101, in scan\n",
      "    per_step=per_step, md=_md))\n",
      "  File \"/home/travis/virtualenv/python3.7.1/lib/python3.7/site-packages/bluesky/plans.py\", line 995, in scan_nd\n",
      "    return (yield from inner_scan_nd())\n",
      "  File \"/home/travis/virtualenv/python3.7.1/lib/python3.7/site-packages/bluesky/utils.py\", line 1046, in dec_inner\n",
      "    return (yield from plan)\n",
      "  File \"/home/travis/virtualenv/python3.7.1/lib/python3.7/site-packages/bluesky/preprocessors.py\", line 952, in stage_wrapper\n",
      "    return (yield from finalize_wrapper(inner(), unstage_devices()))\n",
      "  File \"/home/travis/virtualenv/python3.7.1/lib/python3.7/site-packages/bluesky/preprocessors.py\", line 509, in finalize_wrapper\n",
      "    ret = yield from plan\n",
      "  File \"/home/travis/virtualenv/python3.7.1/lib/python3.7/site-packages/bluesky/preprocessors.py\", line 950, in inner\n",
      "    return (yield from plan)\n",
      "  File \"/home/travis/virtualenv/python3.7.1/lib/python3.7/site-packages/bluesky/utils.py\", line 1046, in dec_inner\n",
      "    return (yield from plan)\n",
      "  File \"/home/travis/virtualenv/python3.7.1/lib/python3.7/site-packages/bluesky/preprocessors.py\", line 327, in run_wrapper\n",
      "    else_plan=close_run)\n",
      "  File \"/home/travis/virtualenv/python3.7.1/lib/python3.7/site-packages/bluesky/preprocessors.py\", line 575, in contingency_wrapper\n",
      "    ret = yield from plan\n",
      "  File \"/home/travis/virtualenv/python3.7.1/lib/python3.7/site-packages/bluesky/plans.py\", line 993, in inner_scan_nd\n",
      "    yield from per_step(detectors, step, pos_cache)\n",
      "  File \"/home/travis/virtualenv/python3.7.1/lib/python3.7/site-packages/bluesky/plan_stubs.py\", line 1114, in one_nd_step\n",
      "    yield from move_per_step(step, pos_cache)\n",
      "  File \"/home/travis/virtualenv/python3.7.1/lib/python3.7/site-packages/bluesky/plan_stubs.py\", line 1084, in move_per_step\n",
      "    yield Msg('set', motor, pos, group=grp)\n",
      "  File \"/home/travis/virtualenv/python3.7.1/lib/python3.7/site-packages/bluesky/preprocessors.py\", line 195, in plan_mutator\n",
      "    inner_ret = yield msg\n",
      "  File \"/home/travis/virtualenv/python3.7.1/lib/python3.7/site-packages/bluesky/preprocessors.py\", line 195, in plan_mutator\n",
      "    inner_ret = yield msg\n",
      "  File \"/home/travis/virtualenv/python3.7.1/lib/python3.7/site-packages/bluesky/preprocessors.py\", line 195, in plan_mutator\n",
      "    inner_ret = yield msg\n",
      "  [Previous line repeated 1 more time]\n",
      "  File \"/home/travis/virtualenv/python3.7.1/lib/python3.7/site-packages/bluesky/run_engine.py\", line 1413, in _run\n",
      "    new_response = await coro(msg)\n",
      "  File \"/home/travis/virtualenv/python3.7.1/lib/python3.7/site-packages/bluesky/run_engine.py\", line 1909, in _set\n",
      "    ret = msg.obj.set(*msg.args, **kwargs)\n",
      "  File \"/home/travis/virtualenv/python3.7.1/lib/python3.7/site-packages/ophyd/device.py\", line 1197, in __getattr__\n",
      "    raise AttributeError(name)\n",
      "AttributeError: set\n"
     ]
    },
    {
     "name": "stdout",
     "output_type": "stream",
     "text": [
      "\n",
      "\n",
      "Transient Scan ID: 19     Time: 2020-05-18 23:34:31\n",
      "Persistent Unique Scan ID: '2c6a08ef-1e2b-40fb-ba0d-86f575bf18a1'\n",
      "\n",
      "\n",
      "\n"
     ]
    },
    {
     "ename": "AttributeError",
     "evalue": "set",
     "output_type": "error",
     "traceback": [
      "\u001b[0;31m---------------------------------------------------------------------------\u001b[0m",
      "\u001b[0;31mAttributeError\u001b[0m                            Traceback (most recent call last)",
      "\u001b[0;32m<ipython-input-5-2412d29f338e>\u001b[0m in \u001b[0;36m<module>\u001b[0;34m\u001b[0m\n\u001b[1;32m      1\u001b[0m \u001b[0;31m# THIS IS EXPECTED TO CREATE AN ERROR.\u001b[0m\u001b[0;34m\u001b[0m\u001b[0;34m\u001b[0m\u001b[0;34m\u001b[0m\u001b[0m\n\u001b[1;32m      2\u001b[0m \u001b[0;34m\u001b[0m\u001b[0m\n\u001b[0;32m----> 3\u001b[0;31m \u001b[0mRE\u001b[0m\u001b[0;34m(\u001b[0m\u001b[0mscan\u001b[0m\u001b[0;34m(\u001b[0m\u001b[0;34m[\u001b[0m\u001b[0mmotor_ph\u001b[0m\u001b[0;34m]\u001b[0m\u001b[0;34m,\u001b[0m \u001b[0mph\u001b[0m\u001b[0;34m,\u001b[0m \u001b[0;34m-\u001b[0m\u001b[0;36m1\u001b[0m\u001b[0;34m,\u001b[0m \u001b[0;36m1\u001b[0m\u001b[0;34m,\u001b[0m \u001b[0;36m3\u001b[0m\u001b[0;34m)\u001b[0m\u001b[0;34m)\u001b[0m  \u001b[0;31m# oops I tried to use a detector as a motor\u001b[0m\u001b[0;34m\u001b[0m\u001b[0;34m\u001b[0m\u001b[0m\n\u001b[0m",
      "\u001b[0;32m~/virtualenv/python3.7.1/lib/python3.7/site-packages/bluesky/run_engine.py\u001b[0m in \u001b[0;36m__call__\u001b[0;34m(self, *args, **metadata_kw)\u001b[0m\n\u001b[1;32m    793\u001b[0m             \u001b[0mself\u001b[0m\u001b[0;34m.\u001b[0m\u001b[0m_task_fut\u001b[0m\u001b[0;34m.\u001b[0m\u001b[0madd_done_callback\u001b[0m\u001b[0;34m(\u001b[0m\u001b[0mset_blocking_event\u001b[0m\u001b[0;34m)\u001b[0m\u001b[0;34m\u001b[0m\u001b[0;34m\u001b[0m\u001b[0m\n\u001b[1;32m    794\u001b[0m \u001b[0;34m\u001b[0m\u001b[0m\n\u001b[0;32m--> 795\u001b[0;31m         \u001b[0mself\u001b[0m\u001b[0;34m.\u001b[0m\u001b[0m_resume_task\u001b[0m\u001b[0;34m(\u001b[0m\u001b[0minit_func\u001b[0m\u001b[0;34m=\u001b[0m\u001b[0m_build_task\u001b[0m\u001b[0;34m)\u001b[0m\u001b[0;34m\u001b[0m\u001b[0;34m\u001b[0m\u001b[0m\n\u001b[0m\u001b[1;32m    796\u001b[0m \u001b[0;34m\u001b[0m\u001b[0m\n\u001b[1;32m    797\u001b[0m         \u001b[0;32mif\u001b[0m \u001b[0mself\u001b[0m\u001b[0;34m.\u001b[0m\u001b[0m_interrupted\u001b[0m\u001b[0;34m:\u001b[0m\u001b[0;34m\u001b[0m\u001b[0;34m\u001b[0m\u001b[0m\n",
      "\u001b[0;32m~/virtualenv/python3.7.1/lib/python3.7/site-packages/bluesky/run_engine.py\u001b[0m in \u001b[0;36m_resume_task\u001b[0;34m(self, init_func)\u001b[0m\n\u001b[1;32m    917\u001b[0m                     if (exc is not None\n\u001b[1;32m    918\u001b[0m                             and not isinstance(exc, _RunEnginePanic)):\n\u001b[0;32m--> 919\u001b[0;31m                         \u001b[0;32mraise\u001b[0m \u001b[0mexc\u001b[0m\u001b[0;34m\u001b[0m\u001b[0;34m\u001b[0m\u001b[0m\n\u001b[0m\u001b[1;32m    920\u001b[0m \u001b[0;34m\u001b[0m\u001b[0m\n\u001b[1;32m    921\u001b[0m     \u001b[0;32mdef\u001b[0m \u001b[0minstall_suspender\u001b[0m\u001b[0;34m(\u001b[0m\u001b[0mself\u001b[0m\u001b[0;34m,\u001b[0m \u001b[0msuspender\u001b[0m\u001b[0;34m)\u001b[0m\u001b[0;34m:\u001b[0m\u001b[0;34m\u001b[0m\u001b[0;34m\u001b[0m\u001b[0m\n",
      "\u001b[0;32m~/virtualenv/python3.7.1/lib/python3.7/site-packages/bluesky/run_engine.py\u001b[0m in \u001b[0;36m_run\u001b[0;34m(self)\u001b[0m\n\u001b[1;32m   1486\u001b[0m             \u001b[0mexit_reason\u001b[0m \u001b[0;34m=\u001b[0m \u001b[0mstr\u001b[0m\u001b[0;34m(\u001b[0m\u001b[0merr\u001b[0m\u001b[0;34m)\u001b[0m\u001b[0;34m\u001b[0m\u001b[0;34m\u001b[0m\u001b[0m\n\u001b[1;32m   1487\u001b[0m             \u001b[0mself\u001b[0m\u001b[0;34m.\u001b[0m\u001b[0mlog\u001b[0m\u001b[0;34m.\u001b[0m\u001b[0mexception\u001b[0m\u001b[0;34m(\u001b[0m\u001b[0;34m\"Run aborted\"\u001b[0m\u001b[0;34m)\u001b[0m\u001b[0;34m\u001b[0m\u001b[0;34m\u001b[0m\u001b[0m\n\u001b[0;32m-> 1488\u001b[0;31m             \u001b[0;32mraise\u001b[0m \u001b[0merr\u001b[0m\u001b[0;34m\u001b[0m\u001b[0;34m\u001b[0m\u001b[0m\n\u001b[0m\u001b[1;32m   1489\u001b[0m         \u001b[0;32mfinally\u001b[0m\u001b[0;34m:\u001b[0m\u001b[0;34m\u001b[0m\u001b[0;34m\u001b[0m\u001b[0m\n\u001b[1;32m   1490\u001b[0m             \u001b[0;32mif\u001b[0m \u001b[0;32mnot\u001b[0m \u001b[0mexit_reason\u001b[0m\u001b[0;34m:\u001b[0m\u001b[0;34m\u001b[0m\u001b[0;34m\u001b[0m\u001b[0m\n",
      "\u001b[0;32m~/virtualenv/python3.7.1/lib/python3.7/site-packages/bluesky/run_engine.py\u001b[0m in \u001b[0;36m_run\u001b[0;34m(self)\u001b[0m\n\u001b[1;32m   1351\u001b[0m                     \u001b[0;32melse\u001b[0m\u001b[0;34m:\u001b[0m\u001b[0;34m\u001b[0m\u001b[0;34m\u001b[0m\u001b[0m\n\u001b[1;32m   1352\u001b[0m                         \u001b[0;32mtry\u001b[0m\u001b[0;34m:\u001b[0m\u001b[0;34m\u001b[0m\u001b[0;34m\u001b[0m\u001b[0m\n\u001b[0;32m-> 1353\u001b[0;31m                             \u001b[0mmsg\u001b[0m \u001b[0;34m=\u001b[0m \u001b[0mself\u001b[0m\u001b[0;34m.\u001b[0m\u001b[0m_plan_stack\u001b[0m\u001b[0;34m[\u001b[0m\u001b[0;34m-\u001b[0m\u001b[0;36m1\u001b[0m\u001b[0;34m]\u001b[0m\u001b[0;34m.\u001b[0m\u001b[0msend\u001b[0m\u001b[0;34m(\u001b[0m\u001b[0mresp\u001b[0m\u001b[0;34m)\u001b[0m\u001b[0;34m\u001b[0m\u001b[0;34m\u001b[0m\u001b[0m\n\u001b[0m\u001b[1;32m   1354\u001b[0m                         \u001b[0;31m# We have exhausted the top generator\u001b[0m\u001b[0;34m\u001b[0m\u001b[0;34m\u001b[0m\u001b[0;34m\u001b[0m\u001b[0m\n\u001b[1;32m   1355\u001b[0m                         \u001b[0;32mexcept\u001b[0m \u001b[0mStopIteration\u001b[0m\u001b[0;34m:\u001b[0m\u001b[0;34m\u001b[0m\u001b[0;34m\u001b[0m\u001b[0m\n",
      "\u001b[0;32m~/virtualenv/python3.7.1/lib/python3.7/site-packages/bluesky/preprocessors.py\u001b[0m in \u001b[0;36m__call__\u001b[0;34m(self, plan)\u001b[0m\n\u001b[1;32m   1305\u001b[0m         \u001b[0mplan\u001b[0m \u001b[0;34m=\u001b[0m \u001b[0mmonitor_during_wrapper\u001b[0m\u001b[0;34m(\u001b[0m\u001b[0mplan\u001b[0m\u001b[0;34m,\u001b[0m \u001b[0mself\u001b[0m\u001b[0;34m.\u001b[0m\u001b[0mmonitors\u001b[0m\u001b[0;34m)\u001b[0m\u001b[0;34m\u001b[0m\u001b[0;34m\u001b[0m\u001b[0m\n\u001b[1;32m   1306\u001b[0m         \u001b[0mplan\u001b[0m \u001b[0;34m=\u001b[0m \u001b[0mbaseline_wrapper\u001b[0m\u001b[0;34m(\u001b[0m\u001b[0mplan\u001b[0m\u001b[0;34m,\u001b[0m \u001b[0mself\u001b[0m\u001b[0;34m.\u001b[0m\u001b[0mbaseline\u001b[0m\u001b[0;34m)\u001b[0m\u001b[0;34m\u001b[0m\u001b[0;34m\u001b[0m\u001b[0m\n\u001b[0;32m-> 1307\u001b[0;31m         \u001b[0;32mreturn\u001b[0m \u001b[0;34m(\u001b[0m\u001b[0;32myield\u001b[0m \u001b[0;32mfrom\u001b[0m \u001b[0mplan\u001b[0m\u001b[0;34m)\u001b[0m\u001b[0;34m\u001b[0m\u001b[0;34m\u001b[0m\u001b[0m\n\u001b[0m\u001b[1;32m   1308\u001b[0m \u001b[0;34m\u001b[0m\u001b[0m\n\u001b[1;32m   1309\u001b[0m \u001b[0;34m\u001b[0m\u001b[0m\n",
      "\u001b[0;32m~/virtualenv/python3.7.1/lib/python3.7/site-packages/bluesky/preprocessors.py\u001b[0m in \u001b[0;36mbaseline_wrapper\u001b[0;34m(plan, devices, name)\u001b[0m\n\u001b[1;32m   1158\u001b[0m     \u001b[0;32mif\u001b[0m \u001b[0;32mnot\u001b[0m \u001b[0mdevices\u001b[0m\u001b[0;34m:\u001b[0m\u001b[0;34m\u001b[0m\u001b[0;34m\u001b[0m\u001b[0m\n\u001b[1;32m   1159\u001b[0m         \u001b[0;31m# no-op\u001b[0m\u001b[0;34m\u001b[0m\u001b[0;34m\u001b[0m\u001b[0;34m\u001b[0m\u001b[0m\n\u001b[0;32m-> 1160\u001b[0;31m         \u001b[0;32mreturn\u001b[0m \u001b[0;34m(\u001b[0m\u001b[0;32myield\u001b[0m \u001b[0;32mfrom\u001b[0m \u001b[0mplan\u001b[0m\u001b[0;34m)\u001b[0m\u001b[0;34m\u001b[0m\u001b[0;34m\u001b[0m\u001b[0m\n\u001b[0m\u001b[1;32m   1161\u001b[0m     \u001b[0;32melse\u001b[0m\u001b[0;34m:\u001b[0m\u001b[0;34m\u001b[0m\u001b[0;34m\u001b[0m\u001b[0m\n\u001b[1;32m   1162\u001b[0m         \u001b[0;32mreturn\u001b[0m \u001b[0;34m(\u001b[0m\u001b[0;32myield\u001b[0m \u001b[0;32mfrom\u001b[0m \u001b[0mplan_mutator\u001b[0m\u001b[0;34m(\u001b[0m\u001b[0mplan\u001b[0m\u001b[0;34m,\u001b[0m \u001b[0minsert_baseline\u001b[0m\u001b[0;34m)\u001b[0m\u001b[0;34m)\u001b[0m\u001b[0;34m\u001b[0m\u001b[0;34m\u001b[0m\u001b[0m\n",
      "\u001b[0;32m~/virtualenv/python3.7.1/lib/python3.7/site-packages/bluesky/preprocessors.py\u001b[0m in \u001b[0;36mmonitor_during_wrapper\u001b[0;34m(plan, signals)\u001b[0m\n\u001b[1;32m    801\u001b[0m     \u001b[0mplan1\u001b[0m \u001b[0;34m=\u001b[0m \u001b[0mplan_mutator\u001b[0m\u001b[0;34m(\u001b[0m\u001b[0mplan\u001b[0m\u001b[0;34m,\u001b[0m \u001b[0minsert_after_open\u001b[0m\u001b[0;34m)\u001b[0m\u001b[0;34m\u001b[0m\u001b[0;34m\u001b[0m\u001b[0m\n\u001b[1;32m    802\u001b[0m     \u001b[0mplan2\u001b[0m \u001b[0;34m=\u001b[0m \u001b[0mplan_mutator\u001b[0m\u001b[0;34m(\u001b[0m\u001b[0mplan1\u001b[0m\u001b[0;34m,\u001b[0m \u001b[0minsert_before_close\u001b[0m\u001b[0;34m)\u001b[0m\u001b[0;34m\u001b[0m\u001b[0;34m\u001b[0m\u001b[0m\n\u001b[0;32m--> 803\u001b[0;31m     \u001b[0;32mreturn\u001b[0m \u001b[0;34m(\u001b[0m\u001b[0;32myield\u001b[0m \u001b[0;32mfrom\u001b[0m \u001b[0mplan2\u001b[0m\u001b[0;34m)\u001b[0m\u001b[0;34m\u001b[0m\u001b[0;34m\u001b[0m\u001b[0m\n\u001b[0m\u001b[1;32m    804\u001b[0m \u001b[0;34m\u001b[0m\u001b[0m\n\u001b[1;32m    805\u001b[0m \u001b[0;34m\u001b[0m\u001b[0m\n",
      "\u001b[0;32m~/virtualenv/python3.7.1/lib/python3.7/site-packages/bluesky/preprocessors.py\u001b[0m in \u001b[0;36mplan_mutator\u001b[0;34m(plan, msg_proc)\u001b[0m\n\u001b[1;32m    168\u001b[0m                     \u001b[0;32mcontinue\u001b[0m\u001b[0;34m\u001b[0m\u001b[0;34m\u001b[0m\u001b[0m\n\u001b[1;32m    169\u001b[0m                 \u001b[0;32melse\u001b[0m\u001b[0;34m:\u001b[0m\u001b[0;34m\u001b[0m\u001b[0;34m\u001b[0m\u001b[0m\n\u001b[0;32m--> 170\u001b[0;31m                     \u001b[0;32mraise\u001b[0m \u001b[0mex\u001b[0m\u001b[0;34m\u001b[0m\u001b[0;34m\u001b[0m\u001b[0m\n\u001b[0m\u001b[1;32m    171\u001b[0m         \u001b[0;31m# if inserting / mutating, put new generator on the stack\u001b[0m\u001b[0;34m\u001b[0m\u001b[0;34m\u001b[0m\u001b[0;34m\u001b[0m\u001b[0m\n\u001b[1;32m    172\u001b[0m         \u001b[0;31m# and replace the current msg with the first element from the\u001b[0m\u001b[0;34m\u001b[0m\u001b[0;34m\u001b[0m\u001b[0;34m\u001b[0m\u001b[0m\n",
      "\u001b[0;32m~/virtualenv/python3.7.1/lib/python3.7/site-packages/bluesky/preprocessors.py\u001b[0m in \u001b[0;36mplan_mutator\u001b[0;34m(plan, msg_proc)\u001b[0m\n\u001b[1;32m    121\u001b[0m             \u001b[0mret\u001b[0m \u001b[0;34m=\u001b[0m \u001b[0mresult_stack\u001b[0m\u001b[0;34m.\u001b[0m\u001b[0mpop\u001b[0m\u001b[0;34m(\u001b[0m\u001b[0;34m)\u001b[0m\u001b[0;34m\u001b[0m\u001b[0;34m\u001b[0m\u001b[0m\n\u001b[1;32m    122\u001b[0m             \u001b[0;32mtry\u001b[0m\u001b[0;34m:\u001b[0m\u001b[0;34m\u001b[0m\u001b[0;34m\u001b[0m\u001b[0m\n\u001b[0;32m--> 123\u001b[0;31m                 \u001b[0mmsg\u001b[0m \u001b[0;34m=\u001b[0m \u001b[0mplan_stack\u001b[0m\u001b[0;34m[\u001b[0m\u001b[0;34m-\u001b[0m\u001b[0;36m1\u001b[0m\u001b[0;34m]\u001b[0m\u001b[0;34m.\u001b[0m\u001b[0msend\u001b[0m\u001b[0;34m(\u001b[0m\u001b[0mret\u001b[0m\u001b[0;34m)\u001b[0m\u001b[0;34m\u001b[0m\u001b[0;34m\u001b[0m\u001b[0m\n\u001b[0m\u001b[1;32m    124\u001b[0m             \u001b[0;32mexcept\u001b[0m \u001b[0mStopIteration\u001b[0m \u001b[0;32mas\u001b[0m \u001b[0me\u001b[0m\u001b[0;34m:\u001b[0m\u001b[0;34m\u001b[0m\u001b[0;34m\u001b[0m\u001b[0m\n\u001b[1;32m    125\u001b[0m                 \u001b[0;31m# discard the exhausted generator\u001b[0m\u001b[0;34m\u001b[0m\u001b[0;34m\u001b[0m\u001b[0;34m\u001b[0m\u001b[0m\n",
      "\u001b[0;32m~/virtualenv/python3.7.1/lib/python3.7/site-packages/bluesky/preprocessors.py\u001b[0m in \u001b[0;36mplan_mutator\u001b[0;34m(plan, msg_proc)\u001b[0m\n\u001b[1;32m    168\u001b[0m                     \u001b[0;32mcontinue\u001b[0m\u001b[0;34m\u001b[0m\u001b[0;34m\u001b[0m\u001b[0m\n\u001b[1;32m    169\u001b[0m                 \u001b[0;32melse\u001b[0m\u001b[0;34m:\u001b[0m\u001b[0;34m\u001b[0m\u001b[0;34m\u001b[0m\u001b[0m\n\u001b[0;32m--> 170\u001b[0;31m                     \u001b[0;32mraise\u001b[0m \u001b[0mex\u001b[0m\u001b[0;34m\u001b[0m\u001b[0;34m\u001b[0m\u001b[0m\n\u001b[0m\u001b[1;32m    171\u001b[0m         \u001b[0;31m# if inserting / mutating, put new generator on the stack\u001b[0m\u001b[0;34m\u001b[0m\u001b[0;34m\u001b[0m\u001b[0;34m\u001b[0m\u001b[0m\n\u001b[1;32m    172\u001b[0m         \u001b[0;31m# and replace the current msg with the first element from the\u001b[0m\u001b[0;34m\u001b[0m\u001b[0;34m\u001b[0m\u001b[0;34m\u001b[0m\u001b[0m\n",
      "\u001b[0;32m~/virtualenv/python3.7.1/lib/python3.7/site-packages/bluesky/preprocessors.py\u001b[0m in \u001b[0;36mplan_mutator\u001b[0;34m(plan, msg_proc)\u001b[0m\n\u001b[1;32m    121\u001b[0m             \u001b[0mret\u001b[0m \u001b[0;34m=\u001b[0m \u001b[0mresult_stack\u001b[0m\u001b[0;34m.\u001b[0m\u001b[0mpop\u001b[0m\u001b[0;34m(\u001b[0m\u001b[0;34m)\u001b[0m\u001b[0;34m\u001b[0m\u001b[0;34m\u001b[0m\u001b[0m\n\u001b[1;32m    122\u001b[0m             \u001b[0;32mtry\u001b[0m\u001b[0;34m:\u001b[0m\u001b[0;34m\u001b[0m\u001b[0;34m\u001b[0m\u001b[0m\n\u001b[0;32m--> 123\u001b[0;31m                 \u001b[0mmsg\u001b[0m \u001b[0;34m=\u001b[0m \u001b[0mplan_stack\u001b[0m\u001b[0;34m[\u001b[0m\u001b[0;34m-\u001b[0m\u001b[0;36m1\u001b[0m\u001b[0;34m]\u001b[0m\u001b[0;34m.\u001b[0m\u001b[0msend\u001b[0m\u001b[0;34m(\u001b[0m\u001b[0mret\u001b[0m\u001b[0;34m)\u001b[0m\u001b[0;34m\u001b[0m\u001b[0;34m\u001b[0m\u001b[0m\n\u001b[0m\u001b[1;32m    124\u001b[0m             \u001b[0;32mexcept\u001b[0m \u001b[0mStopIteration\u001b[0m \u001b[0;32mas\u001b[0m \u001b[0me\u001b[0m\u001b[0;34m:\u001b[0m\u001b[0;34m\u001b[0m\u001b[0;34m\u001b[0m\u001b[0m\n\u001b[1;32m    125\u001b[0m                 \u001b[0;31m# discard the exhausted generator\u001b[0m\u001b[0;34m\u001b[0m\u001b[0;34m\u001b[0m\u001b[0;34m\u001b[0m\u001b[0m\n",
      "\u001b[0;32m~/virtualenv/python3.7.1/lib/python3.7/site-packages/bluesky/preprocessors.py\u001b[0m in \u001b[0;36mfly_during_wrapper\u001b[0;34m(plan, flyers)\u001b[0m\n\u001b[1;32m    859\u001b[0m     \u001b[0mplan1\u001b[0m \u001b[0;34m=\u001b[0m \u001b[0mplan_mutator\u001b[0m\u001b[0;34m(\u001b[0m\u001b[0mplan\u001b[0m\u001b[0;34m,\u001b[0m \u001b[0minsert_after_open\u001b[0m\u001b[0;34m)\u001b[0m\u001b[0;34m\u001b[0m\u001b[0;34m\u001b[0m\u001b[0m\n\u001b[1;32m    860\u001b[0m     \u001b[0mplan2\u001b[0m \u001b[0;34m=\u001b[0m \u001b[0mplan_mutator\u001b[0m\u001b[0;34m(\u001b[0m\u001b[0mplan1\u001b[0m\u001b[0;34m,\u001b[0m \u001b[0minsert_before_close\u001b[0m\u001b[0;34m)\u001b[0m\u001b[0;34m\u001b[0m\u001b[0;34m\u001b[0m\u001b[0m\n\u001b[0;32m--> 861\u001b[0;31m     \u001b[0;32mreturn\u001b[0m \u001b[0;34m(\u001b[0m\u001b[0;32myield\u001b[0m \u001b[0;32mfrom\u001b[0m \u001b[0mplan2\u001b[0m\u001b[0;34m)\u001b[0m\u001b[0;34m\u001b[0m\u001b[0;34m\u001b[0m\u001b[0m\n\u001b[0m\u001b[1;32m    862\u001b[0m \u001b[0;34m\u001b[0m\u001b[0m\n\u001b[1;32m    863\u001b[0m \u001b[0;34m\u001b[0m\u001b[0m\n",
      "\u001b[0;32m~/virtualenv/python3.7.1/lib/python3.7/site-packages/bluesky/preprocessors.py\u001b[0m in \u001b[0;36mplan_mutator\u001b[0;34m(plan, msg_proc)\u001b[0m\n\u001b[1;32m    168\u001b[0m                     \u001b[0;32mcontinue\u001b[0m\u001b[0;34m\u001b[0m\u001b[0;34m\u001b[0m\u001b[0m\n\u001b[1;32m    169\u001b[0m                 \u001b[0;32melse\u001b[0m\u001b[0;34m:\u001b[0m\u001b[0;34m\u001b[0m\u001b[0;34m\u001b[0m\u001b[0m\n\u001b[0;32m--> 170\u001b[0;31m                     \u001b[0;32mraise\u001b[0m \u001b[0mex\u001b[0m\u001b[0;34m\u001b[0m\u001b[0;34m\u001b[0m\u001b[0m\n\u001b[0m\u001b[1;32m    171\u001b[0m         \u001b[0;31m# if inserting / mutating, put new generator on the stack\u001b[0m\u001b[0;34m\u001b[0m\u001b[0;34m\u001b[0m\u001b[0;34m\u001b[0m\u001b[0m\n\u001b[1;32m    172\u001b[0m         \u001b[0;31m# and replace the current msg with the first element from the\u001b[0m\u001b[0;34m\u001b[0m\u001b[0;34m\u001b[0m\u001b[0;34m\u001b[0m\u001b[0m\n",
      "\u001b[0;32m~/virtualenv/python3.7.1/lib/python3.7/site-packages/bluesky/preprocessors.py\u001b[0m in \u001b[0;36mplan_mutator\u001b[0;34m(plan, msg_proc)\u001b[0m\n\u001b[1;32m    121\u001b[0m             \u001b[0mret\u001b[0m \u001b[0;34m=\u001b[0m \u001b[0mresult_stack\u001b[0m\u001b[0;34m.\u001b[0m\u001b[0mpop\u001b[0m\u001b[0;34m(\u001b[0m\u001b[0;34m)\u001b[0m\u001b[0;34m\u001b[0m\u001b[0;34m\u001b[0m\u001b[0m\n\u001b[1;32m    122\u001b[0m             \u001b[0;32mtry\u001b[0m\u001b[0;34m:\u001b[0m\u001b[0;34m\u001b[0m\u001b[0;34m\u001b[0m\u001b[0m\n\u001b[0;32m--> 123\u001b[0;31m                 \u001b[0mmsg\u001b[0m \u001b[0;34m=\u001b[0m \u001b[0mplan_stack\u001b[0m\u001b[0;34m[\u001b[0m\u001b[0;34m-\u001b[0m\u001b[0;36m1\u001b[0m\u001b[0;34m]\u001b[0m\u001b[0;34m.\u001b[0m\u001b[0msend\u001b[0m\u001b[0;34m(\u001b[0m\u001b[0mret\u001b[0m\u001b[0;34m)\u001b[0m\u001b[0;34m\u001b[0m\u001b[0;34m\u001b[0m\u001b[0m\n\u001b[0m\u001b[1;32m    124\u001b[0m             \u001b[0;32mexcept\u001b[0m \u001b[0mStopIteration\u001b[0m \u001b[0;32mas\u001b[0m \u001b[0me\u001b[0m\u001b[0;34m:\u001b[0m\u001b[0;34m\u001b[0m\u001b[0;34m\u001b[0m\u001b[0m\n\u001b[1;32m    125\u001b[0m                 \u001b[0;31m# discard the exhausted generator\u001b[0m\u001b[0;34m\u001b[0m\u001b[0;34m\u001b[0m\u001b[0;34m\u001b[0m\u001b[0m\n",
      "\u001b[0;32m~/virtualenv/python3.7.1/lib/python3.7/site-packages/bluesky/preprocessors.py\u001b[0m in \u001b[0;36mplan_mutator\u001b[0;34m(plan, msg_proc)\u001b[0m\n\u001b[1;32m    168\u001b[0m                     \u001b[0;32mcontinue\u001b[0m\u001b[0;34m\u001b[0m\u001b[0;34m\u001b[0m\u001b[0m\n\u001b[1;32m    169\u001b[0m                 \u001b[0;32melse\u001b[0m\u001b[0;34m:\u001b[0m\u001b[0;34m\u001b[0m\u001b[0;34m\u001b[0m\u001b[0m\n\u001b[0;32m--> 170\u001b[0;31m                     \u001b[0;32mraise\u001b[0m \u001b[0mex\u001b[0m\u001b[0;34m\u001b[0m\u001b[0;34m\u001b[0m\u001b[0m\n\u001b[0m\u001b[1;32m    171\u001b[0m         \u001b[0;31m# if inserting / mutating, put new generator on the stack\u001b[0m\u001b[0;34m\u001b[0m\u001b[0;34m\u001b[0m\u001b[0;34m\u001b[0m\u001b[0m\n\u001b[1;32m    172\u001b[0m         \u001b[0;31m# and replace the current msg with the first element from the\u001b[0m\u001b[0;34m\u001b[0m\u001b[0;34m\u001b[0m\u001b[0;34m\u001b[0m\u001b[0m\n",
      "\u001b[0;32m~/virtualenv/python3.7.1/lib/python3.7/site-packages/bluesky/preprocessors.py\u001b[0m in \u001b[0;36mplan_mutator\u001b[0;34m(plan, msg_proc)\u001b[0m\n\u001b[1;32m    121\u001b[0m             \u001b[0mret\u001b[0m \u001b[0;34m=\u001b[0m \u001b[0mresult_stack\u001b[0m\u001b[0;34m.\u001b[0m\u001b[0mpop\u001b[0m\u001b[0;34m(\u001b[0m\u001b[0;34m)\u001b[0m\u001b[0;34m\u001b[0m\u001b[0;34m\u001b[0m\u001b[0m\n\u001b[1;32m    122\u001b[0m             \u001b[0;32mtry\u001b[0m\u001b[0;34m:\u001b[0m\u001b[0;34m\u001b[0m\u001b[0;34m\u001b[0m\u001b[0m\n\u001b[0;32m--> 123\u001b[0;31m                 \u001b[0mmsg\u001b[0m \u001b[0;34m=\u001b[0m \u001b[0mplan_stack\u001b[0m\u001b[0;34m[\u001b[0m\u001b[0;34m-\u001b[0m\u001b[0;36m1\u001b[0m\u001b[0;34m]\u001b[0m\u001b[0;34m.\u001b[0m\u001b[0msend\u001b[0m\u001b[0;34m(\u001b[0m\u001b[0mret\u001b[0m\u001b[0;34m)\u001b[0m\u001b[0;34m\u001b[0m\u001b[0;34m\u001b[0m\u001b[0m\n\u001b[0m\u001b[1;32m    124\u001b[0m             \u001b[0;32mexcept\u001b[0m \u001b[0mStopIteration\u001b[0m \u001b[0;32mas\u001b[0m \u001b[0me\u001b[0m\u001b[0;34m:\u001b[0m\u001b[0;34m\u001b[0m\u001b[0;34m\u001b[0m\u001b[0m\n\u001b[1;32m    125\u001b[0m                 \u001b[0;31m# discard the exhausted generator\u001b[0m\u001b[0;34m\u001b[0m\u001b[0;34m\u001b[0m\u001b[0;34m\u001b[0m\u001b[0m\n",
      "\u001b[0;32m~/virtualenv/python3.7.1/lib/python3.7/site-packages/bluesky/plans.py\u001b[0m in \u001b[0;36mscan\u001b[0;34m(detectors, num, per_step, md, *args)\u001b[0m\n\u001b[1;32m   1099\u001b[0m \u001b[0;34m\u001b[0m\u001b[0m\n\u001b[1;32m   1100\u001b[0m     return (yield from scan_nd(detectors, full_cycler,\n\u001b[0;32m-> 1101\u001b[0;31m                                per_step=per_step, md=_md))\n\u001b[0m\u001b[1;32m   1102\u001b[0m \u001b[0;34m\u001b[0m\u001b[0m\n\u001b[1;32m   1103\u001b[0m \u001b[0;34m\u001b[0m\u001b[0m\n",
      "\u001b[0;32m~/virtualenv/python3.7.1/lib/python3.7/site-packages/bluesky/plans.py\u001b[0m in \u001b[0;36mscan_nd\u001b[0;34m(detectors, cycler, per_step, md)\u001b[0m\n\u001b[1;32m    993\u001b[0m             \u001b[0;32myield\u001b[0m \u001b[0;32mfrom\u001b[0m \u001b[0mper_step\u001b[0m\u001b[0;34m(\u001b[0m\u001b[0mdetectors\u001b[0m\u001b[0;34m,\u001b[0m \u001b[0mstep\u001b[0m\u001b[0;34m,\u001b[0m \u001b[0mpos_cache\u001b[0m\u001b[0;34m)\u001b[0m\u001b[0;34m\u001b[0m\u001b[0;34m\u001b[0m\u001b[0m\n\u001b[1;32m    994\u001b[0m \u001b[0;34m\u001b[0m\u001b[0m\n\u001b[0;32m--> 995\u001b[0;31m     \u001b[0;32mreturn\u001b[0m \u001b[0;34m(\u001b[0m\u001b[0;32myield\u001b[0m \u001b[0;32mfrom\u001b[0m \u001b[0minner_scan_nd\u001b[0m\u001b[0;34m(\u001b[0m\u001b[0;34m)\u001b[0m\u001b[0;34m)\u001b[0m\u001b[0;34m\u001b[0m\u001b[0;34m\u001b[0m\u001b[0m\n\u001b[0m\u001b[1;32m    996\u001b[0m \u001b[0;34m\u001b[0m\u001b[0m\n\u001b[1;32m    997\u001b[0m \u001b[0;34m\u001b[0m\u001b[0m\n",
      "\u001b[0;32m~/virtualenv/python3.7.1/lib/python3.7/site-packages/bluesky/utils.py\u001b[0m in \u001b[0;36mdec_inner\u001b[0;34m(*inner_args, **inner_kwargs)\u001b[0m\n\u001b[1;32m   1044\u001b[0m                 \u001b[0mplan\u001b[0m \u001b[0;34m=\u001b[0m \u001b[0mgen_func\u001b[0m\u001b[0;34m(\u001b[0m\u001b[0;34m*\u001b[0m\u001b[0minner_args\u001b[0m\u001b[0;34m,\u001b[0m \u001b[0;34m**\u001b[0m\u001b[0minner_kwargs\u001b[0m\u001b[0;34m)\u001b[0m\u001b[0;34m\u001b[0m\u001b[0;34m\u001b[0m\u001b[0m\n\u001b[1;32m   1045\u001b[0m                 \u001b[0mplan\u001b[0m \u001b[0;34m=\u001b[0m \u001b[0mwrapper\u001b[0m\u001b[0;34m(\u001b[0m\u001b[0mplan\u001b[0m\u001b[0;34m,\u001b[0m \u001b[0;34m*\u001b[0m\u001b[0margs\u001b[0m\u001b[0;34m,\u001b[0m \u001b[0;34m**\u001b[0m\u001b[0mkwargs\u001b[0m\u001b[0;34m)\u001b[0m\u001b[0;34m\u001b[0m\u001b[0;34m\u001b[0m\u001b[0m\n\u001b[0;32m-> 1046\u001b[0;31m                 \u001b[0;32mreturn\u001b[0m \u001b[0;34m(\u001b[0m\u001b[0;32myield\u001b[0m \u001b[0;32mfrom\u001b[0m \u001b[0mplan\u001b[0m\u001b[0;34m)\u001b[0m\u001b[0;34m\u001b[0m\u001b[0;34m\u001b[0m\u001b[0m\n\u001b[0m\u001b[1;32m   1047\u001b[0m             \u001b[0;32mreturn\u001b[0m \u001b[0mdec_inner\u001b[0m\u001b[0;34m\u001b[0m\u001b[0;34m\u001b[0m\u001b[0m\n\u001b[1;32m   1048\u001b[0m         \u001b[0;32mreturn\u001b[0m \u001b[0mdec\u001b[0m\u001b[0;34m\u001b[0m\u001b[0;34m\u001b[0m\u001b[0m\n",
      "\u001b[0;32m~/virtualenv/python3.7.1/lib/python3.7/site-packages/bluesky/preprocessors.py\u001b[0m in \u001b[0;36mstage_wrapper\u001b[0;34m(plan, devices)\u001b[0m\n\u001b[1;32m    950\u001b[0m         \u001b[0;32mreturn\u001b[0m \u001b[0;34m(\u001b[0m\u001b[0;32myield\u001b[0m \u001b[0;32mfrom\u001b[0m \u001b[0mplan\u001b[0m\u001b[0;34m)\u001b[0m\u001b[0;34m\u001b[0m\u001b[0;34m\u001b[0m\u001b[0m\n\u001b[1;32m    951\u001b[0m \u001b[0;34m\u001b[0m\u001b[0m\n\u001b[0;32m--> 952\u001b[0;31m     \u001b[0;32mreturn\u001b[0m \u001b[0;34m(\u001b[0m\u001b[0;32myield\u001b[0m \u001b[0;32mfrom\u001b[0m \u001b[0mfinalize_wrapper\u001b[0m\u001b[0;34m(\u001b[0m\u001b[0minner\u001b[0m\u001b[0;34m(\u001b[0m\u001b[0;34m)\u001b[0m\u001b[0;34m,\u001b[0m \u001b[0munstage_devices\u001b[0m\u001b[0;34m(\u001b[0m\u001b[0;34m)\u001b[0m\u001b[0;34m)\u001b[0m\u001b[0;34m)\u001b[0m\u001b[0;34m\u001b[0m\u001b[0;34m\u001b[0m\u001b[0m\n\u001b[0m\u001b[1;32m    953\u001b[0m \u001b[0;34m\u001b[0m\u001b[0m\n\u001b[1;32m    954\u001b[0m \u001b[0;34m\u001b[0m\u001b[0m\n",
      "\u001b[0;32m~/virtualenv/python3.7.1/lib/python3.7/site-packages/bluesky/preprocessors.py\u001b[0m in \u001b[0;36mfinalize_wrapper\u001b[0;34m(plan, final_plan, pause_for_debug)\u001b[0m\n\u001b[1;32m    507\u001b[0m     \u001b[0mcleanup\u001b[0m \u001b[0;34m=\u001b[0m \u001b[0;32mTrue\u001b[0m\u001b[0;34m\u001b[0m\u001b[0;34m\u001b[0m\u001b[0m\n\u001b[1;32m    508\u001b[0m     \u001b[0;32mtry\u001b[0m\u001b[0;34m:\u001b[0m\u001b[0;34m\u001b[0m\u001b[0;34m\u001b[0m\u001b[0m\n\u001b[0;32m--> 509\u001b[0;31m         \u001b[0mret\u001b[0m \u001b[0;34m=\u001b[0m \u001b[0;32myield\u001b[0m \u001b[0;32mfrom\u001b[0m \u001b[0mplan\u001b[0m\u001b[0;34m\u001b[0m\u001b[0;34m\u001b[0m\u001b[0m\n\u001b[0m\u001b[1;32m    510\u001b[0m     \u001b[0;32mexcept\u001b[0m \u001b[0mGeneratorExit\u001b[0m\u001b[0;34m:\u001b[0m\u001b[0;34m\u001b[0m\u001b[0;34m\u001b[0m\u001b[0m\n\u001b[1;32m    511\u001b[0m         \u001b[0mcleanup\u001b[0m \u001b[0;34m=\u001b[0m \u001b[0;32mFalse\u001b[0m\u001b[0;34m\u001b[0m\u001b[0;34m\u001b[0m\u001b[0m\n",
      "\u001b[0;32m~/virtualenv/python3.7.1/lib/python3.7/site-packages/bluesky/preprocessors.py\u001b[0m in \u001b[0;36minner\u001b[0;34m()\u001b[0m\n\u001b[1;32m    948\u001b[0m     \u001b[0;32mdef\u001b[0m \u001b[0minner\u001b[0m\u001b[0;34m(\u001b[0m\u001b[0;34m)\u001b[0m\u001b[0;34m:\u001b[0m\u001b[0;34m\u001b[0m\u001b[0;34m\u001b[0m\u001b[0m\n\u001b[1;32m    949\u001b[0m         \u001b[0;32myield\u001b[0m \u001b[0;32mfrom\u001b[0m \u001b[0mstage_devices\u001b[0m\u001b[0;34m(\u001b[0m\u001b[0;34m)\u001b[0m\u001b[0;34m\u001b[0m\u001b[0;34m\u001b[0m\u001b[0m\n\u001b[0;32m--> 950\u001b[0;31m         \u001b[0;32mreturn\u001b[0m \u001b[0;34m(\u001b[0m\u001b[0;32myield\u001b[0m \u001b[0;32mfrom\u001b[0m \u001b[0mplan\u001b[0m\u001b[0;34m)\u001b[0m\u001b[0;34m\u001b[0m\u001b[0;34m\u001b[0m\u001b[0m\n\u001b[0m\u001b[1;32m    951\u001b[0m \u001b[0;34m\u001b[0m\u001b[0m\n\u001b[1;32m    952\u001b[0m     \u001b[0;32mreturn\u001b[0m \u001b[0;34m(\u001b[0m\u001b[0;32myield\u001b[0m \u001b[0;32mfrom\u001b[0m \u001b[0mfinalize_wrapper\u001b[0m\u001b[0;34m(\u001b[0m\u001b[0minner\u001b[0m\u001b[0;34m(\u001b[0m\u001b[0;34m)\u001b[0m\u001b[0;34m,\u001b[0m \u001b[0munstage_devices\u001b[0m\u001b[0;34m(\u001b[0m\u001b[0;34m)\u001b[0m\u001b[0;34m)\u001b[0m\u001b[0;34m)\u001b[0m\u001b[0;34m\u001b[0m\u001b[0;34m\u001b[0m\u001b[0m\n",
      "\u001b[0;32m~/virtualenv/python3.7.1/lib/python3.7/site-packages/bluesky/utils.py\u001b[0m in \u001b[0;36mdec_inner\u001b[0;34m(*inner_args, **inner_kwargs)\u001b[0m\n\u001b[1;32m   1044\u001b[0m                 \u001b[0mplan\u001b[0m \u001b[0;34m=\u001b[0m \u001b[0mgen_func\u001b[0m\u001b[0;34m(\u001b[0m\u001b[0;34m*\u001b[0m\u001b[0minner_args\u001b[0m\u001b[0;34m,\u001b[0m \u001b[0;34m**\u001b[0m\u001b[0minner_kwargs\u001b[0m\u001b[0;34m)\u001b[0m\u001b[0;34m\u001b[0m\u001b[0;34m\u001b[0m\u001b[0m\n\u001b[1;32m   1045\u001b[0m                 \u001b[0mplan\u001b[0m \u001b[0;34m=\u001b[0m \u001b[0mwrapper\u001b[0m\u001b[0;34m(\u001b[0m\u001b[0mplan\u001b[0m\u001b[0;34m,\u001b[0m \u001b[0;34m*\u001b[0m\u001b[0margs\u001b[0m\u001b[0;34m,\u001b[0m \u001b[0;34m**\u001b[0m\u001b[0mkwargs\u001b[0m\u001b[0;34m)\u001b[0m\u001b[0;34m\u001b[0m\u001b[0;34m\u001b[0m\u001b[0m\n\u001b[0;32m-> 1046\u001b[0;31m                 \u001b[0;32mreturn\u001b[0m \u001b[0;34m(\u001b[0m\u001b[0;32myield\u001b[0m \u001b[0;32mfrom\u001b[0m \u001b[0mplan\u001b[0m\u001b[0;34m)\u001b[0m\u001b[0;34m\u001b[0m\u001b[0;34m\u001b[0m\u001b[0m\n\u001b[0m\u001b[1;32m   1047\u001b[0m             \u001b[0;32mreturn\u001b[0m \u001b[0mdec_inner\u001b[0m\u001b[0;34m\u001b[0m\u001b[0;34m\u001b[0m\u001b[0m\n\u001b[1;32m   1048\u001b[0m         \u001b[0;32mreturn\u001b[0m \u001b[0mdec\u001b[0m\u001b[0;34m\u001b[0m\u001b[0;34m\u001b[0m\u001b[0m\n",
      "\u001b[0;32m~/virtualenv/python3.7.1/lib/python3.7/site-packages/bluesky/preprocessors.py\u001b[0m in \u001b[0;36mrun_wrapper\u001b[0;34m(plan, md)\u001b[0m\n\u001b[1;32m    325\u001b[0m     yield from contingency_wrapper(plan,\n\u001b[1;32m    326\u001b[0m                                    \u001b[0mexcept_plan\u001b[0m\u001b[0;34m=\u001b[0m\u001b[0mexcept_plan\u001b[0m\u001b[0;34m,\u001b[0m\u001b[0;34m\u001b[0m\u001b[0;34m\u001b[0m\u001b[0m\n\u001b[0;32m--> 327\u001b[0;31m                                    else_plan=close_run)\n\u001b[0m\u001b[1;32m    328\u001b[0m     \u001b[0;32mreturn\u001b[0m \u001b[0mrs_uid\u001b[0m\u001b[0;34m\u001b[0m\u001b[0;34m\u001b[0m\u001b[0m\n\u001b[1;32m    329\u001b[0m \u001b[0;34m\u001b[0m\u001b[0m\n",
      "\u001b[0;32m~/virtualenv/python3.7.1/lib/python3.7/site-packages/bluesky/preprocessors.py\u001b[0m in \u001b[0;36mcontingency_wrapper\u001b[0;34m(plan, except_plan, else_plan, final_plan, pause_for_debug)\u001b[0m\n\u001b[1;32m    573\u001b[0m     \u001b[0mcleanup\u001b[0m \u001b[0;34m=\u001b[0m \u001b[0;32mTrue\u001b[0m\u001b[0;34m\u001b[0m\u001b[0;34m\u001b[0m\u001b[0m\n\u001b[1;32m    574\u001b[0m     \u001b[0;32mtry\u001b[0m\u001b[0;34m:\u001b[0m\u001b[0;34m\u001b[0m\u001b[0;34m\u001b[0m\u001b[0m\n\u001b[0;32m--> 575\u001b[0;31m         \u001b[0mret\u001b[0m \u001b[0;34m=\u001b[0m \u001b[0;32myield\u001b[0m \u001b[0;32mfrom\u001b[0m \u001b[0mplan\u001b[0m\u001b[0;34m\u001b[0m\u001b[0;34m\u001b[0m\u001b[0m\n\u001b[0m\u001b[1;32m    576\u001b[0m     \u001b[0;32mexcept\u001b[0m \u001b[0mGeneratorExit\u001b[0m\u001b[0;34m:\u001b[0m\u001b[0;34m\u001b[0m\u001b[0;34m\u001b[0m\u001b[0m\n\u001b[1;32m    577\u001b[0m         \u001b[0mcleanup\u001b[0m \u001b[0;34m=\u001b[0m \u001b[0;32mFalse\u001b[0m\u001b[0;34m\u001b[0m\u001b[0;34m\u001b[0m\u001b[0m\n",
      "\u001b[0;32m~/virtualenv/python3.7.1/lib/python3.7/site-packages/bluesky/plans.py\u001b[0m in \u001b[0;36minner_scan_nd\u001b[0;34m()\u001b[0m\n\u001b[1;32m    991\u001b[0m     \u001b[0;32mdef\u001b[0m \u001b[0minner_scan_nd\u001b[0m\u001b[0;34m(\u001b[0m\u001b[0;34m)\u001b[0m\u001b[0;34m:\u001b[0m\u001b[0;34m\u001b[0m\u001b[0;34m\u001b[0m\u001b[0m\n\u001b[1;32m    992\u001b[0m         \u001b[0;32mfor\u001b[0m \u001b[0mstep\u001b[0m \u001b[0;32min\u001b[0m \u001b[0mlist\u001b[0m\u001b[0;34m(\u001b[0m\u001b[0mcycler\u001b[0m\u001b[0;34m)\u001b[0m\u001b[0;34m:\u001b[0m\u001b[0;34m\u001b[0m\u001b[0;34m\u001b[0m\u001b[0m\n\u001b[0;32m--> 993\u001b[0;31m             \u001b[0;32myield\u001b[0m \u001b[0;32mfrom\u001b[0m \u001b[0mper_step\u001b[0m\u001b[0;34m(\u001b[0m\u001b[0mdetectors\u001b[0m\u001b[0;34m,\u001b[0m \u001b[0mstep\u001b[0m\u001b[0;34m,\u001b[0m \u001b[0mpos_cache\u001b[0m\u001b[0;34m)\u001b[0m\u001b[0;34m\u001b[0m\u001b[0;34m\u001b[0m\u001b[0m\n\u001b[0m\u001b[1;32m    994\u001b[0m \u001b[0;34m\u001b[0m\u001b[0m\n\u001b[1;32m    995\u001b[0m     \u001b[0;32mreturn\u001b[0m \u001b[0;34m(\u001b[0m\u001b[0;32myield\u001b[0m \u001b[0;32mfrom\u001b[0m \u001b[0minner_scan_nd\u001b[0m\u001b[0;34m(\u001b[0m\u001b[0;34m)\u001b[0m\u001b[0;34m)\u001b[0m\u001b[0;34m\u001b[0m\u001b[0;34m\u001b[0m\u001b[0m\n",
      "\u001b[0;32m~/virtualenv/python3.7.1/lib/python3.7/site-packages/bluesky/plan_stubs.py\u001b[0m in \u001b[0;36mone_nd_step\u001b[0;34m(detectors, step, pos_cache, take_reading)\u001b[0m\n\u001b[1;32m   1112\u001b[0m     \"\"\"\n\u001b[1;32m   1113\u001b[0m     \u001b[0mmotors\u001b[0m \u001b[0;34m=\u001b[0m \u001b[0mstep\u001b[0m\u001b[0;34m.\u001b[0m\u001b[0mkeys\u001b[0m\u001b[0;34m(\u001b[0m\u001b[0;34m)\u001b[0m\u001b[0;34m\u001b[0m\u001b[0;34m\u001b[0m\u001b[0m\n\u001b[0;32m-> 1114\u001b[0;31m     \u001b[0;32myield\u001b[0m \u001b[0;32mfrom\u001b[0m \u001b[0mmove_per_step\u001b[0m\u001b[0;34m(\u001b[0m\u001b[0mstep\u001b[0m\u001b[0;34m,\u001b[0m \u001b[0mpos_cache\u001b[0m\u001b[0;34m)\u001b[0m\u001b[0;34m\u001b[0m\u001b[0;34m\u001b[0m\u001b[0m\n\u001b[0m\u001b[1;32m   1115\u001b[0m     \u001b[0;32myield\u001b[0m \u001b[0;32mfrom\u001b[0m \u001b[0mtake_reading\u001b[0m\u001b[0;34m(\u001b[0m\u001b[0mlist\u001b[0m\u001b[0;34m(\u001b[0m\u001b[0mdetectors\u001b[0m\u001b[0;34m)\u001b[0m \u001b[0;34m+\u001b[0m \u001b[0mlist\u001b[0m\u001b[0;34m(\u001b[0m\u001b[0mmotors\u001b[0m\u001b[0;34m)\u001b[0m\u001b[0;34m)\u001b[0m\u001b[0;34m\u001b[0m\u001b[0;34m\u001b[0m\u001b[0m\n\u001b[1;32m   1116\u001b[0m \u001b[0;34m\u001b[0m\u001b[0m\n",
      "\u001b[0;32m~/virtualenv/python3.7.1/lib/python3.7/site-packages/bluesky/plan_stubs.py\u001b[0m in \u001b[0;36mmove_per_step\u001b[0;34m(step, pos_cache)\u001b[0m\n\u001b[1;32m   1082\u001b[0m             \u001b[0;31m# This step does not move this motor.\u001b[0m\u001b[0;34m\u001b[0m\u001b[0;34m\u001b[0m\u001b[0;34m\u001b[0m\u001b[0m\n\u001b[1;32m   1083\u001b[0m             \u001b[0;32mcontinue\u001b[0m\u001b[0;34m\u001b[0m\u001b[0;34m\u001b[0m\u001b[0m\n\u001b[0;32m-> 1084\u001b[0;31m         \u001b[0;32myield\u001b[0m \u001b[0mMsg\u001b[0m\u001b[0;34m(\u001b[0m\u001b[0;34m'set'\u001b[0m\u001b[0;34m,\u001b[0m \u001b[0mmotor\u001b[0m\u001b[0;34m,\u001b[0m \u001b[0mpos\u001b[0m\u001b[0;34m,\u001b[0m \u001b[0mgroup\u001b[0m\u001b[0;34m=\u001b[0m\u001b[0mgrp\u001b[0m\u001b[0;34m)\u001b[0m\u001b[0;34m\u001b[0m\u001b[0;34m\u001b[0m\u001b[0m\n\u001b[0m\u001b[1;32m   1085\u001b[0m         \u001b[0mpos_cache\u001b[0m\u001b[0;34m[\u001b[0m\u001b[0mmotor\u001b[0m\u001b[0;34m]\u001b[0m \u001b[0;34m=\u001b[0m \u001b[0mpos\u001b[0m\u001b[0;34m\u001b[0m\u001b[0;34m\u001b[0m\u001b[0m\n\u001b[1;32m   1086\u001b[0m     \u001b[0;32myield\u001b[0m \u001b[0mMsg\u001b[0m\u001b[0;34m(\u001b[0m\u001b[0;34m'wait'\u001b[0m\u001b[0;34m,\u001b[0m \u001b[0;32mNone\u001b[0m\u001b[0;34m,\u001b[0m \u001b[0mgroup\u001b[0m\u001b[0;34m=\u001b[0m\u001b[0mgrp\u001b[0m\u001b[0;34m)\u001b[0m\u001b[0;34m\u001b[0m\u001b[0;34m\u001b[0m\u001b[0m\n",
      "\u001b[0;32m~/virtualenv/python3.7.1/lib/python3.7/site-packages/bluesky/preprocessors.py\u001b[0m in \u001b[0;36mplan_mutator\u001b[0;34m(plan, msg_proc)\u001b[0m\n\u001b[1;32m    193\u001b[0m         \u001b[0;32mtry\u001b[0m\u001b[0;34m:\u001b[0m\u001b[0;34m\u001b[0m\u001b[0;34m\u001b[0m\u001b[0m\n\u001b[1;32m    194\u001b[0m             \u001b[0;31m# yield out the 'current message' and collect the return\u001b[0m\u001b[0;34m\u001b[0m\u001b[0;34m\u001b[0m\u001b[0;34m\u001b[0m\u001b[0m\n\u001b[0;32m--> 195\u001b[0;31m             \u001b[0minner_ret\u001b[0m \u001b[0;34m=\u001b[0m \u001b[0;32myield\u001b[0m \u001b[0mmsg\u001b[0m\u001b[0;34m\u001b[0m\u001b[0;34m\u001b[0m\u001b[0m\n\u001b[0m\u001b[1;32m    196\u001b[0m         \u001b[0;32mexcept\u001b[0m \u001b[0mGeneratorExit\u001b[0m\u001b[0;34m:\u001b[0m\u001b[0;34m\u001b[0m\u001b[0;34m\u001b[0m\u001b[0m\n\u001b[1;32m    197\u001b[0m             \u001b[0;31m# special case GeneratorExit.  We must clean up all of our plans\u001b[0m\u001b[0;34m\u001b[0m\u001b[0;34m\u001b[0m\u001b[0;34m\u001b[0m\u001b[0m\n",
      "\u001b[0;32m~/virtualenv/python3.7.1/lib/python3.7/site-packages/bluesky/preprocessors.py\u001b[0m in \u001b[0;36mplan_mutator\u001b[0;34m(plan, msg_proc)\u001b[0m\n\u001b[1;32m    193\u001b[0m         \u001b[0;32mtry\u001b[0m\u001b[0;34m:\u001b[0m\u001b[0;34m\u001b[0m\u001b[0;34m\u001b[0m\u001b[0m\n\u001b[1;32m    194\u001b[0m             \u001b[0;31m# yield out the 'current message' and collect the return\u001b[0m\u001b[0;34m\u001b[0m\u001b[0;34m\u001b[0m\u001b[0;34m\u001b[0m\u001b[0m\n\u001b[0;32m--> 195\u001b[0;31m             \u001b[0minner_ret\u001b[0m \u001b[0;34m=\u001b[0m \u001b[0;32myield\u001b[0m \u001b[0mmsg\u001b[0m\u001b[0;34m\u001b[0m\u001b[0;34m\u001b[0m\u001b[0m\n\u001b[0m\u001b[1;32m    196\u001b[0m         \u001b[0;32mexcept\u001b[0m \u001b[0mGeneratorExit\u001b[0m\u001b[0;34m:\u001b[0m\u001b[0;34m\u001b[0m\u001b[0;34m\u001b[0m\u001b[0m\n\u001b[1;32m    197\u001b[0m             \u001b[0;31m# special case GeneratorExit.  We must clean up all of our plans\u001b[0m\u001b[0;34m\u001b[0m\u001b[0;34m\u001b[0m\u001b[0;34m\u001b[0m\u001b[0m\n",
      "\u001b[0;32m~/virtualenv/python3.7.1/lib/python3.7/site-packages/bluesky/preprocessors.py\u001b[0m in \u001b[0;36mplan_mutator\u001b[0;34m(plan, msg_proc)\u001b[0m\n\u001b[1;32m    193\u001b[0m         \u001b[0;32mtry\u001b[0m\u001b[0;34m:\u001b[0m\u001b[0;34m\u001b[0m\u001b[0;34m\u001b[0m\u001b[0m\n\u001b[1;32m    194\u001b[0m             \u001b[0;31m# yield out the 'current message' and collect the return\u001b[0m\u001b[0;34m\u001b[0m\u001b[0;34m\u001b[0m\u001b[0;34m\u001b[0m\u001b[0m\n\u001b[0;32m--> 195\u001b[0;31m             \u001b[0minner_ret\u001b[0m \u001b[0;34m=\u001b[0m \u001b[0;32myield\u001b[0m \u001b[0mmsg\u001b[0m\u001b[0;34m\u001b[0m\u001b[0;34m\u001b[0m\u001b[0m\n\u001b[0m\u001b[1;32m    196\u001b[0m         \u001b[0;32mexcept\u001b[0m \u001b[0mGeneratorExit\u001b[0m\u001b[0;34m:\u001b[0m\u001b[0;34m\u001b[0m\u001b[0;34m\u001b[0m\u001b[0m\n\u001b[1;32m    197\u001b[0m             \u001b[0;31m# special case GeneratorExit.  We must clean up all of our plans\u001b[0m\u001b[0;34m\u001b[0m\u001b[0;34m\u001b[0m\u001b[0;34m\u001b[0m\u001b[0m\n",
      "\u001b[0;32m~/virtualenv/python3.7.1/lib/python3.7/site-packages/bluesky/preprocessors.py\u001b[0m in \u001b[0;36mplan_mutator\u001b[0;34m(plan, msg_proc)\u001b[0m\n\u001b[1;32m    193\u001b[0m         \u001b[0;32mtry\u001b[0m\u001b[0;34m:\u001b[0m\u001b[0;34m\u001b[0m\u001b[0;34m\u001b[0m\u001b[0m\n\u001b[1;32m    194\u001b[0m             \u001b[0;31m# yield out the 'current message' and collect the return\u001b[0m\u001b[0;34m\u001b[0m\u001b[0;34m\u001b[0m\u001b[0;34m\u001b[0m\u001b[0m\n\u001b[0;32m--> 195\u001b[0;31m             \u001b[0minner_ret\u001b[0m \u001b[0;34m=\u001b[0m \u001b[0;32myield\u001b[0m \u001b[0mmsg\u001b[0m\u001b[0;34m\u001b[0m\u001b[0;34m\u001b[0m\u001b[0m\n\u001b[0m\u001b[1;32m    196\u001b[0m         \u001b[0;32mexcept\u001b[0m \u001b[0mGeneratorExit\u001b[0m\u001b[0;34m:\u001b[0m\u001b[0;34m\u001b[0m\u001b[0;34m\u001b[0m\u001b[0m\n\u001b[1;32m    197\u001b[0m             \u001b[0;31m# special case GeneratorExit.  We must clean up all of our plans\u001b[0m\u001b[0;34m\u001b[0m\u001b[0;34m\u001b[0m\u001b[0;34m\u001b[0m\u001b[0m\n",
      "\u001b[0;32m~/virtualenv/python3.7.1/lib/python3.7/site-packages/bluesky/run_engine.py\u001b[0m in \u001b[0;36m_run\u001b[0;34m(self)\u001b[0m\n\u001b[1;32m   1411\u001b[0m                         \u001b[0;31m# exceptions (coming in via throw) can be\u001b[0m\u001b[0;34m\u001b[0m\u001b[0;34m\u001b[0m\u001b[0;34m\u001b[0m\u001b[0m\n\u001b[1;32m   1412\u001b[0m                         \u001b[0;31m# raised\u001b[0m\u001b[0;34m\u001b[0m\u001b[0;34m\u001b[0m\u001b[0;34m\u001b[0m\u001b[0m\n\u001b[0;32m-> 1413\u001b[0;31m                         \u001b[0mnew_response\u001b[0m \u001b[0;34m=\u001b[0m \u001b[0;32mawait\u001b[0m \u001b[0mcoro\u001b[0m\u001b[0;34m(\u001b[0m\u001b[0mmsg\u001b[0m\u001b[0;34m)\u001b[0m\u001b[0;34m\u001b[0m\u001b[0;34m\u001b[0m\u001b[0m\n\u001b[0m\u001b[1;32m   1414\u001b[0m \u001b[0;34m\u001b[0m\u001b[0m\n\u001b[1;32m   1415\u001b[0m                     \u001b[0;31m# special case `CancelledError` and let the outer\u001b[0m\u001b[0;34m\u001b[0m\u001b[0;34m\u001b[0m\u001b[0;34m\u001b[0m\u001b[0m\n",
      "\u001b[0;32m~/virtualenv/python3.7.1/lib/python3.7/site-packages/bluesky/run_engine.py\u001b[0m in \u001b[0;36m_set\u001b[0;34m(self, msg)\u001b[0m\n\u001b[1;32m   1907\u001b[0m         \u001b[0mgroup\u001b[0m \u001b[0;34m=\u001b[0m \u001b[0mkwargs\u001b[0m\u001b[0;34m.\u001b[0m\u001b[0mpop\u001b[0m\u001b[0;34m(\u001b[0m\u001b[0;34m'group'\u001b[0m\u001b[0;34m,\u001b[0m \u001b[0;32mNone\u001b[0m\u001b[0;34m)\u001b[0m\u001b[0;34m\u001b[0m\u001b[0;34m\u001b[0m\u001b[0m\n\u001b[1;32m   1908\u001b[0m         \u001b[0mself\u001b[0m\u001b[0;34m.\u001b[0m\u001b[0m_movable_objs_touched\u001b[0m\u001b[0;34m.\u001b[0m\u001b[0madd\u001b[0m\u001b[0;34m(\u001b[0m\u001b[0mmsg\u001b[0m\u001b[0;34m.\u001b[0m\u001b[0mobj\u001b[0m\u001b[0;34m)\u001b[0m\u001b[0;34m\u001b[0m\u001b[0;34m\u001b[0m\u001b[0m\n\u001b[0;32m-> 1909\u001b[0;31m         \u001b[0mret\u001b[0m \u001b[0;34m=\u001b[0m \u001b[0mmsg\u001b[0m\u001b[0;34m.\u001b[0m\u001b[0mobj\u001b[0m\u001b[0;34m.\u001b[0m\u001b[0mset\u001b[0m\u001b[0;34m(\u001b[0m\u001b[0;34m*\u001b[0m\u001b[0mmsg\u001b[0m\u001b[0;34m.\u001b[0m\u001b[0margs\u001b[0m\u001b[0;34m,\u001b[0m \u001b[0;34m**\u001b[0m\u001b[0mkwargs\u001b[0m\u001b[0;34m)\u001b[0m\u001b[0;34m\u001b[0m\u001b[0;34m\u001b[0m\u001b[0m\n\u001b[0m\u001b[1;32m   1910\u001b[0m         \u001b[0mp_event\u001b[0m \u001b[0;34m=\u001b[0m \u001b[0masyncio\u001b[0m\u001b[0;34m.\u001b[0m\u001b[0mEvent\u001b[0m\u001b[0;34m(\u001b[0m\u001b[0mloop\u001b[0m\u001b[0;34m=\u001b[0m\u001b[0mself\u001b[0m\u001b[0;34m.\u001b[0m\u001b[0mloop\u001b[0m\u001b[0;34m)\u001b[0m\u001b[0;34m\u001b[0m\u001b[0;34m\u001b[0m\u001b[0m\n\u001b[1;32m   1911\u001b[0m         \u001b[0mpardon_failures\u001b[0m \u001b[0;34m=\u001b[0m \u001b[0mself\u001b[0m\u001b[0;34m.\u001b[0m\u001b[0m_pardon_failures\u001b[0m\u001b[0;34m\u001b[0m\u001b[0;34m\u001b[0m\u001b[0m\n",
      "\u001b[0;32m~/virtualenv/python3.7.1/lib/python3.7/site-packages/ophyd/device.py\u001b[0m in \u001b[0;36m__getattr__\u001b[0;34m(self, name)\u001b[0m\n\u001b[1;32m   1195\u001b[0m         \u001b[0;31m# Components will be instantiated through the descriptor mechanism in\u001b[0m\u001b[0;34m\u001b[0m\u001b[0;34m\u001b[0m\u001b[0;34m\u001b[0m\u001b[0m\n\u001b[1;32m   1196\u001b[0m         \u001b[0;31m# the Component class, so anything reaching this point is an error.\u001b[0m\u001b[0;34m\u001b[0m\u001b[0;34m\u001b[0m\u001b[0;34m\u001b[0m\u001b[0m\n\u001b[0;32m-> 1197\u001b[0;31m         \u001b[0;32mraise\u001b[0m \u001b[0mAttributeError\u001b[0m\u001b[0;34m(\u001b[0m\u001b[0mname\u001b[0m\u001b[0;34m)\u001b[0m\u001b[0;34m\u001b[0m\u001b[0;34m\u001b[0m\u001b[0m\n\u001b[0m\u001b[1;32m   1198\u001b[0m \u001b[0;34m\u001b[0m\u001b[0m\n\u001b[1;32m   1199\u001b[0m     \u001b[0;32mdef\u001b[0m \u001b[0m_instantiate_component\u001b[0m\u001b[0;34m(\u001b[0m\u001b[0mself\u001b[0m\u001b[0;34m,\u001b[0m \u001b[0mattr\u001b[0m\u001b[0;34m)\u001b[0m\u001b[0;34m:\u001b[0m\u001b[0;34m\u001b[0m\u001b[0;34m\u001b[0m\u001b[0m\n",
      "\u001b[0;31mAttributeError\u001b[0m: set"
     ]
    }
   ],
   "source": [
    "# THIS IS EXPECTED TO CREATE AN ERROR.\n",
    "\n",
    "RE(scan([motor_ph], ph, -1, 1, 3))  # oops I tried to use a detector as a motor"
   ]
  },
  {
   "cell_type": "markdown",
   "metadata": {},
   "source": [
    "We'll add one more column to extract the 'exit_status' reported by ``RE`` before it errored out."
   ]
  },
  {
   "cell_type": "code",
   "execution_count": 6,
   "metadata": {},
   "outputs": [
    {
     "name": "stdout",
     "output_type": "stream",
     "text": [
      "HH:MM  plan_name  detectors      motors         exit_status\n",
      "23:34  count      ph,edge,slit                  success\n",
      "23:34  count      ph                            success\n",
      "23:34  scan       edge           motor_edge     success\n",
      "23:34  scan       ph             motor_ph       success\n",
      "23:34  scan       slit           motor_slit     success\n",
      "23:34  scan       edge           motor_edge     success\n",
      "23:34  scan       motor_ph       ph             fail\n"
     ]
    }
   ],
   "source": [
    "print(\"HH:MM  plan_name  detectors      motors         exit_status\")\n",
    "for h in db(since=an_hour_ago):\n",
    "    md = h.start\n",
    "    print(f\"{datetime.fromtimestamp(md['time']):%H:%M}  \"\n",
    "          f\"{md['plan_name']:11}\"\n",
    "          f\"{','.join(md.get('detectors', [])):15}\"\n",
    "          f\"{','.join(md.get('motors', [])):15}\"\n",
    "          f\"{h.stop['exit_status']}\")"
   ]
  },
  {
   "cell_type": "markdown",
   "metadata": {},
   "source": [
    "Let's make it easier to reuse this code block by formulating it as a function."
   ]
  },
  {
   "cell_type": "code",
   "execution_count": 7,
   "metadata": {},
   "outputs": [
    {
     "name": "stdout",
     "output_type": "stream",
     "text": [
      "HH:MM  plan_name  detectors      motors         exit_status\n",
      "23:34  count      ph,edge,slit                  success\n",
      "23:34  count      ph                            success\n",
      "23:34  scan       edge           motor_edge     success\n",
      "23:34  scan       ph             motor_ph       success\n",
      "23:34  scan       slit           motor_slit     success\n",
      "23:34  scan       edge           motor_edge     success\n",
      "23:34  scan       motor_ph       ph             fail\n"
     ]
    }
   ],
   "source": [
    "def summarize_runs(headers):\n",
    "    print(\"HH:MM  plan_name  detectors      motors         exit_status\")\n",
    "    for h in headers:\n",
    "        md = h.start\n",
    "        print(f\"{datetime.fromtimestamp(md['time']):%H:%M}  \"\n",
    "              f\"{md['plan_name']:11}\"\n",
    "              f\"{','.join(md.get('detectors', [])):15}\"\n",
    "              f\"{','.join(md.get('motors', [])):15}\"\n",
    "              f\"{h.stop['exit_status']}\")\n",
    "        \n",
    "        \n",
    "summarize_runs(db(since=an_hour_ago))"
   ]
  },
  {
   "cell_type": "markdown",
   "metadata": {},
   "source": [
    "Getting a little fancy (Too fancy? Maybe....) you can print by default but optionally write to a text file instead."
   ]
  },
  {
   "cell_type": "code",
   "execution_count": 8,
   "metadata": {},
   "outputs": [
    {
     "name": "stdout",
     "output_type": "stream",
     "text": [
      "HH:MM  plan_name  detectors      motors         exit_status\n",
      "23:34  count      ph,edge,slit                  success\n",
      "23:34  count      ph                            success\n"
     ]
    },
    {
     "name": "stdout",
     "output_type": "stream",
     "text": [
      "23:34  scan       edge           motor_edge     success\n",
      "23:34  scan       ph             motor_ph       success\n",
      "23:34  scan       slit           motor_slit     success\n",
      "23:34  scan       edge           motor_edge     success\n",
      "23:34  scan       motor_ph       ph             fail\n"
     ]
    }
   ],
   "source": [
    "import functools\n",
    "\n",
    "def summarize_runs(headers, write=functools.partial(print, end='')):\n",
    "    write(\"HH:MM  plan_name  detectors      motors         exit_status\\n\")\n",
    "    for h in headers:\n",
    "        md = h.start\n",
    "        write(f\"{datetime.fromtimestamp(md['time']):%H:%M}  \"\n",
    "              f\"{md['plan_name']:11}\"\n",
    "              f\"{','.join(md.get('detectors', [])):15}\"\n",
    "              f\"{','.join(md.get('motors', [])):15}\"\n",
    "              f\"{h.stop['exit_status']}\\n\")\n",
    "        \n",
    "        \n",
    "summarize_runs(db(since=an_hour_ago))  # prints as before"
   ]
  },
  {
   "cell_type": "code",
   "execution_count": 9,
   "metadata": {},
   "outputs": [],
   "source": [
    "summarize_runs(db(since=an_hour_ago), write=open('summary.txt', 'w').write)  # writes to 'summary.txt'"
   ]
  },
  {
   "cell_type": "code",
   "execution_count": 10,
   "metadata": {},
   "outputs": [
    {
     "name": "stdout",
     "output_type": "stream",
     "text": [
      "HH:MM  plan_name  detectors      motors         exit_status\r\n",
      "23:34  count      ph,edge,slit                  success\r\n",
      "23:34  count      ph                            success\r\n",
      "23:34  scan       edge           motor_edge     success\r\n",
      "23:34  scan       ph             motor_ph       success\r\n",
      "23:34  scan       slit           motor_slit     success\r\n",
      "23:34  scan       edge           motor_edge     success\r\n",
      "23:34  scan       motor_ph       ph             fail\r\n"
     ]
    }
   ],
   "source": [
    "# cat is a UNIX command for reading a text file. We could also just go open the file like normal people.\n",
    "!cat summary.txt"
   ]
  },
  {
   "cell_type": "markdown",
   "metadata": {},
   "source": [
    "## If the user tells us more, our report can get richer"
   ]
  },
  {
   "cell_type": "code",
   "execution_count": 11,
   "metadata": {},
   "outputs": [],
   "source": [
    "RE.md['operator'] = 'Dan'"
   ]
  },
  {
   "cell_type": "markdown",
   "metadata": {},
   "source": [
    "This applies to all future runs until deleted:\n",
    "\n",
    "```python\n",
    "del RE.md['operator']\n",
    "```\n",
    "\n",
    "replaced\n",
    "\n",
    "```python\n",
    "RE.md['operator'] = 'Tom'\n",
    "```\n",
    "\n",
    "or superceded\n",
    "\n",
    "```python\n",
    "RE(count([ph]), operator='Maksim')\n",
    "```\n",
    "\n",
    "In that last example, `'Maksim'` takes precedence over whatever is in RE.md, but just for this execution. If next we did\n",
    "\n",
    "```python\n",
    "RE(count([ph]))\n",
    "```\n",
    "\n",
    "the operator would revert back to `'Tom'`."
   ]
  },
  {
   "cell_type": "code",
   "execution_count": 12,
   "metadata": {},
   "outputs": [
    {
     "name": "stdout",
     "output_type": "stream",
     "text": [
      "\n",
      "\n",
      "Transient Scan ID: 20     Time: 2020-05-18 23:34:31\n",
      "Persistent Unique Scan ID: '53d8310b-3e51-487d-be78-42feedffd06e'\n",
      "New stream: 'primary'\n",
      "+-----------+------------+------------+\n",
      "|   seq_num |       time |     ph_det |\n",
      "+-----------+------------+------------+\n",
      "|         1 | 23:34:31.7 |      86364 |\n"
     ]
    },
    {
     "name": "stdout",
     "output_type": "stream",
     "text": [
      "+-----------+------------+------------+\n",
      "generator count ['53d8310b'] (scan num: 20)\n",
      "\n",
      "\n",
      "\n"
     ]
    },
    {
     "name": "stdout",
     "output_type": "stream",
     "text": [
      "\n",
      "\n",
      "Transient Scan ID: 21     Time: 2020-05-18 23:34:31\n",
      "Persistent Unique Scan ID: 'b52f708e-2d8c-4506-b5a6-607ca589df7d'\n",
      "New stream: 'primary'\n",
      "+-----------+------------+------------+------------+------------+\n",
      "|   seq_num |       time |     ph_det |   slit_det |   edge_det |\n",
      "+-----------+------------+------------+------------+------------+\n",
      "|         1 | 23:34:31.9 |      87379 |       8122 |      13481 |\n"
     ]
    },
    {
     "name": "stdout",
     "output_type": "stream",
     "text": [
      "|         2 | 23:34:31.9 |      87066 |       8214 |      13355 |\n",
      "|         3 | 23:34:32.0 |      86985 |       8246 |      13628 |\n"
     ]
    },
    {
     "name": "stdout",
     "output_type": "stream",
     "text": [
      "+-----------+------------+------------+------------+------------+\n",
      "generator count ['b52f708e'] (scan num: 21)\n",
      "\n",
      "\n",
      "\n"
     ]
    },
    {
     "name": "stdout",
     "output_type": "stream",
     "text": [
      "\n",
      "\n",
      "Transient Scan ID: 22     Time: 2020-05-18 23:34:32\n",
      "Persistent Unique Scan ID: '71599579-a491-46ec-ad5e-0086c6735fb1'\n"
     ]
    },
    {
     "name": "stdout",
     "output_type": "stream",
     "text": [
      "New stream: 'primary'\n",
      "+-----------+------------+------------+------------+\n",
      "|   seq_num |       time | motor_edge |   edge_det |\n",
      "+-----------+------------+------------+------------+\n",
      "|         1 | 23:34:32.6 |    -10.000 |          0 |\n",
      "|         2 | 23:34:32.6 |     -8.571 |          0 |\n",
      "|         3 | 23:34:32.6 |     -7.143 |          0 |\n",
      "|         4 | 23:34:32.6 |     -5.714 |          0 |\n",
      "|         5 | 23:34:32.6 |     -4.286 |          0 |\n",
      "|         6 | 23:34:32.6 |     -2.857 |          1 |\n",
      "|         7 | 23:34:32.6 |     -1.429 |         12 |\n",
      "|         8 | 23:34:32.6 |      0.000 |        238 |\n",
      "|         9 | 23:34:32.7 |      1.429 |       2256 |\n",
      "|        10 | 23:34:32.7 |      2.857 |      11843 |\n"
     ]
    },
    {
     "name": "stdout",
     "output_type": "stream",
     "text": [
      "|        11 | 23:34:32.7 |      4.286 |      35844 |\n",
      "|        12 | 23:34:32.7 |      5.714 |      67976 |\n",
      "|        13 | 23:34:32.8 |      7.143 |      92111 |\n",
      "|        14 | 23:34:32.8 |      8.571 |     101410 |\n",
      "|        15 | 23:34:32.8 |     10.000 |     103155 |\n",
      "+-----------+------------+------------+------------+\n",
      "generator scan ['71599579'] (scan num: 22)\n",
      "\n",
      "\n",
      "\n"
     ]
    },
    {
     "name": "stdout",
     "output_type": "stream",
     "text": [
      "\n",
      "\n",
      "Transient Scan ID: 23     Time: 2020-05-18 23:34:32\n",
      "Persistent Unique Scan ID: '0cf9d165-4a56-48e7-87c5-9f7eda921f18'\n"
     ]
    },
    {
     "name": "stdout",
     "output_type": "stream",
     "text": [
      "New stream: 'primary'\n",
      "+-----------+------------+------------+------------+\n",
      "|   seq_num |       time | motor_edge |   edge_det |\n",
      "+-----------+------------+------------+------------+\n",
      "|         1 | 23:34:33.2 |     -1.000 |         29 |\n",
      "|         2 | 23:34:33.2 |      0.000 |        199 |\n",
      "|         3 | 23:34:33.2 |      1.000 |       1245 |\n",
      "|         4 | 23:34:33.2 |      2.000 |       4406 |\n",
      "|         5 | 23:34:33.2 |      3.000 |      12733 |\n",
      "+-----------+------------+------------+------------+\n",
      "generator scan ['0cf9d165'] (scan num: 23)\n",
      "\n",
      "\n",
      "\n"
     ]
    },
    {
     "name": "stdout",
     "output_type": "stream",
     "text": [
      "\n",
      "\n",
      "Transient Scan ID: 24     Time: 2020-05-18 23:34:33\n",
      "Persistent Unique Scan ID: 'f3943487-9b18-4b77-a5b6-722442e59f4d'\n",
      "New stream: 'primary'\n",
      "+-----------+------------+------------+------------+\n",
      "|   seq_num |       time |   motor_ph |     ph_det |\n",
      "+-----------+------------+------------+------------+\n",
      "|         1 | 23:34:33.4 |     -1.000 |      96294 |\n",
      "|         2 | 23:34:33.4 |      0.000 |      98279 |\n",
      "|         3 | 23:34:33.4 |      1.000 |      96387 |\n",
      "|         4 | 23:34:33.4 |      2.000 |      90845 |\n",
      "|         5 | 23:34:33.4 |      3.000 |      82316 |\n",
      "+-----------+------------+------------+------------+\n",
      "generator scan ['f3943487'] (scan num: 24)\n",
      "\n",
      "\n",
      "\n"
     ]
    },
    {
     "name": "stdout",
     "output_type": "stream",
     "text": [
      "\n",
      "\n",
      "Transient Scan ID: 25     Time: 2020-05-18 23:34:33\n",
      "Persistent Unique Scan ID: '02bd5e1e-850a-4fc2-8993-4ea2f4d7cefe'\n"
     ]
    },
    {
     "name": "stdout",
     "output_type": "stream",
     "text": [
      "New stream: 'primary'\n",
      "+-----------+------------+------------+------------+\n",
      "|   seq_num |       time | motor_slit |   slit_det |\n",
      "+-----------+------------+------------+------------+\n",
      "|         1 | 23:34:34.0 |    -10.000 |       7537 |\n",
      "|         2 | 23:34:34.0 |     -8.571 |      26031 |\n",
      "|         3 | 23:34:34.1 |     -7.143 |      55072 |\n",
      "|         4 | 23:34:34.1 |     -5.714 |      80512 |\n",
      "|         5 | 23:34:34.1 |     -4.286 |      91771 |\n",
      "|         6 | 23:34:34.1 |     -2.857 |      94747 |\n",
      "|         7 | 23:34:34.1 |     -1.429 |      95270 |\n",
      "|         8 | 23:34:34.1 |      0.000 |      94988 |\n",
      "|         9 | 23:34:34.1 |      1.429 |      94871 |\n",
      "|        10 | 23:34:34.2 |      2.857 |      94821 |\n",
      "|        11 | 23:34:34.2 |      4.286 |      91820 |\n"
     ]
    },
    {
     "name": "stdout",
     "output_type": "stream",
     "text": [
      "|        12 | 23:34:34.2 |      5.714 |      80177 |\n",
      "|        13 | 23:34:34.2 |      7.143 |      54854 |\n",
      "|        14 | 23:34:34.2 |      8.571 |      25798 |\n",
      "|        15 | 23:34:34.2 |     10.000 |       7396 |\n",
      "+-----------+------------+------------+------------+\n",
      "generator scan ['02bd5e1e'] (scan num: 25)\n",
      "\n",
      "\n",
      "\n"
     ]
    },
    {
     "data": {
      "text/plain": [
       "('02bd5e1e-850a-4fc2-8993-4ea2f4d7cefe',)"
      ]
     },
     "execution_count": 12,
     "metadata": {},
     "output_type": "execute_result"
    }
   ],
   "source": [
    "# User reports the run's \"purpose\". (That isn't a special name... you can use any terms you want here...)\n",
    "RE(count([ph]), purpose='test')\n",
    "RE(count([ph, edge, slit], 3), purpose='test')\n",
    "RE(scan([edge], motor_edge, -10, 10, 15), purpose='find edge')\n",
    "RE(scan([edge], motor_edge, -1, 3, 5), purpose='find edge')\n",
    "RE.md['operator'] = 'Tom'  # Tom takes over.\n",
    "RE(scan([ph], motor_ph, -1, 3, 5), purpose='data')\n",
    "RE(scan([slit], motor_slit, -10, 10, 15), purpose='data')"
   ]
  },
  {
   "cell_type": "code",
   "execution_count": 13,
   "metadata": {},
   "outputs": [
    {
     "name": "stdout",
     "output_type": "stream",
     "text": [
      "HH:MM  plan_name  detectors      motors         exit_status    purpose\n",
      "23:34  scan       edge           motor_edge     success        find edge\n",
      "23:34  count      ph,edge,slit                  success        ?\n",
      "23:34  count      ph,edge,slit                  success        test\n",
      "23:34  count      ph                            success        ?\n",
      "23:34  count      ph                            success        test\n",
      "23:34  scan       edge           motor_edge     success        ?\n",
      "23:34  scan       slit           motor_slit     success        data\n",
      "23:34  scan       ph             motor_ph       success        ?\n",
      "23:34  scan       ph             motor_ph       success        data\n",
      "23:34  scan       slit           motor_slit     success        ?\n",
      "23:34  scan       edge           motor_edge     success        ?\n",
      "23:34  scan       edge           motor_edge     success        find edge\n",
      "23:34  scan       motor_ph       ph             fail           ?\n"
     ]
    }
   ],
   "source": [
    "def summarize_runs(headers):\n",
    "    print(\"HH:MM  plan_name  detectors      motors         exit_status    purpose\")\n",
    "    for h in headers:\n",
    "        md = h.start\n",
    "        print(f\"{datetime.fromtimestamp(md['time']):%H:%M}  \"\n",
    "              f\"{md['plan_name']:11}\"\n",
    "              f\"{','.join(md.get('detectors', [])):15}\"\n",
    "              f\"{','.join(md.get('motors', [])):15}\"\n",
    "              f\"{h.stop['exit_status']:15}\"\n",
    "              f\"{md.get('purpose', '?')}\")\n",
    "        \n",
    "        \n",
    "summarize_runs(db(since=an_hour_ago))"
   ]
  },
  {
   "cell_type": "markdown",
   "metadata": {},
   "source": [
    "## Filtering\n",
    "\n",
    "<a id='Filtering'></a>We have been filtering based on time. We can filter on user-provided metadata like ``purpose`` or automatically-captured metadata like ``detectors``. And we can apply multiple filters at the same time."
   ]
  },
  {
   "cell_type": "code",
   "execution_count": 14,
   "metadata": {},
   "outputs": [
    {
     "name": "stdout",
     "output_type": "stream",
     "text": [
      "HH:MM  plan_name  detectors      motors         exit_status    purpose\n",
      "23:34  scan       slit           motor_slit     success        data\n",
      "23:34  scan       ph             motor_ph       success        data\n"
     ]
    }
   ],
   "source": [
    "summarize_runs(db(since=an_hour_ago, purpose='data'))"
   ]
  },
  {
   "cell_type": "code",
   "execution_count": 15,
   "metadata": {},
   "outputs": [
    {
     "name": "stdout",
     "output_type": "stream",
     "text": [
      "HH:MM  plan_name  detectors      motors         exit_status    purpose\n"
     ]
    },
    {
     "name": "stdout",
     "output_type": "stream",
     "text": [
      "23:34  count      ph,edge,slit                  success        test\n",
      "23:34  count      ph                            success        test\n"
     ]
    }
   ],
   "source": [
    "summarize_runs(db(since=an_hour_ago, detectors='ph', purpose='test'))"
   ]
  },
  {
   "cell_type": "markdown",
   "metadata": {},
   "source": [
    " There is a rich query language available here; we are just exercising the basics."
   ]
  },
  {
   "cell_type": "markdown",
   "metadata": {},
   "source": [
    "## What about getting the data itself?\n",
    "\n",
    "Wait for the next notebook!"
   ]
  },
  {
   "cell_type": "markdown",
   "metadata": {},
   "source": [
    "## So what's happening inside `print(...)`?\n",
    "\n",
    "A couple handy Python concepts you might not have encountered before..."
   ]
  },
  {
   "cell_type": "markdown",
   "metadata": {},
   "source": [
    "### \"f-strings\" (new Python 3.6!)"
   ]
  },
  {
   "cell_type": "code",
   "execution_count": 16,
   "metadata": {},
   "outputs": [
    {
     "name": "stdout",
     "output_type": "stream",
     "text": [
      "Hello my name is {name} and I am {age}.\n"
     ]
    }
   ],
   "source": [
    "name = \"Dan\"\n",
    "age = 32\n",
    "\n",
    "print(\"Hello my name is {name} and I am {age}.\")"
   ]
  },
  {
   "cell_type": "markdown",
   "metadata": {},
   "source": [
    "Add an `f` before the quote and it becomes a magical \"f-string\"!"
   ]
  },
  {
   "cell_type": "code",
   "execution_count": 17,
   "metadata": {},
   "outputs": [
    {
     "name": "stdout",
     "output_type": "stream",
     "text": [
      "Hello my name is Dan and I am 32.\n"
     ]
    }
   ],
   "source": [
    "print(f\"Hello my name is {name} and I am {age}.\")"
   ]
  },
  {
   "cell_type": "markdown",
   "metadata": {},
   "source": [
    "You can put code inside the `{}`s."
   ]
  },
  {
   "cell_type": "code",
   "execution_count": 18,
   "metadata": {},
   "outputs": [
    {
     "name": "stdout",
     "output_type": "stream",
     "text": [
      "Hello my name is Dan and next year I will be 33.\n"
     ]
    }
   ],
   "source": [
    "print(f\"Hello my name is {name} and next year I will be {1 + age}.\")"
   ]
  },
  {
   "cell_type": "markdown",
   "metadata": {},
   "source": [
    "### Dictionary lookup with defaults"
   ]
  },
  {
   "cell_type": "markdown",
   "metadata": {},
   "source": [
    "Recall basic dictionary manipulations:"
   ]
  },
  {
   "cell_type": "code",
   "execution_count": 19,
   "metadata": {},
   "outputs": [],
   "source": [
    "md = dict(plan_name='count', detectors=['ph', 'edge'], time=now)"
   ]
  },
  {
   "cell_type": "code",
   "execution_count": 20,
   "metadata": {},
   "outputs": [
    {
     "data": {
      "text/plain": [
       "['ph', 'edge']"
      ]
     },
     "execution_count": 20,
     "metadata": {},
     "output_type": "execute_result"
    }
   ],
   "source": [
    "md['detectors']  # Look up the value for the 'detectors' key in the md dictionary."
   ]
  },
  {
   "cell_type": "code",
   "execution_count": 21,
   "metadata": {
    "tags": [
     "raises-exception"
    ]
   },
   "outputs": [
    {
     "ename": "KeyError",
     "evalue": "'purpose'",
     "output_type": "error",
     "traceback": [
      "\u001b[0;31m---------------------------------------------------------------------------\u001b[0m",
      "\u001b[0;31mKeyError\u001b[0m                                  Traceback (most recent call last)",
      "\u001b[0;32m<ipython-input-21-a4691493f52d>\u001b[0m in \u001b[0;36m<module>\u001b[0;34m\u001b[0m\n\u001b[0;32m----> 1\u001b[0;31m \u001b[0mmd\u001b[0m\u001b[0;34m[\u001b[0m\u001b[0;34m'purpose'\u001b[0m\u001b[0;34m]\u001b[0m  \u001b[0;31m# The user never specified a 'purpose' here, so this raises a KeyError.\u001b[0m\u001b[0;34m\u001b[0m\u001b[0;34m\u001b[0m\u001b[0m\n\u001b[0m",
      "\u001b[0;31mKeyError\u001b[0m: 'purpose'"
     ]
    }
   ],
   "source": [
    "md['purpose']  # The user never specified a 'purpose' here, so this raises a KeyError."
   ]
  },
  {
   "cell_type": "code",
   "execution_count": 22,
   "metadata": {},
   "outputs": [
    {
     "data": {
      "text/plain": [
       "'?'"
      ]
     },
     "execution_count": 22,
     "metadata": {},
     "output_type": "execute_result"
    }
   ],
   "source": [
    "md.get('purpose', '?')  # Falls back to a default instead of erroring out."
   ]
  },
  {
   "cell_type": "markdown",
   "metadata": {},
   "source": [
    "### list -> comma-separated string"
   ]
  },
  {
   "cell_type": "code",
   "execution_count": 23,
   "metadata": {},
   "outputs": [
    {
     "data": {
      "text/plain": [
       "['ph', 'edge']"
      ]
     },
     "execution_count": 23,
     "metadata": {},
     "output_type": "execute_result"
    }
   ],
   "source": [
    "md.get('detectors', [])"
   ]
  },
  {
   "cell_type": "code",
   "execution_count": 24,
   "metadata": {},
   "outputs": [
    {
     "data": {
      "text/plain": [
       "'ph, edge'"
      ]
     },
     "execution_count": 24,
     "metadata": {},
     "output_type": "execute_result"
    }
   ],
   "source": [
    "', '.join(md.get('detectors', []))"
   ]
  },
  {
   "cell_type": "code",
   "execution_count": 25,
   "metadata": {},
   "outputs": [
    {
     "data": {
      "text/plain": [
       "''"
      ]
     },
     "execution_count": 25,
     "metadata": {},
     "output_type": "execute_result"
    }
   ],
   "source": [
    "', '.join(md.get('motors', []))  # Remember motors isn't set, so this falls back to the default, an empty list."
   ]
  },
  {
   "cell_type": "markdown",
   "metadata": {},
   "source": [
    "### time-munging"
   ]
  },
  {
   "cell_type": "code",
   "execution_count": 26,
   "metadata": {},
   "outputs": [
    {
     "data": {
      "text/plain": [
       "1589844870.9337804"
      ]
     },
     "execution_count": 26,
     "metadata": {},
     "output_type": "execute_result"
    }
   ],
   "source": [
    "md['time']  # seconds since 1970, the conventional \"UNIX epoch\""
   ]
  },
  {
   "cell_type": "code",
   "execution_count": 27,
   "metadata": {},
   "outputs": [
    {
     "data": {
      "text/plain": [
       "datetime.datetime(2020, 5, 18, 23, 34, 30, 933780)"
      ]
     },
     "execution_count": 27,
     "metadata": {},
     "output_type": "execute_result"
    }
   ],
   "source": [
    "datetime.fromtimestamp(md['time'])  # year, month, date, hour, minute, second, microseconds"
   ]
  },
  {
   "cell_type": "markdown",
   "metadata": {},
   "source": [
    "### putting it all together..."
   ]
  },
  {
   "cell_type": "code",
   "execution_count": 28,
   "metadata": {},
   "outputs": [],
   "source": [
    "def summarize_runs(headers):\n",
    "    print(\"HH:MM  plan_name  detectors      motors         exit_status\")\n",
    "    for h in headers:\n",
    "        md = h.start\n",
    "        print(f\"{datetime.fromtimestamp(md['time'])}  \"\n",
    "              f\"{md['plan_name']}\"\n",
    "              f\"{','.join(md.get('detectors', []))}\"\n",
    "              f\"{','.join(md.get('motors', []))}\"\n",
    "              f\"{h.stop['exit_status']}\")"
   ]
  },
  {
   "cell_type": "code",
   "execution_count": 29,
   "metadata": {},
   "outputs": [
    {
     "name": "stdout",
     "output_type": "stream",
     "text": [
      "HH:MM  plan_name  detectors      motors         exit_status\n",
      "2020-05-18 23:34:32.983844  scanedgemotor_edgesuccess\n",
      "2020-05-18 23:34:27.922143  countph,edge,slitsuccess\n",
      "2020-05-18 23:34:31.904886  countph,edge,slitsuccess\n",
      "2020-05-18 23:34:27.806821  countphsuccess\n",
      "2020-05-18 23:34:31.790262  countphsuccess\n",
      "2020-05-18 23:34:28.523788  scanedgemotor_edgesuccess\n",
      "2020-05-18 23:34:33.647766  scanslitmotor_slitsuccess\n",
      "2020-05-18 23:34:29.596692  scanphmotor_phsuccess\n",
      "2020-05-18 23:34:33.414424  scanphmotor_phsuccess\n",
      "2020-05-18 23:34:30.176730  scanslitmotor_slitsuccess\n",
      "2020-05-18 23:34:29.163702  scanedgemotor_edgesuccess\n",
      "2020-05-18 23:34:32.377115  scanedgemotor_edgesuccess\n",
      "2020-05-18 23:34:31.015438  scanmotor_phphfail\n"
     ]
    }
   ],
   "source": [
    "summarize_runs(db(since=an_hour_ago))"
   ]
  },
  {
   "cell_type": "markdown",
   "metadata": {},
   "source": [
    "### finishing touch: white space"
   ]
  },
  {
   "cell_type": "markdown",
   "metadata": {},
   "source": [
    "Use `:N` to fix width at `N` characters."
   ]
  },
  {
   "cell_type": "code",
   "execution_count": 30,
   "metadata": {},
   "outputs": [
    {
     "data": {
      "text/plain": [
       "'Hello my name is Dan        is I am    32.'"
      ]
     },
     "execution_count": 30,
     "metadata": {},
     "output_type": "execute_result"
    }
   ],
   "source": [
    "f\"Hello my name is {name:10} is I am {age:5}.\""
   ]
  },
  {
   "cell_type": "markdown",
   "metadata": {},
   "source": [
    "Format the time."
   ]
  },
  {
   "cell_type": "code",
   "execution_count": 31,
   "metadata": {},
   "outputs": [
    {
     "data": {
      "text/plain": [
       "'23:34'"
      ]
     },
     "execution_count": 31,
     "metadata": {},
     "output_type": "execute_result"
    }
   ],
   "source": [
    "f\"{datetime.fromtimestamp(md['time']):%H:%M}\""
   ]
  },
  {
   "cell_type": "code",
   "execution_count": 32,
   "metadata": {},
   "outputs": [],
   "source": [
    "def summarize_runs(headers):\n",
    "    print(\"HH:MM  plan_name  detectors      motors         exit_status\")\n",
    "    for h in headers:\n",
    "        md = h.start\n",
    "        print(f\"{datetime.fromtimestamp(md['time']):%H:%M}  \"\n",
    "              f\"{md['plan_name']:11}\"\n",
    "              f\"{','.join(md.get('detectors', [])):15}\"\n",
    "              f\"{','.join(md.get('motors', [])):15}\"\n",
    "              f\"{h.stop['exit_status']:11}\")"
   ]
  },
  {
   "cell_type": "code",
   "execution_count": 33,
   "metadata": {},
   "outputs": [
    {
     "name": "stdout",
     "output_type": "stream",
     "text": [
      "HH:MM  plan_name  detectors      motors         exit_status\n",
      "23:34  scan       edge           motor_edge     success    \n"
     ]
    },
    {
     "name": "stdout",
     "output_type": "stream",
     "text": [
      "23:34  count      ph,edge,slit                  success    \n",
      "23:34  count      ph,edge,slit                  success    \n",
      "23:34  count      ph                            success    \n",
      "23:34  count      ph                            success    \n",
      "23:34  scan       edge           motor_edge     success    \n",
      "23:34  scan       slit           motor_slit     success    \n",
      "23:34  scan       ph             motor_ph       success    \n",
      "23:34  scan       ph             motor_ph       success    \n",
      "23:34  scan       slit           motor_slit     success    \n",
      "23:34  scan       edge           motor_edge     success    \n",
      "23:34  scan       edge           motor_edge     success    \n"
     ]
    },
    {
     "name": "stdout",
     "output_type": "stream",
     "text": [
      "23:34  scan       motor_ph       ph             fail       \n"
     ]
    }
   ],
   "source": [
    "summarize_runs(db(since=an_hour_ago))"
   ]
  },
  {
   "cell_type": "markdown",
   "metadata": {},
   "source": [
    "## Exercise"
   ]
  },
  {
   "cell_type": "markdown",
   "metadata": {},
   "source": [
    "Q1. Add an 'operator' column. Hint: Remember that 'operator' was reported by the user in some of our example data above, but the name has no special significance to Bluesky and is not guaranteed to be reported. To avoid erroring when it is not reported, you will need to use ``md.get(...)`` instead of ``md[...]``."
   ]
  },
  {
   "cell_type": "code",
   "execution_count": 34,
   "metadata": {},
   "outputs": [],
   "source": [
    "# Type your answer here. We have pasted in the latest version of summarize_runs to start from.\n",
    "\n",
    "def summarize_runs(headers):\n",
    "    print(\"HH:MM  plan_name  detectors      motors         exit_status\")\n",
    "    for h in headers:\n",
    "        md = h.start\n",
    "        print(f\"{datetime.fromtimestamp(md['time']):%H:%M}  \"\n",
    "              f\"{md['plan_name']:11}\"\n",
    "              f\"{','.join(md.get('detectors', [])):15}\"\n",
    "              f\"{','.join(md.get('motors', [])):15}\"\n",
    "              f\"{h.stop['exit_status']:15}\")"
   ]
  },
  {
   "cell_type": "code",
   "execution_count": 35,
   "metadata": {},
   "outputs": [],
   "source": [
    "%load solutions/summarize_runs_with_operator.py"
   ]
  },
  {
   "cell_type": "markdown",
   "metadata": {},
   "source": [
    "Q2. Print a table with results filtered by operator, just as we filtered results by purpose."
   ]
  },
  {
   "cell_type": "code",
   "execution_count": 36,
   "metadata": {},
   "outputs": [],
   "source": [
    "# Fill in the blank\n",
    "# summarize_runs(db(_____))"
   ]
  },
  {
   "cell_type": "code",
   "execution_count": 37,
   "metadata": {},
   "outputs": [],
   "source": [
    "%load solutions/filter_runs_by_operator.py"
   ]
  },
  {
   "cell_type": "markdown",
   "metadata": {},
   "source": [
    "Q3. Add seconds to the time columnn."
   ]
  },
  {
   "cell_type": "code",
   "execution_count": 38,
   "metadata": {},
   "outputs": [],
   "source": [
    "# Type your answer here. We have pasted in the latest version of summarize_runs to start from.\n",
    "\n",
    "def summarize_runs(headers):\n",
    "    print(\"HH:MM  plan_name  detectors      motors         exit_status\")\n",
    "    for h in headers:\n",
    "        md = h.start\n",
    "        print(f\"{datetime.fromtimestamp(md['time']):%H:%M}  \"\n",
    "              f\"{md['plan_name']:11}\"\n",
    "              f\"{','.join(md.get('detectors', [])):15}\"\n",
    "              f\"{','.join(md.get('motors', [])):15}\"\n",
    "              f\"{h.stop['exit_status']:15}\")"
   ]
  },
  {
   "cell_type": "code",
   "execution_count": 39,
   "metadata": {},
   "outputs": [],
   "source": [
    "%load solutions/summarize_runs_with_seconds.py"
   ]
  },
  {
   "cell_type": "markdown",
   "metadata": {},
   "source": [
    "Q4. The ``md['uid']`` is the guaranteed unique identifier for a run. It's unweildy to print in its entirely. Print just the first 8 characters. (For practical purposes, this is sufficently unique.)\n",
    "\n",
    "Hint: String truncation in Python works like this:\n",
    "\n",
    "```python\n",
    "'supercalifragilisticexpialidocious'[:8] == 'supercal'\n",
    "```"
   ]
  },
  {
   "cell_type": "code",
   "execution_count": 40,
   "metadata": {},
   "outputs": [],
   "source": [
    "# Type your answer here. We have pasted in the latest version of summarize_runs to start from.\n",
    "\n",
    "def summarize_runs(headers):\n",
    "    print(\"HH:MM  plan_name  detectors      motors         exit_status\")\n",
    "    for h in headers:\n",
    "        md = h.start\n",
    "        print(f\"{datetime.fromtimestamp(md['time']):%H:%M}  \"\n",
    "              f\"{md['plan_name']:11}\"\n",
    "              f\"{','.join(md.get('detectors', [])):15}\"\n",
    "              f\"{','.join(md.get('motors', [])):15}\"\n",
    "              f\"{h.stop['exit_status']:15}\")"
   ]
  },
  {
   "cell_type": "code",
   "execution_count": 41,
   "metadata": {},
   "outputs": [],
   "source": [
    "%load solutions/summarize_runs_with_uid.py"
   ]
  },
  {
   "cell_type": "markdown",
   "metadata": {},
   "source": [
    "Q5. In all our examples, the columns are left-justified. The [format specification mini language](https://docs.python.org/3/library/string.html#format-specification-mini-language) documents how to right-justify or center the text. Right-justify the ``exit_status`` column. This is a bit of a contrived example, but the feature is more useful when the column have numerical data."
   ]
  },
  {
   "cell_type": "code",
   "execution_count": 42,
   "metadata": {},
   "outputs": [],
   "source": [
    "# Type your answer here. We have pasted in the latest version of summarize_runs to start from.\n",
    "\n",
    "def summarize_runs(headers):\n",
    "    print(\"HH:MM  plan_name  detectors      motors         exit_status\")\n",
    "    for h in headers:\n",
    "        md = h.start\n",
    "        print(f\"{datetime.fromtimestamp(md['time']):%H:%M}  \"\n",
    "              f\"{md['plan_name']:11}\"\n",
    "              f\"{','.join(md.get('detectors', [])):15}\"\n",
    "              f\"{','.join(md.get('motors', [])):15}\"\n",
    "              f\"{h.stop['exit_status']:15}\")"
   ]
  },
  {
   "cell_type": "code",
   "execution_count": 43,
   "metadata": {},
   "outputs": [],
   "source": [
    "%load solutions/summarize_runs_right_justify_exit_status.py"
   ]
  }
 ],
 "metadata": {
  "kernelspec": {
   "display_name": "Python 3",
   "language": "python",
   "name": "python3"
  },
  "language_info": {
   "codemirror_mode": {
    "name": "ipython",
    "version": 3
   },
   "file_extension": ".py",
   "mimetype": "text/x-python",
   "name": "python",
   "nbconvert_exporter": "python",
   "pygments_lexer": "ipython3",
   "version": "3.7.1"
  },
  "widgets": {
   "application/vnd.jupyter.widget-state+json": {
    "state": {
     "0336d4d22b424aff8822a3db8330d4f7": {
      "model_module": "jupyter-matplotlib",
      "model_module_version": "^0.7.2",
      "model_name": "ToolbarModel",
      "state": {
       "_current_action": "",
       "_dom_classes": [],
       "_model_module": "jupyter-matplotlib",
       "_model_module_version": "^0.7.2",
       "_model_name": "ToolbarModel",
       "_view_count": null,
       "_view_module": "jupyter-matplotlib",
       "_view_module_version": "^0.7.2",
       "_view_name": "ToolbarView",
       "button_style": "",
       "collapsed": true,
       "layout": "IPY_MODEL_f355b3591dd24b248d62a151e16c085f",
       "orientation": "vertical",
       "toolitems": [
        [
         "Home",
         "Reset original view",
         "home",
         "home"
        ],
        [
         "Back",
         "Back to previous view",
         "arrow-left",
         "back"
        ],
        [
         "Forward",
         "Forward to next view",
         "arrow-right",
         "forward"
        ],
        [
         "Pan",
         "Pan axes with left mouse, zoom with right",
         "arrows",
         "pan"
        ],
        [
         "Zoom",
         "Zoom to rectangle",
         "square-o",
         "zoom"
        ],
        [
         "Download",
         "Download plot",
         "floppy-o",
         "save_figure"
        ]
       ]
      }
     },
     "0c295c8540224ec1851216e8ce7c0c8f": {
      "model_module": "@jupyter-widgets/base",
      "model_module_version": "1.2.0",
      "model_name": "LayoutModel",
      "state": {
       "_model_module": "@jupyter-widgets/base",
       "_model_module_version": "1.2.0",
       "_model_name": "LayoutModel",
       "_view_count": null,
       "_view_module": "@jupyter-widgets/base",
       "_view_module_version": "1.2.0",
       "_view_name": "LayoutView",
       "align_content": null,
       "align_items": null,
       "align_self": null,
       "border": null,
       "bottom": null,
       "display": null,
       "flex": null,
       "flex_flow": null,
       "grid_area": null,
       "grid_auto_columns": null,
       "grid_auto_flow": null,
       "grid_auto_rows": null,
       "grid_column": null,
       "grid_gap": null,
       "grid_row": null,
       "grid_template_areas": null,
       "grid_template_columns": null,
       "grid_template_rows": null,
       "height": null,
       "justify_content": null,
       "justify_items": null,
       "left": null,
       "margin": null,
       "max_height": null,
       "max_width": null,
       "min_height": null,
       "min_width": null,
       "object_fit": null,
       "object_position": null,
       "order": null,
       "overflow": null,
       "overflow_x": null,
       "overflow_y": null,
       "padding": null,
       "right": null,
       "top": null,
       "visibility": null,
       "width": null
      }
     },
     "0e8d0f8180c447a69bc88c0fecdac8ce": {
      "model_module": "@jupyter-widgets/base",
      "model_module_version": "1.2.0",
      "model_name": "LayoutModel",
      "state": {
       "_model_module": "@jupyter-widgets/base",
       "_model_module_version": "1.2.0",
       "_model_name": "LayoutModel",
       "_view_count": null,
       "_view_module": "@jupyter-widgets/base",
       "_view_module_version": "1.2.0",
       "_view_name": "LayoutView",
       "align_content": null,
       "align_items": null,
       "align_self": null,
       "border": null,
       "bottom": null,
       "display": null,
       "flex": null,
       "flex_flow": null,
       "grid_area": null,
       "grid_auto_columns": null,
       "grid_auto_flow": null,
       "grid_auto_rows": null,
       "grid_column": null,
       "grid_gap": null,
       "grid_row": null,
       "grid_template_areas": null,
       "grid_template_columns": null,
       "grid_template_rows": null,
       "height": null,
       "justify_content": null,
       "justify_items": null,
       "left": null,
       "margin": null,
       "max_height": null,
       "max_width": null,
       "min_height": null,
       "min_width": null,
       "object_fit": null,
       "object_position": null,
       "order": null,
       "overflow": null,
       "overflow_x": null,
       "overflow_y": null,
       "padding": null,
       "right": null,
       "top": null,
       "visibility": null,
       "width": null
      }
     },
     "11aa49386948489b82b2a5aa830787aa": {
      "model_module": "@jupyter-widgets/base",
      "model_module_version": "1.2.0",
      "model_name": "LayoutModel",
      "state": {
       "_model_module": "@jupyter-widgets/base",
       "_model_module_version": "1.2.0",
       "_model_name": "LayoutModel",
       "_view_count": null,
       "_view_module": "@jupyter-widgets/base",
       "_view_module_version": "1.2.0",
       "_view_name": "LayoutView",
       "align_content": null,
       "align_items": null,
       "align_self": null,
       "border": null,
       "bottom": null,
       "display": null,
       "flex": null,
       "flex_flow": null,
       "grid_area": null,
       "grid_auto_columns": null,
       "grid_auto_flow": null,
       "grid_auto_rows": null,
       "grid_column": null,
       "grid_gap": null,
       "grid_row": null,
       "grid_template_areas": null,
       "grid_template_columns": null,
       "grid_template_rows": null,
       "height": null,
       "justify_content": null,
       "justify_items": null,
       "left": null,
       "margin": null,
       "max_height": null,
       "max_width": null,
       "min_height": null,
       "min_width": null,
       "object_fit": null,
       "object_position": null,
       "order": null,
       "overflow": null,
       "overflow_x": null,
       "overflow_y": null,
       "padding": null,
       "right": null,
       "top": null,
       "visibility": null,
       "width": null
      }
     },
     "1882a00a9d0448a28a65ddde346b5067": {
      "model_module": "jupyter-matplotlib",
      "model_module_version": "^0.7.2",
      "model_name": "ToolbarModel",
      "state": {
       "_current_action": "",
       "_dom_classes": [],
       "_model_module": "jupyter-matplotlib",
       "_model_module_version": "^0.7.2",
       "_model_name": "ToolbarModel",
       "_view_count": null,
       "_view_module": "jupyter-matplotlib",
       "_view_module_version": "^0.7.2",
       "_view_name": "ToolbarView",
       "button_style": "",
       "collapsed": true,
       "layout": "IPY_MODEL_745a35692ab64660bc40840f9c744c93",
       "orientation": "vertical",
       "toolitems": [
        [
         "Home",
         "Reset original view",
         "home",
         "home"
        ],
        [
         "Back",
         "Back to previous view",
         "arrow-left",
         "back"
        ],
        [
         "Forward",
         "Forward to next view",
         "arrow-right",
         "forward"
        ],
        [
         "Pan",
         "Pan axes with left mouse, zoom with right",
         "arrows",
         "pan"
        ],
        [
         "Zoom",
         "Zoom to rectangle",
         "square-o",
         "zoom"
        ],
        [
         "Download",
         "Download plot",
         "floppy-o",
         "save_figure"
        ]
       ]
      }
     },
     "278d225e12ff403c901aee7c4a5b1217": {
      "model_module": "@jupyter-widgets/base",
      "model_module_version": "1.2.0",
      "model_name": "LayoutModel",
      "state": {
       "_model_module": "@jupyter-widgets/base",
       "_model_module_version": "1.2.0",
       "_model_name": "LayoutModel",
       "_view_count": null,
       "_view_module": "@jupyter-widgets/base",
       "_view_module_version": "1.2.0",
       "_view_name": "LayoutView",
       "align_content": null,
       "align_items": null,
       "align_self": null,
       "border": null,
       "bottom": null,
       "display": null,
       "flex": null,
       "flex_flow": null,
       "grid_area": null,
       "grid_auto_columns": null,
       "grid_auto_flow": null,
       "grid_auto_rows": null,
       "grid_column": null,
       "grid_gap": null,
       "grid_row": null,
       "grid_template_areas": null,
       "grid_template_columns": null,
       "grid_template_rows": null,
       "height": null,
       "justify_content": null,
       "justify_items": null,
       "left": null,
       "margin": null,
       "max_height": null,
       "max_width": null,
       "min_height": null,
       "min_width": null,
       "object_fit": null,
       "object_position": null,
       "order": null,
       "overflow": null,
       "overflow_x": null,
       "overflow_y": null,
       "padding": null,
       "right": null,
       "top": null,
       "visibility": null,
       "width": null
      }
     },
     "27ae50dc30f54e3ca34b957a7d97d072": {
      "model_module": "jupyter-matplotlib",
      "model_module_version": "^0.7.2",
      "model_name": "MPLCanvasModel",
      "state": {
       "_cursor": "default",
       "_dom_classes": [],
       "_figure_label": "slit_det vs motor_slit",
       "_height": 400,
       "_image_mode": "diff",
       "_message": "",
       "_model_module": "jupyter-matplotlib",
       "_model_module_version": "^0.7.2",
       "_model_name": "MPLCanvasModel",
       "_rubberband_height": 0,
       "_rubberband_width": 0,
       "_rubberband_x": 0,
       "_rubberband_y": 0,
       "_view_count": null,
       "_view_module": "jupyter-matplotlib",
       "_view_module_version": "^0.7.2",
       "_view_name": "MPLCanvasView",
       "_width": 640,
       "footer_visible": true,
       "header_visible": true,
       "layout": "IPY_MODEL_5d875ad965ac421cb4e1579845b57392",
       "resizable": true,
       "toolbar": "IPY_MODEL_5dc94b1bc67743009a564df7293cdb38",
       "toolbar_position": "left",
       "toolbar_visible": true
      }
     },
     "4550a6ada5ff4b9ea76c4e79e477e252": {
      "model_module": "jupyter-matplotlib",
      "model_module_version": "^0.7.2",
      "model_name": "MPLCanvasModel",
      "state": {
       "_cursor": "default",
       "_dom_classes": [],
       "_figure_label": "edge_det vs motor_edge",
       "_height": 400,
       "_image_mode": "diff",
       "_message": "",
       "_model_module": "jupyter-matplotlib",
       "_model_module_version": "^0.7.2",
       "_model_name": "MPLCanvasModel",
       "_rubberband_height": 0,
       "_rubberband_width": 0,
       "_rubberband_x": 0,
       "_rubberband_y": 0,
       "_view_count": null,
       "_view_module": "jupyter-matplotlib",
       "_view_module_version": "^0.7.2",
       "_view_name": "MPLCanvasView",
       "_width": 640,
       "footer_visible": true,
       "header_visible": true,
       "layout": "IPY_MODEL_f6112fefa8cb489694690fc897216fd6",
       "resizable": true,
       "toolbar": "IPY_MODEL_0336d4d22b424aff8822a3db8330d4f7",
       "toolbar_position": "left",
       "toolbar_visible": true
      }
     },
     "5d875ad965ac421cb4e1579845b57392": {
      "model_module": "@jupyter-widgets/base",
      "model_module_version": "1.2.0",
      "model_name": "LayoutModel",
      "state": {
       "_model_module": "@jupyter-widgets/base",
       "_model_module_version": "1.2.0",
       "_model_name": "LayoutModel",
       "_view_count": null,
       "_view_module": "@jupyter-widgets/base",
       "_view_module_version": "1.2.0",
       "_view_name": "LayoutView",
       "align_content": null,
       "align_items": null,
       "align_self": null,
       "border": null,
       "bottom": null,
       "display": null,
       "flex": null,
       "flex_flow": null,
       "grid_area": null,
       "grid_auto_columns": null,
       "grid_auto_flow": null,
       "grid_auto_rows": null,
       "grid_column": null,
       "grid_gap": null,
       "grid_row": null,
       "grid_template_areas": null,
       "grid_template_columns": null,
       "grid_template_rows": null,
       "height": null,
       "justify_content": null,
       "justify_items": null,
       "left": null,
       "margin": null,
       "max_height": null,
       "max_width": null,
       "min_height": null,
       "min_width": null,
       "object_fit": null,
       "object_position": null,
       "order": null,
       "overflow": null,
       "overflow_x": null,
       "overflow_y": null,
       "padding": null,
       "right": null,
       "top": null,
       "visibility": null,
       "width": null
      }
     },
     "5dc94b1bc67743009a564df7293cdb38": {
      "model_module": "jupyter-matplotlib",
      "model_module_version": "^0.7.2",
      "model_name": "ToolbarModel",
      "state": {
       "_current_action": "",
       "_dom_classes": [],
       "_model_module": "jupyter-matplotlib",
       "_model_module_version": "^0.7.2",
       "_model_name": "ToolbarModel",
       "_view_count": null,
       "_view_module": "jupyter-matplotlib",
       "_view_module_version": "^0.7.2",
       "_view_name": "ToolbarView",
       "button_style": "",
       "collapsed": true,
       "layout": "IPY_MODEL_0e8d0f8180c447a69bc88c0fecdac8ce",
       "orientation": "vertical",
       "toolitems": [
        [
         "Home",
         "Reset original view",
         "home",
         "home"
        ],
        [
         "Back",
         "Back to previous view",
         "arrow-left",
         "back"
        ],
        [
         "Forward",
         "Forward to next view",
         "arrow-right",
         "forward"
        ],
        [
         "Pan",
         "Pan axes with left mouse, zoom with right",
         "arrows",
         "pan"
        ],
        [
         "Zoom",
         "Zoom to rectangle",
         "square-o",
         "zoom"
        ],
        [
         "Download",
         "Download plot",
         "floppy-o",
         "save_figure"
        ]
       ]
      }
     },
     "7403972896564c80901db08077a97fe3": {
      "model_module": "jupyter-matplotlib",
      "model_module_version": "^0.7.2",
      "model_name": "MPLCanvasModel",
      "state": {
       "_cursor": "default",
       "_dom_classes": [],
       "_figure_label": "edge_det ph_det slit_det vs time",
       "_height": 950,
       "_image_mode": "diff",
       "_message": "",
       "_model_module": "jupyter-matplotlib",
       "_model_module_version": "^0.7.2",
       "_model_name": "MPLCanvasModel",
       "_rubberband_height": 0,
       "_rubberband_width": 0,
       "_rubberband_x": 0,
       "_rubberband_y": 0,
       "_view_count": null,
       "_view_module": "jupyter-matplotlib",
       "_view_module_version": "^0.7.2",
       "_view_name": "MPLCanvasView",
       "_width": 640,
       "footer_visible": true,
       "header_visible": true,
       "layout": "IPY_MODEL_278d225e12ff403c901aee7c4a5b1217",
       "resizable": true,
       "toolbar": "IPY_MODEL_a25b3bfe2aad470391444f580fdd47b6",
       "toolbar_position": "left",
       "toolbar_visible": true
      }
     },
     "745a35692ab64660bc40840f9c744c93": {
      "model_module": "@jupyter-widgets/base",
      "model_module_version": "1.2.0",
      "model_name": "LayoutModel",
      "state": {
       "_model_module": "@jupyter-widgets/base",
       "_model_module_version": "1.2.0",
       "_model_name": "LayoutModel",
       "_view_count": null,
       "_view_module": "@jupyter-widgets/base",
       "_view_module_version": "1.2.0",
       "_view_name": "LayoutView",
       "align_content": null,
       "align_items": null,
       "align_self": null,
       "border": null,
       "bottom": null,
       "display": null,
       "flex": null,
       "flex_flow": null,
       "grid_area": null,
       "grid_auto_columns": null,
       "grid_auto_flow": null,
       "grid_auto_rows": null,
       "grid_column": null,
       "grid_gap": null,
       "grid_row": null,
       "grid_template_areas": null,
       "grid_template_columns": null,
       "grid_template_rows": null,
       "height": null,
       "justify_content": null,
       "justify_items": null,
       "left": null,
       "margin": null,
       "max_height": null,
       "max_width": null,
       "min_height": null,
       "min_width": null,
       "object_fit": null,
       "object_position": null,
       "order": null,
       "overflow": null,
       "overflow_x": null,
       "overflow_y": null,
       "padding": null,
       "right": null,
       "top": null,
       "visibility": null,
       "width": null
      }
     },
     "83b81bc8ef954b699315af748a92a646": {
      "model_module": "jupyter-matplotlib",
      "model_module_version": "^0.7.2",
      "model_name": "MPLCanvasModel",
      "state": {
       "_cursor": "default",
       "_dom_classes": [],
       "_figure_label": "ph_det vs motor_ph",
       "_height": 400,
       "_image_mode": "diff",
       "_message": "",
       "_model_module": "jupyter-matplotlib",
       "_model_module_version": "^0.7.2",
       "_model_name": "MPLCanvasModel",
       "_rubberband_height": 0,
       "_rubberband_width": 0,
       "_rubberband_x": 0,
       "_rubberband_y": 0,
       "_view_count": null,
       "_view_module": "jupyter-matplotlib",
       "_view_module_version": "^0.7.2",
       "_view_name": "MPLCanvasView",
       "_width": 640,
       "footer_visible": true,
       "header_visible": true,
       "layout": "IPY_MODEL_0c295c8540224ec1851216e8ce7c0c8f",
       "resizable": true,
       "toolbar": "IPY_MODEL_1882a00a9d0448a28a65ddde346b5067",
       "toolbar_position": "left",
       "toolbar_visible": true
      }
     },
     "a25b3bfe2aad470391444f580fdd47b6": {
      "model_module": "jupyter-matplotlib",
      "model_module_version": "^0.7.2",
      "model_name": "ToolbarModel",
      "state": {
       "_current_action": "",
       "_dom_classes": [],
       "_model_module": "jupyter-matplotlib",
       "_model_module_version": "^0.7.2",
       "_model_name": "ToolbarModel",
       "_view_count": null,
       "_view_module": "jupyter-matplotlib",
       "_view_module_version": "^0.7.2",
       "_view_name": "ToolbarView",
       "button_style": "",
       "collapsed": true,
       "layout": "IPY_MODEL_11aa49386948489b82b2a5aa830787aa",
       "orientation": "vertical",
       "toolitems": [
        [
         "Home",
         "Reset original view",
         "home",
         "home"
        ],
        [
         "Back",
         "Back to previous view",
         "arrow-left",
         "back"
        ],
        [
         "Forward",
         "Forward to next view",
         "arrow-right",
         "forward"
        ],
        [
         "Pan",
         "Pan axes with left mouse, zoom with right",
         "arrows",
         "pan"
        ],
        [
         "Zoom",
         "Zoom to rectangle",
         "square-o",
         "zoom"
        ],
        [
         "Download",
         "Download plot",
         "floppy-o",
         "save_figure"
        ]
       ]
      }
     },
     "f355b3591dd24b248d62a151e16c085f": {
      "model_module": "@jupyter-widgets/base",
      "model_module_version": "1.2.0",
      "model_name": "LayoutModel",
      "state": {
       "_model_module": "@jupyter-widgets/base",
       "_model_module_version": "1.2.0",
       "_model_name": "LayoutModel",
       "_view_count": null,
       "_view_module": "@jupyter-widgets/base",
       "_view_module_version": "1.2.0",
       "_view_name": "LayoutView",
       "align_content": null,
       "align_items": null,
       "align_self": null,
       "border": null,
       "bottom": null,
       "display": null,
       "flex": null,
       "flex_flow": null,
       "grid_area": null,
       "grid_auto_columns": null,
       "grid_auto_flow": null,
       "grid_auto_rows": null,
       "grid_column": null,
       "grid_gap": null,
       "grid_row": null,
       "grid_template_areas": null,
       "grid_template_columns": null,
       "grid_template_rows": null,
       "height": null,
       "justify_content": null,
       "justify_items": null,
       "left": null,
       "margin": null,
       "max_height": null,
       "max_width": null,
       "min_height": null,
       "min_width": null,
       "object_fit": null,
       "object_position": null,
       "order": null,
       "overflow": null,
       "overflow_x": null,
       "overflow_y": null,
       "padding": null,
       "right": null,
       "top": null,
       "visibility": null,
       "width": null
      }
     },
     "f6112fefa8cb489694690fc897216fd6": {
      "model_module": "@jupyter-widgets/base",
      "model_module_version": "1.2.0",
      "model_name": "LayoutModel",
      "state": {
       "_model_module": "@jupyter-widgets/base",
       "_model_module_version": "1.2.0",
       "_model_name": "LayoutModel",
       "_view_count": null,
       "_view_module": "@jupyter-widgets/base",
       "_view_module_version": "1.2.0",
       "_view_name": "LayoutView",
       "align_content": null,
       "align_items": null,
       "align_self": null,
       "border": null,
       "bottom": null,
       "display": null,
       "flex": null,
       "flex_flow": null,
       "grid_area": null,
       "grid_auto_columns": null,
       "grid_auto_flow": null,
       "grid_auto_rows": null,
       "grid_column": null,
       "grid_gap": null,
       "grid_row": null,
       "grid_template_areas": null,
       "grid_template_columns": null,
       "grid_template_rows": null,
       "height": null,
       "justify_content": null,
       "justify_items": null,
       "left": null,
       "margin": null,
       "max_height": null,
       "max_width": null,
       "min_height": null,
       "min_width": null,
       "object_fit": null,
       "object_position": null,
       "order": null,
       "overflow": null,
       "overflow_x": null,
       "overflow_y": null,
       "padding": null,
       "right": null,
       "top": null,
       "visibility": null,
       "width": null
      }
     }
    },
    "version_major": 2,
    "version_minor": 0
   }
  }
 },
 "nbformat": 4,
 "nbformat_minor": 2
}
