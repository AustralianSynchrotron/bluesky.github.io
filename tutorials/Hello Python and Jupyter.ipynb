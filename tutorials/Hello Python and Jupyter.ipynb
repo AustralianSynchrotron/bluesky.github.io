{
 "cells": [
  {
   "cell_type": "markdown",
   "metadata": {},
   "source": [
    "# Hello Python and Jupyter\n",
    "\n",
    "In this notebook you will:\n",
    "\n",
    "* Learn how to use a Jupyter notebook such as this one\n",
    "* Get a very quick tour of Python syntax and scientific libraries\n",
    "* Learn some IPython features that we will use in later tutorials"
   ]
  },
  {
   "cell_type": "markdown",
   "metadata": {},
   "source": [
    "## What is this?\n",
    "\n",
    "This is Jupyter notebook running in a personal \"container\" just for you, stocked with example data, demos, and tutorials that you can run and modify. All of the software you'll need is already installed and ready to use."
   ]
  },
  {
   "cell_type": "markdown",
   "metadata": {},
   "source": [
    "## Run some Python code!\n",
    "\n",
    "To run the code below:\n",
    "\n",
    "1. Click on the cell to select it.\n",
    "2. Press `SHIFT+ENTER` on your keyboard or press the <button class='btn btn-default'><span class='fa fa-step-forward'></span > Run</button> button in the toolbar above (in the toolbar above!)."
   ]
  },
  {
   "cell_type": "code",
   "execution_count": 1,
   "metadata": {
    "execution": {
     "iopub.execute_input": "2021-03-27T22:28:58.437705Z",
     "iopub.status.busy": "2021-03-27T22:28:58.436882Z",
     "iopub.status.idle": "2021-03-27T22:28:58.452820Z",
     "shell.execute_reply": "2021-03-27T22:28:58.453284Z"
    }
   },
   "outputs": [
    {
     "data": {
      "text/plain": [
       "2"
      ]
     },
     "execution_count": 1,
     "metadata": {},
     "output_type": "execute_result"
    }
   ],
   "source": [
    "1 + 1"
   ]
  },
  {
   "cell_type": "markdown",
   "metadata": {},
   "source": [
    "Notice that you can edit a cell and re-run it."
   ]
  },
  {
   "cell_type": "markdown",
   "metadata": {},
   "source": [
    "The notebook document mixes executable code and narrative content. It supports text, links, embedded videos, and even typeset math: $\\int_{-\\infty}^\\infty x\\, d x = \\frac{x^2}{2}$"
   ]
  },
  {
   "cell_type": "markdown",
   "metadata": {},
   "source": [
    "## Whirlwind Tour of Python Syntax\n",
    "\n",
    "### Lists"
   ]
  },
  {
   "cell_type": "code",
   "execution_count": 2,
   "metadata": {
    "execution": {
     "iopub.execute_input": "2021-03-27T22:28:58.459882Z",
     "iopub.status.busy": "2021-03-27T22:28:58.458241Z",
     "iopub.status.idle": "2021-03-27T22:28:58.460466Z",
     "shell.execute_reply": "2021-03-27T22:28:58.460888Z"
    }
   },
   "outputs": [],
   "source": [
    "stuff = [4, 'a', 8.3, True]"
   ]
  },
  {
   "cell_type": "code",
   "execution_count": 3,
   "metadata": {
    "execution": {
     "iopub.execute_input": "2021-03-27T22:28:58.466173Z",
     "iopub.status.busy": "2021-03-27T22:28:58.465449Z",
     "iopub.status.idle": "2021-03-27T22:28:58.468555Z",
     "shell.execute_reply": "2021-03-27T22:28:58.468968Z"
    }
   },
   "outputs": [
    {
     "data": {
      "text/plain": [
       "4"
      ]
     },
     "execution_count": 1,
     "metadata": {},
     "output_type": "execute_result"
    }
   ],
   "source": [
    "stuff[0]  # the first element"
   ]
  },
  {
   "cell_type": "code",
   "execution_count": 4,
   "metadata": {
    "execution": {
     "iopub.execute_input": "2021-03-27T22:28:58.474934Z",
     "iopub.status.busy": "2021-03-27T22:28:58.473719Z",
     "iopub.status.idle": "2021-03-27T22:28:58.476860Z",
     "shell.execute_reply": "2021-03-27T22:28:58.477279Z"
    }
   },
   "outputs": [
    {
     "data": {
      "text/plain": [
       "True"
      ]
     },
     "execution_count": 1,
     "metadata": {},
     "output_type": "execute_result"
    }
   ],
   "source": [
    "stuff[-1]  # the last element"
   ]
  },
  {
   "cell_type": "markdown",
   "metadata": {},
   "source": [
    "### Dictionaries (Mappings)"
   ]
  },
  {
   "cell_type": "code",
   "execution_count": 5,
   "metadata": {
    "execution": {
     "iopub.execute_input": "2021-03-27T22:28:58.482305Z",
     "iopub.status.busy": "2021-03-27T22:28:58.480845Z",
     "iopub.status.idle": "2021-03-27T22:28:58.483002Z",
     "shell.execute_reply": "2021-03-27T22:28:58.483408Z"
    }
   },
   "outputs": [],
   "source": [
    "d = {'a': 1, 'b': 2}"
   ]
  },
  {
   "cell_type": "code",
   "execution_count": 6,
   "metadata": {
    "execution": {
     "iopub.execute_input": "2021-03-27T22:28:58.488237Z",
     "iopub.status.busy": "2021-03-27T22:28:58.487585Z",
     "iopub.status.idle": "2021-03-27T22:28:58.490558Z",
     "shell.execute_reply": "2021-03-27T22:28:58.490969Z"
    }
   },
   "outputs": [
    {
     "data": {
      "text/plain": [
       "{'a': 1, 'b': 2}"
      ]
     },
     "execution_count": 1,
     "metadata": {},
     "output_type": "execute_result"
    }
   ],
   "source": [
    "d"
   ]
  },
  {
   "cell_type": "code",
   "execution_count": 7,
   "metadata": {
    "execution": {
     "iopub.execute_input": "2021-03-27T22:28:58.495811Z",
     "iopub.status.busy": "2021-03-27T22:28:58.495166Z",
     "iopub.status.idle": "2021-03-27T22:28:58.498158Z",
     "shell.execute_reply": "2021-03-27T22:28:58.498586Z"
    }
   },
   "outputs": [
    {
     "data": {
      "text/plain": [
       "2"
      ]
     },
     "execution_count": 1,
     "metadata": {},
     "output_type": "execute_result"
    }
   ],
   "source": [
    "d['b']"
   ]
  },
  {
   "cell_type": "code",
   "execution_count": 8,
   "metadata": {
    "execution": {
     "iopub.execute_input": "2021-03-27T22:28:58.503630Z",
     "iopub.status.busy": "2021-03-27T22:28:58.502053Z",
     "iopub.status.idle": "2021-03-27T22:28:58.504362Z",
     "shell.execute_reply": "2021-03-27T22:28:58.504815Z"
    }
   },
   "outputs": [],
   "source": [
    "d['c'] = 3"
   ]
  },
  {
   "cell_type": "code",
   "execution_count": 9,
   "metadata": {
    "execution": {
     "iopub.execute_input": "2021-03-27T22:28:58.510352Z",
     "iopub.status.busy": "2021-03-27T22:28:58.509557Z",
     "iopub.status.idle": "2021-03-27T22:28:58.512634Z",
     "shell.execute_reply": "2021-03-27T22:28:58.513044Z"
    }
   },
   "outputs": [
    {
     "data": {
      "text/plain": [
       "{'a': 1, 'b': 2, 'c': 3}"
      ]
     },
     "execution_count": 1,
     "metadata": {},
     "output_type": "execute_result"
    }
   ],
   "source": [
    "d"
   ]
  },
  {
   "cell_type": "markdown",
   "metadata": {},
   "source": [
    "### Functions"
   ]
  },
  {
   "cell_type": "code",
   "execution_count": 10,
   "metadata": {
    "execution": {
     "iopub.execute_input": "2021-03-27T22:28:58.518031Z",
     "iopub.status.busy": "2021-03-27T22:28:58.516620Z",
     "iopub.status.idle": "2021-03-27T22:28:58.518844Z",
     "shell.execute_reply": "2021-03-27T22:28:58.519272Z"
    }
   },
   "outputs": [],
   "source": [
    "def f(a, b):\n",
    "    return a + b"
   ]
  },
  {
   "cell_type": "markdown",
   "metadata": {},
   "source": [
    "In IPython `f?` or `?f` display information about `f`, such as its arguments."
   ]
  },
  {
   "cell_type": "code",
   "execution_count": 11,
   "metadata": {
    "execution": {
     "iopub.execute_input": "2021-03-27T22:28:58.554364Z",
     "iopub.status.busy": "2021-03-27T22:28:58.528554Z",
     "iopub.status.idle": "2021-03-27T22:28:58.574419Z",
     "shell.execute_reply": "2021-03-27T22:28:58.574916Z"
    }
   },
   "outputs": [],
   "source": [
    "f?"
   ]
  },
  {
   "cell_type": "markdown",
   "metadata": {},
   "source": [
    "If the function includes inline documentation (a \"doc string\") then `?` displays that as well."
   ]
  },
  {
   "cell_type": "code",
   "execution_count": 12,
   "metadata": {
    "execution": {
     "iopub.execute_input": "2021-03-27T22:28:58.580564Z",
     "iopub.status.busy": "2021-03-27T22:28:58.578920Z",
     "iopub.status.idle": "2021-03-27T22:28:58.581159Z",
     "shell.execute_reply": "2021-03-27T22:28:58.581588Z"
    }
   },
   "outputs": [],
   "source": [
    "def f(a, b):\n",
    "    \"Add a and b.\"\n",
    "    return a + b"
   ]
  },
  {
   "cell_type": "code",
   "execution_count": 13,
   "metadata": {
    "execution": {
     "iopub.execute_input": "2021-03-27T22:28:58.588294Z",
     "iopub.status.busy": "2021-03-27T22:28:58.586737Z",
     "iopub.status.idle": "2021-03-27T22:28:58.589077Z",
     "shell.execute_reply": "2021-03-27T22:28:58.589521Z"
    }
   },
   "outputs": [],
   "source": [
    "f?"
   ]
  },
  {
   "cell_type": "markdown",
   "metadata": {},
   "source": [
    "Arguments can have default values."
   ]
  },
  {
   "cell_type": "code",
   "execution_count": 14,
   "metadata": {
    "execution": {
     "iopub.execute_input": "2021-03-27T22:28:58.594941Z",
     "iopub.status.busy": "2021-03-27T22:28:58.593337Z",
     "iopub.status.idle": "2021-03-27T22:28:58.595547Z",
     "shell.execute_reply": "2021-03-27T22:28:58.595962Z"
    }
   },
   "outputs": [],
   "source": [
    "def f(a, b, c=1):\n",
    "    return (a + b) * c"
   ]
  },
  {
   "cell_type": "code",
   "execution_count": 15,
   "metadata": {
    "execution": {
     "iopub.execute_input": "2021-03-27T22:28:58.601777Z",
     "iopub.status.busy": "2021-03-27T22:28:58.600645Z",
     "iopub.status.idle": "2021-03-27T22:28:58.603726Z",
     "shell.execute_reply": "2021-03-27T22:28:58.604130Z"
    }
   },
   "outputs": [
    {
     "data": {
      "text/plain": [
       "3"
      ]
     },
     "execution_count": 1,
     "metadata": {},
     "output_type": "execute_result"
    }
   ],
   "source": [
    "f(1, 2)"
   ]
  },
  {
   "cell_type": "code",
   "execution_count": 16,
   "metadata": {
    "execution": {
     "iopub.execute_input": "2021-03-27T22:28:58.609961Z",
     "iopub.status.busy": "2021-03-27T22:28:58.608746Z",
     "iopub.status.idle": "2021-03-27T22:28:58.612299Z",
     "shell.execute_reply": "2021-03-27T22:28:58.611872Z"
    }
   },
   "outputs": [
    {
     "data": {
      "text/plain": [
       "9"
      ]
     },
     "execution_count": 1,
     "metadata": {},
     "output_type": "execute_result"
    }
   ],
   "source": [
    "f(1, 2, 3)"
   ]
  },
  {
   "cell_type": "markdown",
   "metadata": {},
   "source": [
    "Any argument can be passed by keyword. This is slower to type but clearer to read later."
   ]
  },
  {
   "cell_type": "code",
   "execution_count": 17,
   "metadata": {
    "execution": {
     "iopub.execute_input": "2021-03-27T22:28:58.617650Z",
     "iopub.status.busy": "2021-03-27T22:28:58.616971Z",
     "iopub.status.idle": "2021-03-27T22:28:58.620021Z",
     "shell.execute_reply": "2021-03-27T22:28:58.620472Z"
    }
   },
   "outputs": [
    {
     "data": {
      "text/plain": [
       "9"
      ]
     },
     "execution_count": 1,
     "metadata": {},
     "output_type": "execute_result"
    }
   ],
   "source": [
    "f(a=1, b=2, c=3)"
   ]
  },
  {
   "cell_type": "markdown",
   "metadata": {},
   "source": [
    "If using keywords, you don't have to remember the argument order."
   ]
  },
  {
   "cell_type": "code",
   "execution_count": 18,
   "metadata": {
    "execution": {
     "iopub.execute_input": "2021-03-27T22:28:58.625758Z",
     "iopub.status.busy": "2021-03-27T22:28:58.625102Z",
     "iopub.status.idle": "2021-03-27T22:28:58.628612Z",
     "shell.execute_reply": "2021-03-27T22:28:58.628143Z"
    }
   },
   "outputs": [
    {
     "data": {
      "text/plain": [
       "9"
      ]
     },
     "execution_count": 1,
     "metadata": {},
     "output_type": "execute_result"
    }
   ],
   "source": [
    "f(c=3, a=1, b=2)"
   ]
  },
  {
   "cell_type": "markdown",
   "metadata": {},
   "source": [
    "## Fast numerical computation using numpy\n",
    "\n",
    "For numerical computing, a numpy array is more useful and performant than a plain list."
   ]
  },
  {
   "cell_type": "code",
   "execution_count": 19,
   "metadata": {
    "execution": {
     "iopub.execute_input": "2021-03-27T22:28:58.633324Z",
     "iopub.status.busy": "2021-03-27T22:28:58.632480Z",
     "iopub.status.idle": "2021-03-27T22:28:58.755627Z",
     "shell.execute_reply": "2021-03-27T22:28:58.756136Z"
    }
   },
   "outputs": [],
   "source": [
    "import numpy as np\n",
    "\n",
    "a = np.array([1, 2, 3, 4])"
   ]
  },
  {
   "cell_type": "code",
   "execution_count": 20,
   "metadata": {
    "execution": {
     "iopub.execute_input": "2021-03-27T22:28:58.759834Z",
     "iopub.status.busy": "2021-03-27T22:28:58.758996Z",
     "iopub.status.idle": "2021-03-27T22:28:58.764221Z",
     "shell.execute_reply": "2021-03-27T22:28:58.764873Z"
    }
   },
   "outputs": [
    {
     "data": {
      "text/plain": [
       "array([1, 2, 3, 4])"
      ]
     },
     "execution_count": 1,
     "metadata": {},
     "output_type": "execute_result"
    }
   ],
   "source": [
    "a"
   ]
  },
  {
   "cell_type": "code",
   "execution_count": 21,
   "metadata": {
    "execution": {
     "iopub.execute_input": "2021-03-27T22:28:58.770243Z",
     "iopub.status.busy": "2021-03-27T22:28:58.769518Z",
     "iopub.status.idle": "2021-03-27T22:28:58.775397Z",
     "shell.execute_reply": "2021-03-27T22:28:58.776001Z"
    }
   },
   "outputs": [
    {
     "data": {
      "text/plain": [
       "2.5"
      ]
     },
     "execution_count": 1,
     "metadata": {},
     "output_type": "execute_result"
    }
   ],
   "source": [
    "np.mean(a)"
   ]
  },
  {
   "cell_type": "code",
   "execution_count": 22,
   "metadata": {
    "execution": {
     "iopub.execute_input": "2021-03-27T22:28:58.782480Z",
     "iopub.status.busy": "2021-03-27T22:28:58.781684Z",
     "iopub.status.idle": "2021-03-27T22:28:58.788021Z",
     "shell.execute_reply": "2021-03-27T22:28:58.788634Z"
    }
   },
   "outputs": [
    {
     "data": {
      "text/plain": [
       "array([ 0.84147098,  0.90929743,  0.14112001, -0.7568025 ])"
      ]
     },
     "execution_count": 1,
     "metadata": {},
     "output_type": "execute_result"
    }
   ],
   "source": [
    "np.sin(a)"
   ]
  },
  {
   "cell_type": "markdown",
   "metadata": {},
   "source": [
    "We'll use the IPython `%%timeit` magic to measure the speed difference between built-in Python lists and numpy arrays."
   ]
  },
  {
   "cell_type": "code",
   "execution_count": 23,
   "metadata": {
    "execution": {
     "iopub.execute_input": "2021-03-27T22:28:58.834320Z",
     "iopub.status.busy": "2021-03-27T22:28:58.829176Z",
     "iopub.status.idle": "2021-03-27T22:29:00.681859Z",
     "shell.execute_reply": "2021-03-27T22:29:00.682341Z"
    }
   },
   "outputs": [
    {
     "name": "stdout",
     "output_type": "stream",
     "text": [
      "228 µs ± 1.6 µs per loop (mean ± std. dev. of 7 runs, 1000 loops each)\n"
     ]
    }
   ],
   "source": [
    "%%timeit\n",
    "\n",
    "big = list(range(10000))  # setup line, not timed\n",
    "sum(big)  # timed"
   ]
  },
  {
   "cell_type": "code",
   "execution_count": 24,
   "metadata": {
    "execution": {
     "iopub.execute_input": "2021-03-27T22:29:00.687853Z",
     "iopub.status.busy": "2021-03-27T22:29:00.687025Z",
     "iopub.status.idle": "2021-03-27T22:29:14.647091Z",
     "shell.execute_reply": "2021-03-27T22:29:14.647575Z"
    }
   },
   "outputs": [
    {
     "name": "stdout",
     "output_type": "stream",
     "text": [
      "17.2 µs ± 94.3 ns per loop (mean ± std. dev. of 7 runs, 100000 loops each)\n"
     ]
    }
   ],
   "source": [
    "%%timeit\n",
    "\n",
    "big = np.arange(10000)  # setup line, not timed\n",
    "np.sum(big)  # timed"
   ]
  },
  {
   "cell_type": "markdown",
   "metadata": {},
   "source": [
    "## Plotting using matplotlib\n",
    "\n",
    "In an interactive setting, this will show a canvas that we can pan and zoom. (Keep reading for what we can do in a non-interactive setting, such as the static web page version of this tutorial.)"
   ]
  },
  {
   "cell_type": "code",
   "execution_count": 25,
   "metadata": {
    "execution": {
     "iopub.execute_input": "2021-03-27T22:29:14.654024Z",
     "iopub.status.busy": "2021-03-27T22:29:14.653073Z",
     "iopub.status.idle": "2021-03-27T22:29:14.960109Z",
     "shell.execute_reply": "2021-03-27T22:29:14.959666Z"
    }
   },
   "outputs": [
    {
     "name": "stderr",
     "output_type": "stream",
     "text": [
      "/home/travis/virtualenv/python3.7.1/lib/python3.7/site-packages/traitlets/traitlets.py:3036: FutureWarning: --rc={'figure.dpi': 96} for dict-traits is deprecated in traitlets 5.0. You can pass --rc <key=value> ... multiple times to add items to a dict.\n",
      "  FutureWarning,\n"
     ]
    },
    {
     "data": {
      "application/vnd.jupyter.widget-view+json": {
       "model_id": "90ba035a43aa4e61a7bd3130c138f420",
       "version_major": 2,
       "version_minor": 0
      },
      "text/plain": [
       "Canvas(toolbar=Toolbar(toolitems=[('Home', 'Reset original view', 'home', 'home'), ('Back', 'Back to previous …"
      ]
     },
     "metadata": {},
     "output_type": "display_data"
    },
    {
     "data": {
      "text/plain": [
       "<Figure size 640x480 with 0 Axes>"
      ]
     },
     "execution_count": 1,
     "metadata": {},
     "output_type": "execute_result"
    }
   ],
   "source": [
    "# We just have to do this line once, before we do any plotting.\n",
    "%matplotlib widget\n",
    "import matplotlib.pyplot as plt\n",
    "\n",
    "plt.figure()"
   ]
  },
  {
   "cell_type": "markdown",
   "metadata": {},
   "source": [
    "We can plot some data like so. In an interactive setting, this will update the canvas above."
   ]
  },
  {
   "cell_type": "code",
   "execution_count": 26,
   "metadata": {
    "execution": {
     "iopub.execute_input": "2021-03-27T22:29:14.986718Z",
     "iopub.status.busy": "2021-03-27T22:29:14.976540Z",
     "iopub.status.idle": "2021-03-27T22:29:14.993004Z",
     "shell.execute_reply": "2021-03-27T22:29:14.992026Z"
    }
   },
   "outputs": [
    {
     "data": {
      "text/plain": [
       "[<matplotlib.lines.Line2D at 0x7fd47e42bf60>]"
      ]
     },
     "execution_count": 1,
     "metadata": {},
     "output_type": "execute_result"
    }
   ],
   "source": [
    "plt.plot([1, 1, 2, 3, 5, 8])"
   ]
  },
  {
   "cell_type": "markdown",
   "metadata": {},
   "source": [
    "And we can show a noninteractive snapshot of the state of the figure at this point by display the figure itself."
   ]
  },
  {
   "cell_type": "code",
   "execution_count": 27,
   "metadata": {
    "execution": {
     "iopub.execute_input": "2021-03-27T22:29:14.999159Z",
     "iopub.status.busy": "2021-03-27T22:29:14.998334Z",
     "iopub.status.idle": "2021-03-27T22:29:15.185733Z",
     "shell.execute_reply": "2021-03-27T22:29:15.184802Z"
    }
   },
   "outputs": [
    {
     "data": {
      "image/png": "[encoded data removed]",
      "text/plain": [
       "<Figure size 640x480 with 1 Axes>"
      ]
     },
     "execution_count": 1,
     "metadata": {},
     "output_type": "execute_result"
    }
   ],
   "source": [
    "plt.gcf()"
   ]
  },
  {
   "cell_type": "markdown",
   "metadata": {},
   "source": [
    "Displaying `plt.gcf()` (or any `Figure`) shows a non-interactive snapshot of a figure. Displaying `plt.gcf().canvas` or any `Canvas` gives us another interactive, live-updating view of the figure."
   ]
  },
  {
   "cell_type": "markdown",
   "metadata": {},
   "source": [
    "## Interrupting the IPython Kernel\n",
    "\n",
    "Run this cell, and then click the square 'stop' button in the notebook toolbar to interrupt the infinite loop.\n",
    "\n",
    "(This is equivalent to Ctrl+C in a terminal.)"
   ]
  },
  {
   "cell_type": "code",
   "execution_count": 28,
   "metadata": {
    "execution": {
     "iopub.execute_input": "2021-03-27T22:29:15.189811Z",
     "iopub.status.busy": "2021-03-27T22:29:15.189290Z",
     "iopub.status.idle": "2021-03-27T22:29:15.193622Z",
     "shell.execute_reply": "2021-03-27T22:29:15.193150Z"
    }
   },
   "outputs": [],
   "source": [
    "# This runs forever -- hit the square 'stop' button in Jupyter to interrupt\n",
    "# The following is \"commented out\". Un-comment the lines below to run them.\n",
    "# while True:\n",
    "#     continue"
   ]
  },
  {
   "cell_type": "markdown",
   "metadata": {},
   "source": [
    "## \"Magics\""
   ]
  },
  {
   "cell_type": "markdown",
   "metadata": {},
   "source": [
    "The code entered here is interpreted by _IPython_, which extends Python by adding some conveniences that help you make the most out of using Python interactively. It was originally created by a physicist, Fernando Perez.\n",
    "\n",
    "\"Magics\" are special IPython syntax. They are not part of the Python language, and they should not be used in scripts or libraries; they are meant for interactive use.\n",
    "\n",
    "The `%run` magic executes a Python script."
   ]
  },
  {
   "cell_type": "code",
   "execution_count": 29,
   "metadata": {
    "execution": {
     "iopub.execute_input": "2021-03-27T22:29:15.200296Z",
     "iopub.status.busy": "2021-03-27T22:29:15.198454Z",
     "iopub.status.idle": "2021-03-27T22:29:15.204898Z",
     "shell.execute_reply": "2021-03-27T22:29:15.203730Z"
    }
   },
   "outputs": [
    {
     "name": "stdout",
     "output_type": "stream",
     "text": [
      "hello world\n"
     ]
    }
   ],
   "source": [
    "%run scripts/hello_world.py"
   ]
  },
  {
   "cell_type": "markdown",
   "metadata": {},
   "source": [
    "When the script completes, any variables defined in that script will be dumepd into our namespace. For example (as we will see below), this script happens to define a variable named `message`. Now that we have `%run` the script, `message` is in our namespace."
   ]
  },
  {
   "cell_type": "code",
   "execution_count": 30,
   "metadata": {
    "execution": {
     "iopub.execute_input": "2021-03-27T22:29:15.211067Z",
     "iopub.status.busy": "2021-03-27T22:29:15.210409Z",
     "iopub.status.idle": "2021-03-27T22:29:15.214523Z",
     "shell.execute_reply": "2021-03-27T22:29:15.214066Z"
    }
   },
   "outputs": [
    {
     "data": {
      "text/plain": [
       "'hello world'"
      ]
     },
     "execution_count": 1,
     "metadata": {},
     "output_type": "execute_result"
    }
   ],
   "source": [
    "message"
   ]
  },
  {
   "cell_type": "markdown",
   "metadata": {},
   "source": [
    "This behavior can be confusing, in the sense that the reader has to do some digging to figure out where ``message`` was defined and what it is, but it has its uses. Throughout this tutorial, we will use the `%run` magic as a shorthand for running boilerplate configuration code and defining variables representing hardware."
   ]
  },
  {
   "cell_type": "markdown",
   "metadata": {},
   "source": [
    "The `%load` magic copies the contents of a file into a cell but does not run it."
   ]
  },
  {
   "cell_type": "code",
   "execution_count": 31,
   "metadata": {
    "execution": {
     "iopub.execute_input": "2021-03-27T22:29:15.219736Z",
     "iopub.status.busy": "2021-03-27T22:29:15.218966Z",
     "iopub.status.idle": "2021-03-27T22:29:15.221752Z",
     "shell.execute_reply": "2021-03-27T22:29:15.222210Z"
    }
   },
   "outputs": [],
   "source": [
    "%load scripts/hello_world.py"
   ]
  },
  {
   "cell_type": "markdown",
   "metadata": {},
   "source": [
    "Execute the cell a second time to actually run the code. Throughout this tutorial, we use the `%load` magic to load solutions to exercises."
   ]
  },
  {
   "cell_type": "markdown",
   "metadata": {},
   "source": [
    "## System Shell Access\n",
    "\n",
    "Any input line beginning with a `!` character is passed verbatim (minus the `!`, of course) to the underlying operating system."
   ]
  },
  {
   "cell_type": "code",
   "execution_count": 32,
   "metadata": {
    "execution": {
     "iopub.execute_input": "2021-03-27T22:29:15.231197Z",
     "iopub.status.busy": "2021-03-27T22:29:15.226373Z",
     "iopub.status.idle": "2021-03-27T22:29:15.351427Z",
     "shell.execute_reply": "2021-03-27T22:29:15.350935Z"
    }
   },
   "outputs": [
    {
     "name": "stdout",
     "output_type": "stream",
     "text": [
      "Access Saved Data.ipynb\r\n",
      "Anatomy of a Device.ipynb\r\n",
      "conf.py\r\n",
      "Epics Signal.ipynb\r\n",
      "Export data to files with Suitcase.ipynb\r\n",
      "Flyer Basics.ipynb\r\n",
      "Hello Bluesky.ipynb\r\n",
      "Hello Python and Jupyter.ipynb\r\n",
      "Higher Dimensional Data.ipynb\r\n",
      "index.rst\r\n",
      "Let Us Do the Bookkeeping For You.ipynb\r\n",
      "Live Nonlinear Fitting.ipynb\r\n",
      "matplotlibrc\r\n",
      "Multi-dimensional Coordinates.ipynb\r\n",
      "my_exported_files\r\n",
      "Powder Diffraction\r\n",
      "Process Tabular Data with Pandas.ipynb\r\n",
      "rsoxs_simulation_data\r\n",
      "scripts\r\n",
      "Slice and Interpolate Image Data.ipynb\r\n",
      "solutions\r\n",
      "static\r\n",
      "_static\r\n",
      "supervisor\r\n",
      "Supplemental Data.ipynb\r\n",
      "X-ray Absorption Fine Structure\r\n"
     ]
    }
   ],
   "source": [
    "!ls"
   ]
  }
 ],
 "metadata": {
  "kernelspec": {
   "display_name": "Python 3",
   "language": "python",
   "name": "python3"
  },
  "language_info": {
   "codemirror_mode": {
    "name": "ipython",
    "version": 3
   },
   "file_extension": ".py",
   "mimetype": "text/x-python",
   "name": "python",
   "nbconvert_exporter": "python",
   "pygments_lexer": "ipython3",
   "version": "3.7.1"
  },
  "widgets": {
   "application/vnd.jupyter.widget-state+json": {
    "state": {
     "7be8c4b31a3549b4ac8349f5a160431d": {
      "model_module": "@jupyter-widgets/base",
      "model_module_version": "1.2.0",
      "model_name": "LayoutModel",
      "state": {
       "_model_module": "@jupyter-widgets/base",
       "_model_module_version": "1.2.0",
       "_model_name": "LayoutModel",
       "_view_count": null,
       "_view_module": "@jupyter-widgets/base",
       "_view_module_version": "1.2.0",
       "_view_name": "LayoutView",
       "align_content": null,
       "align_items": null,
       "align_self": null,
       "border": null,
       "bottom": null,
       "display": null,
       "flex": null,
       "flex_flow": null,
       "grid_area": null,
       "grid_auto_columns": null,
       "grid_auto_flow": null,
       "grid_auto_rows": null,
       "grid_column": null,
       "grid_gap": null,
       "grid_row": null,
       "grid_template_areas": null,
       "grid_template_columns": null,
       "grid_template_rows": null,
       "height": null,
       "justify_content": null,
       "justify_items": null,
       "left": null,
       "margin": null,
       "max_height": null,
       "max_width": null,
       "min_height": null,
       "min_width": null,
       "object_fit": null,
       "object_position": null,
       "order": null,
       "overflow": null,
       "overflow_x": null,
       "overflow_y": null,
       "padding": null,
       "right": null,
       "top": null,
       "visibility": null,
       "width": null
      }
     },
     "892844d4be484f4fa230d030e6448dc1": {
      "model_module": "jupyter-matplotlib",
      "model_module_version": "^0.9.0",
      "model_name": "ToolbarModel",
      "state": {
       "_current_action": "",
       "_dom_classes": [],
       "_model_module": "jupyter-matplotlib",
       "_model_module_version": "^0.9.0",
       "_model_name": "ToolbarModel",
       "_view_count": null,
       "_view_module": "jupyter-matplotlib",
       "_view_module_version": "^0.9.0",
       "_view_name": "ToolbarView",
       "button_style": "",
       "collapsed": true,
       "layout": "IPY_MODEL_7be8c4b31a3549b4ac8349f5a160431d",
       "orientation": "vertical",
       "toolitems": [
        [
         "Home",
         "Reset original view",
         "home",
         "home"
        ],
        [
         "Back",
         "Back to previous view",
         "arrow-left",
         "back"
        ],
        [
         "Forward",
         "Forward to next view",
         "arrow-right",
         "forward"
        ],
        [
         "Pan",
         "Left button pans, Right button zooms\nx/y fixes axis, CTRL fixes aspect",
         "arrows",
         "pan"
        ],
        [
         "Zoom",
         "Zoom to rectangle\nx/y fixes axis, CTRL fixes aspect",
         "square-o",
         "zoom"
        ],
        [
         "Download",
         "Download plot",
         "floppy-o",
         "save_figure"
        ]
       ]
      }
     },
     "90ba035a43aa4e61a7bd3130c138f420": {
      "model_module": "jupyter-matplotlib",
      "model_module_version": "^0.9.0",
      "model_name": "MPLCanvasModel",
      "state": {
       "_cursor": "pointer",
       "_dom_classes": [],
       "_figure_label": "Figure",
       "_height": 0,
       "_image_mode": "full",
       "_message": "",
       "_model_module": "jupyter-matplotlib",
       "_model_module_version": "^0.9.0",
       "_model_name": "MPLCanvasModel",
       "_rubberband_height": 0,
       "_rubberband_width": 0,
       "_rubberband_x": 0,
       "_rubberband_y": 0,
       "_view_count": null,
       "_view_module": "jupyter-matplotlib",
       "_view_module_version": "^0.9.0",
       "_view_name": "MPLCanvasView",
       "_width": 0,
       "capture_scroll": false,
       "footer_visible": true,
       "header_visible": true,
       "layout": "IPY_MODEL_d801f81c541348f6b8a2d769f48f7054",
       "resizable": true,
       "toolbar": "IPY_MODEL_892844d4be484f4fa230d030e6448dc1",
       "toolbar_position": "left",
       "toolbar_visible": true
      }
     },
     "d801f81c541348f6b8a2d769f48f7054": {
      "model_module": "@jupyter-widgets/base",
      "model_module_version": "1.2.0",
      "model_name": "LayoutModel",
      "state": {
       "_model_module": "@jupyter-widgets/base",
       "_model_module_version": "1.2.0",
       "_model_name": "LayoutModel",
       "_view_count": null,
       "_view_module": "@jupyter-widgets/base",
       "_view_module_version": "1.2.0",
       "_view_name": "LayoutView",
       "align_content": null,
       "align_items": null,
       "align_self": null,
       "border": null,
       "bottom": null,
       "display": null,
       "flex": null,
       "flex_flow": null,
       "grid_area": null,
       "grid_auto_columns": null,
       "grid_auto_flow": null,
       "grid_auto_rows": null,
       "grid_column": null,
       "grid_gap": null,
       "grid_row": null,
       "grid_template_areas": null,
       "grid_template_columns": null,
       "grid_template_rows": null,
       "height": null,
       "justify_content": null,
       "justify_items": null,
       "left": null,
       "margin": null,
       "max_height": null,
       "max_width": null,
       "min_height": null,
       "min_width": null,
       "object_fit": null,
       "object_position": null,
       "order": null,
       "overflow": null,
       "overflow_x": null,
       "overflow_y": null,
       "padding": null,
       "right": null,
       "top": null,
       "visibility": null,
       "width": null
      }
     }
    },
    "version_major": 2,
    "version_minor": 0
   }
  }
 },
 "nbformat": 4,
 "nbformat_minor": 4
}
