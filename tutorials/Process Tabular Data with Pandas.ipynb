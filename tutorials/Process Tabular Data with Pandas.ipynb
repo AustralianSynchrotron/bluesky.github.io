{
 "cells": [
  {
   "cell_type": "markdown",
   "metadata": {},
   "source": [
    "# Process Tabular Data with Pandas\n",
    "\n",
    "In this notebook you will:\n",
    "\n",
    "* Load a data from a scan.\n",
    "* Visualize it.\n",
    "* Explore the dataset, performing basic filtering and statistic operations using ``pandas``.\n",
    "\n",
    "Recommended Prerequisites:\n",
    "\n",
    "* [Hello Bluesky](./Hello%20Bluesky.ipynb)\n",
    "\n",
    "## Configuration\n",
    "Below, we will connect to EPICS IOC(s) controlling simulated hardware in lieu of actual motors, detectors. The IOCs should already be running in the background. Run this command to verify that they are running: it should produce output with RUNNING on each line. In the event of a problem, edit this command to replace status with restart all and run again.\n"
   ]
  },
  {
   "cell_type": "code",
   "execution_count": 1,
   "metadata": {
    "execution": {
     "iopub.execute_input": "2021-03-27T22:30:45.879885Z",
     "iopub.status.busy": "2021-03-27T22:30:45.879002Z",
     "iopub.status.idle": "2021-03-27T22:30:46.230722Z",
     "shell.execute_reply": "2021-03-27T22:30:46.230115Z"
    }
   },
   "outputs": [
    {
     "name": "stdout",
     "output_type": "stream",
     "text": [
      "decay                            RUNNING   pid 4958, uptime 0:03:29\r\n",
      "mini_beamline                    RUNNING   pid 4959, uptime 0:03:29\r\n",
      "random_walk                      RUNNING   pid 4960, uptime 0:03:29\r\n",
      "random_walk_horiz                RUNNING   pid 4961, uptime 0:03:29\r\n",
      "random_walk_vert                 RUNNING   pid 4962, uptime 0:03:29\r\n",
      "simple                           RUNNING   pid 4963, uptime 0:03:29\r\n",
      "thermo_sim                       RUNNING   pid 4964, uptime 0:03:29\r\n",
      "trigger_with_pc                  FATAL     Exited too quickly (process log may have details)\r\n"
     ]
    }
   ],
   "source": [
    "!supervisorctl -c supervisor/supervisord.conf status"
   ]
  },
  {
   "cell_type": "code",
   "execution_count": 2,
   "metadata": {
    "execution": {
     "iopub.execute_input": "2021-03-27T22:30:46.238429Z",
     "iopub.status.busy": "2021-03-27T22:30:46.236945Z",
     "iopub.status.idle": "2021-03-27T22:30:48.491326Z",
     "shell.execute_reply": "2021-03-27T22:30:48.491850Z"
    }
   },
   "outputs": [
    {
     "name": "stderr",
     "output_type": "stream",
     "text": [
      "/home/travis/virtualenv/python3.7.1/lib/python3.7/site-packages/traitlets/traitlets.py:3036: FutureWarning: --rc={'figure.dpi': 96} for dict-traits is deprecated in traitlets 5.0. You can pass --rc <key=value> ... multiple times to add items to a dict.\n",
      "  FutureWarning,\n"
     ]
    },
    {
     "name": "stderr",
     "output_type": "stream",
     "text": [
      "/home/travis/virtualenv/python3.7.1/lib/python3.7/site-packages/pims/image_reader.py:26: RuntimeWarning: PIMS image_reader.py could not find scikit-image. Falling back to matplotlib's imread(), which uses floats instead of integers. This may break your scripts. \n",
      "(To ignore this warning, include the line \"warnings.simplefilter(\"ignore\", RuntimeWarning)\" in your script.)\n",
      "  warnings.warn(RuntimeWarning(ski_preferred))\n"
     ]
    }
   ],
   "source": [
    "%run scripts/beamline_configuration.py"
   ]
  },
  {
   "cell_type": "markdown",
   "metadata": {},
   "source": [
    "## Quickly access and explore the data\n",
    "\n",
    "Let's take sample data."
   ]
  },
  {
   "cell_type": "code",
   "execution_count": 3,
   "metadata": {
    "execution": {
     "iopub.execute_input": "2021-03-27T22:30:48.508788Z",
     "iopub.status.busy": "2021-03-27T22:30:48.508229Z",
     "iopub.status.idle": "2021-03-27T22:30:48.520420Z",
     "shell.execute_reply": "2021-03-27T22:30:48.520837Z"
    },
    "nbshpinx": "hidden"
   },
   "outputs": [
    {
     "data": {
      "application/vnd.jupyter.widget-view+json": {
       "model_id": "23274bd706f14b32bea4db84d69bf6ce",
       "version_major": 2,
       "version_minor": 0
      },
      "text/plain": [
       "Canvas(toolbar=Toolbar(toolitems=[('Home', 'Reset original view', 'home', 'home'), ('Back', 'Back to previous …"
      ]
     },
     "metadata": {},
     "output_type": "display_data"
    },
    {
     "data": {
      "text/plain": [
       "<Figure size 640x480 with 0 Axes>"
      ]
     },
     "execution_count": 1,
     "metadata": {},
     "output_type": "execute_result"
    }
   ],
   "source": [
    "# Creating a figure explicitly in advance helps with the\n",
    "# top-to-bottom flow of this notebook, but it is not necessary.\n",
    "# If this is omitted, bluesky will cause a figure to appear\n",
    "# during the RE(...) execution below.\n",
    "plt.figure('I slit_det vs motor_slit')"
   ]
  },
  {
   "cell_type": "code",
   "execution_count": 4,
   "metadata": {
    "execution": {
     "iopub.execute_input": "2021-03-27T22:30:48.531435Z",
     "iopub.status.busy": "2021-03-27T22:30:48.530802Z",
     "iopub.status.idle": "2021-03-27T22:30:49.668356Z",
     "shell.execute_reply": "2021-03-27T22:30:49.668978Z"
    }
   },
   "outputs": [
    {
     "name": "stdout",
     "output_type": "stream",
     "text": [
      "\n",
      "\n",
      "Transient Scan ID: 26     Time: 2021-03-27 22:30:48\n",
      "Persistent Unique Scan ID: '2452dc56-b774-4bc2-a502-29fa9b09939a'\n"
     ]
    },
    {
     "name": "stdout",
     "output_type": "stream",
     "text": [
      "New stream: 'primary'\n"
     ]
    },
    {
     "name": "stdout",
     "output_type": "stream",
     "text": [
      "+-----------+------------+------------+------------+------------+\n",
      "|   seq_num |       time | motor_slit |          I |   slit_det |\n",
      "+-----------+------------+------------+------------+------------+\n",
      "|         1 | 22:30:49.1 |    -10.000 |        488 |      95809 |\n",
      "|         2 | 22:30:49.2 |     -8.571 |        500 |       7834 |\n",
      "|         3 | 22:30:49.2 |     -7.143 |        500 |       7834 |\n",
      "|         4 | 22:30:49.2 |     -5.714 |        500 |       7834 |\n",
      "|         5 | 22:30:49.2 |     -4.286 |        504 |       7834 |\n",
      "|         6 | 22:30:49.3 |     -2.857 |        504 |       7834 |\n",
      "|         7 | 22:30:49.3 |     -1.429 |        504 |       7834 |\n"
     ]
    },
    {
     "name": "stderr",
     "output_type": "stream",
     "text": [
      "/home/travis/virtualenv/python3.7.1/lib/python3.7/site-packages/bluesky/utils.py:1598: UserWarning: Tight layout not applied. The left and right margins cannot be made large enough to accommodate all axes decorations. \n",
      "  f_mgr.canvas.draw()\n"
     ]
    },
    {
     "name": "stdout",
     "output_type": "stream",
     "text": [
      "|         8 | 22:30:49.3 |      0.000 |        504 |       7834 |\n",
      "|         9 | 22:30:49.3 |      1.429 |        504 |       7834 |\n",
      "|        10 | 22:30:49.3 |      2.857 |        507 |       7834 |\n",
      "|        11 | 22:30:49.4 |      4.286 |        507 |       7834 |\n",
      "|        12 | 22:30:49.4 |      5.714 |        507 |       7834 |\n",
      "|        13 | 22:30:49.4 |      7.143 |        507 |       7834 |\n",
      "|        14 | 22:30:49.4 |      8.571 |        507 |       7834 |\n",
      "|        15 | 22:30:49.4 |     10.000 |        507 |       7834 |\n",
      "+-----------+------------+------------+------------+------------+\n",
      "generator scan ['2452dc56'] (scan num: 26)\n",
      "\n",
      "\n",
      "\n"
     ]
    },
    {
     "data": {
      "text/plain": [
       "('2452dc56-b774-4bc2-a502-29fa9b09939a',)"
      ]
     },
     "execution_count": 1,
     "metadata": {},
     "output_type": "execute_result"
    }
   ],
   "source": [
    "RE(scan([slit, I], motor_slit, -10, 10, 15))"
   ]
  },
  {
   "cell_type": "code",
   "execution_count": 5,
   "metadata": {
    "execution": {
     "iopub.execute_input": "2021-03-27T22:30:49.693859Z",
     "iopub.status.busy": "2021-03-27T22:30:49.689336Z",
     "iopub.status.idle": "2021-03-27T22:30:49.876024Z",
     "shell.execute_reply": "2021-03-27T22:30:49.875016Z"
    }
   },
   "outputs": [
    {
     "data": {
      "image/png": "[encoded data removed]",
      "text/plain": [
       "<Figure size 500x1000 with 2 Axes>"
      ]
     },
     "execution_count": 1,
     "metadata": {},
     "output_type": "execute_result"
    }
   ],
   "source": [
    "plt.gcf()  # Display a snapshot of the current state of the figure."
   ]
  },
  {
   "cell_type": "markdown",
   "metadata": {},
   "source": [
    "Previously we used the syntax ``db(...)`` to search for Headers. We looped through each Header and extracted some of the metadata encapsulated in it. We use the shorthand ``db[-N]`` to retrieve exactly _one_ header, the one corresponding to ``N`` runs ago. "
   ]
  },
  {
   "cell_type": "code",
   "execution_count": 6,
   "metadata": {
    "execution": {
     "iopub.execute_input": "2021-03-27T22:30:50.047982Z",
     "iopub.status.busy": "2021-03-27T22:30:50.046932Z",
     "iopub.status.idle": "2021-03-27T22:30:50.051516Z",
     "shell.execute_reply": "2021-03-27T22:30:50.051059Z"
    }
   },
   "outputs": [],
   "source": [
    "header = db[-1]  # Header for the most recent one (i.e. 1 run ago)"
   ]
  },
  {
   "cell_type": "markdown",
   "metadata": {},
   "source": [
    "We can access the data as a table. This object is called a ``pandas.DataFrame``, a high-performance, spreadsheet-like object in Python."
   ]
  },
  {
   "cell_type": "code",
   "execution_count": 7,
   "metadata": {
    "execution": {
     "iopub.execute_input": "2021-03-27T22:30:50.075358Z",
     "iopub.status.busy": "2021-03-27T22:30:50.074780Z",
     "iopub.status.idle": "2021-03-27T22:30:50.079795Z",
     "shell.execute_reply": "2021-03-27T22:30:50.078646Z"
    }
   },
   "outputs": [],
   "source": [
    "data = header.table()"
   ]
  },
  {
   "cell_type": "markdown",
   "metadata": {},
   "source": [
    "It display prettily, truncating if needed."
   ]
  },
  {
   "cell_type": "code",
   "execution_count": 8,
   "metadata": {
    "execution": {
     "iopub.execute_input": "2021-03-27T22:30:50.085234Z",
     "iopub.status.busy": "2021-03-27T22:30:50.084325Z",
     "iopub.status.idle": "2021-03-27T22:30:50.101104Z",
     "shell.execute_reply": "2021-03-27T22:30:50.100601Z"
    }
   },
   "outputs": [
    {
     "data": {
      "text/html": [
       "<div>\n",
       "<style scoped>\n",
       "    .dataframe tbody tr th:only-of-type {\n",
       "        vertical-align: middle;\n",
       "    }\n",
       "\n",
       "    .dataframe tbody tr th {\n",
       "        vertical-align: top;\n",
       "    }\n",
       "\n",
       "    .dataframe thead th {\n",
       "        text-align: right;\n",
       "    }\n",
       "</style>\n",
       "<table border=\"1\" class=\"dataframe\">\n",
       "  <thead>\n",
       "    <tr style=\"text-align: right;\">\n",
       "      <th></th>\n",
       "      <th>time</th>\n",
       "      <th>motor_slit</th>\n",
       "      <th>I</th>\n",
       "      <th>slit_det</th>\n",
       "    </tr>\n",
       "    <tr>\n",
       "      <th>seq_num</th>\n",
       "      <th></th>\n",
       "      <th></th>\n",
       "      <th></th>\n",
       "      <th></th>\n",
       "    </tr>\n",
       "  </thead>\n",
       "  <tbody>\n",
       "    <tr>\n",
       "      <th>1</th>\n",
       "      <td>2021-03-27 22:30:49.160274267</td>\n",
       "      <td>-10.000000</td>\n",
       "      <td>488.187967</td>\n",
       "      <td>95809.0</td>\n",
       "    </tr>\n",
       "    <tr>\n",
       "      <th>2</th>\n",
       "      <td>2021-03-27 22:30:49.207208872</td>\n",
       "      <td>-8.571429</td>\n",
       "      <td>499.566656</td>\n",
       "      <td>7834.0</td>\n",
       "    </tr>\n",
       "    <tr>\n",
       "      <th>3</th>\n",
       "      <td>2021-03-27 22:30:49.233234167</td>\n",
       "      <td>-7.142857</td>\n",
       "      <td>499.566656</td>\n",
       "      <td>7834.0</td>\n",
       "    </tr>\n",
       "    <tr>\n",
       "      <th>4</th>\n",
       "      <td>2021-03-27 22:30:49.259629965</td>\n",
       "      <td>-5.714286</td>\n",
       "      <td>499.566656</td>\n",
       "      <td>7834.0</td>\n",
       "    </tr>\n",
       "    <tr>\n",
       "      <th>5</th>\n",
       "      <td>2021-03-27 22:30:49.292418718</td>\n",
       "      <td>-4.285714</td>\n",
       "      <td>503.500715</td>\n",
       "      <td>7834.0</td>\n",
       "    </tr>\n",
       "    <tr>\n",
       "      <th>6</th>\n",
       "      <td>2021-03-27 22:30:49.324980974</td>\n",
       "      <td>-2.857143</td>\n",
       "      <td>503.500715</td>\n",
       "      <td>7834.0</td>\n",
       "    </tr>\n",
       "    <tr>\n",
       "      <th>7</th>\n",
       "      <td>2021-03-27 22:30:49.350368977</td>\n",
       "      <td>-1.428571</td>\n",
       "      <td>503.500715</td>\n",
       "      <td>7834.0</td>\n",
       "    </tr>\n",
       "    <tr>\n",
       "      <th>8</th>\n",
       "      <td>2021-03-27 22:30:49.369499922</td>\n",
       "      <td>0.000000</td>\n",
       "      <td>503.500715</td>\n",
       "      <td>7834.0</td>\n",
       "    </tr>\n",
       "    <tr>\n",
       "      <th>9</th>\n",
       "      <td>2021-03-27 22:30:49.382165432</td>\n",
       "      <td>1.428571</td>\n",
       "      <td>503.500715</td>\n",
       "      <td>7834.0</td>\n",
       "    </tr>\n",
       "    <tr>\n",
       "      <th>10</th>\n",
       "      <td>2021-03-27 22:30:49.396544933</td>\n",
       "      <td>2.857143</td>\n",
       "      <td>507.355079</td>\n",
       "      <td>7834.0</td>\n",
       "    </tr>\n",
       "    <tr>\n",
       "      <th>11</th>\n",
       "      <td>2021-03-27 22:30:49.408249617</td>\n",
       "      <td>4.285714</td>\n",
       "      <td>507.355079</td>\n",
       "      <td>7834.0</td>\n",
       "    </tr>\n",
       "    <tr>\n",
       "      <th>12</th>\n",
       "      <td>2021-03-27 22:30:49.421690702</td>\n",
       "      <td>5.714286</td>\n",
       "      <td>507.355079</td>\n",
       "      <td>7834.0</td>\n",
       "    </tr>\n",
       "    <tr>\n",
       "      <th>13</th>\n",
       "      <td>2021-03-27 22:30:49.434067011</td>\n",
       "      <td>7.142857</td>\n",
       "      <td>507.355079</td>\n",
       "      <td>7834.0</td>\n",
       "    </tr>\n",
       "    <tr>\n",
       "      <th>14</th>\n",
       "      <td>2021-03-27 22:30:49.446902990</td>\n",
       "      <td>8.571429</td>\n",
       "      <td>507.355079</td>\n",
       "      <td>7834.0</td>\n",
       "    </tr>\n",
       "    <tr>\n",
       "      <th>15</th>\n",
       "      <td>2021-03-27 22:30:49.460281849</td>\n",
       "      <td>10.000000</td>\n",
       "      <td>507.355079</td>\n",
       "      <td>7834.0</td>\n",
       "    </tr>\n",
       "  </tbody>\n",
       "</table>\n",
       "</div>"
      ],
      "text/plain": [
       "                                 time  motor_slit           I  slit_det\n",
       "seq_num                                                                \n",
       "1       2021-03-27 22:30:49.160274267  -10.000000  488.187967   95809.0\n",
       "2       2021-03-27 22:30:49.207208872   -8.571429  499.566656    7834.0\n",
       "3       2021-03-27 22:30:49.233234167   -7.142857  499.566656    7834.0\n",
       "4       2021-03-27 22:30:49.259629965   -5.714286  499.566656    7834.0\n",
       "5       2021-03-27 22:30:49.292418718   -4.285714  503.500715    7834.0\n",
       "6       2021-03-27 22:30:49.324980974   -2.857143  503.500715    7834.0\n",
       "7       2021-03-27 22:30:49.350368977   -1.428571  503.500715    7834.0\n",
       "8       2021-03-27 22:30:49.369499922    0.000000  503.500715    7834.0\n",
       "9       2021-03-27 22:30:49.382165432    1.428571  503.500715    7834.0\n",
       "10      2021-03-27 22:30:49.396544933    2.857143  507.355079    7834.0\n",
       "11      2021-03-27 22:30:49.408249617    4.285714  507.355079    7834.0\n",
       "12      2021-03-27 22:30:49.421690702    5.714286  507.355079    7834.0\n",
       "13      2021-03-27 22:30:49.434067011    7.142857  507.355079    7834.0\n",
       "14      2021-03-27 22:30:49.446902990    8.571429  507.355079    7834.0\n",
       "15      2021-03-27 22:30:49.460281849   10.000000  507.355079    7834.0"
      ]
     },
     "execution_count": 1,
     "metadata": {},
     "output_type": "execute_result"
    }
   ],
   "source": [
    "data"
   ]
  },
  {
   "cell_type": "markdown",
   "metadata": {},
   "source": [
    "For large tables, it's handy to know how to ask for just the first or last couple rows."
   ]
  },
  {
   "cell_type": "markdown",
   "metadata": {},
   "source": [
    "It is easy to visualize."
   ]
  },
  {
   "cell_type": "code",
   "execution_count": 9,
   "metadata": {
    "execution": {
     "iopub.execute_input": "2021-03-27T22:30:50.106121Z",
     "iopub.status.busy": "2021-03-27T22:30:50.105211Z",
     "iopub.status.idle": "2021-03-27T22:30:50.175314Z",
     "shell.execute_reply": "2021-03-27T22:30:50.176054Z"
    }
   },
   "outputs": [
    {
     "data": {
      "application/vnd.jupyter.widget-view+json": {
       "model_id": "0eea0c17fb884e59b6c95ee0600746c3",
       "version_major": 2,
       "version_minor": 0
      },
      "text/plain": [
       "Canvas(toolbar=Toolbar(toolitems=[('Home', 'Reset original view', 'home', 'home'), ('Back', 'Back to previous …"
      ]
     },
     "metadata": {},
     "output_type": "display_data"
    },
    {
     "data": {
      "text/plain": [
       "<AxesSubplot:xlabel='motor_slit'>"
      ]
     },
     "execution_count": 1,
     "metadata": {},
     "output_type": "execute_result"
    }
   ],
   "source": [
    "data.plot(x='motor_slit', y='slit_det')"
   ]
  },
  {
   "cell_type": "code",
   "execution_count": 10,
   "metadata": {
    "execution": {
     "iopub.execute_input": "2021-03-27T22:30:50.345456Z",
     "iopub.status.busy": "2021-03-27T22:30:50.340965Z",
     "iopub.status.idle": "2021-03-27T22:30:50.440885Z",
     "shell.execute_reply": "2021-03-27T22:30:50.439734Z"
    }
   },
   "outputs": [
    {
     "data": {
      "image/png": "[encoded data removed]",
      "text/plain": [
       "<Figure size 640x480 with 1 Axes>"
      ]
     },
     "execution_count": 1,
     "metadata": {},
     "output_type": "execute_result"
    }
   ],
   "source": [
    "plt.gcf()  # Display a snapshot of the current state of the figure."
   ]
  },
  {
   "cell_type": "code",
   "execution_count": 11,
   "metadata": {
    "execution": {
     "iopub.execute_input": "2021-03-27T22:30:50.573255Z",
     "iopub.status.busy": "2021-03-27T22:30:50.572746Z",
     "iopub.status.idle": "2021-03-27T22:30:50.579181Z",
     "shell.execute_reply": "2021-03-27T22:30:50.578725Z"
    }
   },
   "outputs": [
    {
     "data": {
      "text/html": [
       "<div>\n",
       "<style scoped>\n",
       "    .dataframe tbody tr th:only-of-type {\n",
       "        vertical-align: middle;\n",
       "    }\n",
       "\n",
       "    .dataframe tbody tr th {\n",
       "        vertical-align: top;\n",
       "    }\n",
       "\n",
       "    .dataframe thead th {\n",
       "        text-align: right;\n",
       "    }\n",
       "</style>\n",
       "<table border=\"1\" class=\"dataframe\">\n",
       "  <thead>\n",
       "    <tr style=\"text-align: right;\">\n",
       "      <th></th>\n",
       "      <th>time</th>\n",
       "      <th>motor_slit</th>\n",
       "      <th>I</th>\n",
       "      <th>slit_det</th>\n",
       "    </tr>\n",
       "    <tr>\n",
       "      <th>seq_num</th>\n",
       "      <th></th>\n",
       "      <th></th>\n",
       "      <th></th>\n",
       "      <th></th>\n",
       "    </tr>\n",
       "  </thead>\n",
       "  <tbody>\n",
       "    <tr>\n",
       "      <th>1</th>\n",
       "      <td>2021-03-27 22:30:49.160274267</td>\n",
       "      <td>-10.000000</td>\n",
       "      <td>488.187967</td>\n",
       "      <td>95809.0</td>\n",
       "    </tr>\n",
       "    <tr>\n",
       "      <th>2</th>\n",
       "      <td>2021-03-27 22:30:49.207208872</td>\n",
       "      <td>-8.571429</td>\n",
       "      <td>499.566656</td>\n",
       "      <td>7834.0</td>\n",
       "    </tr>\n",
       "    <tr>\n",
       "      <th>3</th>\n",
       "      <td>2021-03-27 22:30:49.233234167</td>\n",
       "      <td>-7.142857</td>\n",
       "      <td>499.566656</td>\n",
       "      <td>7834.0</td>\n",
       "    </tr>\n",
       "    <tr>\n",
       "      <th>4</th>\n",
       "      <td>2021-03-27 22:30:49.259629965</td>\n",
       "      <td>-5.714286</td>\n",
       "      <td>499.566656</td>\n",
       "      <td>7834.0</td>\n",
       "    </tr>\n",
       "    <tr>\n",
       "      <th>5</th>\n",
       "      <td>2021-03-27 22:30:49.292418718</td>\n",
       "      <td>-4.285714</td>\n",
       "      <td>503.500715</td>\n",
       "      <td>7834.0</td>\n",
       "    </tr>\n",
       "  </tbody>\n",
       "</table>\n",
       "</div>"
      ],
      "text/plain": [
       "                                 time  motor_slit           I  slit_det\n",
       "seq_num                                                                \n",
       "1       2021-03-27 22:30:49.160274267  -10.000000  488.187967   95809.0\n",
       "2       2021-03-27 22:30:49.207208872   -8.571429  499.566656    7834.0\n",
       "3       2021-03-27 22:30:49.233234167   -7.142857  499.566656    7834.0\n",
       "4       2021-03-27 22:30:49.259629965   -5.714286  499.566656    7834.0\n",
       "5       2021-03-27 22:30:49.292418718   -4.285714  503.500715    7834.0"
      ]
     },
     "execution_count": 1,
     "metadata": {},
     "output_type": "execute_result"
    }
   ],
   "source": [
    "data.head()"
   ]
  },
  {
   "cell_type": "code",
   "execution_count": 12,
   "metadata": {
    "execution": {
     "iopub.execute_input": "2021-03-27T22:30:50.591296Z",
     "iopub.status.busy": "2021-03-27T22:30:50.589960Z",
     "iopub.status.idle": "2021-03-27T22:30:50.593491Z",
     "shell.execute_reply": "2021-03-27T22:30:50.593976Z"
    }
   },
   "outputs": [
    {
     "data": {
      "text/html": [
       "<div>\n",
       "<style scoped>\n",
       "    .dataframe tbody tr th:only-of-type {\n",
       "        vertical-align: middle;\n",
       "    }\n",
       "\n",
       "    .dataframe tbody tr th {\n",
       "        vertical-align: top;\n",
       "    }\n",
       "\n",
       "    .dataframe thead th {\n",
       "        text-align: right;\n",
       "    }\n",
       "</style>\n",
       "<table border=\"1\" class=\"dataframe\">\n",
       "  <thead>\n",
       "    <tr style=\"text-align: right;\">\n",
       "      <th></th>\n",
       "      <th>time</th>\n",
       "      <th>motor_slit</th>\n",
       "      <th>I</th>\n",
       "      <th>slit_det</th>\n",
       "    </tr>\n",
       "    <tr>\n",
       "      <th>seq_num</th>\n",
       "      <th></th>\n",
       "      <th></th>\n",
       "      <th></th>\n",
       "      <th></th>\n",
       "    </tr>\n",
       "  </thead>\n",
       "  <tbody>\n",
       "    <tr>\n",
       "      <th>11</th>\n",
       "      <td>2021-03-27 22:30:49.408249617</td>\n",
       "      <td>4.285714</td>\n",
       "      <td>507.355079</td>\n",
       "      <td>7834.0</td>\n",
       "    </tr>\n",
       "    <tr>\n",
       "      <th>12</th>\n",
       "      <td>2021-03-27 22:30:49.421690702</td>\n",
       "      <td>5.714286</td>\n",
       "      <td>507.355079</td>\n",
       "      <td>7834.0</td>\n",
       "    </tr>\n",
       "    <tr>\n",
       "      <th>13</th>\n",
       "      <td>2021-03-27 22:30:49.434067011</td>\n",
       "      <td>7.142857</td>\n",
       "      <td>507.355079</td>\n",
       "      <td>7834.0</td>\n",
       "    </tr>\n",
       "    <tr>\n",
       "      <th>14</th>\n",
       "      <td>2021-03-27 22:30:49.446902990</td>\n",
       "      <td>8.571429</td>\n",
       "      <td>507.355079</td>\n",
       "      <td>7834.0</td>\n",
       "    </tr>\n",
       "    <tr>\n",
       "      <th>15</th>\n",
       "      <td>2021-03-27 22:30:49.460281849</td>\n",
       "      <td>10.000000</td>\n",
       "      <td>507.355079</td>\n",
       "      <td>7834.0</td>\n",
       "    </tr>\n",
       "  </tbody>\n",
       "</table>\n",
       "</div>"
      ],
      "text/plain": [
       "                                 time  motor_slit           I  slit_det\n",
       "seq_num                                                                \n",
       "11      2021-03-27 22:30:49.408249617    4.285714  507.355079    7834.0\n",
       "12      2021-03-27 22:30:49.421690702    5.714286  507.355079    7834.0\n",
       "13      2021-03-27 22:30:49.434067011    7.142857  507.355079    7834.0\n",
       "14      2021-03-27 22:30:49.446902990    8.571429  507.355079    7834.0\n",
       "15      2021-03-27 22:30:49.460281849   10.000000  507.355079    7834.0"
      ]
     },
     "execution_count": 1,
     "metadata": {},
     "output_type": "execute_result"
    }
   ],
   "source": [
    "data.tail()"
   ]
  },
  {
   "cell_type": "markdown",
   "metadata": {},
   "source": [
    "Statistics on columns are simple to compute."
   ]
  },
  {
   "cell_type": "code",
   "execution_count": 13,
   "metadata": {
    "execution": {
     "iopub.execute_input": "2021-03-27T22:30:50.602281Z",
     "iopub.status.busy": "2021-03-27T22:30:50.598169Z",
     "iopub.status.idle": "2021-03-27T22:30:50.605794Z",
     "shell.execute_reply": "2021-03-27T22:30:50.606241Z"
    }
   },
   "outputs": [
    {
     "name": "stderr",
     "output_type": "stream",
     "text": [
      "/home/travis/virtualenv/python3.7.1/lib/python3.7/site-packages/ipykernel_launcher.py:1: FutureWarning: DataFrame.mean and DataFrame.median with numeric_only=None will include datetime64 and datetime64tz columns in a future version.\n",
      "  \"\"\"Entry point for launching an IPython kernel.\n"
     ]
    },
    {
     "data": {
      "text/plain": [
       "motor_slit    4.736952e-16\n",
       "I             5.032348e+02\n",
       "slit_det      1.369900e+04\n",
       "dtype: float64"
      ]
     },
     "execution_count": 1,
     "metadata": {},
     "output_type": "execute_result"
    }
   ],
   "source": [
    "data.mean()"
   ]
  },
  {
   "cell_type": "code",
   "execution_count": 14,
   "metadata": {
    "execution": {
     "iopub.execute_input": "2021-03-27T22:30:50.614021Z",
     "iopub.status.busy": "2021-03-27T22:30:50.613242Z",
     "iopub.status.idle": "2021-03-27T22:30:50.616401Z",
     "shell.execute_reply": "2021-03-27T22:30:50.616830Z"
    }
   },
   "outputs": [
    {
     "data": {
      "text/plain": [
       "time          2021-03-27 22:30:49.160274267\n",
       "motor_slit                            -10.0\n",
       "I                                488.187967\n",
       "slit_det                             7834.0\n",
       "dtype: object"
      ]
     },
     "execution_count": 1,
     "metadata": {},
     "output_type": "execute_result"
    }
   ],
   "source": [
    "data.min()"
   ]
  },
  {
   "cell_type": "markdown",
   "metadata": {},
   "source": [
    "Or just ask for all the common stats at once:"
   ]
  },
  {
   "cell_type": "code",
   "execution_count": 15,
   "metadata": {
    "execution": {
     "iopub.execute_input": "2021-03-27T22:30:50.626292Z",
     "iopub.status.busy": "2021-03-27T22:30:50.623708Z",
     "iopub.status.idle": "2021-03-27T22:30:50.641733Z",
     "shell.execute_reply": "2021-03-27T22:30:50.641191Z"
    }
   },
   "outputs": [
    {
     "data": {
      "text/html": [
       "<div>\n",
       "<style scoped>\n",
       "    .dataframe tbody tr th:only-of-type {\n",
       "        vertical-align: middle;\n",
       "    }\n",
       "\n",
       "    .dataframe tbody tr th {\n",
       "        vertical-align: top;\n",
       "    }\n",
       "\n",
       "    .dataframe thead th {\n",
       "        text-align: right;\n",
       "    }\n",
       "</style>\n",
       "<table border=\"1\" class=\"dataframe\">\n",
       "  <thead>\n",
       "    <tr style=\"text-align: right;\">\n",
       "      <th></th>\n",
       "      <th>motor_slit</th>\n",
       "      <th>I</th>\n",
       "      <th>slit_det</th>\n",
       "    </tr>\n",
       "  </thead>\n",
       "  <tbody>\n",
       "    <tr>\n",
       "      <th>count</th>\n",
       "      <td>1.500000e+01</td>\n",
       "      <td>15.000000</td>\n",
       "      <td>15.000000</td>\n",
       "    </tr>\n",
       "    <tr>\n",
       "      <th>mean</th>\n",
       "      <td>4.736952e-16</td>\n",
       "      <td>503.234799</td>\n",
       "      <td>13699.000000</td>\n",
       "    </tr>\n",
       "    <tr>\n",
       "      <th>std</th>\n",
       "      <td>6.388766e+00</td>\n",
       "      <td>5.133829</td>\n",
       "      <td>22715.047326</td>\n",
       "    </tr>\n",
       "    <tr>\n",
       "      <th>min</th>\n",
       "      <td>-1.000000e+01</td>\n",
       "      <td>488.187967</td>\n",
       "      <td>7834.000000</td>\n",
       "    </tr>\n",
       "    <tr>\n",
       "      <th>25%</th>\n",
       "      <td>-5.000000e+00</td>\n",
       "      <td>501.533685</td>\n",
       "      <td>7834.000000</td>\n",
       "    </tr>\n",
       "    <tr>\n",
       "      <th>50%</th>\n",
       "      <td>0.000000e+00</td>\n",
       "      <td>503.500715</td>\n",
       "      <td>7834.000000</td>\n",
       "    </tr>\n",
       "    <tr>\n",
       "      <th>75%</th>\n",
       "      <td>5.000000e+00</td>\n",
       "      <td>507.355079</td>\n",
       "      <td>7834.000000</td>\n",
       "    </tr>\n",
       "    <tr>\n",
       "      <th>max</th>\n",
       "      <td>1.000000e+01</td>\n",
       "      <td>507.355079</td>\n",
       "      <td>95809.000000</td>\n",
       "    </tr>\n",
       "  </tbody>\n",
       "</table>\n",
       "</div>"
      ],
      "text/plain": [
       "         motor_slit           I      slit_det\n",
       "count  1.500000e+01   15.000000     15.000000\n",
       "mean   4.736952e-16  503.234799  13699.000000\n",
       "std    6.388766e+00    5.133829  22715.047326\n",
       "min   -1.000000e+01  488.187967   7834.000000\n",
       "25%   -5.000000e+00  501.533685   7834.000000\n",
       "50%    0.000000e+00  503.500715   7834.000000\n",
       "75%    5.000000e+00  507.355079   7834.000000\n",
       "max    1.000000e+01  507.355079  95809.000000"
      ]
     },
     "execution_count": 1,
     "metadata": {},
     "output_type": "execute_result"
    }
   ],
   "source": [
    "data.describe()"
   ]
  },
  {
   "cell_type": "markdown",
   "metadata": {},
   "source": [
    "## Do analysis, and plot\n",
    "\n",
    "### Normalize by beam current"
   ]
  },
  {
   "cell_type": "markdown",
   "metadata": {},
   "source": [
    "We can do math on the columns, and we can add new columns."
   ]
  },
  {
   "cell_type": "code",
   "execution_count": 16,
   "metadata": {
    "execution": {
     "iopub.execute_input": "2021-03-27T22:30:50.649110Z",
     "iopub.status.busy": "2021-03-27T22:30:50.646913Z",
     "iopub.status.idle": "2021-03-27T22:30:50.651593Z",
     "shell.execute_reply": "2021-03-27T22:30:50.651150Z"
    }
   },
   "outputs": [],
   "source": [
    "data['normalized'] = data['slit_det'] / data['I'] * data['I'].mean()"
   ]
  },
  {
   "cell_type": "markdown",
   "metadata": {},
   "source": [
    "We can plot them conveniently, addressing the columns by name."
   ]
  },
  {
   "cell_type": "code",
   "execution_count": 17,
   "metadata": {
    "execution": {
     "iopub.execute_input": "2021-03-27T22:30:50.668181Z",
     "iopub.status.busy": "2021-03-27T22:30:50.667190Z",
     "iopub.status.idle": "2021-03-27T22:30:50.679314Z",
     "shell.execute_reply": "2021-03-27T22:30:50.674289Z"
    }
   },
   "outputs": [
    {
     "data": {
      "application/vnd.jupyter.widget-view+json": {
       "model_id": "c02d1e65a37e49a5b3d01b33cdb36b51",
       "version_major": 2,
       "version_minor": 0
      },
      "text/plain": [
       "Canvas(toolbar=Toolbar(toolitems=[('Home', 'Reset original view', 'home', 'home'), ('Back', 'Back to previous …"
      ]
     },
     "metadata": {},
     "output_type": "display_data"
    },
    {
     "data": {
      "text/plain": [
       "<Figure size 640x480 with 0 Axes>"
      ]
     },
     "execution_count": 1,
     "metadata": {},
     "output_type": "execute_result"
    }
   ],
   "source": [
    "plt.figure()"
   ]
  },
  {
   "cell_type": "code",
   "execution_count": 18,
   "metadata": {
    "execution": {
     "iopub.execute_input": "2021-03-27T22:30:50.712290Z",
     "iopub.status.busy": "2021-03-27T22:30:50.711392Z",
     "iopub.status.idle": "2021-03-27T22:30:50.929136Z",
     "shell.execute_reply": "2021-03-27T22:30:50.929974Z"
    }
   },
   "outputs": [
    {
     "data": {
      "image/png": "[encoded data removed]",
      "text/plain": [
       "<Figure size 640x480 with 1 Axes>"
      ]
     },
     "execution_count": 1,
     "metadata": {},
     "output_type": "execute_result"
    }
   ],
   "source": [
    "plt.plot('motor_slit', 'slit_det', data=data, label='raw')\n",
    "plt.plot('motor_slit', 'normalized', data=data, label='normalized')\n",
    "plt.legend()\n",
    "plt.gcf()"
   ]
  },
  {
   "cell_type": "markdown",
   "metadata": {},
   "source": [
    "### Select only rows with high beam current"
   ]
  },
  {
   "cell_type": "markdown",
   "metadata": {},
   "source": [
    "Select rows where the current is above `500`."
   ]
  },
  {
   "cell_type": "code",
   "execution_count": 19,
   "metadata": {
    "execution": {
     "iopub.execute_input": "2021-03-27T22:30:51.064036Z",
     "iopub.status.busy": "2021-03-27T22:30:51.063522Z",
     "iopub.status.idle": "2021-03-27T22:30:51.069161Z",
     "shell.execute_reply": "2021-03-27T22:30:51.069569Z"
    }
   },
   "outputs": [
    {
     "data": {
      "text/html": [
       "<div>\n",
       "<style scoped>\n",
       "    .dataframe tbody tr th:only-of-type {\n",
       "        vertical-align: middle;\n",
       "    }\n",
       "\n",
       "    .dataframe tbody tr th {\n",
       "        vertical-align: top;\n",
       "    }\n",
       "\n",
       "    .dataframe thead th {\n",
       "        text-align: right;\n",
       "    }\n",
       "</style>\n",
       "<table border=\"1\" class=\"dataframe\">\n",
       "  <thead>\n",
       "    <tr style=\"text-align: right;\">\n",
       "      <th></th>\n",
       "      <th>time</th>\n",
       "      <th>motor_slit</th>\n",
       "      <th>I</th>\n",
       "      <th>slit_det</th>\n",
       "      <th>normalized</th>\n",
       "    </tr>\n",
       "    <tr>\n",
       "      <th>seq_num</th>\n",
       "      <th></th>\n",
       "      <th></th>\n",
       "      <th></th>\n",
       "      <th></th>\n",
       "      <th></th>\n",
       "    </tr>\n",
       "  </thead>\n",
       "  <tbody>\n",
       "    <tr>\n",
       "      <th>5</th>\n",
       "      <td>2021-03-27 22:30:49.292418718</td>\n",
       "      <td>-4.285714</td>\n",
       "      <td>503.500715</td>\n",
       "      <td>7834.0</td>\n",
       "      <td>7829.862590</td>\n",
       "    </tr>\n",
       "    <tr>\n",
       "      <th>6</th>\n",
       "      <td>2021-03-27 22:30:49.324980974</td>\n",
       "      <td>-2.857143</td>\n",
       "      <td>503.500715</td>\n",
       "      <td>7834.0</td>\n",
       "      <td>7829.862590</td>\n",
       "    </tr>\n",
       "    <tr>\n",
       "      <th>7</th>\n",
       "      <td>2021-03-27 22:30:49.350368977</td>\n",
       "      <td>-1.428571</td>\n",
       "      <td>503.500715</td>\n",
       "      <td>7834.0</td>\n",
       "      <td>7829.862590</td>\n",
       "    </tr>\n",
       "    <tr>\n",
       "      <th>8</th>\n",
       "      <td>2021-03-27 22:30:49.369499922</td>\n",
       "      <td>0.000000</td>\n",
       "      <td>503.500715</td>\n",
       "      <td>7834.0</td>\n",
       "      <td>7829.862590</td>\n",
       "    </tr>\n",
       "    <tr>\n",
       "      <th>9</th>\n",
       "      <td>2021-03-27 22:30:49.382165432</td>\n",
       "      <td>1.428571</td>\n",
       "      <td>503.500715</td>\n",
       "      <td>7834.0</td>\n",
       "      <td>7829.862590</td>\n",
       "    </tr>\n",
       "    <tr>\n",
       "      <th>10</th>\n",
       "      <td>2021-03-27 22:30:49.396544933</td>\n",
       "      <td>2.857143</td>\n",
       "      <td>507.355079</td>\n",
       "      <td>7834.0</td>\n",
       "      <td>7770.379324</td>\n",
       "    </tr>\n",
       "    <tr>\n",
       "      <th>11</th>\n",
       "      <td>2021-03-27 22:30:49.408249617</td>\n",
       "      <td>4.285714</td>\n",
       "      <td>507.355079</td>\n",
       "      <td>7834.0</td>\n",
       "      <td>7770.379324</td>\n",
       "    </tr>\n",
       "    <tr>\n",
       "      <th>12</th>\n",
       "      <td>2021-03-27 22:30:49.421690702</td>\n",
       "      <td>5.714286</td>\n",
       "      <td>507.355079</td>\n",
       "      <td>7834.0</td>\n",
       "      <td>7770.379324</td>\n",
       "    </tr>\n",
       "    <tr>\n",
       "      <th>13</th>\n",
       "      <td>2021-03-27 22:30:49.434067011</td>\n",
       "      <td>7.142857</td>\n",
       "      <td>507.355079</td>\n",
       "      <td>7834.0</td>\n",
       "      <td>7770.379324</td>\n",
       "    </tr>\n",
       "    <tr>\n",
       "      <th>14</th>\n",
       "      <td>2021-03-27 22:30:49.446902990</td>\n",
       "      <td>8.571429</td>\n",
       "      <td>507.355079</td>\n",
       "      <td>7834.0</td>\n",
       "      <td>7770.379324</td>\n",
       "    </tr>\n",
       "    <tr>\n",
       "      <th>15</th>\n",
       "      <td>2021-03-27 22:30:49.460281849</td>\n",
       "      <td>10.000000</td>\n",
       "      <td>507.355079</td>\n",
       "      <td>7834.0</td>\n",
       "      <td>7770.379324</td>\n",
       "    </tr>\n",
       "  </tbody>\n",
       "</table>\n",
       "</div>"
      ],
      "text/plain": [
       "                                 time  motor_slit           I  slit_det  \\\n",
       "seq_num                                                                   \n",
       "5       2021-03-27 22:30:49.292418718   -4.285714  503.500715    7834.0   \n",
       "6       2021-03-27 22:30:49.324980974   -2.857143  503.500715    7834.0   \n",
       "7       2021-03-27 22:30:49.350368977   -1.428571  503.500715    7834.0   \n",
       "8       2021-03-27 22:30:49.369499922    0.000000  503.500715    7834.0   \n",
       "9       2021-03-27 22:30:49.382165432    1.428571  503.500715    7834.0   \n",
       "10      2021-03-27 22:30:49.396544933    2.857143  507.355079    7834.0   \n",
       "11      2021-03-27 22:30:49.408249617    4.285714  507.355079    7834.0   \n",
       "12      2021-03-27 22:30:49.421690702    5.714286  507.355079    7834.0   \n",
       "13      2021-03-27 22:30:49.434067011    7.142857  507.355079    7834.0   \n",
       "14      2021-03-27 22:30:49.446902990    8.571429  507.355079    7834.0   \n",
       "15      2021-03-27 22:30:49.460281849   10.000000  507.355079    7834.0   \n",
       "\n",
       "          normalized  \n",
       "seq_num               \n",
       "5        7829.862590  \n",
       "6        7829.862590  \n",
       "7        7829.862590  \n",
       "8        7829.862590  \n",
       "9        7829.862590  \n",
       "10       7770.379324  \n",
       "11       7770.379324  \n",
       "12       7770.379324  \n",
       "13       7770.379324  \n",
       "14       7770.379324  \n",
       "15       7770.379324  "
      ]
     },
     "execution_count": 1,
     "metadata": {},
     "output_type": "execute_result"
    }
   ],
   "source": [
    "data[data['I'] > 500]"
   ]
  },
  {
   "cell_type": "markdown",
   "metadata": {},
   "source": [
    "...or, where the the current is above the 30th percentile."
   ]
  },
  {
   "cell_type": "code",
   "execution_count": 20,
   "metadata": {
    "execution": {
     "iopub.execute_input": "2021-03-27T22:30:51.082709Z",
     "iopub.status.busy": "2021-03-27T22:30:51.074253Z",
     "iopub.status.idle": "2021-03-27T22:30:51.086685Z",
     "shell.execute_reply": "2021-03-27T22:30:51.086194Z"
    }
   },
   "outputs": [
    {
     "data": {
      "text/html": [
       "<div>\n",
       "<style scoped>\n",
       "    .dataframe tbody tr th:only-of-type {\n",
       "        vertical-align: middle;\n",
       "    }\n",
       "\n",
       "    .dataframe tbody tr th {\n",
       "        vertical-align: top;\n",
       "    }\n",
       "\n",
       "    .dataframe thead th {\n",
       "        text-align: right;\n",
       "    }\n",
       "</style>\n",
       "<table border=\"1\" class=\"dataframe\">\n",
       "  <thead>\n",
       "    <tr style=\"text-align: right;\">\n",
       "      <th></th>\n",
       "      <th>time</th>\n",
       "      <th>motor_slit</th>\n",
       "      <th>I</th>\n",
       "      <th>slit_det</th>\n",
       "      <th>normalized</th>\n",
       "    </tr>\n",
       "    <tr>\n",
       "      <th>seq_num</th>\n",
       "      <th></th>\n",
       "      <th></th>\n",
       "      <th></th>\n",
       "      <th></th>\n",
       "      <th></th>\n",
       "    </tr>\n",
       "  </thead>\n",
       "  <tbody>\n",
       "    <tr>\n",
       "      <th>10</th>\n",
       "      <td>2021-03-27 22:30:49.396544933</td>\n",
       "      <td>2.857143</td>\n",
       "      <td>507.355079</td>\n",
       "      <td>7834.0</td>\n",
       "      <td>7770.379324</td>\n",
       "    </tr>\n",
       "    <tr>\n",
       "      <th>11</th>\n",
       "      <td>2021-03-27 22:30:49.408249617</td>\n",
       "      <td>4.285714</td>\n",
       "      <td>507.355079</td>\n",
       "      <td>7834.0</td>\n",
       "      <td>7770.379324</td>\n",
       "    </tr>\n",
       "    <tr>\n",
       "      <th>12</th>\n",
       "      <td>2021-03-27 22:30:49.421690702</td>\n",
       "      <td>5.714286</td>\n",
       "      <td>507.355079</td>\n",
       "      <td>7834.0</td>\n",
       "      <td>7770.379324</td>\n",
       "    </tr>\n",
       "    <tr>\n",
       "      <th>13</th>\n",
       "      <td>2021-03-27 22:30:49.434067011</td>\n",
       "      <td>7.142857</td>\n",
       "      <td>507.355079</td>\n",
       "      <td>7834.0</td>\n",
       "      <td>7770.379324</td>\n",
       "    </tr>\n",
       "    <tr>\n",
       "      <th>14</th>\n",
       "      <td>2021-03-27 22:30:49.446902990</td>\n",
       "      <td>8.571429</td>\n",
       "      <td>507.355079</td>\n",
       "      <td>7834.0</td>\n",
       "      <td>7770.379324</td>\n",
       "    </tr>\n",
       "    <tr>\n",
       "      <th>15</th>\n",
       "      <td>2021-03-27 22:30:49.460281849</td>\n",
       "      <td>10.000000</td>\n",
       "      <td>507.355079</td>\n",
       "      <td>7834.0</td>\n",
       "      <td>7770.379324</td>\n",
       "    </tr>\n",
       "  </tbody>\n",
       "</table>\n",
       "</div>"
      ],
      "text/plain": [
       "                                 time  motor_slit           I  slit_det  \\\n",
       "seq_num                                                                   \n",
       "10      2021-03-27 22:30:49.396544933    2.857143  507.355079    7834.0   \n",
       "11      2021-03-27 22:30:49.408249617    4.285714  507.355079    7834.0   \n",
       "12      2021-03-27 22:30:49.421690702    5.714286  507.355079    7834.0   \n",
       "13      2021-03-27 22:30:49.434067011    7.142857  507.355079    7834.0   \n",
       "14      2021-03-27 22:30:49.446902990    8.571429  507.355079    7834.0   \n",
       "15      2021-03-27 22:30:49.460281849   10.000000  507.355079    7834.0   \n",
       "\n",
       "          normalized  \n",
       "seq_num               \n",
       "10       7770.379324  \n",
       "11       7770.379324  \n",
       "12       7770.379324  \n",
       "13       7770.379324  \n",
       "14       7770.379324  \n",
       "15       7770.379324  "
      ]
     },
     "execution_count": 1,
     "metadata": {},
     "output_type": "execute_result"
    }
   ],
   "source": [
    "data[data['I'] > data['I'].quantile(0.30)]"
   ]
  },
  {
   "cell_type": "markdown",
   "metadata": {},
   "source": [
    "...and plot just those rows, using a marker so it is easy to see which points have been disqualified due to low current."
   ]
  },
  {
   "cell_type": "code",
   "execution_count": 21,
   "metadata": {
    "execution": {
     "iopub.execute_input": "2021-03-27T22:30:51.109595Z",
     "iopub.status.busy": "2021-03-27T22:30:51.091273Z",
     "iopub.status.idle": "2021-03-27T22:30:51.157348Z",
     "shell.execute_reply": "2021-03-27T22:30:51.156500Z"
    }
   },
   "outputs": [
    {
     "data": {
      "application/vnd.jupyter.widget-view+json": {
       "model_id": "ddda889269d545b99352af0dc50ed809",
       "version_major": 2,
       "version_minor": 0
      },
      "text/plain": [
       "Canvas(toolbar=Toolbar(toolitems=[('Home', 'Reset original view', 'home', 'home'), ('Back', 'Back to previous …"
      ]
     },
     "metadata": {},
     "output_type": "display_data"
    },
    {
     "data": {
      "text/plain": [
       "<AxesSubplot:xlabel='motor_slit'>"
      ]
     },
     "execution_count": 1,
     "metadata": {},
     "output_type": "execute_result"
    }
   ],
   "source": [
    "data[data['I'] > data['I'].quantile(0.30)].plot(x='motor_slit', y='slit_det', marker='o')"
   ]
  },
  {
   "cell_type": "markdown",
   "metadata": {},
   "source": [
    "### Histogram the current"
   ]
  },
  {
   "cell_type": "code",
   "execution_count": 22,
   "metadata": {
    "execution": {
     "iopub.execute_input": "2021-03-27T22:30:51.301592Z",
     "iopub.status.busy": "2021-03-27T22:30:51.300985Z",
     "iopub.status.idle": "2021-03-27T22:30:51.310912Z",
     "shell.execute_reply": "2021-03-27T22:30:51.310409Z"
    }
   },
   "outputs": [
    {
     "data": {
      "application/vnd.jupyter.widget-view+json": {
       "model_id": "3bf29b89fb9147eaadf35c127880cb96",
       "version_major": 2,
       "version_minor": 0
      },
      "text/plain": [
       "Canvas(toolbar=Toolbar(toolitems=[('Home', 'Reset original view', 'home', 'home'), ('Back', 'Back to previous …"
      ]
     },
     "metadata": {},
     "output_type": "display_data"
    },
    {
     "data": {
      "text/plain": [
       "<Figure size 640x480 with 0 Axes>"
      ]
     },
     "execution_count": 1,
     "metadata": {},
     "output_type": "execute_result"
    }
   ],
   "source": [
    "plt.figure()"
   ]
  },
  {
   "cell_type": "code",
   "execution_count": 23,
   "metadata": {
    "execution": {
     "iopub.execute_input": "2021-03-27T22:30:51.343087Z",
     "iopub.status.busy": "2021-03-27T22:30:51.323081Z",
     "iopub.status.idle": "2021-03-27T22:30:51.542430Z",
     "shell.execute_reply": "2021-03-27T22:30:51.541604Z"
    }
   },
   "outputs": [
    {
     "data": {
      "image/png": "[encoded data removed]",
      "text/plain": [
       "<Figure size 640x480 with 1 Axes>"
      ]
     },
     "execution_count": 1,
     "metadata": {},
     "output_type": "execute_result"
    }
   ],
   "source": [
    "plt.hist(data['I'], bins='auto')\n",
    "plt.xlabel('current')\n",
    "plt.ylabel('count')\n",
    "plt.gcf()"
   ]
  },
  {
   "cell_type": "markdown",
   "metadata": {},
   "source": [
    "Not enough data to be interesting. Try collecting a bunch of current data by itself and then try this again."
   ]
  },
  {
   "cell_type": "code",
   "execution_count": 24,
   "metadata": {
    "execution": {
     "iopub.execute_input": "2021-03-27T22:30:51.669367Z",
     "iopub.status.busy": "2021-03-27T22:30:51.668390Z",
     "iopub.status.idle": "2021-03-27T22:30:51.679909Z",
     "shell.execute_reply": "2021-03-27T22:30:51.680351Z"
    }
   },
   "outputs": [
    {
     "data": {
      "application/vnd.jupyter.widget-view+json": {
       "model_id": "a41706d6cf024c83a997566425b33f6a",
       "version_major": 2,
       "version_minor": 0
      },
      "text/plain": [
       "Canvas(toolbar=Toolbar(toolitems=[('Home', 'Reset original view', 'home', 'home'), ('Back', 'Back to previous …"
      ]
     },
     "metadata": {},
     "output_type": "display_data"
    },
    {
     "data": {
      "text/plain": [
       "<Figure size 640x480 with 0 Axes>"
      ]
     },
     "execution_count": 1,
     "metadata": {},
     "output_type": "execute_result"
    }
   ],
   "source": [
    "# Creating a figure explicitly in advance helps with the\n",
    "# top-to-bottom flow of this notebook, but it is not necessary.\n",
    "# If this is omitted, bluesky will cause a figure to appear\n",
    "# during the RE(...) execution below.\n",
    "plt.figure(\"I vs time\")"
   ]
  },
  {
   "cell_type": "code",
   "execution_count": 25,
   "metadata": {
    "execution": {
     "iopub.execute_input": "2021-03-27T22:30:51.708704Z",
     "iopub.status.busy": "2021-03-27T22:30:51.707089Z",
     "iopub.status.idle": "2021-03-27T22:31:12.109222Z",
     "shell.execute_reply": "2021-03-27T22:31:12.109686Z"
    }
   },
   "outputs": [
    {
     "name": "stdout",
     "output_type": "stream",
     "text": [
      "\n",
      "\n",
      "Transient Scan ID: 27     Time: 2021-03-27 22:30:51\n",
      "Persistent Unique Scan ID: 'be0914ea-ec90-41cc-9b83-899edab5bff5'\n",
      "New stream: 'primary'\n",
      "+-----------+------------+------------+\n",
      "|   seq_num |       time |          I |\n",
      "+-----------+------------+------------+\n",
      "|         1 | 22:30:51.7 |        482 |\n",
      "|         2 | 22:30:51.8 |        480 |\n"
     ]
    },
    {
     "name": "stdout",
     "output_type": "stream",
     "text": [
      "|         3 | 22:30:51.9 |        478 |\n",
      "|         4 | 22:30:52.0 |        476 |\n",
      "|         5 | 22:30:52.1 |        475 |\n"
     ]
    },
    {
     "name": "stdout",
     "output_type": "stream",
     "text": [
      "|         6 | 22:30:52.2 |        475 |\n",
      "|         7 | 22:30:52.3 |        475 |\n",
      "|         8 | 22:30:52.4 |        476 |\n"
     ]
    },
    {
     "name": "stdout",
     "output_type": "stream",
     "text": [
      "|         9 | 22:30:52.5 |        478 |\n",
      "|        10 | 22:30:52.6 |        480 |\n",
      "|        11 | 22:30:52.7 |        483 |\n"
     ]
    },
    {
     "name": "stdout",
     "output_type": "stream",
     "text": [
      "|        12 | 22:30:52.8 |        487 |\n",
      "|        13 | 22:30:52.9 |        487 |\n",
      "|        14 | 22:30:53.0 |        490 |\n"
     ]
    },
    {
     "name": "stdout",
     "output_type": "stream",
     "text": [
      "|        15 | 22:30:53.1 |        494 |\n",
      "|        16 | 22:30:53.2 |        498 |\n"
     ]
    },
    {
     "name": "stdout",
     "output_type": "stream",
     "text": [
      "|        17 | 22:30:53.3 |        506 |\n",
      "|        18 | 22:30:53.4 |        510 |\n",
      "|        19 | 22:30:53.5 |        513 |\n"
     ]
    },
    {
     "name": "stdout",
     "output_type": "stream",
     "text": [
      "|        20 | 22:30:53.6 |        516 |\n",
      "|        21 | 22:30:53.7 |        519 |\n"
     ]
    },
    {
     "name": "stdout",
     "output_type": "stream",
     "text": [
      "|        22 | 22:30:53.8 |        521 |\n",
      "|        23 | 22:30:53.9 |        523 |\n",
      "|        24 | 22:30:54.0 |        524 |\n"
     ]
    },
    {
     "name": "stdout",
     "output_type": "stream",
     "text": [
      "|        25 | 22:30:54.1 |        525 |\n",
      "|        26 | 22:30:54.2 |        525 |\n",
      "|        27 | 22:30:54.3 |        524 |\n"
     ]
    },
    {
     "name": "stdout",
     "output_type": "stream",
     "text": [
      "|        28 | 22:30:54.4 |        523 |\n",
      "|        29 | 22:30:54.5 |        521 |\n",
      "|        30 | 22:30:54.6 |        519 |\n"
     ]
    },
    {
     "name": "stdout",
     "output_type": "stream",
     "text": [
      "|        31 | 22:30:54.7 |        516 |\n",
      "|        32 | 22:30:54.8 |        513 |\n"
     ]
    },
    {
     "name": "stdout",
     "output_type": "stream",
     "text": [
      "|        33 | 22:30:54.9 |        509 |\n",
      "|        34 | 22:30:55.0 |        505 |\n",
      "|        35 | 22:30:55.1 |        501 |\n"
     ]
    },
    {
     "name": "stdout",
     "output_type": "stream",
     "text": [
      "|        36 | 22:30:55.2 |        497 |\n",
      "|        37 | 22:30:55.3 |        493 |\n",
      "|        38 | 22:30:55.4 |        490 |\n"
     ]
    },
    {
     "name": "stdout",
     "output_type": "stream",
     "text": [
      "|        39 | 22:30:55.5 |        486 |\n",
      "|        40 | 22:30:55.6 |        483 |\n"
     ]
    },
    {
     "name": "stdout",
     "output_type": "stream",
     "text": [
      "|        41 | 22:30:55.7 |        480 |\n",
      "|        42 | 22:30:55.8 |        478 |\n"
     ]
    },
    {
     "name": "stdout",
     "output_type": "stream",
     "text": [
      "|        43 | 22:30:55.9 |        477 |\n",
      "|        44 | 22:30:56.0 |        475 |\n"
     ]
    },
    {
     "name": "stdout",
     "output_type": "stream",
     "text": [
      "|        45 | 22:30:56.1 |        475 |\n",
      "|        46 | 22:30:56.2 |        475 |\n",
      "|        47 | 22:30:56.3 |        476 |\n"
     ]
    },
    {
     "name": "stdout",
     "output_type": "stream",
     "text": [
      "|        48 | 22:30:56.4 |        477 |\n",
      "|        49 | 22:30:56.5 |        479 |\n"
     ]
    },
    {
     "name": "stdout",
     "output_type": "stream",
     "text": [
      "+-----------+------------+------------+\n",
      "|   seq_num |       time |          I |\n",
      "+-----------+------------+------------+\n",
      "|        50 | 22:30:56.6 |        482 |\n",
      "|        51 | 22:30:56.7 |        485 |\n",
      "|        52 | 22:30:56.8 |        488 |\n"
     ]
    },
    {
     "name": "stdout",
     "output_type": "stream",
     "text": [
      "|        53 | 22:30:56.9 |        492 |\n",
      "|        54 | 22:30:57.0 |        495 |\n",
      "|        55 | 22:30:57.1 |        499 |\n"
     ]
    },
    {
     "name": "stdout",
     "output_type": "stream",
     "text": [
      "|        56 | 22:30:57.3 |        503 |\n",
      "|        57 | 22:30:57.3 |        507 |\n",
      "|        58 | 22:30:57.4 |        511 |\n"
     ]
    },
    {
     "name": "stdout",
     "output_type": "stream",
     "text": [
      "|        59 | 22:30:57.5 |        514 |\n",
      "|        60 | 22:30:57.6 |        517 |\n",
      "|        61 | 22:30:57.7 |        520 |\n"
     ]
    },
    {
     "name": "stdout",
     "output_type": "stream",
     "text": [
      "|        62 | 22:30:57.8 |        522 |\n",
      "|        63 | 22:30:57.9 |        524 |\n",
      "|        64 | 22:30:58.0 |        525 |\n"
     ]
    },
    {
     "name": "stdout",
     "output_type": "stream",
     "text": [
      "|        65 | 22:30:58.1 |        525 |\n",
      "|        66 | 22:30:58.3 |        525 |\n"
     ]
    },
    {
     "name": "stdout",
     "output_type": "stream",
     "text": [
      "|        67 | 22:30:58.4 |        524 |\n",
      "|        68 | 22:30:58.5 |        522 |\n",
      "|        69 | 22:30:58.6 |        520 |\n"
     ]
    },
    {
     "name": "stdout",
     "output_type": "stream",
     "text": [
      "|        70 | 22:30:58.7 |        518 |\n",
      "|        71 | 22:30:58.8 |        513 |\n",
      "|        72 | 22:30:58.9 |        513 |\n"
     ]
    },
    {
     "name": "stdout",
     "output_type": "stream",
     "text": [
      "|        73 | 22:30:59.0 |        509 |\n",
      "|        74 | 22:30:59.1 |        505 |\n"
     ]
    },
    {
     "name": "stdout",
     "output_type": "stream",
     "text": [
      "|        75 | 22:30:59.2 |        501 |\n",
      "|        76 | 22:30:59.3 |        497 |\n",
      "|        77 | 22:30:59.4 |        494 |\n"
     ]
    },
    {
     "name": "stdout",
     "output_type": "stream",
     "text": [
      "|        78 | 22:30:59.5 |        490 |\n",
      "|        79 | 22:30:59.6 |        486 |\n",
      "|        80 | 22:30:59.7 |        483 |\n"
     ]
    },
    {
     "name": "stdout",
     "output_type": "stream",
     "text": [
      "|        81 | 22:30:59.8 |        481 |\n",
      "|        82 | 22:30:59.9 |        478 |\n",
      "|        83 | 22:31:00.0 |        477 |\n"
     ]
    },
    {
     "name": "stdout",
     "output_type": "stream",
     "text": [
      "|        84 | 22:31:00.1 |        476 |\n",
      "|        85 | 22:31:00.2 |        475 |\n",
      "|        86 | 22:31:00.3 |        475 |\n"
     ]
    },
    {
     "name": "stdout",
     "output_type": "stream",
     "text": [
      "|        87 | 22:31:00.4 |        476 |\n",
      "|        88 | 22:31:00.5 |        477 |\n",
      "|        89 | 22:31:00.6 |        479 |\n"
     ]
    },
    {
     "name": "stdout",
     "output_type": "stream",
     "text": [
      "|        90 | 22:31:00.7 |        482 |\n",
      "|        91 | 22:31:00.8 |        488 |\n",
      "|        92 | 22:31:00.9 |        488 |\n"
     ]
    },
    {
     "name": "stdout",
     "output_type": "stream",
     "text": [
      "|        93 | 22:31:01.0 |        491 |\n",
      "|        94 | 22:31:01.1 |        495 |\n"
     ]
    },
    {
     "name": "stdout",
     "output_type": "stream",
     "text": [
      "|        95 | 22:31:01.2 |        499 |\n",
      "|        96 | 22:31:01.3 |        503 |\n",
      "|        97 | 22:31:01.4 |        507 |\n"
     ]
    },
    {
     "name": "stdout",
     "output_type": "stream",
     "text": [
      "|        98 | 22:31:01.5 |        511 |\n",
      "|        99 | 22:31:01.6 |        514 |\n"
     ]
    },
    {
     "name": "stdout",
     "output_type": "stream",
     "text": [
      "+-----------+------------+------------+\n",
      "|   seq_num |       time |          I |\n",
      "+-----------+------------+------------+\n",
      "|       100 | 22:31:01.7 |        517 |\n",
      "|       101 | 22:31:01.8 |        520 |\n"
     ]
    },
    {
     "name": "stdout",
     "output_type": "stream",
     "text": [
      "|       102 | 22:31:01.9 |        522 |\n",
      "|       103 | 22:31:02.0 |        524 |\n",
      "|       104 | 22:31:02.1 |        525 |\n"
     ]
    },
    {
     "name": "stdout",
     "output_type": "stream",
     "text": [
      "|       105 | 22:31:02.2 |        525 |\n",
      "|       106 | 22:31:02.3 |        525 |\n",
      "|       107 | 22:31:02.4 |        524 |\n"
     ]
    },
    {
     "name": "stdout",
     "output_type": "stream",
     "text": [
      "|       108 | 22:31:02.5 |        522 |\n",
      "|       109 | 22:31:02.6 |        520 |\n",
      "|       110 | 22:31:02.7 |        518 |\n"
     ]
    },
    {
     "name": "stdout",
     "output_type": "stream",
     "text": [
      "|       111 | 22:31:02.8 |        515 |\n",
      "|       112 | 22:31:02.9 |        512 |\n",
      "|       113 | 22:31:03.0 |        508 |\n"
     ]
    },
    {
     "name": "stdout",
     "output_type": "stream",
     "text": [
      "|       114 | 22:31:03.1 |        504 |\n",
      "|       115 | 22:31:03.2 |        500 |\n"
     ]
    },
    {
     "name": "stdout",
     "output_type": "stream",
     "text": [
      "|       116 | 22:31:03.3 |        496 |\n",
      "|       117 | 22:31:03.4 |        492 |\n",
      "|       118 | 22:31:03.5 |        489 |\n"
     ]
    },
    {
     "name": "stdout",
     "output_type": "stream",
     "text": [
      "|       119 | 22:31:03.6 |        485 |\n",
      "|       120 | 22:31:03.7 |        482 |\n",
      "|       121 | 22:31:03.8 |        480 |\n"
     ]
    },
    {
     "name": "stdout",
     "output_type": "stream",
     "text": [
      "|       122 | 22:31:03.9 |        478 |\n",
      "|       123 | 22:31:04.0 |        476 |\n"
     ]
    },
    {
     "name": "stdout",
     "output_type": "stream",
     "text": [
      "|       124 | 22:31:04.1 |        475 |\n",
      "|       125 | 22:31:04.2 |        475 |\n",
      "|       126 | 22:31:04.3 |        475 |\n",
      "|       127 | 22:31:04.4 |        476 |\n"
     ]
    },
    {
     "name": "stdout",
     "output_type": "stream",
     "text": [
      "|       128 | 22:31:04.5 |        478 |\n",
      "|       129 | 22:31:04.6 |        480 |\n",
      "|       130 | 22:31:04.7 |        483 |\n"
     ]
    },
    {
     "name": "stdout",
     "output_type": "stream",
     "text": [
      "|       131 | 22:31:04.8 |        487 |\n",
      "|       132 | 22:31:04.9 |        490 |\n",
      "|       133 | 22:31:05.0 |        494 |\n"
     ]
    },
    {
     "name": "stdout",
     "output_type": "stream",
     "text": [
      "|       134 | 22:31:05.1 |        498 |\n",
      "|       135 | 22:31:05.2 |        502 |\n",
      "|       136 | 22:31:05.3 |        506 |\n"
     ]
    },
    {
     "name": "stdout",
     "output_type": "stream",
     "text": [
      "|       137 | 22:31:05.4 |        510 |\n",
      "|       138 | 22:31:05.5 |        513 |\n"
     ]
    },
    {
     "name": "stdout",
     "output_type": "stream",
     "text": [
      "|       139 | 22:31:05.6 |        516 |\n",
      "|       140 | 22:31:05.7 |        519 |\n",
      "|       141 | 22:31:05.8 |        521 |\n"
     ]
    },
    {
     "name": "stdout",
     "output_type": "stream",
     "text": [
      "|       142 | 22:31:05.9 |        523 |\n",
      "|       143 | 22:31:06.0 |        524 |\n",
      "|       144 | 22:31:06.1 |        525 |\n"
     ]
    },
    {
     "name": "stdout",
     "output_type": "stream",
     "text": [
      "|       145 | 22:31:06.2 |        525 |\n",
      "|       146 | 22:31:06.3 |        524 |\n",
      "|       147 | 22:31:06.4 |        523 |\n"
     ]
    },
    {
     "name": "stdout",
     "output_type": "stream",
     "text": [
      "|       148 | 22:31:06.5 |        521 |\n",
      "|       149 | 22:31:06.6 |        519 |\n"
     ]
    },
    {
     "name": "stdout",
     "output_type": "stream",
     "text": [
      "+-----------+------------+------------+\n",
      "|   seq_num |       time |          I |\n",
      "+-----------+------------+------------+\n",
      "|       150 | 22:31:06.8 |        512 |\n",
      "|       151 | 22:31:06.8 |        512 |\n",
      "|       152 | 22:31:06.9 |        508 |\n"
     ]
    },
    {
     "name": "stdout",
     "output_type": "stream",
     "text": [
      "|       153 | 22:31:07.1 |        505 |\n",
      "|       154 | 22:31:07.2 |        501 |\n",
      "|       155 | 22:31:07.3 |        497 |\n"
     ]
    },
    {
     "name": "stdout",
     "output_type": "stream",
     "text": [
      "|       156 | 22:31:07.4 |        493 |\n",
      "|       157 | 22:31:07.5 |        489 |\n",
      "|       158 | 22:31:07.6 |        486 |\n"
     ]
    },
    {
     "name": "stdout",
     "output_type": "stream",
     "text": [
      "|       159 | 22:31:07.7 |        483 |\n",
      "|       160 | 22:31:07.8 |        480 |\n"
     ]
    },
    {
     "name": "stdout",
     "output_type": "stream",
     "text": [
      "|       161 | 22:31:07.9 |        478 |\n",
      "|       162 | 22:31:08.0 |        476 |\n",
      "|       163 | 22:31:08.1 |        475 |\n"
     ]
    },
    {
     "name": "stdout",
     "output_type": "stream",
     "text": [
      "|       164 | 22:31:08.2 |        475 |\n",
      "|       165 | 22:31:08.3 |        475 |\n",
      "|       166 | 22:31:08.4 |        476 |\n"
     ]
    },
    {
     "name": "stdout",
     "output_type": "stream",
     "text": [
      "|       167 | 22:31:08.5 |        478 |\n",
      "|       168 | 22:31:08.6 |        480 |\n",
      "|       169 | 22:31:08.7 |        482 |\n"
     ]
    },
    {
     "name": "stdout",
     "output_type": "stream",
     "text": [
      "|       170 | 22:31:08.8 |        485 |\n",
      "|       171 | 22:31:08.9 |        489 |\n",
      "|       172 | 22:31:09.0 |        492 |\n"
     ]
    },
    {
     "name": "stdout",
     "output_type": "stream",
     "text": [
      "|       173 | 22:31:09.1 |        496 |\n",
      "|       174 | 22:31:09.2 |        500 |\n",
      "|       175 | 22:31:09.3 |        504 |\n"
     ]
    },
    {
     "name": "stdout",
     "output_type": "stream",
     "text": [
      "|       176 | 22:31:09.4 |        508 |\n",
      "|       177 | 22:31:09.5 |        512 |\n"
     ]
    },
    {
     "name": "stdout",
     "output_type": "stream",
     "text": [
      "|       178 | 22:31:09.6 |        515 |\n",
      "|       179 | 22:31:09.7 |        518 |\n"
     ]
    },
    {
     "name": "stdout",
     "output_type": "stream",
     "text": [
      "|       180 | 22:31:09.8 |        520 |\n",
      "|       181 | 22:31:09.9 |        522 |\n",
      "|       182 | 22:31:10.0 |        524 |\n"
     ]
    },
    {
     "name": "stdout",
     "output_type": "stream",
     "text": [
      "|       183 | 22:31:10.1 |        525 |\n",
      "|       184 | 22:31:10.2 |        525 |\n",
      "|       185 | 22:31:10.3 |        525 |\n"
     ]
    },
    {
     "name": "stdout",
     "output_type": "stream",
     "text": [
      "|       186 | 22:31:10.4 |        524 |\n",
      "|       187 | 22:31:10.5 |        522 |\n"
     ]
    },
    {
     "name": "stdout",
     "output_type": "stream",
     "text": [
      "|       188 | 22:31:10.6 |        520 |\n",
      "|       189 | 22:31:10.7 |        517 |\n"
     ]
    },
    {
     "name": "stdout",
     "output_type": "stream",
     "text": [
      "|       190 | 22:31:10.8 |        512 |\n",
      "|       191 | 22:31:10.9 |        512 |\n",
      "|       192 | 22:31:11.0 |        508 |\n"
     ]
    },
    {
     "name": "stdout",
     "output_type": "stream",
     "text": [
      "|       193 | 22:31:11.1 |        505 |\n",
      "|       194 | 22:31:11.2 |        501 |\n",
      "|       195 | 22:31:11.3 |        497 |\n"
     ]
    },
    {
     "name": "stdout",
     "output_type": "stream",
     "text": [
      "|       196 | 22:31:11.4 |        493 |\n",
      "|       197 | 22:31:11.5 |        489 |\n",
      "|       198 | 22:31:11.6 |        486 |\n"
     ]
    },
    {
     "name": "stdout",
     "output_type": "stream",
     "text": [
      "|       199 | 22:31:11.7 |        483 |\n",
      "+-----------+------------+------------+\n",
      "|   seq_num |       time |          I |\n",
      "+-----------+------------+------------+\n",
      "|       200 | 22:31:11.8 |        480 |\n"
     ]
    },
    {
     "name": "stdout",
     "output_type": "stream",
     "text": [
      "+-----------+------------+------------+\n",
      "generator count ['be0914ea'] (scan num: 27)\n",
      "\n",
      "\n",
      "\n"
     ]
    },
    {
     "data": {
      "text/plain": [
       "('be0914ea-ec90-41cc-9b83-899edab5bff5',)"
      ]
     },
     "execution_count": 1,
     "metadata": {},
     "output_type": "execute_result"
    }
   ],
   "source": [
    "RE(count([I], num=200, delay=0.1))"
   ]
  },
  {
   "cell_type": "code",
   "execution_count": 26,
   "metadata": {
    "execution": {
     "iopub.execute_input": "2021-03-27T22:31:12.147571Z",
     "iopub.status.busy": "2021-03-27T22:31:12.131627Z",
     "iopub.status.idle": "2021-03-27T22:31:12.237414Z",
     "shell.execute_reply": "2021-03-27T22:31:12.236511Z"
    }
   },
   "outputs": [
    {
     "data": {
      "image/png": "[encoded data removed]",
      "text/plain": [
       "<Figure size 500x500 with 1 Axes>"
      ]
     },
     "execution_count": 1,
     "metadata": {},
     "output_type": "execute_result"
    }
   ],
   "source": [
    "plt.gcf()  # Display a snapshot of the current state of the figure."
   ]
  },
  {
   "cell_type": "code",
   "execution_count": 27,
   "metadata": {
    "execution": {
     "iopub.execute_input": "2021-03-27T22:31:12.361944Z",
     "iopub.status.busy": "2021-03-27T22:31:12.360857Z",
     "iopub.status.idle": "2021-03-27T22:31:12.369626Z",
     "shell.execute_reply": "2021-03-27T22:31:12.368025Z"
    }
   },
   "outputs": [
    {
     "data": {
      "application/vnd.jupyter.widget-view+json": {
       "model_id": "4feb2d9d989b4000a026c519c0e4f34d",
       "version_major": 2,
       "version_minor": 0
      },
      "text/plain": [
       "Canvas(toolbar=Toolbar(toolitems=[('Home', 'Reset original view', 'home', 'home'), ('Back', 'Back to previous …"
      ]
     },
     "metadata": {},
     "output_type": "display_data"
    },
    {
     "data": {
      "text/plain": [
       "<Figure size 640x480 with 0 Axes>"
      ]
     },
     "execution_count": 1,
     "metadata": {},
     "output_type": "execute_result"
    }
   ],
   "source": [
    "plt.figure()"
   ]
  },
  {
   "cell_type": "code",
   "execution_count": 28,
   "metadata": {
    "execution": {
     "iopub.execute_input": "2021-03-27T22:31:12.374357Z",
     "iopub.status.busy": "2021-03-27T22:31:12.373537Z",
     "iopub.status.idle": "2021-03-27T22:31:12.605070Z",
     "shell.execute_reply": "2021-03-27T22:31:12.604238Z"
    }
   },
   "outputs": [
    {
     "data": {
      "image/png": "[encoded data removed]",
      "text/plain": [
       "<Figure size 640x480 with 1 Axes>"
      ]
     },
     "execution_count": 1,
     "metadata": {},
     "output_type": "execute_result"
    }
   ],
   "source": [
    "more_current_data = db[-1].table()\n",
    "plt.hist(more_current_data['I'], bins='auto')\n",
    "plt.xlabel('current')\n",
    "plt.ylabel('count')\n",
    "plt.gcf()"
   ]
  },
  {
   "cell_type": "markdown",
   "metadata": {},
   "source": [
    "## Exercises"
   ]
  },
  {
   "cell_type": "markdown",
   "metadata": {},
   "source": [
    "Spend some time reading [10 minutes to pandas](https://pandas.pydata.org/pandas-docs/stable/10min.html), and use this notebook to try some of the examples there."
   ]
  },
  {
   "cell_type": "code",
   "execution_count": 29,
   "metadata": {
    "execution": {
     "iopub.execute_input": "2021-03-27T22:31:12.704042Z",
     "iopub.status.busy": "2021-03-27T22:31:12.703490Z",
     "iopub.status.idle": "2021-03-27T22:31:12.708344Z",
     "shell.execute_reply": "2021-03-27T22:31:12.707865Z"
    }
   },
   "outputs": [],
   "source": [
    "# Hack away...."
   ]
  }
 ],
 "metadata": {
  "kernelspec": {
   "display_name": "Python 3",
   "language": "python",
   "name": "python3"
  },
  "language_info": {
   "codemirror_mode": {
    "name": "ipython",
    "version": 3
   },
   "file_extension": ".py",
   "mimetype": "text/x-python",
   "name": "python",
   "nbconvert_exporter": "python",
   "pygments_lexer": "ipython3",
   "version": "3.7.1"
  },
  "widgets": {
   "application/vnd.jupyter.widget-state+json": {
    "state": {
     "0041acc7496443e4bebe75c6b8d89e25": {
      "model_module": "@jupyter-widgets/base",
      "model_module_version": "1.2.0",
      "model_name": "LayoutModel",
      "state": {
       "_model_module": "@jupyter-widgets/base",
       "_model_module_version": "1.2.0",
       "_model_name": "LayoutModel",
       "_view_count": null,
       "_view_module": "@jupyter-widgets/base",
       "_view_module_version": "1.2.0",
       "_view_name": "LayoutView",
       "align_content": null,
       "align_items": null,
       "align_self": null,
       "border": null,
       "bottom": null,
       "display": null,
       "flex": null,
       "flex_flow": null,
       "grid_area": null,
       "grid_auto_columns": null,
       "grid_auto_flow": null,
       "grid_auto_rows": null,
       "grid_column": null,
       "grid_gap": null,
       "grid_row": null,
       "grid_template_areas": null,
       "grid_template_columns": null,
       "grid_template_rows": null,
       "height": null,
       "justify_content": null,
       "justify_items": null,
       "left": null,
       "margin": null,
       "max_height": null,
       "max_width": null,
       "min_height": null,
       "min_width": null,
       "object_fit": null,
       "object_position": null,
       "order": null,
       "overflow": null,
       "overflow_x": null,
       "overflow_y": null,
       "padding": null,
       "right": null,
       "top": null,
       "visibility": null,
       "width": null
      }
     },
     "0eea0c17fb884e59b6c95ee0600746c3": {
      "model_module": "jupyter-matplotlib",
      "model_module_version": "^0.9.0",
      "model_name": "MPLCanvasModel",
      "state": {
       "_cursor": "pointer",
       "_dom_classes": [],
       "_figure_label": "Figure",
       "_height": 0,
       "_image_mode": "full",
       "_message": "",
       "_model_module": "jupyter-matplotlib",
       "_model_module_version": "^0.9.0",
       "_model_name": "MPLCanvasModel",
       "_rubberband_height": 0,
       "_rubberband_width": 0,
       "_rubberband_x": 0,
       "_rubberband_y": 0,
       "_view_count": null,
       "_view_module": "jupyter-matplotlib",
       "_view_module_version": "^0.9.0",
       "_view_name": "MPLCanvasView",
       "_width": 0,
       "capture_scroll": false,
       "footer_visible": true,
       "header_visible": true,
       "layout": "IPY_MODEL_28940432222e4d00bad0550079e4f49e",
       "resizable": true,
       "toolbar": "IPY_MODEL_b722a5f7f2da41b78597c6b27ed0eb83",
       "toolbar_position": "left",
       "toolbar_visible": true
      }
     },
     "1668de4ccaec43c3add96b70fa52a9c8": {
      "model_module": "@jupyter-widgets/base",
      "model_module_version": "1.2.0",
      "model_name": "LayoutModel",
      "state": {
       "_model_module": "@jupyter-widgets/base",
       "_model_module_version": "1.2.0",
       "_model_name": "LayoutModel",
       "_view_count": null,
       "_view_module": "@jupyter-widgets/base",
       "_view_module_version": "1.2.0",
       "_view_name": "LayoutView",
       "align_content": null,
       "align_items": null,
       "align_self": null,
       "border": null,
       "bottom": null,
       "display": null,
       "flex": null,
       "flex_flow": null,
       "grid_area": null,
       "grid_auto_columns": null,
       "grid_auto_flow": null,
       "grid_auto_rows": null,
       "grid_column": null,
       "grid_gap": null,
       "grid_row": null,
       "grid_template_areas": null,
       "grid_template_columns": null,
       "grid_template_rows": null,
       "height": null,
       "justify_content": null,
       "justify_items": null,
       "left": null,
       "margin": null,
       "max_height": null,
       "max_width": null,
       "min_height": null,
       "min_width": null,
       "object_fit": null,
       "object_position": null,
       "order": null,
       "overflow": null,
       "overflow_x": null,
       "overflow_y": null,
       "padding": null,
       "right": null,
       "top": null,
       "visibility": null,
       "width": null
      }
     },
     "1f01cc5693b84f27b2346f400088ad4a": {
      "model_module": "@jupyter-widgets/base",
      "model_module_version": "1.2.0",
      "model_name": "LayoutModel",
      "state": {
       "_model_module": "@jupyter-widgets/base",
       "_model_module_version": "1.2.0",
       "_model_name": "LayoutModel",
       "_view_count": null,
       "_view_module": "@jupyter-widgets/base",
       "_view_module_version": "1.2.0",
       "_view_name": "LayoutView",
       "align_content": null,
       "align_items": null,
       "align_self": null,
       "border": null,
       "bottom": null,
       "display": null,
       "flex": null,
       "flex_flow": null,
       "grid_area": null,
       "grid_auto_columns": null,
       "grid_auto_flow": null,
       "grid_auto_rows": null,
       "grid_column": null,
       "grid_gap": null,
       "grid_row": null,
       "grid_template_areas": null,
       "grid_template_columns": null,
       "grid_template_rows": null,
       "height": null,
       "justify_content": null,
       "justify_items": null,
       "left": null,
       "margin": null,
       "max_height": null,
       "max_width": null,
       "min_height": null,
       "min_width": null,
       "object_fit": null,
       "object_position": null,
       "order": null,
       "overflow": null,
       "overflow_x": null,
       "overflow_y": null,
       "padding": null,
       "right": null,
       "top": null,
       "visibility": null,
       "width": null
      }
     },
     "23274bd706f14b32bea4db84d69bf6ce": {
      "model_module": "jupyter-matplotlib",
      "model_module_version": "^0.9.0",
      "model_name": "MPLCanvasModel",
      "state": {
       "_cursor": "default",
       "_dom_classes": [],
       "_figure_label": "I slit_det vs motor_slit",
       "_height": 1000,
       "_image_mode": "diff",
       "_message": "",
       "_model_module": "jupyter-matplotlib",
       "_model_module_version": "^0.9.0",
       "_model_name": "MPLCanvasModel",
       "_rubberband_height": 0,
       "_rubberband_width": 0,
       "_rubberband_x": 0,
       "_rubberband_y": 0,
       "_view_count": null,
       "_view_module": "jupyter-matplotlib",
       "_view_module_version": "^0.9.0",
       "_view_name": "MPLCanvasView",
       "_width": 500,
       "capture_scroll": false,
       "footer_visible": true,
       "header_visible": true,
       "layout": "IPY_MODEL_24620300617e4deb95ca69375c6c9798",
       "resizable": true,
       "toolbar": "IPY_MODEL_9760dccac4594290ba3a57e1de9f09b9",
       "toolbar_position": "left",
       "toolbar_visible": true
      }
     },
     "24620300617e4deb95ca69375c6c9798": {
      "model_module": "@jupyter-widgets/base",
      "model_module_version": "1.2.0",
      "model_name": "LayoutModel",
      "state": {
       "_model_module": "@jupyter-widgets/base",
       "_model_module_version": "1.2.0",
       "_model_name": "LayoutModel",
       "_view_count": null,
       "_view_module": "@jupyter-widgets/base",
       "_view_module_version": "1.2.0",
       "_view_name": "LayoutView",
       "align_content": null,
       "align_items": null,
       "align_self": null,
       "border": null,
       "bottom": null,
       "display": null,
       "flex": null,
       "flex_flow": null,
       "grid_area": null,
       "grid_auto_columns": null,
       "grid_auto_flow": null,
       "grid_auto_rows": null,
       "grid_column": null,
       "grid_gap": null,
       "grid_row": null,
       "grid_template_areas": null,
       "grid_template_columns": null,
       "grid_template_rows": null,
       "height": null,
       "justify_content": null,
       "justify_items": null,
       "left": null,
       "margin": null,
       "max_height": null,
       "max_width": null,
       "min_height": null,
       "min_width": null,
       "object_fit": null,
       "object_position": null,
       "order": null,
       "overflow": null,
       "overflow_x": null,
       "overflow_y": null,
       "padding": null,
       "right": null,
       "top": null,
       "visibility": null,
       "width": null
      }
     },
     "28940432222e4d00bad0550079e4f49e": {
      "model_module": "@jupyter-widgets/base",
      "model_module_version": "1.2.0",
      "model_name": "LayoutModel",
      "state": {
       "_model_module": "@jupyter-widgets/base",
       "_model_module_version": "1.2.0",
       "_model_name": "LayoutModel",
       "_view_count": null,
       "_view_module": "@jupyter-widgets/base",
       "_view_module_version": "1.2.0",
       "_view_name": "LayoutView",
       "align_content": null,
       "align_items": null,
       "align_self": null,
       "border": null,
       "bottom": null,
       "display": null,
       "flex": null,
       "flex_flow": null,
       "grid_area": null,
       "grid_auto_columns": null,
       "grid_auto_flow": null,
       "grid_auto_rows": null,
       "grid_column": null,
       "grid_gap": null,
       "grid_row": null,
       "grid_template_areas": null,
       "grid_template_columns": null,
       "grid_template_rows": null,
       "height": null,
       "justify_content": null,
       "justify_items": null,
       "left": null,
       "margin": null,
       "max_height": null,
       "max_width": null,
       "min_height": null,
       "min_width": null,
       "object_fit": null,
       "object_position": null,
       "order": null,
       "overflow": null,
       "overflow_x": null,
       "overflow_y": null,
       "padding": null,
       "right": null,
       "top": null,
       "visibility": null,
       "width": null
      }
     },
     "30a79c1cefab4a18bd5a02c1bb0c7f06": {
      "model_module": "jupyter-matplotlib",
      "model_module_version": "^0.9.0",
      "model_name": "ToolbarModel",
      "state": {
       "_current_action": "",
       "_dom_classes": [],
       "_model_module": "jupyter-matplotlib",
       "_model_module_version": "^0.9.0",
       "_model_name": "ToolbarModel",
       "_view_count": null,
       "_view_module": "jupyter-matplotlib",
       "_view_module_version": "^0.9.0",
       "_view_name": "ToolbarView",
       "button_style": "",
       "collapsed": true,
       "layout": "IPY_MODEL_0041acc7496443e4bebe75c6b8d89e25",
       "orientation": "vertical",
       "toolitems": [
        [
         "Home",
         "Reset original view",
         "home",
         "home"
        ],
        [
         "Back",
         "Back to previous view",
         "arrow-left",
         "back"
        ],
        [
         "Forward",
         "Forward to next view",
         "arrow-right",
         "forward"
        ],
        [
         "Pan",
         "Left button pans, Right button zooms\nx/y fixes axis, CTRL fixes aspect",
         "arrows",
         "pan"
        ],
        [
         "Zoom",
         "Zoom to rectangle\nx/y fixes axis, CTRL fixes aspect",
         "square-o",
         "zoom"
        ],
        [
         "Download",
         "Download plot",
         "floppy-o",
         "save_figure"
        ]
       ]
      }
     },
     "3bf29b89fb9147eaadf35c127880cb96": {
      "model_module": "jupyter-matplotlib",
      "model_module_version": "^0.9.0",
      "model_name": "MPLCanvasModel",
      "state": {
       "_cursor": "pointer",
       "_dom_classes": [],
       "_figure_label": "Figure",
       "_height": 0,
       "_image_mode": "full",
       "_message": "",
       "_model_module": "jupyter-matplotlib",
       "_model_module_version": "^0.9.0",
       "_model_name": "MPLCanvasModel",
       "_rubberband_height": 0,
       "_rubberband_width": 0,
       "_rubberband_x": 0,
       "_rubberband_y": 0,
       "_view_count": null,
       "_view_module": "jupyter-matplotlib",
       "_view_module_version": "^0.9.0",
       "_view_name": "MPLCanvasView",
       "_width": 0,
       "capture_scroll": false,
       "footer_visible": true,
       "header_visible": true,
       "layout": "IPY_MODEL_e041bf6166f0413f860acf25d90ec930",
       "resizable": true,
       "toolbar": "IPY_MODEL_7f644625345a45729de6e75e74f75d64",
       "toolbar_position": "left",
       "toolbar_visible": true
      }
     },
     "3e98bab0d0c9492a8703d3c31bed6ec1": {
      "model_module": "@jupyter-widgets/base",
      "model_module_version": "1.2.0",
      "model_name": "LayoutModel",
      "state": {
       "_model_module": "@jupyter-widgets/base",
       "_model_module_version": "1.2.0",
       "_model_name": "LayoutModel",
       "_view_count": null,
       "_view_module": "@jupyter-widgets/base",
       "_view_module_version": "1.2.0",
       "_view_name": "LayoutView",
       "align_content": null,
       "align_items": null,
       "align_self": null,
       "border": null,
       "bottom": null,
       "display": null,
       "flex": null,
       "flex_flow": null,
       "grid_area": null,
       "grid_auto_columns": null,
       "grid_auto_flow": null,
       "grid_auto_rows": null,
       "grid_column": null,
       "grid_gap": null,
       "grid_row": null,
       "grid_template_areas": null,
       "grid_template_columns": null,
       "grid_template_rows": null,
       "height": null,
       "justify_content": null,
       "justify_items": null,
       "left": null,
       "margin": null,
       "max_height": null,
       "max_width": null,
       "min_height": null,
       "min_width": null,
       "object_fit": null,
       "object_position": null,
       "order": null,
       "overflow": null,
       "overflow_x": null,
       "overflow_y": null,
       "padding": null,
       "right": null,
       "top": null,
       "visibility": null,
       "width": null
      }
     },
     "3f72a0b12db54ef8b9368183c2414bf5": {
      "model_module": "@jupyter-widgets/base",
      "model_module_version": "1.2.0",
      "model_name": "LayoutModel",
      "state": {
       "_model_module": "@jupyter-widgets/base",
       "_model_module_version": "1.2.0",
       "_model_name": "LayoutModel",
       "_view_count": null,
       "_view_module": "@jupyter-widgets/base",
       "_view_module_version": "1.2.0",
       "_view_name": "LayoutView",
       "align_content": null,
       "align_items": null,
       "align_self": null,
       "border": null,
       "bottom": null,
       "display": null,
       "flex": null,
       "flex_flow": null,
       "grid_area": null,
       "grid_auto_columns": null,
       "grid_auto_flow": null,
       "grid_auto_rows": null,
       "grid_column": null,
       "grid_gap": null,
       "grid_row": null,
       "grid_template_areas": null,
       "grid_template_columns": null,
       "grid_template_rows": null,
       "height": null,
       "justify_content": null,
       "justify_items": null,
       "left": null,
       "margin": null,
       "max_height": null,
       "max_width": null,
       "min_height": null,
       "min_width": null,
       "object_fit": null,
       "object_position": null,
       "order": null,
       "overflow": null,
       "overflow_x": null,
       "overflow_y": null,
       "padding": null,
       "right": null,
       "top": null,
       "visibility": null,
       "width": null
      }
     },
     "4feb2d9d989b4000a026c519c0e4f34d": {
      "model_module": "jupyter-matplotlib",
      "model_module_version": "^0.9.0",
      "model_name": "MPLCanvasModel",
      "state": {
       "_cursor": "pointer",
       "_dom_classes": [],
       "_figure_label": "Figure",
       "_height": 0,
       "_image_mode": "full",
       "_message": "",
       "_model_module": "jupyter-matplotlib",
       "_model_module_version": "^0.9.0",
       "_model_name": "MPLCanvasModel",
       "_rubberband_height": 0,
       "_rubberband_width": 0,
       "_rubberband_x": 0,
       "_rubberband_y": 0,
       "_view_count": null,
       "_view_module": "jupyter-matplotlib",
       "_view_module_version": "^0.9.0",
       "_view_name": "MPLCanvasView",
       "_width": 0,
       "capture_scroll": false,
       "footer_visible": true,
       "header_visible": true,
       "layout": "IPY_MODEL_e1dd7e35941342c390884562eaf41335",
       "resizable": true,
       "toolbar": "IPY_MODEL_75c3c12e41cb4d44be34890c2139bd0d",
       "toolbar_position": "left",
       "toolbar_visible": true
      }
     },
     "6c1d3a7c96e040c3880e33b8898bae1b": {
      "model_module": "@jupyter-widgets/base",
      "model_module_version": "1.2.0",
      "model_name": "LayoutModel",
      "state": {
       "_model_module": "@jupyter-widgets/base",
       "_model_module_version": "1.2.0",
       "_model_name": "LayoutModel",
       "_view_count": null,
       "_view_module": "@jupyter-widgets/base",
       "_view_module_version": "1.2.0",
       "_view_name": "LayoutView",
       "align_content": null,
       "align_items": null,
       "align_self": null,
       "border": null,
       "bottom": null,
       "display": null,
       "flex": null,
       "flex_flow": null,
       "grid_area": null,
       "grid_auto_columns": null,
       "grid_auto_flow": null,
       "grid_auto_rows": null,
       "grid_column": null,
       "grid_gap": null,
       "grid_row": null,
       "grid_template_areas": null,
       "grid_template_columns": null,
       "grid_template_rows": null,
       "height": null,
       "justify_content": null,
       "justify_items": null,
       "left": null,
       "margin": null,
       "max_height": null,
       "max_width": null,
       "min_height": null,
       "min_width": null,
       "object_fit": null,
       "object_position": null,
       "order": null,
       "overflow": null,
       "overflow_x": null,
       "overflow_y": null,
       "padding": null,
       "right": null,
       "top": null,
       "visibility": null,
       "width": null
      }
     },
     "72d2e33dc5ab4673a374007eb8cae944": {
      "model_module": "jupyter-matplotlib",
      "model_module_version": "^0.9.0",
      "model_name": "ToolbarModel",
      "state": {
       "_current_action": "",
       "_dom_classes": [],
       "_model_module": "jupyter-matplotlib",
       "_model_module_version": "^0.9.0",
       "_model_name": "ToolbarModel",
       "_view_count": null,
       "_view_module": "jupyter-matplotlib",
       "_view_module_version": "^0.9.0",
       "_view_name": "ToolbarView",
       "button_style": "",
       "collapsed": true,
       "layout": "IPY_MODEL_799a94ba2b994328b894a3db9bd63de3",
       "orientation": "vertical",
       "toolitems": [
        [
         "Home",
         "Reset original view",
         "home",
         "home"
        ],
        [
         "Back",
         "Back to previous view",
         "arrow-left",
         "back"
        ],
        [
         "Forward",
         "Forward to next view",
         "arrow-right",
         "forward"
        ],
        [
         "Pan",
         "Left button pans, Right button zooms\nx/y fixes axis, CTRL fixes aspect",
         "arrows",
         "pan"
        ],
        [
         "Zoom",
         "Zoom to rectangle\nx/y fixes axis, CTRL fixes aspect",
         "square-o",
         "zoom"
        ],
        [
         "Download",
         "Download plot",
         "floppy-o",
         "save_figure"
        ]
       ]
      }
     },
     "75c3c12e41cb4d44be34890c2139bd0d": {
      "model_module": "jupyter-matplotlib",
      "model_module_version": "^0.9.0",
      "model_name": "ToolbarModel",
      "state": {
       "_current_action": "",
       "_dom_classes": [],
       "_model_module": "jupyter-matplotlib",
       "_model_module_version": "^0.9.0",
       "_model_name": "ToolbarModel",
       "_view_count": null,
       "_view_module": "jupyter-matplotlib",
       "_view_module_version": "^0.9.0",
       "_view_name": "ToolbarView",
       "button_style": "",
       "collapsed": true,
       "layout": "IPY_MODEL_3f72a0b12db54ef8b9368183c2414bf5",
       "orientation": "vertical",
       "toolitems": [
        [
         "Home",
         "Reset original view",
         "home",
         "home"
        ],
        [
         "Back",
         "Back to previous view",
         "arrow-left",
         "back"
        ],
        [
         "Forward",
         "Forward to next view",
         "arrow-right",
         "forward"
        ],
        [
         "Pan",
         "Left button pans, Right button zooms\nx/y fixes axis, CTRL fixes aspect",
         "arrows",
         "pan"
        ],
        [
         "Zoom",
         "Zoom to rectangle\nx/y fixes axis, CTRL fixes aspect",
         "square-o",
         "zoom"
        ],
        [
         "Download",
         "Download plot",
         "floppy-o",
         "save_figure"
        ]
       ]
      }
     },
     "799a94ba2b994328b894a3db9bd63de3": {
      "model_module": "@jupyter-widgets/base",
      "model_module_version": "1.2.0",
      "model_name": "LayoutModel",
      "state": {
       "_model_module": "@jupyter-widgets/base",
       "_model_module_version": "1.2.0",
       "_model_name": "LayoutModel",
       "_view_count": null,
       "_view_module": "@jupyter-widgets/base",
       "_view_module_version": "1.2.0",
       "_view_name": "LayoutView",
       "align_content": null,
       "align_items": null,
       "align_self": null,
       "border": null,
       "bottom": null,
       "display": null,
       "flex": null,
       "flex_flow": null,
       "grid_area": null,
       "grid_auto_columns": null,
       "grid_auto_flow": null,
       "grid_auto_rows": null,
       "grid_column": null,
       "grid_gap": null,
       "grid_row": null,
       "grid_template_areas": null,
       "grid_template_columns": null,
       "grid_template_rows": null,
       "height": null,
       "justify_content": null,
       "justify_items": null,
       "left": null,
       "margin": null,
       "max_height": null,
       "max_width": null,
       "min_height": null,
       "min_width": null,
       "object_fit": null,
       "object_position": null,
       "order": null,
       "overflow": null,
       "overflow_x": null,
       "overflow_y": null,
       "padding": null,
       "right": null,
       "top": null,
       "visibility": null,
       "width": null
      }
     },
     "7f644625345a45729de6e75e74f75d64": {
      "model_module": "jupyter-matplotlib",
      "model_module_version": "^0.9.0",
      "model_name": "ToolbarModel",
      "state": {
       "_current_action": "",
       "_dom_classes": [],
       "_model_module": "jupyter-matplotlib",
       "_model_module_version": "^0.9.0",
       "_model_name": "ToolbarModel",
       "_view_count": null,
       "_view_module": "jupyter-matplotlib",
       "_view_module_version": "^0.9.0",
       "_view_name": "ToolbarView",
       "button_style": "",
       "collapsed": true,
       "layout": "IPY_MODEL_aa23ac027a414733bef25b17df96cf6d",
       "orientation": "vertical",
       "toolitems": [
        [
         "Home",
         "Reset original view",
         "home",
         "home"
        ],
        [
         "Back",
         "Back to previous view",
         "arrow-left",
         "back"
        ],
        [
         "Forward",
         "Forward to next view",
         "arrow-right",
         "forward"
        ],
        [
         "Pan",
         "Left button pans, Right button zooms\nx/y fixes axis, CTRL fixes aspect",
         "arrows",
         "pan"
        ],
        [
         "Zoom",
         "Zoom to rectangle\nx/y fixes axis, CTRL fixes aspect",
         "square-o",
         "zoom"
        ],
        [
         "Download",
         "Download plot",
         "floppy-o",
         "save_figure"
        ]
       ]
      }
     },
     "9760dccac4594290ba3a57e1de9f09b9": {
      "model_module": "jupyter-matplotlib",
      "model_module_version": "^0.9.0",
      "model_name": "ToolbarModel",
      "state": {
       "_current_action": "",
       "_dom_classes": [],
       "_model_module": "jupyter-matplotlib",
       "_model_module_version": "^0.9.0",
       "_model_name": "ToolbarModel",
       "_view_count": null,
       "_view_module": "jupyter-matplotlib",
       "_view_module_version": "^0.9.0",
       "_view_name": "ToolbarView",
       "button_style": "",
       "collapsed": true,
       "layout": "IPY_MODEL_1f01cc5693b84f27b2346f400088ad4a",
       "orientation": "vertical",
       "toolitems": [
        [
         "Home",
         "Reset original view",
         "home",
         "home"
        ],
        [
         "Back",
         "Back to previous view",
         "arrow-left",
         "back"
        ],
        [
         "Forward",
         "Forward to next view",
         "arrow-right",
         "forward"
        ],
        [
         "Pan",
         "Left button pans, Right button zooms\nx/y fixes axis, CTRL fixes aspect",
         "arrows",
         "pan"
        ],
        [
         "Zoom",
         "Zoom to rectangle\nx/y fixes axis, CTRL fixes aspect",
         "square-o",
         "zoom"
        ],
        [
         "Download",
         "Download plot",
         "floppy-o",
         "save_figure"
        ]
       ]
      }
     },
     "9a495ef91dcc4f159ae2a50b5135b534": {
      "model_module": "@jupyter-widgets/base",
      "model_module_version": "1.2.0",
      "model_name": "LayoutModel",
      "state": {
       "_model_module": "@jupyter-widgets/base",
       "_model_module_version": "1.2.0",
       "_model_name": "LayoutModel",
       "_view_count": null,
       "_view_module": "@jupyter-widgets/base",
       "_view_module_version": "1.2.0",
       "_view_name": "LayoutView",
       "align_content": null,
       "align_items": null,
       "align_self": null,
       "border": null,
       "bottom": null,
       "display": null,
       "flex": null,
       "flex_flow": null,
       "grid_area": null,
       "grid_auto_columns": null,
       "grid_auto_flow": null,
       "grid_auto_rows": null,
       "grid_column": null,
       "grid_gap": null,
       "grid_row": null,
       "grid_template_areas": null,
       "grid_template_columns": null,
       "grid_template_rows": null,
       "height": null,
       "justify_content": null,
       "justify_items": null,
       "left": null,
       "margin": null,
       "max_height": null,
       "max_width": null,
       "min_height": null,
       "min_width": null,
       "object_fit": null,
       "object_position": null,
       "order": null,
       "overflow": null,
       "overflow_x": null,
       "overflow_y": null,
       "padding": null,
       "right": null,
       "top": null,
       "visibility": null,
       "width": null
      }
     },
     "a41706d6cf024c83a997566425b33f6a": {
      "model_module": "jupyter-matplotlib",
      "model_module_version": "^0.9.0",
      "model_name": "MPLCanvasModel",
      "state": {
       "_cursor": "pointer",
       "_dom_classes": [],
       "_figure_label": "I vs time",
       "_height": 500,
       "_image_mode": "diff",
       "_message": "",
       "_model_module": "jupyter-matplotlib",
       "_model_module_version": "^0.9.0",
       "_model_name": "MPLCanvasModel",
       "_rubberband_height": 0,
       "_rubberband_width": 0,
       "_rubberband_x": 0,
       "_rubberband_y": 0,
       "_view_count": null,
       "_view_module": "jupyter-matplotlib",
       "_view_module_version": "^0.9.0",
       "_view_name": "MPLCanvasView",
       "_width": 500,
       "capture_scroll": false,
       "footer_visible": true,
       "header_visible": true,
       "layout": "IPY_MODEL_6c1d3a7c96e040c3880e33b8898bae1b",
       "resizable": true,
       "toolbar": "IPY_MODEL_f61b7f8b45a64abc87cd95586e662247",
       "toolbar_position": "left",
       "toolbar_visible": true
      }
     },
     "aa23ac027a414733bef25b17df96cf6d": {
      "model_module": "@jupyter-widgets/base",
      "model_module_version": "1.2.0",
      "model_name": "LayoutModel",
      "state": {
       "_model_module": "@jupyter-widgets/base",
       "_model_module_version": "1.2.0",
       "_model_name": "LayoutModel",
       "_view_count": null,
       "_view_module": "@jupyter-widgets/base",
       "_view_module_version": "1.2.0",
       "_view_name": "LayoutView",
       "align_content": null,
       "align_items": null,
       "align_self": null,
       "border": null,
       "bottom": null,
       "display": null,
       "flex": null,
       "flex_flow": null,
       "grid_area": null,
       "grid_auto_columns": null,
       "grid_auto_flow": null,
       "grid_auto_rows": null,
       "grid_column": null,
       "grid_gap": null,
       "grid_row": null,
       "grid_template_areas": null,
       "grid_template_columns": null,
       "grid_template_rows": null,
       "height": null,
       "justify_content": null,
       "justify_items": null,
       "left": null,
       "margin": null,
       "max_height": null,
       "max_width": null,
       "min_height": null,
       "min_width": null,
       "object_fit": null,
       "object_position": null,
       "order": null,
       "overflow": null,
       "overflow_x": null,
       "overflow_y": null,
       "padding": null,
       "right": null,
       "top": null,
       "visibility": null,
       "width": null
      }
     },
     "b722a5f7f2da41b78597c6b27ed0eb83": {
      "model_module": "jupyter-matplotlib",
      "model_module_version": "^0.9.0",
      "model_name": "ToolbarModel",
      "state": {
       "_current_action": "",
       "_dom_classes": [],
       "_model_module": "jupyter-matplotlib",
       "_model_module_version": "^0.9.0",
       "_model_name": "ToolbarModel",
       "_view_count": null,
       "_view_module": "jupyter-matplotlib",
       "_view_module_version": "^0.9.0",
       "_view_name": "ToolbarView",
       "button_style": "",
       "collapsed": true,
       "layout": "IPY_MODEL_1668de4ccaec43c3add96b70fa52a9c8",
       "orientation": "vertical",
       "toolitems": [
        [
         "Home",
         "Reset original view",
         "home",
         "home"
        ],
        [
         "Back",
         "Back to previous view",
         "arrow-left",
         "back"
        ],
        [
         "Forward",
         "Forward to next view",
         "arrow-right",
         "forward"
        ],
        [
         "Pan",
         "Left button pans, Right button zooms\nx/y fixes axis, CTRL fixes aspect",
         "arrows",
         "pan"
        ],
        [
         "Zoom",
         "Zoom to rectangle\nx/y fixes axis, CTRL fixes aspect",
         "square-o",
         "zoom"
        ],
        [
         "Download",
         "Download plot",
         "floppy-o",
         "save_figure"
        ]
       ]
      }
     },
     "c02d1e65a37e49a5b3d01b33cdb36b51": {
      "model_module": "jupyter-matplotlib",
      "model_module_version": "^0.9.0",
      "model_name": "MPLCanvasModel",
      "state": {
       "_cursor": "pointer",
       "_dom_classes": [],
       "_figure_label": "Figure",
       "_height": 0,
       "_image_mode": "full",
       "_message": "",
       "_model_module": "jupyter-matplotlib",
       "_model_module_version": "^0.9.0",
       "_model_name": "MPLCanvasModel",
       "_rubberband_height": 0,
       "_rubberband_width": 0,
       "_rubberband_x": 0,
       "_rubberband_y": 0,
       "_view_count": null,
       "_view_module": "jupyter-matplotlib",
       "_view_module_version": "^0.9.0",
       "_view_name": "MPLCanvasView",
       "_width": 0,
       "capture_scroll": false,
       "footer_visible": true,
       "header_visible": true,
       "layout": "IPY_MODEL_3e98bab0d0c9492a8703d3c31bed6ec1",
       "resizable": true,
       "toolbar": "IPY_MODEL_30a79c1cefab4a18bd5a02c1bb0c7f06",
       "toolbar_position": "left",
       "toolbar_visible": true
      }
     },
     "c386218ec9804e52aaf327c473d6483a": {
      "model_module": "@jupyter-widgets/base",
      "model_module_version": "1.2.0",
      "model_name": "LayoutModel",
      "state": {
       "_model_module": "@jupyter-widgets/base",
       "_model_module_version": "1.2.0",
       "_model_name": "LayoutModel",
       "_view_count": null,
       "_view_module": "@jupyter-widgets/base",
       "_view_module_version": "1.2.0",
       "_view_name": "LayoutView",
       "align_content": null,
       "align_items": null,
       "align_self": null,
       "border": null,
       "bottom": null,
       "display": null,
       "flex": null,
       "flex_flow": null,
       "grid_area": null,
       "grid_auto_columns": null,
       "grid_auto_flow": null,
       "grid_auto_rows": null,
       "grid_column": null,
       "grid_gap": null,
       "grid_row": null,
       "grid_template_areas": null,
       "grid_template_columns": null,
       "grid_template_rows": null,
       "height": null,
       "justify_content": null,
       "justify_items": null,
       "left": null,
       "margin": null,
       "max_height": null,
       "max_width": null,
       "min_height": null,
       "min_width": null,
       "object_fit": null,
       "object_position": null,
       "order": null,
       "overflow": null,
       "overflow_x": null,
       "overflow_y": null,
       "padding": null,
       "right": null,
       "top": null,
       "visibility": null,
       "width": null
      }
     },
     "ddda889269d545b99352af0dc50ed809": {
      "model_module": "jupyter-matplotlib",
      "model_module_version": "^0.9.0",
      "model_name": "MPLCanvasModel",
      "state": {
       "_cursor": "pointer",
       "_dom_classes": [],
       "_figure_label": "Figure",
       "_height": 0,
       "_image_mode": "full",
       "_message": "",
       "_model_module": "jupyter-matplotlib",
       "_model_module_version": "^0.9.0",
       "_model_name": "MPLCanvasModel",
       "_rubberband_height": 0,
       "_rubberband_width": 0,
       "_rubberband_x": 0,
       "_rubberband_y": 0,
       "_view_count": null,
       "_view_module": "jupyter-matplotlib",
       "_view_module_version": "^0.9.0",
       "_view_name": "MPLCanvasView",
       "_width": 0,
       "capture_scroll": false,
       "footer_visible": true,
       "header_visible": true,
       "layout": "IPY_MODEL_c386218ec9804e52aaf327c473d6483a",
       "resizable": true,
       "toolbar": "IPY_MODEL_72d2e33dc5ab4673a374007eb8cae944",
       "toolbar_position": "left",
       "toolbar_visible": true
      }
     },
     "e041bf6166f0413f860acf25d90ec930": {
      "model_module": "@jupyter-widgets/base",
      "model_module_version": "1.2.0",
      "model_name": "LayoutModel",
      "state": {
       "_model_module": "@jupyter-widgets/base",
       "_model_module_version": "1.2.0",
       "_model_name": "LayoutModel",
       "_view_count": null,
       "_view_module": "@jupyter-widgets/base",
       "_view_module_version": "1.2.0",
       "_view_name": "LayoutView",
       "align_content": null,
       "align_items": null,
       "align_self": null,
       "border": null,
       "bottom": null,
       "display": null,
       "flex": null,
       "flex_flow": null,
       "grid_area": null,
       "grid_auto_columns": null,
       "grid_auto_flow": null,
       "grid_auto_rows": null,
       "grid_column": null,
       "grid_gap": null,
       "grid_row": null,
       "grid_template_areas": null,
       "grid_template_columns": null,
       "grid_template_rows": null,
       "height": null,
       "justify_content": null,
       "justify_items": null,
       "left": null,
       "margin": null,
       "max_height": null,
       "max_width": null,
       "min_height": null,
       "min_width": null,
       "object_fit": null,
       "object_position": null,
       "order": null,
       "overflow": null,
       "overflow_x": null,
       "overflow_y": null,
       "padding": null,
       "right": null,
       "top": null,
       "visibility": null,
       "width": null
      }
     },
     "e1dd7e35941342c390884562eaf41335": {
      "model_module": "@jupyter-widgets/base",
      "model_module_version": "1.2.0",
      "model_name": "LayoutModel",
      "state": {
       "_model_module": "@jupyter-widgets/base",
       "_model_module_version": "1.2.0",
       "_model_name": "LayoutModel",
       "_view_count": null,
       "_view_module": "@jupyter-widgets/base",
       "_view_module_version": "1.2.0",
       "_view_name": "LayoutView",
       "align_content": null,
       "align_items": null,
       "align_self": null,
       "border": null,
       "bottom": null,
       "display": null,
       "flex": null,
       "flex_flow": null,
       "grid_area": null,
       "grid_auto_columns": null,
       "grid_auto_flow": null,
       "grid_auto_rows": null,
       "grid_column": null,
       "grid_gap": null,
       "grid_row": null,
       "grid_template_areas": null,
       "grid_template_columns": null,
       "grid_template_rows": null,
       "height": null,
       "justify_content": null,
       "justify_items": null,
       "left": null,
       "margin": null,
       "max_height": null,
       "max_width": null,
       "min_height": null,
       "min_width": null,
       "object_fit": null,
       "object_position": null,
       "order": null,
       "overflow": null,
       "overflow_x": null,
       "overflow_y": null,
       "padding": null,
       "right": null,
       "top": null,
       "visibility": null,
       "width": null
      }
     },
     "f61b7f8b45a64abc87cd95586e662247": {
      "model_module": "jupyter-matplotlib",
      "model_module_version": "^0.9.0",
      "model_name": "ToolbarModel",
      "state": {
       "_current_action": "",
       "_dom_classes": [],
       "_model_module": "jupyter-matplotlib",
       "_model_module_version": "^0.9.0",
       "_model_name": "ToolbarModel",
       "_view_count": null,
       "_view_module": "jupyter-matplotlib",
       "_view_module_version": "^0.9.0",
       "_view_name": "ToolbarView",
       "button_style": "",
       "collapsed": true,
       "layout": "IPY_MODEL_9a495ef91dcc4f159ae2a50b5135b534",
       "orientation": "vertical",
       "toolitems": [
        [
         "Home",
         "Reset original view",
         "home",
         "home"
        ],
        [
         "Back",
         "Back to previous view",
         "arrow-left",
         "back"
        ],
        [
         "Forward",
         "Forward to next view",
         "arrow-right",
         "forward"
        ],
        [
         "Pan",
         "Left button pans, Right button zooms\nx/y fixes axis, CTRL fixes aspect",
         "arrows",
         "pan"
        ],
        [
         "Zoom",
         "Zoom to rectangle\nx/y fixes axis, CTRL fixes aspect",
         "square-o",
         "zoom"
        ],
        [
         "Download",
         "Download plot",
         "floppy-o",
         "save_figure"
        ]
       ]
      }
     }
    },
    "version_major": 2,
    "version_minor": 0
   }
  }
 },
 "nbformat": 4,
 "nbformat_minor": 4
}
