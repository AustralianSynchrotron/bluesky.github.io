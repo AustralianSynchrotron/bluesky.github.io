{
 "cells": [
  {
   "cell_type": "markdown",
   "metadata": {},
   "source": [
    "# Process Tabular Data with Pandas\n",
    "\n",
    "In this notebook you will:\n",
    "\n",
    "* Load a data from a scan.\n",
    "* Visualize it.\n",
    "* Explore the dataset, performing basic filtering and statistic operations using ``pandas``.\n",
    "\n",
    "Recommended Prerequisites:\n",
    "\n",
    "* [Hello Bluesky](./Hello%20Bluesky.ipynb)\n",
    "\n",
    "## Configuration\n",
    "Below, we will connect to EPICS IOC(s) controlling simulated hardware in lieu of actual motors, detectors. The IOCs should already be running in the background. Run this command to verify that they are running: it should produce output with RUNNING on each line. In the event of a problem, edit this command to replace status with restart all and run again.\n"
   ]
  },
  {
   "cell_type": "code",
   "execution_count": 1,
   "metadata": {},
   "outputs": [
    {
     "name": "stdout",
     "output_type": "stream",
     "text": [
      "decay                            RUNNING   pid 4978, uptime 0:05:19\r\n",
      "mini_beamline                    RUNNING   pid 4979, uptime 0:05:19\r\n",
      "random_walk                      RUNNING   pid 4980, uptime 0:05:19\r\n",
      "random_walk_horiz                RUNNING   pid 4981, uptime 0:05:19\r\n",
      "random_walk_vert                 RUNNING   pid 4982, uptime 0:05:19\r\n",
      "simple                           RUNNING   pid 4983, uptime 0:05:19\r\n",
      "thermo_sim                       RUNNING   pid 4984, uptime 0:05:19\r\n",
      "trigger_with_pc                  RUNNING   pid 4985, uptime 0:05:19\r\n"
     ]
    }
   ],
   "source": [
    "!supervisorctl -c supervisor/supervisord.conf status"
   ]
  },
  {
   "cell_type": "code",
   "execution_count": 2,
   "metadata": {},
   "outputs": [],
   "source": [
    "%run scripts/beamline_configuration.py"
   ]
  },
  {
   "cell_type": "markdown",
   "metadata": {},
   "source": [
    "## Quickly access and explore the data\n",
    "\n",
    "Let's take sample data."
   ]
  },
  {
   "cell_type": "code",
   "execution_count": 3,
   "metadata": {
    "nbshpinx": "hidden"
   },
   "outputs": [
    {
     "data": {
      "application/vnd.jupyter.widget-view+json": {
       "model_id": "2895d5d8a0a643a495501b9f762308bc",
       "version_major": 2,
       "version_minor": 0
      },
      "text/plain": [
       "Canvas(toolbar=Toolbar(toolitems=[('Home', 'Reset original view', 'home', 'home'), ('Back', 'Back to previous …"
      ]
     },
     "metadata": {},
     "output_type": "display_data"
    },
    {
     "data": {
      "text/plain": [
       "<Figure size 640x480 with 0 Axes>"
      ]
     },
     "execution_count": 3,
     "metadata": {},
     "output_type": "execute_result"
    }
   ],
   "source": [
    "# Creating a figure explicitly in advance helps with the\n",
    "# top-to-bottom flow of this notebook, but it is not necessary.\n",
    "# If this is omitted, bluesky will cause a figure to appear\n",
    "# during the RE(...) execution below.\n",
    "plt.figure('I slit_det vs motor_slit')"
   ]
  },
  {
   "cell_type": "code",
   "execution_count": 4,
   "metadata": {},
   "outputs": [
    {
     "name": "stdout",
     "output_type": "stream",
     "text": [
      "\n",
      "\n",
      "Transient Scan ID: 26     Time: 2020-05-23 20:01:53\n",
      "Persistent Unique Scan ID: 'a826fa78-d8c7-4cd2-b8e0-aaa76ac97901'\n"
     ]
    },
    {
     "name": "stdout",
     "output_type": "stream",
     "text": [
      "New stream: 'primary'\n"
     ]
    },
    {
     "name": "stdout",
     "output_type": "stream",
     "text": [
      "+-----------+------------+------------+------------+------------+\n",
      "|   seq_num |       time | motor_slit |   slit_det |          I |\n",
      "+-----------+------------+------------+------------+------------+\n",
      "|         1 | 20:01:53.9 |    -10.000 |       7958 |        505 |\n",
      "|         2 | 20:01:54.0 |     -8.571 |      28290 |        516 |\n",
      "|         3 | 20:01:54.0 |     -7.143 |      60121 |        519 |\n",
      "|         4 | 20:01:54.1 |     -5.714 |      87484 |        519 |\n",
      "|         5 | 20:01:54.1 |     -4.286 |      99945 |        519 |\n",
      "|         6 | 20:01:54.1 |     -2.857 |     103399 |        519 |\n",
      "|         7 | 20:01:54.1 |     -1.429 |     103572 |        519 |\n",
      "|         8 | 20:01:54.1 |      0.000 |     103642 |        519 |\n",
      "|         9 | 20:01:54.1 |      1.429 |     103813 |        519 |\n",
      "|        10 | 20:01:54.1 |      2.857 |     103246 |        519 |\n",
      "|        11 | 20:01:54.1 |      4.286 |     100006 |        519 |\n",
      "|        12 | 20:01:54.1 |      5.714 |      87233 |        519 |\n"
     ]
    },
    {
     "name": "stdout",
     "output_type": "stream",
     "text": [
      "|        13 | 20:01:54.1 |      7.143 |      60148 |        519 |\n",
      "|        14 | 20:01:54.2 |      8.571 |      28390 |        521 |\n",
      "|        15 | 20:01:54.3 |     10.000 |       8366 |        523 |\n"
     ]
    },
    {
     "name": "stdout",
     "output_type": "stream",
     "text": [
      "+-----------+------------+------------+------------+------------+\n",
      "generator scan ['a826fa78'] (scan num: 26)\n",
      "\n",
      "\n",
      "\n"
     ]
    },
    {
     "data": {
      "text/plain": [
       "('a826fa78-d8c7-4cd2-b8e0-aaa76ac97901',)"
      ]
     },
     "execution_count": 4,
     "metadata": {},
     "output_type": "execute_result"
    }
   ],
   "source": [
    "RE(scan([slit, I], motor_slit, -10, 10, 15))"
   ]
  },
  {
   "cell_type": "code",
   "execution_count": 5,
   "metadata": {},
   "outputs": [
    {
     "data": {
      "image/png": "[encoded data removed]",
      "text/plain": [
       "<Figure size 640x800 with 2 Axes>"
      ]
     },
     "execution_count": 5,
     "metadata": {},
     "output_type": "execute_result"
    }
   ],
   "source": [
    "plt.gcf()  # Display a snapshot of the current state of the figure."
   ]
  },
  {
   "cell_type": "markdown",
   "metadata": {},
   "source": [
    "Previously we used the syntax ``db(...)`` to search for Headers. We looped through each Header and extracted some of the metadata encapsulated in it. We use the shorthand ``db[-N]`` to retrieve exactly _one_ header, the one corresponding to ``N`` runs ago. "
   ]
  },
  {
   "cell_type": "code",
   "execution_count": 6,
   "metadata": {},
   "outputs": [],
   "source": [
    "header = db[-1]  # Header for the most recent one (i.e. 1 run ago)"
   ]
  },
  {
   "cell_type": "markdown",
   "metadata": {},
   "source": [
    "We can access the data as a table. This object is called a ``pandas.DataFrame``, a high-performance, spreadsheet-like object in Python."
   ]
  },
  {
   "cell_type": "code",
   "execution_count": 7,
   "metadata": {},
   "outputs": [],
   "source": [
    "data = header.table()"
   ]
  },
  {
   "cell_type": "markdown",
   "metadata": {},
   "source": [
    "It display prettily, truncating if needed."
   ]
  },
  {
   "cell_type": "code",
   "execution_count": 8,
   "metadata": {},
   "outputs": [
    {
     "data": {
      "text/html": [
       "<div>\n",
       "<style scoped>\n",
       "    .dataframe tbody tr th:only-of-type {\n",
       "        vertical-align: middle;\n",
       "    }\n",
       "\n",
       "    .dataframe tbody tr th {\n",
       "        vertical-align: top;\n",
       "    }\n",
       "\n",
       "    .dataframe thead th {\n",
       "        text-align: right;\n",
       "    }\n",
       "</style>\n",
       "<table border=\"1\" class=\"dataframe\">\n",
       "  <thead>\n",
       "    <tr style=\"text-align: right;\">\n",
       "      <th></th>\n",
       "      <th>time</th>\n",
       "      <th>slit_det</th>\n",
       "      <th>motor_slit</th>\n",
       "      <th>I</th>\n",
       "    </tr>\n",
       "    <tr>\n",
       "      <th>seq_num</th>\n",
       "      <th></th>\n",
       "      <th></th>\n",
       "      <th></th>\n",
       "      <th></th>\n",
       "    </tr>\n",
       "  </thead>\n",
       "  <tbody>\n",
       "    <tr>\n",
       "      <th>1</th>\n",
       "      <td>2020-05-23 20:01:53.980575800</td>\n",
       "      <td>7958.0</td>\n",
       "      <td>-10.000000</td>\n",
       "      <td>505.475346</td>\n",
       "    </tr>\n",
       "    <tr>\n",
       "      <th>2</th>\n",
       "      <td>2020-05-23 20:01:54.035691261</td>\n",
       "      <td>28290.0</td>\n",
       "      <td>-8.571429</td>\n",
       "      <td>515.993340</td>\n",
       "    </tr>\n",
       "    <tr>\n",
       "      <th>3</th>\n",
       "      <td>2020-05-23 20:01:54.090580225</td>\n",
       "      <td>60121.0</td>\n",
       "      <td>-7.142857</td>\n",
       "      <td>518.816031</td>\n",
       "    </tr>\n",
       "    <tr>\n",
       "      <th>4</th>\n",
       "      <td>2020-05-23 20:01:54.101391077</td>\n",
       "      <td>87484.0</td>\n",
       "      <td>-5.714286</td>\n",
       "      <td>518.816031</td>\n",
       "    </tr>\n",
       "    <tr>\n",
       "      <th>5</th>\n",
       "      <td>2020-05-23 20:01:54.110851049</td>\n",
       "      <td>99945.0</td>\n",
       "      <td>-4.285714</td>\n",
       "      <td>518.816031</td>\n",
       "    </tr>\n",
       "    <tr>\n",
       "      <th>6</th>\n",
       "      <td>2020-05-23 20:01:54.120143890</td>\n",
       "      <td>103399.0</td>\n",
       "      <td>-2.857143</td>\n",
       "      <td>518.816031</td>\n",
       "    </tr>\n",
       "    <tr>\n",
       "      <th>7</th>\n",
       "      <td>2020-05-23 20:01:54.129058361</td>\n",
       "      <td>103572.0</td>\n",
       "      <td>-1.428571</td>\n",
       "      <td>518.816031</td>\n",
       "    </tr>\n",
       "    <tr>\n",
       "      <th>8</th>\n",
       "      <td>2020-05-23 20:01:54.138399601</td>\n",
       "      <td>103642.0</td>\n",
       "      <td>0.000000</td>\n",
       "      <td>518.816031</td>\n",
       "    </tr>\n",
       "    <tr>\n",
       "      <th>9</th>\n",
       "      <td>2020-05-23 20:01:54.147660255</td>\n",
       "      <td>103813.0</td>\n",
       "      <td>1.428571</td>\n",
       "      <td>518.816031</td>\n",
       "    </tr>\n",
       "    <tr>\n",
       "      <th>10</th>\n",
       "      <td>2020-05-23 20:01:54.157083273</td>\n",
       "      <td>103246.0</td>\n",
       "      <td>2.857143</td>\n",
       "      <td>518.816031</td>\n",
       "    </tr>\n",
       "    <tr>\n",
       "      <th>11</th>\n",
       "      <td>2020-05-23 20:01:54.165966034</td>\n",
       "      <td>100006.0</td>\n",
       "      <td>4.285714</td>\n",
       "      <td>518.816031</td>\n",
       "    </tr>\n",
       "    <tr>\n",
       "      <th>12</th>\n",
       "      <td>2020-05-23 20:01:54.174996376</td>\n",
       "      <td>87233.0</td>\n",
       "      <td>5.714286</td>\n",
       "      <td>518.816031</td>\n",
       "    </tr>\n",
       "    <tr>\n",
       "      <th>13</th>\n",
       "      <td>2020-05-23 20:01:54.184556484</td>\n",
       "      <td>60148.0</td>\n",
       "      <td>7.142857</td>\n",
       "      <td>518.816031</td>\n",
       "    </tr>\n",
       "    <tr>\n",
       "      <th>14</th>\n",
       "      <td>2020-05-23 20:01:54.232709885</td>\n",
       "      <td>28390.0</td>\n",
       "      <td>8.571429</td>\n",
       "      <td>521.175186</td>\n",
       "    </tr>\n",
       "    <tr>\n",
       "      <th>15</th>\n",
       "      <td>2020-05-23 20:01:54.310909986</td>\n",
       "      <td>8366.0</td>\n",
       "      <td>10.000000</td>\n",
       "      <td>523.022415</td>\n",
       "    </tr>\n",
       "  </tbody>\n",
       "</table>\n",
       "</div>"
      ],
      "text/plain": [
       "                                 time  slit_det  motor_slit           I\n",
       "seq_num                                                                \n",
       "1       2020-05-23 20:01:53.980575800    7958.0  -10.000000  505.475346\n",
       "2       2020-05-23 20:01:54.035691261   28290.0   -8.571429  515.993340\n",
       "3       2020-05-23 20:01:54.090580225   60121.0   -7.142857  518.816031\n",
       "4       2020-05-23 20:01:54.101391077   87484.0   -5.714286  518.816031\n",
       "5       2020-05-23 20:01:54.110851049   99945.0   -4.285714  518.816031\n",
       "6       2020-05-23 20:01:54.120143890  103399.0   -2.857143  518.816031\n",
       "7       2020-05-23 20:01:54.129058361  103572.0   -1.428571  518.816031\n",
       "8       2020-05-23 20:01:54.138399601  103642.0    0.000000  518.816031\n",
       "9       2020-05-23 20:01:54.147660255  103813.0    1.428571  518.816031\n",
       "10      2020-05-23 20:01:54.157083273  103246.0    2.857143  518.816031\n",
       "11      2020-05-23 20:01:54.165966034  100006.0    4.285714  518.816031\n",
       "12      2020-05-23 20:01:54.174996376   87233.0    5.714286  518.816031\n",
       "13      2020-05-23 20:01:54.184556484   60148.0    7.142857  518.816031\n",
       "14      2020-05-23 20:01:54.232709885   28390.0    8.571429  521.175186\n",
       "15      2020-05-23 20:01:54.310909986    8366.0   10.000000  523.022415"
      ]
     },
     "execution_count": 8,
     "metadata": {},
     "output_type": "execute_result"
    }
   ],
   "source": [
    "data"
   ]
  },
  {
   "cell_type": "markdown",
   "metadata": {},
   "source": [
    "For large tables, it's handy to know how to ask for just the first or last couple rows."
   ]
  },
  {
   "cell_type": "markdown",
   "metadata": {},
   "source": [
    "It is easy to visualize."
   ]
  },
  {
   "cell_type": "code",
   "execution_count": 9,
   "metadata": {},
   "outputs": [
    {
     "data": {
      "application/vnd.jupyter.widget-view+json": {
       "model_id": "8c54232dd6654906beed549d37a29dea",
       "version_major": 2,
       "version_minor": 0
      },
      "text/plain": [
       "Canvas(toolbar=Toolbar(toolitems=[('Home', 'Reset original view', 'home', 'home'), ('Back', 'Back to previous …"
      ]
     },
     "metadata": {},
     "output_type": "display_data"
    },
    {
     "data": {
      "text/plain": [
       "<matplotlib.axes._subplots.AxesSubplot at 0x7fdc0501d9b0>"
      ]
     },
     "execution_count": 9,
     "metadata": {},
     "output_type": "execute_result"
    }
   ],
   "source": [
    "data.plot(x='motor_slit', y='slit_det')"
   ]
  },
  {
   "cell_type": "code",
   "execution_count": 10,
   "metadata": {},
   "outputs": [
    {
     "data": {
      "image/png": "[encoded data removed]",
      "text/plain": [
       "<Figure size 640x480 with 1 Axes>"
      ]
     },
     "execution_count": 10,
     "metadata": {},
     "output_type": "execute_result"
    }
   ],
   "source": [
    "plt.gcf()  # Display a snapshot of the current state of the figure."
   ]
  },
  {
   "cell_type": "code",
   "execution_count": 11,
   "metadata": {},
   "outputs": [
    {
     "data": {
      "text/html": [
       "<div>\n",
       "<style scoped>\n",
       "    .dataframe tbody tr th:only-of-type {\n",
       "        vertical-align: middle;\n",
       "    }\n",
       "\n",
       "    .dataframe tbody tr th {\n",
       "        vertical-align: top;\n",
       "    }\n",
       "\n",
       "    .dataframe thead th {\n",
       "        text-align: right;\n",
       "    }\n",
       "</style>\n",
       "<table border=\"1\" class=\"dataframe\">\n",
       "  <thead>\n",
       "    <tr style=\"text-align: right;\">\n",
       "      <th></th>\n",
       "      <th>time</th>\n",
       "      <th>slit_det</th>\n",
       "      <th>motor_slit</th>\n",
       "      <th>I</th>\n",
       "    </tr>\n",
       "    <tr>\n",
       "      <th>seq_num</th>\n",
       "      <th></th>\n",
       "      <th></th>\n",
       "      <th></th>\n",
       "      <th></th>\n",
       "    </tr>\n",
       "  </thead>\n",
       "  <tbody>\n",
       "    <tr>\n",
       "      <th>1</th>\n",
       "      <td>2020-05-23 20:01:53.980575800</td>\n",
       "      <td>7958.0</td>\n",
       "      <td>-10.000000</td>\n",
       "      <td>505.475346</td>\n",
       "    </tr>\n",
       "    <tr>\n",
       "      <th>2</th>\n",
       "      <td>2020-05-23 20:01:54.035691261</td>\n",
       "      <td>28290.0</td>\n",
       "      <td>-8.571429</td>\n",
       "      <td>515.993340</td>\n",
       "    </tr>\n",
       "    <tr>\n",
       "      <th>3</th>\n",
       "      <td>2020-05-23 20:01:54.090580225</td>\n",
       "      <td>60121.0</td>\n",
       "      <td>-7.142857</td>\n",
       "      <td>518.816031</td>\n",
       "    </tr>\n",
       "    <tr>\n",
       "      <th>4</th>\n",
       "      <td>2020-05-23 20:01:54.101391077</td>\n",
       "      <td>87484.0</td>\n",
       "      <td>-5.714286</td>\n",
       "      <td>518.816031</td>\n",
       "    </tr>\n",
       "    <tr>\n",
       "      <th>5</th>\n",
       "      <td>2020-05-23 20:01:54.110851049</td>\n",
       "      <td>99945.0</td>\n",
       "      <td>-4.285714</td>\n",
       "      <td>518.816031</td>\n",
       "    </tr>\n",
       "  </tbody>\n",
       "</table>\n",
       "</div>"
      ],
      "text/plain": [
       "                                 time  slit_det  motor_slit           I\n",
       "seq_num                                                                \n",
       "1       2020-05-23 20:01:53.980575800    7958.0  -10.000000  505.475346\n",
       "2       2020-05-23 20:01:54.035691261   28290.0   -8.571429  515.993340\n",
       "3       2020-05-23 20:01:54.090580225   60121.0   -7.142857  518.816031\n",
       "4       2020-05-23 20:01:54.101391077   87484.0   -5.714286  518.816031\n",
       "5       2020-05-23 20:01:54.110851049   99945.0   -4.285714  518.816031"
      ]
     },
     "execution_count": 11,
     "metadata": {},
     "output_type": "execute_result"
    }
   ],
   "source": [
    "data.head()"
   ]
  },
  {
   "cell_type": "code",
   "execution_count": 12,
   "metadata": {},
   "outputs": [
    {
     "data": {
      "text/html": [
       "<div>\n",
       "<style scoped>\n",
       "    .dataframe tbody tr th:only-of-type {\n",
       "        vertical-align: middle;\n",
       "    }\n",
       "\n",
       "    .dataframe tbody tr th {\n",
       "        vertical-align: top;\n",
       "    }\n",
       "\n",
       "    .dataframe thead th {\n",
       "        text-align: right;\n",
       "    }\n",
       "</style>\n",
       "<table border=\"1\" class=\"dataframe\">\n",
       "  <thead>\n",
       "    <tr style=\"text-align: right;\">\n",
       "      <th></th>\n",
       "      <th>time</th>\n",
       "      <th>slit_det</th>\n",
       "      <th>motor_slit</th>\n",
       "      <th>I</th>\n",
       "    </tr>\n",
       "    <tr>\n",
       "      <th>seq_num</th>\n",
       "      <th></th>\n",
       "      <th></th>\n",
       "      <th></th>\n",
       "      <th></th>\n",
       "    </tr>\n",
       "  </thead>\n",
       "  <tbody>\n",
       "    <tr>\n",
       "      <th>11</th>\n",
       "      <td>2020-05-23 20:01:54.165966034</td>\n",
       "      <td>100006.0</td>\n",
       "      <td>4.285714</td>\n",
       "      <td>518.816031</td>\n",
       "    </tr>\n",
       "    <tr>\n",
       "      <th>12</th>\n",
       "      <td>2020-05-23 20:01:54.174996376</td>\n",
       "      <td>87233.0</td>\n",
       "      <td>5.714286</td>\n",
       "      <td>518.816031</td>\n",
       "    </tr>\n",
       "    <tr>\n",
       "      <th>13</th>\n",
       "      <td>2020-05-23 20:01:54.184556484</td>\n",
       "      <td>60148.0</td>\n",
       "      <td>7.142857</td>\n",
       "      <td>518.816031</td>\n",
       "    </tr>\n",
       "    <tr>\n",
       "      <th>14</th>\n",
       "      <td>2020-05-23 20:01:54.232709885</td>\n",
       "      <td>28390.0</td>\n",
       "      <td>8.571429</td>\n",
       "      <td>521.175186</td>\n",
       "    </tr>\n",
       "    <tr>\n",
       "      <th>15</th>\n",
       "      <td>2020-05-23 20:01:54.310909986</td>\n",
       "      <td>8366.0</td>\n",
       "      <td>10.000000</td>\n",
       "      <td>523.022415</td>\n",
       "    </tr>\n",
       "  </tbody>\n",
       "</table>\n",
       "</div>"
      ],
      "text/plain": [
       "                                 time  slit_det  motor_slit           I\n",
       "seq_num                                                                \n",
       "11      2020-05-23 20:01:54.165966034  100006.0    4.285714  518.816031\n",
       "12      2020-05-23 20:01:54.174996376   87233.0    5.714286  518.816031\n",
       "13      2020-05-23 20:01:54.184556484   60148.0    7.142857  518.816031\n",
       "14      2020-05-23 20:01:54.232709885   28390.0    8.571429  521.175186\n",
       "15      2020-05-23 20:01:54.310909986    8366.0   10.000000  523.022415"
      ]
     },
     "execution_count": 12,
     "metadata": {},
     "output_type": "execute_result"
    }
   ],
   "source": [
    "data.tail()"
   ]
  },
  {
   "cell_type": "markdown",
   "metadata": {},
   "source": [
    "Statistics on columns are simple to compute."
   ]
  },
  {
   "cell_type": "code",
   "execution_count": 13,
   "metadata": {},
   "outputs": [
    {
     "data": {
      "text/plain": [
       "slit_det      7.237420e+04\n",
       "motor_slit    4.736952e-16\n",
       "I             5.181762e+02\n",
       "dtype: float64"
      ]
     },
     "execution_count": 13,
     "metadata": {},
     "output_type": "execute_result"
    }
   ],
   "source": [
    "data.mean()"
   ]
  },
  {
   "cell_type": "code",
   "execution_count": 14,
   "metadata": {},
   "outputs": [
    {
     "data": {
      "text/plain": [
       "time          2020-05-23 20:01:53.980575800\n",
       "slit_det                               7958\n",
       "motor_slit                              -10\n",
       "I                                   505.475\n",
       "dtype: object"
      ]
     },
     "execution_count": 14,
     "metadata": {},
     "output_type": "execute_result"
    }
   ],
   "source": [
    "data.min()"
   ]
  },
  {
   "cell_type": "markdown",
   "metadata": {},
   "source": [
    "Or just ask for all the common stats at once:"
   ]
  },
  {
   "cell_type": "code",
   "execution_count": 15,
   "metadata": {},
   "outputs": [
    {
     "data": {
      "text/html": [
       "<div>\n",
       "<style scoped>\n",
       "    .dataframe tbody tr th:only-of-type {\n",
       "        vertical-align: middle;\n",
       "    }\n",
       "\n",
       "    .dataframe tbody tr th {\n",
       "        vertical-align: top;\n",
       "    }\n",
       "\n",
       "    .dataframe thead th {\n",
       "        text-align: right;\n",
       "    }\n",
       "</style>\n",
       "<table border=\"1\" class=\"dataframe\">\n",
       "  <thead>\n",
       "    <tr style=\"text-align: right;\">\n",
       "      <th></th>\n",
       "      <th>slit_det</th>\n",
       "      <th>motor_slit</th>\n",
       "      <th>I</th>\n",
       "    </tr>\n",
       "  </thead>\n",
       "  <tbody>\n",
       "    <tr>\n",
       "      <th>count</th>\n",
       "      <td>15.000000</td>\n",
       "      <td>1.500000e+01</td>\n",
       "      <td>15.000000</td>\n",
       "    </tr>\n",
       "    <tr>\n",
       "      <th>mean</th>\n",
       "      <td>72374.200000</td>\n",
       "      <td>4.736952e-16</td>\n",
       "      <td>518.176175</td>\n",
       "    </tr>\n",
       "    <tr>\n",
       "      <th>std</th>\n",
       "      <td>37082.804756</td>\n",
       "      <td>6.388766e+00</td>\n",
       "      <td>3.808444</td>\n",
       "    </tr>\n",
       "    <tr>\n",
       "      <th>min</th>\n",
       "      <td>7958.000000</td>\n",
       "      <td>-1.000000e+01</td>\n",
       "      <td>505.475346</td>\n",
       "    </tr>\n",
       "    <tr>\n",
       "      <th>25%</th>\n",
       "      <td>44255.500000</td>\n",
       "      <td>-5.000000e+00</td>\n",
       "      <td>518.816031</td>\n",
       "    </tr>\n",
       "    <tr>\n",
       "      <th>50%</th>\n",
       "      <td>87484.000000</td>\n",
       "      <td>0.000000e+00</td>\n",
       "      <td>518.816031</td>\n",
       "    </tr>\n",
       "    <tr>\n",
       "      <th>75%</th>\n",
       "      <td>103322.500000</td>\n",
       "      <td>5.000000e+00</td>\n",
       "      <td>518.816031</td>\n",
       "    </tr>\n",
       "    <tr>\n",
       "      <th>max</th>\n",
       "      <td>103813.000000</td>\n",
       "      <td>1.000000e+01</td>\n",
       "      <td>523.022415</td>\n",
       "    </tr>\n",
       "  </tbody>\n",
       "</table>\n",
       "</div>"
      ],
      "text/plain": [
       "            slit_det    motor_slit           I\n",
       "count      15.000000  1.500000e+01   15.000000\n",
       "mean    72374.200000  4.736952e-16  518.176175\n",
       "std     37082.804756  6.388766e+00    3.808444\n",
       "min      7958.000000 -1.000000e+01  505.475346\n",
       "25%     44255.500000 -5.000000e+00  518.816031\n",
       "50%     87484.000000  0.000000e+00  518.816031\n",
       "75%    103322.500000  5.000000e+00  518.816031\n",
       "max    103813.000000  1.000000e+01  523.022415"
      ]
     },
     "execution_count": 15,
     "metadata": {},
     "output_type": "execute_result"
    }
   ],
   "source": [
    "data.describe()"
   ]
  },
  {
   "cell_type": "markdown",
   "metadata": {},
   "source": [
    "## Do analysis, and plot\n",
    "\n",
    "### Normalize by beam current"
   ]
  },
  {
   "cell_type": "markdown",
   "metadata": {},
   "source": [
    "We can do math on the columns, and we can add new columns."
   ]
  },
  {
   "cell_type": "code",
   "execution_count": 16,
   "metadata": {},
   "outputs": [],
   "source": [
    "data['normalized'] = data['slit_det'] / data['I'] * data['I'].mean()"
   ]
  },
  {
   "cell_type": "markdown",
   "metadata": {},
   "source": [
    "We can plot them conveniently, addressing the columns by name."
   ]
  },
  {
   "cell_type": "code",
   "execution_count": 17,
   "metadata": {},
   "outputs": [
    {
     "data": {
      "application/vnd.jupyter.widget-view+json": {
       "model_id": "9786341de599458b9410228ab0f37e6e",
       "version_major": 2,
       "version_minor": 0
      },
      "text/plain": [
       "Canvas(toolbar=Toolbar(toolitems=[('Home', 'Reset original view', 'home', 'home'), ('Back', 'Back to previous …"
      ]
     },
     "metadata": {},
     "output_type": "display_data"
    },
    {
     "data": {
      "text/plain": [
       "<Figure size 640x480 with 0 Axes>"
      ]
     },
     "execution_count": 17,
     "metadata": {},
     "output_type": "execute_result"
    }
   ],
   "source": [
    "plt.figure()"
   ]
  },
  {
   "cell_type": "code",
   "execution_count": 18,
   "metadata": {},
   "outputs": [
    {
     "data": {
      "image/png": "[encoded data removed]",
      "text/plain": [
       "<Figure size 640x480 with 1 Axes>"
      ]
     },
     "execution_count": 18,
     "metadata": {},
     "output_type": "execute_result"
    }
   ],
   "source": [
    "plt.plot('motor_slit', 'slit_det', data=data, label='raw')\n",
    "plt.plot('motor_slit', 'normalized', data=data, label='normalized')\n",
    "plt.legend()\n",
    "plt.gcf()"
   ]
  },
  {
   "cell_type": "markdown",
   "metadata": {},
   "source": [
    "### Select only rows with high beam current"
   ]
  },
  {
   "cell_type": "markdown",
   "metadata": {},
   "source": [
    "Select rows where the current is above `500`."
   ]
  },
  {
   "cell_type": "code",
   "execution_count": 19,
   "metadata": {},
   "outputs": [
    {
     "data": {
      "text/html": [
       "<div>\n",
       "<style scoped>\n",
       "    .dataframe tbody tr th:only-of-type {\n",
       "        vertical-align: middle;\n",
       "    }\n",
       "\n",
       "    .dataframe tbody tr th {\n",
       "        vertical-align: top;\n",
       "    }\n",
       "\n",
       "    .dataframe thead th {\n",
       "        text-align: right;\n",
       "    }\n",
       "</style>\n",
       "<table border=\"1\" class=\"dataframe\">\n",
       "  <thead>\n",
       "    <tr style=\"text-align: right;\">\n",
       "      <th></th>\n",
       "      <th>time</th>\n",
       "      <th>slit_det</th>\n",
       "      <th>motor_slit</th>\n",
       "      <th>I</th>\n",
       "      <th>normalized</th>\n",
       "    </tr>\n",
       "    <tr>\n",
       "      <th>seq_num</th>\n",
       "      <th></th>\n",
       "      <th></th>\n",
       "      <th></th>\n",
       "      <th></th>\n",
       "      <th></th>\n",
       "    </tr>\n",
       "  </thead>\n",
       "  <tbody>\n",
       "    <tr>\n",
       "      <th>1</th>\n",
       "      <td>2020-05-23 20:01:53.980575800</td>\n",
       "      <td>7958.0</td>\n",
       "      <td>-10.000000</td>\n",
       "      <td>505.475346</td>\n",
       "      <td>8157.956724</td>\n",
       "    </tr>\n",
       "    <tr>\n",
       "      <th>2</th>\n",
       "      <td>2020-05-23 20:01:54.035691261</td>\n",
       "      <td>28290.0</td>\n",
       "      <td>-8.571429</td>\n",
       "      <td>515.993340</td>\n",
       "      <td>28409.676748</td>\n",
       "    </tr>\n",
       "    <tr>\n",
       "      <th>3</th>\n",
       "      <td>2020-05-23 20:01:54.090580225</td>\n",
       "      <td>60121.0</td>\n",
       "      <td>-7.142857</td>\n",
       "      <td>518.816031</td>\n",
       "      <td>60046.852772</td>\n",
       "    </tr>\n",
       "    <tr>\n",
       "      <th>4</th>\n",
       "      <td>2020-05-23 20:01:54.101391077</td>\n",
       "      <td>87484.0</td>\n",
       "      <td>-5.714286</td>\n",
       "      <td>518.816031</td>\n",
       "      <td>87376.105985</td>\n",
       "    </tr>\n",
       "    <tr>\n",
       "      <th>5</th>\n",
       "      <td>2020-05-23 20:01:54.110851049</td>\n",
       "      <td>99945.0</td>\n",
       "      <td>-4.285714</td>\n",
       "      <td>518.816031</td>\n",
       "      <td>99821.737834</td>\n",
       "    </tr>\n",
       "    <tr>\n",
       "      <th>6</th>\n",
       "      <td>2020-05-23 20:01:54.120143890</td>\n",
       "      <td>103399.0</td>\n",
       "      <td>-2.857143</td>\n",
       "      <td>518.816031</td>\n",
       "      <td>103271.478016</td>\n",
       "    </tr>\n",
       "    <tr>\n",
       "      <th>7</th>\n",
       "      <td>2020-05-23 20:01:54.129058361</td>\n",
       "      <td>103572.0</td>\n",
       "      <td>-1.428571</td>\n",
       "      <td>518.816031</td>\n",
       "      <td>103444.264655</td>\n",
       "    </tr>\n",
       "    <tr>\n",
       "      <th>8</th>\n",
       "      <td>2020-05-23 20:01:54.138399601</td>\n",
       "      <td>103642.0</td>\n",
       "      <td>0.000000</td>\n",
       "      <td>518.816031</td>\n",
       "      <td>103514.178324</td>\n",
       "    </tr>\n",
       "    <tr>\n",
       "      <th>9</th>\n",
       "      <td>2020-05-23 20:01:54.147660255</td>\n",
       "      <td>103813.0</td>\n",
       "      <td>1.428571</td>\n",
       "      <td>518.816031</td>\n",
       "      <td>103684.967430</td>\n",
       "    </tr>\n",
       "    <tr>\n",
       "      <th>10</th>\n",
       "      <td>2020-05-23 20:01:54.157083273</td>\n",
       "      <td>103246.0</td>\n",
       "      <td>2.857143</td>\n",
       "      <td>518.816031</td>\n",
       "      <td>103118.666711</td>\n",
       "    </tr>\n",
       "    <tr>\n",
       "      <th>11</th>\n",
       "      <td>2020-05-23 20:01:54.165966034</td>\n",
       "      <td>100006.0</td>\n",
       "      <td>4.285714</td>\n",
       "      <td>518.816031</td>\n",
       "      <td>99882.662603</td>\n",
       "    </tr>\n",
       "    <tr>\n",
       "      <th>12</th>\n",
       "      <td>2020-05-23 20:01:54.174996376</td>\n",
       "      <td>87233.0</td>\n",
       "      <td>5.714286</td>\n",
       "      <td>518.816031</td>\n",
       "      <td>87125.415543</td>\n",
       "    </tr>\n",
       "    <tr>\n",
       "      <th>13</th>\n",
       "      <td>2020-05-23 20:01:54.184556484</td>\n",
       "      <td>60148.0</td>\n",
       "      <td>7.142857</td>\n",
       "      <td>518.816031</td>\n",
       "      <td>60073.819473</td>\n",
       "    </tr>\n",
       "    <tr>\n",
       "      <th>14</th>\n",
       "      <td>2020-05-23 20:01:54.232709885</td>\n",
       "      <td>28390.0</td>\n",
       "      <td>8.571429</td>\n",
       "      <td>521.175186</td>\n",
       "      <td>28226.634760</td>\n",
       "    </tr>\n",
       "    <tr>\n",
       "      <th>15</th>\n",
       "      <td>2020-05-23 20:01:54.310909986</td>\n",
       "      <td>8366.0</td>\n",
       "      <td>10.000000</td>\n",
       "      <td>523.022415</td>\n",
       "      <td>8288.482024</td>\n",
       "    </tr>\n",
       "  </tbody>\n",
       "</table>\n",
       "</div>"
      ],
      "text/plain": [
       "                                 time  slit_det  motor_slit           I  \\\n",
       "seq_num                                                                   \n",
       "1       2020-05-23 20:01:53.980575800    7958.0  -10.000000  505.475346   \n",
       "2       2020-05-23 20:01:54.035691261   28290.0   -8.571429  515.993340   \n",
       "3       2020-05-23 20:01:54.090580225   60121.0   -7.142857  518.816031   \n",
       "4       2020-05-23 20:01:54.101391077   87484.0   -5.714286  518.816031   \n",
       "5       2020-05-23 20:01:54.110851049   99945.0   -4.285714  518.816031   \n",
       "6       2020-05-23 20:01:54.120143890  103399.0   -2.857143  518.816031   \n",
       "7       2020-05-23 20:01:54.129058361  103572.0   -1.428571  518.816031   \n",
       "8       2020-05-23 20:01:54.138399601  103642.0    0.000000  518.816031   \n",
       "9       2020-05-23 20:01:54.147660255  103813.0    1.428571  518.816031   \n",
       "10      2020-05-23 20:01:54.157083273  103246.0    2.857143  518.816031   \n",
       "11      2020-05-23 20:01:54.165966034  100006.0    4.285714  518.816031   \n",
       "12      2020-05-23 20:01:54.174996376   87233.0    5.714286  518.816031   \n",
       "13      2020-05-23 20:01:54.184556484   60148.0    7.142857  518.816031   \n",
       "14      2020-05-23 20:01:54.232709885   28390.0    8.571429  521.175186   \n",
       "15      2020-05-23 20:01:54.310909986    8366.0   10.000000  523.022415   \n",
       "\n",
       "            normalized  \n",
       "seq_num                 \n",
       "1          8157.956724  \n",
       "2         28409.676748  \n",
       "3         60046.852772  \n",
       "4         87376.105985  \n",
       "5         99821.737834  \n",
       "6        103271.478016  \n",
       "7        103444.264655  \n",
       "8        103514.178324  \n",
       "9        103684.967430  \n",
       "10       103118.666711  \n",
       "11        99882.662603  \n",
       "12        87125.415543  \n",
       "13        60073.819473  \n",
       "14        28226.634760  \n",
       "15         8288.482024  "
      ]
     },
     "execution_count": 19,
     "metadata": {},
     "output_type": "execute_result"
    }
   ],
   "source": [
    "data[data['I'] > 500]"
   ]
  },
  {
   "cell_type": "markdown",
   "metadata": {},
   "source": [
    "...or, where the the current is above the 30th percentile."
   ]
  },
  {
   "cell_type": "code",
   "execution_count": 20,
   "metadata": {},
   "outputs": [
    {
     "data": {
      "text/html": [
       "<div>\n",
       "<style scoped>\n",
       "    .dataframe tbody tr th:only-of-type {\n",
       "        vertical-align: middle;\n",
       "    }\n",
       "\n",
       "    .dataframe tbody tr th {\n",
       "        vertical-align: top;\n",
       "    }\n",
       "\n",
       "    .dataframe thead th {\n",
       "        text-align: right;\n",
       "    }\n",
       "</style>\n",
       "<table border=\"1\" class=\"dataframe\">\n",
       "  <thead>\n",
       "    <tr style=\"text-align: right;\">\n",
       "      <th></th>\n",
       "      <th>time</th>\n",
       "      <th>slit_det</th>\n",
       "      <th>motor_slit</th>\n",
       "      <th>I</th>\n",
       "      <th>normalized</th>\n",
       "    </tr>\n",
       "    <tr>\n",
       "      <th>seq_num</th>\n",
       "      <th></th>\n",
       "      <th></th>\n",
       "      <th></th>\n",
       "      <th></th>\n",
       "      <th></th>\n",
       "    </tr>\n",
       "  </thead>\n",
       "  <tbody>\n",
       "    <tr>\n",
       "      <th>14</th>\n",
       "      <td>2020-05-23 20:01:54.232709885</td>\n",
       "      <td>28390.0</td>\n",
       "      <td>8.571429</td>\n",
       "      <td>521.175186</td>\n",
       "      <td>28226.634760</td>\n",
       "    </tr>\n",
       "    <tr>\n",
       "      <th>15</th>\n",
       "      <td>2020-05-23 20:01:54.310909986</td>\n",
       "      <td>8366.0</td>\n",
       "      <td>10.000000</td>\n",
       "      <td>523.022415</td>\n",
       "      <td>8288.482024</td>\n",
       "    </tr>\n",
       "  </tbody>\n",
       "</table>\n",
       "</div>"
      ],
      "text/plain": [
       "                                 time  slit_det  motor_slit           I  \\\n",
       "seq_num                                                                   \n",
       "14      2020-05-23 20:01:54.232709885   28390.0    8.571429  521.175186   \n",
       "15      2020-05-23 20:01:54.310909986    8366.0   10.000000  523.022415   \n",
       "\n",
       "           normalized  \n",
       "seq_num                \n",
       "14       28226.634760  \n",
       "15        8288.482024  "
      ]
     },
     "execution_count": 20,
     "metadata": {},
     "output_type": "execute_result"
    }
   ],
   "source": [
    "data[data['I'] > data['I'].quantile(0.30)]"
   ]
  },
  {
   "cell_type": "markdown",
   "metadata": {},
   "source": [
    "...and plot just those rows, using a marker so it is easy to see which points have been disqualified due to low current."
   ]
  },
  {
   "cell_type": "code",
   "execution_count": 21,
   "metadata": {},
   "outputs": [
    {
     "data": {
      "application/vnd.jupyter.widget-view+json": {
       "model_id": "5cbb9ba7f5a847d1b5e069a9e9fc0a9a",
       "version_major": 2,
       "version_minor": 0
      },
      "text/plain": [
       "Canvas(toolbar=Toolbar(toolitems=[('Home', 'Reset original view', 'home', 'home'), ('Back', 'Back to previous …"
      ]
     },
     "metadata": {},
     "output_type": "display_data"
    },
    {
     "data": {
      "text/plain": [
       "<matplotlib.axes._subplots.AxesSubplot at 0x7fdc04ed70b8>"
      ]
     },
     "execution_count": 21,
     "metadata": {},
     "output_type": "execute_result"
    }
   ],
   "source": [
    "data[data['I'] > data['I'].quantile(0.30)].plot(x='motor_slit', y='slit_det', marker='o')"
   ]
  },
  {
   "cell_type": "markdown",
   "metadata": {},
   "source": [
    "### Histogram the current"
   ]
  },
  {
   "cell_type": "code",
   "execution_count": 22,
   "metadata": {},
   "outputs": [
    {
     "data": {
      "application/vnd.jupyter.widget-view+json": {
       "model_id": "e6741d59fb804b0c86b7430a69cdff61",
       "version_major": 2,
       "version_minor": 0
      },
      "text/plain": [
       "Canvas(toolbar=Toolbar(toolitems=[('Home', 'Reset original view', 'home', 'home'), ('Back', 'Back to previous …"
      ]
     },
     "metadata": {},
     "output_type": "display_data"
    },
    {
     "data": {
      "text/plain": [
       "<Figure size 640x480 with 0 Axes>"
      ]
     },
     "execution_count": 22,
     "metadata": {},
     "output_type": "execute_result"
    }
   ],
   "source": [
    "plt.figure()"
   ]
  },
  {
   "cell_type": "code",
   "execution_count": 23,
   "metadata": {},
   "outputs": [
    {
     "data": {
      "image/png": "[encoded data removed]",
      "text/plain": [
       "<Figure size 640x480 with 1 Axes>"
      ]
     },
     "execution_count": 23,
     "metadata": {},
     "output_type": "execute_result"
    }
   ],
   "source": [
    "plt.hist(data['I'], bins='auto')\n",
    "plt.xlabel('current')\n",
    "plt.ylabel('count')\n",
    "plt.gcf()"
   ]
  },
  {
   "cell_type": "markdown",
   "metadata": {},
   "source": [
    "Not enough data to be interesting. Try collecting a bunch of current data by itself and then try this again."
   ]
  },
  {
   "cell_type": "code",
   "execution_count": 24,
   "metadata": {},
   "outputs": [
    {
     "data": {
      "application/vnd.jupyter.widget-view+json": {
       "model_id": "ecae227342874d0480ccf8a35a37ed4f",
       "version_major": 2,
       "version_minor": 0
      },
      "text/plain": [
       "Canvas(toolbar=Toolbar(toolitems=[('Home', 'Reset original view', 'home', 'home'), ('Back', 'Back to previous …"
      ]
     },
     "metadata": {},
     "output_type": "display_data"
    },
    {
     "data": {
      "text/plain": [
       "<Figure size 640x480 with 0 Axes>"
      ]
     },
     "execution_count": 24,
     "metadata": {},
     "output_type": "execute_result"
    }
   ],
   "source": [
    "# Creating a figure explicitly in advance helps with the\n",
    "# top-to-bottom flow of this notebook, but it is not necessary.\n",
    "# If this is omitted, bluesky will cause a figure to appear\n",
    "# during the RE(...) execution below.\n",
    "plt.figure(\"I vs time\")"
   ]
  },
  {
   "cell_type": "code",
   "execution_count": 25,
   "metadata": {},
   "outputs": [
    {
     "name": "stdout",
     "output_type": "stream",
     "text": [
      "\n",
      "\n",
      "Transient Scan ID: 27     Time: 2020-05-23 20:01:56\n",
      "Persistent Unique Scan ID: '8a1b10ec-0bf1-46fc-a961-3fda0ce2c269'\n",
      "New stream: 'primary'\n",
      "+-----------+------------+------------+\n",
      "|   seq_num |       time |          I |\n",
      "+-----------+------------+------------+\n",
      "|         1 | 20:01:56.4 |        477 |\n",
      "|         2 | 20:01:56.4 |        476 |\n"
     ]
    },
    {
     "name": "stderr",
     "output_type": "stream",
     "text": [
      "/home/travis/virtualenv/python3.7.1/lib/python3.7/site-packages/bluesky/utils.py:1502: UserWarning: Tight layout not applied. The bottom and top margins cannot be made large enough to accommodate all axes decorations. \n",
      "  f_mgr.canvas.draw()\n"
     ]
    },
    {
     "name": "stdout",
     "output_type": "stream",
     "text": [
      "|         3 | 20:01:56.5 |        475 |\n",
      "|         4 | 20:01:56.7 |        475 |\n"
     ]
    },
    {
     "name": "stdout",
     "output_type": "stream",
     "text": [
      "|         5 | 20:01:56.7 |        476 |\n",
      "|         6 | 20:01:56.8 |        477 |\n"
     ]
    },
    {
     "name": "stdout",
     "output_type": "stream",
     "text": [
      "|         7 | 20:01:57.0 |        479 |\n",
      "|         8 | 20:01:57.0 |        481 |\n",
      "|         9 | 20:01:57.1 |        484 |\n"
     ]
    },
    {
     "name": "stdout",
     "output_type": "stream",
     "text": [
      "|        10 | 20:01:57.3 |        491 |\n",
      "|        11 | 20:01:57.3 |        491 |\n",
      "|        12 | 20:01:57.5 |        495 |\n"
     ]
    },
    {
     "name": "stdout",
     "output_type": "stream",
     "text": [
      "|        13 | 20:01:57.6 |        499 |\n",
      "|        14 | 20:01:57.7 |        502 |\n",
      "|        15 | 20:01:57.8 |        506 |\n"
     ]
    },
    {
     "name": "stdout",
     "output_type": "stream",
     "text": [
      "|        16 | 20:01:57.9 |        510 |\n",
      "|        17 | 20:01:58.0 |        514 |\n"
     ]
    },
    {
     "name": "stdout",
     "output_type": "stream",
     "text": [
      "|        18 | 20:01:58.1 |        517 |\n",
      "|        19 | 20:01:58.2 |        519 |\n",
      "|        20 | 20:01:58.3 |        522 |\n"
     ]
    },
    {
     "name": "stdout",
     "output_type": "stream",
     "text": [
      "|        21 | 20:01:58.4 |        523 |\n",
      "|        22 | 20:01:58.5 |        524 |\n",
      "|        23 | 20:01:58.6 |        525 |\n"
     ]
    },
    {
     "name": "stdout",
     "output_type": "stream",
     "text": [
      "|        24 | 20:01:58.7 |        524 |\n",
      "|        25 | 20:01:58.8 |        524 |\n",
      "|        26 | 20:01:58.9 |        523 |\n"
     ]
    },
    {
     "name": "stdout",
     "output_type": "stream",
     "text": [
      "|        27 | 20:01:59.0 |        518 |\n",
      "|        28 | 20:01:59.1 |        518 |\n",
      "|        29 | 20:01:59.2 |        516 |\n"
     ]
    },
    {
     "name": "stdout",
     "output_type": "stream",
     "text": [
      "|        30 | 20:01:59.3 |        509 |\n",
      "|        31 | 20:01:59.4 |        509 |\n",
      "|        32 | 20:01:59.5 |        501 |\n"
     ]
    },
    {
     "name": "stdout",
     "output_type": "stream",
     "text": [
      "|        33 | 20:01:59.6 |        497 |\n",
      "|        34 | 20:01:59.7 |        493 |\n",
      "|        35 | 20:01:59.8 |        490 |\n"
     ]
    },
    {
     "name": "stdout",
     "output_type": "stream",
     "text": [
      "|        36 | 20:01:59.9 |        486 |\n",
      "|        37 | 20:02:00.0 |        483 |\n",
      "|        38 | 20:02:00.1 |        480 |\n"
     ]
    },
    {
     "name": "stdout",
     "output_type": "stream",
     "text": [
      "|        39 | 20:02:00.2 |        478 |\n",
      "|        40 | 20:02:00.3 |        476 |\n",
      "|        41 | 20:02:00.4 |        475 |\n"
     ]
    },
    {
     "name": "stdout",
     "output_type": "stream",
     "text": [
      "|        42 | 20:02:00.5 |        475 |\n",
      "|        43 | 20:02:00.6 |        475 |\n",
      "|        44 | 20:02:00.7 |        476 |\n"
     ]
    },
    {
     "name": "stdout",
     "output_type": "stream",
     "text": [
      "|        45 | 20:02:00.8 |        477 |\n",
      "|        46 | 20:02:00.9 |        479 |\n",
      "|        47 | 20:02:01.0 |        482 |\n"
     ]
    },
    {
     "name": "stdout",
     "output_type": "stream",
     "text": [
      "|        48 | 20:02:01.1 |        485 |\n",
      "|        49 | 20:02:01.2 |        488 |\n",
      "+-----------+------------+------------+\n",
      "|   seq_num |       time |          I |\n",
      "+-----------+------------+------------+\n",
      "|        50 | 20:02:01.3 |        492 |\n"
     ]
    },
    {
     "name": "stdout",
     "output_type": "stream",
     "text": [
      "|        51 | 20:02:01.4 |        496 |\n",
      "|        52 | 20:02:01.5 |        500 |\n",
      "|        53 | 20:02:01.6 |        504 |\n"
     ]
    },
    {
     "name": "stdout",
     "output_type": "stream",
     "text": [
      "|        54 | 20:02:01.7 |        507 |\n",
      "|        55 | 20:02:01.8 |        511 |\n"
     ]
    },
    {
     "name": "stdout",
     "output_type": "stream",
     "text": [
      "|        56 | 20:02:01.9 |        515 |\n",
      "|        57 | 20:02:02.0 |        518 |\n"
     ]
    },
    {
     "name": "stdout",
     "output_type": "stream",
     "text": [
      "|        58 | 20:02:02.1 |        520 |\n",
      "|        59 | 20:02:02.2 |        522 |\n",
      "|        60 | 20:02:02.3 |        524 |\n"
     ]
    },
    {
     "name": "stdout",
     "output_type": "stream",
     "text": [
      "|        61 | 20:02:02.4 |        525 |\n",
      "|        62 | 20:02:02.5 |        525 |\n",
      "|        63 | 20:02:02.6 |        525 |\n"
     ]
    },
    {
     "name": "stdout",
     "output_type": "stream",
     "text": [
      "|        64 | 20:02:02.7 |        524 |\n",
      "|        65 | 20:02:02.8 |        522 |\n",
      "|        66 | 20:02:02.9 |        520 |\n"
     ]
    },
    {
     "name": "stdout",
     "output_type": "stream",
     "text": [
      "|        67 | 20:02:03.0 |        518 |\n",
      "|        68 | 20:02:03.1 |        515 |\n",
      "|        69 | 20:02:03.2 |        511 |\n"
     ]
    },
    {
     "name": "stdout",
     "output_type": "stream",
     "text": [
      "|        70 | 20:02:03.3 |        508 |\n",
      "|        71 | 20:02:03.4 |        504 |\n",
      "|        72 | 20:02:03.5 |        500 |\n"
     ]
    },
    {
     "name": "stdout",
     "output_type": "stream",
     "text": [
      "|        73 | 20:02:03.7 |        496 |\n",
      "|        74 | 20:02:03.7 |        492 |\n",
      "|        75 | 20:02:03.8 |        488 |\n"
     ]
    },
    {
     "name": "stdout",
     "output_type": "stream",
     "text": [
      "|        76 | 20:02:04.0 |        485 |\n",
      "|        77 | 20:02:04.0 |        482 |\n",
      "|        78 | 20:02:04.1 |        479 |\n"
     ]
    },
    {
     "name": "stdout",
     "output_type": "stream",
     "text": [
      "|        79 | 20:02:04.3 |        478 |\n",
      "|        80 | 20:02:04.3 |        476 |\n",
      "|        81 | 20:02:04.4 |        475 |\n"
     ]
    },
    {
     "name": "stdout",
     "output_type": "stream",
     "text": [
      "|        82 | 20:02:04.6 |        475 |\n",
      "|        83 | 20:02:04.7 |        475 |\n",
      "|        84 | 20:02:04.8 |        476 |\n"
     ]
    },
    {
     "name": "stdout",
     "output_type": "stream",
     "text": [
      "|        85 | 20:02:04.9 |        478 |\n",
      "|        86 | 20:02:05.0 |        480 |\n",
      "|        87 | 20:02:05.1 |        483 |\n"
     ]
    },
    {
     "name": "stdout",
     "output_type": "stream",
     "text": [
      "|        88 | 20:02:05.2 |        486 |\n",
      "|        89 | 20:02:05.3 |        489 |\n",
      "|        90 | 20:02:05.4 |        493 |\n"
     ]
    },
    {
     "name": "stdout",
     "output_type": "stream",
     "text": [
      "|        91 | 20:02:05.5 |        497 |\n",
      "|        92 | 20:02:05.6 |        501 |\n",
      "|        93 | 20:02:05.7 |        505 |\n"
     ]
    },
    {
     "name": "stdout",
     "output_type": "stream",
     "text": [
      "|        94 | 20:02:05.8 |        509 |\n",
      "|        95 | 20:02:05.9 |        512 |\n",
      "|        96 | 20:02:06.0 |        515 |\n"
     ]
    },
    {
     "name": "stdout",
     "output_type": "stream",
     "text": [
      "|        97 | 20:02:06.1 |        518 |\n",
      "|        98 | 20:02:06.2 |        521 |\n",
      "|        99 | 20:02:06.3 |        523 |\n"
     ]
    },
    {
     "name": "stdout",
     "output_type": "stream",
     "text": [
      "+-----------+------------+------------+\n",
      "|   seq_num |       time |          I |\n",
      "+-----------+------------+------------+\n",
      "|       100 | 20:02:06.4 |        524 |\n",
      "|       101 | 20:02:06.5 |        525 |\n",
      "|       102 | 20:02:06.6 |        525 |\n"
     ]
    },
    {
     "name": "stdout",
     "output_type": "stream",
     "text": [
      "|       103 | 20:02:06.7 |        524 |\n",
      "|       104 | 20:02:06.8 |        523 |\n",
      "|       105 | 20:02:06.9 |        522 |\n"
     ]
    },
    {
     "name": "stdout",
     "output_type": "stream",
     "text": [
      "|       106 | 20:02:07.0 |        519 |\n",
      "|       107 | 20:02:07.1 |        517 |\n",
      "|       108 | 20:02:07.2 |        514 |\n"
     ]
    },
    {
     "name": "stdout",
     "output_type": "stream",
     "text": [
      "|       109 | 20:02:07.3 |        510 |\n",
      "|       110 | 20:02:07.4 |        506 |\n",
      "|       111 | 20:02:07.5 |        503 |\n"
     ]
    },
    {
     "name": "stdout",
     "output_type": "stream",
     "text": [
      "|       112 | 20:02:07.6 |        499 |\n",
      "|       113 | 20:02:07.7 |        495 |\n",
      "|       114 | 20:02:07.8 |        491 |\n"
     ]
    },
    {
     "name": "stdout",
     "output_type": "stream",
     "text": [
      "|       115 | 20:02:07.9 |        487 |\n",
      "|       116 | 20:02:08.0 |        484 |\n",
      "|       117 | 20:02:08.1 |        481 |\n"
     ]
    },
    {
     "name": "stdout",
     "output_type": "stream",
     "text": [
      "|       118 | 20:02:08.2 |        479 |\n",
      "|       119 | 20:02:08.3 |        477 |\n",
      "|       120 | 20:02:08.4 |        476 |\n"
     ]
    },
    {
     "name": "stdout",
     "output_type": "stream",
     "text": [
      "|       121 | 20:02:08.5 |        475 |\n",
      "|       122 | 20:02:08.6 |        475 |\n",
      "|       123 | 20:02:08.7 |        476 |\n"
     ]
    },
    {
     "name": "stdout",
     "output_type": "stream",
     "text": [
      "|       124 | 20:02:08.8 |        477 |\n",
      "|       125 | 20:02:08.9 |        479 |\n",
      "|       126 | 20:02:09.0 |        481 |\n"
     ]
    },
    {
     "name": "stdout",
     "output_type": "stream",
     "text": [
      "|       127 | 20:02:09.1 |        484 |\n",
      "|       128 | 20:02:09.2 |        487 |\n"
     ]
    },
    {
     "name": "stdout",
     "output_type": "stream",
     "text": [
      "|       129 | 20:02:09.3 |        490 |\n",
      "|       130 | 20:02:09.4 |        494 |\n",
      "|       131 | 20:02:09.5 |        498 |\n"
     ]
    },
    {
     "name": "stdout",
     "output_type": "stream",
     "text": [
      "|       132 | 20:02:09.6 |        502 |\n",
      "|       133 | 20:02:09.8 |        510 |\n"
     ]
    },
    {
     "name": "stdout",
     "output_type": "stream",
     "text": [
      "|       134 | 20:02:09.8 |        510 |\n",
      "|       135 | 20:02:10.0 |        516 |\n"
     ]
    },
    {
     "name": "stdout",
     "output_type": "stream",
     "text": [
      "|       136 | 20:02:10.1 |        519 |\n",
      "|       137 | 20:02:10.2 |        521 |\n",
      "|       138 | 20:02:10.3 |        523 |\n"
     ]
    },
    {
     "name": "stdout",
     "output_type": "stream",
     "text": [
      "|       139 | 20:02:10.4 |        524 |\n",
      "|       140 | 20:02:10.5 |        525 |\n",
      "|       141 | 20:02:10.6 |        525 |\n"
     ]
    },
    {
     "name": "stdout",
     "output_type": "stream",
     "text": [
      "|       142 | 20:02:10.7 |        524 |\n",
      "|       143 | 20:02:10.8 |        523 |\n"
     ]
    },
    {
     "name": "stdout",
     "output_type": "stream",
     "text": [
      "|       144 | 20:02:10.9 |        521 |\n",
      "|       145 | 20:02:11.0 |        519 |\n"
     ]
    },
    {
     "name": "stdout",
     "output_type": "stream",
     "text": [
      "|       146 | 20:02:11.1 |        516 |\n",
      "|       147 | 20:02:11.2 |        513 |\n"
     ]
    },
    {
     "name": "stdout",
     "output_type": "stream",
     "text": [
      "|       148 | 20:02:11.3 |        509 |\n",
      "|       149 | 20:02:11.4 |        505 |\n",
      "+-----------+------------+------------+\n",
      "|   seq_num |       time |          I |\n",
      "+-----------+------------+------------+\n",
      "|       150 | 20:02:11.5 |        501 |\n"
     ]
    },
    {
     "name": "stdout",
     "output_type": "stream",
     "text": [
      "|       151 | 20:02:11.6 |        497 |\n",
      "|       152 | 20:02:11.7 |        493 |\n"
     ]
    },
    {
     "name": "stdout",
     "output_type": "stream",
     "text": [
      "|       153 | 20:02:11.8 |        490 |\n",
      "|       154 | 20:02:11.9 |        486 |\n",
      "|       155 | 20:02:12.0 |        483 |\n"
     ]
    },
    {
     "name": "stdout",
     "output_type": "stream",
     "text": [
      "|       156 | 20:02:12.1 |        480 |\n",
      "|       157 | 20:02:12.2 |        478 |\n",
      "|       158 | 20:02:12.3 |        477 |\n"
     ]
    },
    {
     "name": "stdout",
     "output_type": "stream",
     "text": [
      "|       159 | 20:02:12.4 |        476 |\n",
      "|       160 | 20:02:12.5 |        475 |\n",
      "|       161 | 20:02:12.6 |        475 |\n"
     ]
    },
    {
     "name": "stdout",
     "output_type": "stream",
     "text": [
      "|       162 | 20:02:12.7 |        476 |\n",
      "|       163 | 20:02:12.8 |        477 |\n"
     ]
    },
    {
     "name": "stdout",
     "output_type": "stream",
     "text": [
      "|       164 | 20:02:12.9 |        479 |\n",
      "|       165 | 20:02:13.0 |        482 |\n"
     ]
    },
    {
     "name": "stdout",
     "output_type": "stream",
     "text": [
      "|       166 | 20:02:13.1 |        485 |\n",
      "|       167 | 20:02:13.2 |        488 |\n"
     ]
    },
    {
     "name": "stdout",
     "output_type": "stream",
     "text": [
      "|       168 | 20:02:13.3 |        492 |\n",
      "|       169 | 20:02:13.4 |        495 |\n"
     ]
    },
    {
     "name": "stdout",
     "output_type": "stream",
     "text": [
      "|       170 | 20:02:13.5 |        499 |\n",
      "|       171 | 20:02:13.6 |        503 |\n",
      "|       172 | 20:02:13.7 |        507 |\n"
     ]
    },
    {
     "name": "stdout",
     "output_type": "stream",
     "text": [
      "|       173 | 20:02:13.8 |        511 |\n",
      "|       174 | 20:02:13.9 |        514 |\n",
      "|       175 | 20:02:14.0 |        517 |\n"
     ]
    },
    {
     "name": "stdout",
     "output_type": "stream",
     "text": [
      "|       176 | 20:02:14.1 |        520 |\n",
      "|       177 | 20:02:14.3 |        522 |\n",
      "|       178 | 20:02:14.3 |        524 |\n"
     ]
    },
    {
     "name": "stdout",
     "output_type": "stream",
     "text": [
      "|       179 | 20:02:14.5 |        525 |\n",
      "|       180 | 20:02:14.5 |        525 |\n",
      "|       181 | 20:02:14.6 |        525 |\n"
     ]
    },
    {
     "name": "stdout",
     "output_type": "stream",
     "text": [
      "|       182 | 20:02:14.8 |        524 |\n",
      "|       183 | 20:02:14.8 |        522 |\n",
      "|       184 | 20:02:14.9 |        520 |\n"
     ]
    },
    {
     "name": "stdout",
     "output_type": "stream",
     "text": [
      "|       185 | 20:02:15.1 |        518 |\n",
      "|       186 | 20:02:15.1 |        515 |\n",
      "|       187 | 20:02:15.3 |        511 |\n"
     ]
    },
    {
     "name": "stdout",
     "output_type": "stream",
     "text": [
      "|       188 | 20:02:15.4 |        508 |\n",
      "|       189 | 20:02:15.5 |        504 |\n",
      "|       190 | 20:02:15.6 |        500 |\n"
     ]
    },
    {
     "name": "stdout",
     "output_type": "stream",
     "text": [
      "|       191 | 20:02:15.7 |        496 |\n",
      "|       192 | 20:02:15.8 |        492 |\n",
      "|       193 | 20:02:15.9 |        489 |\n"
     ]
    },
    {
     "name": "stdout",
     "output_type": "stream",
     "text": [
      "|       194 | 20:02:16.0 |        485 |\n",
      "|       195 | 20:02:16.1 |        482 |\n",
      "|       196 | 20:02:16.2 |        480 |\n"
     ]
    },
    {
     "name": "stdout",
     "output_type": "stream",
     "text": [
      "|       197 | 20:02:16.3 |        478 |\n",
      "|       198 | 20:02:16.4 |        476 |\n",
      "|       199 | 20:02:16.5 |        475 |\n"
     ]
    },
    {
     "name": "stdout",
     "output_type": "stream",
     "text": [
      "+-----------+------------+------------+\n",
      "|   seq_num |       time |          I |\n",
      "+-----------+------------+------------+\n",
      "|       200 | 20:02:16.6 |        475 |\n",
      "+-----------+------------+------------+\n",
      "generator count ['8a1b10ec'] (scan num: 27)\n",
      "\n",
      "\n",
      "\n"
     ]
    },
    {
     "data": {
      "text/plain": [
       "('8a1b10ec-0bf1-46fc-a961-3fda0ce2c269',)"
      ]
     },
     "execution_count": 25,
     "metadata": {},
     "output_type": "execute_result"
    }
   ],
   "source": [
    "RE(count([I], num=200, delay=0.1))"
   ]
  },
  {
   "cell_type": "code",
   "execution_count": 26,
   "metadata": {},
   "outputs": [
    {
     "data": {
      "image/png": "[encoded data removed]",
      "text/plain": [
       "<Figure size 640x400 with 1 Axes>"
      ]
     },
     "execution_count": 26,
     "metadata": {},
     "output_type": "execute_result"
    }
   ],
   "source": [
    "plt.gcf()  # Display a snapshot of the current state of the figure."
   ]
  },
  {
   "cell_type": "code",
   "execution_count": 27,
   "metadata": {},
   "outputs": [
    {
     "data": {
      "application/vnd.jupyter.widget-view+json": {
       "model_id": "a7fd93e862c74132a82844792965f869",
       "version_major": 2,
       "version_minor": 0
      },
      "text/plain": [
       "Canvas(toolbar=Toolbar(toolitems=[('Home', 'Reset original view', 'home', 'home'), ('Back', 'Back to previous …"
      ]
     },
     "metadata": {},
     "output_type": "display_data"
    },
    {
     "data": {
      "text/plain": [
       "<Figure size 640x480 with 0 Axes>"
      ]
     },
     "execution_count": 27,
     "metadata": {},
     "output_type": "execute_result"
    }
   ],
   "source": [
    "plt.figure()"
   ]
  },
  {
   "cell_type": "code",
   "execution_count": 28,
   "metadata": {},
   "outputs": [
    {
     "data": {
      "image/png": "[encoded data removed]",
      "text/plain": [
       "<Figure size 640x480 with 1 Axes>"
      ]
     },
     "execution_count": 28,
     "metadata": {},
     "output_type": "execute_result"
    }
   ],
   "source": [
    "more_current_data = db[-1].table()\n",
    "plt.hist(more_current_data['I'], bins='auto')\n",
    "plt.xlabel('current')\n",
    "plt.ylabel('count')\n",
    "plt.gcf()"
   ]
  },
  {
   "cell_type": "markdown",
   "metadata": {},
   "source": [
    "## Exercises"
   ]
  },
  {
   "cell_type": "markdown",
   "metadata": {},
   "source": [
    "Spend some time reading [10 minutes to pandas](https://pandas.pydata.org/pandas-docs/stable/10min.html), and use this notebook to try some of the examples there."
   ]
  },
  {
   "cell_type": "code",
   "execution_count": 29,
   "metadata": {},
   "outputs": [],
   "source": [
    "# Hack away...."
   ]
  }
 ],
 "metadata": {
  "kernelspec": {
   "display_name": "Python 3",
   "language": "python",
   "name": "python3"
  },
  "language_info": {
   "codemirror_mode": {
    "name": "ipython",
    "version": 3
   },
   "file_extension": ".py",
   "mimetype": "text/x-python",
   "name": "python",
   "nbconvert_exporter": "python",
   "pygments_lexer": "ipython3",
   "version": "3.7.1"
  },
  "widgets": {
   "application/vnd.jupyter.widget-state+json": {
    "state": {
     "2895d5d8a0a643a495501b9f762308bc": {
      "model_module": "jupyter-matplotlib",
      "model_module_version": "^0.7.2",
      "model_name": "MPLCanvasModel",
      "state": {
       "_cursor": "default",
       "_dom_classes": [],
       "_figure_label": "I slit_det vs motor_slit",
       "_height": 800,
       "_image_mode": "diff",
       "_message": "",
       "_model_module": "jupyter-matplotlib",
       "_model_module_version": "^0.7.2",
       "_model_name": "MPLCanvasModel",
       "_rubberband_height": 0,
       "_rubberband_width": 0,
       "_rubberband_x": 0,
       "_rubberband_y": 0,
       "_view_count": null,
       "_view_module": "jupyter-matplotlib",
       "_view_module_version": "^0.7.2",
       "_view_name": "MPLCanvasView",
       "_width": 640,
       "footer_visible": true,
       "header_visible": true,
       "layout": "IPY_MODEL_5f90b751af8b44aab0d4240ed2f8f070",
       "resizable": true,
       "toolbar": "IPY_MODEL_34db0a5c7cd34f21a5291157719fb778",
       "toolbar_position": "left",
       "toolbar_visible": true
      }
     },
     "34db0a5c7cd34f21a5291157719fb778": {
      "model_module": "jupyter-matplotlib",
      "model_module_version": "^0.7.2",
      "model_name": "ToolbarModel",
      "state": {
       "_current_action": "",
       "_dom_classes": [],
       "_model_module": "jupyter-matplotlib",
       "_model_module_version": "^0.7.2",
       "_model_name": "ToolbarModel",
       "_view_count": null,
       "_view_module": "jupyter-matplotlib",
       "_view_module_version": "^0.7.2",
       "_view_name": "ToolbarView",
       "button_style": "",
       "collapsed": true,
       "layout": "IPY_MODEL_dfce9437da7040238c3c69ec7d422fd3",
       "orientation": "vertical",
       "toolitems": [
        [
         "Home",
         "Reset original view",
         "home",
         "home"
        ],
        [
         "Back",
         "Back to previous view",
         "arrow-left",
         "back"
        ],
        [
         "Forward",
         "Forward to next view",
         "arrow-right",
         "forward"
        ],
        [
         "Pan",
         "Pan axes with left mouse, zoom with right",
         "arrows",
         "pan"
        ],
        [
         "Zoom",
         "Zoom to rectangle",
         "square-o",
         "zoom"
        ],
        [
         "Download",
         "Download plot",
         "floppy-o",
         "save_figure"
        ]
       ]
      }
     },
     "3f7bb3dee5aa4be58965d1795f0ece0e": {
      "model_module": "jupyter-matplotlib",
      "model_module_version": "^0.7.2",
      "model_name": "ToolbarModel",
      "state": {
       "_current_action": "",
       "_dom_classes": [],
       "_model_module": "jupyter-matplotlib",
       "_model_module_version": "^0.7.2",
       "_model_name": "ToolbarModel",
       "_view_count": null,
       "_view_module": "jupyter-matplotlib",
       "_view_module_version": "^0.7.2",
       "_view_name": "ToolbarView",
       "button_style": "",
       "collapsed": true,
       "layout": "IPY_MODEL_6b88dfd5bf72499e82b39c7b74bb3adb",
       "orientation": "vertical",
       "toolitems": [
        [
         "Home",
         "Reset original view",
         "home",
         "home"
        ],
        [
         "Back",
         "Back to previous view",
         "arrow-left",
         "back"
        ],
        [
         "Forward",
         "Forward to next view",
         "arrow-right",
         "forward"
        ],
        [
         "Pan",
         "Pan axes with left mouse, zoom with right",
         "arrows",
         "pan"
        ],
        [
         "Zoom",
         "Zoom to rectangle",
         "square-o",
         "zoom"
        ],
        [
         "Download",
         "Download plot",
         "floppy-o",
         "save_figure"
        ]
       ]
      }
     },
     "45c27695e74f417d9aa7f1ecfd6a59fd": {
      "model_module": "@jupyter-widgets/base",
      "model_module_version": "1.2.0",
      "model_name": "LayoutModel",
      "state": {
       "_model_module": "@jupyter-widgets/base",
       "_model_module_version": "1.2.0",
       "_model_name": "LayoutModel",
       "_view_count": null,
       "_view_module": "@jupyter-widgets/base",
       "_view_module_version": "1.2.0",
       "_view_name": "LayoutView",
       "align_content": null,
       "align_items": null,
       "align_self": null,
       "border": null,
       "bottom": null,
       "display": null,
       "flex": null,
       "flex_flow": null,
       "grid_area": null,
       "grid_auto_columns": null,
       "grid_auto_flow": null,
       "grid_auto_rows": null,
       "grid_column": null,
       "grid_gap": null,
       "grid_row": null,
       "grid_template_areas": null,
       "grid_template_columns": null,
       "grid_template_rows": null,
       "height": null,
       "justify_content": null,
       "justify_items": null,
       "left": null,
       "margin": null,
       "max_height": null,
       "max_width": null,
       "min_height": null,
       "min_width": null,
       "object_fit": null,
       "object_position": null,
       "order": null,
       "overflow": null,
       "overflow_x": null,
       "overflow_y": null,
       "padding": null,
       "right": null,
       "top": null,
       "visibility": null,
       "width": null
      }
     },
     "4b180d8e337f4834bdf1b3fccf9aefa2": {
      "model_module": "@jupyter-widgets/base",
      "model_module_version": "1.2.0",
      "model_name": "LayoutModel",
      "state": {
       "_model_module": "@jupyter-widgets/base",
       "_model_module_version": "1.2.0",
       "_model_name": "LayoutModel",
       "_view_count": null,
       "_view_module": "@jupyter-widgets/base",
       "_view_module_version": "1.2.0",
       "_view_name": "LayoutView",
       "align_content": null,
       "align_items": null,
       "align_self": null,
       "border": null,
       "bottom": null,
       "display": null,
       "flex": null,
       "flex_flow": null,
       "grid_area": null,
       "grid_auto_columns": null,
       "grid_auto_flow": null,
       "grid_auto_rows": null,
       "grid_column": null,
       "grid_gap": null,
       "grid_row": null,
       "grid_template_areas": null,
       "grid_template_columns": null,
       "grid_template_rows": null,
       "height": null,
       "justify_content": null,
       "justify_items": null,
       "left": null,
       "margin": null,
       "max_height": null,
       "max_width": null,
       "min_height": null,
       "min_width": null,
       "object_fit": null,
       "object_position": null,
       "order": null,
       "overflow": null,
       "overflow_x": null,
       "overflow_y": null,
       "padding": null,
       "right": null,
       "top": null,
       "visibility": null,
       "width": null
      }
     },
     "5cbb9ba7f5a847d1b5e069a9e9fc0a9a": {
      "model_module": "jupyter-matplotlib",
      "model_module_version": "^0.7.2",
      "model_name": "MPLCanvasModel",
      "state": {
       "_cursor": "pointer",
       "_dom_classes": [],
       "_figure_label": "Figure",
       "_height": 0,
       "_image_mode": "full",
       "_message": "",
       "_model_module": "jupyter-matplotlib",
       "_model_module_version": "^0.7.2",
       "_model_name": "MPLCanvasModel",
       "_rubberband_height": 0,
       "_rubberband_width": 0,
       "_rubberband_x": 0,
       "_rubberband_y": 0,
       "_view_count": null,
       "_view_module": "jupyter-matplotlib",
       "_view_module_version": "^0.7.2",
       "_view_name": "MPLCanvasView",
       "_width": 0,
       "footer_visible": true,
       "header_visible": true,
       "layout": "IPY_MODEL_d4eacdcd937e4bd7b90a90d80dc183e5",
       "resizable": true,
       "toolbar": "IPY_MODEL_d87d031828bf4403818486781842abea",
       "toolbar_position": "left",
       "toolbar_visible": true
      }
     },
     "5f90b751af8b44aab0d4240ed2f8f070": {
      "model_module": "@jupyter-widgets/base",
      "model_module_version": "1.2.0",
      "model_name": "LayoutModel",
      "state": {
       "_model_module": "@jupyter-widgets/base",
       "_model_module_version": "1.2.0",
       "_model_name": "LayoutModel",
       "_view_count": null,
       "_view_module": "@jupyter-widgets/base",
       "_view_module_version": "1.2.0",
       "_view_name": "LayoutView",
       "align_content": null,
       "align_items": null,
       "align_self": null,
       "border": null,
       "bottom": null,
       "display": null,
       "flex": null,
       "flex_flow": null,
       "grid_area": null,
       "grid_auto_columns": null,
       "grid_auto_flow": null,
       "grid_auto_rows": null,
       "grid_column": null,
       "grid_gap": null,
       "grid_row": null,
       "grid_template_areas": null,
       "grid_template_columns": null,
       "grid_template_rows": null,
       "height": null,
       "justify_content": null,
       "justify_items": null,
       "left": null,
       "margin": null,
       "max_height": null,
       "max_width": null,
       "min_height": null,
       "min_width": null,
       "object_fit": null,
       "object_position": null,
       "order": null,
       "overflow": null,
       "overflow_x": null,
       "overflow_y": null,
       "padding": null,
       "right": null,
       "top": null,
       "visibility": null,
       "width": null
      }
     },
     "655a7e4631684b12adb3de89464fe9ad": {
      "model_module": "@jupyter-widgets/base",
      "model_module_version": "1.2.0",
      "model_name": "LayoutModel",
      "state": {
       "_model_module": "@jupyter-widgets/base",
       "_model_module_version": "1.2.0",
       "_model_name": "LayoutModel",
       "_view_count": null,
       "_view_module": "@jupyter-widgets/base",
       "_view_module_version": "1.2.0",
       "_view_name": "LayoutView",
       "align_content": null,
       "align_items": null,
       "align_self": null,
       "border": null,
       "bottom": null,
       "display": null,
       "flex": null,
       "flex_flow": null,
       "grid_area": null,
       "grid_auto_columns": null,
       "grid_auto_flow": null,
       "grid_auto_rows": null,
       "grid_column": null,
       "grid_gap": null,
       "grid_row": null,
       "grid_template_areas": null,
       "grid_template_columns": null,
       "grid_template_rows": null,
       "height": null,
       "justify_content": null,
       "justify_items": null,
       "left": null,
       "margin": null,
       "max_height": null,
       "max_width": null,
       "min_height": null,
       "min_width": null,
       "object_fit": null,
       "object_position": null,
       "order": null,
       "overflow": null,
       "overflow_x": null,
       "overflow_y": null,
       "padding": null,
       "right": null,
       "top": null,
       "visibility": null,
       "width": null
      }
     },
     "6b88dfd5bf72499e82b39c7b74bb3adb": {
      "model_module": "@jupyter-widgets/base",
      "model_module_version": "1.2.0",
      "model_name": "LayoutModel",
      "state": {
       "_model_module": "@jupyter-widgets/base",
       "_model_module_version": "1.2.0",
       "_model_name": "LayoutModel",
       "_view_count": null,
       "_view_module": "@jupyter-widgets/base",
       "_view_module_version": "1.2.0",
       "_view_name": "LayoutView",
       "align_content": null,
       "align_items": null,
       "align_self": null,
       "border": null,
       "bottom": null,
       "display": null,
       "flex": null,
       "flex_flow": null,
       "grid_area": null,
       "grid_auto_columns": null,
       "grid_auto_flow": null,
       "grid_auto_rows": null,
       "grid_column": null,
       "grid_gap": null,
       "grid_row": null,
       "grid_template_areas": null,
       "grid_template_columns": null,
       "grid_template_rows": null,
       "height": null,
       "justify_content": null,
       "justify_items": null,
       "left": null,
       "margin": null,
       "max_height": null,
       "max_width": null,
       "min_height": null,
       "min_width": null,
       "object_fit": null,
       "object_position": null,
       "order": null,
       "overflow": null,
       "overflow_x": null,
       "overflow_y": null,
       "padding": null,
       "right": null,
       "top": null,
       "visibility": null,
       "width": null
      }
     },
     "8c54232dd6654906beed549d37a29dea": {
      "model_module": "jupyter-matplotlib",
      "model_module_version": "^0.7.2",
      "model_name": "MPLCanvasModel",
      "state": {
       "_cursor": "pointer",
       "_dom_classes": [],
       "_figure_label": "Figure",
       "_height": 0,
       "_image_mode": "full",
       "_message": "",
       "_model_module": "jupyter-matplotlib",
       "_model_module_version": "^0.7.2",
       "_model_name": "MPLCanvasModel",
       "_rubberband_height": 0,
       "_rubberband_width": 0,
       "_rubberband_x": 0,
       "_rubberband_y": 0,
       "_view_count": null,
       "_view_module": "jupyter-matplotlib",
       "_view_module_version": "^0.7.2",
       "_view_name": "MPLCanvasView",
       "_width": 0,
       "footer_visible": true,
       "header_visible": true,
       "layout": "IPY_MODEL_f99cbc2cd4604a43b48764ccf5cbf481",
       "resizable": true,
       "toolbar": "IPY_MODEL_9210e67e8750455088a744e5863f6015",
       "toolbar_position": "left",
       "toolbar_visible": true
      }
     },
     "8d68575465bd468f9601cb739d3421f3": {
      "model_module": "jupyter-matplotlib",
      "model_module_version": "^0.7.2",
      "model_name": "ToolbarModel",
      "state": {
       "_current_action": "",
       "_dom_classes": [],
       "_model_module": "jupyter-matplotlib",
       "_model_module_version": "^0.7.2",
       "_model_name": "ToolbarModel",
       "_view_count": null,
       "_view_module": "jupyter-matplotlib",
       "_view_module_version": "^0.7.2",
       "_view_name": "ToolbarView",
       "button_style": "",
       "collapsed": true,
       "layout": "IPY_MODEL_4b180d8e337f4834bdf1b3fccf9aefa2",
       "orientation": "vertical",
       "toolitems": [
        [
         "Home",
         "Reset original view",
         "home",
         "home"
        ],
        [
         "Back",
         "Back to previous view",
         "arrow-left",
         "back"
        ],
        [
         "Forward",
         "Forward to next view",
         "arrow-right",
         "forward"
        ],
        [
         "Pan",
         "Pan axes with left mouse, zoom with right",
         "arrows",
         "pan"
        ],
        [
         "Zoom",
         "Zoom to rectangle",
         "square-o",
         "zoom"
        ],
        [
         "Download",
         "Download plot",
         "floppy-o",
         "save_figure"
        ]
       ]
      }
     },
     "9210e67e8750455088a744e5863f6015": {
      "model_module": "jupyter-matplotlib",
      "model_module_version": "^0.7.2",
      "model_name": "ToolbarModel",
      "state": {
       "_current_action": "",
       "_dom_classes": [],
       "_model_module": "jupyter-matplotlib",
       "_model_module_version": "^0.7.2",
       "_model_name": "ToolbarModel",
       "_view_count": null,
       "_view_module": "jupyter-matplotlib",
       "_view_module_version": "^0.7.2",
       "_view_name": "ToolbarView",
       "button_style": "",
       "collapsed": true,
       "layout": "IPY_MODEL_45c27695e74f417d9aa7f1ecfd6a59fd",
       "orientation": "vertical",
       "toolitems": [
        [
         "Home",
         "Reset original view",
         "home",
         "home"
        ],
        [
         "Back",
         "Back to previous view",
         "arrow-left",
         "back"
        ],
        [
         "Forward",
         "Forward to next view",
         "arrow-right",
         "forward"
        ],
        [
         "Pan",
         "Pan axes with left mouse, zoom with right",
         "arrows",
         "pan"
        ],
        [
         "Zoom",
         "Zoom to rectangle",
         "square-o",
         "zoom"
        ],
        [
         "Download",
         "Download plot",
         "floppy-o",
         "save_figure"
        ]
       ]
      }
     },
     "92cad050ac204d9a9e36d03d87f7c43a": {
      "model_module": "@jupyter-widgets/base",
      "model_module_version": "1.2.0",
      "model_name": "LayoutModel",
      "state": {
       "_model_module": "@jupyter-widgets/base",
       "_model_module_version": "1.2.0",
       "_model_name": "LayoutModel",
       "_view_count": null,
       "_view_module": "@jupyter-widgets/base",
       "_view_module_version": "1.2.0",
       "_view_name": "LayoutView",
       "align_content": null,
       "align_items": null,
       "align_self": null,
       "border": null,
       "bottom": null,
       "display": null,
       "flex": null,
       "flex_flow": null,
       "grid_area": null,
       "grid_auto_columns": null,
       "grid_auto_flow": null,
       "grid_auto_rows": null,
       "grid_column": null,
       "grid_gap": null,
       "grid_row": null,
       "grid_template_areas": null,
       "grid_template_columns": null,
       "grid_template_rows": null,
       "height": null,
       "justify_content": null,
       "justify_items": null,
       "left": null,
       "margin": null,
       "max_height": null,
       "max_width": null,
       "min_height": null,
       "min_width": null,
       "object_fit": null,
       "object_position": null,
       "order": null,
       "overflow": null,
       "overflow_x": null,
       "overflow_y": null,
       "padding": null,
       "right": null,
       "top": null,
       "visibility": null,
       "width": null
      }
     },
     "9786341de599458b9410228ab0f37e6e": {
      "model_module": "jupyter-matplotlib",
      "model_module_version": "^0.7.2",
      "model_name": "MPLCanvasModel",
      "state": {
       "_cursor": "pointer",
       "_dom_classes": [],
       "_figure_label": "Figure",
       "_height": 0,
       "_image_mode": "full",
       "_message": "",
       "_model_module": "jupyter-matplotlib",
       "_model_module_version": "^0.7.2",
       "_model_name": "MPLCanvasModel",
       "_rubberband_height": 0,
       "_rubberband_width": 0,
       "_rubberband_x": 0,
       "_rubberband_y": 0,
       "_view_count": null,
       "_view_module": "jupyter-matplotlib",
       "_view_module_version": "^0.7.2",
       "_view_name": "MPLCanvasView",
       "_width": 0,
       "footer_visible": true,
       "header_visible": true,
       "layout": "IPY_MODEL_e5a738a33c024befae3f35059b1c9d2b",
       "resizable": true,
       "toolbar": "IPY_MODEL_f71c50ab530d4e3b93478ea75790e31d",
       "toolbar_position": "left",
       "toolbar_visible": true
      }
     },
     "a7fd93e862c74132a82844792965f869": {
      "model_module": "jupyter-matplotlib",
      "model_module_version": "^0.7.2",
      "model_name": "MPLCanvasModel",
      "state": {
       "_cursor": "pointer",
       "_dom_classes": [],
       "_figure_label": "Figure",
       "_height": 0,
       "_image_mode": "full",
       "_message": "",
       "_model_module": "jupyter-matplotlib",
       "_model_module_version": "^0.7.2",
       "_model_name": "MPLCanvasModel",
       "_rubberband_height": 0,
       "_rubberband_width": 0,
       "_rubberband_x": 0,
       "_rubberband_y": 0,
       "_view_count": null,
       "_view_module": "jupyter-matplotlib",
       "_view_module_version": "^0.7.2",
       "_view_name": "MPLCanvasView",
       "_width": 0,
       "footer_visible": true,
       "header_visible": true,
       "layout": "IPY_MODEL_655a7e4631684b12adb3de89464fe9ad",
       "resizable": true,
       "toolbar": "IPY_MODEL_f07e027de88c43ccb650669ceee413bb",
       "toolbar_position": "left",
       "toolbar_visible": true
      }
     },
     "afe8a96bf8824622b55cc9fb5ad4fb53": {
      "model_module": "@jupyter-widgets/base",
      "model_module_version": "1.2.0",
      "model_name": "LayoutModel",
      "state": {
       "_model_module": "@jupyter-widgets/base",
       "_model_module_version": "1.2.0",
       "_model_name": "LayoutModel",
       "_view_count": null,
       "_view_module": "@jupyter-widgets/base",
       "_view_module_version": "1.2.0",
       "_view_name": "LayoutView",
       "align_content": null,
       "align_items": null,
       "align_self": null,
       "border": null,
       "bottom": null,
       "display": null,
       "flex": null,
       "flex_flow": null,
       "grid_area": null,
       "grid_auto_columns": null,
       "grid_auto_flow": null,
       "grid_auto_rows": null,
       "grid_column": null,
       "grid_gap": null,
       "grid_row": null,
       "grid_template_areas": null,
       "grid_template_columns": null,
       "grid_template_rows": null,
       "height": null,
       "justify_content": null,
       "justify_items": null,
       "left": null,
       "margin": null,
       "max_height": null,
       "max_width": null,
       "min_height": null,
       "min_width": null,
       "object_fit": null,
       "object_position": null,
       "order": null,
       "overflow": null,
       "overflow_x": null,
       "overflow_y": null,
       "padding": null,
       "right": null,
       "top": null,
       "visibility": null,
       "width": null
      }
     },
     "d4eacdcd937e4bd7b90a90d80dc183e5": {
      "model_module": "@jupyter-widgets/base",
      "model_module_version": "1.2.0",
      "model_name": "LayoutModel",
      "state": {
       "_model_module": "@jupyter-widgets/base",
       "_model_module_version": "1.2.0",
       "_model_name": "LayoutModel",
       "_view_count": null,
       "_view_module": "@jupyter-widgets/base",
       "_view_module_version": "1.2.0",
       "_view_name": "LayoutView",
       "align_content": null,
       "align_items": null,
       "align_self": null,
       "border": null,
       "bottom": null,
       "display": null,
       "flex": null,
       "flex_flow": null,
       "grid_area": null,
       "grid_auto_columns": null,
       "grid_auto_flow": null,
       "grid_auto_rows": null,
       "grid_column": null,
       "grid_gap": null,
       "grid_row": null,
       "grid_template_areas": null,
       "grid_template_columns": null,
       "grid_template_rows": null,
       "height": null,
       "justify_content": null,
       "justify_items": null,
       "left": null,
       "margin": null,
       "max_height": null,
       "max_width": null,
       "min_height": null,
       "min_width": null,
       "object_fit": null,
       "object_position": null,
       "order": null,
       "overflow": null,
       "overflow_x": null,
       "overflow_y": null,
       "padding": null,
       "right": null,
       "top": null,
       "visibility": null,
       "width": null
      }
     },
     "d87d031828bf4403818486781842abea": {
      "model_module": "jupyter-matplotlib",
      "model_module_version": "^0.7.2",
      "model_name": "ToolbarModel",
      "state": {
       "_current_action": "",
       "_dom_classes": [],
       "_model_module": "jupyter-matplotlib",
       "_model_module_version": "^0.7.2",
       "_model_name": "ToolbarModel",
       "_view_count": null,
       "_view_module": "jupyter-matplotlib",
       "_view_module_version": "^0.7.2",
       "_view_name": "ToolbarView",
       "button_style": "",
       "collapsed": true,
       "layout": "IPY_MODEL_92cad050ac204d9a9e36d03d87f7c43a",
       "orientation": "vertical",
       "toolitems": [
        [
         "Home",
         "Reset original view",
         "home",
         "home"
        ],
        [
         "Back",
         "Back to previous view",
         "arrow-left",
         "back"
        ],
        [
         "Forward",
         "Forward to next view",
         "arrow-right",
         "forward"
        ],
        [
         "Pan",
         "Pan axes with left mouse, zoom with right",
         "arrows",
         "pan"
        ],
        [
         "Zoom",
         "Zoom to rectangle",
         "square-o",
         "zoom"
        ],
        [
         "Download",
         "Download plot",
         "floppy-o",
         "save_figure"
        ]
       ]
      }
     },
     "de218ca99d77456f93221fac84547550": {
      "model_module": "@jupyter-widgets/base",
      "model_module_version": "1.2.0",
      "model_name": "LayoutModel",
      "state": {
       "_model_module": "@jupyter-widgets/base",
       "_model_module_version": "1.2.0",
       "_model_name": "LayoutModel",
       "_view_count": null,
       "_view_module": "@jupyter-widgets/base",
       "_view_module_version": "1.2.0",
       "_view_name": "LayoutView",
       "align_content": null,
       "align_items": null,
       "align_self": null,
       "border": null,
       "bottom": null,
       "display": null,
       "flex": null,
       "flex_flow": null,
       "grid_area": null,
       "grid_auto_columns": null,
       "grid_auto_flow": null,
       "grid_auto_rows": null,
       "grid_column": null,
       "grid_gap": null,
       "grid_row": null,
       "grid_template_areas": null,
       "grid_template_columns": null,
       "grid_template_rows": null,
       "height": null,
       "justify_content": null,
       "justify_items": null,
       "left": null,
       "margin": null,
       "max_height": null,
       "max_width": null,
       "min_height": null,
       "min_width": null,
       "object_fit": null,
       "object_position": null,
       "order": null,
       "overflow": null,
       "overflow_x": null,
       "overflow_y": null,
       "padding": null,
       "right": null,
       "top": null,
       "visibility": null,
       "width": null
      }
     },
     "dfce9437da7040238c3c69ec7d422fd3": {
      "model_module": "@jupyter-widgets/base",
      "model_module_version": "1.2.0",
      "model_name": "LayoutModel",
      "state": {
       "_model_module": "@jupyter-widgets/base",
       "_model_module_version": "1.2.0",
       "_model_name": "LayoutModel",
       "_view_count": null,
       "_view_module": "@jupyter-widgets/base",
       "_view_module_version": "1.2.0",
       "_view_name": "LayoutView",
       "align_content": null,
       "align_items": null,
       "align_self": null,
       "border": null,
       "bottom": null,
       "display": null,
       "flex": null,
       "flex_flow": null,
       "grid_area": null,
       "grid_auto_columns": null,
       "grid_auto_flow": null,
       "grid_auto_rows": null,
       "grid_column": null,
       "grid_gap": null,
       "grid_row": null,
       "grid_template_areas": null,
       "grid_template_columns": null,
       "grid_template_rows": null,
       "height": null,
       "justify_content": null,
       "justify_items": null,
       "left": null,
       "margin": null,
       "max_height": null,
       "max_width": null,
       "min_height": null,
       "min_width": null,
       "object_fit": null,
       "object_position": null,
       "order": null,
       "overflow": null,
       "overflow_x": null,
       "overflow_y": null,
       "padding": null,
       "right": null,
       "top": null,
       "visibility": null,
       "width": null
      }
     },
     "e1d032b16b604cd999abb5cb4bc5a117": {
      "model_module": "@jupyter-widgets/base",
      "model_module_version": "1.2.0",
      "model_name": "LayoutModel",
      "state": {
       "_model_module": "@jupyter-widgets/base",
       "_model_module_version": "1.2.0",
       "_model_name": "LayoutModel",
       "_view_count": null,
       "_view_module": "@jupyter-widgets/base",
       "_view_module_version": "1.2.0",
       "_view_name": "LayoutView",
       "align_content": null,
       "align_items": null,
       "align_self": null,
       "border": null,
       "bottom": null,
       "display": null,
       "flex": null,
       "flex_flow": null,
       "grid_area": null,
       "grid_auto_columns": null,
       "grid_auto_flow": null,
       "grid_auto_rows": null,
       "grid_column": null,
       "grid_gap": null,
       "grid_row": null,
       "grid_template_areas": null,
       "grid_template_columns": null,
       "grid_template_rows": null,
       "height": null,
       "justify_content": null,
       "justify_items": null,
       "left": null,
       "margin": null,
       "max_height": null,
       "max_width": null,
       "min_height": null,
       "min_width": null,
       "object_fit": null,
       "object_position": null,
       "order": null,
       "overflow": null,
       "overflow_x": null,
       "overflow_y": null,
       "padding": null,
       "right": null,
       "top": null,
       "visibility": null,
       "width": null
      }
     },
     "e5a738a33c024befae3f35059b1c9d2b": {
      "model_module": "@jupyter-widgets/base",
      "model_module_version": "1.2.0",
      "model_name": "LayoutModel",
      "state": {
       "_model_module": "@jupyter-widgets/base",
       "_model_module_version": "1.2.0",
       "_model_name": "LayoutModel",
       "_view_count": null,
       "_view_module": "@jupyter-widgets/base",
       "_view_module_version": "1.2.0",
       "_view_name": "LayoutView",
       "align_content": null,
       "align_items": null,
       "align_self": null,
       "border": null,
       "bottom": null,
       "display": null,
       "flex": null,
       "flex_flow": null,
       "grid_area": null,
       "grid_auto_columns": null,
       "grid_auto_flow": null,
       "grid_auto_rows": null,
       "grid_column": null,
       "grid_gap": null,
       "grid_row": null,
       "grid_template_areas": null,
       "grid_template_columns": null,
       "grid_template_rows": null,
       "height": null,
       "justify_content": null,
       "justify_items": null,
       "left": null,
       "margin": null,
       "max_height": null,
       "max_width": null,
       "min_height": null,
       "min_width": null,
       "object_fit": null,
       "object_position": null,
       "order": null,
       "overflow": null,
       "overflow_x": null,
       "overflow_y": null,
       "padding": null,
       "right": null,
       "top": null,
       "visibility": null,
       "width": null
      }
     },
     "e6741d59fb804b0c86b7430a69cdff61": {
      "model_module": "jupyter-matplotlib",
      "model_module_version": "^0.7.2",
      "model_name": "MPLCanvasModel",
      "state": {
       "_cursor": "pointer",
       "_dom_classes": [],
       "_figure_label": "Figure",
       "_height": 0,
       "_image_mode": "full",
       "_message": "",
       "_model_module": "jupyter-matplotlib",
       "_model_module_version": "^0.7.2",
       "_model_name": "MPLCanvasModel",
       "_rubberband_height": 0,
       "_rubberband_width": 0,
       "_rubberband_x": 0,
       "_rubberband_y": 0,
       "_view_count": null,
       "_view_module": "jupyter-matplotlib",
       "_view_module_version": "^0.7.2",
       "_view_name": "MPLCanvasView",
       "_width": 0,
       "footer_visible": true,
       "header_visible": true,
       "layout": "IPY_MODEL_e1d032b16b604cd999abb5cb4bc5a117",
       "resizable": true,
       "toolbar": "IPY_MODEL_3f7bb3dee5aa4be58965d1795f0ece0e",
       "toolbar_position": "left",
       "toolbar_visible": true
      }
     },
     "ea40934751db45c8816e3c6493e70276": {
      "model_module": "@jupyter-widgets/base",
      "model_module_version": "1.2.0",
      "model_name": "LayoutModel",
      "state": {
       "_model_module": "@jupyter-widgets/base",
       "_model_module_version": "1.2.0",
       "_model_name": "LayoutModel",
       "_view_count": null,
       "_view_module": "@jupyter-widgets/base",
       "_view_module_version": "1.2.0",
       "_view_name": "LayoutView",
       "align_content": null,
       "align_items": null,
       "align_self": null,
       "border": null,
       "bottom": null,
       "display": null,
       "flex": null,
       "flex_flow": null,
       "grid_area": null,
       "grid_auto_columns": null,
       "grid_auto_flow": null,
       "grid_auto_rows": null,
       "grid_column": null,
       "grid_gap": null,
       "grid_row": null,
       "grid_template_areas": null,
       "grid_template_columns": null,
       "grid_template_rows": null,
       "height": null,
       "justify_content": null,
       "justify_items": null,
       "left": null,
       "margin": null,
       "max_height": null,
       "max_width": null,
       "min_height": null,
       "min_width": null,
       "object_fit": null,
       "object_position": null,
       "order": null,
       "overflow": null,
       "overflow_x": null,
       "overflow_y": null,
       "padding": null,
       "right": null,
       "top": null,
       "visibility": null,
       "width": null
      }
     },
     "ecae227342874d0480ccf8a35a37ed4f": {
      "model_module": "jupyter-matplotlib",
      "model_module_version": "^0.7.2",
      "model_name": "MPLCanvasModel",
      "state": {
       "_cursor": "pointer",
       "_dom_classes": [],
       "_figure_label": "I vs time",
       "_height": 400,
       "_image_mode": "diff",
       "_message": "",
       "_model_module": "jupyter-matplotlib",
       "_model_module_version": "^0.7.2",
       "_model_name": "MPLCanvasModel",
       "_rubberband_height": 0,
       "_rubberband_width": 0,
       "_rubberband_x": 0,
       "_rubberband_y": 0,
       "_view_count": null,
       "_view_module": "jupyter-matplotlib",
       "_view_module_version": "^0.7.2",
       "_view_name": "MPLCanvasView",
       "_width": 640,
       "footer_visible": true,
       "header_visible": true,
       "layout": "IPY_MODEL_afe8a96bf8824622b55cc9fb5ad4fb53",
       "resizable": true,
       "toolbar": "IPY_MODEL_8d68575465bd468f9601cb739d3421f3",
       "toolbar_position": "left",
       "toolbar_visible": true
      }
     },
     "f07e027de88c43ccb650669ceee413bb": {
      "model_module": "jupyter-matplotlib",
      "model_module_version": "^0.7.2",
      "model_name": "ToolbarModel",
      "state": {
       "_current_action": "",
       "_dom_classes": [],
       "_model_module": "jupyter-matplotlib",
       "_model_module_version": "^0.7.2",
       "_model_name": "ToolbarModel",
       "_view_count": null,
       "_view_module": "jupyter-matplotlib",
       "_view_module_version": "^0.7.2",
       "_view_name": "ToolbarView",
       "button_style": "",
       "collapsed": true,
       "layout": "IPY_MODEL_de218ca99d77456f93221fac84547550",
       "orientation": "vertical",
       "toolitems": [
        [
         "Home",
         "Reset original view",
         "home",
         "home"
        ],
        [
         "Back",
         "Back to previous view",
         "arrow-left",
         "back"
        ],
        [
         "Forward",
         "Forward to next view",
         "arrow-right",
         "forward"
        ],
        [
         "Pan",
         "Pan axes with left mouse, zoom with right",
         "arrows",
         "pan"
        ],
        [
         "Zoom",
         "Zoom to rectangle",
         "square-o",
         "zoom"
        ],
        [
         "Download",
         "Download plot",
         "floppy-o",
         "save_figure"
        ]
       ]
      }
     },
     "f71c50ab530d4e3b93478ea75790e31d": {
      "model_module": "jupyter-matplotlib",
      "model_module_version": "^0.7.2",
      "model_name": "ToolbarModel",
      "state": {
       "_current_action": "",
       "_dom_classes": [],
       "_model_module": "jupyter-matplotlib",
       "_model_module_version": "^0.7.2",
       "_model_name": "ToolbarModel",
       "_view_count": null,
       "_view_module": "jupyter-matplotlib",
       "_view_module_version": "^0.7.2",
       "_view_name": "ToolbarView",
       "button_style": "",
       "collapsed": true,
       "layout": "IPY_MODEL_ea40934751db45c8816e3c6493e70276",
       "orientation": "vertical",
       "toolitems": [
        [
         "Home",
         "Reset original view",
         "home",
         "home"
        ],
        [
         "Back",
         "Back to previous view",
         "arrow-left",
         "back"
        ],
        [
         "Forward",
         "Forward to next view",
         "arrow-right",
         "forward"
        ],
        [
         "Pan",
         "Pan axes with left mouse, zoom with right",
         "arrows",
         "pan"
        ],
        [
         "Zoom",
         "Zoom to rectangle",
         "square-o",
         "zoom"
        ],
        [
         "Download",
         "Download plot",
         "floppy-o",
         "save_figure"
        ]
       ]
      }
     },
     "f99cbc2cd4604a43b48764ccf5cbf481": {
      "model_module": "@jupyter-widgets/base",
      "model_module_version": "1.2.0",
      "model_name": "LayoutModel",
      "state": {
       "_model_module": "@jupyter-widgets/base",
       "_model_module_version": "1.2.0",
       "_model_name": "LayoutModel",
       "_view_count": null,
       "_view_module": "@jupyter-widgets/base",
       "_view_module_version": "1.2.0",
       "_view_name": "LayoutView",
       "align_content": null,
       "align_items": null,
       "align_self": null,
       "border": null,
       "bottom": null,
       "display": null,
       "flex": null,
       "flex_flow": null,
       "grid_area": null,
       "grid_auto_columns": null,
       "grid_auto_flow": null,
       "grid_auto_rows": null,
       "grid_column": null,
       "grid_gap": null,
       "grid_row": null,
       "grid_template_areas": null,
       "grid_template_columns": null,
       "grid_template_rows": null,
       "height": null,
       "justify_content": null,
       "justify_items": null,
       "left": null,
       "margin": null,
       "max_height": null,
       "max_width": null,
       "min_height": null,
       "min_width": null,
       "object_fit": null,
       "object_position": null,
       "order": null,
       "overflow": null,
       "overflow_x": null,
       "overflow_y": null,
       "padding": null,
       "right": null,
       "top": null,
       "visibility": null,
       "width": null
      }
     }
    },
    "version_major": 2,
    "version_minor": 0
   }
  }
 },
 "nbformat": 4,
 "nbformat_minor": 4
}
