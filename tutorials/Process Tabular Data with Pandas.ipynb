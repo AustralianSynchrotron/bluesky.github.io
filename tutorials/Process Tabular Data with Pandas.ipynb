{
 "cells": [
  {
   "cell_type": "markdown",
   "metadata": {},
   "source": [
    "# Process Tabular Data with Pandas\n",
    "\n",
    "In this notebook you will:\n",
    "\n",
    "* Load a data from a scan.\n",
    "* Visualize it.\n",
    "* Explore the dataset, performing basic filtering and statistic operations using ``pandas``.\n",
    "\n",
    "Recommended Prerequisites:\n",
    "\n",
    "* [Hello Bluesky](./Hello%20Bluesky.ipynb)\n",
    "\n",
    "## Configuration\n",
    "Below, we will connect to EPICS IOC(s) controlling simulated hardware in lieu of actual motors, detectors. The IOCs should already be running in the background. Run this command to verify that they are running: it should produce output with RUNNING on each line. In the event of a problem, edit this command to replace status with restart all and run again.\n"
   ]
  },
  {
   "cell_type": "code",
   "execution_count": 1,
   "metadata": {
    "execution": {
     "iopub.execute_input": "2021-02-05T23:37:35.327966Z",
     "iopub.status.busy": "2021-02-05T23:37:35.327208Z",
     "iopub.status.idle": "2021-02-05T23:37:35.658442Z",
     "shell.execute_reply": "2021-02-05T23:37:35.657890Z"
    }
   },
   "outputs": [
    {
     "name": "stdout",
     "output_type": "stream",
     "text": [
      "decay                            RUNNING   pid 4922, uptime 0:03:47\r\n",
      "mini_beamline                    RUNNING   pid 4923, uptime 0:03:47\r\n",
      "random_walk                      RUNNING   pid 4924, uptime 0:03:47\r\n",
      "random_walk_horiz                RUNNING   pid 4925, uptime 0:03:47\r\n",
      "random_walk_vert                 RUNNING   pid 4926, uptime 0:03:47\r\n",
      "simple                           RUNNING   pid 4927, uptime 0:03:47\r\n",
      "thermo_sim                       RUNNING   pid 4928, uptime 0:03:47\r\n",
      "trigger_with_pc                  FATAL     Exited too quickly (process log may have details)\r\n"
     ]
    }
   ],
   "source": [
    "!supervisorctl -c supervisor/supervisord.conf status"
   ]
  },
  {
   "cell_type": "code",
   "execution_count": 2,
   "metadata": {
    "execution": {
     "iopub.execute_input": "2021-02-05T23:37:35.664127Z",
     "iopub.status.busy": "2021-02-05T23:37:35.662428Z",
     "iopub.status.idle": "2021-02-05T23:37:37.696709Z",
     "shell.execute_reply": "2021-02-05T23:37:37.695794Z"
    }
   },
   "outputs": [
    {
     "name": "stderr",
     "output_type": "stream",
     "text": [
      "/home/travis/virtualenv/python3.7.1/lib/python3.7/site-packages/traitlets/traitlets.py:3036: FutureWarning: --rc={'figure.dpi': 96} for dict-traits is deprecated in traitlets 5.0. You can pass --rc <key=value> ... multiple times to add items to a dict.\n",
      "  FutureWarning,\n"
     ]
    },
    {
     "name": "stderr",
     "output_type": "stream",
     "text": [
      "/home/travis/virtualenv/python3.7.1/lib/python3.7/site-packages/pims/image_reader.py:26: RuntimeWarning: PIMS image_reader.py could not find scikit-image. Falling back to matplotlib's imread(), which uses floats instead of integers. This may break your scripts. \n",
      "(To ignore this warning, include the line \"warnings.simplefilter(\"ignore\", RuntimeWarning)\" in your script.)\n",
      "  warnings.warn(RuntimeWarning(ski_preferred))\n"
     ]
    }
   ],
   "source": [
    "%run scripts/beamline_configuration.py"
   ]
  },
  {
   "cell_type": "markdown",
   "metadata": {},
   "source": [
    "## Quickly access and explore the data\n",
    "\n",
    "Let's take sample data."
   ]
  },
  {
   "cell_type": "code",
   "execution_count": 3,
   "metadata": {
    "execution": {
     "iopub.execute_input": "2021-02-05T23:37:37.711021Z",
     "iopub.status.busy": "2021-02-05T23:37:37.710548Z",
     "iopub.status.idle": "2021-02-05T23:37:37.724353Z",
     "shell.execute_reply": "2021-02-05T23:37:37.724779Z"
    },
    "nbshpinx": "hidden"
   },
   "outputs": [
    {
     "data": {
      "application/vnd.jupyter.widget-view+json": {
       "model_id": "61321d8293c64fc39377f8504f87442e",
       "version_major": 2,
       "version_minor": 0
      },
      "text/plain": [
       "Canvas(toolbar=Toolbar(toolitems=[('Home', 'Reset original view', 'home', 'home'), ('Back', 'Back to previous …"
      ]
     },
     "metadata": {},
     "output_type": "display_data"
    },
    {
     "data": {
      "text/plain": [
       "<Figure size 640x480 with 0 Axes>"
      ]
     },
     "execution_count": 1,
     "metadata": {},
     "output_type": "execute_result"
    }
   ],
   "source": [
    "# Creating a figure explicitly in advance helps with the\n",
    "# top-to-bottom flow of this notebook, but it is not necessary.\n",
    "# If this is omitted, bluesky will cause a figure to appear\n",
    "# during the RE(...) execution below.\n",
    "plt.figure('I slit_det vs motor_slit')"
   ]
  },
  {
   "cell_type": "code",
   "execution_count": 4,
   "metadata": {
    "execution": {
     "iopub.execute_input": "2021-02-05T23:37:37.751835Z",
     "iopub.status.busy": "2021-02-05T23:37:37.751361Z",
     "iopub.status.idle": "2021-02-05T23:37:38.916674Z",
     "shell.execute_reply": "2021-02-05T23:37:38.917060Z"
    }
   },
   "outputs": [
    {
     "name": "stdout",
     "output_type": "stream",
     "text": [
      "\n",
      "\n",
      "Transient Scan ID: 26     Time: 2021-02-05 23:37:37\n",
      "Persistent Unique Scan ID: 'b8d6bdfc-ced0-43b9-bbe4-d982c4b32ee2'\n"
     ]
    },
    {
     "name": "stdout",
     "output_type": "stream",
     "text": [
      "New stream: 'primary'\n"
     ]
    },
    {
     "name": "stdout",
     "output_type": "stream",
     "text": [
      "+-----------+------------+------------+------------+------------+\n",
      "|   seq_num |       time | motor_slit |          I |   slit_det |\n",
      "+-----------+------------+------------+------------+------------+\n",
      "|         1 | 23:37:38.3 |    -10.000 |        520 |       8124 |\n",
      "|         2 | 23:37:38.4 |     -8.571 |        525 |      28581 |\n",
      "|         3 | 23:37:38.4 |     -7.143 |        525 |      60890 |\n",
      "|         4 | 23:37:38.4 |     -5.714 |        525 |      88256 |\n",
      "|         5 | 23:37:38.4 |     -4.286 |        525 |     101653 |\n",
      "|         6 | 23:37:38.4 |     -2.857 |        525 |     105039 |\n",
      "|         7 | 23:37:38.5 |     -1.429 |        525 |     104718 |\n",
      "|         8 | 23:37:38.5 |      0.000 |        525 |     104934 |\n",
      "|         9 | 23:37:38.5 |      1.429 |        525 |     104238 |\n"
     ]
    },
    {
     "name": "stdout",
     "output_type": "stream",
     "text": [
      "|        10 | 23:37:38.6 |      2.857 |        525 |     104280 |\n",
      "|        11 | 23:37:38.6 |      4.286 |        525 |     101426 |\n",
      "|        12 | 23:37:38.6 |      5.714 |        525 |      89014 |\n",
      "|        13 | 23:37:38.6 |      7.143 |        525 |      60639 |\n",
      "|        14 | 23:37:38.6 |      8.571 |        524 |      28565 |\n",
      "|        15 | 23:37:38.7 |     10.000 |        524 |       8206 |\n"
     ]
    },
    {
     "name": "stdout",
     "output_type": "stream",
     "text": [
      "+-----------+------------+------------+------------+------------+\n",
      "generator scan ['b8d6bdfc'] (scan num: 26)\n",
      "\n",
      "\n",
      "\n"
     ]
    },
    {
     "data": {
      "text/plain": [
       "('b8d6bdfc-ced0-43b9-bbe4-d982c4b32ee2',)"
      ]
     },
     "execution_count": 1,
     "metadata": {},
     "output_type": "execute_result"
    }
   ],
   "source": [
    "RE(scan([slit, I], motor_slit, -10, 10, 15))"
   ]
  },
  {
   "cell_type": "code",
   "execution_count": 5,
   "metadata": {
    "execution": {
     "iopub.execute_input": "2021-02-05T23:37:38.928137Z",
     "iopub.status.busy": "2021-02-05T23:37:38.926787Z",
     "iopub.status.idle": "2021-02-05T23:37:39.124750Z",
     "shell.execute_reply": "2021-02-05T23:37:39.125706Z"
    }
   },
   "outputs": [
    {
     "data": {
      "image/png": "[encoded data removed]",
      "text/plain": [
       "<Figure size 500x1000 with 2 Axes>"
      ]
     },
     "execution_count": 1,
     "metadata": {},
     "output_type": "execute_result"
    }
   ],
   "source": [
    "plt.gcf()  # Display a snapshot of the current state of the figure."
   ]
  },
  {
   "cell_type": "markdown",
   "metadata": {},
   "source": [
    "Previously we used the syntax ``db(...)`` to search for Headers. We looped through each Header and extracted some of the metadata encapsulated in it. We use the shorthand ``db[-N]`` to retrieve exactly _one_ header, the one corresponding to ``N`` runs ago. "
   ]
  },
  {
   "cell_type": "code",
   "execution_count": 6,
   "metadata": {
    "execution": {
     "iopub.execute_input": "2021-02-05T23:37:39.302431Z",
     "iopub.status.busy": "2021-02-05T23:37:39.301864Z",
     "iopub.status.idle": "2021-02-05T23:37:39.305174Z",
     "shell.execute_reply": "2021-02-05T23:37:39.305542Z"
    }
   },
   "outputs": [],
   "source": [
    "header = db[-1]  # Header for the most recent one (i.e. 1 run ago)"
   ]
  },
  {
   "cell_type": "markdown",
   "metadata": {},
   "source": [
    "We can access the data as a table. This object is called a ``pandas.DataFrame``, a high-performance, spreadsheet-like object in Python."
   ]
  },
  {
   "cell_type": "code",
   "execution_count": 7,
   "metadata": {
    "execution": {
     "iopub.execute_input": "2021-02-05T23:37:39.325810Z",
     "iopub.status.busy": "2021-02-05T23:37:39.325350Z",
     "iopub.status.idle": "2021-02-05T23:37:39.328491Z",
     "shell.execute_reply": "2021-02-05T23:37:39.328860Z"
    }
   },
   "outputs": [],
   "source": [
    "data = header.table()"
   ]
  },
  {
   "cell_type": "markdown",
   "metadata": {},
   "source": [
    "It display prettily, truncating if needed."
   ]
  },
  {
   "cell_type": "code",
   "execution_count": 8,
   "metadata": {
    "execution": {
     "iopub.execute_input": "2021-02-05T23:37:39.337207Z",
     "iopub.status.busy": "2021-02-05T23:37:39.332353Z",
     "iopub.status.idle": "2021-02-05T23:37:39.345640Z",
     "shell.execute_reply": "2021-02-05T23:37:39.346028Z"
    }
   },
   "outputs": [
    {
     "data": {
      "text/html": [
       "<div>\n",
       "<style scoped>\n",
       "    .dataframe tbody tr th:only-of-type {\n",
       "        vertical-align: middle;\n",
       "    }\n",
       "\n",
       "    .dataframe tbody tr th {\n",
       "        vertical-align: top;\n",
       "    }\n",
       "\n",
       "    .dataframe thead th {\n",
       "        text-align: right;\n",
       "    }\n",
       "</style>\n",
       "<table border=\"1\" class=\"dataframe\">\n",
       "  <thead>\n",
       "    <tr style=\"text-align: right;\">\n",
       "      <th></th>\n",
       "      <th>time</th>\n",
       "      <th>motor_slit</th>\n",
       "      <th>I</th>\n",
       "      <th>slit_det</th>\n",
       "    </tr>\n",
       "    <tr>\n",
       "      <th>seq_num</th>\n",
       "      <th></th>\n",
       "      <th></th>\n",
       "      <th></th>\n",
       "      <th></th>\n",
       "    </tr>\n",
       "  </thead>\n",
       "  <tbody>\n",
       "    <tr>\n",
       "      <th>1</th>\n",
       "      <td>2021-02-05 23:37:38.389346600</td>\n",
       "      <td>-10.000000</td>\n",
       "      <td>520.075350</td>\n",
       "      <td>8124.0</td>\n",
       "    </tr>\n",
       "    <tr>\n",
       "      <th>2</th>\n",
       "      <td>2021-02-05 23:37:38.409563541</td>\n",
       "      <td>-8.571429</td>\n",
       "      <td>524.658077</td>\n",
       "      <td>28581.0</td>\n",
       "    </tr>\n",
       "    <tr>\n",
       "      <th>3</th>\n",
       "      <td>2021-02-05 23:37:38.430296659</td>\n",
       "      <td>-7.142857</td>\n",
       "      <td>524.658077</td>\n",
       "      <td>60890.0</td>\n",
       "    </tr>\n",
       "    <tr>\n",
       "      <th>4</th>\n",
       "      <td>2021-02-05 23:37:38.440378904</td>\n",
       "      <td>-5.714286</td>\n",
       "      <td>524.658077</td>\n",
       "      <td>88256.0</td>\n",
       "    </tr>\n",
       "    <tr>\n",
       "      <th>5</th>\n",
       "      <td>2021-02-05 23:37:38.458956480</td>\n",
       "      <td>-4.285714</td>\n",
       "      <td>524.658077</td>\n",
       "      <td>101653.0</td>\n",
       "    </tr>\n",
       "    <tr>\n",
       "      <th>6</th>\n",
       "      <td>2021-02-05 23:37:38.493736744</td>\n",
       "      <td>-2.857143</td>\n",
       "      <td>524.999316</td>\n",
       "      <td>105039.0</td>\n",
       "    </tr>\n",
       "    <tr>\n",
       "      <th>7</th>\n",
       "      <td>2021-02-05 23:37:38.515125751</td>\n",
       "      <td>-1.428571</td>\n",
       "      <td>524.999316</td>\n",
       "      <td>104718.0</td>\n",
       "    </tr>\n",
       "    <tr>\n",
       "      <th>8</th>\n",
       "      <td>2021-02-05 23:37:38.552740097</td>\n",
       "      <td>0.000000</td>\n",
       "      <td>524.999316</td>\n",
       "      <td>104934.0</td>\n",
       "    </tr>\n",
       "    <tr>\n",
       "      <th>9</th>\n",
       "      <td>2021-02-05 23:37:38.575763702</td>\n",
       "      <td>1.428571</td>\n",
       "      <td>524.999316</td>\n",
       "      <td>104238.0</td>\n",
       "    </tr>\n",
       "    <tr>\n",
       "      <th>10</th>\n",
       "      <td>2021-02-05 23:37:38.601470470</td>\n",
       "      <td>2.857143</td>\n",
       "      <td>524.716645</td>\n",
       "      <td>104280.0</td>\n",
       "    </tr>\n",
       "    <tr>\n",
       "      <th>11</th>\n",
       "      <td>2021-02-05 23:37:38.631326675</td>\n",
       "      <td>4.285714</td>\n",
       "      <td>524.716645</td>\n",
       "      <td>101426.0</td>\n",
       "    </tr>\n",
       "    <tr>\n",
       "      <th>12</th>\n",
       "      <td>2021-02-05 23:37:38.650540590</td>\n",
       "      <td>5.714286</td>\n",
       "      <td>524.716645</td>\n",
       "      <td>89014.0</td>\n",
       "    </tr>\n",
       "    <tr>\n",
       "      <th>13</th>\n",
       "      <td>2021-02-05 23:37:38.671064377</td>\n",
       "      <td>7.142857</td>\n",
       "      <td>524.716645</td>\n",
       "      <td>60639.0</td>\n",
       "    </tr>\n",
       "    <tr>\n",
       "      <th>14</th>\n",
       "      <td>2021-02-05 23:37:38.690957546</td>\n",
       "      <td>8.571429</td>\n",
       "      <td>523.818760</td>\n",
       "      <td>28565.0</td>\n",
       "    </tr>\n",
       "    <tr>\n",
       "      <th>15</th>\n",
       "      <td>2021-02-05 23:37:38.701521158</td>\n",
       "      <td>10.000000</td>\n",
       "      <td>523.818760</td>\n",
       "      <td>8206.0</td>\n",
       "    </tr>\n",
       "  </tbody>\n",
       "</table>\n",
       "</div>"
      ],
      "text/plain": [
       "                                 time  motor_slit           I  slit_det\n",
       "seq_num                                                                \n",
       "1       2021-02-05 23:37:38.389346600  -10.000000  520.075350    8124.0\n",
       "2       2021-02-05 23:37:38.409563541   -8.571429  524.658077   28581.0\n",
       "3       2021-02-05 23:37:38.430296659   -7.142857  524.658077   60890.0\n",
       "4       2021-02-05 23:37:38.440378904   -5.714286  524.658077   88256.0\n",
       "5       2021-02-05 23:37:38.458956480   -4.285714  524.658077  101653.0\n",
       "6       2021-02-05 23:37:38.493736744   -2.857143  524.999316  105039.0\n",
       "7       2021-02-05 23:37:38.515125751   -1.428571  524.999316  104718.0\n",
       "8       2021-02-05 23:37:38.552740097    0.000000  524.999316  104934.0\n",
       "9       2021-02-05 23:37:38.575763702    1.428571  524.999316  104238.0\n",
       "10      2021-02-05 23:37:38.601470470    2.857143  524.716645  104280.0\n",
       "11      2021-02-05 23:37:38.631326675    4.285714  524.716645  101426.0\n",
       "12      2021-02-05 23:37:38.650540590    5.714286  524.716645   89014.0\n",
       "13      2021-02-05 23:37:38.671064377    7.142857  524.716645   60639.0\n",
       "14      2021-02-05 23:37:38.690957546    8.571429  523.818760   28565.0\n",
       "15      2021-02-05 23:37:38.701521158   10.000000  523.818760    8206.0"
      ]
     },
     "execution_count": 1,
     "metadata": {},
     "output_type": "execute_result"
    }
   ],
   "source": [
    "data"
   ]
  },
  {
   "cell_type": "markdown",
   "metadata": {},
   "source": [
    "For large tables, it's handy to know how to ask for just the first or last couple rows."
   ]
  },
  {
   "cell_type": "markdown",
   "metadata": {},
   "source": [
    "It is easy to visualize."
   ]
  },
  {
   "cell_type": "code",
   "execution_count": 9,
   "metadata": {
    "execution": {
     "iopub.execute_input": "2021-02-05T23:37:39.350234Z",
     "iopub.status.busy": "2021-02-05T23:37:39.349452Z",
     "iopub.status.idle": "2021-02-05T23:37:39.414813Z",
     "shell.execute_reply": "2021-02-05T23:37:39.413092Z"
    }
   },
   "outputs": [
    {
     "data": {
      "application/vnd.jupyter.widget-view+json": {
       "model_id": "0edb8cc7039c4649a600f7feebcaacc5",
       "version_major": 2,
       "version_minor": 0
      },
      "text/plain": [
       "Canvas(toolbar=Toolbar(toolitems=[('Home', 'Reset original view', 'home', 'home'), ('Back', 'Back to previous …"
      ]
     },
     "metadata": {},
     "output_type": "display_data"
    },
    {
     "data": {
      "text/plain": [
       "<AxesSubplot:xlabel='motor_slit'>"
      ]
     },
     "execution_count": 1,
     "metadata": {},
     "output_type": "execute_result"
    }
   ],
   "source": [
    "data.plot(x='motor_slit', y='slit_det')"
   ]
  },
  {
   "cell_type": "code",
   "execution_count": 10,
   "metadata": {
    "execution": {
     "iopub.execute_input": "2021-02-05T23:37:39.554350Z",
     "iopub.status.busy": "2021-02-05T23:37:39.553116Z",
     "iopub.status.idle": "2021-02-05T23:37:39.678039Z",
     "shell.execute_reply": "2021-02-05T23:37:39.677293Z"
    }
   },
   "outputs": [
    {
     "data": {
      "image/png": "[encoded data removed]",
      "text/plain": [
       "<Figure size 640x480 with 1 Axes>"
      ]
     },
     "execution_count": 1,
     "metadata": {},
     "output_type": "execute_result"
    }
   ],
   "source": [
    "plt.gcf()  # Display a snapshot of the current state of the figure."
   ]
  },
  {
   "cell_type": "code",
   "execution_count": 11,
   "metadata": {
    "execution": {
     "iopub.execute_input": "2021-02-05T23:37:39.809434Z",
     "iopub.status.busy": "2021-02-05T23:37:39.808963Z",
     "iopub.status.idle": "2021-02-05T23:37:39.814083Z",
     "shell.execute_reply": "2021-02-05T23:37:39.814645Z"
    }
   },
   "outputs": [
    {
     "data": {
      "text/html": [
       "<div>\n",
       "<style scoped>\n",
       "    .dataframe tbody tr th:only-of-type {\n",
       "        vertical-align: middle;\n",
       "    }\n",
       "\n",
       "    .dataframe tbody tr th {\n",
       "        vertical-align: top;\n",
       "    }\n",
       "\n",
       "    .dataframe thead th {\n",
       "        text-align: right;\n",
       "    }\n",
       "</style>\n",
       "<table border=\"1\" class=\"dataframe\">\n",
       "  <thead>\n",
       "    <tr style=\"text-align: right;\">\n",
       "      <th></th>\n",
       "      <th>time</th>\n",
       "      <th>motor_slit</th>\n",
       "      <th>I</th>\n",
       "      <th>slit_det</th>\n",
       "    </tr>\n",
       "    <tr>\n",
       "      <th>seq_num</th>\n",
       "      <th></th>\n",
       "      <th></th>\n",
       "      <th></th>\n",
       "      <th></th>\n",
       "    </tr>\n",
       "  </thead>\n",
       "  <tbody>\n",
       "    <tr>\n",
       "      <th>1</th>\n",
       "      <td>2021-02-05 23:37:38.389346600</td>\n",
       "      <td>-10.000000</td>\n",
       "      <td>520.075350</td>\n",
       "      <td>8124.0</td>\n",
       "    </tr>\n",
       "    <tr>\n",
       "      <th>2</th>\n",
       "      <td>2021-02-05 23:37:38.409563541</td>\n",
       "      <td>-8.571429</td>\n",
       "      <td>524.658077</td>\n",
       "      <td>28581.0</td>\n",
       "    </tr>\n",
       "    <tr>\n",
       "      <th>3</th>\n",
       "      <td>2021-02-05 23:37:38.430296659</td>\n",
       "      <td>-7.142857</td>\n",
       "      <td>524.658077</td>\n",
       "      <td>60890.0</td>\n",
       "    </tr>\n",
       "    <tr>\n",
       "      <th>4</th>\n",
       "      <td>2021-02-05 23:37:38.440378904</td>\n",
       "      <td>-5.714286</td>\n",
       "      <td>524.658077</td>\n",
       "      <td>88256.0</td>\n",
       "    </tr>\n",
       "    <tr>\n",
       "      <th>5</th>\n",
       "      <td>2021-02-05 23:37:38.458956480</td>\n",
       "      <td>-4.285714</td>\n",
       "      <td>524.658077</td>\n",
       "      <td>101653.0</td>\n",
       "    </tr>\n",
       "  </tbody>\n",
       "</table>\n",
       "</div>"
      ],
      "text/plain": [
       "                                 time  motor_slit           I  slit_det\n",
       "seq_num                                                                \n",
       "1       2021-02-05 23:37:38.389346600  -10.000000  520.075350    8124.0\n",
       "2       2021-02-05 23:37:38.409563541   -8.571429  524.658077   28581.0\n",
       "3       2021-02-05 23:37:38.430296659   -7.142857  524.658077   60890.0\n",
       "4       2021-02-05 23:37:38.440378904   -5.714286  524.658077   88256.0\n",
       "5       2021-02-05 23:37:38.458956480   -4.285714  524.658077  101653.0"
      ]
     },
     "execution_count": 1,
     "metadata": {},
     "output_type": "execute_result"
    }
   ],
   "source": [
    "data.head()"
   ]
  },
  {
   "cell_type": "code",
   "execution_count": 12,
   "metadata": {
    "execution": {
     "iopub.execute_input": "2021-02-05T23:37:39.823847Z",
     "iopub.status.busy": "2021-02-05T23:37:39.823249Z",
     "iopub.status.idle": "2021-02-05T23:37:39.826102Z",
     "shell.execute_reply": "2021-02-05T23:37:39.826506Z"
    }
   },
   "outputs": [
    {
     "data": {
      "text/html": [
       "<div>\n",
       "<style scoped>\n",
       "    .dataframe tbody tr th:only-of-type {\n",
       "        vertical-align: middle;\n",
       "    }\n",
       "\n",
       "    .dataframe tbody tr th {\n",
       "        vertical-align: top;\n",
       "    }\n",
       "\n",
       "    .dataframe thead th {\n",
       "        text-align: right;\n",
       "    }\n",
       "</style>\n",
       "<table border=\"1\" class=\"dataframe\">\n",
       "  <thead>\n",
       "    <tr style=\"text-align: right;\">\n",
       "      <th></th>\n",
       "      <th>time</th>\n",
       "      <th>motor_slit</th>\n",
       "      <th>I</th>\n",
       "      <th>slit_det</th>\n",
       "    </tr>\n",
       "    <tr>\n",
       "      <th>seq_num</th>\n",
       "      <th></th>\n",
       "      <th></th>\n",
       "      <th></th>\n",
       "      <th></th>\n",
       "    </tr>\n",
       "  </thead>\n",
       "  <tbody>\n",
       "    <tr>\n",
       "      <th>11</th>\n",
       "      <td>2021-02-05 23:37:38.631326675</td>\n",
       "      <td>4.285714</td>\n",
       "      <td>524.716645</td>\n",
       "      <td>101426.0</td>\n",
       "    </tr>\n",
       "    <tr>\n",
       "      <th>12</th>\n",
       "      <td>2021-02-05 23:37:38.650540590</td>\n",
       "      <td>5.714286</td>\n",
       "      <td>524.716645</td>\n",
       "      <td>89014.0</td>\n",
       "    </tr>\n",
       "    <tr>\n",
       "      <th>13</th>\n",
       "      <td>2021-02-05 23:37:38.671064377</td>\n",
       "      <td>7.142857</td>\n",
       "      <td>524.716645</td>\n",
       "      <td>60639.0</td>\n",
       "    </tr>\n",
       "    <tr>\n",
       "      <th>14</th>\n",
       "      <td>2021-02-05 23:37:38.690957546</td>\n",
       "      <td>8.571429</td>\n",
       "      <td>523.818760</td>\n",
       "      <td>28565.0</td>\n",
       "    </tr>\n",
       "    <tr>\n",
       "      <th>15</th>\n",
       "      <td>2021-02-05 23:37:38.701521158</td>\n",
       "      <td>10.000000</td>\n",
       "      <td>523.818760</td>\n",
       "      <td>8206.0</td>\n",
       "    </tr>\n",
       "  </tbody>\n",
       "</table>\n",
       "</div>"
      ],
      "text/plain": [
       "                                 time  motor_slit           I  slit_det\n",
       "seq_num                                                                \n",
       "11      2021-02-05 23:37:38.631326675    4.285714  524.716645  101426.0\n",
       "12      2021-02-05 23:37:38.650540590    5.714286  524.716645   89014.0\n",
       "13      2021-02-05 23:37:38.671064377    7.142857  524.716645   60639.0\n",
       "14      2021-02-05 23:37:38.690957546    8.571429  523.818760   28565.0\n",
       "15      2021-02-05 23:37:38.701521158   10.000000  523.818760    8206.0"
      ]
     },
     "execution_count": 1,
     "metadata": {},
     "output_type": "execute_result"
    }
   ],
   "source": [
    "data.tail()"
   ]
  },
  {
   "cell_type": "markdown",
   "metadata": {},
   "source": [
    "Statistics on columns are simple to compute."
   ]
  },
  {
   "cell_type": "code",
   "execution_count": 13,
   "metadata": {
    "execution": {
     "iopub.execute_input": "2021-02-05T23:37:39.830674Z",
     "iopub.status.busy": "2021-02-05T23:37:39.829813Z",
     "iopub.status.idle": "2021-02-05T23:37:39.836661Z",
     "shell.execute_reply": "2021-02-05T23:37:39.837050Z"
    }
   },
   "outputs": [
    {
     "name": "stderr",
     "output_type": "stream",
     "text": [
      "/home/travis/virtualenv/python3.7.1/lib/python3.7/site-packages/ipykernel_launcher.py:1: FutureWarning: DataFrame.mean and DataFrame.median with numeric_only=None will include datetime64 and datetime64tz columns in a future version.\n",
      "  \"\"\"Entry point for launching an IPython kernel.\n"
     ]
    },
    {
     "data": {
      "text/plain": [
       "motor_slit    4.736952e-16\n",
       "I             5.243473e+02\n",
       "slit_det      7.323753e+04\n",
       "dtype: float64"
      ]
     },
     "execution_count": 1,
     "metadata": {},
     "output_type": "execute_result"
    }
   ],
   "source": [
    "data.mean()"
   ]
  },
  {
   "cell_type": "code",
   "execution_count": 14,
   "metadata": {
    "execution": {
     "iopub.execute_input": "2021-02-05T23:37:39.843672Z",
     "iopub.status.busy": "2021-02-05T23:37:39.842714Z",
     "iopub.status.idle": "2021-02-05T23:37:39.845585Z",
     "shell.execute_reply": "2021-02-05T23:37:39.846028Z"
    }
   },
   "outputs": [
    {
     "data": {
      "text/plain": [
       "time          2021-02-05 23:37:38.389346600\n",
       "motor_slit                            -10.0\n",
       "I                                 520.07535\n",
       "slit_det                             8124.0\n",
       "dtype: object"
      ]
     },
     "execution_count": 1,
     "metadata": {},
     "output_type": "execute_result"
    }
   ],
   "source": [
    "data.min()"
   ]
  },
  {
   "cell_type": "markdown",
   "metadata": {},
   "source": [
    "Or just ask for all the common stats at once:"
   ]
  },
  {
   "cell_type": "code",
   "execution_count": 15,
   "metadata": {
    "execution": {
     "iopub.execute_input": "2021-02-05T23:37:39.852362Z",
     "iopub.status.busy": "2021-02-05T23:37:39.851552Z",
     "iopub.status.idle": "2021-02-05T23:37:39.866640Z",
     "shell.execute_reply": "2021-02-05T23:37:39.867049Z"
    }
   },
   "outputs": [
    {
     "data": {
      "text/html": [
       "<div>\n",
       "<style scoped>\n",
       "    .dataframe tbody tr th:only-of-type {\n",
       "        vertical-align: middle;\n",
       "    }\n",
       "\n",
       "    .dataframe tbody tr th {\n",
       "        vertical-align: top;\n",
       "    }\n",
       "\n",
       "    .dataframe thead th {\n",
       "        text-align: right;\n",
       "    }\n",
       "</style>\n",
       "<table border=\"1\" class=\"dataframe\">\n",
       "  <thead>\n",
       "    <tr style=\"text-align: right;\">\n",
       "      <th></th>\n",
       "      <th>motor_slit</th>\n",
       "      <th>I</th>\n",
       "      <th>slit_det</th>\n",
       "    </tr>\n",
       "  </thead>\n",
       "  <tbody>\n",
       "    <tr>\n",
       "      <th>count</th>\n",
       "      <td>1.500000e+01</td>\n",
       "      <td>15.000000</td>\n",
       "      <td>15.000000</td>\n",
       "    </tr>\n",
       "    <tr>\n",
       "      <th>mean</th>\n",
       "      <td>4.736952e-16</td>\n",
       "      <td>524.347268</td>\n",
       "      <td>73237.533333</td>\n",
       "    </tr>\n",
       "    <tr>\n",
       "      <th>std</th>\n",
       "      <td>6.388766e+00</td>\n",
       "      <td>1.237531</td>\n",
       "      <td>37586.149377</td>\n",
       "    </tr>\n",
       "    <tr>\n",
       "      <th>min</th>\n",
       "      <td>-1.000000e+01</td>\n",
       "      <td>520.075350</td>\n",
       "      <td>8124.000000</td>\n",
       "    </tr>\n",
       "    <tr>\n",
       "      <th>25%</th>\n",
       "      <td>-5.000000e+00</td>\n",
       "      <td>524.658077</td>\n",
       "      <td>44610.000000</td>\n",
       "    </tr>\n",
       "    <tr>\n",
       "      <th>50%</th>\n",
       "      <td>0.000000e+00</td>\n",
       "      <td>524.716645</td>\n",
       "      <td>89014.000000</td>\n",
       "    </tr>\n",
       "    <tr>\n",
       "      <th>75%</th>\n",
       "      <td>5.000000e+00</td>\n",
       "      <td>524.857980</td>\n",
       "      <td>104259.000000</td>\n",
       "    </tr>\n",
       "    <tr>\n",
       "      <th>max</th>\n",
       "      <td>1.000000e+01</td>\n",
       "      <td>524.999316</td>\n",
       "      <td>105039.000000</td>\n",
       "    </tr>\n",
       "  </tbody>\n",
       "</table>\n",
       "</div>"
      ],
      "text/plain": [
       "         motor_slit           I       slit_det\n",
       "count  1.500000e+01   15.000000      15.000000\n",
       "mean   4.736952e-16  524.347268   73237.533333\n",
       "std    6.388766e+00    1.237531   37586.149377\n",
       "min   -1.000000e+01  520.075350    8124.000000\n",
       "25%   -5.000000e+00  524.658077   44610.000000\n",
       "50%    0.000000e+00  524.716645   89014.000000\n",
       "75%    5.000000e+00  524.857980  104259.000000\n",
       "max    1.000000e+01  524.999316  105039.000000"
      ]
     },
     "execution_count": 1,
     "metadata": {},
     "output_type": "execute_result"
    }
   ],
   "source": [
    "data.describe()"
   ]
  },
  {
   "cell_type": "markdown",
   "metadata": {},
   "source": [
    "## Do analysis, and plot\n",
    "\n",
    "### Normalize by beam current"
   ]
  },
  {
   "cell_type": "markdown",
   "metadata": {},
   "source": [
    "We can do math on the columns, and we can add new columns."
   ]
  },
  {
   "cell_type": "code",
   "execution_count": 16,
   "metadata": {
    "execution": {
     "iopub.execute_input": "2021-02-05T23:37:39.871731Z",
     "iopub.status.busy": "2021-02-05T23:37:39.870916Z",
     "iopub.status.idle": "2021-02-05T23:37:39.874952Z",
     "shell.execute_reply": "2021-02-05T23:37:39.875313Z"
    }
   },
   "outputs": [],
   "source": [
    "data['normalized'] = data['slit_det'] / data['I'] * data['I'].mean()"
   ]
  },
  {
   "cell_type": "markdown",
   "metadata": {},
   "source": [
    "We can plot them conveniently, addressing the columns by name."
   ]
  },
  {
   "cell_type": "code",
   "execution_count": 17,
   "metadata": {
    "execution": {
     "iopub.execute_input": "2021-02-05T23:37:39.889458Z",
     "iopub.status.busy": "2021-02-05T23:37:39.888472Z",
     "iopub.status.idle": "2021-02-05T23:37:39.901039Z",
     "shell.execute_reply": "2021-02-05T23:37:39.895602Z"
    }
   },
   "outputs": [
    {
     "data": {
      "application/vnd.jupyter.widget-view+json": {
       "model_id": "222874cd05134c9d971f85b9a71dc22c",
       "version_major": 2,
       "version_minor": 0
      },
      "text/plain": [
       "Canvas(toolbar=Toolbar(toolitems=[('Home', 'Reset original view', 'home', 'home'), ('Back', 'Back to previous …"
      ]
     },
     "metadata": {},
     "output_type": "display_data"
    },
    {
     "data": {
      "text/plain": [
       "<Figure size 640x480 with 0 Axes>"
      ]
     },
     "execution_count": 1,
     "metadata": {},
     "output_type": "execute_result"
    }
   ],
   "source": [
    "plt.figure()"
   ]
  },
  {
   "cell_type": "code",
   "execution_count": 18,
   "metadata": {
    "execution": {
     "iopub.execute_input": "2021-02-05T23:37:39.955477Z",
     "iopub.status.busy": "2021-02-05T23:37:39.954528Z",
     "iopub.status.idle": "2021-02-05T23:37:40.147984Z",
     "shell.execute_reply": "2021-02-05T23:37:40.147247Z"
    }
   },
   "outputs": [
    {
     "data": {
      "image/png": "[encoded data removed]",
      "text/plain": [
       "<Figure size 640x480 with 1 Axes>"
      ]
     },
     "execution_count": 1,
     "metadata": {},
     "output_type": "execute_result"
    }
   ],
   "source": [
    "plt.plot('motor_slit', 'slit_det', data=data, label='raw')\n",
    "plt.plot('motor_slit', 'normalized', data=data, label='normalized')\n",
    "plt.legend()\n",
    "plt.gcf()"
   ]
  },
  {
   "cell_type": "markdown",
   "metadata": {},
   "source": [
    "### Select only rows with high beam current"
   ]
  },
  {
   "cell_type": "markdown",
   "metadata": {},
   "source": [
    "Select rows where the current is above `500`."
   ]
  },
  {
   "cell_type": "code",
   "execution_count": 19,
   "metadata": {
    "execution": {
     "iopub.execute_input": "2021-02-05T23:37:40.287703Z",
     "iopub.status.busy": "2021-02-05T23:37:40.287170Z",
     "iopub.status.idle": "2021-02-05T23:37:40.289895Z",
     "shell.execute_reply": "2021-02-05T23:37:40.290465Z"
    }
   },
   "outputs": [
    {
     "data": {
      "text/html": [
       "<div>\n",
       "<style scoped>\n",
       "    .dataframe tbody tr th:only-of-type {\n",
       "        vertical-align: middle;\n",
       "    }\n",
       "\n",
       "    .dataframe tbody tr th {\n",
       "        vertical-align: top;\n",
       "    }\n",
       "\n",
       "    .dataframe thead th {\n",
       "        text-align: right;\n",
       "    }\n",
       "</style>\n",
       "<table border=\"1\" class=\"dataframe\">\n",
       "  <thead>\n",
       "    <tr style=\"text-align: right;\">\n",
       "      <th></th>\n",
       "      <th>time</th>\n",
       "      <th>motor_slit</th>\n",
       "      <th>I</th>\n",
       "      <th>slit_det</th>\n",
       "      <th>normalized</th>\n",
       "    </tr>\n",
       "    <tr>\n",
       "      <th>seq_num</th>\n",
       "      <th></th>\n",
       "      <th></th>\n",
       "      <th></th>\n",
       "      <th></th>\n",
       "      <th></th>\n",
       "    </tr>\n",
       "  </thead>\n",
       "  <tbody>\n",
       "    <tr>\n",
       "      <th>1</th>\n",
       "      <td>2021-02-05 23:37:38.389346600</td>\n",
       "      <td>-10.000000</td>\n",
       "      <td>520.075350</td>\n",
       "      <td>8124.0</td>\n",
       "      <td>8190.730836</td>\n",
       "    </tr>\n",
       "    <tr>\n",
       "      <th>2</th>\n",
       "      <td>2021-02-05 23:37:38.409563541</td>\n",
       "      <td>-8.571429</td>\n",
       "      <td>524.658077</td>\n",
       "      <td>28581.0</td>\n",
       "      <td>28564.068513</td>\n",
       "    </tr>\n",
       "    <tr>\n",
       "      <th>3</th>\n",
       "      <td>2021-02-05 23:37:38.430296659</td>\n",
       "      <td>-7.142857</td>\n",
       "      <td>524.658077</td>\n",
       "      <td>60890.0</td>\n",
       "      <td>60853.928545</td>\n",
       "    </tr>\n",
       "    <tr>\n",
       "      <th>4</th>\n",
       "      <td>2021-02-05 23:37:38.440378904</td>\n",
       "      <td>-5.714286</td>\n",
       "      <td>524.658077</td>\n",
       "      <td>88256.0</td>\n",
       "      <td>88203.716828</td>\n",
       "    </tr>\n",
       "    <tr>\n",
       "      <th>5</th>\n",
       "      <td>2021-02-05 23:37:38.458956480</td>\n",
       "      <td>-4.285714</td>\n",
       "      <td>524.658077</td>\n",
       "      <td>101653.0</td>\n",
       "      <td>101592.780396</td>\n",
       "    </tr>\n",
       "    <tr>\n",
       "      <th>6</th>\n",
       "      <td>2021-02-05 23:37:38.493736744</td>\n",
       "      <td>-2.857143</td>\n",
       "      <td>524.999316</td>\n",
       "      <td>105039.0</td>\n",
       "      <td>104908.541824</td>\n",
       "    </tr>\n",
       "    <tr>\n",
       "      <th>7</th>\n",
       "      <td>2021-02-05 23:37:38.515125751</td>\n",
       "      <td>-1.428571</td>\n",
       "      <td>524.999316</td>\n",
       "      <td>104718.0</td>\n",
       "      <td>104587.940505</td>\n",
       "    </tr>\n",
       "    <tr>\n",
       "      <th>8</th>\n",
       "      <td>2021-02-05 23:37:38.552740097</td>\n",
       "      <td>0.000000</td>\n",
       "      <td>524.999316</td>\n",
       "      <td>104934.0</td>\n",
       "      <td>104803.672233</td>\n",
       "    </tr>\n",
       "    <tr>\n",
       "      <th>9</th>\n",
       "      <td>2021-02-05 23:37:38.575763702</td>\n",
       "      <td>1.428571</td>\n",
       "      <td>524.999316</td>\n",
       "      <td>104238.0</td>\n",
       "      <td>104108.536664</td>\n",
       "    </tr>\n",
       "    <tr>\n",
       "      <th>10</th>\n",
       "      <td>2021-02-05 23:37:38.601470470</td>\n",
       "      <td>2.857143</td>\n",
       "      <td>524.716645</td>\n",
       "      <td>104280.0</td>\n",
       "      <td>104206.591626</td>\n",
       "    </tr>\n",
       "    <tr>\n",
       "      <th>11</th>\n",
       "      <td>2021-02-05 23:37:38.631326675</td>\n",
       "      <td>4.285714</td>\n",
       "      <td>524.716645</td>\n",
       "      <td>101426.0</td>\n",
       "      <td>101354.600712</td>\n",
       "    </tr>\n",
       "    <tr>\n",
       "      <th>12</th>\n",
       "      <td>2021-02-05 23:37:38.650540590</td>\n",
       "      <td>5.714286</td>\n",
       "      <td>524.716645</td>\n",
       "      <td>89014.0</td>\n",
       "      <td>88951.338195</td>\n",
       "    </tr>\n",
       "    <tr>\n",
       "      <th>13</th>\n",
       "      <td>2021-02-05 23:37:38.671064377</td>\n",
       "      <td>7.142857</td>\n",
       "      <td>524.716645</td>\n",
       "      <td>60639.0</td>\n",
       "      <td>60596.312904</td>\n",
       "    </tr>\n",
       "    <tr>\n",
       "      <th>14</th>\n",
       "      <td>2021-02-05 23:37:38.690957546</td>\n",
       "      <td>8.571429</td>\n",
       "      <td>523.818760</td>\n",
       "      <td>28565.0</td>\n",
       "      <td>28593.820746</td>\n",
       "    </tr>\n",
       "    <tr>\n",
       "      <th>15</th>\n",
       "      <td>2021-02-05 23:37:38.701521158</td>\n",
       "      <td>10.000000</td>\n",
       "      <td>523.818760</td>\n",
       "      <td>8206.0</td>\n",
       "      <td>8214.279469</td>\n",
       "    </tr>\n",
       "  </tbody>\n",
       "</table>\n",
       "</div>"
      ],
      "text/plain": [
       "                                 time  motor_slit           I  slit_det  \\\n",
       "seq_num                                                                   \n",
       "1       2021-02-05 23:37:38.389346600  -10.000000  520.075350    8124.0   \n",
       "2       2021-02-05 23:37:38.409563541   -8.571429  524.658077   28581.0   \n",
       "3       2021-02-05 23:37:38.430296659   -7.142857  524.658077   60890.0   \n",
       "4       2021-02-05 23:37:38.440378904   -5.714286  524.658077   88256.0   \n",
       "5       2021-02-05 23:37:38.458956480   -4.285714  524.658077  101653.0   \n",
       "6       2021-02-05 23:37:38.493736744   -2.857143  524.999316  105039.0   \n",
       "7       2021-02-05 23:37:38.515125751   -1.428571  524.999316  104718.0   \n",
       "8       2021-02-05 23:37:38.552740097    0.000000  524.999316  104934.0   \n",
       "9       2021-02-05 23:37:38.575763702    1.428571  524.999316  104238.0   \n",
       "10      2021-02-05 23:37:38.601470470    2.857143  524.716645  104280.0   \n",
       "11      2021-02-05 23:37:38.631326675    4.285714  524.716645  101426.0   \n",
       "12      2021-02-05 23:37:38.650540590    5.714286  524.716645   89014.0   \n",
       "13      2021-02-05 23:37:38.671064377    7.142857  524.716645   60639.0   \n",
       "14      2021-02-05 23:37:38.690957546    8.571429  523.818760   28565.0   \n",
       "15      2021-02-05 23:37:38.701521158   10.000000  523.818760    8206.0   \n",
       "\n",
       "            normalized  \n",
       "seq_num                 \n",
       "1          8190.730836  \n",
       "2         28564.068513  \n",
       "3         60853.928545  \n",
       "4         88203.716828  \n",
       "5        101592.780396  \n",
       "6        104908.541824  \n",
       "7        104587.940505  \n",
       "8        104803.672233  \n",
       "9        104108.536664  \n",
       "10       104206.591626  \n",
       "11       101354.600712  \n",
       "12        88951.338195  \n",
       "13        60596.312904  \n",
       "14        28593.820746  \n",
       "15         8214.279469  "
      ]
     },
     "execution_count": 1,
     "metadata": {},
     "output_type": "execute_result"
    }
   ],
   "source": [
    "data[data['I'] > 500]"
   ]
  },
  {
   "cell_type": "markdown",
   "metadata": {},
   "source": [
    "...or, where the the current is above the 30th percentile."
   ]
  },
  {
   "cell_type": "code",
   "execution_count": 20,
   "metadata": {
    "execution": {
     "iopub.execute_input": "2021-02-05T23:37:40.302661Z",
     "iopub.status.busy": "2021-02-05T23:37:40.294410Z",
     "iopub.status.idle": "2021-02-05T23:37:40.305064Z",
     "shell.execute_reply": "2021-02-05T23:37:40.305470Z"
    }
   },
   "outputs": [
    {
     "data": {
      "text/html": [
       "<div>\n",
       "<style scoped>\n",
       "    .dataframe tbody tr th:only-of-type {\n",
       "        vertical-align: middle;\n",
       "    }\n",
       "\n",
       "    .dataframe tbody tr th {\n",
       "        vertical-align: top;\n",
       "    }\n",
       "\n",
       "    .dataframe thead th {\n",
       "        text-align: right;\n",
       "    }\n",
       "</style>\n",
       "<table border=\"1\" class=\"dataframe\">\n",
       "  <thead>\n",
       "    <tr style=\"text-align: right;\">\n",
       "      <th></th>\n",
       "      <th>time</th>\n",
       "      <th>motor_slit</th>\n",
       "      <th>I</th>\n",
       "      <th>slit_det</th>\n",
       "      <th>normalized</th>\n",
       "    </tr>\n",
       "    <tr>\n",
       "      <th>seq_num</th>\n",
       "      <th></th>\n",
       "      <th></th>\n",
       "      <th></th>\n",
       "      <th></th>\n",
       "      <th></th>\n",
       "    </tr>\n",
       "  </thead>\n",
       "  <tbody>\n",
       "    <tr>\n",
       "      <th>6</th>\n",
       "      <td>2021-02-05 23:37:38.493736744</td>\n",
       "      <td>-2.857143</td>\n",
       "      <td>524.999316</td>\n",
       "      <td>105039.0</td>\n",
       "      <td>104908.541824</td>\n",
       "    </tr>\n",
       "    <tr>\n",
       "      <th>7</th>\n",
       "      <td>2021-02-05 23:37:38.515125751</td>\n",
       "      <td>-1.428571</td>\n",
       "      <td>524.999316</td>\n",
       "      <td>104718.0</td>\n",
       "      <td>104587.940505</td>\n",
       "    </tr>\n",
       "    <tr>\n",
       "      <th>8</th>\n",
       "      <td>2021-02-05 23:37:38.552740097</td>\n",
       "      <td>0.000000</td>\n",
       "      <td>524.999316</td>\n",
       "      <td>104934.0</td>\n",
       "      <td>104803.672233</td>\n",
       "    </tr>\n",
       "    <tr>\n",
       "      <th>9</th>\n",
       "      <td>2021-02-05 23:37:38.575763702</td>\n",
       "      <td>1.428571</td>\n",
       "      <td>524.999316</td>\n",
       "      <td>104238.0</td>\n",
       "      <td>104108.536664</td>\n",
       "    </tr>\n",
       "    <tr>\n",
       "      <th>10</th>\n",
       "      <td>2021-02-05 23:37:38.601470470</td>\n",
       "      <td>2.857143</td>\n",
       "      <td>524.716645</td>\n",
       "      <td>104280.0</td>\n",
       "      <td>104206.591626</td>\n",
       "    </tr>\n",
       "    <tr>\n",
       "      <th>11</th>\n",
       "      <td>2021-02-05 23:37:38.631326675</td>\n",
       "      <td>4.285714</td>\n",
       "      <td>524.716645</td>\n",
       "      <td>101426.0</td>\n",
       "      <td>101354.600712</td>\n",
       "    </tr>\n",
       "    <tr>\n",
       "      <th>12</th>\n",
       "      <td>2021-02-05 23:37:38.650540590</td>\n",
       "      <td>5.714286</td>\n",
       "      <td>524.716645</td>\n",
       "      <td>89014.0</td>\n",
       "      <td>88951.338195</td>\n",
       "    </tr>\n",
       "    <tr>\n",
       "      <th>13</th>\n",
       "      <td>2021-02-05 23:37:38.671064377</td>\n",
       "      <td>7.142857</td>\n",
       "      <td>524.716645</td>\n",
       "      <td>60639.0</td>\n",
       "      <td>60596.312904</td>\n",
       "    </tr>\n",
       "  </tbody>\n",
       "</table>\n",
       "</div>"
      ],
      "text/plain": [
       "                                 time  motor_slit           I  slit_det  \\\n",
       "seq_num                                                                   \n",
       "6       2021-02-05 23:37:38.493736744   -2.857143  524.999316  105039.0   \n",
       "7       2021-02-05 23:37:38.515125751   -1.428571  524.999316  104718.0   \n",
       "8       2021-02-05 23:37:38.552740097    0.000000  524.999316  104934.0   \n",
       "9       2021-02-05 23:37:38.575763702    1.428571  524.999316  104238.0   \n",
       "10      2021-02-05 23:37:38.601470470    2.857143  524.716645  104280.0   \n",
       "11      2021-02-05 23:37:38.631326675    4.285714  524.716645  101426.0   \n",
       "12      2021-02-05 23:37:38.650540590    5.714286  524.716645   89014.0   \n",
       "13      2021-02-05 23:37:38.671064377    7.142857  524.716645   60639.0   \n",
       "\n",
       "            normalized  \n",
       "seq_num                 \n",
       "6        104908.541824  \n",
       "7        104587.940505  \n",
       "8        104803.672233  \n",
       "9        104108.536664  \n",
       "10       104206.591626  \n",
       "11       101354.600712  \n",
       "12        88951.338195  \n",
       "13        60596.312904  "
      ]
     },
     "execution_count": 1,
     "metadata": {},
     "output_type": "execute_result"
    }
   ],
   "source": [
    "data[data['I'] > data['I'].quantile(0.30)]"
   ]
  },
  {
   "cell_type": "markdown",
   "metadata": {},
   "source": [
    "...and plot just those rows, using a marker so it is easy to see which points have been disqualified due to low current."
   ]
  },
  {
   "cell_type": "code",
   "execution_count": 21,
   "metadata": {
    "execution": {
     "iopub.execute_input": "2021-02-05T23:37:40.324851Z",
     "iopub.status.busy": "2021-02-05T23:37:40.323840Z",
     "iopub.status.idle": "2021-02-05T23:37:40.363830Z",
     "shell.execute_reply": "2021-02-05T23:37:40.362103Z"
    }
   },
   "outputs": [
    {
     "data": {
      "application/vnd.jupyter.widget-view+json": {
       "model_id": "cb9ff09eb6cf409bb0e3b60d81ea688f",
       "version_major": 2,
       "version_minor": 0
      },
      "text/plain": [
       "Canvas(toolbar=Toolbar(toolitems=[('Home', 'Reset original view', 'home', 'home'), ('Back', 'Back to previous …"
      ]
     },
     "metadata": {},
     "output_type": "display_data"
    },
    {
     "data": {
      "text/plain": [
       "<AxesSubplot:xlabel='motor_slit'>"
      ]
     },
     "execution_count": 1,
     "metadata": {},
     "output_type": "execute_result"
    }
   ],
   "source": [
    "data[data['I'] > data['I'].quantile(0.30)].plot(x='motor_slit', y='slit_det', marker='o')"
   ]
  },
  {
   "cell_type": "markdown",
   "metadata": {},
   "source": [
    "### Histogram the current"
   ]
  },
  {
   "cell_type": "code",
   "execution_count": 22,
   "metadata": {
    "execution": {
     "iopub.execute_input": "2021-02-05T23:37:40.497178Z",
     "iopub.status.busy": "2021-02-05T23:37:40.496678Z",
     "iopub.status.idle": "2021-02-05T23:37:40.506144Z",
     "shell.execute_reply": "2021-02-05T23:37:40.506582Z"
    }
   },
   "outputs": [
    {
     "data": {
      "application/vnd.jupyter.widget-view+json": {
       "model_id": "e3dd1315d89d49d3888190e60cde2a8f",
       "version_major": 2,
       "version_minor": 0
      },
      "text/plain": [
       "Canvas(toolbar=Toolbar(toolitems=[('Home', 'Reset original view', 'home', 'home'), ('Back', 'Back to previous …"
      ]
     },
     "metadata": {},
     "output_type": "display_data"
    },
    {
     "data": {
      "text/plain": [
       "<Figure size 640x480 with 0 Axes>"
      ]
     },
     "execution_count": 1,
     "metadata": {},
     "output_type": "execute_result"
    }
   ],
   "source": [
    "plt.figure()"
   ]
  },
  {
   "cell_type": "code",
   "execution_count": 23,
   "metadata": {
    "execution": {
     "iopub.execute_input": "2021-02-05T23:37:40.518178Z",
     "iopub.status.busy": "2021-02-05T23:37:40.517366Z",
     "iopub.status.idle": "2021-02-05T23:37:40.769247Z",
     "shell.execute_reply": "2021-02-05T23:37:40.765544Z"
    }
   },
   "outputs": [
    {
     "data": {
      "image/png": "[encoded data removed]",
      "text/plain": [
       "<Figure size 640x480 with 1 Axes>"
      ]
     },
     "execution_count": 1,
     "metadata": {},
     "output_type": "execute_result"
    }
   ],
   "source": [
    "plt.hist(data['I'], bins='auto')\n",
    "plt.xlabel('current')\n",
    "plt.ylabel('count')\n",
    "plt.gcf()"
   ]
  },
  {
   "cell_type": "markdown",
   "metadata": {},
   "source": [
    "Not enough data to be interesting. Try collecting a bunch of current data by itself and then try this again."
   ]
  },
  {
   "cell_type": "code",
   "execution_count": 24,
   "metadata": {
    "execution": {
     "iopub.execute_input": "2021-02-05T23:37:40.905071Z",
     "iopub.status.busy": "2021-02-05T23:37:40.904586Z",
     "iopub.status.idle": "2021-02-05T23:37:40.914689Z",
     "shell.execute_reply": "2021-02-05T23:37:40.913088Z"
    }
   },
   "outputs": [
    {
     "data": {
      "application/vnd.jupyter.widget-view+json": {
       "model_id": "8bf3974e4dbd4bf0b2bf14b0038c1651",
       "version_major": 2,
       "version_minor": 0
      },
      "text/plain": [
       "Canvas(toolbar=Toolbar(toolitems=[('Home', 'Reset original view', 'home', 'home'), ('Back', 'Back to previous …"
      ]
     },
     "metadata": {},
     "output_type": "display_data"
    },
    {
     "data": {
      "text/plain": [
       "<Figure size 640x480 with 0 Axes>"
      ]
     },
     "execution_count": 1,
     "metadata": {},
     "output_type": "execute_result"
    }
   ],
   "source": [
    "# Creating a figure explicitly in advance helps with the\n",
    "# top-to-bottom flow of this notebook, but it is not necessary.\n",
    "# If this is omitted, bluesky will cause a figure to appear\n",
    "# during the RE(...) execution below.\n",
    "plt.figure(\"I vs time\")"
   ]
  },
  {
   "cell_type": "code",
   "execution_count": 25,
   "metadata": {
    "execution": {
     "iopub.execute_input": "2021-02-05T23:37:40.926426Z",
     "iopub.status.busy": "2021-02-05T23:37:40.921999Z",
     "iopub.status.idle": "2021-02-05T23:38:01.292344Z",
     "shell.execute_reply": "2021-02-05T23:38:01.292784Z"
    }
   },
   "outputs": [
    {
     "name": "stdout",
     "output_type": "stream",
     "text": [
      "\n",
      "\n",
      "Transient Scan ID: 27     Time: 2021-02-05 23:37:40\n",
      "Persistent Unique Scan ID: '8c270527-1182-48f2-88aa-aa2c930301f6'\n",
      "New stream: 'primary'\n",
      "+-----------+------------+------------+\n",
      "|   seq_num |       time |          I |\n",
      "+-----------+------------+------------+\n",
      "|         1 | 23:37:40.9 |        480 |\n",
      "|         2 | 23:37:41.0 |        483 |\n"
     ]
    },
    {
     "name": "stdout",
     "output_type": "stream",
     "text": [
      "|         3 | 23:37:41.1 |        486 |\n",
      "|         4 | 23:37:41.2 |        489 |\n",
      "|         5 | 23:37:41.3 |        493 |\n"
     ]
    },
    {
     "name": "stdout",
     "output_type": "stream",
     "text": [
      "|         6 | 23:37:41.4 |        497 |\n",
      "|         7 | 23:37:41.5 |        501 |\n"
     ]
    },
    {
     "name": "stdout",
     "output_type": "stream",
     "text": [
      "|         8 | 23:37:41.6 |        505 |\n",
      "|         9 | 23:37:41.7 |        508 |\n",
      "|        10 | 23:37:41.8 |        512 |\n"
     ]
    },
    {
     "name": "stdout",
     "output_type": "stream",
     "text": [
      "|        11 | 23:37:41.9 |        515 |\n",
      "|        12 | 23:37:42.0 |        518 |\n",
      "|        13 | 23:37:42.1 |        521 |\n"
     ]
    },
    {
     "name": "stdout",
     "output_type": "stream",
     "text": [
      "|        14 | 23:37:42.2 |        523 |\n",
      "|        15 | 23:37:42.3 |        524 |\n"
     ]
    },
    {
     "name": "stdout",
     "output_type": "stream",
     "text": [
      "|        16 | 23:37:42.4 |        525 |\n",
      "|        17 | 23:37:42.5 |        525 |\n",
      "|        18 | 23:37:42.6 |        525 |\n"
     ]
    },
    {
     "name": "stdout",
     "output_type": "stream",
     "text": [
      "|        19 | 23:37:42.7 |        523 |\n",
      "|        20 | 23:37:42.8 |        522 |\n"
     ]
    },
    {
     "name": "stdout",
     "output_type": "stream",
     "text": [
      "|        21 | 23:37:42.9 |        520 |\n",
      "|        22 | 23:37:43.0 |        517 |\n",
      "|        23 | 23:37:43.1 |        514 |\n"
     ]
    },
    {
     "name": "stdout",
     "output_type": "stream",
     "text": [
      "|        24 | 23:37:43.2 |        510 |\n",
      "|        25 | 23:37:43.3 |        507 |\n"
     ]
    },
    {
     "name": "stdout",
     "output_type": "stream",
     "text": [
      "|        26 | 23:37:43.4 |        503 |\n",
      "|        27 | 23:37:43.5 |        499 |\n",
      "|        28 | 23:37:43.6 |        495 |\n",
      "|        29 | 23:37:43.7 |        491 |\n"
     ]
    },
    {
     "name": "stdout",
     "output_type": "stream",
     "text": [
      "|        30 | 23:37:43.8 |        487 |\n",
      "|        31 | 23:37:43.9 |        484 |\n",
      "|        32 | 23:37:44.0 |        481 |\n"
     ]
    },
    {
     "name": "stdout",
     "output_type": "stream",
     "text": [
      "|        33 | 23:37:44.1 |        479 |\n",
      "|        34 | 23:37:44.2 |        477 |\n"
     ]
    },
    {
     "name": "stdout",
     "output_type": "stream",
     "text": [
      "|        35 | 23:37:44.3 |        476 |\n",
      "|        36 | 23:37:44.4 |        475 |\n",
      "|        37 | 23:37:44.5 |        475 |\n"
     ]
    },
    {
     "name": "stdout",
     "output_type": "stream",
     "text": [
      "|        38 | 23:37:44.6 |        476 |\n",
      "|        39 | 23:37:44.7 |        477 |\n",
      "|        40 | 23:37:44.8 |        479 |\n"
     ]
    },
    {
     "name": "stdout",
     "output_type": "stream",
     "text": [
      "|        41 | 23:37:44.9 |        481 |\n",
      "|        42 | 23:37:45.0 |        484 |\n",
      "|        43 | 23:37:45.1 |        487 |\n"
     ]
    },
    {
     "name": "stdout",
     "output_type": "stream",
     "text": [
      "|        44 | 23:37:45.2 |        490 |\n",
      "|        45 | 23:37:45.3 |        494 |\n",
      "|        46 | 23:37:45.4 |        498 |\n"
     ]
    },
    {
     "name": "stdout",
     "output_type": "stream",
     "text": [
      "|        47 | 23:37:45.5 |        502 |\n",
      "|        48 | 23:37:45.6 |        506 |\n",
      "|        49 | 23:37:45.7 |        510 |\n"
     ]
    },
    {
     "name": "stdout",
     "output_type": "stream",
     "text": [
      "+-----------+------------+------------+\n",
      "|   seq_num |       time |          I |\n",
      "+-----------+------------+------------+\n",
      "|        50 | 23:37:45.8 |        513 |\n",
      "|        51 | 23:37:45.9 |        516 |\n",
      "|        52 | 23:37:46.0 |        519 |\n"
     ]
    },
    {
     "name": "stdout",
     "output_type": "stream",
     "text": [
      "|        53 | 23:37:46.1 |        521 |\n",
      "|        54 | 23:37:46.2 |        523 |\n",
      "|        55 | 23:37:46.3 |        524 |\n"
     ]
    },
    {
     "name": "stdout",
     "output_type": "stream",
     "text": [
      "|        56 | 23:37:46.4 |        525 |\n",
      "|        57 | 23:37:46.5 |        525 |\n",
      "|        58 | 23:37:46.6 |        524 |\n"
     ]
    },
    {
     "name": "stdout",
     "output_type": "stream",
     "text": [
      "|        59 | 23:37:46.7 |        523 |\n",
      "|        60 | 23:37:46.8 |        521 |\n",
      "|        61 | 23:37:46.9 |        519 |\n"
     ]
    },
    {
     "name": "stdout",
     "output_type": "stream",
     "text": [
      "|        62 | 23:37:47.0 |        516 |\n",
      "|        63 | 23:37:47.1 |        513 |\n"
     ]
    },
    {
     "name": "stdout",
     "output_type": "stream",
     "text": [
      "|        64 | 23:37:47.2 |        509 |\n",
      "|        65 | 23:37:47.3 |        505 |\n",
      "|        66 | 23:37:47.4 |        501 |\n"
     ]
    },
    {
     "name": "stdout",
     "output_type": "stream",
     "text": [
      "|        67 | 23:37:47.6 |        497 |\n",
      "|        68 | 23:37:47.6 |        494 |\n",
      "|        69 | 23:37:47.7 |        490 |\n"
     ]
    },
    {
     "name": "stdout",
     "output_type": "stream",
     "text": [
      "|        70 | 23:37:47.9 |        486 |\n",
      "|        71 | 23:37:48.0 |        483 |\n",
      "|        72 | 23:37:48.1 |        480 |\n"
     ]
    },
    {
     "name": "stdout",
     "output_type": "stream",
     "text": [
      "|        73 | 23:37:48.2 |        478 |\n",
      "|        74 | 23:37:48.3 |        477 |\n",
      "|        75 | 23:37:48.4 |        476 |\n"
     ]
    },
    {
     "name": "stdout",
     "output_type": "stream",
     "text": [
      "|        76 | 23:37:48.5 |        475 |\n",
      "|        77 | 23:37:48.6 |        475 |\n",
      "|        78 | 23:37:48.7 |        476 |\n"
     ]
    },
    {
     "name": "stdout",
     "output_type": "stream",
     "text": [
      "|        79 | 23:37:48.8 |        477 |\n",
      "|        80 | 23:37:48.9 |        479 |\n"
     ]
    },
    {
     "name": "stdout",
     "output_type": "stream",
     "text": [
      "|        81 | 23:37:49.0 |        482 |\n",
      "|        82 | 23:37:49.1 |        485 |\n",
      "|        83 | 23:37:49.2 |        488 |\n"
     ]
    },
    {
     "name": "stdout",
     "output_type": "stream",
     "text": [
      "|        84 | 23:37:49.3 |        491 |\n",
      "|        85 | 23:37:49.4 |        495 |\n",
      "|        86 | 23:37:49.5 |        499 |\n"
     ]
    },
    {
     "name": "stdout",
     "output_type": "stream",
     "text": [
      "|        87 | 23:37:49.6 |        503 |\n",
      "|        88 | 23:37:49.7 |        507 |\n",
      "|        89 | 23:37:49.8 |        511 |\n"
     ]
    },
    {
     "name": "stdout",
     "output_type": "stream",
     "text": [
      "|        90 | 23:37:49.9 |        514 |\n",
      "|        91 | 23:37:50.0 |        517 |\n",
      "|        92 | 23:37:50.1 |        520 |\n"
     ]
    },
    {
     "name": "stdout",
     "output_type": "stream",
     "text": [
      "|        93 | 23:37:50.2 |        522 |\n",
      "|        94 | 23:37:50.3 |        524 |\n",
      "|        95 | 23:37:50.4 |        525 |\n"
     ]
    },
    {
     "name": "stdout",
     "output_type": "stream",
     "text": [
      "|        96 | 23:37:50.5 |        525 |\n",
      "|        97 | 23:37:50.6 |        525 |\n"
     ]
    },
    {
     "name": "stdout",
     "output_type": "stream",
     "text": [
      "|        98 | 23:37:50.7 |        524 |\n",
      "|        99 | 23:37:50.8 |        522 |\n",
      "+-----------+------------+------------+\n",
      "|   seq_num |       time |          I |\n",
      "+-----------+------------+------------+"
     ]
    },
    {
     "name": "stdout",
     "output_type": "stream",
     "text": [
      "\n",
      "|       100 | 23:37:50.9 |        520 |\n",
      "|       101 | 23:37:51.0 |        518 |\n",
      "|       102 | 23:37:51.1 |        515 |\n"
     ]
    },
    {
     "name": "stdout",
     "output_type": "stream",
     "text": [
      "|       103 | 23:37:51.2 |        512 |\n",
      "|       104 | 23:37:51.3 |        508 |\n"
     ]
    },
    {
     "name": "stdout",
     "output_type": "stream",
     "text": [
      "|       105 | 23:37:51.4 |        504 |\n",
      "|       106 | 23:37:51.5 |        500 |\n",
      "|       107 | 23:37:51.6 |        496 |\n"
     ]
    },
    {
     "name": "stdout",
     "output_type": "stream",
     "text": [
      "|       108 | 23:37:51.7 |        492 |\n",
      "|       109 | 23:37:51.8 |        489 |\n",
      "|       110 | 23:37:51.9 |        485 |\n"
     ]
    },
    {
     "name": "stdout",
     "output_type": "stream",
     "text": [
      "|       111 | 23:37:52.0 |        482 |\n",
      "|       112 | 23:37:52.1 |        480 |\n"
     ]
    },
    {
     "name": "stdout",
     "output_type": "stream",
     "text": [
      "|       113 | 23:37:52.2 |        478 |\n",
      "|       114 | 23:37:52.3 |        476 |\n",
      "|       115 | 23:37:52.4 |        475 |\n"
     ]
    },
    {
     "name": "stdout",
     "output_type": "stream",
     "text": [
      "|       116 | 23:37:52.5 |        475 |\n",
      "|       117 | 23:37:52.6 |        475 |\n"
     ]
    },
    {
     "name": "stdout",
     "output_type": "stream",
     "text": [
      "|       118 | 23:37:52.7 |        476 |\n",
      "|       119 | 23:37:52.8 |        478 |\n",
      "|       120 | 23:37:52.9 |        480 |\n"
     ]
    },
    {
     "name": "stdout",
     "output_type": "stream",
     "text": [
      "|       121 | 23:37:53.0 |        482 |\n",
      "|       122 | 23:37:53.1 |        486 |\n"
     ]
    },
    {
     "name": "stdout",
     "output_type": "stream",
     "text": [
      "|       123 | 23:37:53.2 |        489 |\n",
      "|       124 | 23:37:53.3 |        493 |\n",
      "|       125 | 23:37:53.4 |        496 |\n"
     ]
    },
    {
     "name": "stdout",
     "output_type": "stream",
     "text": [
      "|       126 | 23:37:53.5 |        500 |\n",
      "|       127 | 23:37:53.6 |        504 |\n",
      "|       128 | 23:37:53.7 |        508 |\n"
     ]
    },
    {
     "name": "stdout",
     "output_type": "stream",
     "text": [
      "|       129 | 23:37:53.8 |        512 |\n",
      "|       130 | 23:37:53.9 |        515 |\n"
     ]
    },
    {
     "name": "stdout",
     "output_type": "stream",
     "text": [
      "|       131 | 23:37:54.0 |        518 |\n",
      "|       132 | 23:37:54.1 |        521 |\n",
      "|       133 | 23:37:54.2 |        523 |\n"
     ]
    },
    {
     "name": "stdout",
     "output_type": "stream",
     "text": [
      "|       134 | 23:37:54.3 |        524 |\n",
      "|       135 | 23:37:54.4 |        525 |\n",
      "|       136 | 23:37:54.5 |        525 |\n"
     ]
    },
    {
     "name": "stdout",
     "output_type": "stream",
     "text": [
      "|       137 | 23:37:54.6 |        525 |\n",
      "|       138 | 23:37:54.7 |        524 |\n",
      "|       139 | 23:37:54.8 |        522 |\n"
     ]
    },
    {
     "name": "stdout",
     "output_type": "stream",
     "text": [
      "|       140 | 23:37:54.9 |        520 |\n",
      "|       141 | 23:37:55.0 |        517 |\n"
     ]
    },
    {
     "name": "stdout",
     "output_type": "stream",
     "text": [
      "|       142 | 23:37:55.1 |        514 |\n",
      "|       143 | 23:37:55.2 |        511 |\n",
      "|       144 | 23:37:55.3 |        507 |\n"
     ]
    },
    {
     "name": "stdout",
     "output_type": "stream",
     "text": [
      "|       145 | 23:37:55.4 |        503 |\n",
      "|       146 | 23:37:55.5 |        499 |\n",
      "|       147 | 23:37:55.6 |        495 |\n"
     ]
    },
    {
     "name": "stdout",
     "output_type": "stream",
     "text": [
      "|       148 | 23:37:55.7 |        491 |\n",
      "|       149 | 23:37:55.8 |        488 |\n",
      "+-----------+------------+------------+\n",
      "|   seq_num |       time |          I |\n",
      "+-----------+------------+------------+\n",
      "|       150 | 23:37:55.9 |        484 |\n"
     ]
    },
    {
     "name": "stdout",
     "output_type": "stream",
     "text": [
      "|       151 | 23:37:56.0 |        482 |\n",
      "|       152 | 23:37:56.1 |        479 |\n"
     ]
    },
    {
     "name": "stdout",
     "output_type": "stream",
     "text": [
      "|       153 | 23:37:56.2 |        477 |\n",
      "|       154 | 23:37:56.3 |        476 |\n",
      "|       155 | 23:37:56.4 |        475 |\n"
     ]
    },
    {
     "name": "stdout",
     "output_type": "stream",
     "text": [
      "|       156 | 23:37:56.5 |        475 |\n",
      "|       157 | 23:37:56.6 |        476 |\n",
      "|       158 | 23:37:56.7 |        477 |\n"
     ]
    },
    {
     "name": "stdout",
     "output_type": "stream",
     "text": [
      "|       159 | 23:37:56.9 |        478 |\n",
      "|       160 | 23:37:57.0 |        481 |\n",
      "|       161 | 23:37:57.1 |        483 |\n"
     ]
    },
    {
     "name": "stdout",
     "output_type": "stream",
     "text": [
      "|       162 | 23:37:57.2 |        487 |\n",
      "|       163 | 23:37:57.3 |        490 |\n"
     ]
    },
    {
     "name": "stdout",
     "output_type": "stream",
     "text": [
      "|       164 | 23:37:57.4 |        494 |\n",
      "|       165 | 23:37:57.5 |        498 |\n",
      "|       166 | 23:37:57.6 |        502 |\n"
     ]
    },
    {
     "name": "stdout",
     "output_type": "stream",
     "text": [
      "|       167 | 23:37:57.7 |        505 |\n",
      "|       168 | 23:37:57.8 |        509 |\n",
      "|       169 | 23:37:57.9 |        513 |\n"
     ]
    },
    {
     "name": "stdout",
     "output_type": "stream",
     "text": [
      "|       170 | 23:37:58.0 |        516 |\n",
      "|       171 | 23:37:58.1 |        519 |\n",
      "|       172 | 23:37:58.2 |        521 |\n"
     ]
    },
    {
     "name": "stdout",
     "output_type": "stream",
     "text": [
      "|       173 | 23:37:58.3 |        523 |\n",
      "|       174 | 23:37:58.4 |        524 |\n"
     ]
    },
    {
     "name": "stdout",
     "output_type": "stream",
     "text": [
      "|       175 | 23:37:58.5 |        525 |\n",
      "|       176 | 23:37:58.6 |        525 |\n",
      "|       177 | 23:37:58.7 |        524 |\n"
     ]
    },
    {
     "name": "stdout",
     "output_type": "stream",
     "text": [
      "|       178 | 23:37:58.8 |        523 |\n",
      "|       179 | 23:37:58.9 |        521 |\n",
      "|       180 | 23:37:59.0 |        519 |\n"
     ]
    },
    {
     "name": "stdout",
     "output_type": "stream",
     "text": [
      "|       181 | 23:37:59.1 |        516 |\n",
      "|       182 | 23:37:59.2 |        513 |\n",
      "|       183 | 23:37:59.3 |        509 |\n"
     ]
    },
    {
     "name": "stdout",
     "output_type": "stream",
     "text": [
      "|       184 | 23:37:59.4 |        506 |\n",
      "|       185 | 23:37:59.5 |        502 |\n"
     ]
    },
    {
     "name": "stdout",
     "output_type": "stream",
     "text": [
      "|       186 | 23:37:59.6 |        498 |\n",
      "|       187 | 23:37:59.7 |        494 |\n",
      "|       188 | 23:37:59.8 |        490 |\n"
     ]
    },
    {
     "name": "stdout",
     "output_type": "stream",
     "text": [
      "|       189 | 23:37:59.9 |        487 |\n",
      "|       190 | 23:38:00.0 |        483 |\n",
      "|       191 | 23:38:00.1 |        481 |\n"
     ]
    },
    {
     "name": "stdout",
     "output_type": "stream",
     "text": [
      "|       192 | 23:38:00.2 |        478 |\n",
      "|       193 | 23:38:00.3 |        477 |\n",
      "|       194 | 23:38:00.4 |        476 |\n"
     ]
    },
    {
     "name": "stdout",
     "output_type": "stream",
     "text": [
      "|       195 | 23:38:00.5 |        475 |\n",
      "|       196 | 23:38:00.6 |        475 |\n",
      "|       197 | 23:38:00.7 |        476 |\n"
     ]
    },
    {
     "name": "stdout",
     "output_type": "stream",
     "text": [
      "|       198 | 23:38:00.8 |        477 |\n",
      "|       199 | 23:38:00.9 |        479 |\n",
      "+-----------+------------+------------+\n",
      "|   seq_num |       time |          I |\n",
      "+-----------+------------+------------+\n",
      "|       200 | 23:38:01.0 |        481 |\n"
     ]
    },
    {
     "name": "stdout",
     "output_type": "stream",
     "text": [
      "+-----------+------------+------------+\n",
      "generator count ['8c270527'] (scan num: 27)\n",
      "\n",
      "\n",
      "\n"
     ]
    },
    {
     "data": {
      "text/plain": [
       "('8c270527-1182-48f2-88aa-aa2c930301f6',)"
      ]
     },
     "execution_count": 1,
     "metadata": {},
     "output_type": "execute_result"
    }
   ],
   "source": [
    "RE(count([I], num=200, delay=0.1))"
   ]
  },
  {
   "cell_type": "code",
   "execution_count": 26,
   "metadata": {
    "execution": {
     "iopub.execute_input": "2021-02-05T23:38:01.308725Z",
     "iopub.status.busy": "2021-02-05T23:38:01.306784Z",
     "iopub.status.idle": "2021-02-05T23:38:01.404008Z",
     "shell.execute_reply": "2021-02-05T23:38:01.403302Z"
    }
   },
   "outputs": [
    {
     "data": {
      "image/png": "[encoded data removed]",
      "text/plain": [
       "<Figure size 500x500 with 1 Axes>"
      ]
     },
     "execution_count": 1,
     "metadata": {},
     "output_type": "execute_result"
    }
   ],
   "source": [
    "plt.gcf()  # Display a snapshot of the current state of the figure."
   ]
  },
  {
   "cell_type": "code",
   "execution_count": 27,
   "metadata": {
    "execution": {
     "iopub.execute_input": "2021-02-05T23:38:01.527338Z",
     "iopub.status.busy": "2021-02-05T23:38:01.526853Z",
     "iopub.status.idle": "2021-02-05T23:38:01.537821Z",
     "shell.execute_reply": "2021-02-05T23:38:01.536858Z"
    }
   },
   "outputs": [
    {
     "data": {
      "application/vnd.jupyter.widget-view+json": {
       "model_id": "837dbee7f1b14fea9f5863eb0795f890",
       "version_major": 2,
       "version_minor": 0
      },
      "text/plain": [
       "Canvas(toolbar=Toolbar(toolitems=[('Home', 'Reset original view', 'home', 'home'), ('Back', 'Back to previous …"
      ]
     },
     "metadata": {},
     "output_type": "display_data"
    },
    {
     "data": {
      "text/plain": [
       "<Figure size 640x480 with 0 Axes>"
      ]
     },
     "execution_count": 1,
     "metadata": {},
     "output_type": "execute_result"
    }
   ],
   "source": [
    "plt.figure()"
   ]
  },
  {
   "cell_type": "code",
   "execution_count": 28,
   "metadata": {
    "execution": {
     "iopub.execute_input": "2021-02-05T23:38:01.565515Z",
     "iopub.status.busy": "2021-02-05T23:38:01.564698Z",
     "iopub.status.idle": "2021-02-05T23:38:01.761668Z",
     "shell.execute_reply": "2021-02-05T23:38:01.760936Z"
    }
   },
   "outputs": [
    {
     "data": {
      "image/png": "[encoded data removed]",
      "text/plain": [
       "<Figure size 640x480 with 1 Axes>"
      ]
     },
     "execution_count": 1,
     "metadata": {},
     "output_type": "execute_result"
    }
   ],
   "source": [
    "more_current_data = db[-1].table()\n",
    "plt.hist(more_current_data['I'], bins='auto')\n",
    "plt.xlabel('current')\n",
    "plt.ylabel('count')\n",
    "plt.gcf()"
   ]
  },
  {
   "cell_type": "markdown",
   "metadata": {},
   "source": [
    "## Exercises"
   ]
  },
  {
   "cell_type": "markdown",
   "metadata": {},
   "source": [
    "Spend some time reading [10 minutes to pandas](https://pandas.pydata.org/pandas-docs/stable/10min.html), and use this notebook to try some of the examples there."
   ]
  },
  {
   "cell_type": "code",
   "execution_count": 29,
   "metadata": {
    "execution": {
     "iopub.execute_input": "2021-02-05T23:38:01.862683Z",
     "iopub.status.busy": "2021-02-05T23:38:01.861349Z",
     "iopub.status.idle": "2021-02-05T23:38:01.867039Z",
     "shell.execute_reply": "2021-02-05T23:38:01.868099Z"
    }
   },
   "outputs": [],
   "source": [
    "# Hack away...."
   ]
  }
 ],
 "metadata": {
  "kernelspec": {
   "display_name": "Python 3",
   "language": "python",
   "name": "python3"
  },
  "language_info": {
   "codemirror_mode": {
    "name": "ipython",
    "version": 3
   },
   "file_extension": ".py",
   "mimetype": "text/x-python",
   "name": "python",
   "nbconvert_exporter": "python",
   "pygments_lexer": "ipython3",
   "version": "3.7.1"
  },
  "widgets": {
   "application/vnd.jupyter.widget-state+json": {
    "state": {
     "0edb8cc7039c4649a600f7feebcaacc5": {
      "model_module": "jupyter-matplotlib",
      "model_module_version": "^0.8.3",
      "model_name": "MPLCanvasModel",
      "state": {
       "_cursor": "pointer",
       "_dom_classes": [],
       "_figure_label": "Figure",
       "_height": 0,
       "_image_mode": "full",
       "_message": "",
       "_model_module": "jupyter-matplotlib",
       "_model_module_version": "^0.8.3",
       "_model_name": "MPLCanvasModel",
       "_rubberband_height": 0,
       "_rubberband_width": 0,
       "_rubberband_x": 0,
       "_rubberband_y": 0,
       "_view_count": null,
       "_view_module": "jupyter-matplotlib",
       "_view_module_version": "^0.8.3",
       "_view_name": "MPLCanvasView",
       "_width": 0,
       "capture_scroll": false,
       "footer_visible": true,
       "header_visible": true,
       "layout": "IPY_MODEL_cda10b682590450eac37eeb550b0f70c",
       "resizable": true,
       "toolbar": "IPY_MODEL_1b605ec82ee844f38d6a40b69b43fc53",
       "toolbar_position": "left",
       "toolbar_visible": true
      }
     },
     "1b605ec82ee844f38d6a40b69b43fc53": {
      "model_module": "jupyter-matplotlib",
      "model_module_version": "^0.8.3",
      "model_name": "ToolbarModel",
      "state": {
       "_current_action": "",
       "_dom_classes": [],
       "_model_module": "jupyter-matplotlib",
       "_model_module_version": "^0.8.3",
       "_model_name": "ToolbarModel",
       "_view_count": null,
       "_view_module": "jupyter-matplotlib",
       "_view_module_version": "^0.8.3",
       "_view_name": "ToolbarView",
       "button_style": "",
       "collapsed": true,
       "layout": "IPY_MODEL_be8ee909cd394f1f9b001ff093272674",
       "orientation": "vertical",
       "toolitems": [
        [
         "Home",
         "Reset original view",
         "home",
         "home"
        ],
        [
         "Back",
         "Back to previous view",
         "arrow-left",
         "back"
        ],
        [
         "Forward",
         "Forward to next view",
         "arrow-right",
         "forward"
        ],
        [
         "Pan",
         "Left button pans, Right button zooms\nx/y fixes axis, CTRL fixes aspect",
         "arrows",
         "pan"
        ],
        [
         "Zoom",
         "Zoom to rectangle\nx/y fixes axis, CTRL fixes aspect",
         "square-o",
         "zoom"
        ],
        [
         "Download",
         "Download plot",
         "floppy-o",
         "save_figure"
        ]
       ]
      }
     },
     "1e0542aec9e0407db258d1d9cbd3308c": {
      "model_module": "@jupyter-widgets/base",
      "model_module_version": "1.2.0",
      "model_name": "LayoutModel",
      "state": {
       "_model_module": "@jupyter-widgets/base",
       "_model_module_version": "1.2.0",
       "_model_name": "LayoutModel",
       "_view_count": null,
       "_view_module": "@jupyter-widgets/base",
       "_view_module_version": "1.2.0",
       "_view_name": "LayoutView",
       "align_content": null,
       "align_items": null,
       "align_self": null,
       "border": null,
       "bottom": null,
       "display": null,
       "flex": null,
       "flex_flow": null,
       "grid_area": null,
       "grid_auto_columns": null,
       "grid_auto_flow": null,
       "grid_auto_rows": null,
       "grid_column": null,
       "grid_gap": null,
       "grid_row": null,
       "grid_template_areas": null,
       "grid_template_columns": null,
       "grid_template_rows": null,
       "height": null,
       "justify_content": null,
       "justify_items": null,
       "left": null,
       "margin": null,
       "max_height": null,
       "max_width": null,
       "min_height": null,
       "min_width": null,
       "object_fit": null,
       "object_position": null,
       "order": null,
       "overflow": null,
       "overflow_x": null,
       "overflow_y": null,
       "padding": null,
       "right": null,
       "top": null,
       "visibility": null,
       "width": null
      }
     },
     "222874cd05134c9d971f85b9a71dc22c": {
      "model_module": "jupyter-matplotlib",
      "model_module_version": "^0.8.3",
      "model_name": "MPLCanvasModel",
      "state": {
       "_cursor": "pointer",
       "_dom_classes": [],
       "_figure_label": "Figure",
       "_height": 0,
       "_image_mode": "full",
       "_message": "",
       "_model_module": "jupyter-matplotlib",
       "_model_module_version": "^0.8.3",
       "_model_name": "MPLCanvasModel",
       "_rubberband_height": 0,
       "_rubberband_width": 0,
       "_rubberband_x": 0,
       "_rubberband_y": 0,
       "_view_count": null,
       "_view_module": "jupyter-matplotlib",
       "_view_module_version": "^0.8.3",
       "_view_name": "MPLCanvasView",
       "_width": 0,
       "capture_scroll": false,
       "footer_visible": true,
       "header_visible": true,
       "layout": "IPY_MODEL_5d4ea095de064fd29eef1e3e64bcdae4",
       "resizable": true,
       "toolbar": "IPY_MODEL_97ae915d237943bf86b86ee37bc87ab0",
       "toolbar_position": "left",
       "toolbar_visible": true
      }
     },
     "2981b6aa71a84fd893585b6036dee628": {
      "model_module": "@jupyter-widgets/base",
      "model_module_version": "1.2.0",
      "model_name": "LayoutModel",
      "state": {
       "_model_module": "@jupyter-widgets/base",
       "_model_module_version": "1.2.0",
       "_model_name": "LayoutModel",
       "_view_count": null,
       "_view_module": "@jupyter-widgets/base",
       "_view_module_version": "1.2.0",
       "_view_name": "LayoutView",
       "align_content": null,
       "align_items": null,
       "align_self": null,
       "border": null,
       "bottom": null,
       "display": null,
       "flex": null,
       "flex_flow": null,
       "grid_area": null,
       "grid_auto_columns": null,
       "grid_auto_flow": null,
       "grid_auto_rows": null,
       "grid_column": null,
       "grid_gap": null,
       "grid_row": null,
       "grid_template_areas": null,
       "grid_template_columns": null,
       "grid_template_rows": null,
       "height": null,
       "justify_content": null,
       "justify_items": null,
       "left": null,
       "margin": null,
       "max_height": null,
       "max_width": null,
       "min_height": null,
       "min_width": null,
       "object_fit": null,
       "object_position": null,
       "order": null,
       "overflow": null,
       "overflow_x": null,
       "overflow_y": null,
       "padding": null,
       "right": null,
       "top": null,
       "visibility": null,
       "width": null
      }
     },
     "334f324b87bc49ad834d1e68cf75cd93": {
      "model_module": "jupyter-matplotlib",
      "model_module_version": "^0.8.3",
      "model_name": "ToolbarModel",
      "state": {
       "_current_action": "",
       "_dom_classes": [],
       "_model_module": "jupyter-matplotlib",
       "_model_module_version": "^0.8.3",
       "_model_name": "ToolbarModel",
       "_view_count": null,
       "_view_module": "jupyter-matplotlib",
       "_view_module_version": "^0.8.3",
       "_view_name": "ToolbarView",
       "button_style": "",
       "collapsed": true,
       "layout": "IPY_MODEL_724c8a5b1c7b4dee90536b72d0c2cd54",
       "orientation": "vertical",
       "toolitems": [
        [
         "Home",
         "Reset original view",
         "home",
         "home"
        ],
        [
         "Back",
         "Back to previous view",
         "arrow-left",
         "back"
        ],
        [
         "Forward",
         "Forward to next view",
         "arrow-right",
         "forward"
        ],
        [
         "Pan",
         "Left button pans, Right button zooms\nx/y fixes axis, CTRL fixes aspect",
         "arrows",
         "pan"
        ],
        [
         "Zoom",
         "Zoom to rectangle\nx/y fixes axis, CTRL fixes aspect",
         "square-o",
         "zoom"
        ],
        [
         "Download",
         "Download plot",
         "floppy-o",
         "save_figure"
        ]
       ]
      }
     },
     "3946f78304e44f28b54ec770682ab8fb": {
      "model_module": "@jupyter-widgets/base",
      "model_module_version": "1.2.0",
      "model_name": "LayoutModel",
      "state": {
       "_model_module": "@jupyter-widgets/base",
       "_model_module_version": "1.2.0",
       "_model_name": "LayoutModel",
       "_view_count": null,
       "_view_module": "@jupyter-widgets/base",
       "_view_module_version": "1.2.0",
       "_view_name": "LayoutView",
       "align_content": null,
       "align_items": null,
       "align_self": null,
       "border": null,
       "bottom": null,
       "display": null,
       "flex": null,
       "flex_flow": null,
       "grid_area": null,
       "grid_auto_columns": null,
       "grid_auto_flow": null,
       "grid_auto_rows": null,
       "grid_column": null,
       "grid_gap": null,
       "grid_row": null,
       "grid_template_areas": null,
       "grid_template_columns": null,
       "grid_template_rows": null,
       "height": null,
       "justify_content": null,
       "justify_items": null,
       "left": null,
       "margin": null,
       "max_height": null,
       "max_width": null,
       "min_height": null,
       "min_width": null,
       "object_fit": null,
       "object_position": null,
       "order": null,
       "overflow": null,
       "overflow_x": null,
       "overflow_y": null,
       "padding": null,
       "right": null,
       "top": null,
       "visibility": null,
       "width": null
      }
     },
     "4284967a9cad4584806e0febad745e71": {
      "model_module": "@jupyter-widgets/base",
      "model_module_version": "1.2.0",
      "model_name": "LayoutModel",
      "state": {
       "_model_module": "@jupyter-widgets/base",
       "_model_module_version": "1.2.0",
       "_model_name": "LayoutModel",
       "_view_count": null,
       "_view_module": "@jupyter-widgets/base",
       "_view_module_version": "1.2.0",
       "_view_name": "LayoutView",
       "align_content": null,
       "align_items": null,
       "align_self": null,
       "border": null,
       "bottom": null,
       "display": null,
       "flex": null,
       "flex_flow": null,
       "grid_area": null,
       "grid_auto_columns": null,
       "grid_auto_flow": null,
       "grid_auto_rows": null,
       "grid_column": null,
       "grid_gap": null,
       "grid_row": null,
       "grid_template_areas": null,
       "grid_template_columns": null,
       "grid_template_rows": null,
       "height": null,
       "justify_content": null,
       "justify_items": null,
       "left": null,
       "margin": null,
       "max_height": null,
       "max_width": null,
       "min_height": null,
       "min_width": null,
       "object_fit": null,
       "object_position": null,
       "order": null,
       "overflow": null,
       "overflow_x": null,
       "overflow_y": null,
       "padding": null,
       "right": null,
       "top": null,
       "visibility": null,
       "width": null
      }
     },
     "467aefee85c34317a2a28013364da986": {
      "model_module": "jupyter-matplotlib",
      "model_module_version": "^0.8.3",
      "model_name": "ToolbarModel",
      "state": {
       "_current_action": "",
       "_dom_classes": [],
       "_model_module": "jupyter-matplotlib",
       "_model_module_version": "^0.8.3",
       "_model_name": "ToolbarModel",
       "_view_count": null,
       "_view_module": "jupyter-matplotlib",
       "_view_module_version": "^0.8.3",
       "_view_name": "ToolbarView",
       "button_style": "",
       "collapsed": true,
       "layout": "IPY_MODEL_3946f78304e44f28b54ec770682ab8fb",
       "orientation": "vertical",
       "toolitems": [
        [
         "Home",
         "Reset original view",
         "home",
         "home"
        ],
        [
         "Back",
         "Back to previous view",
         "arrow-left",
         "back"
        ],
        [
         "Forward",
         "Forward to next view",
         "arrow-right",
         "forward"
        ],
        [
         "Pan",
         "Left button pans, Right button zooms\nx/y fixes axis, CTRL fixes aspect",
         "arrows",
         "pan"
        ],
        [
         "Zoom",
         "Zoom to rectangle\nx/y fixes axis, CTRL fixes aspect",
         "square-o",
         "zoom"
        ],
        [
         "Download",
         "Download plot",
         "floppy-o",
         "save_figure"
        ]
       ]
      }
     },
     "482ca75228bd42d2b3a7991fe9696b62": {
      "model_module": "jupyter-matplotlib",
      "model_module_version": "^0.8.3",
      "model_name": "ToolbarModel",
      "state": {
       "_current_action": "",
       "_dom_classes": [],
       "_model_module": "jupyter-matplotlib",
       "_model_module_version": "^0.8.3",
       "_model_name": "ToolbarModel",
       "_view_count": null,
       "_view_module": "jupyter-matplotlib",
       "_view_module_version": "^0.8.3",
       "_view_name": "ToolbarView",
       "button_style": "",
       "collapsed": true,
       "layout": "IPY_MODEL_2981b6aa71a84fd893585b6036dee628",
       "orientation": "vertical",
       "toolitems": [
        [
         "Home",
         "Reset original view",
         "home",
         "home"
        ],
        [
         "Back",
         "Back to previous view",
         "arrow-left",
         "back"
        ],
        [
         "Forward",
         "Forward to next view",
         "arrow-right",
         "forward"
        ],
        [
         "Pan",
         "Left button pans, Right button zooms\nx/y fixes axis, CTRL fixes aspect",
         "arrows",
         "pan"
        ],
        [
         "Zoom",
         "Zoom to rectangle\nx/y fixes axis, CTRL fixes aspect",
         "square-o",
         "zoom"
        ],
        [
         "Download",
         "Download plot",
         "floppy-o",
         "save_figure"
        ]
       ]
      }
     },
     "485a3c6dcc13434b921076f5bb38f85f": {
      "model_module": "@jupyter-widgets/base",
      "model_module_version": "1.2.0",
      "model_name": "LayoutModel",
      "state": {
       "_model_module": "@jupyter-widgets/base",
       "_model_module_version": "1.2.0",
       "_model_name": "LayoutModel",
       "_view_count": null,
       "_view_module": "@jupyter-widgets/base",
       "_view_module_version": "1.2.0",
       "_view_name": "LayoutView",
       "align_content": null,
       "align_items": null,
       "align_self": null,
       "border": null,
       "bottom": null,
       "display": null,
       "flex": null,
       "flex_flow": null,
       "grid_area": null,
       "grid_auto_columns": null,
       "grid_auto_flow": null,
       "grid_auto_rows": null,
       "grid_column": null,
       "grid_gap": null,
       "grid_row": null,
       "grid_template_areas": null,
       "grid_template_columns": null,
       "grid_template_rows": null,
       "height": null,
       "justify_content": null,
       "justify_items": null,
       "left": null,
       "margin": null,
       "max_height": null,
       "max_width": null,
       "min_height": null,
       "min_width": null,
       "object_fit": null,
       "object_position": null,
       "order": null,
       "overflow": null,
       "overflow_x": null,
       "overflow_y": null,
       "padding": null,
       "right": null,
       "top": null,
       "visibility": null,
       "width": null
      }
     },
     "5c0c8ef8f96f47ab9e7662ae84890075": {
      "model_module": "@jupyter-widgets/base",
      "model_module_version": "1.2.0",
      "model_name": "LayoutModel",
      "state": {
       "_model_module": "@jupyter-widgets/base",
       "_model_module_version": "1.2.0",
       "_model_name": "LayoutModel",
       "_view_count": null,
       "_view_module": "@jupyter-widgets/base",
       "_view_module_version": "1.2.0",
       "_view_name": "LayoutView",
       "align_content": null,
       "align_items": null,
       "align_self": null,
       "border": null,
       "bottom": null,
       "display": null,
       "flex": null,
       "flex_flow": null,
       "grid_area": null,
       "grid_auto_columns": null,
       "grid_auto_flow": null,
       "grid_auto_rows": null,
       "grid_column": null,
       "grid_gap": null,
       "grid_row": null,
       "grid_template_areas": null,
       "grid_template_columns": null,
       "grid_template_rows": null,
       "height": null,
       "justify_content": null,
       "justify_items": null,
       "left": null,
       "margin": null,
       "max_height": null,
       "max_width": null,
       "min_height": null,
       "min_width": null,
       "object_fit": null,
       "object_position": null,
       "order": null,
       "overflow": null,
       "overflow_x": null,
       "overflow_y": null,
       "padding": null,
       "right": null,
       "top": null,
       "visibility": null,
       "width": null
      }
     },
     "5d4ea095de064fd29eef1e3e64bcdae4": {
      "model_module": "@jupyter-widgets/base",
      "model_module_version": "1.2.0",
      "model_name": "LayoutModel",
      "state": {
       "_model_module": "@jupyter-widgets/base",
       "_model_module_version": "1.2.0",
       "_model_name": "LayoutModel",
       "_view_count": null,
       "_view_module": "@jupyter-widgets/base",
       "_view_module_version": "1.2.0",
       "_view_name": "LayoutView",
       "align_content": null,
       "align_items": null,
       "align_self": null,
       "border": null,
       "bottom": null,
       "display": null,
       "flex": null,
       "flex_flow": null,
       "grid_area": null,
       "grid_auto_columns": null,
       "grid_auto_flow": null,
       "grid_auto_rows": null,
       "grid_column": null,
       "grid_gap": null,
       "grid_row": null,
       "grid_template_areas": null,
       "grid_template_columns": null,
       "grid_template_rows": null,
       "height": null,
       "justify_content": null,
       "justify_items": null,
       "left": null,
       "margin": null,
       "max_height": null,
       "max_width": null,
       "min_height": null,
       "min_width": null,
       "object_fit": null,
       "object_position": null,
       "order": null,
       "overflow": null,
       "overflow_x": null,
       "overflow_y": null,
       "padding": null,
       "right": null,
       "top": null,
       "visibility": null,
       "width": null
      }
     },
     "61321d8293c64fc39377f8504f87442e": {
      "model_module": "jupyter-matplotlib",
      "model_module_version": "^0.8.3",
      "model_name": "MPLCanvasModel",
      "state": {
       "_cursor": "pointer",
       "_dom_classes": [],
       "_figure_label": "I slit_det vs motor_slit",
       "_height": 1000,
       "_image_mode": "diff",
       "_message": "",
       "_model_module": "jupyter-matplotlib",
       "_model_module_version": "^0.8.3",
       "_model_name": "MPLCanvasModel",
       "_rubberband_height": 0,
       "_rubberband_width": 0,
       "_rubberband_x": 0,
       "_rubberband_y": 0,
       "_view_count": null,
       "_view_module": "jupyter-matplotlib",
       "_view_module_version": "^0.8.3",
       "_view_name": "MPLCanvasView",
       "_width": 500,
       "capture_scroll": false,
       "footer_visible": true,
       "header_visible": true,
       "layout": "IPY_MODEL_98d598b55f8943db9f9c346718a67bf7",
       "resizable": true,
       "toolbar": "IPY_MODEL_467aefee85c34317a2a28013364da986",
       "toolbar_position": "left",
       "toolbar_visible": true
      }
     },
     "724c8a5b1c7b4dee90536b72d0c2cd54": {
      "model_module": "@jupyter-widgets/base",
      "model_module_version": "1.2.0",
      "model_name": "LayoutModel",
      "state": {
       "_model_module": "@jupyter-widgets/base",
       "_model_module_version": "1.2.0",
       "_model_name": "LayoutModel",
       "_view_count": null,
       "_view_module": "@jupyter-widgets/base",
       "_view_module_version": "1.2.0",
       "_view_name": "LayoutView",
       "align_content": null,
       "align_items": null,
       "align_self": null,
       "border": null,
       "bottom": null,
       "display": null,
       "flex": null,
       "flex_flow": null,
       "grid_area": null,
       "grid_auto_columns": null,
       "grid_auto_flow": null,
       "grid_auto_rows": null,
       "grid_column": null,
       "grid_gap": null,
       "grid_row": null,
       "grid_template_areas": null,
       "grid_template_columns": null,
       "grid_template_rows": null,
       "height": null,
       "justify_content": null,
       "justify_items": null,
       "left": null,
       "margin": null,
       "max_height": null,
       "max_width": null,
       "min_height": null,
       "min_width": null,
       "object_fit": null,
       "object_position": null,
       "order": null,
       "overflow": null,
       "overflow_x": null,
       "overflow_y": null,
       "padding": null,
       "right": null,
       "top": null,
       "visibility": null,
       "width": null
      }
     },
     "7fb95d844a0a4edc8dd950d2dfe3016a": {
      "model_module": "@jupyter-widgets/base",
      "model_module_version": "1.2.0",
      "model_name": "LayoutModel",
      "state": {
       "_model_module": "@jupyter-widgets/base",
       "_model_module_version": "1.2.0",
       "_model_name": "LayoutModel",
       "_view_count": null,
       "_view_module": "@jupyter-widgets/base",
       "_view_module_version": "1.2.0",
       "_view_name": "LayoutView",
       "align_content": null,
       "align_items": null,
       "align_self": null,
       "border": null,
       "bottom": null,
       "display": null,
       "flex": null,
       "flex_flow": null,
       "grid_area": null,
       "grid_auto_columns": null,
       "grid_auto_flow": null,
       "grid_auto_rows": null,
       "grid_column": null,
       "grid_gap": null,
       "grid_row": null,
       "grid_template_areas": null,
       "grid_template_columns": null,
       "grid_template_rows": null,
       "height": null,
       "justify_content": null,
       "justify_items": null,
       "left": null,
       "margin": null,
       "max_height": null,
       "max_width": null,
       "min_height": null,
       "min_width": null,
       "object_fit": null,
       "object_position": null,
       "order": null,
       "overflow": null,
       "overflow_x": null,
       "overflow_y": null,
       "padding": null,
       "right": null,
       "top": null,
       "visibility": null,
       "width": null
      }
     },
     "837dbee7f1b14fea9f5863eb0795f890": {
      "model_module": "jupyter-matplotlib",
      "model_module_version": "^0.8.3",
      "model_name": "MPLCanvasModel",
      "state": {
       "_cursor": "pointer",
       "_dom_classes": [],
       "_figure_label": "Figure",
       "_height": 0,
       "_image_mode": "full",
       "_message": "",
       "_model_module": "jupyter-matplotlib",
       "_model_module_version": "^0.8.3",
       "_model_name": "MPLCanvasModel",
       "_rubberband_height": 0,
       "_rubberband_width": 0,
       "_rubberband_x": 0,
       "_rubberband_y": 0,
       "_view_count": null,
       "_view_module": "jupyter-matplotlib",
       "_view_module_version": "^0.8.3",
       "_view_name": "MPLCanvasView",
       "_width": 0,
       "capture_scroll": false,
       "footer_visible": true,
       "header_visible": true,
       "layout": "IPY_MODEL_1e0542aec9e0407db258d1d9cbd3308c",
       "resizable": true,
       "toolbar": "IPY_MODEL_e4ac7290227a4a63a18db7b41daf6c87",
       "toolbar_position": "left",
       "toolbar_visible": true
      }
     },
     "8bf3974e4dbd4bf0b2bf14b0038c1651": {
      "model_module": "jupyter-matplotlib",
      "model_module_version": "^0.8.3",
      "model_name": "MPLCanvasModel",
      "state": {
       "_cursor": "default",
       "_dom_classes": [],
       "_figure_label": "I vs time",
       "_height": 500,
       "_image_mode": "diff",
       "_message": "",
       "_model_module": "jupyter-matplotlib",
       "_model_module_version": "^0.8.3",
       "_model_name": "MPLCanvasModel",
       "_rubberband_height": 0,
       "_rubberband_width": 0,
       "_rubberband_x": 0,
       "_rubberband_y": 0,
       "_view_count": null,
       "_view_module": "jupyter-matplotlib",
       "_view_module_version": "^0.8.3",
       "_view_name": "MPLCanvasView",
       "_width": 500,
       "capture_scroll": false,
       "footer_visible": true,
       "header_visible": true,
       "layout": "IPY_MODEL_5c0c8ef8f96f47ab9e7662ae84890075",
       "resizable": true,
       "toolbar": "IPY_MODEL_334f324b87bc49ad834d1e68cf75cd93",
       "toolbar_position": "left",
       "toolbar_visible": true
      }
     },
     "97ae915d237943bf86b86ee37bc87ab0": {
      "model_module": "jupyter-matplotlib",
      "model_module_version": "^0.8.3",
      "model_name": "ToolbarModel",
      "state": {
       "_current_action": "",
       "_dom_classes": [],
       "_model_module": "jupyter-matplotlib",
       "_model_module_version": "^0.8.3",
       "_model_name": "ToolbarModel",
       "_view_count": null,
       "_view_module": "jupyter-matplotlib",
       "_view_module_version": "^0.8.3",
       "_view_name": "ToolbarView",
       "button_style": "",
       "collapsed": true,
       "layout": "IPY_MODEL_4284967a9cad4584806e0febad745e71",
       "orientation": "vertical",
       "toolitems": [
        [
         "Home",
         "Reset original view",
         "home",
         "home"
        ],
        [
         "Back",
         "Back to previous view",
         "arrow-left",
         "back"
        ],
        [
         "Forward",
         "Forward to next view",
         "arrow-right",
         "forward"
        ],
        [
         "Pan",
         "Left button pans, Right button zooms\nx/y fixes axis, CTRL fixes aspect",
         "arrows",
         "pan"
        ],
        [
         "Zoom",
         "Zoom to rectangle\nx/y fixes axis, CTRL fixes aspect",
         "square-o",
         "zoom"
        ],
        [
         "Download",
         "Download plot",
         "floppy-o",
         "save_figure"
        ]
       ]
      }
     },
     "98d598b55f8943db9f9c346718a67bf7": {
      "model_module": "@jupyter-widgets/base",
      "model_module_version": "1.2.0",
      "model_name": "LayoutModel",
      "state": {
       "_model_module": "@jupyter-widgets/base",
       "_model_module_version": "1.2.0",
       "_model_name": "LayoutModel",
       "_view_count": null,
       "_view_module": "@jupyter-widgets/base",
       "_view_module_version": "1.2.0",
       "_view_name": "LayoutView",
       "align_content": null,
       "align_items": null,
       "align_self": null,
       "border": null,
       "bottom": null,
       "display": null,
       "flex": null,
       "flex_flow": null,
       "grid_area": null,
       "grid_auto_columns": null,
       "grid_auto_flow": null,
       "grid_auto_rows": null,
       "grid_column": null,
       "grid_gap": null,
       "grid_row": null,
       "grid_template_areas": null,
       "grid_template_columns": null,
       "grid_template_rows": null,
       "height": null,
       "justify_content": null,
       "justify_items": null,
       "left": null,
       "margin": null,
       "max_height": null,
       "max_width": null,
       "min_height": null,
       "min_width": null,
       "object_fit": null,
       "object_position": null,
       "order": null,
       "overflow": null,
       "overflow_x": null,
       "overflow_y": null,
       "padding": null,
       "right": null,
       "top": null,
       "visibility": null,
       "width": null
      }
     },
     "abb471de8f634d40a487ec9e28578cd8": {
      "model_module": "@jupyter-widgets/base",
      "model_module_version": "1.2.0",
      "model_name": "LayoutModel",
      "state": {
       "_model_module": "@jupyter-widgets/base",
       "_model_module_version": "1.2.0",
       "_model_name": "LayoutModel",
       "_view_count": null,
       "_view_module": "@jupyter-widgets/base",
       "_view_module_version": "1.2.0",
       "_view_name": "LayoutView",
       "align_content": null,
       "align_items": null,
       "align_self": null,
       "border": null,
       "bottom": null,
       "display": null,
       "flex": null,
       "flex_flow": null,
       "grid_area": null,
       "grid_auto_columns": null,
       "grid_auto_flow": null,
       "grid_auto_rows": null,
       "grid_column": null,
       "grid_gap": null,
       "grid_row": null,
       "grid_template_areas": null,
       "grid_template_columns": null,
       "grid_template_rows": null,
       "height": null,
       "justify_content": null,
       "justify_items": null,
       "left": null,
       "margin": null,
       "max_height": null,
       "max_width": null,
       "min_height": null,
       "min_width": null,
       "object_fit": null,
       "object_position": null,
       "order": null,
       "overflow": null,
       "overflow_x": null,
       "overflow_y": null,
       "padding": null,
       "right": null,
       "top": null,
       "visibility": null,
       "width": null
      }
     },
     "be8ee909cd394f1f9b001ff093272674": {
      "model_module": "@jupyter-widgets/base",
      "model_module_version": "1.2.0",
      "model_name": "LayoutModel",
      "state": {
       "_model_module": "@jupyter-widgets/base",
       "_model_module_version": "1.2.0",
       "_model_name": "LayoutModel",
       "_view_count": null,
       "_view_module": "@jupyter-widgets/base",
       "_view_module_version": "1.2.0",
       "_view_name": "LayoutView",
       "align_content": null,
       "align_items": null,
       "align_self": null,
       "border": null,
       "bottom": null,
       "display": null,
       "flex": null,
       "flex_flow": null,
       "grid_area": null,
       "grid_auto_columns": null,
       "grid_auto_flow": null,
       "grid_auto_rows": null,
       "grid_column": null,
       "grid_gap": null,
       "grid_row": null,
       "grid_template_areas": null,
       "grid_template_columns": null,
       "grid_template_rows": null,
       "height": null,
       "justify_content": null,
       "justify_items": null,
       "left": null,
       "margin": null,
       "max_height": null,
       "max_width": null,
       "min_height": null,
       "min_width": null,
       "object_fit": null,
       "object_position": null,
       "order": null,
       "overflow": null,
       "overflow_x": null,
       "overflow_y": null,
       "padding": null,
       "right": null,
       "top": null,
       "visibility": null,
       "width": null
      }
     },
     "bf3c1055741047dcb60ee3b320fc1ead": {
      "model_module": "@jupyter-widgets/base",
      "model_module_version": "1.2.0",
      "model_name": "LayoutModel",
      "state": {
       "_model_module": "@jupyter-widgets/base",
       "_model_module_version": "1.2.0",
       "_model_name": "LayoutModel",
       "_view_count": null,
       "_view_module": "@jupyter-widgets/base",
       "_view_module_version": "1.2.0",
       "_view_name": "LayoutView",
       "align_content": null,
       "align_items": null,
       "align_self": null,
       "border": null,
       "bottom": null,
       "display": null,
       "flex": null,
       "flex_flow": null,
       "grid_area": null,
       "grid_auto_columns": null,
       "grid_auto_flow": null,
       "grid_auto_rows": null,
       "grid_column": null,
       "grid_gap": null,
       "grid_row": null,
       "grid_template_areas": null,
       "grid_template_columns": null,
       "grid_template_rows": null,
       "height": null,
       "justify_content": null,
       "justify_items": null,
       "left": null,
       "margin": null,
       "max_height": null,
       "max_width": null,
       "min_height": null,
       "min_width": null,
       "object_fit": null,
       "object_position": null,
       "order": null,
       "overflow": null,
       "overflow_x": null,
       "overflow_y": null,
       "padding": null,
       "right": null,
       "top": null,
       "visibility": null,
       "width": null
      }
     },
     "cb9ff09eb6cf409bb0e3b60d81ea688f": {
      "model_module": "jupyter-matplotlib",
      "model_module_version": "^0.8.3",
      "model_name": "MPLCanvasModel",
      "state": {
       "_cursor": "pointer",
       "_dom_classes": [],
       "_figure_label": "Figure",
       "_height": 0,
       "_image_mode": "full",
       "_message": "",
       "_model_module": "jupyter-matplotlib",
       "_model_module_version": "^0.8.3",
       "_model_name": "MPLCanvasModel",
       "_rubberband_height": 0,
       "_rubberband_width": 0,
       "_rubberband_x": 0,
       "_rubberband_y": 0,
       "_view_count": null,
       "_view_module": "jupyter-matplotlib",
       "_view_module_version": "^0.8.3",
       "_view_name": "MPLCanvasView",
       "_width": 0,
       "capture_scroll": false,
       "footer_visible": true,
       "header_visible": true,
       "layout": "IPY_MODEL_abb471de8f634d40a487ec9e28578cd8",
       "resizable": true,
       "toolbar": "IPY_MODEL_e46389e85da24613be293eb31f8b0c5a",
       "toolbar_position": "left",
       "toolbar_visible": true
      }
     },
     "cda10b682590450eac37eeb550b0f70c": {
      "model_module": "@jupyter-widgets/base",
      "model_module_version": "1.2.0",
      "model_name": "LayoutModel",
      "state": {
       "_model_module": "@jupyter-widgets/base",
       "_model_module_version": "1.2.0",
       "_model_name": "LayoutModel",
       "_view_count": null,
       "_view_module": "@jupyter-widgets/base",
       "_view_module_version": "1.2.0",
       "_view_name": "LayoutView",
       "align_content": null,
       "align_items": null,
       "align_self": null,
       "border": null,
       "bottom": null,
       "display": null,
       "flex": null,
       "flex_flow": null,
       "grid_area": null,
       "grid_auto_columns": null,
       "grid_auto_flow": null,
       "grid_auto_rows": null,
       "grid_column": null,
       "grid_gap": null,
       "grid_row": null,
       "grid_template_areas": null,
       "grid_template_columns": null,
       "grid_template_rows": null,
       "height": null,
       "justify_content": null,
       "justify_items": null,
       "left": null,
       "margin": null,
       "max_height": null,
       "max_width": null,
       "min_height": null,
       "min_width": null,
       "object_fit": null,
       "object_position": null,
       "order": null,
       "overflow": null,
       "overflow_x": null,
       "overflow_y": null,
       "padding": null,
       "right": null,
       "top": null,
       "visibility": null,
       "width": null
      }
     },
     "e3dd1315d89d49d3888190e60cde2a8f": {
      "model_module": "jupyter-matplotlib",
      "model_module_version": "^0.8.3",
      "model_name": "MPLCanvasModel",
      "state": {
       "_cursor": "pointer",
       "_dom_classes": [],
       "_figure_label": "Figure",
       "_height": 0,
       "_image_mode": "full",
       "_message": "",
       "_model_module": "jupyter-matplotlib",
       "_model_module_version": "^0.8.3",
       "_model_name": "MPLCanvasModel",
       "_rubberband_height": 0,
       "_rubberband_width": 0,
       "_rubberband_x": 0,
       "_rubberband_y": 0,
       "_view_count": null,
       "_view_module": "jupyter-matplotlib",
       "_view_module_version": "^0.8.3",
       "_view_name": "MPLCanvasView",
       "_width": 0,
       "capture_scroll": false,
       "footer_visible": true,
       "header_visible": true,
       "layout": "IPY_MODEL_bf3c1055741047dcb60ee3b320fc1ead",
       "resizable": true,
       "toolbar": "IPY_MODEL_482ca75228bd42d2b3a7991fe9696b62",
       "toolbar_position": "left",
       "toolbar_visible": true
      }
     },
     "e46389e85da24613be293eb31f8b0c5a": {
      "model_module": "jupyter-matplotlib",
      "model_module_version": "^0.8.3",
      "model_name": "ToolbarModel",
      "state": {
       "_current_action": "",
       "_dom_classes": [],
       "_model_module": "jupyter-matplotlib",
       "_model_module_version": "^0.8.3",
       "_model_name": "ToolbarModel",
       "_view_count": null,
       "_view_module": "jupyter-matplotlib",
       "_view_module_version": "^0.8.3",
       "_view_name": "ToolbarView",
       "button_style": "",
       "collapsed": true,
       "layout": "IPY_MODEL_485a3c6dcc13434b921076f5bb38f85f",
       "orientation": "vertical",
       "toolitems": [
        [
         "Home",
         "Reset original view",
         "home",
         "home"
        ],
        [
         "Back",
         "Back to previous view",
         "arrow-left",
         "back"
        ],
        [
         "Forward",
         "Forward to next view",
         "arrow-right",
         "forward"
        ],
        [
         "Pan",
         "Left button pans, Right button zooms\nx/y fixes axis, CTRL fixes aspect",
         "arrows",
         "pan"
        ],
        [
         "Zoom",
         "Zoom to rectangle\nx/y fixes axis, CTRL fixes aspect",
         "square-o",
         "zoom"
        ],
        [
         "Download",
         "Download plot",
         "floppy-o",
         "save_figure"
        ]
       ]
      }
     },
     "e4ac7290227a4a63a18db7b41daf6c87": {
      "model_module": "jupyter-matplotlib",
      "model_module_version": "^0.8.3",
      "model_name": "ToolbarModel",
      "state": {
       "_current_action": "",
       "_dom_classes": [],
       "_model_module": "jupyter-matplotlib",
       "_model_module_version": "^0.8.3",
       "_model_name": "ToolbarModel",
       "_view_count": null,
       "_view_module": "jupyter-matplotlib",
       "_view_module_version": "^0.8.3",
       "_view_name": "ToolbarView",
       "button_style": "",
       "collapsed": true,
       "layout": "IPY_MODEL_7fb95d844a0a4edc8dd950d2dfe3016a",
       "orientation": "vertical",
       "toolitems": [
        [
         "Home",
         "Reset original view",
         "home",
         "home"
        ],
        [
         "Back",
         "Back to previous view",
         "arrow-left",
         "back"
        ],
        [
         "Forward",
         "Forward to next view",
         "arrow-right",
         "forward"
        ],
        [
         "Pan",
         "Left button pans, Right button zooms\nx/y fixes axis, CTRL fixes aspect",
         "arrows",
         "pan"
        ],
        [
         "Zoom",
         "Zoom to rectangle\nx/y fixes axis, CTRL fixes aspect",
         "square-o",
         "zoom"
        ],
        [
         "Download",
         "Download plot",
         "floppy-o",
         "save_figure"
        ]
       ]
      }
     }
    },
    "version_major": 2,
    "version_minor": 0
   }
  }
 },
 "nbformat": 4,
 "nbformat_minor": 4
}
