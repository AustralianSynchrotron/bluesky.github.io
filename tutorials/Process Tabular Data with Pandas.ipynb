{
 "cells": [
  {
   "cell_type": "markdown",
   "metadata": {},
   "source": [
    "# Process Tabular Data with Pandas\n",
    "\n",
    "In this notebook you will:\n",
    "\n",
    "* Load a data from a scan.\n",
    "* Visualize it.\n",
    "* Explore the dataset, performing basic filtering and statistic operations using ``pandas``.\n",
    "\n",
    "Recommended Prerequisites:\n",
    "\n",
    "* [Hello Bluesky](./Hello%20Bluesky.ipynb)\n",
    "\n",
    "## Configuration\n",
    "Below, we will connect to EPICS IOC(s) controlling simulated hardware in lieu of actual motors, detectors. The IOCs should already be running in the background. Run this command to verify that they are running: it should produce output with RUNNING on each line. In the event of a problem, edit this command to replace status with restart all and run again.\n"
   ]
  },
  {
   "cell_type": "code",
   "execution_count": 1,
   "metadata": {},
   "outputs": [
    {
     "name": "stdout",
     "output_type": "stream",
     "text": [
      "decay                            RUNNING   pid 4939, uptime 0:03:36\r\n",
      "mini_beamline                    RUNNING   pid 4940, uptime 0:03:36\r\n",
      "random_walk                      RUNNING   pid 4941, uptime 0:03:36\r\n",
      "random_walk_horiz                RUNNING   pid 4942, uptime 0:03:36\r\n",
      "random_walk_vert                 RUNNING   pid 4943, uptime 0:03:36\r\n",
      "simple                           RUNNING   pid 4944, uptime 0:03:36\r\n",
      "thermo_sim                       RUNNING   pid 4945, uptime 0:03:36\r\n",
      "trigger_with_pc                  RUNNING   pid 4946, uptime 0:03:36\r\n"
     ]
    }
   ],
   "source": [
    "!supervisorctl -c supervisor/supervisord.conf status"
   ]
  },
  {
   "cell_type": "code",
   "execution_count": 2,
   "metadata": {},
   "outputs": [
    {
     "name": "stderr",
     "output_type": "stream",
     "text": [
      "/home/travis/virtualenv/python3.7.1/lib/python3.7/site-packages/pims/image_reader.py:26: RuntimeWarning: PIMS image_reader.py could not find scikit-image. Falling back to matplotlib's imread(), which uses floats instead of integers. This may break your scripts. \n",
      "(To ignore this warning, include the line \"warnings.simplefilter(\"ignore\", RuntimeWarning)\" in your script.)\n",
      "  warnings.warn(RuntimeWarning(ski_preferred))\n"
     ]
    }
   ],
   "source": [
    "%run scripts/beamline_configuration.py"
   ]
  },
  {
   "cell_type": "markdown",
   "metadata": {},
   "source": [
    "## Quickly access and explore the data\n",
    "\n",
    "Let's take sample data."
   ]
  },
  {
   "cell_type": "code",
   "execution_count": 3,
   "metadata": {
    "nbshpinx": "hidden"
   },
   "outputs": [
    {
     "data": {
      "application/vnd.jupyter.widget-view+json": {
       "model_id": "744356df731440719f5d6e556d85b1a8",
       "version_major": 2,
       "version_minor": 0
      },
      "text/plain": [
       "Canvas(toolbar=Toolbar(toolitems=[('Home', 'Reset original view', 'home', 'home'), ('Back', 'Back to previous …"
      ]
     },
     "metadata": {},
     "output_type": "display_data"
    },
    {
     "data": {
      "text/plain": [
       "<Figure size 640x480 with 0 Axes>"
      ]
     },
     "execution_count": 3,
     "metadata": {},
     "output_type": "execute_result"
    }
   ],
   "source": [
    "# Creating a figure explicitly in advance helps with the\n",
    "# top-to-bottom flow of this notebook, but it is not necessary.\n",
    "# If this is omitted, bluesky will cause a figure to appear\n",
    "# during the RE(...) execution below.\n",
    "plt.figure('I slit_det vs motor_slit')"
   ]
  },
  {
   "cell_type": "code",
   "execution_count": 4,
   "metadata": {},
   "outputs": [
    {
     "name": "stdout",
     "output_type": "stream",
     "text": [
      "\n",
      "\n",
      "Transient Scan ID: 26     Time: 2020-06-30 20:18:16\n",
      "Persistent Unique Scan ID: '5f5faef8-2101-4c13-8c23-1ef1855f7828'\n"
     ]
    },
    {
     "name": "stdout",
     "output_type": "stream",
     "text": [
      "New stream: 'primary'\n"
     ]
    },
    {
     "name": "stdout",
     "output_type": "stream",
     "text": [
      "+-----------+------------+------------+------------+------------+\n",
      "|   seq_num |       time | motor_slit |   slit_det |          I |\n",
      "+-----------+------------+------------+------------+------------+\n",
      "|         1 | 20:18:17.4 |    -10.000 |       8332 |        525 |\n",
      "|         2 | 20:18:17.5 |     -8.571 |      28681 |        521 |\n",
      "|         3 | 20:18:17.6 |     -7.143 |      59716 |        521 |\n",
      "|         4 | 20:18:17.6 |     -5.714 |      88280 |        521 |\n",
      "|         5 | 20:18:17.6 |     -4.286 |     100579 |        518 |\n",
      "|         6 | 20:18:17.6 |     -2.857 |     102528 |        518 |\n",
      "|         7 | 20:18:17.6 |     -1.429 |     103229 |        518 |\n",
      "|         8 | 20:18:17.6 |      0.000 |     103434 |        518 |\n",
      "|         9 | 20:18:17.6 |      1.429 |     102978 |        518 |\n"
     ]
    },
    {
     "name": "stdout",
     "output_type": "stream",
     "text": [
      "|        10 | 20:18:17.7 |      2.857 |     103219 |        518 |\n",
      "|        11 | 20:18:17.7 |      4.286 |     100103 |        518 |\n",
      "|        12 | 20:18:17.7 |      5.714 |      87257 |        518 |\n",
      "|        13 | 20:18:17.7 |      7.143 |      59436 |        515 |\n",
      "|        14 | 20:18:17.8 |      8.571 |      27655 |        512 |\n"
     ]
    },
    {
     "name": "stdout",
     "output_type": "stream",
     "text": [
      "|        15 | 20:18:17.9 |     10.000 |       8133 |        512 |\n",
      "+-----------+------------+------------+------------+------------+\n",
      "generator scan ['5f5faef8'] (scan num: 26)\n",
      "\n",
      "\n",
      "\n"
     ]
    },
    {
     "data": {
      "text/plain": [
       "('5f5faef8-2101-4c13-8c23-1ef1855f7828',)"
      ]
     },
     "execution_count": 4,
     "metadata": {},
     "output_type": "execute_result"
    }
   ],
   "source": [
    "RE(scan([slit, I], motor_slit, -10, 10, 15))"
   ]
  },
  {
   "cell_type": "code",
   "execution_count": 5,
   "metadata": {},
   "outputs": [
    {
     "data": {
      "image/png": "[encoded data removed]",
      "text/plain": [
       "<Figure size 640x800 with 2 Axes>"
      ]
     },
     "execution_count": 5,
     "metadata": {},
     "output_type": "execute_result"
    }
   ],
   "source": [
    "plt.gcf()  # Display a snapshot of the current state of the figure."
   ]
  },
  {
   "cell_type": "markdown",
   "metadata": {},
   "source": [
    "Previously we used the syntax ``db(...)`` to search for Headers. We looped through each Header and extracted some of the metadata encapsulated in it. We use the shorthand ``db[-N]`` to retrieve exactly _one_ header, the one corresponding to ``N`` runs ago. "
   ]
  },
  {
   "cell_type": "code",
   "execution_count": 6,
   "metadata": {},
   "outputs": [],
   "source": [
    "header = db[-1]  # Header for the most recent one (i.e. 1 run ago)"
   ]
  },
  {
   "cell_type": "markdown",
   "metadata": {},
   "source": [
    "We can access the data as a table. This object is called a ``pandas.DataFrame``, a high-performance, spreadsheet-like object in Python."
   ]
  },
  {
   "cell_type": "code",
   "execution_count": 7,
   "metadata": {},
   "outputs": [],
   "source": [
    "data = header.table()"
   ]
  },
  {
   "cell_type": "markdown",
   "metadata": {},
   "source": [
    "It display prettily, truncating if needed."
   ]
  },
  {
   "cell_type": "code",
   "execution_count": 8,
   "metadata": {},
   "outputs": [
    {
     "data": {
      "text/html": [
       "<div>\n",
       "<style scoped>\n",
       "    .dataframe tbody tr th:only-of-type {\n",
       "        vertical-align: middle;\n",
       "    }\n",
       "\n",
       "    .dataframe tbody tr th {\n",
       "        vertical-align: top;\n",
       "    }\n",
       "\n",
       "    .dataframe thead th {\n",
       "        text-align: right;\n",
       "    }\n",
       "</style>\n",
       "<table border=\"1\" class=\"dataframe\">\n",
       "  <thead>\n",
       "    <tr style=\"text-align: right;\">\n",
       "      <th></th>\n",
       "      <th>time</th>\n",
       "      <th>slit_det</th>\n",
       "      <th>motor_slit</th>\n",
       "      <th>I</th>\n",
       "    </tr>\n",
       "    <tr>\n",
       "      <th>seq_num</th>\n",
       "      <th></th>\n",
       "      <th></th>\n",
       "      <th></th>\n",
       "      <th></th>\n",
       "    </tr>\n",
       "  </thead>\n",
       "  <tbody>\n",
       "    <tr>\n",
       "      <th>1</th>\n",
       "      <td>2020-06-30 20:18:17.498610020</td>\n",
       "      <td>8332.0</td>\n",
       "      <td>-10.000000</td>\n",
       "      <td>524.991550</td>\n",
       "    </tr>\n",
       "    <tr>\n",
       "      <th>2</th>\n",
       "      <td>2020-06-30 20:18:17.558507681</td>\n",
       "      <td>28681.0</td>\n",
       "      <td>-8.571429</td>\n",
       "      <td>520.554512</td>\n",
       "    </tr>\n",
       "    <tr>\n",
       "      <th>3</th>\n",
       "      <td>2020-06-30 20:18:17.607536077</td>\n",
       "      <td>59716.0</td>\n",
       "      <td>-7.142857</td>\n",
       "      <td>520.554512</td>\n",
       "    </tr>\n",
       "    <tr>\n",
       "      <th>4</th>\n",
       "      <td>2020-06-30 20:18:17.635449409</td>\n",
       "      <td>88280.0</td>\n",
       "      <td>-5.714286</td>\n",
       "      <td>520.554512</td>\n",
       "    </tr>\n",
       "    <tr>\n",
       "      <th>5</th>\n",
       "      <td>2020-06-30 20:18:17.647403955</td>\n",
       "      <td>100579.0</td>\n",
       "      <td>-4.285714</td>\n",
       "      <td>518.070268</td>\n",
       "    </tr>\n",
       "    <tr>\n",
       "      <th>6</th>\n",
       "      <td>2020-06-30 20:18:17.658891678</td>\n",
       "      <td>102528.0</td>\n",
       "      <td>-2.857143</td>\n",
       "      <td>518.070268</td>\n",
       "    </tr>\n",
       "    <tr>\n",
       "      <th>7</th>\n",
       "      <td>2020-06-30 20:18:17.669494629</td>\n",
       "      <td>103229.0</td>\n",
       "      <td>-1.428571</td>\n",
       "      <td>518.070268</td>\n",
       "    </tr>\n",
       "    <tr>\n",
       "      <th>8</th>\n",
       "      <td>2020-06-30 20:18:17.679463148</td>\n",
       "      <td>103434.0</td>\n",
       "      <td>0.000000</td>\n",
       "      <td>518.070268</td>\n",
       "    </tr>\n",
       "    <tr>\n",
       "      <th>9</th>\n",
       "      <td>2020-06-30 20:18:17.689718723</td>\n",
       "      <td>102978.0</td>\n",
       "      <td>1.428571</td>\n",
       "      <td>518.070268</td>\n",
       "    </tr>\n",
       "    <tr>\n",
       "      <th>10</th>\n",
       "      <td>2020-06-30 20:18:17.700291872</td>\n",
       "      <td>103219.0</td>\n",
       "      <td>2.857143</td>\n",
       "      <td>518.070268</td>\n",
       "    </tr>\n",
       "    <tr>\n",
       "      <th>11</th>\n",
       "      <td>2020-06-30 20:18:17.710948706</td>\n",
       "      <td>100103.0</td>\n",
       "      <td>4.285714</td>\n",
       "      <td>518.070268</td>\n",
       "    </tr>\n",
       "    <tr>\n",
       "      <th>12</th>\n",
       "      <td>2020-06-30 20:18:17.721653700</td>\n",
       "      <td>87257.0</td>\n",
       "      <td>5.714286</td>\n",
       "      <td>518.070268</td>\n",
       "    </tr>\n",
       "    <tr>\n",
       "      <th>13</th>\n",
       "      <td>2020-06-30 20:18:17.779705763</td>\n",
       "      <td>59436.0</td>\n",
       "      <td>7.142857</td>\n",
       "      <td>515.085744</td>\n",
       "    </tr>\n",
       "    <tr>\n",
       "      <th>14</th>\n",
       "      <td>2020-06-30 20:18:17.876235247</td>\n",
       "      <td>27655.0</td>\n",
       "      <td>8.571429</td>\n",
       "      <td>511.761259</td>\n",
       "    </tr>\n",
       "    <tr>\n",
       "      <th>15</th>\n",
       "      <td>2020-06-30 20:18:17.946244955</td>\n",
       "      <td>8133.0</td>\n",
       "      <td>10.000000</td>\n",
       "      <td>511.761259</td>\n",
       "    </tr>\n",
       "  </tbody>\n",
       "</table>\n",
       "</div>"
      ],
      "text/plain": [
       "                                 time  slit_det  motor_slit           I\n",
       "seq_num                                                                \n",
       "1       2020-06-30 20:18:17.498610020    8332.0  -10.000000  524.991550\n",
       "2       2020-06-30 20:18:17.558507681   28681.0   -8.571429  520.554512\n",
       "3       2020-06-30 20:18:17.607536077   59716.0   -7.142857  520.554512\n",
       "4       2020-06-30 20:18:17.635449409   88280.0   -5.714286  520.554512\n",
       "5       2020-06-30 20:18:17.647403955  100579.0   -4.285714  518.070268\n",
       "6       2020-06-30 20:18:17.658891678  102528.0   -2.857143  518.070268\n",
       "7       2020-06-30 20:18:17.669494629  103229.0   -1.428571  518.070268\n",
       "8       2020-06-30 20:18:17.679463148  103434.0    0.000000  518.070268\n",
       "9       2020-06-30 20:18:17.689718723  102978.0    1.428571  518.070268\n",
       "10      2020-06-30 20:18:17.700291872  103219.0    2.857143  518.070268\n",
       "11      2020-06-30 20:18:17.710948706  100103.0    4.285714  518.070268\n",
       "12      2020-06-30 20:18:17.721653700   87257.0    5.714286  518.070268\n",
       "13      2020-06-30 20:18:17.779705763   59436.0    7.142857  515.085744\n",
       "14      2020-06-30 20:18:17.876235247   27655.0    8.571429  511.761259\n",
       "15      2020-06-30 20:18:17.946244955    8133.0   10.000000  511.761259"
      ]
     },
     "execution_count": 8,
     "metadata": {},
     "output_type": "execute_result"
    }
   ],
   "source": [
    "data"
   ]
  },
  {
   "cell_type": "markdown",
   "metadata": {},
   "source": [
    "For large tables, it's handy to know how to ask for just the first or last couple rows."
   ]
  },
  {
   "cell_type": "markdown",
   "metadata": {},
   "source": [
    "It is easy to visualize."
   ]
  },
  {
   "cell_type": "code",
   "execution_count": 9,
   "metadata": {},
   "outputs": [
    {
     "data": {
      "application/vnd.jupyter.widget-view+json": {
       "model_id": "34e05caabce14d3695e599c66e5c8688",
       "version_major": 2,
       "version_minor": 0
      },
      "text/plain": [
       "Canvas(toolbar=Toolbar(toolitems=[('Home', 'Reset original view', 'home', 'home'), ('Back', 'Back to previous …"
      ]
     },
     "metadata": {},
     "output_type": "display_data"
    },
    {
     "data": {
      "text/plain": [
       "<matplotlib.axes._subplots.AxesSubplot at 0x7f91d2bab128>"
      ]
     },
     "execution_count": 9,
     "metadata": {},
     "output_type": "execute_result"
    }
   ],
   "source": [
    "data.plot(x='motor_slit', y='slit_det')"
   ]
  },
  {
   "cell_type": "code",
   "execution_count": 10,
   "metadata": {},
   "outputs": [
    {
     "data": {
      "image/png": "[encoded data removed]",
      "text/plain": [
       "<Figure size 640x480 with 1 Axes>"
      ]
     },
     "execution_count": 10,
     "metadata": {},
     "output_type": "execute_result"
    }
   ],
   "source": [
    "plt.gcf()  # Display a snapshot of the current state of the figure."
   ]
  },
  {
   "cell_type": "code",
   "execution_count": 11,
   "metadata": {},
   "outputs": [
    {
     "data": {
      "text/html": [
       "<div>\n",
       "<style scoped>\n",
       "    .dataframe tbody tr th:only-of-type {\n",
       "        vertical-align: middle;\n",
       "    }\n",
       "\n",
       "    .dataframe tbody tr th {\n",
       "        vertical-align: top;\n",
       "    }\n",
       "\n",
       "    .dataframe thead th {\n",
       "        text-align: right;\n",
       "    }\n",
       "</style>\n",
       "<table border=\"1\" class=\"dataframe\">\n",
       "  <thead>\n",
       "    <tr style=\"text-align: right;\">\n",
       "      <th></th>\n",
       "      <th>time</th>\n",
       "      <th>slit_det</th>\n",
       "      <th>motor_slit</th>\n",
       "      <th>I</th>\n",
       "    </tr>\n",
       "    <tr>\n",
       "      <th>seq_num</th>\n",
       "      <th></th>\n",
       "      <th></th>\n",
       "      <th></th>\n",
       "      <th></th>\n",
       "    </tr>\n",
       "  </thead>\n",
       "  <tbody>\n",
       "    <tr>\n",
       "      <th>1</th>\n",
       "      <td>2020-06-30 20:18:17.498610020</td>\n",
       "      <td>8332.0</td>\n",
       "      <td>-10.000000</td>\n",
       "      <td>524.991550</td>\n",
       "    </tr>\n",
       "    <tr>\n",
       "      <th>2</th>\n",
       "      <td>2020-06-30 20:18:17.558507681</td>\n",
       "      <td>28681.0</td>\n",
       "      <td>-8.571429</td>\n",
       "      <td>520.554512</td>\n",
       "    </tr>\n",
       "    <tr>\n",
       "      <th>3</th>\n",
       "      <td>2020-06-30 20:18:17.607536077</td>\n",
       "      <td>59716.0</td>\n",
       "      <td>-7.142857</td>\n",
       "      <td>520.554512</td>\n",
       "    </tr>\n",
       "    <tr>\n",
       "      <th>4</th>\n",
       "      <td>2020-06-30 20:18:17.635449409</td>\n",
       "      <td>88280.0</td>\n",
       "      <td>-5.714286</td>\n",
       "      <td>520.554512</td>\n",
       "    </tr>\n",
       "    <tr>\n",
       "      <th>5</th>\n",
       "      <td>2020-06-30 20:18:17.647403955</td>\n",
       "      <td>100579.0</td>\n",
       "      <td>-4.285714</td>\n",
       "      <td>518.070268</td>\n",
       "    </tr>\n",
       "  </tbody>\n",
       "</table>\n",
       "</div>"
      ],
      "text/plain": [
       "                                 time  slit_det  motor_slit           I\n",
       "seq_num                                                                \n",
       "1       2020-06-30 20:18:17.498610020    8332.0  -10.000000  524.991550\n",
       "2       2020-06-30 20:18:17.558507681   28681.0   -8.571429  520.554512\n",
       "3       2020-06-30 20:18:17.607536077   59716.0   -7.142857  520.554512\n",
       "4       2020-06-30 20:18:17.635449409   88280.0   -5.714286  520.554512\n",
       "5       2020-06-30 20:18:17.647403955  100579.0   -4.285714  518.070268"
      ]
     },
     "execution_count": 11,
     "metadata": {},
     "output_type": "execute_result"
    }
   ],
   "source": [
    "data.head()"
   ]
  },
  {
   "cell_type": "code",
   "execution_count": 12,
   "metadata": {},
   "outputs": [
    {
     "data": {
      "text/html": [
       "<div>\n",
       "<style scoped>\n",
       "    .dataframe tbody tr th:only-of-type {\n",
       "        vertical-align: middle;\n",
       "    }\n",
       "\n",
       "    .dataframe tbody tr th {\n",
       "        vertical-align: top;\n",
       "    }\n",
       "\n",
       "    .dataframe thead th {\n",
       "        text-align: right;\n",
       "    }\n",
       "</style>\n",
       "<table border=\"1\" class=\"dataframe\">\n",
       "  <thead>\n",
       "    <tr style=\"text-align: right;\">\n",
       "      <th></th>\n",
       "      <th>time</th>\n",
       "      <th>slit_det</th>\n",
       "      <th>motor_slit</th>\n",
       "      <th>I</th>\n",
       "    </tr>\n",
       "    <tr>\n",
       "      <th>seq_num</th>\n",
       "      <th></th>\n",
       "      <th></th>\n",
       "      <th></th>\n",
       "      <th></th>\n",
       "    </tr>\n",
       "  </thead>\n",
       "  <tbody>\n",
       "    <tr>\n",
       "      <th>11</th>\n",
       "      <td>2020-06-30 20:18:17.710948706</td>\n",
       "      <td>100103.0</td>\n",
       "      <td>4.285714</td>\n",
       "      <td>518.070268</td>\n",
       "    </tr>\n",
       "    <tr>\n",
       "      <th>12</th>\n",
       "      <td>2020-06-30 20:18:17.721653700</td>\n",
       "      <td>87257.0</td>\n",
       "      <td>5.714286</td>\n",
       "      <td>518.070268</td>\n",
       "    </tr>\n",
       "    <tr>\n",
       "      <th>13</th>\n",
       "      <td>2020-06-30 20:18:17.779705763</td>\n",
       "      <td>59436.0</td>\n",
       "      <td>7.142857</td>\n",
       "      <td>515.085744</td>\n",
       "    </tr>\n",
       "    <tr>\n",
       "      <th>14</th>\n",
       "      <td>2020-06-30 20:18:17.876235247</td>\n",
       "      <td>27655.0</td>\n",
       "      <td>8.571429</td>\n",
       "      <td>511.761259</td>\n",
       "    </tr>\n",
       "    <tr>\n",
       "      <th>15</th>\n",
       "      <td>2020-06-30 20:18:17.946244955</td>\n",
       "      <td>8133.0</td>\n",
       "      <td>10.000000</td>\n",
       "      <td>511.761259</td>\n",
       "    </tr>\n",
       "  </tbody>\n",
       "</table>\n",
       "</div>"
      ],
      "text/plain": [
       "                                 time  slit_det  motor_slit           I\n",
       "seq_num                                                                \n",
       "11      2020-06-30 20:18:17.710948706  100103.0    4.285714  518.070268\n",
       "12      2020-06-30 20:18:17.721653700   87257.0    5.714286  518.070268\n",
       "13      2020-06-30 20:18:17.779705763   59436.0    7.142857  515.085744\n",
       "14      2020-06-30 20:18:17.876235247   27655.0    8.571429  511.761259\n",
       "15      2020-06-30 20:18:17.946244955    8133.0   10.000000  511.761259"
      ]
     },
     "execution_count": 12,
     "metadata": {},
     "output_type": "execute_result"
    }
   ],
   "source": [
    "data.tail()"
   ]
  },
  {
   "cell_type": "markdown",
   "metadata": {},
   "source": [
    "Statistics on columns are simple to compute."
   ]
  },
  {
   "cell_type": "code",
   "execution_count": 13,
   "metadata": {},
   "outputs": [
    {
     "data": {
      "text/plain": [
       "slit_det      7.223733e+04\n",
       "motor_slit    4.736952e-16\n",
       "I             5.179884e+02\n",
       "dtype: float64"
      ]
     },
     "execution_count": 13,
     "metadata": {},
     "output_type": "execute_result"
    }
   ],
   "source": [
    "data.mean()"
   ]
  },
  {
   "cell_type": "code",
   "execution_count": 14,
   "metadata": {},
   "outputs": [
    {
     "data": {
      "text/plain": [
       "time          2020-06-30 20:18:17.498610020\n",
       "slit_det                               8133\n",
       "motor_slit                              -10\n",
       "I                                   511.761\n",
       "dtype: object"
      ]
     },
     "execution_count": 14,
     "metadata": {},
     "output_type": "execute_result"
    }
   ],
   "source": [
    "data.min()"
   ]
  },
  {
   "cell_type": "markdown",
   "metadata": {},
   "source": [
    "Or just ask for all the common stats at once:"
   ]
  },
  {
   "cell_type": "code",
   "execution_count": 15,
   "metadata": {},
   "outputs": [
    {
     "data": {
      "text/html": [
       "<div>\n",
       "<style scoped>\n",
       "    .dataframe tbody tr th:only-of-type {\n",
       "        vertical-align: middle;\n",
       "    }\n",
       "\n",
       "    .dataframe tbody tr th {\n",
       "        vertical-align: top;\n",
       "    }\n",
       "\n",
       "    .dataframe thead th {\n",
       "        text-align: right;\n",
       "    }\n",
       "</style>\n",
       "<table border=\"1\" class=\"dataframe\">\n",
       "  <thead>\n",
       "    <tr style=\"text-align: right;\">\n",
       "      <th></th>\n",
       "      <th>slit_det</th>\n",
       "      <th>motor_slit</th>\n",
       "      <th>I</th>\n",
       "    </tr>\n",
       "  </thead>\n",
       "  <tbody>\n",
       "    <tr>\n",
       "      <th>count</th>\n",
       "      <td>15.000000</td>\n",
       "      <td>1.500000e+01</td>\n",
       "      <td>15.000000</td>\n",
       "    </tr>\n",
       "    <tr>\n",
       "      <th>mean</th>\n",
       "      <td>72237.333333</td>\n",
       "      <td>4.736952e-16</td>\n",
       "      <td>517.988366</td>\n",
       "    </tr>\n",
       "    <tr>\n",
       "      <th>std</th>\n",
       "      <td>37049.627788</td>\n",
       "      <td>6.388766e+00</td>\n",
       "      <td>3.325577</td>\n",
       "    </tr>\n",
       "    <tr>\n",
       "      <th>min</th>\n",
       "      <td>8133.000000</td>\n",
       "      <td>-1.000000e+01</td>\n",
       "      <td>511.761259</td>\n",
       "    </tr>\n",
       "    <tr>\n",
       "      <th>25%</th>\n",
       "      <td>44058.500000</td>\n",
       "      <td>-5.000000e+00</td>\n",
       "      <td>518.070268</td>\n",
       "    </tr>\n",
       "    <tr>\n",
       "      <th>50%</th>\n",
       "      <td>88280.000000</td>\n",
       "      <td>0.000000e+00</td>\n",
       "      <td>518.070268</td>\n",
       "    </tr>\n",
       "    <tr>\n",
       "      <th>75%</th>\n",
       "      <td>102753.000000</td>\n",
       "      <td>5.000000e+00</td>\n",
       "      <td>519.312390</td>\n",
       "    </tr>\n",
       "    <tr>\n",
       "      <th>max</th>\n",
       "      <td>103434.000000</td>\n",
       "      <td>1.000000e+01</td>\n",
       "      <td>524.991550</td>\n",
       "    </tr>\n",
       "  </tbody>\n",
       "</table>\n",
       "</div>"
      ],
      "text/plain": [
       "            slit_det    motor_slit           I\n",
       "count      15.000000  1.500000e+01   15.000000\n",
       "mean    72237.333333  4.736952e-16  517.988366\n",
       "std     37049.627788  6.388766e+00    3.325577\n",
       "min      8133.000000 -1.000000e+01  511.761259\n",
       "25%     44058.500000 -5.000000e+00  518.070268\n",
       "50%     88280.000000  0.000000e+00  518.070268\n",
       "75%    102753.000000  5.000000e+00  519.312390\n",
       "max    103434.000000  1.000000e+01  524.991550"
      ]
     },
     "execution_count": 15,
     "metadata": {},
     "output_type": "execute_result"
    }
   ],
   "source": [
    "data.describe()"
   ]
  },
  {
   "cell_type": "markdown",
   "metadata": {},
   "source": [
    "## Do analysis, and plot\n",
    "\n",
    "### Normalize by beam current"
   ]
  },
  {
   "cell_type": "markdown",
   "metadata": {},
   "source": [
    "We can do math on the columns, and we can add new columns."
   ]
  },
  {
   "cell_type": "code",
   "execution_count": 16,
   "metadata": {},
   "outputs": [],
   "source": [
    "data['normalized'] = data['slit_det'] / data['I'] * data['I'].mean()"
   ]
  },
  {
   "cell_type": "markdown",
   "metadata": {},
   "source": [
    "We can plot them conveniently, addressing the columns by name."
   ]
  },
  {
   "cell_type": "code",
   "execution_count": 17,
   "metadata": {},
   "outputs": [
    {
     "data": {
      "application/vnd.jupyter.widget-view+json": {
       "model_id": "608da90c9a3a4abb9510b21b6d0b1c20",
       "version_major": 2,
       "version_minor": 0
      },
      "text/plain": [
       "Canvas(toolbar=Toolbar(toolitems=[('Home', 'Reset original view', 'home', 'home'), ('Back', 'Back to previous …"
      ]
     },
     "metadata": {},
     "output_type": "display_data"
    },
    {
     "data": {
      "text/plain": [
       "<Figure size 640x480 with 0 Axes>"
      ]
     },
     "execution_count": 17,
     "metadata": {},
     "output_type": "execute_result"
    }
   ],
   "source": [
    "plt.figure()"
   ]
  },
  {
   "cell_type": "code",
   "execution_count": 18,
   "metadata": {},
   "outputs": [
    {
     "data": {
      "image/png": "[encoded data removed]",
      "text/plain": [
       "<Figure size 640x480 with 1 Axes>"
      ]
     },
     "execution_count": 18,
     "metadata": {},
     "output_type": "execute_result"
    }
   ],
   "source": [
    "plt.plot('motor_slit', 'slit_det', data=data, label='raw')\n",
    "plt.plot('motor_slit', 'normalized', data=data, label='normalized')\n",
    "plt.legend()\n",
    "plt.gcf()"
   ]
  },
  {
   "cell_type": "markdown",
   "metadata": {},
   "source": [
    "### Select only rows with high beam current"
   ]
  },
  {
   "cell_type": "markdown",
   "metadata": {},
   "source": [
    "Select rows where the current is above `500`."
   ]
  },
  {
   "cell_type": "code",
   "execution_count": 19,
   "metadata": {},
   "outputs": [
    {
     "data": {
      "text/html": [
       "<div>\n",
       "<style scoped>\n",
       "    .dataframe tbody tr th:only-of-type {\n",
       "        vertical-align: middle;\n",
       "    }\n",
       "\n",
       "    .dataframe tbody tr th {\n",
       "        vertical-align: top;\n",
       "    }\n",
       "\n",
       "    .dataframe thead th {\n",
       "        text-align: right;\n",
       "    }\n",
       "</style>\n",
       "<table border=\"1\" class=\"dataframe\">\n",
       "  <thead>\n",
       "    <tr style=\"text-align: right;\">\n",
       "      <th></th>\n",
       "      <th>time</th>\n",
       "      <th>slit_det</th>\n",
       "      <th>motor_slit</th>\n",
       "      <th>I</th>\n",
       "      <th>normalized</th>\n",
       "    </tr>\n",
       "    <tr>\n",
       "      <th>seq_num</th>\n",
       "      <th></th>\n",
       "      <th></th>\n",
       "      <th></th>\n",
       "      <th></th>\n",
       "      <th></th>\n",
       "    </tr>\n",
       "  </thead>\n",
       "  <tbody>\n",
       "    <tr>\n",
       "      <th>1</th>\n",
       "      <td>2020-06-30 20:18:17.498610020</td>\n",
       "      <td>8332.0</td>\n",
       "      <td>-10.000000</td>\n",
       "      <td>524.991550</td>\n",
       "      <td>8220.854351</td>\n",
       "    </tr>\n",
       "    <tr>\n",
       "      <th>2</th>\n",
       "      <td>2020-06-30 20:18:17.558507681</td>\n",
       "      <td>28681.0</td>\n",
       "      <td>-8.571429</td>\n",
       "      <td>520.554512</td>\n",
       "      <td>28539.613016</td>\n",
       "    </tr>\n",
       "    <tr>\n",
       "      <th>3</th>\n",
       "      <td>2020-06-30 20:18:17.607536077</td>\n",
       "      <td>59716.0</td>\n",
       "      <td>-7.142857</td>\n",
       "      <td>520.554512</td>\n",
       "      <td>59421.621661</td>\n",
       "    </tr>\n",
       "    <tr>\n",
       "      <th>4</th>\n",
       "      <td>2020-06-30 20:18:17.635449409</td>\n",
       "      <td>88280.0</td>\n",
       "      <td>-5.714286</td>\n",
       "      <td>520.554512</td>\n",
       "      <td>87844.811444</td>\n",
       "    </tr>\n",
       "    <tr>\n",
       "      <th>5</th>\n",
       "      <td>2020-06-30 20:18:17.647403955</td>\n",
       "      <td>100579.0</td>\n",
       "      <td>-4.285714</td>\n",
       "      <td>518.070268</td>\n",
       "      <td>100563.099448</td>\n",
       "    </tr>\n",
       "    <tr>\n",
       "      <th>6</th>\n",
       "      <td>2020-06-30 20:18:17.658891678</td>\n",
       "      <td>102528.0</td>\n",
       "      <td>-2.857143</td>\n",
       "      <td>518.070268</td>\n",
       "      <td>102511.791330</td>\n",
       "    </tr>\n",
       "    <tr>\n",
       "      <th>7</th>\n",
       "      <td>2020-06-30 20:18:17.669494629</td>\n",
       "      <td>103229.0</td>\n",
       "      <td>-1.428571</td>\n",
       "      <td>518.070268</td>\n",
       "      <td>103212.680509</td>\n",
       "    </tr>\n",
       "    <tr>\n",
       "      <th>8</th>\n",
       "      <td>2020-06-30 20:18:17.679463148</td>\n",
       "      <td>103434.0</td>\n",
       "      <td>0.000000</td>\n",
       "      <td>518.070268</td>\n",
       "      <td>103417.648100</td>\n",
       "    </tr>\n",
       "    <tr>\n",
       "      <th>9</th>\n",
       "      <td>2020-06-30 20:18:17.689718723</td>\n",
       "      <td>102978.0</td>\n",
       "      <td>1.428571</td>\n",
       "      <td>518.070268</td>\n",
       "      <td>102961.720189</td>\n",
       "    </tr>\n",
       "    <tr>\n",
       "      <th>10</th>\n",
       "      <td>2020-06-30 20:18:17.700291872</td>\n",
       "      <td>103219.0</td>\n",
       "      <td>2.857143</td>\n",
       "      <td>518.070268</td>\n",
       "      <td>103202.682089</td>\n",
       "    </tr>\n",
       "    <tr>\n",
       "      <th>11</th>\n",
       "      <td>2020-06-30 20:18:17.710948706</td>\n",
       "      <td>100103.0</td>\n",
       "      <td>4.285714</td>\n",
       "      <td>518.070268</td>\n",
       "      <td>100087.174698</td>\n",
       "    </tr>\n",
       "    <tr>\n",
       "      <th>12</th>\n",
       "      <td>2020-06-30 20:18:17.721653700</td>\n",
       "      <td>87257.0</td>\n",
       "      <td>5.714286</td>\n",
       "      <td>518.070268</td>\n",
       "      <td>87243.205525</td>\n",
       "    </tr>\n",
       "    <tr>\n",
       "      <th>13</th>\n",
       "      <td>2020-06-30 20:18:17.779705763</td>\n",
       "      <td>59436.0</td>\n",
       "      <td>7.142857</td>\n",
       "      <td>515.085744</td>\n",
       "      <td>59770.935033</td>\n",
       "    </tr>\n",
       "    <tr>\n",
       "      <th>14</th>\n",
       "      <td>2020-06-30 20:18:17.876235247</td>\n",
       "      <td>27655.0</td>\n",
       "      <td>8.571429</td>\n",
       "      <td>511.761259</td>\n",
       "      <td>27991.505820</td>\n",
       "    </tr>\n",
       "    <tr>\n",
       "      <th>15</th>\n",
       "      <td>2020-06-30 20:18:17.946244955</td>\n",
       "      <td>8133.0</td>\n",
       "      <td>10.000000</td>\n",
       "      <td>511.761259</td>\n",
       "      <td>8231.962279</td>\n",
       "    </tr>\n",
       "  </tbody>\n",
       "</table>\n",
       "</div>"
      ],
      "text/plain": [
       "                                 time  slit_det  motor_slit           I  \\\n",
       "seq_num                                                                   \n",
       "1       2020-06-30 20:18:17.498610020    8332.0  -10.000000  524.991550   \n",
       "2       2020-06-30 20:18:17.558507681   28681.0   -8.571429  520.554512   \n",
       "3       2020-06-30 20:18:17.607536077   59716.0   -7.142857  520.554512   \n",
       "4       2020-06-30 20:18:17.635449409   88280.0   -5.714286  520.554512   \n",
       "5       2020-06-30 20:18:17.647403955  100579.0   -4.285714  518.070268   \n",
       "6       2020-06-30 20:18:17.658891678  102528.0   -2.857143  518.070268   \n",
       "7       2020-06-30 20:18:17.669494629  103229.0   -1.428571  518.070268   \n",
       "8       2020-06-30 20:18:17.679463148  103434.0    0.000000  518.070268   \n",
       "9       2020-06-30 20:18:17.689718723  102978.0    1.428571  518.070268   \n",
       "10      2020-06-30 20:18:17.700291872  103219.0    2.857143  518.070268   \n",
       "11      2020-06-30 20:18:17.710948706  100103.0    4.285714  518.070268   \n",
       "12      2020-06-30 20:18:17.721653700   87257.0    5.714286  518.070268   \n",
       "13      2020-06-30 20:18:17.779705763   59436.0    7.142857  515.085744   \n",
       "14      2020-06-30 20:18:17.876235247   27655.0    8.571429  511.761259   \n",
       "15      2020-06-30 20:18:17.946244955    8133.0   10.000000  511.761259   \n",
       "\n",
       "            normalized  \n",
       "seq_num                 \n",
       "1          8220.854351  \n",
       "2         28539.613016  \n",
       "3         59421.621661  \n",
       "4         87844.811444  \n",
       "5        100563.099448  \n",
       "6        102511.791330  \n",
       "7        103212.680509  \n",
       "8        103417.648100  \n",
       "9        102961.720189  \n",
       "10       103202.682089  \n",
       "11       100087.174698  \n",
       "12        87243.205525  \n",
       "13        59770.935033  \n",
       "14        27991.505820  \n",
       "15         8231.962279  "
      ]
     },
     "execution_count": 19,
     "metadata": {},
     "output_type": "execute_result"
    }
   ],
   "source": [
    "data[data['I'] > 500]"
   ]
  },
  {
   "cell_type": "markdown",
   "metadata": {},
   "source": [
    "...or, where the the current is above the 30th percentile."
   ]
  },
  {
   "cell_type": "code",
   "execution_count": 20,
   "metadata": {},
   "outputs": [
    {
     "data": {
      "text/html": [
       "<div>\n",
       "<style scoped>\n",
       "    .dataframe tbody tr th:only-of-type {\n",
       "        vertical-align: middle;\n",
       "    }\n",
       "\n",
       "    .dataframe tbody tr th {\n",
       "        vertical-align: top;\n",
       "    }\n",
       "\n",
       "    .dataframe thead th {\n",
       "        text-align: right;\n",
       "    }\n",
       "</style>\n",
       "<table border=\"1\" class=\"dataframe\">\n",
       "  <thead>\n",
       "    <tr style=\"text-align: right;\">\n",
       "      <th></th>\n",
       "      <th>time</th>\n",
       "      <th>slit_det</th>\n",
       "      <th>motor_slit</th>\n",
       "      <th>I</th>\n",
       "      <th>normalized</th>\n",
       "    </tr>\n",
       "    <tr>\n",
       "      <th>seq_num</th>\n",
       "      <th></th>\n",
       "      <th></th>\n",
       "      <th></th>\n",
       "      <th></th>\n",
       "      <th></th>\n",
       "    </tr>\n",
       "  </thead>\n",
       "  <tbody>\n",
       "    <tr>\n",
       "      <th>1</th>\n",
       "      <td>2020-06-30 20:18:17.498610020</td>\n",
       "      <td>8332.0</td>\n",
       "      <td>-10.000000</td>\n",
       "      <td>524.991550</td>\n",
       "      <td>8220.854351</td>\n",
       "    </tr>\n",
       "    <tr>\n",
       "      <th>2</th>\n",
       "      <td>2020-06-30 20:18:17.558507681</td>\n",
       "      <td>28681.0</td>\n",
       "      <td>-8.571429</td>\n",
       "      <td>520.554512</td>\n",
       "      <td>28539.613016</td>\n",
       "    </tr>\n",
       "    <tr>\n",
       "      <th>3</th>\n",
       "      <td>2020-06-30 20:18:17.607536077</td>\n",
       "      <td>59716.0</td>\n",
       "      <td>-7.142857</td>\n",
       "      <td>520.554512</td>\n",
       "      <td>59421.621661</td>\n",
       "    </tr>\n",
       "    <tr>\n",
       "      <th>4</th>\n",
       "      <td>2020-06-30 20:18:17.635449409</td>\n",
       "      <td>88280.0</td>\n",
       "      <td>-5.714286</td>\n",
       "      <td>520.554512</td>\n",
       "      <td>87844.811444</td>\n",
       "    </tr>\n",
       "  </tbody>\n",
       "</table>\n",
       "</div>"
      ],
      "text/plain": [
       "                                 time  slit_det  motor_slit           I  \\\n",
       "seq_num                                                                   \n",
       "1       2020-06-30 20:18:17.498610020    8332.0  -10.000000  524.991550   \n",
       "2       2020-06-30 20:18:17.558507681   28681.0   -8.571429  520.554512   \n",
       "3       2020-06-30 20:18:17.607536077   59716.0   -7.142857  520.554512   \n",
       "4       2020-06-30 20:18:17.635449409   88280.0   -5.714286  520.554512   \n",
       "\n",
       "           normalized  \n",
       "seq_num                \n",
       "1         8220.854351  \n",
       "2        28539.613016  \n",
       "3        59421.621661  \n",
       "4        87844.811444  "
      ]
     },
     "execution_count": 20,
     "metadata": {},
     "output_type": "execute_result"
    }
   ],
   "source": [
    "data[data['I'] > data['I'].quantile(0.30)]"
   ]
  },
  {
   "cell_type": "markdown",
   "metadata": {},
   "source": [
    "...and plot just those rows, using a marker so it is easy to see which points have been disqualified due to low current."
   ]
  },
  {
   "cell_type": "code",
   "execution_count": 21,
   "metadata": {},
   "outputs": [
    {
     "data": {
      "application/vnd.jupyter.widget-view+json": {
       "model_id": "55b5708ca27148739b3f0b957aad4428",
       "version_major": 2,
       "version_minor": 0
      },
      "text/plain": [
       "Canvas(toolbar=Toolbar(toolitems=[('Home', 'Reset original view', 'home', 'home'), ('Back', 'Back to previous …"
      ]
     },
     "metadata": {},
     "output_type": "display_data"
    },
    {
     "data": {
      "text/plain": [
       "<matplotlib.axes._subplots.AxesSubplot at 0x7f9224ff0208>"
      ]
     },
     "execution_count": 21,
     "metadata": {},
     "output_type": "execute_result"
    }
   ],
   "source": [
    "data[data['I'] > data['I'].quantile(0.30)].plot(x='motor_slit', y='slit_det', marker='o')"
   ]
  },
  {
   "cell_type": "markdown",
   "metadata": {},
   "source": [
    "### Histogram the current"
   ]
  },
  {
   "cell_type": "code",
   "execution_count": 22,
   "metadata": {},
   "outputs": [
    {
     "data": {
      "application/vnd.jupyter.widget-view+json": {
       "model_id": "f7c37885e6ac4913920bf430f3d5cc2f",
       "version_major": 2,
       "version_minor": 0
      },
      "text/plain": [
       "Canvas(toolbar=Toolbar(toolitems=[('Home', 'Reset original view', 'home', 'home'), ('Back', 'Back to previous …"
      ]
     },
     "metadata": {},
     "output_type": "display_data"
    },
    {
     "data": {
      "text/plain": [
       "<Figure size 640x480 with 0 Axes>"
      ]
     },
     "execution_count": 22,
     "metadata": {},
     "output_type": "execute_result"
    }
   ],
   "source": [
    "plt.figure()"
   ]
  },
  {
   "cell_type": "code",
   "execution_count": 23,
   "metadata": {},
   "outputs": [
    {
     "data": {
      "image/png": "[encoded data removed]",
      "text/plain": [
       "<Figure size 640x480 with 1 Axes>"
      ]
     },
     "execution_count": 23,
     "metadata": {},
     "output_type": "execute_result"
    }
   ],
   "source": [
    "plt.hist(data['I'], bins='auto')\n",
    "plt.xlabel('current')\n",
    "plt.ylabel('count')\n",
    "plt.gcf()"
   ]
  },
  {
   "cell_type": "markdown",
   "metadata": {},
   "source": [
    "Not enough data to be interesting. Try collecting a bunch of current data by itself and then try this again."
   ]
  },
  {
   "cell_type": "code",
   "execution_count": 24,
   "metadata": {},
   "outputs": [
    {
     "data": {
      "application/vnd.jupyter.widget-view+json": {
       "model_id": "b171006061f04c1da386c06b00003f14",
       "version_major": 2,
       "version_minor": 0
      },
      "text/plain": [
       "Canvas(toolbar=Toolbar(toolitems=[('Home', 'Reset original view', 'home', 'home'), ('Back', 'Back to previous …"
      ]
     },
     "metadata": {},
     "output_type": "display_data"
    },
    {
     "data": {
      "text/plain": [
       "<Figure size 640x480 with 0 Axes>"
      ]
     },
     "execution_count": 24,
     "metadata": {},
     "output_type": "execute_result"
    }
   ],
   "source": [
    "# Creating a figure explicitly in advance helps with the\n",
    "# top-to-bottom flow of this notebook, but it is not necessary.\n",
    "# If this is omitted, bluesky will cause a figure to appear\n",
    "# during the RE(...) execution below.\n",
    "plt.figure(\"I vs time\")"
   ]
  },
  {
   "cell_type": "code",
   "execution_count": 25,
   "metadata": {},
   "outputs": [
    {
     "name": "stdout",
     "output_type": "stream",
     "text": [
      "\n",
      "\n",
      "Transient Scan ID: 27     Time: 2020-06-30 20:18:20\n",
      "Persistent Unique Scan ID: '4c5996d2-da6d-497d-95ea-e8040148867e'\n",
      "New stream: 'primary'\n",
      "+-----------+------------+------------+\n",
      "|   seq_num |       time |          I |\n",
      "+-----------+------------+------------+\n",
      "|         1 | 20:18:20.2 |        500 |\n",
      "|         2 | 20:18:20.3 |        504 |\n"
     ]
    },
    {
     "name": "stdout",
     "output_type": "stream",
     "text": [
      "|         3 | 20:18:20.4 |        508 |\n",
      "|         4 | 20:18:20.5 |        511 |\n"
     ]
    },
    {
     "name": "stdout",
     "output_type": "stream",
     "text": [
      "|         5 | 20:18:20.6 |        515 |\n",
      "|         6 | 20:18:20.7 |        518 |\n"
     ]
    },
    {
     "name": "stdout",
     "output_type": "stream",
     "text": [
      "|         7 | 20:18:20.8 |        520 |\n",
      "|         8 | 20:18:20.9 |        522 |\n"
     ]
    },
    {
     "name": "stdout",
     "output_type": "stream",
     "text": [
      "|         9 | 20:18:21.0 |        524 |\n",
      "|        10 | 20:18:21.1 |        525 |\n",
      "|        11 | 20:18:21.2 |        525 |\n"
     ]
    },
    {
     "name": "stdout",
     "output_type": "stream",
     "text": [
      "|        12 | 20:18:21.3 |        525 |\n",
      "|        13 | 20:18:21.4 |        524 |\n"
     ]
    },
    {
     "name": "stdout",
     "output_type": "stream",
     "text": [
      "|        14 | 20:18:21.5 |        520 |\n",
      "|        15 | 20:18:21.6 |        520 |\n",
      "|        16 | 20:18:21.7 |        517 |\n"
     ]
    },
    {
     "name": "stdout",
     "output_type": "stream",
     "text": [
      "|        17 | 20:18:21.8 |        514 |\n",
      "|        18 | 20:18:21.9 |        511 |\n",
      "|        19 | 20:18:22.0 |        503 |"
     ]
    },
    {
     "name": "stdout",
     "output_type": "stream",
     "text": [
      "\n",
      "|        20 | 20:18:22.1 |        503 |\n",
      "|        21 | 20:18:22.2 |        499 |\n"
     ]
    },
    {
     "name": "stdout",
     "output_type": "stream",
     "text": [
      "|        22 | 20:18:22.3 |        492 |\n",
      "|        23 | 20:18:22.4 |        492 |\n"
     ]
    },
    {
     "name": "stdout",
     "output_type": "stream",
     "text": [
      "|        24 | 20:18:22.6 |        485 |\n",
      "|        25 | 20:18:22.6 |        485 |\n",
      "|        26 | 20:18:22.7 |        482 |\n"
     ]
    },
    {
     "name": "stdout",
     "output_type": "stream",
     "text": [
      "|        27 | 20:18:22.8 |        477 |\n",
      "|        28 | 20:18:22.9 |        477 |\n"
     ]
    },
    {
     "name": "stdout",
     "output_type": "stream",
     "text": [
      "|        29 | 20:18:23.0 |        475 |\n",
      "|        30 | 20:18:23.1 |        475 |\n",
      "|        31 | 20:18:23.2 |        475 |\n"
     ]
    },
    {
     "name": "stdout",
     "output_type": "stream",
     "text": [
      "|        32 | 20:18:23.4 |        477 |\n",
      "|        33 | 20:18:23.4 |        478 |\n",
      "|        34 | 20:18:23.5 |        480 |\n"
     ]
    },
    {
     "name": "stdout",
     "output_type": "stream",
     "text": [
      "|        35 | 20:18:23.7 |        483 |\n",
      "|        36 | 20:18:23.7 |        486 |\n",
      "|        37 | 20:18:23.8 |        490 |\n"
     ]
    },
    {
     "name": "stdout",
     "output_type": "stream",
     "text": [
      "|        38 | 20:18:24.0 |        493 |\n",
      "|        39 | 20:18:24.0 |        497 |\n",
      "|        40 | 20:18:24.2 |        501 |\n"
     ]
    },
    {
     "name": "stdout",
     "output_type": "stream",
     "text": [
      "|        41 | 20:18:24.2 |        505 |\n",
      "|        42 | 20:18:24.3 |        509 |\n"
     ]
    },
    {
     "name": "stdout",
     "output_type": "stream",
     "text": [
      "|        43 | 20:18:24.5 |        512 |\n",
      "|        44 | 20:18:24.6 |        516 |\n",
      "|        45 | 20:18:24.7 |        519 |\n"
     ]
    },
    {
     "name": "stdout",
     "output_type": "stream",
     "text": [
      "|        46 | 20:18:24.8 |        521 |\n",
      "|        47 | 20:18:24.9 |        523 |\n"
     ]
    },
    {
     "name": "stdout",
     "output_type": "stream",
     "text": [
      "|        48 | 20:18:25.0 |        524 |\n",
      "|        49 | 20:18:25.1 |        525 |\n",
      "+-----------+------------+------------+\n",
      "|   seq_num |       time |          I |\n",
      "+-----------+------------+------------+\n",
      "|        50 | 20:18:25.2 |        525 |\n"
     ]
    },
    {
     "name": "stdout",
     "output_type": "stream",
     "text": [
      "|        51 | 20:18:25.3 |        524 |\n",
      "|        52 | 20:18:25.4 |        523 |\n",
      "|        53 | 20:18:25.5 |        522 |\n"
     ]
    },
    {
     "name": "stdout",
     "output_type": "stream",
     "text": [
      "|        54 | 20:18:25.6 |        519 |\n",
      "|        55 | 20:18:25.7 |        517 |\n",
      "|        56 | 20:18:25.8 |        513 |\n"
     ]
    },
    {
     "name": "stdout",
     "output_type": "stream",
     "text": [
      "|        57 | 20:18:25.9 |        510 |\n",
      "|        58 | 20:18:26.0 |        506 |\n",
      "|        59 | 20:18:26.1 |        502 |\n"
     ]
    },
    {
     "name": "stdout",
     "output_type": "stream",
     "text": [
      "|        60 | 20:18:26.2 |        498 |\n",
      "|        61 | 20:18:26.3 |        494 |\n",
      "|        62 | 20:18:26.4 |        491 |\n"
     ]
    },
    {
     "name": "stdout",
     "output_type": "stream",
     "text": [
      "|        63 | 20:18:26.5 |        487 |\n",
      "|        64 | 20:18:26.6 |        484 |\n"
     ]
    },
    {
     "name": "stdout",
     "output_type": "stream",
     "text": [
      "|        65 | 20:18:26.7 |        481 |\n",
      "|        66 | 20:18:26.8 |        479 |\n",
      "|        67 | 20:18:26.9 |        477 |\n"
     ]
    },
    {
     "name": "stdout",
     "output_type": "stream",
     "text": [
      "|        68 | 20:18:27.0 |        476 |\n",
      "|        69 | 20:18:27.1 |        475 |\n"
     ]
    },
    {
     "name": "stdout",
     "output_type": "stream",
     "text": [
      "|        70 | 20:18:27.2 |        475 |\n",
      "|        71 | 20:18:27.3 |        476 |\n",
      "|        72 | 20:18:27.4 |        477 |\n"
     ]
    },
    {
     "name": "stdout",
     "output_type": "stream",
     "text": [
      "|        73 | 20:18:27.5 |        479 |\n",
      "|        74 | 20:18:27.6 |        481 |\n",
      "|        75 | 20:18:27.7 |        484 |\n"
     ]
    },
    {
     "name": "stdout",
     "output_type": "stream",
     "text": [
      "|        76 | 20:18:27.8 |        487 |\n",
      "|        77 | 20:18:27.9 |        491 |\n",
      "|        78 | 20:18:28.0 |        495 |\n"
     ]
    },
    {
     "name": "stdout",
     "output_type": "stream",
     "text": [
      "|        79 | 20:18:28.1 |        499 |\n",
      "|        80 | 20:18:28.2 |        503 |\n"
     ]
    },
    {
     "name": "stdout",
     "output_type": "stream",
     "text": [
      "|        81 | 20:18:28.3 |        506 |\n",
      "|        82 | 20:18:28.4 |        510 |\n",
      "|        83 | 20:18:28.5 |        514 |\n"
     ]
    },
    {
     "name": "stdout",
     "output_type": "stream",
     "text": [
      "|        84 | 20:18:28.6 |        517 |\n",
      "|        85 | 20:18:28.7 |        519 |\n",
      "|        86 | 20:18:28.8 |        522 |\n"
     ]
    },
    {
     "name": "stdout",
     "output_type": "stream",
     "text": [
      "|        87 | 20:18:28.9 |        523 |\n",
      "|        88 | 20:18:29.0 |        524 |\n",
      "|        89 | 20:18:29.1 |        525 |\n"
     ]
    },
    {
     "name": "stdout",
     "output_type": "stream",
     "text": [
      "|        90 | 20:18:29.2 |        525 |\n",
      "|        91 | 20:18:29.3 |        524 |\n",
      "|        92 | 20:18:29.4 |        523 |\n"
     ]
    },
    {
     "name": "stdout",
     "output_type": "stream",
     "text": [
      "|        93 | 20:18:29.6 |        521 |\n",
      "|        94 | 20:18:29.6 |        518 |\n"
     ]
    },
    {
     "name": "stdout",
     "output_type": "stream",
     "text": [
      "|        95 | 20:18:29.8 |        515 |\n",
      "|        96 | 20:18:29.8 |        512 |\n",
      "|        97 | 20:18:29.9 |        508 |\n"
     ]
    },
    {
     "name": "stdout",
     "output_type": "stream",
     "text": [
      "|        98 | 20:18:30.1 |        505 |\n",
      "|        99 | 20:18:30.1 |        501 |\n",
      "+-----------+------------+------------+\n",
      "|   seq_num |       time |          I |\n",
      "+-----------+------------+------------+\n",
      "|       100 | 20:18:30.2 |        497 |\n"
     ]
    },
    {
     "name": "stdout",
     "output_type": "stream",
     "text": [
      "|       101 | 20:18:30.4 |        493 |\n",
      "|       102 | 20:18:30.5 |        489 |\n"
     ]
    },
    {
     "name": "stdout",
     "output_type": "stream",
     "text": [
      "|       103 | 20:18:30.6 |        486 |\n",
      "|       104 | 20:18:30.7 |        483 |\n",
      "|       105 | 20:18:30.8 |        480 |\n"
     ]
    },
    {
     "name": "stdout",
     "output_type": "stream",
     "text": [
      "|       106 | 20:18:30.9 |        478 |\n",
      "|       107 | 20:18:31.0 |        476 |\n",
      "|       108 | 20:18:31.1 |        475 |\n"
     ]
    },
    {
     "name": "stdout",
     "output_type": "stream",
     "text": [
      "|       109 | 20:18:31.2 |        475 |\n",
      "|       110 | 20:18:31.3 |        475 |\n",
      "|       111 | 20:18:31.4 |        476 |\n"
     ]
    },
    {
     "name": "stdout",
     "output_type": "stream",
     "text": [
      "|       112 | 20:18:31.5 |        478 |\n",
      "|       113 | 20:18:31.6 |        480 |\n",
      "|       114 | 20:18:31.7 |        482 |\n"
     ]
    },
    {
     "name": "stdout",
     "output_type": "stream",
     "text": [
      "|       115 | 20:18:31.8 |        485 |\n",
      "|       116 | 20:18:31.9 |        488 |\n",
      "|       117 | 20:18:32.0 |        492 |\n"
     ]
    },
    {
     "name": "stdout",
     "output_type": "stream",
     "text": [
      "|       118 | 20:18:32.1 |        496 |\n",
      "|       119 | 20:18:32.2 |        500 |\n"
     ]
    },
    {
     "name": "stdout",
     "output_type": "stream",
     "text": [
      "|       120 | 20:18:32.3 |        504 |\n",
      "|       121 | 20:18:32.4 |        508 |\n"
     ]
    },
    {
     "name": "stdout",
     "output_type": "stream",
     "text": [
      "|       122 | 20:18:32.5 |        511 |\n",
      "|       123 | 20:18:32.6 |        515 |\n",
      "|       124 | 20:18:32.7 |        518 |\n"
     ]
    },
    {
     "name": "stdout",
     "output_type": "stream",
     "text": [
      "|       125 | 20:18:32.8 |        520 |\n",
      "|       126 | 20:18:32.9 |        522 |\n",
      "|       127 | 20:18:33.0 |        524 |\n"
     ]
    },
    {
     "name": "stdout",
     "output_type": "stream",
     "text": [
      "|       128 | 20:18:33.1 |        525 |\n",
      "|       129 | 20:18:33.2 |        525 |\n",
      "|       130 | 20:18:33.3 |        525 |\n"
     ]
    },
    {
     "name": "stdout",
     "output_type": "stream",
     "text": [
      "|       131 | 20:18:33.4 |        524 |\n",
      "|       132 | 20:18:33.5 |        522 |\n"
     ]
    },
    {
     "name": "stdout",
     "output_type": "stream",
     "text": [
      "|       133 | 20:18:33.6 |        517 |\n",
      "|       134 | 20:18:33.7 |        517 |\n"
     ]
    },
    {
     "name": "stdout",
     "output_type": "stream",
     "text": [
      "|       135 | 20:18:33.8 |        511 |\n",
      "|       136 | 20:18:33.9 |        511 |\n",
      "|       137 | 20:18:34.0 |        507 |\n"
     ]
    },
    {
     "name": "stdout",
     "output_type": "stream",
     "text": [
      "|       138 | 20:18:34.1 |        503 |\n",
      "|       139 | 20:18:34.2 |        499 |\n",
      "|       140 | 20:18:34.3 |        496 |\n"
     ]
    },
    {
     "name": "stdout",
     "output_type": "stream",
     "text": [
      "|       141 | 20:18:34.4 |        492 |\n",
      "|       142 | 20:18:34.5 |        488 |\n"
     ]
    },
    {
     "name": "stdout",
     "output_type": "stream",
     "text": [
      "|       143 | 20:18:34.6 |        485 |\n",
      "|       144 | 20:18:34.7 |        482 |\n",
      "|       145 | 20:18:34.8 |        479 |\n"
     ]
    },
    {
     "name": "stdout",
     "output_type": "stream",
     "text": [
      "|       146 | 20:18:34.9 |        477 |\n",
      "|       147 | 20:18:35.0 |        476 |\n"
     ]
    },
    {
     "name": "stdout",
     "output_type": "stream",
     "text": [
      "|       148 | 20:18:35.1 |        475 |\n",
      "|       149 | 20:18:35.2 |        475 |\n",
      "+-----------+------------+------------+\n",
      "|   seq_num |       time |          I |\n",
      "+-----------+------------+------------+\n",
      "|       150 | 20:18:35.3 |        475 |\n"
     ]
    },
    {
     "name": "stdout",
     "output_type": "stream",
     "text": [
      "|       151 | 20:18:35.4 |        478 |\n",
      "|       152 | 20:18:35.5 |        478 |\n",
      "|       153 | 20:18:35.6 |        480 |\n"
     ]
    },
    {
     "name": "stdout",
     "output_type": "stream",
     "text": [
      "|       154 | 20:18:35.7 |        483 |\n",
      "|       155 | 20:18:35.8 |        486 |\n"
     ]
    },
    {
     "name": "stdout",
     "output_type": "stream",
     "text": [
      "|       156 | 20:18:35.9 |        493 |\n",
      "|       157 | 20:18:36.0 |        493 |\n",
      "|       158 | 20:18:36.1 |        497 |\n"
     ]
    },
    {
     "name": "stdout",
     "output_type": "stream",
     "text": [
      "|       159 | 20:18:36.3 |        505 |\n",
      "|       160 | 20:18:36.3 |        505 |\n",
      "|       161 | 20:18:36.5 |        512 |\n"
     ]
    },
    {
     "name": "stdout",
     "output_type": "stream",
     "text": [
      "|       162 | 20:18:36.5 |        512 |\n",
      "|       163 | 20:18:36.6 |        516 |\n"
     ]
    },
    {
     "name": "stdout",
     "output_type": "stream",
     "text": [
      "|       164 | 20:18:36.8 |        521 |\n",
      "|       165 | 20:18:36.8 |        523 |\n",
      "|       166 | 20:18:36.9 |        524 |\n"
     ]
    },
    {
     "name": "stdout",
     "output_type": "stream",
     "text": [
      "|       167 | 20:18:37.1 |        525 |\n",
      "|       168 | 20:18:37.1 |        525 |\n"
     ]
    },
    {
     "name": "stdout",
     "output_type": "stream",
     "text": [
      "|       169 | 20:18:37.3 |        524 |\n",
      "|       170 | 20:18:37.4 |        523 |\n",
      "|       171 | 20:18:37.5 |        522 |\n"
     ]
    },
    {
     "name": "stdout",
     "output_type": "stream",
     "text": [
      "|       172 | 20:18:37.6 |        519 |\n",
      "|       173 | 20:18:37.7 |        517 |\n"
     ]
    },
    {
     "name": "stdout",
     "output_type": "stream",
     "text": [
      "|       174 | 20:18:37.8 |        513 |\n",
      "|       175 | 20:18:37.9 |        510 |\n",
      "|       176 | 20:18:38.0 |        506 |\n"
     ]
    },
    {
     "name": "stdout",
     "output_type": "stream",
     "text": [
      "|       177 | 20:18:38.1 |        502 |\n",
      "|       178 | 20:18:38.2 |        498 |\n",
      "|       179 | 20:18:38.3 |        494 |\n"
     ]
    },
    {
     "name": "stdout",
     "output_type": "stream",
     "text": [
      "|       180 | 20:18:38.4 |        491 |\n",
      "|       181 | 20:18:38.5 |        487 |\n",
      "|       182 | 20:18:38.6 |        484 |\n"
     ]
    },
    {
     "name": "stdout",
     "output_type": "stream",
     "text": [
      "|       183 | 20:18:38.7 |        481 |\n",
      "|       184 | 20:18:38.8 |        479 |\n"
     ]
    },
    {
     "name": "stdout",
     "output_type": "stream",
     "text": [
      "|       185 | 20:18:38.9 |        477 |\n",
      "|       186 | 20:18:39.0 |        476 |\n",
      "|       187 | 20:18:39.1 |        475 |\n"
     ]
    },
    {
     "name": "stdout",
     "output_type": "stream",
     "text": [
      "|       188 | 20:18:39.2 |        475 |\n",
      "|       189 | 20:18:39.3 |        476 |\n"
     ]
    },
    {
     "name": "stdout",
     "output_type": "stream",
     "text": [
      "|       190 | 20:18:39.4 |        477 |\n",
      "|       191 | 20:18:39.5 |        479 |\n",
      "|       192 | 20:18:39.6 |        481 |\n"
     ]
    },
    {
     "name": "stdout",
     "output_type": "stream",
     "text": [
      "|       193 | 20:18:39.7 |        484 |\n",
      "|       194 | 20:18:39.8 |        487 |\n"
     ]
    },
    {
     "name": "stdout",
     "output_type": "stream",
     "text": [
      "|       195 | 20:18:39.9 |        491 |\n",
      "|       196 | 20:18:40.0 |        495 |\n",
      "|       197 | 20:18:40.1 |        498 |\n"
     ]
    },
    {
     "name": "stdout",
     "output_type": "stream",
     "text": [
      "|       198 | 20:18:40.2 |        502 |\n",
      "|       199 | 20:18:40.3 |        506 |\n",
      "+-----------+------------+------------+\n",
      "|   seq_num |       time |          I |\n",
      "+-----------+------------+------------+\n",
      "|       200 | 20:18:40.4 |        510 |\n"
     ]
    },
    {
     "name": "stdout",
     "output_type": "stream",
     "text": [
      "+-----------+------------+------------+\n",
      "generator count ['4c5996d2'] (scan num: 27)\n",
      "\n",
      "\n",
      "\n"
     ]
    },
    {
     "data": {
      "text/plain": [
       "('4c5996d2-da6d-497d-95ea-e8040148867e',)"
      ]
     },
     "execution_count": 25,
     "metadata": {},
     "output_type": "execute_result"
    }
   ],
   "source": [
    "RE(count([I], num=200, delay=0.1))"
   ]
  },
  {
   "cell_type": "code",
   "execution_count": 26,
   "metadata": {},
   "outputs": [
    {
     "data": {
      "image/png": "[encoded data removed]",
      "text/plain": [
       "<Figure size 640x400 with 1 Axes>"
      ]
     },
     "execution_count": 26,
     "metadata": {},
     "output_type": "execute_result"
    }
   ],
   "source": [
    "plt.gcf()  # Display a snapshot of the current state of the figure."
   ]
  },
  {
   "cell_type": "code",
   "execution_count": 27,
   "metadata": {},
   "outputs": [
    {
     "data": {
      "application/vnd.jupyter.widget-view+json": {
       "model_id": "036ffd4880d44284b0660f52abbf2530",
       "version_major": 2,
       "version_minor": 0
      },
      "text/plain": [
       "Canvas(toolbar=Toolbar(toolitems=[('Home', 'Reset original view', 'home', 'home'), ('Back', 'Back to previous …"
      ]
     },
     "metadata": {},
     "output_type": "display_data"
    },
    {
     "data": {
      "text/plain": [
       "<Figure size 640x480 with 0 Axes>"
      ]
     },
     "execution_count": 27,
     "metadata": {},
     "output_type": "execute_result"
    }
   ],
   "source": [
    "plt.figure()"
   ]
  },
  {
   "cell_type": "code",
   "execution_count": 28,
   "metadata": {},
   "outputs": [
    {
     "data": {
      "image/png": "[encoded data removed]",
      "text/plain": [
       "<Figure size 640x480 with 1 Axes>"
      ]
     },
     "execution_count": 28,
     "metadata": {},
     "output_type": "execute_result"
    }
   ],
   "source": [
    "more_current_data = db[-1].table()\n",
    "plt.hist(more_current_data['I'], bins='auto')\n",
    "plt.xlabel('current')\n",
    "plt.ylabel('count')\n",
    "plt.gcf()"
   ]
  },
  {
   "cell_type": "markdown",
   "metadata": {},
   "source": [
    "## Exercises"
   ]
  },
  {
   "cell_type": "markdown",
   "metadata": {},
   "source": [
    "Spend some time reading [10 minutes to pandas](https://pandas.pydata.org/pandas-docs/stable/10min.html), and use this notebook to try some of the examples there."
   ]
  },
  {
   "cell_type": "code",
   "execution_count": 29,
   "metadata": {},
   "outputs": [],
   "source": [
    "# Hack away...."
   ]
  }
 ],
 "metadata": {
  "kernelspec": {
   "display_name": "Python 3",
   "language": "python",
   "name": "python3"
  },
  "language_info": {
   "codemirror_mode": {
    "name": "ipython",
    "version": 3
   },
   "file_extension": ".py",
   "mimetype": "text/x-python",
   "name": "python",
   "nbconvert_exporter": "python",
   "pygments_lexer": "ipython3",
   "version": "3.7.1"
  },
  "widgets": {
   "application/vnd.jupyter.widget-state+json": {
    "state": {
     "036ffd4880d44284b0660f52abbf2530": {
      "model_module": "jupyter-matplotlib",
      "model_module_version": "^0.7.2",
      "model_name": "MPLCanvasModel",
      "state": {
       "_cursor": "pointer",
       "_dom_classes": [],
       "_figure_label": "Figure",
       "_height": 0,
       "_image_mode": "full",
       "_message": "",
       "_model_module": "jupyter-matplotlib",
       "_model_module_version": "^0.7.2",
       "_model_name": "MPLCanvasModel",
       "_rubberband_height": 0,
       "_rubberband_width": 0,
       "_rubberband_x": 0,
       "_rubberband_y": 0,
       "_view_count": null,
       "_view_module": "jupyter-matplotlib",
       "_view_module_version": "^0.7.2",
       "_view_name": "MPLCanvasView",
       "_width": 0,
       "footer_visible": true,
       "header_visible": true,
       "layout": "IPY_MODEL_b2e56a7e61b14bbf8e96dba4bfd6d49b",
       "resizable": true,
       "toolbar": "IPY_MODEL_fcbf402b8eab4dcc864089e8531dfa2e",
       "toolbar_position": "left",
       "toolbar_visible": true
      }
     },
     "1d90c184b0984970bed8ae9496ec6dbc": {
      "model_module": "@jupyter-widgets/base",
      "model_module_version": "1.2.0",
      "model_name": "LayoutModel",
      "state": {
       "_model_module": "@jupyter-widgets/base",
       "_model_module_version": "1.2.0",
       "_model_name": "LayoutModel",
       "_view_count": null,
       "_view_module": "@jupyter-widgets/base",
       "_view_module_version": "1.2.0",
       "_view_name": "LayoutView",
       "align_content": null,
       "align_items": null,
       "align_self": null,
       "border": null,
       "bottom": null,
       "display": null,
       "flex": null,
       "flex_flow": null,
       "grid_area": null,
       "grid_auto_columns": null,
       "grid_auto_flow": null,
       "grid_auto_rows": null,
       "grid_column": null,
       "grid_gap": null,
       "grid_row": null,
       "grid_template_areas": null,
       "grid_template_columns": null,
       "grid_template_rows": null,
       "height": null,
       "justify_content": null,
       "justify_items": null,
       "left": null,
       "margin": null,
       "max_height": null,
       "max_width": null,
       "min_height": null,
       "min_width": null,
       "object_fit": null,
       "object_position": null,
       "order": null,
       "overflow": null,
       "overflow_x": null,
       "overflow_y": null,
       "padding": null,
       "right": null,
       "top": null,
       "visibility": null,
       "width": null
      }
     },
     "318e5de20e344f39bba1a6b8dd61bf82": {
      "model_module": "jupyter-matplotlib",
      "model_module_version": "^0.7.2",
      "model_name": "ToolbarModel",
      "state": {
       "_current_action": "",
       "_dom_classes": [],
       "_model_module": "jupyter-matplotlib",
       "_model_module_version": "^0.7.2",
       "_model_name": "ToolbarModel",
       "_view_count": null,
       "_view_module": "jupyter-matplotlib",
       "_view_module_version": "^0.7.2",
       "_view_name": "ToolbarView",
       "button_style": "",
       "collapsed": true,
       "layout": "IPY_MODEL_6cb29c20322c4586a4e516cad2bd717b",
       "orientation": "vertical",
       "toolitems": [
        [
         "Home",
         "Reset original view",
         "home",
         "home"
        ],
        [
         "Back",
         "Back to previous view",
         "arrow-left",
         "back"
        ],
        [
         "Forward",
         "Forward to next view",
         "arrow-right",
         "forward"
        ],
        [
         "Pan",
         "Pan axes with left mouse, zoom with right",
         "arrows",
         "pan"
        ],
        [
         "Zoom",
         "Zoom to rectangle",
         "square-o",
         "zoom"
        ],
        [
         "Download",
         "Download plot",
         "floppy-o",
         "save_figure"
        ]
       ]
      }
     },
     "34e05caabce14d3695e599c66e5c8688": {
      "model_module": "jupyter-matplotlib",
      "model_module_version": "^0.7.2",
      "model_name": "MPLCanvasModel",
      "state": {
       "_cursor": "pointer",
       "_dom_classes": [],
       "_figure_label": "Figure",
       "_height": 0,
       "_image_mode": "full",
       "_message": "",
       "_model_module": "jupyter-matplotlib",
       "_model_module_version": "^0.7.2",
       "_model_name": "MPLCanvasModel",
       "_rubberband_height": 0,
       "_rubberband_width": 0,
       "_rubberband_x": 0,
       "_rubberband_y": 0,
       "_view_count": null,
       "_view_module": "jupyter-matplotlib",
       "_view_module_version": "^0.7.2",
       "_view_name": "MPLCanvasView",
       "_width": 0,
       "footer_visible": true,
       "header_visible": true,
       "layout": "IPY_MODEL_9f19af1b5bef4588b7cf485b4efb18c5",
       "resizable": true,
       "toolbar": "IPY_MODEL_874e147c04fe48bf84b1ff905e3fb01b",
       "toolbar_position": "left",
       "toolbar_visible": true
      }
     },
     "481cc46da7b646e4894baa3da71e09c2": {
      "model_module": "@jupyter-widgets/base",
      "model_module_version": "1.2.0",
      "model_name": "LayoutModel",
      "state": {
       "_model_module": "@jupyter-widgets/base",
       "_model_module_version": "1.2.0",
       "_model_name": "LayoutModel",
       "_view_count": null,
       "_view_module": "@jupyter-widgets/base",
       "_view_module_version": "1.2.0",
       "_view_name": "LayoutView",
       "align_content": null,
       "align_items": null,
       "align_self": null,
       "border": null,
       "bottom": null,
       "display": null,
       "flex": null,
       "flex_flow": null,
       "grid_area": null,
       "grid_auto_columns": null,
       "grid_auto_flow": null,
       "grid_auto_rows": null,
       "grid_column": null,
       "grid_gap": null,
       "grid_row": null,
       "grid_template_areas": null,
       "grid_template_columns": null,
       "grid_template_rows": null,
       "height": null,
       "justify_content": null,
       "justify_items": null,
       "left": null,
       "margin": null,
       "max_height": null,
       "max_width": null,
       "min_height": null,
       "min_width": null,
       "object_fit": null,
       "object_position": null,
       "order": null,
       "overflow": null,
       "overflow_x": null,
       "overflow_y": null,
       "padding": null,
       "right": null,
       "top": null,
       "visibility": null,
       "width": null
      }
     },
     "509e3be63bad4affa3c50dcdbf9cd916": {
      "model_module": "@jupyter-widgets/base",
      "model_module_version": "1.2.0",
      "model_name": "LayoutModel",
      "state": {
       "_model_module": "@jupyter-widgets/base",
       "_model_module_version": "1.2.0",
       "_model_name": "LayoutModel",
       "_view_count": null,
       "_view_module": "@jupyter-widgets/base",
       "_view_module_version": "1.2.0",
       "_view_name": "LayoutView",
       "align_content": null,
       "align_items": null,
       "align_self": null,
       "border": null,
       "bottom": null,
       "display": null,
       "flex": null,
       "flex_flow": null,
       "grid_area": null,
       "grid_auto_columns": null,
       "grid_auto_flow": null,
       "grid_auto_rows": null,
       "grid_column": null,
       "grid_gap": null,
       "grid_row": null,
       "grid_template_areas": null,
       "grid_template_columns": null,
       "grid_template_rows": null,
       "height": null,
       "justify_content": null,
       "justify_items": null,
       "left": null,
       "margin": null,
       "max_height": null,
       "max_width": null,
       "min_height": null,
       "min_width": null,
       "object_fit": null,
       "object_position": null,
       "order": null,
       "overflow": null,
       "overflow_x": null,
       "overflow_y": null,
       "padding": null,
       "right": null,
       "top": null,
       "visibility": null,
       "width": null
      }
     },
     "55b5708ca27148739b3f0b957aad4428": {
      "model_module": "jupyter-matplotlib",
      "model_module_version": "^0.7.2",
      "model_name": "MPLCanvasModel",
      "state": {
       "_cursor": "pointer",
       "_dom_classes": [],
       "_figure_label": "Figure",
       "_height": 0,
       "_image_mode": "full",
       "_message": "",
       "_model_module": "jupyter-matplotlib",
       "_model_module_version": "^0.7.2",
       "_model_name": "MPLCanvasModel",
       "_rubberband_height": 0,
       "_rubberband_width": 0,
       "_rubberband_x": 0,
       "_rubberband_y": 0,
       "_view_count": null,
       "_view_module": "jupyter-matplotlib",
       "_view_module_version": "^0.7.2",
       "_view_name": "MPLCanvasView",
       "_width": 0,
       "footer_visible": true,
       "header_visible": true,
       "layout": "IPY_MODEL_1d90c184b0984970bed8ae9496ec6dbc",
       "resizable": true,
       "toolbar": "IPY_MODEL_ecce0bf331644e4da05a53ee35dcd78a",
       "toolbar_position": "left",
       "toolbar_visible": true
      }
     },
     "608da90c9a3a4abb9510b21b6d0b1c20": {
      "model_module": "jupyter-matplotlib",
      "model_module_version": "^0.7.2",
      "model_name": "MPLCanvasModel",
      "state": {
       "_cursor": "pointer",
       "_dom_classes": [],
       "_figure_label": "Figure",
       "_height": 0,
       "_image_mode": "full",
       "_message": "",
       "_model_module": "jupyter-matplotlib",
       "_model_module_version": "^0.7.2",
       "_model_name": "MPLCanvasModel",
       "_rubberband_height": 0,
       "_rubberband_width": 0,
       "_rubberband_x": 0,
       "_rubberband_y": 0,
       "_view_count": null,
       "_view_module": "jupyter-matplotlib",
       "_view_module_version": "^0.7.2",
       "_view_name": "MPLCanvasView",
       "_width": 0,
       "footer_visible": true,
       "header_visible": true,
       "layout": "IPY_MODEL_a9ed4c351e2448ebb6174d9bcbe71a2e",
       "resizable": true,
       "toolbar": "IPY_MODEL_a80757b5b1db4a3eaf5706b7c856e994",
       "toolbar_position": "left",
       "toolbar_visible": true
      }
     },
     "61635a9314a345d09aa2989deecf2e74": {
      "model_module": "@jupyter-widgets/base",
      "model_module_version": "1.2.0",
      "model_name": "LayoutModel",
      "state": {
       "_model_module": "@jupyter-widgets/base",
       "_model_module_version": "1.2.0",
       "_model_name": "LayoutModel",
       "_view_count": null,
       "_view_module": "@jupyter-widgets/base",
       "_view_module_version": "1.2.0",
       "_view_name": "LayoutView",
       "align_content": null,
       "align_items": null,
       "align_self": null,
       "border": null,
       "bottom": null,
       "display": null,
       "flex": null,
       "flex_flow": null,
       "grid_area": null,
       "grid_auto_columns": null,
       "grid_auto_flow": null,
       "grid_auto_rows": null,
       "grid_column": null,
       "grid_gap": null,
       "grid_row": null,
       "grid_template_areas": null,
       "grid_template_columns": null,
       "grid_template_rows": null,
       "height": null,
       "justify_content": null,
       "justify_items": null,
       "left": null,
       "margin": null,
       "max_height": null,
       "max_width": null,
       "min_height": null,
       "min_width": null,
       "object_fit": null,
       "object_position": null,
       "order": null,
       "overflow": null,
       "overflow_x": null,
       "overflow_y": null,
       "padding": null,
       "right": null,
       "top": null,
       "visibility": null,
       "width": null
      }
     },
     "69bedb06647c47a0ac0ea1adf10f7581": {
      "model_module": "jupyter-matplotlib",
      "model_module_version": "^0.7.2",
      "model_name": "ToolbarModel",
      "state": {
       "_current_action": "",
       "_dom_classes": [],
       "_model_module": "jupyter-matplotlib",
       "_model_module_version": "^0.7.2",
       "_model_name": "ToolbarModel",
       "_view_count": null,
       "_view_module": "jupyter-matplotlib",
       "_view_module_version": "^0.7.2",
       "_view_name": "ToolbarView",
       "button_style": "",
       "collapsed": true,
       "layout": "IPY_MODEL_a4b6c626da8a4f24809b148159527634",
       "orientation": "vertical",
       "toolitems": [
        [
         "Home",
         "Reset original view",
         "home",
         "home"
        ],
        [
         "Back",
         "Back to previous view",
         "arrow-left",
         "back"
        ],
        [
         "Forward",
         "Forward to next view",
         "arrow-right",
         "forward"
        ],
        [
         "Pan",
         "Pan axes with left mouse, zoom with right",
         "arrows",
         "pan"
        ],
        [
         "Zoom",
         "Zoom to rectangle",
         "square-o",
         "zoom"
        ],
        [
         "Download",
         "Download plot",
         "floppy-o",
         "save_figure"
        ]
       ]
      }
     },
     "6cb29c20322c4586a4e516cad2bd717b": {
      "model_module": "@jupyter-widgets/base",
      "model_module_version": "1.2.0",
      "model_name": "LayoutModel",
      "state": {
       "_model_module": "@jupyter-widgets/base",
       "_model_module_version": "1.2.0",
       "_model_name": "LayoutModel",
       "_view_count": null,
       "_view_module": "@jupyter-widgets/base",
       "_view_module_version": "1.2.0",
       "_view_name": "LayoutView",
       "align_content": null,
       "align_items": null,
       "align_self": null,
       "border": null,
       "bottom": null,
       "display": null,
       "flex": null,
       "flex_flow": null,
       "grid_area": null,
       "grid_auto_columns": null,
       "grid_auto_flow": null,
       "grid_auto_rows": null,
       "grid_column": null,
       "grid_gap": null,
       "grid_row": null,
       "grid_template_areas": null,
       "grid_template_columns": null,
       "grid_template_rows": null,
       "height": null,
       "justify_content": null,
       "justify_items": null,
       "left": null,
       "margin": null,
       "max_height": null,
       "max_width": null,
       "min_height": null,
       "min_width": null,
       "object_fit": null,
       "object_position": null,
       "order": null,
       "overflow": null,
       "overflow_x": null,
       "overflow_y": null,
       "padding": null,
       "right": null,
       "top": null,
       "visibility": null,
       "width": null
      }
     },
     "70371a487c7d4ac69671921de04540b2": {
      "model_module": "@jupyter-widgets/base",
      "model_module_version": "1.2.0",
      "model_name": "LayoutModel",
      "state": {
       "_model_module": "@jupyter-widgets/base",
       "_model_module_version": "1.2.0",
       "_model_name": "LayoutModel",
       "_view_count": null,
       "_view_module": "@jupyter-widgets/base",
       "_view_module_version": "1.2.0",
       "_view_name": "LayoutView",
       "align_content": null,
       "align_items": null,
       "align_self": null,
       "border": null,
       "bottom": null,
       "display": null,
       "flex": null,
       "flex_flow": null,
       "grid_area": null,
       "grid_auto_columns": null,
       "grid_auto_flow": null,
       "grid_auto_rows": null,
       "grid_column": null,
       "grid_gap": null,
       "grid_row": null,
       "grid_template_areas": null,
       "grid_template_columns": null,
       "grid_template_rows": null,
       "height": null,
       "justify_content": null,
       "justify_items": null,
       "left": null,
       "margin": null,
       "max_height": null,
       "max_width": null,
       "min_height": null,
       "min_width": null,
       "object_fit": null,
       "object_position": null,
       "order": null,
       "overflow": null,
       "overflow_x": null,
       "overflow_y": null,
       "padding": null,
       "right": null,
       "top": null,
       "visibility": null,
       "width": null
      }
     },
     "744356df731440719f5d6e556d85b1a8": {
      "model_module": "jupyter-matplotlib",
      "model_module_version": "^0.7.2",
      "model_name": "MPLCanvasModel",
      "state": {
       "_cursor": "default",
       "_dom_classes": [],
       "_figure_label": "I slit_det vs motor_slit",
       "_height": 800,
       "_image_mode": "diff",
       "_message": "",
       "_model_module": "jupyter-matplotlib",
       "_model_module_version": "^0.7.2",
       "_model_name": "MPLCanvasModel",
       "_rubberband_height": 0,
       "_rubberband_width": 0,
       "_rubberband_x": 0,
       "_rubberband_y": 0,
       "_view_count": null,
       "_view_module": "jupyter-matplotlib",
       "_view_module_version": "^0.7.2",
       "_view_name": "MPLCanvasView",
       "_width": 640,
       "footer_visible": true,
       "header_visible": true,
       "layout": "IPY_MODEL_481cc46da7b646e4894baa3da71e09c2",
       "resizable": true,
       "toolbar": "IPY_MODEL_69bedb06647c47a0ac0ea1adf10f7581",
       "toolbar_position": "left",
       "toolbar_visible": true
      }
     },
     "7588cb6795a8474897a0822380638711": {
      "model_module": "@jupyter-widgets/base",
      "model_module_version": "1.2.0",
      "model_name": "LayoutModel",
      "state": {
       "_model_module": "@jupyter-widgets/base",
       "_model_module_version": "1.2.0",
       "_model_name": "LayoutModel",
       "_view_count": null,
       "_view_module": "@jupyter-widgets/base",
       "_view_module_version": "1.2.0",
       "_view_name": "LayoutView",
       "align_content": null,
       "align_items": null,
       "align_self": null,
       "border": null,
       "bottom": null,
       "display": null,
       "flex": null,
       "flex_flow": null,
       "grid_area": null,
       "grid_auto_columns": null,
       "grid_auto_flow": null,
       "grid_auto_rows": null,
       "grid_column": null,
       "grid_gap": null,
       "grid_row": null,
       "grid_template_areas": null,
       "grid_template_columns": null,
       "grid_template_rows": null,
       "height": null,
       "justify_content": null,
       "justify_items": null,
       "left": null,
       "margin": null,
       "max_height": null,
       "max_width": null,
       "min_height": null,
       "min_width": null,
       "object_fit": null,
       "object_position": null,
       "order": null,
       "overflow": null,
       "overflow_x": null,
       "overflow_y": null,
       "padding": null,
       "right": null,
       "top": null,
       "visibility": null,
       "width": null
      }
     },
     "7de7e4f4da3b4abca071e7ae5652b403": {
      "model_module": "@jupyter-widgets/base",
      "model_module_version": "1.2.0",
      "model_name": "LayoutModel",
      "state": {
       "_model_module": "@jupyter-widgets/base",
       "_model_module_version": "1.2.0",
       "_model_name": "LayoutModel",
       "_view_count": null,
       "_view_module": "@jupyter-widgets/base",
       "_view_module_version": "1.2.0",
       "_view_name": "LayoutView",
       "align_content": null,
       "align_items": null,
       "align_self": null,
       "border": null,
       "bottom": null,
       "display": null,
       "flex": null,
       "flex_flow": null,
       "grid_area": null,
       "grid_auto_columns": null,
       "grid_auto_flow": null,
       "grid_auto_rows": null,
       "grid_column": null,
       "grid_gap": null,
       "grid_row": null,
       "grid_template_areas": null,
       "grid_template_columns": null,
       "grid_template_rows": null,
       "height": null,
       "justify_content": null,
       "justify_items": null,
       "left": null,
       "margin": null,
       "max_height": null,
       "max_width": null,
       "min_height": null,
       "min_width": null,
       "object_fit": null,
       "object_position": null,
       "order": null,
       "overflow": null,
       "overflow_x": null,
       "overflow_y": null,
       "padding": null,
       "right": null,
       "top": null,
       "visibility": null,
       "width": null
      }
     },
     "874e147c04fe48bf84b1ff905e3fb01b": {
      "model_module": "jupyter-matplotlib",
      "model_module_version": "^0.7.2",
      "model_name": "ToolbarModel",
      "state": {
       "_current_action": "",
       "_dom_classes": [],
       "_model_module": "jupyter-matplotlib",
       "_model_module_version": "^0.7.2",
       "_model_name": "ToolbarModel",
       "_view_count": null,
       "_view_module": "jupyter-matplotlib",
       "_view_module_version": "^0.7.2",
       "_view_name": "ToolbarView",
       "button_style": "",
       "collapsed": true,
       "layout": "IPY_MODEL_70371a487c7d4ac69671921de04540b2",
       "orientation": "vertical",
       "toolitems": [
        [
         "Home",
         "Reset original view",
         "home",
         "home"
        ],
        [
         "Back",
         "Back to previous view",
         "arrow-left",
         "back"
        ],
        [
         "Forward",
         "Forward to next view",
         "arrow-right",
         "forward"
        ],
        [
         "Pan",
         "Pan axes with left mouse, zoom with right",
         "arrows",
         "pan"
        ],
        [
         "Zoom",
         "Zoom to rectangle",
         "square-o",
         "zoom"
        ],
        [
         "Download",
         "Download plot",
         "floppy-o",
         "save_figure"
        ]
       ]
      }
     },
     "9f19af1b5bef4588b7cf485b4efb18c5": {
      "model_module": "@jupyter-widgets/base",
      "model_module_version": "1.2.0",
      "model_name": "LayoutModel",
      "state": {
       "_model_module": "@jupyter-widgets/base",
       "_model_module_version": "1.2.0",
       "_model_name": "LayoutModel",
       "_view_count": null,
       "_view_module": "@jupyter-widgets/base",
       "_view_module_version": "1.2.0",
       "_view_name": "LayoutView",
       "align_content": null,
       "align_items": null,
       "align_self": null,
       "border": null,
       "bottom": null,
       "display": null,
       "flex": null,
       "flex_flow": null,
       "grid_area": null,
       "grid_auto_columns": null,
       "grid_auto_flow": null,
       "grid_auto_rows": null,
       "grid_column": null,
       "grid_gap": null,
       "grid_row": null,
       "grid_template_areas": null,
       "grid_template_columns": null,
       "grid_template_rows": null,
       "height": null,
       "justify_content": null,
       "justify_items": null,
       "left": null,
       "margin": null,
       "max_height": null,
       "max_width": null,
       "min_height": null,
       "min_width": null,
       "object_fit": null,
       "object_position": null,
       "order": null,
       "overflow": null,
       "overflow_x": null,
       "overflow_y": null,
       "padding": null,
       "right": null,
       "top": null,
       "visibility": null,
       "width": null
      }
     },
     "a4b6c626da8a4f24809b148159527634": {
      "model_module": "@jupyter-widgets/base",
      "model_module_version": "1.2.0",
      "model_name": "LayoutModel",
      "state": {
       "_model_module": "@jupyter-widgets/base",
       "_model_module_version": "1.2.0",
       "_model_name": "LayoutModel",
       "_view_count": null,
       "_view_module": "@jupyter-widgets/base",
       "_view_module_version": "1.2.0",
       "_view_name": "LayoutView",
       "align_content": null,
       "align_items": null,
       "align_self": null,
       "border": null,
       "bottom": null,
       "display": null,
       "flex": null,
       "flex_flow": null,
       "grid_area": null,
       "grid_auto_columns": null,
       "grid_auto_flow": null,
       "grid_auto_rows": null,
       "grid_column": null,
       "grid_gap": null,
       "grid_row": null,
       "grid_template_areas": null,
       "grid_template_columns": null,
       "grid_template_rows": null,
       "height": null,
       "justify_content": null,
       "justify_items": null,
       "left": null,
       "margin": null,
       "max_height": null,
       "max_width": null,
       "min_height": null,
       "min_width": null,
       "object_fit": null,
       "object_position": null,
       "order": null,
       "overflow": null,
       "overflow_x": null,
       "overflow_y": null,
       "padding": null,
       "right": null,
       "top": null,
       "visibility": null,
       "width": null
      }
     },
     "a80757b5b1db4a3eaf5706b7c856e994": {
      "model_module": "jupyter-matplotlib",
      "model_module_version": "^0.7.2",
      "model_name": "ToolbarModel",
      "state": {
       "_current_action": "",
       "_dom_classes": [],
       "_model_module": "jupyter-matplotlib",
       "_model_module_version": "^0.7.2",
       "_model_name": "ToolbarModel",
       "_view_count": null,
       "_view_module": "jupyter-matplotlib",
       "_view_module_version": "^0.7.2",
       "_view_name": "ToolbarView",
       "button_style": "",
       "collapsed": true,
       "layout": "IPY_MODEL_509e3be63bad4affa3c50dcdbf9cd916",
       "orientation": "vertical",
       "toolitems": [
        [
         "Home",
         "Reset original view",
         "home",
         "home"
        ],
        [
         "Back",
         "Back to previous view",
         "arrow-left",
         "back"
        ],
        [
         "Forward",
         "Forward to next view",
         "arrow-right",
         "forward"
        ],
        [
         "Pan",
         "Pan axes with left mouse, zoom with right",
         "arrows",
         "pan"
        ],
        [
         "Zoom",
         "Zoom to rectangle",
         "square-o",
         "zoom"
        ],
        [
         "Download",
         "Download plot",
         "floppy-o",
         "save_figure"
        ]
       ]
      }
     },
     "a9ed4c351e2448ebb6174d9bcbe71a2e": {
      "model_module": "@jupyter-widgets/base",
      "model_module_version": "1.2.0",
      "model_name": "LayoutModel",
      "state": {
       "_model_module": "@jupyter-widgets/base",
       "_model_module_version": "1.2.0",
       "_model_name": "LayoutModel",
       "_view_count": null,
       "_view_module": "@jupyter-widgets/base",
       "_view_module_version": "1.2.0",
       "_view_name": "LayoutView",
       "align_content": null,
       "align_items": null,
       "align_self": null,
       "border": null,
       "bottom": null,
       "display": null,
       "flex": null,
       "flex_flow": null,
       "grid_area": null,
       "grid_auto_columns": null,
       "grid_auto_flow": null,
       "grid_auto_rows": null,
       "grid_column": null,
       "grid_gap": null,
       "grid_row": null,
       "grid_template_areas": null,
       "grid_template_columns": null,
       "grid_template_rows": null,
       "height": null,
       "justify_content": null,
       "justify_items": null,
       "left": null,
       "margin": null,
       "max_height": null,
       "max_width": null,
       "min_height": null,
       "min_width": null,
       "object_fit": null,
       "object_position": null,
       "order": null,
       "overflow": null,
       "overflow_x": null,
       "overflow_y": null,
       "padding": null,
       "right": null,
       "top": null,
       "visibility": null,
       "width": null
      }
     },
     "b171006061f04c1da386c06b00003f14": {
      "model_module": "jupyter-matplotlib",
      "model_module_version": "^0.7.2",
      "model_name": "MPLCanvasModel",
      "state": {
       "_cursor": "pointer",
       "_dom_classes": [],
       "_figure_label": "I vs time",
       "_height": 400,
       "_image_mode": "diff",
       "_message": "",
       "_model_module": "jupyter-matplotlib",
       "_model_module_version": "^0.7.2",
       "_model_name": "MPLCanvasModel",
       "_rubberband_height": 0,
       "_rubberband_width": 0,
       "_rubberband_x": 0,
       "_rubberband_y": 0,
       "_view_count": null,
       "_view_module": "jupyter-matplotlib",
       "_view_module_version": "^0.7.2",
       "_view_name": "MPLCanvasView",
       "_width": 640,
       "footer_visible": true,
       "header_visible": true,
       "layout": "IPY_MODEL_7de7e4f4da3b4abca071e7ae5652b403",
       "resizable": true,
       "toolbar": "IPY_MODEL_318e5de20e344f39bba1a6b8dd61bf82",
       "toolbar_position": "left",
       "toolbar_visible": true
      }
     },
     "b2e56a7e61b14bbf8e96dba4bfd6d49b": {
      "model_module": "@jupyter-widgets/base",
      "model_module_version": "1.2.0",
      "model_name": "LayoutModel",
      "state": {
       "_model_module": "@jupyter-widgets/base",
       "_model_module_version": "1.2.0",
       "_model_name": "LayoutModel",
       "_view_count": null,
       "_view_module": "@jupyter-widgets/base",
       "_view_module_version": "1.2.0",
       "_view_name": "LayoutView",
       "align_content": null,
       "align_items": null,
       "align_self": null,
       "border": null,
       "bottom": null,
       "display": null,
       "flex": null,
       "flex_flow": null,
       "grid_area": null,
       "grid_auto_columns": null,
       "grid_auto_flow": null,
       "grid_auto_rows": null,
       "grid_column": null,
       "grid_gap": null,
       "grid_row": null,
       "grid_template_areas": null,
       "grid_template_columns": null,
       "grid_template_rows": null,
       "height": null,
       "justify_content": null,
       "justify_items": null,
       "left": null,
       "margin": null,
       "max_height": null,
       "max_width": null,
       "min_height": null,
       "min_width": null,
       "object_fit": null,
       "object_position": null,
       "order": null,
       "overflow": null,
       "overflow_x": null,
       "overflow_y": null,
       "padding": null,
       "right": null,
       "top": null,
       "visibility": null,
       "width": null
      }
     },
     "c4dca6dd55de46ada81fdc85553a5318": {
      "model_module": "@jupyter-widgets/base",
      "model_module_version": "1.2.0",
      "model_name": "LayoutModel",
      "state": {
       "_model_module": "@jupyter-widgets/base",
       "_model_module_version": "1.2.0",
       "_model_name": "LayoutModel",
       "_view_count": null,
       "_view_module": "@jupyter-widgets/base",
       "_view_module_version": "1.2.0",
       "_view_name": "LayoutView",
       "align_content": null,
       "align_items": null,
       "align_self": null,
       "border": null,
       "bottom": null,
       "display": null,
       "flex": null,
       "flex_flow": null,
       "grid_area": null,
       "grid_auto_columns": null,
       "grid_auto_flow": null,
       "grid_auto_rows": null,
       "grid_column": null,
       "grid_gap": null,
       "grid_row": null,
       "grid_template_areas": null,
       "grid_template_columns": null,
       "grid_template_rows": null,
       "height": null,
       "justify_content": null,
       "justify_items": null,
       "left": null,
       "margin": null,
       "max_height": null,
       "max_width": null,
       "min_height": null,
       "min_width": null,
       "object_fit": null,
       "object_position": null,
       "order": null,
       "overflow": null,
       "overflow_x": null,
       "overflow_y": null,
       "padding": null,
       "right": null,
       "top": null,
       "visibility": null,
       "width": null
      }
     },
     "d075bdc7d4e444df8cb0be58632ef99b": {
      "model_module": "jupyter-matplotlib",
      "model_module_version": "^0.7.2",
      "model_name": "ToolbarModel",
      "state": {
       "_current_action": "",
       "_dom_classes": [],
       "_model_module": "jupyter-matplotlib",
       "_model_module_version": "^0.7.2",
       "_model_name": "ToolbarModel",
       "_view_count": null,
       "_view_module": "jupyter-matplotlib",
       "_view_module_version": "^0.7.2",
       "_view_name": "ToolbarView",
       "button_style": "",
       "collapsed": true,
       "layout": "IPY_MODEL_7588cb6795a8474897a0822380638711",
       "orientation": "vertical",
       "toolitems": [
        [
         "Home",
         "Reset original view",
         "home",
         "home"
        ],
        [
         "Back",
         "Back to previous view",
         "arrow-left",
         "back"
        ],
        [
         "Forward",
         "Forward to next view",
         "arrow-right",
         "forward"
        ],
        [
         "Pan",
         "Pan axes with left mouse, zoom with right",
         "arrows",
         "pan"
        ],
        [
         "Zoom",
         "Zoom to rectangle",
         "square-o",
         "zoom"
        ],
        [
         "Download",
         "Download plot",
         "floppy-o",
         "save_figure"
        ]
       ]
      }
     },
     "de88b3d79cf04230a0b867daf1ef770e": {
      "model_module": "@jupyter-widgets/base",
      "model_module_version": "1.2.0",
      "model_name": "LayoutModel",
      "state": {
       "_model_module": "@jupyter-widgets/base",
       "_model_module_version": "1.2.0",
       "_model_name": "LayoutModel",
       "_view_count": null,
       "_view_module": "@jupyter-widgets/base",
       "_view_module_version": "1.2.0",
       "_view_name": "LayoutView",
       "align_content": null,
       "align_items": null,
       "align_self": null,
       "border": null,
       "bottom": null,
       "display": null,
       "flex": null,
       "flex_flow": null,
       "grid_area": null,
       "grid_auto_columns": null,
       "grid_auto_flow": null,
       "grid_auto_rows": null,
       "grid_column": null,
       "grid_gap": null,
       "grid_row": null,
       "grid_template_areas": null,
       "grid_template_columns": null,
       "grid_template_rows": null,
       "height": null,
       "justify_content": null,
       "justify_items": null,
       "left": null,
       "margin": null,
       "max_height": null,
       "max_width": null,
       "min_height": null,
       "min_width": null,
       "object_fit": null,
       "object_position": null,
       "order": null,
       "overflow": null,
       "overflow_x": null,
       "overflow_y": null,
       "padding": null,
       "right": null,
       "top": null,
       "visibility": null,
       "width": null
      }
     },
     "ecce0bf331644e4da05a53ee35dcd78a": {
      "model_module": "jupyter-matplotlib",
      "model_module_version": "^0.7.2",
      "model_name": "ToolbarModel",
      "state": {
       "_current_action": "",
       "_dom_classes": [],
       "_model_module": "jupyter-matplotlib",
       "_model_module_version": "^0.7.2",
       "_model_name": "ToolbarModel",
       "_view_count": null,
       "_view_module": "jupyter-matplotlib",
       "_view_module_version": "^0.7.2",
       "_view_name": "ToolbarView",
       "button_style": "",
       "collapsed": true,
       "layout": "IPY_MODEL_c4dca6dd55de46ada81fdc85553a5318",
       "orientation": "vertical",
       "toolitems": [
        [
         "Home",
         "Reset original view",
         "home",
         "home"
        ],
        [
         "Back",
         "Back to previous view",
         "arrow-left",
         "back"
        ],
        [
         "Forward",
         "Forward to next view",
         "arrow-right",
         "forward"
        ],
        [
         "Pan",
         "Pan axes with left mouse, zoom with right",
         "arrows",
         "pan"
        ],
        [
         "Zoom",
         "Zoom to rectangle",
         "square-o",
         "zoom"
        ],
        [
         "Download",
         "Download plot",
         "floppy-o",
         "save_figure"
        ]
       ]
      }
     },
     "f7c37885e6ac4913920bf430f3d5cc2f": {
      "model_module": "jupyter-matplotlib",
      "model_module_version": "^0.7.2",
      "model_name": "MPLCanvasModel",
      "state": {
       "_cursor": "pointer",
       "_dom_classes": [],
       "_figure_label": "Figure",
       "_height": 0,
       "_image_mode": "full",
       "_message": "",
       "_model_module": "jupyter-matplotlib",
       "_model_module_version": "^0.7.2",
       "_model_name": "MPLCanvasModel",
       "_rubberband_height": 0,
       "_rubberband_width": 0,
       "_rubberband_x": 0,
       "_rubberband_y": 0,
       "_view_count": null,
       "_view_module": "jupyter-matplotlib",
       "_view_module_version": "^0.7.2",
       "_view_name": "MPLCanvasView",
       "_width": 0,
       "footer_visible": true,
       "header_visible": true,
       "layout": "IPY_MODEL_de88b3d79cf04230a0b867daf1ef770e",
       "resizable": true,
       "toolbar": "IPY_MODEL_d075bdc7d4e444df8cb0be58632ef99b",
       "toolbar_position": "left",
       "toolbar_visible": true
      }
     },
     "fcbf402b8eab4dcc864089e8531dfa2e": {
      "model_module": "jupyter-matplotlib",
      "model_module_version": "^0.7.2",
      "model_name": "ToolbarModel",
      "state": {
       "_current_action": "",
       "_dom_classes": [],
       "_model_module": "jupyter-matplotlib",
       "_model_module_version": "^0.7.2",
       "_model_name": "ToolbarModel",
       "_view_count": null,
       "_view_module": "jupyter-matplotlib",
       "_view_module_version": "^0.7.2",
       "_view_name": "ToolbarView",
       "button_style": "",
       "collapsed": true,
       "layout": "IPY_MODEL_61635a9314a345d09aa2989deecf2e74",
       "orientation": "vertical",
       "toolitems": [
        [
         "Home",
         "Reset original view",
         "home",
         "home"
        ],
        [
         "Back",
         "Back to previous view",
         "arrow-left",
         "back"
        ],
        [
         "Forward",
         "Forward to next view",
         "arrow-right",
         "forward"
        ],
        [
         "Pan",
         "Pan axes with left mouse, zoom with right",
         "arrows",
         "pan"
        ],
        [
         "Zoom",
         "Zoom to rectangle",
         "square-o",
         "zoom"
        ],
        [
         "Download",
         "Download plot",
         "floppy-o",
         "save_figure"
        ]
       ]
      }
     }
    },
    "version_major": 2,
    "version_minor": 0
   }
  }
 },
 "nbformat": 4,
 "nbformat_minor": 4
}
