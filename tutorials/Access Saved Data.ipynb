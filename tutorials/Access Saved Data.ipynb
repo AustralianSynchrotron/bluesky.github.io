{
 "cells": [
  {
   "cell_type": "markdown",
   "metadata": {},
   "source": [
    "# Access Saved Data\n",
    "\n",
    "Data Broker solves two problems:\n",
    "\n",
    "* Search for data based on time, a unique identifer, or some other query.\n",
    "* Load data into standard scientific Python data structures without worrying about file formats.\n",
    "\n",
    "We have used Bluesky to acquire several Runs and made them available in this example Catalog."
   ]
  },
  {
   "cell_type": "code",
   "execution_count": 1,
   "metadata": {
    "execution": {
     "iopub.execute_input": "2021-03-28T22:27:28.775115Z",
     "iopub.status.busy": "2021-03-28T22:27:28.774054Z",
     "iopub.status.idle": "2021-03-28T22:27:30.543514Z",
     "shell.execute_reply": "2021-03-28T22:27:30.543970Z"
    }
   },
   "outputs": [
    {
     "name": "stderr",
     "output_type": "stream",
     "text": [
      "/home/travis/virtualenv/python3.7.1/lib/python3.7/site-packages/traitlets/traitlets.py:3036: FutureWarning: --rc={'figure.dpi': 96} for dict-traits is deprecated in traitlets 5.0. You can pass --rc <key=value> ... multiple times to add items to a dict.\n",
      "  FutureWarning,\n",
      "/home/travis/virtualenv/python3.7.1/lib/python3.7/site-packages/pims/image_reader.py:26: RuntimeWarning: PIMS image_reader.py could not find scikit-image. Falling back to matplotlib's imread(), which uses floats instead of integers. This may break your scripts. \n",
      "(To ignore this warning, include the line \"warnings.simplefilter(\"ignore\", RuntimeWarning)\" in your script.)\n",
      "  warnings.warn(RuntimeWarning(ski_preferred))\n"
     ]
    }
   ],
   "source": [
    "from bluesky_tutorial_utils import get_example_catalog\n",
    "\n",
    "catalog = get_example_catalog()"
   ]
  },
  {
   "cell_type": "markdown",
   "metadata": {},
   "source": [
    "## What can you do with a Bluesky Catalog?\n",
    "\n",
    "A Catalog has a length."
   ]
  },
  {
   "cell_type": "code",
   "execution_count": 2,
   "metadata": {
    "execution": {
     "iopub.execute_input": "2021-03-28T22:27:30.550270Z",
     "iopub.status.busy": "2021-03-28T22:27:30.549767Z",
     "iopub.status.idle": "2021-03-28T22:27:30.554996Z",
     "shell.execute_reply": "2021-03-28T22:27:30.555381Z"
    }
   },
   "outputs": [
    {
     "data": {
      "text/plain": [
       "17"
      ]
     },
     "execution_count": 1,
     "metadata": {},
     "output_type": "execute_result"
    }
   ],
   "source": [
    "len(catalog)"
   ]
  },
  {
   "cell_type": "markdown",
   "metadata": {},
   "source": [
    "Iterating over a Catalog gives the names of its entries."
   ]
  },
  {
   "cell_type": "code",
   "execution_count": 3,
   "metadata": {
    "execution": {
     "iopub.execute_input": "2021-03-28T22:27:30.560054Z",
     "iopub.status.busy": "2021-03-28T22:27:30.558578Z",
     "iopub.status.idle": "2021-03-28T22:27:30.560640Z",
     "shell.execute_reply": "2021-03-28T22:27:30.561051Z"
    }
   },
   "outputs": [],
   "source": [
    "for name in catalog:\n",
    "    ..."
   ]
  },
  {
   "cell_type": "markdown",
   "metadata": {},
   "source": [
    "As with `dict` objects in Python, iterating over a Catalog's `items()` gives ``(name, entry)`` pairs."
   ]
  },
  {
   "cell_type": "code",
   "execution_count": 4,
   "metadata": {
    "execution": {
     "iopub.execute_input": "2021-03-28T22:27:30.592317Z",
     "iopub.status.busy": "2021-03-28T22:27:30.585665Z",
     "iopub.status.idle": "2021-03-28T22:27:30.719532Z",
     "shell.execute_reply": "2021-03-28T22:27:30.719925Z"
    }
   },
   "outputs": [],
   "source": [
    "for name, entry in catalog.items():\n",
    "    ..."
   ]
  },
  {
   "cell_type": "markdown",
   "metadata": {},
   "source": [
    "The Catalogs support lookup by recency, `scan_id`, and globally unique ID.\n",
    "```python\n",
    "catalog[-1]  # the most recent Run\n",
    "catalog[-5]  # the fifth-most-recent Run\n",
    "catalog[3]  # 'scan_id' == 3 (if ambiguous, returns the most recent match)\n",
    "catalog[\"6f3ee9a1-ff4b-47ba-a439-9027cd9e6ced\"]  # a full globally unique ID...\n",
    "catalog[\"6f3ee9\"]  # ...or just enough characters to uniquely identify it (6-8 usually suffices)\n",
    "```\n",
    "\n",
    "The globally unique ID is best for use in scripts, but the others are nice for interactive use. All of these incantations return a `BlueskyRun`."
   ]
  },
  {
   "cell_type": "code",
   "execution_count": 5,
   "metadata": {
    "execution": {
     "iopub.execute_input": "2021-03-28T22:27:30.724001Z",
     "iopub.status.busy": "2021-03-28T22:27:30.723363Z",
     "iopub.status.idle": "2021-03-28T22:27:30.729099Z",
     "shell.execute_reply": "2021-03-28T22:27:30.729495Z"
    }
   },
   "outputs": [
    {
     "data": {
      "text/plain": [
       "BlueskyRun\n",
       "  uid='6f3ee9a1-ff4b-47ba-a439-9027cd9e6ced'\n",
       "  exit_status='success'\n",
       "  2020-02-03 00:00:00.000 -- 2020-02-03 00:00:00.070\n",
       "  Streams:\n",
       "    * baseline\n",
       "    * primary\n"
      ]
     },
     "execution_count": 1,
     "metadata": {},
     "output_type": "execute_result"
    }
   ],
   "source": [
    "run = catalog[-1]\n",
    "run"
   ]
  },
  {
   "cell_type": "markdown",
   "metadata": {},
   "source": [
    "Catalog also support search."
   ]
  },
  {
   "cell_type": "code",
   "execution_count": 6,
   "metadata": {
    "execution": {
     "iopub.execute_input": "2021-03-28T22:27:30.733514Z",
     "iopub.status.busy": "2021-03-28T22:27:30.732722Z",
     "iopub.status.idle": "2021-03-28T22:27:30.740360Z",
     "shell.execute_reply": "2021-03-28T22:27:30.739967Z"
    }
   },
   "outputs": [
    {
     "data": {
      "text/plain": [
       "10"
      ]
     },
     "execution_count": 1,
     "metadata": {},
     "output_type": "execute_result"
    }
   ],
   "source": [
    "results = catalog.search({\"plan_name\": \"count\"})\n",
    "len(results)"
   ]
  },
  {
   "cell_type": "markdown",
   "metadata": {},
   "source": [
    "When you search on a Catalog, you get another Catalog with a subset of the entries. You can search on this in turn, progressively narrowing the results."
   ]
  },
  {
   "cell_type": "code",
   "execution_count": 7,
   "metadata": {
    "execution": {
     "iopub.execute_input": "2021-03-28T22:27:30.744453Z",
     "iopub.status.busy": "2021-03-28T22:27:30.743656Z",
     "iopub.status.idle": "2021-03-28T22:27:30.766471Z",
     "shell.execute_reply": "2021-03-28T22:27:30.766869Z"
    }
   },
   "outputs": [
    {
     "data": {
      "text/plain": [
       "3"
      ]
     },
     "execution_count": 1,
     "metadata": {},
     "output_type": "execute_result"
    }
   ],
   "source": [
    "from databroker.queries import TimeRange\n",
    "\n",
    "jan_results = results.search(TimeRange(since=\"2020-01-01\", until=\"2020-02-01\", timezone=\"US/Eastern\"))\n",
    "len(jan_results)"
   ]
  },
  {
   "cell_type": "markdown",
   "metadata": {},
   "source": [
    "The syntax for these queries is that of [MongoDB](https://docs.mongodb.com/v3.2/reference/operator/query/#query-selectors). It is powerful and flexible, but it takes some getting used to, so databroker is growing higher-level utilities like `TimeRange` to compose common queries in a user-friendly way. We can peek inside if we like to see the MongoDB query that it generates."
   ]
  },
  {
   "cell_type": "code",
   "execution_count": 8,
   "metadata": {
    "execution": {
     "iopub.execute_input": "2021-03-28T22:27:30.771913Z",
     "iopub.status.busy": "2021-03-28T22:27:30.771403Z",
     "iopub.status.idle": "2021-03-28T22:27:30.774114Z",
     "shell.execute_reply": "2021-03-28T22:27:30.774533Z"
    }
   },
   "outputs": [
    {
     "data": {
      "text/plain": [
       "{'time': {'$gte': 1577854800.0, '$lt': 1580533200.0}}"
      ]
     },
     "execution_count": 1,
     "metadata": {},
     "output_type": "execute_result"
    }
   ],
   "source": [
    "dict(TimeRange(since=\"2020-01-01\", until=\"2020-02-01\", timezone=\"US/Eastern\"))"
   ]
  },
  {
   "cell_type": "markdown",
   "metadata": {},
   "source": [
    "### Exercise\n",
    "\n",
    "Build some ``TimeRange`` queries, filling in `...` below. Notice that you can specify the time with more or less specificity: try just giving YYYY or YYYY-MM or adding a time. Notice that all of the parameters are optional."
   ]
  },
  {
   "cell_type": "code",
   "execution_count": 9,
   "metadata": {
    "execution": {
     "iopub.execute_input": "2021-03-28T22:27:30.778543Z",
     "iopub.status.busy": "2021-03-28T22:27:30.777325Z",
     "iopub.status.idle": "2021-03-28T22:27:30.779741Z",
     "shell.execute_reply": "2021-03-28T22:27:30.780129Z"
    }
   },
   "outputs": [],
   "source": [
    "# catalog.search(TimeRange(...))"
   ]
  },
  {
   "cell_type": "code",
   "execution_count": 10,
   "metadata": {
    "execution": {
     "iopub.execute_input": "2021-03-28T22:27:30.784242Z",
     "iopub.status.busy": "2021-03-28T22:27:30.782776Z",
     "iopub.status.idle": "2021-03-28T22:27:30.784799Z",
     "shell.execute_reply": "2021-03-28T22:27:30.785206Z"
    }
   },
   "outputs": [],
   "source": [
    "# catalog.search(TimeRange(...))"
   ]
  },
  {
   "cell_type": "code",
   "execution_count": 11,
   "metadata": {
    "execution": {
     "iopub.execute_input": "2021-03-28T22:27:30.788888Z",
     "iopub.status.busy": "2021-03-28T22:27:30.787818Z",
     "iopub.status.idle": "2021-03-28T22:27:30.789794Z",
     "shell.execute_reply": "2021-03-28T22:27:30.790191Z"
    }
   },
   "outputs": [],
   "source": [
    "# catalog.search(TimeRange(...))"
   ]
  },
  {
   "cell_type": "code",
   "execution_count": 12,
   "metadata": {
    "execution": {
     "iopub.execute_input": "2021-03-28T22:27:30.794234Z",
     "iopub.status.busy": "2021-03-28T22:27:30.792863Z",
     "iopub.status.idle": "2021-03-28T22:27:30.794850Z",
     "shell.execute_reply": "2021-03-28T22:27:30.795356Z"
    }
   },
   "outputs": [],
   "source": [
    "# catalog.search(TimeRange(...))"
   ]
  },
  {
   "cell_type": "markdown",
   "metadata": {},
   "source": [
    "## What can you with a BlueskyRun?\n",
    "\n",
    "A `BlueskyRun` bundles together some metadata and several logical tables (\"streams\") of data. First, the metadata. It always comes in two sections, `\"start\"` and `\"stop\"`."
   ]
  },
  {
   "cell_type": "code",
   "execution_count": 13,
   "metadata": {
    "execution": {
     "iopub.execute_input": "2021-03-28T22:27:30.800262Z",
     "iopub.status.busy": "2021-03-28T22:27:30.799693Z",
     "iopub.status.idle": "2021-03-28T22:27:30.802414Z",
     "shell.execute_reply": "2021-03-28T22:27:30.802916Z"
    }
   },
   "outputs": [
    {
     "data": {
      "text/plain": [
       "Start({'detectors': ['ns'],\n",
       " 'hints': {'dimensions': [[['ns_gap'], 'primary']]},\n",
       " 'motors': ['ns_gap'],\n",
       " 'num_intervals': 24,\n",
       " 'num_points': 25,\n",
       " 'operator': 'Dmitri',\n",
       " 'plan_args': {'args': [\"Signal(name='ns_gap', parent='ns', value=4.0, \"\n",
       "                        'timestamp=1589570582.2353418)',\n",
       "                        0,\n",
       "                        4],\n",
       "               'detectors': [\"NewtonSimulator(prefix='', name='ns', \"\n",
       "                             \"read_attrs=['gap', 'image'], \"\n",
       "                             'configuration_attrs=[])'],\n",
       "               'num': 25,\n",
       "               'per_step': 'None'},\n",
       " 'plan_name': 'scan',\n",
       " 'plan_pattern': 'inner_product',\n",
       " 'plan_pattern_args': {'args': [\"Signal(name='ns_gap', parent='ns', value=4.0, \"\n",
       "                                'timestamp=1589570582.2353418)',\n",
       "                                0,\n",
       "                                4],\n",
       "                       'num': 25},\n",
       " 'plan_pattern_module': 'bluesky.plan_patterns',\n",
       " 'plan_type': 'generator',\n",
       " 'scan_id': 17,\n",
       " 'time': 1580688000.0,\n",
       " 'uid': '6f3ee9a1-ff4b-47ba-a439-9027cd9e6ced',\n",
       " 'versions': {'bluesky': '1.6.1', 'ophyd': '1.5.1b1'}})"
      ]
     },
     "execution_count": 1,
     "metadata": {},
     "output_type": "execute_result"
    }
   ],
   "source": [
    "run.metadata[\"start\"]  # Everything we know before the measurements start."
   ]
  },
  {
   "cell_type": "markdown",
   "metadata": {},
   "source": [
    "The above contains a mixture of things that bluesky automatically recorded (e.g. the time), things the bluesky plan reported (e.g. which motor(s) are scanned), and things the user told us (e.g. the name of the operator)."
   ]
  },
  {
   "cell_type": "code",
   "execution_count": 14,
   "metadata": {
    "execution": {
     "iopub.execute_input": "2021-03-28T22:27:30.807344Z",
     "iopub.status.busy": "2021-03-28T22:27:30.806760Z",
     "iopub.status.idle": "2021-03-28T22:27:30.809455Z",
     "shell.execute_reply": "2021-03-28T22:27:30.809827Z"
    }
   },
   "outputs": [
    {
     "data": {
      "text/plain": [
       "Stop({'exit_status': 'success',\n",
       " 'num_events': {'baseline': 2, 'primary': 25},\n",
       " 'reason': '',\n",
       " 'run_start': '6f3ee9a1-ff4b-47ba-a439-9027cd9e6ced',\n",
       " 'time': 1580688000.0707304,\n",
       " 'uid': '44c278f1-f318-44c4-8817-6ef77846b03e'})"
      ]
     },
     "execution_count": 1,
     "metadata": {},
     "output_type": "execute_result"
    }
   ],
   "source": [
    "run.metadata[\"stop\"]  # Everything we only know after the measurements stop."
   ]
  },
  {
   "cell_type": "markdown",
   "metadata": {},
   "source": [
    "These objects `Start` and `Stop` are just dictionaries. You can dig into their contents in the usual way."
   ]
  },
  {
   "cell_type": "code",
   "execution_count": 15,
   "metadata": {
    "execution": {
     "iopub.execute_input": "2021-03-28T22:27:30.814094Z",
     "iopub.status.busy": "2021-03-28T22:27:30.813516Z",
     "iopub.status.idle": "2021-03-28T22:27:30.816227Z",
     "shell.execute_reply": "2021-03-28T22:27:30.816609Z"
    }
   },
   "outputs": [
    {
     "data": {
      "text/plain": [
       "25"
      ]
     },
     "execution_count": 1,
     "metadata": {},
     "output_type": "execute_result"
    }
   ],
   "source": [
    "run.metadata[\"start\"][\"num_points\"]"
   ]
  },
  {
   "cell_type": "code",
   "execution_count": 16,
   "metadata": {
    "execution": {
     "iopub.execute_input": "2021-03-28T22:27:30.820942Z",
     "iopub.status.busy": "2021-03-28T22:27:30.820375Z",
     "iopub.status.idle": "2021-03-28T22:27:30.823086Z",
     "shell.execute_reply": "2021-03-28T22:27:30.823466Z"
    }
   },
   "outputs": [
    {
     "data": {
      "text/plain": [
       "True"
      ]
     },
     "execution_count": 1,
     "metadata": {},
     "output_type": "execute_result"
    }
   ],
   "source": [
    "run.metadata[\"stop\"][\"exit_status\"] == \"success\""
   ]
  },
  {
   "cell_type": "markdown",
   "metadata": {},
   "source": [
    "As we said, a Run bundles together any number of \"streams\" of data. Picture these as tables or spreadsheets. The stream names are shown when we print `run`."
   ]
  },
  {
   "cell_type": "code",
   "execution_count": 17,
   "metadata": {
    "execution": {
     "iopub.execute_input": "2021-03-28T22:27:30.827849Z",
     "iopub.status.busy": "2021-03-28T22:27:30.827255Z",
     "iopub.status.idle": "2021-03-28T22:27:30.830020Z",
     "shell.execute_reply": "2021-03-28T22:27:30.830412Z"
    }
   },
   "outputs": [
    {
     "data": {
      "text/plain": [
       "BlueskyRun\n",
       "  uid='6f3ee9a1-ff4b-47ba-a439-9027cd9e6ced'\n",
       "  exit_status='success'\n",
       "  2020-02-03 00:00:00.000 -- 2020-02-03 00:00:00.070\n",
       "  Streams:\n",
       "    * baseline\n",
       "    * primary\n"
      ]
     },
     "execution_count": 1,
     "metadata": {},
     "output_type": "execute_result"
    }
   ],
   "source": [
    "run"
   ]
  },
  {
   "cell_type": "markdown",
   "metadata": {},
   "source": [
    "We can also list them programmatically."
   ]
  },
  {
   "cell_type": "code",
   "execution_count": 18,
   "metadata": {
    "execution": {
     "iopub.execute_input": "2021-03-28T22:27:30.835147Z",
     "iopub.status.busy": "2021-03-28T22:27:30.834533Z",
     "iopub.status.idle": "2021-03-28T22:27:30.837350Z",
     "shell.execute_reply": "2021-03-28T22:27:30.837726Z"
    }
   },
   "outputs": [
    {
     "data": {
      "text/plain": [
       "['baseline', 'primary']"
      ]
     },
     "execution_count": 1,
     "metadata": {},
     "output_type": "execute_result"
    }
   ],
   "source": [
    "list(run)"
   ]
  },
  {
   "cell_type": "markdown",
   "metadata": {},
   "source": [
    "We can access a particular stream like `run[\"primary\"].read()`. Dot access also works — `run.primary.read()` — if the stream name is a valid Python identifier and does not collide with any other attributes."
   ]
  },
  {
   "cell_type": "code",
   "execution_count": 19,
   "metadata": {
    "execution": {
     "iopub.execute_input": "2021-03-28T22:27:30.856344Z",
     "iopub.status.busy": "2021-03-28T22:27:30.855561Z",
     "iopub.status.idle": "2021-03-28T22:27:30.933218Z",
     "shell.execute_reply": "2021-03-28T22:27:30.933600Z"
    }
   },
   "outputs": [
    {
     "data": {
      "text/html": [
       "<div><svg style=\"position: absolute; width: 0; height: 0; overflow: hidden\">\n",
       "<defs>\n",
       "<symbol id=\"icon-database\" viewBox=\"0 0 32 32\">\n",
       "<path d=\"M16 0c-8.837 0-16 2.239-16 5v4c0 2.761 7.163 5 16 5s16-2.239 16-5v-4c0-2.761-7.163-5-16-5z\"></path>\n",
       "<path d=\"M16 17c-8.837 0-16-2.239-16-5v6c0 2.761 7.163 5 16 5s16-2.239 16-5v-6c0 2.761-7.163 5-16 5z\"></path>\n",
       "<path d=\"M16 26c-8.837 0-16-2.239-16-5v6c0 2.761 7.163 5 16 5s16-2.239 16-5v-6c0 2.761-7.163 5-16 5z\"></path>\n",
       "</symbol>\n",
       "<symbol id=\"icon-file-text2\" viewBox=\"0 0 32 32\">\n",
       "<path d=\"M28.681 7.159c-0.694-0.947-1.662-2.053-2.724-3.116s-2.169-2.030-3.116-2.724c-1.612-1.182-2.393-1.319-2.841-1.319h-15.5c-1.378 0-2.5 1.121-2.5 2.5v27c0 1.378 1.122 2.5 2.5 2.5h23c1.378 0 2.5-1.122 2.5-2.5v-19.5c0-0.448-0.137-1.23-1.319-2.841zM24.543 5.457c0.959 0.959 1.712 1.825 2.268 2.543h-4.811v-4.811c0.718 0.556 1.584 1.309 2.543 2.268zM28 29.5c0 0.271-0.229 0.5-0.5 0.5h-23c-0.271 0-0.5-0.229-0.5-0.5v-27c0-0.271 0.229-0.5 0.5-0.5 0 0 15.499-0 15.5 0v7c0 0.552 0.448 1 1 1h7v19.5z\"></path>\n",
       "<path d=\"M23 26h-14c-0.552 0-1-0.448-1-1s0.448-1 1-1h14c0.552 0 1 0.448 1 1s-0.448 1-1 1z\"></path>\n",
       "<path d=\"M23 22h-14c-0.552 0-1-0.448-1-1s0.448-1 1-1h14c0.552 0 1 0.448 1 1s-0.448 1-1 1z\"></path>\n",
       "<path d=\"M23 18h-14c-0.552 0-1-0.448-1-1s0.448-1 1-1h14c0.552 0 1 0.448 1 1s-0.448 1-1 1z\"></path>\n",
       "</symbol>\n",
       "</defs>\n",
       "</svg>\n",
       "<style>/* CSS stylesheet for displaying xarray objects in jupyterlab.\n",
       " *\n",
       " */\n",
       "\n",
       ":root {\n",
       "  --xr-font-color0: var(--jp-content-font-color0, rgba(0, 0, 0, 1));\n",
       "  --xr-font-color2: var(--jp-content-font-color2, rgba(0, 0, 0, 0.54));\n",
       "  --xr-font-color3: var(--jp-content-font-color3, rgba(0, 0, 0, 0.38));\n",
       "  --xr-border-color: var(--jp-border-color2, #e0e0e0);\n",
       "  --xr-disabled-color: var(--jp-layout-color3, #bdbdbd);\n",
       "  --xr-background-color: var(--jp-layout-color0, white);\n",
       "  --xr-background-color-row-even: var(--jp-layout-color1, white);\n",
       "  --xr-background-color-row-odd: var(--jp-layout-color2, #eeeeee);\n",
       "}\n",
       "\n",
       "html[theme=dark],\n",
       "body.vscode-dark {\n",
       "  --xr-font-color0: rgba(255, 255, 255, 1);\n",
       "  --xr-font-color2: rgba(255, 255, 255, 0.54);\n",
       "  --xr-font-color3: rgba(255, 255, 255, 0.38);\n",
       "  --xr-border-color: #1F1F1F;\n",
       "  --xr-disabled-color: #515151;\n",
       "  --xr-background-color: #111111;\n",
       "  --xr-background-color-row-even: #111111;\n",
       "  --xr-background-color-row-odd: #313131;\n",
       "}\n",
       "\n",
       ".xr-wrap {\n",
       "  display: block;\n",
       "  min-width: 300px;\n",
       "  max-width: 700px;\n",
       "}\n",
       "\n",
       ".xr-text-repr-fallback {\n",
       "  /* fallback to plain text repr when CSS is not injected (untrusted notebook) */\n",
       "  display: none;\n",
       "}\n",
       "\n",
       ".xr-header {\n",
       "  padding-top: 6px;\n",
       "  padding-bottom: 6px;\n",
       "  margin-bottom: 4px;\n",
       "  border-bottom: solid 1px var(--xr-border-color);\n",
       "}\n",
       "\n",
       ".xr-header > div,\n",
       ".xr-header > ul {\n",
       "  display: inline;\n",
       "  margin-top: 0;\n",
       "  margin-bottom: 0;\n",
       "}\n",
       "\n",
       ".xr-obj-type,\n",
       ".xr-array-name {\n",
       "  margin-left: 2px;\n",
       "  margin-right: 10px;\n",
       "}\n",
       "\n",
       ".xr-obj-type {\n",
       "  color: var(--xr-font-color2);\n",
       "}\n",
       "\n",
       ".xr-sections {\n",
       "  padding-left: 0 !important;\n",
       "  display: grid;\n",
       "  grid-template-columns: 150px auto auto 1fr 20px 20px;\n",
       "}\n",
       "\n",
       ".xr-section-item {\n",
       "  display: contents;\n",
       "}\n",
       "\n",
       ".xr-section-item input {\n",
       "  display: none;\n",
       "}\n",
       "\n",
       ".xr-section-item input + label {\n",
       "  color: var(--xr-disabled-color);\n",
       "}\n",
       "\n",
       ".xr-section-item input:enabled + label {\n",
       "  cursor: pointer;\n",
       "  color: var(--xr-font-color2);\n",
       "}\n",
       "\n",
       ".xr-section-item input:enabled + label:hover {\n",
       "  color: var(--xr-font-color0);\n",
       "}\n",
       "\n",
       ".xr-section-summary {\n",
       "  grid-column: 1;\n",
       "  color: var(--xr-font-color2);\n",
       "  font-weight: 500;\n",
       "}\n",
       "\n",
       ".xr-section-summary > span {\n",
       "  display: inline-block;\n",
       "  padding-left: 0.5em;\n",
       "}\n",
       "\n",
       ".xr-section-summary-in:disabled + label {\n",
       "  color: var(--xr-font-color2);\n",
       "}\n",
       "\n",
       ".xr-section-summary-in + label:before {\n",
       "  display: inline-block;\n",
       "  content: '►';\n",
       "  font-size: 11px;\n",
       "  width: 15px;\n",
       "  text-align: center;\n",
       "}\n",
       "\n",
       ".xr-section-summary-in:disabled + label:before {\n",
       "  color: var(--xr-disabled-color);\n",
       "}\n",
       "\n",
       ".xr-section-summary-in:checked + label:before {\n",
       "  content: '▼';\n",
       "}\n",
       "\n",
       ".xr-section-summary-in:checked + label > span {\n",
       "  display: none;\n",
       "}\n",
       "\n",
       ".xr-section-summary,\n",
       ".xr-section-inline-details {\n",
       "  padding-top: 4px;\n",
       "  padding-bottom: 4px;\n",
       "}\n",
       "\n",
       ".xr-section-inline-details {\n",
       "  grid-column: 2 / -1;\n",
       "}\n",
       "\n",
       ".xr-section-details {\n",
       "  display: none;\n",
       "  grid-column: 1 / -1;\n",
       "  margin-bottom: 5px;\n",
       "}\n",
       "\n",
       ".xr-section-summary-in:checked ~ .xr-section-details {\n",
       "  display: contents;\n",
       "}\n",
       "\n",
       ".xr-array-wrap {\n",
       "  grid-column: 1 / -1;\n",
       "  display: grid;\n",
       "  grid-template-columns: 20px auto;\n",
       "}\n",
       "\n",
       ".xr-array-wrap > label {\n",
       "  grid-column: 1;\n",
       "  vertical-align: top;\n",
       "}\n",
       "\n",
       ".xr-preview {\n",
       "  color: var(--xr-font-color3);\n",
       "}\n",
       "\n",
       ".xr-array-preview,\n",
       ".xr-array-data {\n",
       "  padding: 0 5px !important;\n",
       "  grid-column: 2;\n",
       "}\n",
       "\n",
       ".xr-array-data,\n",
       ".xr-array-in:checked ~ .xr-array-preview {\n",
       "  display: none;\n",
       "}\n",
       "\n",
       ".xr-array-in:checked ~ .xr-array-data,\n",
       ".xr-array-preview {\n",
       "  display: inline-block;\n",
       "}\n",
       "\n",
       ".xr-dim-list {\n",
       "  display: inline-block !important;\n",
       "  list-style: none;\n",
       "  padding: 0 !important;\n",
       "  margin: 0;\n",
       "}\n",
       "\n",
       ".xr-dim-list li {\n",
       "  display: inline-block;\n",
       "  padding: 0;\n",
       "  margin: 0;\n",
       "}\n",
       "\n",
       ".xr-dim-list:before {\n",
       "  content: '(';\n",
       "}\n",
       "\n",
       ".xr-dim-list:after {\n",
       "  content: ')';\n",
       "}\n",
       "\n",
       ".xr-dim-list li:not(:last-child):after {\n",
       "  content: ',';\n",
       "  padding-right: 5px;\n",
       "}\n",
       "\n",
       ".xr-has-index {\n",
       "  font-weight: bold;\n",
       "}\n",
       "\n",
       ".xr-var-list,\n",
       ".xr-var-item {\n",
       "  display: contents;\n",
       "}\n",
       "\n",
       ".xr-var-item > div,\n",
       ".xr-var-item label,\n",
       ".xr-var-item > .xr-var-name span {\n",
       "  background-color: var(--xr-background-color-row-even);\n",
       "  margin-bottom: 0;\n",
       "}\n",
       "\n",
       ".xr-var-item > .xr-var-name:hover span {\n",
       "  padding-right: 5px;\n",
       "}\n",
       "\n",
       ".xr-var-list > li:nth-child(odd) > div,\n",
       ".xr-var-list > li:nth-child(odd) > label,\n",
       ".xr-var-list > li:nth-child(odd) > .xr-var-name span {\n",
       "  background-color: var(--xr-background-color-row-odd);\n",
       "}\n",
       "\n",
       ".xr-var-name {\n",
       "  grid-column: 1;\n",
       "}\n",
       "\n",
       ".xr-var-dims {\n",
       "  grid-column: 2;\n",
       "}\n",
       "\n",
       ".xr-var-dtype {\n",
       "  grid-column: 3;\n",
       "  text-align: right;\n",
       "  color: var(--xr-font-color2);\n",
       "}\n",
       "\n",
       ".xr-var-preview {\n",
       "  grid-column: 4;\n",
       "}\n",
       "\n",
       ".xr-var-name,\n",
       ".xr-var-dims,\n",
       ".xr-var-dtype,\n",
       ".xr-preview,\n",
       ".xr-attrs dt {\n",
       "  white-space: nowrap;\n",
       "  overflow: hidden;\n",
       "  text-overflow: ellipsis;\n",
       "  padding-right: 10px;\n",
       "}\n",
       "\n",
       ".xr-var-name:hover,\n",
       ".xr-var-dims:hover,\n",
       ".xr-var-dtype:hover,\n",
       ".xr-attrs dt:hover {\n",
       "  overflow: visible;\n",
       "  width: auto;\n",
       "  z-index: 1;\n",
       "}\n",
       "\n",
       ".xr-var-attrs,\n",
       ".xr-var-data {\n",
       "  display: none;\n",
       "  background-color: var(--xr-background-color) !important;\n",
       "  padding-bottom: 5px !important;\n",
       "}\n",
       "\n",
       ".xr-var-attrs-in:checked ~ .xr-var-attrs,\n",
       ".xr-var-data-in:checked ~ .xr-var-data {\n",
       "  display: block;\n",
       "}\n",
       "\n",
       ".xr-var-data > table {\n",
       "  float: right;\n",
       "}\n",
       "\n",
       ".xr-var-name span,\n",
       ".xr-var-data,\n",
       ".xr-attrs {\n",
       "  padding-left: 25px !important;\n",
       "}\n",
       "\n",
       ".xr-attrs,\n",
       ".xr-var-attrs,\n",
       ".xr-var-data {\n",
       "  grid-column: 1 / -1;\n",
       "}\n",
       "\n",
       "dl.xr-attrs {\n",
       "  padding: 0;\n",
       "  margin: 0;\n",
       "  display: grid;\n",
       "  grid-template-columns: 125px auto;\n",
       "}\n",
       "\n",
       ".xr-attrs dt,\n",
       ".xr-attrs dd {\n",
       "  padding: 0;\n",
       "  margin: 0;\n",
       "  float: left;\n",
       "  padding-right: 10px;\n",
       "  width: auto;\n",
       "}\n",
       "\n",
       ".xr-attrs dt {\n",
       "  font-weight: normal;\n",
       "  grid-column: 1;\n",
       "}\n",
       "\n",
       ".xr-attrs dt:hover span {\n",
       "  display: inline-block;\n",
       "  background: var(--xr-background-color);\n",
       "  padding-right: 10px;\n",
       "}\n",
       "\n",
       ".xr-attrs dd {\n",
       "  grid-column: 2;\n",
       "  white-space: pre-wrap;\n",
       "  word-break: break-all;\n",
       "}\n",
       "\n",
       ".xr-icon-database,\n",
       ".xr-icon-file-text2 {\n",
       "  display: inline-block;\n",
       "  vertical-align: middle;\n",
       "  width: 1em;\n",
       "  height: 1.5em !important;\n",
       "  stroke-width: 0;\n",
       "  stroke: currentColor;\n",
       "  fill: currentColor;\n",
       "}\n",
       "</style><pre class='xr-text-repr-fallback'>&lt;xarray.Dataset&gt;\n",
       "Dimensions:   (time: 25, x: 128, y: 128)\n",
       "Coordinates:\n",
       "  * time      (time) float64 1.581e+09 1.581e+09 ... 1.581e+09 1.581e+09\n",
       "Dimensions without coordinates: x, y\n",
       "Data variables:\n",
       "    ns_gap    (time) float64 0.0 0.1667 0.3333 0.5 ... 3.5 3.667 3.833 4.0\n",
       "    ns_image  (time, x, y) float64 1.258 1.959 1.752 ... 1.752 1.959 1.258</pre><div class='xr-wrap' hidden><div class='xr-header'><div class='xr-obj-type'>xarray.Dataset</div></div><ul class='xr-sections'><li class='xr-section-item'><input id='section-2df44339-22c9-4aa8-a5e9-f7c5c145c549' class='xr-section-summary-in' type='checkbox' disabled ><label for='section-2df44339-22c9-4aa8-a5e9-f7c5c145c549' class='xr-section-summary'  title='Expand/collapse section'>Dimensions:</label><div class='xr-section-inline-details'><ul class='xr-dim-list'><li><span class='xr-has-index'>time</span>: 25</li><li><span>x</span>: 128</li><li><span>y</span>: 128</li></ul></div><div class='xr-section-details'></div></li><li class='xr-section-item'><input id='section-8aa28b7c-5d2a-4927-83b9-07310b171ee0' class='xr-section-summary-in' type='checkbox'  checked><label for='section-8aa28b7c-5d2a-4927-83b9-07310b171ee0' class='xr-section-summary' >Coordinates: <span>(1)</span></label><div class='xr-section-inline-details'></div><div class='xr-section-details'><ul class='xr-var-list'><li class='xr-var-item'><div class='xr-var-name'><span class='xr-has-index'>time</span></div><div class='xr-var-dims'>(time)</div><div class='xr-var-dtype'>float64</div><div class='xr-var-preview xr-preview'>1.581e+09 1.581e+09 ... 1.581e+09</div><input id='attrs-536ad5cb-31d4-4bc1-bf0f-28abfad1a853' class='xr-var-attrs-in' type='checkbox' disabled><label for='attrs-536ad5cb-31d4-4bc1-bf0f-28abfad1a853' title='Show/Hide attributes'><svg class='icon xr-icon-file-text2'><use xlink:href='#icon-file-text2'></use></svg></label><input id='data-571504a4-1991-4791-8366-f1843e2739c8' class='xr-var-data-in' type='checkbox'><label for='data-571504a4-1991-4791-8366-f1843e2739c8' title='Show/Hide data repr'><svg class='icon xr-icon-database'><use xlink:href='#icon-database'></use></svg></label><div class='xr-var-attrs'><dl class='xr-attrs'></dl></div><div class='xr-var-data'><pre>array([1.580688e+09, 1.580688e+09, 1.580688e+09, 1.580688e+09, 1.580688e+09,\n",
       "       1.580688e+09, 1.580688e+09, 1.580688e+09, 1.580688e+09, 1.580688e+09,\n",
       "       1.580688e+09, 1.580688e+09, 1.580688e+09, 1.580688e+09, 1.580688e+09,\n",
       "       1.580688e+09, 1.580688e+09, 1.580688e+09, 1.580688e+09, 1.580688e+09,\n",
       "       1.580688e+09, 1.580688e+09, 1.580688e+09, 1.580688e+09, 1.580688e+09])</pre></div></li></ul></div></li><li class='xr-section-item'><input id='section-869c5c4e-ae77-4911-8abf-3370cbf95dd6' class='xr-section-summary-in' type='checkbox'  checked><label for='section-869c5c4e-ae77-4911-8abf-3370cbf95dd6' class='xr-section-summary' >Data variables: <span>(2)</span></label><div class='xr-section-inline-details'></div><div class='xr-section-details'><ul class='xr-var-list'><li class='xr-var-item'><div class='xr-var-name'><span>ns_gap</span></div><div class='xr-var-dims'>(time)</div><div class='xr-var-dtype'>float64</div><div class='xr-var-preview xr-preview'>0.0 0.1667 0.3333 ... 3.833 4.0</div><input id='attrs-dfe3d08b-cf4c-475a-b815-da6d48502c93' class='xr-var-attrs-in' type='checkbox' ><label for='attrs-dfe3d08b-cf4c-475a-b815-da6d48502c93' title='Show/Hide attributes'><svg class='icon xr-icon-file-text2'><use xlink:href='#icon-file-text2'></use></svg></label><input id='data-46e8ff80-e162-4750-bfca-47333feaafaf' class='xr-var-data-in' type='checkbox'><label for='data-46e8ff80-e162-4750-bfca-47333feaafaf' title='Show/Hide data repr'><svg class='icon xr-icon-database'><use xlink:href='#icon-database'></use></svg></label><div class='xr-var-attrs'><dl class='xr-attrs'><dt><span>object :</span></dt><dd>ns</dd></dl></div><div class='xr-var-data'><pre>array([0.        , 0.16666667, 0.33333333, 0.5       , 0.66666667,\n",
       "       0.83333333, 1.        , 1.16666667, 1.33333333, 1.5       ,\n",
       "       1.66666667, 1.83333333, 2.        , 2.16666667, 2.33333333,\n",
       "       2.5       , 2.66666667, 2.83333333, 3.        , 3.16666667,\n",
       "       3.33333333, 3.5       , 3.66666667, 3.83333333, 4.        ])</pre></div></li><li class='xr-var-item'><div class='xr-var-name'><span>ns_image</span></div><div class='xr-var-dims'>(time, x, y)</div><div class='xr-var-dtype'>float64</div><div class='xr-var-preview xr-preview'>1.258 1.959 1.752 ... 1.959 1.258</div><input id='attrs-f3f37b2e-fc36-4e47-a0d5-4816ac025ba5' class='xr-var-attrs-in' type='checkbox' ><label for='attrs-f3f37b2e-fc36-4e47-a0d5-4816ac025ba5' title='Show/Hide attributes'><svg class='icon xr-icon-file-text2'><use xlink:href='#icon-file-text2'></use></svg></label><input id='data-26b8cb23-4ce9-40c8-a13b-48d209102139' class='xr-var-data-in' type='checkbox'><label for='data-26b8cb23-4ce9-40c8-a13b-48d209102139' title='Show/Hide data repr'><svg class='icon xr-icon-database'><use xlink:href='#icon-database'></use></svg></label><div class='xr-var-attrs'><dl class='xr-attrs'><dt><span>object :</span></dt><dd>ns</dd></dl></div><div class='xr-var-data'><pre>array([[[1.25826974, 1.95925757, 1.75195039, ..., 1.75195039,\n",
       "         1.95925757, 1.25826974],\n",
       "        [1.95925757, 1.74115687, 0.83008752, ..., 0.83008752,\n",
       "         1.74115687, 1.95925757],\n",
       "        [1.75195039, 0.83008752, 0.07707731, ..., 0.07707731,\n",
       "         0.83008752, 1.75195039],\n",
       "        ...,\n",
       "        [1.75195039, 0.83008752, 0.07707731, ..., 0.07707731,\n",
       "         0.83008752, 1.75195039],\n",
       "        [1.95925757, 1.74115687, 0.83008752, ..., 0.83008752,\n",
       "         1.74115687, 1.95925757],\n",
       "        [1.25826974, 1.95925757, 1.75195039, ..., 1.75195039,\n",
       "         1.95925757, 1.25826974]],\n",
       "\n",
       "       [[0.29249125, 1.23494802, 1.9468762 , ..., 1.9468762 ,\n",
       "         1.23494802, 0.29249125],\n",
       "        [1.23494802, 1.9519689 , 1.76847642, ..., 1.76847642,\n",
       "         1.9519689 , 1.23494802],\n",
       "        [1.9468762 , 1.76847642, 0.87194573, ..., 0.87194573,\n",
       "         1.76847642, 1.9468762 ],\n",
       "...\n",
       "        [0.80507418, 0.0616111 , 0.20513158, ..., 0.20513158,\n",
       "         0.0616111 , 0.80507418],\n",
       "        [1.72430956, 0.78918797, 0.0616111 , ..., 0.0616111 ,\n",
       "         0.78918797, 1.72430956],\n",
       "        [1.9657785 , 1.72430956, 0.80507418, ..., 0.80507418,\n",
       "         1.72430956, 1.9657785 ]],\n",
       "\n",
       "       [[1.25826974, 1.95925757, 1.75195039, ..., 1.75195039,\n",
       "         1.95925757, 1.25826974],\n",
       "        [1.95925757, 1.74115687, 0.83008752, ..., 0.83008752,\n",
       "         1.74115687, 1.95925757],\n",
       "        [1.75195039, 0.83008752, 0.07707731, ..., 0.07707731,\n",
       "         0.83008752, 1.75195039],\n",
       "        ...,\n",
       "        [1.75195039, 0.83008752, 0.07707731, ..., 0.07707731,\n",
       "         0.83008752, 1.75195039],\n",
       "        [1.95925757, 1.74115687, 0.83008752, ..., 0.83008752,\n",
       "         1.74115687, 1.95925757],\n",
       "        [1.25826974, 1.95925757, 1.75195039, ..., 1.75195039,\n",
       "         1.95925757, 1.25826974]]])</pre></div></li></ul></div></li><li class='xr-section-item'><input id='section-3e4fbe0e-fd28-4541-a8fd-6dff2c2b75a7' class='xr-section-summary-in' type='checkbox' disabled ><label for='section-3e4fbe0e-fd28-4541-a8fd-6dff2c2b75a7' class='xr-section-summary'  title='Expand/collapse section'>Attributes: <span>(0)</span></label><div class='xr-section-inline-details'></div><div class='xr-section-details'><dl class='xr-attrs'></dl></div></li></ul></div></div>"
      ],
      "text/plain": [
       "<xarray.Dataset>\n",
       "Dimensions:   (time: 25, x: 128, y: 128)\n",
       "Coordinates:\n",
       "  * time      (time) float64 1.581e+09 1.581e+09 ... 1.581e+09 1.581e+09\n",
       "Dimensions without coordinates: x, y\n",
       "Data variables:\n",
       "    ns_gap    (time) float64 0.0 0.1667 0.3333 0.5 ... 3.5 3.667 3.833 4.0\n",
       "    ns_image  (time, x, y) float64 1.258 1.959 1.752 ... 1.752 1.959 1.258"
      ]
     },
     "execution_count": 1,
     "metadata": {},
     "output_type": "execute_result"
    }
   ],
   "source": [
    "ds = run[\"primary\"].read()\n",
    "ds"
   ]
  },
  {
   "cell_type": "markdown",
   "metadata": {},
   "source": [
    "This is an `xarray.Dataset`. At this point Bluesky and Data Broker have served their purpose and handed us a useful, general-purpose scientific Python data structure with our data in it.\n",
    "\n",
    "## What can you do with an `xarray.Dataset`?\n",
    "\n",
    "We can easily generate scatter plots of one dimension vs another."
   ]
  },
  {
   "cell_type": "code",
   "execution_count": 20,
   "metadata": {
    "execution": {
     "iopub.execute_input": "2021-03-28T22:27:30.960477Z",
     "iopub.status.busy": "2021-03-28T22:27:30.960016Z",
     "iopub.status.idle": "2021-03-28T22:27:31.175449Z",
     "shell.execute_reply": "2021-03-28T22:27:31.176132Z"
    }
   },
   "outputs": [
    {
     "data": {
      "text/plain": [
       "<matplotlib.collections.PathCollection at 0x7fbf0036b4e0>"
      ]
     },
     "execution_count": 1,
     "metadata": {},
     "output_type": "execute_result"
    },
    {
     "data": {
      "image/png": "[encoded data removed]",
      "text/plain": [
       "<Figure size 614.4x460.8 with 1 Axes>"
      ]
     },
     "metadata": {},
     "output_type": "display_data"
    }
   ],
   "source": [
    "ds.plot.scatter(x=\"time\", y=\"ns_gap\")"
   ]
  },
  {
   "cell_type": "markdown",
   "metadata": {},
   "source": [
    "We can pull out specific columns. (Each column in an `xarray.Dataset` is called an `xarray.DataArray`.)"
   ]
  },
  {
   "cell_type": "code",
   "execution_count": 21,
   "metadata": {
    "execution": {
     "iopub.execute_input": "2021-03-28T22:27:31.184472Z",
     "iopub.status.busy": "2021-03-28T22:27:31.179928Z",
     "iopub.status.idle": "2021-03-28T22:27:31.197044Z",
     "shell.execute_reply": "2021-03-28T22:27:31.196348Z"
    }
   },
   "outputs": [
    {
     "data": {
      "text/html": [
       "<div><svg style=\"position: absolute; width: 0; height: 0; overflow: hidden\">\n",
       "<defs>\n",
       "<symbol id=\"icon-database\" viewBox=\"0 0 32 32\">\n",
       "<path d=\"M16 0c-8.837 0-16 2.239-16 5v4c0 2.761 7.163 5 16 5s16-2.239 16-5v-4c0-2.761-7.163-5-16-5z\"></path>\n",
       "<path d=\"M16 17c-8.837 0-16-2.239-16-5v6c0 2.761 7.163 5 16 5s16-2.239 16-5v-6c0 2.761-7.163 5-16 5z\"></path>\n",
       "<path d=\"M16 26c-8.837 0-16-2.239-16-5v6c0 2.761 7.163 5 16 5s16-2.239 16-5v-6c0 2.761-7.163 5-16 5z\"></path>\n",
       "</symbol>\n",
       "<symbol id=\"icon-file-text2\" viewBox=\"0 0 32 32\">\n",
       "<path d=\"M28.681 7.159c-0.694-0.947-1.662-2.053-2.724-3.116s-2.169-2.030-3.116-2.724c-1.612-1.182-2.393-1.319-2.841-1.319h-15.5c-1.378 0-2.5 1.121-2.5 2.5v27c0 1.378 1.122 2.5 2.5 2.5h23c1.378 0 2.5-1.122 2.5-2.5v-19.5c0-0.448-0.137-1.23-1.319-2.841zM24.543 5.457c0.959 0.959 1.712 1.825 2.268 2.543h-4.811v-4.811c0.718 0.556 1.584 1.309 2.543 2.268zM28 29.5c0 0.271-0.229 0.5-0.5 0.5h-23c-0.271 0-0.5-0.229-0.5-0.5v-27c0-0.271 0.229-0.5 0.5-0.5 0 0 15.499-0 15.5 0v7c0 0.552 0.448 1 1 1h7v19.5z\"></path>\n",
       "<path d=\"M23 26h-14c-0.552 0-1-0.448-1-1s0.448-1 1-1h14c0.552 0 1 0.448 1 1s-0.448 1-1 1z\"></path>\n",
       "<path d=\"M23 22h-14c-0.552 0-1-0.448-1-1s0.448-1 1-1h14c0.552 0 1 0.448 1 1s-0.448 1-1 1z\"></path>\n",
       "<path d=\"M23 18h-14c-0.552 0-1-0.448-1-1s0.448-1 1-1h14c0.552 0 1 0.448 1 1s-0.448 1-1 1z\"></path>\n",
       "</symbol>\n",
       "</defs>\n",
       "</svg>\n",
       "<style>/* CSS stylesheet for displaying xarray objects in jupyterlab.\n",
       " *\n",
       " */\n",
       "\n",
       ":root {\n",
       "  --xr-font-color0: var(--jp-content-font-color0, rgba(0, 0, 0, 1));\n",
       "  --xr-font-color2: var(--jp-content-font-color2, rgba(0, 0, 0, 0.54));\n",
       "  --xr-font-color3: var(--jp-content-font-color3, rgba(0, 0, 0, 0.38));\n",
       "  --xr-border-color: var(--jp-border-color2, #e0e0e0);\n",
       "  --xr-disabled-color: var(--jp-layout-color3, #bdbdbd);\n",
       "  --xr-background-color: var(--jp-layout-color0, white);\n",
       "  --xr-background-color-row-even: var(--jp-layout-color1, white);\n",
       "  --xr-background-color-row-odd: var(--jp-layout-color2, #eeeeee);\n",
       "}\n",
       "\n",
       "html[theme=dark],\n",
       "body.vscode-dark {\n",
       "  --xr-font-color0: rgba(255, 255, 255, 1);\n",
       "  --xr-font-color2: rgba(255, 255, 255, 0.54);\n",
       "  --xr-font-color3: rgba(255, 255, 255, 0.38);\n",
       "  --xr-border-color: #1F1F1F;\n",
       "  --xr-disabled-color: #515151;\n",
       "  --xr-background-color: #111111;\n",
       "  --xr-background-color-row-even: #111111;\n",
       "  --xr-background-color-row-odd: #313131;\n",
       "}\n",
       "\n",
       ".xr-wrap {\n",
       "  display: block;\n",
       "  min-width: 300px;\n",
       "  max-width: 700px;\n",
       "}\n",
       "\n",
       ".xr-text-repr-fallback {\n",
       "  /* fallback to plain text repr when CSS is not injected (untrusted notebook) */\n",
       "  display: none;\n",
       "}\n",
       "\n",
       ".xr-header {\n",
       "  padding-top: 6px;\n",
       "  padding-bottom: 6px;\n",
       "  margin-bottom: 4px;\n",
       "  border-bottom: solid 1px var(--xr-border-color);\n",
       "}\n",
       "\n",
       ".xr-header > div,\n",
       ".xr-header > ul {\n",
       "  display: inline;\n",
       "  margin-top: 0;\n",
       "  margin-bottom: 0;\n",
       "}\n",
       "\n",
       ".xr-obj-type,\n",
       ".xr-array-name {\n",
       "  margin-left: 2px;\n",
       "  margin-right: 10px;\n",
       "}\n",
       "\n",
       ".xr-obj-type {\n",
       "  color: var(--xr-font-color2);\n",
       "}\n",
       "\n",
       ".xr-sections {\n",
       "  padding-left: 0 !important;\n",
       "  display: grid;\n",
       "  grid-template-columns: 150px auto auto 1fr 20px 20px;\n",
       "}\n",
       "\n",
       ".xr-section-item {\n",
       "  display: contents;\n",
       "}\n",
       "\n",
       ".xr-section-item input {\n",
       "  display: none;\n",
       "}\n",
       "\n",
       ".xr-section-item input + label {\n",
       "  color: var(--xr-disabled-color);\n",
       "}\n",
       "\n",
       ".xr-section-item input:enabled + label {\n",
       "  cursor: pointer;\n",
       "  color: var(--xr-font-color2);\n",
       "}\n",
       "\n",
       ".xr-section-item input:enabled + label:hover {\n",
       "  color: var(--xr-font-color0);\n",
       "}\n",
       "\n",
       ".xr-section-summary {\n",
       "  grid-column: 1;\n",
       "  color: var(--xr-font-color2);\n",
       "  font-weight: 500;\n",
       "}\n",
       "\n",
       ".xr-section-summary > span {\n",
       "  display: inline-block;\n",
       "  padding-left: 0.5em;\n",
       "}\n",
       "\n",
       ".xr-section-summary-in:disabled + label {\n",
       "  color: var(--xr-font-color2);\n",
       "}\n",
       "\n",
       ".xr-section-summary-in + label:before {\n",
       "  display: inline-block;\n",
       "  content: '►';\n",
       "  font-size: 11px;\n",
       "  width: 15px;\n",
       "  text-align: center;\n",
       "}\n",
       "\n",
       ".xr-section-summary-in:disabled + label:before {\n",
       "  color: var(--xr-disabled-color);\n",
       "}\n",
       "\n",
       ".xr-section-summary-in:checked + label:before {\n",
       "  content: '▼';\n",
       "}\n",
       "\n",
       ".xr-section-summary-in:checked + label > span {\n",
       "  display: none;\n",
       "}\n",
       "\n",
       ".xr-section-summary,\n",
       ".xr-section-inline-details {\n",
       "  padding-top: 4px;\n",
       "  padding-bottom: 4px;\n",
       "}\n",
       "\n",
       ".xr-section-inline-details {\n",
       "  grid-column: 2 / -1;\n",
       "}\n",
       "\n",
       ".xr-section-details {\n",
       "  display: none;\n",
       "  grid-column: 1 / -1;\n",
       "  margin-bottom: 5px;\n",
       "}\n",
       "\n",
       ".xr-section-summary-in:checked ~ .xr-section-details {\n",
       "  display: contents;\n",
       "}\n",
       "\n",
       ".xr-array-wrap {\n",
       "  grid-column: 1 / -1;\n",
       "  display: grid;\n",
       "  grid-template-columns: 20px auto;\n",
       "}\n",
       "\n",
       ".xr-array-wrap > label {\n",
       "  grid-column: 1;\n",
       "  vertical-align: top;\n",
       "}\n",
       "\n",
       ".xr-preview {\n",
       "  color: var(--xr-font-color3);\n",
       "}\n",
       "\n",
       ".xr-array-preview,\n",
       ".xr-array-data {\n",
       "  padding: 0 5px !important;\n",
       "  grid-column: 2;\n",
       "}\n",
       "\n",
       ".xr-array-data,\n",
       ".xr-array-in:checked ~ .xr-array-preview {\n",
       "  display: none;\n",
       "}\n",
       "\n",
       ".xr-array-in:checked ~ .xr-array-data,\n",
       ".xr-array-preview {\n",
       "  display: inline-block;\n",
       "}\n",
       "\n",
       ".xr-dim-list {\n",
       "  display: inline-block !important;\n",
       "  list-style: none;\n",
       "  padding: 0 !important;\n",
       "  margin: 0;\n",
       "}\n",
       "\n",
       ".xr-dim-list li {\n",
       "  display: inline-block;\n",
       "  padding: 0;\n",
       "  margin: 0;\n",
       "}\n",
       "\n",
       ".xr-dim-list:before {\n",
       "  content: '(';\n",
       "}\n",
       "\n",
       ".xr-dim-list:after {\n",
       "  content: ')';\n",
       "}\n",
       "\n",
       ".xr-dim-list li:not(:last-child):after {\n",
       "  content: ',';\n",
       "  padding-right: 5px;\n",
       "}\n",
       "\n",
       ".xr-has-index {\n",
       "  font-weight: bold;\n",
       "}\n",
       "\n",
       ".xr-var-list,\n",
       ".xr-var-item {\n",
       "  display: contents;\n",
       "}\n",
       "\n",
       ".xr-var-item > div,\n",
       ".xr-var-item label,\n",
       ".xr-var-item > .xr-var-name span {\n",
       "  background-color: var(--xr-background-color-row-even);\n",
       "  margin-bottom: 0;\n",
       "}\n",
       "\n",
       ".xr-var-item > .xr-var-name:hover span {\n",
       "  padding-right: 5px;\n",
       "}\n",
       "\n",
       ".xr-var-list > li:nth-child(odd) > div,\n",
       ".xr-var-list > li:nth-child(odd) > label,\n",
       ".xr-var-list > li:nth-child(odd) > .xr-var-name span {\n",
       "  background-color: var(--xr-background-color-row-odd);\n",
       "}\n",
       "\n",
       ".xr-var-name {\n",
       "  grid-column: 1;\n",
       "}\n",
       "\n",
       ".xr-var-dims {\n",
       "  grid-column: 2;\n",
       "}\n",
       "\n",
       ".xr-var-dtype {\n",
       "  grid-column: 3;\n",
       "  text-align: right;\n",
       "  color: var(--xr-font-color2);\n",
       "}\n",
       "\n",
       ".xr-var-preview {\n",
       "  grid-column: 4;\n",
       "}\n",
       "\n",
       ".xr-var-name,\n",
       ".xr-var-dims,\n",
       ".xr-var-dtype,\n",
       ".xr-preview,\n",
       ".xr-attrs dt {\n",
       "  white-space: nowrap;\n",
       "  overflow: hidden;\n",
       "  text-overflow: ellipsis;\n",
       "  padding-right: 10px;\n",
       "}\n",
       "\n",
       ".xr-var-name:hover,\n",
       ".xr-var-dims:hover,\n",
       ".xr-var-dtype:hover,\n",
       ".xr-attrs dt:hover {\n",
       "  overflow: visible;\n",
       "  width: auto;\n",
       "  z-index: 1;\n",
       "}\n",
       "\n",
       ".xr-var-attrs,\n",
       ".xr-var-data {\n",
       "  display: none;\n",
       "  background-color: var(--xr-background-color) !important;\n",
       "  padding-bottom: 5px !important;\n",
       "}\n",
       "\n",
       ".xr-var-attrs-in:checked ~ .xr-var-attrs,\n",
       ".xr-var-data-in:checked ~ .xr-var-data {\n",
       "  display: block;\n",
       "}\n",
       "\n",
       ".xr-var-data > table {\n",
       "  float: right;\n",
       "}\n",
       "\n",
       ".xr-var-name span,\n",
       ".xr-var-data,\n",
       ".xr-attrs {\n",
       "  padding-left: 25px !important;\n",
       "}\n",
       "\n",
       ".xr-attrs,\n",
       ".xr-var-attrs,\n",
       ".xr-var-data {\n",
       "  grid-column: 1 / -1;\n",
       "}\n",
       "\n",
       "dl.xr-attrs {\n",
       "  padding: 0;\n",
       "  margin: 0;\n",
       "  display: grid;\n",
       "  grid-template-columns: 125px auto;\n",
       "}\n",
       "\n",
       ".xr-attrs dt,\n",
       ".xr-attrs dd {\n",
       "  padding: 0;\n",
       "  margin: 0;\n",
       "  float: left;\n",
       "  padding-right: 10px;\n",
       "  width: auto;\n",
       "}\n",
       "\n",
       ".xr-attrs dt {\n",
       "  font-weight: normal;\n",
       "  grid-column: 1;\n",
       "}\n",
       "\n",
       ".xr-attrs dt:hover span {\n",
       "  display: inline-block;\n",
       "  background: var(--xr-background-color);\n",
       "  padding-right: 10px;\n",
       "}\n",
       "\n",
       ".xr-attrs dd {\n",
       "  grid-column: 2;\n",
       "  white-space: pre-wrap;\n",
       "  word-break: break-all;\n",
       "}\n",
       "\n",
       ".xr-icon-database,\n",
       ".xr-icon-file-text2 {\n",
       "  display: inline-block;\n",
       "  vertical-align: middle;\n",
       "  width: 1em;\n",
       "  height: 1.5em !important;\n",
       "  stroke-width: 0;\n",
       "  stroke: currentColor;\n",
       "  fill: currentColor;\n",
       "}\n",
       "</style><pre class='xr-text-repr-fallback'>&lt;xarray.DataArray &#x27;ns_image&#x27; (time: 25, x: 128, y: 128)&gt;\n",
       "array([[[1.25826974, 1.95925757, 1.75195039, ..., 1.75195039,\n",
       "         1.95925757, 1.25826974],\n",
       "        [1.95925757, 1.74115687, 0.83008752, ..., 0.83008752,\n",
       "         1.74115687, 1.95925757],\n",
       "        [1.75195039, 0.83008752, 0.07707731, ..., 0.07707731,\n",
       "         0.83008752, 1.75195039],\n",
       "        ...,\n",
       "        [1.75195039, 0.83008752, 0.07707731, ..., 0.07707731,\n",
       "         0.83008752, 1.75195039],\n",
       "        [1.95925757, 1.74115687, 0.83008752, ..., 0.83008752,\n",
       "         1.74115687, 1.95925757],\n",
       "        [1.25826974, 1.95925757, 1.75195039, ..., 1.75195039,\n",
       "         1.95925757, 1.25826974]],\n",
       "\n",
       "       [[0.29249125, 1.23494802, 1.9468762 , ..., 1.9468762 ,\n",
       "         1.23494802, 0.29249125],\n",
       "        [1.23494802, 1.9519689 , 1.76847642, ..., 1.76847642,\n",
       "         1.9519689 , 1.23494802],\n",
       "        [1.9468762 , 1.76847642, 0.87194573, ..., 0.87194573,\n",
       "         1.76847642, 1.9468762 ],\n",
       "...\n",
       "        [0.80507418, 0.0616111 , 0.20513158, ..., 0.20513158,\n",
       "         0.0616111 , 0.80507418],\n",
       "        [1.72430956, 0.78918797, 0.0616111 , ..., 0.0616111 ,\n",
       "         0.78918797, 1.72430956],\n",
       "        [1.9657785 , 1.72430956, 0.80507418, ..., 0.80507418,\n",
       "         1.72430956, 1.9657785 ]],\n",
       "\n",
       "       [[1.25826974, 1.95925757, 1.75195039, ..., 1.75195039,\n",
       "         1.95925757, 1.25826974],\n",
       "        [1.95925757, 1.74115687, 0.83008752, ..., 0.83008752,\n",
       "         1.74115687, 1.95925757],\n",
       "        [1.75195039, 0.83008752, 0.07707731, ..., 0.07707731,\n",
       "         0.83008752, 1.75195039],\n",
       "        ...,\n",
       "        [1.75195039, 0.83008752, 0.07707731, ..., 0.07707731,\n",
       "         0.83008752, 1.75195039],\n",
       "        [1.95925757, 1.74115687, 0.83008752, ..., 0.83008752,\n",
       "         1.74115687, 1.95925757],\n",
       "        [1.25826974, 1.95925757, 1.75195039, ..., 1.75195039,\n",
       "         1.95925757, 1.25826974]]])\n",
       "Coordinates:\n",
       "  * time     (time) float64 1.581e+09 1.581e+09 ... 1.581e+09 1.581e+09\n",
       "Dimensions without coordinates: x, y\n",
       "Attributes:\n",
       "    object:   ns</pre><div class='xr-wrap' hidden><div class='xr-header'><div class='xr-obj-type'>xarray.DataArray</div><div class='xr-array-name'>'ns_image'</div><ul class='xr-dim-list'><li><span class='xr-has-index'>time</span>: 25</li><li><span>x</span>: 128</li><li><span>y</span>: 128</li></ul></div><ul class='xr-sections'><li class='xr-section-item'><div class='xr-array-wrap'><input id='section-da05495d-c2d4-4745-8cdc-4f0804ba2174' class='xr-array-in' type='checkbox' checked><label for='section-da05495d-c2d4-4745-8cdc-4f0804ba2174' title='Show/hide data repr'><svg class='icon xr-icon-database'><use xlink:href='#icon-database'></use></svg></label><div class='xr-array-preview xr-preview'><span>1.258 1.959 1.752 0.8621 0.1039 ... 0.1039 0.8621 1.752 1.959 1.258</span></div><div class='xr-array-data'><pre>array([[[1.25826974, 1.95925757, 1.75195039, ..., 1.75195039,\n",
       "         1.95925757, 1.25826974],\n",
       "        [1.95925757, 1.74115687, 0.83008752, ..., 0.83008752,\n",
       "         1.74115687, 1.95925757],\n",
       "        [1.75195039, 0.83008752, 0.07707731, ..., 0.07707731,\n",
       "         0.83008752, 1.75195039],\n",
       "        ...,\n",
       "        [1.75195039, 0.83008752, 0.07707731, ..., 0.07707731,\n",
       "         0.83008752, 1.75195039],\n",
       "        [1.95925757, 1.74115687, 0.83008752, ..., 0.83008752,\n",
       "         1.74115687, 1.95925757],\n",
       "        [1.25826974, 1.95925757, 1.75195039, ..., 1.75195039,\n",
       "         1.95925757, 1.25826974]],\n",
       "\n",
       "       [[0.29249125, 1.23494802, 1.9468762 , ..., 1.9468762 ,\n",
       "         1.23494802, 0.29249125],\n",
       "        [1.23494802, 1.9519689 , 1.76847642, ..., 1.76847642,\n",
       "         1.9519689 , 1.23494802],\n",
       "        [1.9468762 , 1.76847642, 0.87194573, ..., 0.87194573,\n",
       "         1.76847642, 1.9468762 ],\n",
       "...\n",
       "        [0.80507418, 0.0616111 , 0.20513158, ..., 0.20513158,\n",
       "         0.0616111 , 0.80507418],\n",
       "        [1.72430956, 0.78918797, 0.0616111 , ..., 0.0616111 ,\n",
       "         0.78918797, 1.72430956],\n",
       "        [1.9657785 , 1.72430956, 0.80507418, ..., 0.80507418,\n",
       "         1.72430956, 1.9657785 ]],\n",
       "\n",
       "       [[1.25826974, 1.95925757, 1.75195039, ..., 1.75195039,\n",
       "         1.95925757, 1.25826974],\n",
       "        [1.95925757, 1.74115687, 0.83008752, ..., 0.83008752,\n",
       "         1.74115687, 1.95925757],\n",
       "        [1.75195039, 0.83008752, 0.07707731, ..., 0.07707731,\n",
       "         0.83008752, 1.75195039],\n",
       "        ...,\n",
       "        [1.75195039, 0.83008752, 0.07707731, ..., 0.07707731,\n",
       "         0.83008752, 1.75195039],\n",
       "        [1.95925757, 1.74115687, 0.83008752, ..., 0.83008752,\n",
       "         1.74115687, 1.95925757],\n",
       "        [1.25826974, 1.95925757, 1.75195039, ..., 1.75195039,\n",
       "         1.95925757, 1.25826974]]])</pre></div></div></li><li class='xr-section-item'><input id='section-619a3369-0977-4a7e-b02e-22c8f85dcedc' class='xr-section-summary-in' type='checkbox'  checked><label for='section-619a3369-0977-4a7e-b02e-22c8f85dcedc' class='xr-section-summary' >Coordinates: <span>(1)</span></label><div class='xr-section-inline-details'></div><div class='xr-section-details'><ul class='xr-var-list'><li class='xr-var-item'><div class='xr-var-name'><span class='xr-has-index'>time</span></div><div class='xr-var-dims'>(time)</div><div class='xr-var-dtype'>float64</div><div class='xr-var-preview xr-preview'>1.581e+09 1.581e+09 ... 1.581e+09</div><input id='attrs-7624b856-560a-4b4d-add6-6b35ebd54c2d' class='xr-var-attrs-in' type='checkbox' disabled><label for='attrs-7624b856-560a-4b4d-add6-6b35ebd54c2d' title='Show/Hide attributes'><svg class='icon xr-icon-file-text2'><use xlink:href='#icon-file-text2'></use></svg></label><input id='data-86e06c33-1d4c-41c8-89c0-7725d85451ba' class='xr-var-data-in' type='checkbox'><label for='data-86e06c33-1d4c-41c8-89c0-7725d85451ba' title='Show/Hide data repr'><svg class='icon xr-icon-database'><use xlink:href='#icon-database'></use></svg></label><div class='xr-var-attrs'><dl class='xr-attrs'></dl></div><div class='xr-var-data'><pre>array([1.580688e+09, 1.580688e+09, 1.580688e+09, 1.580688e+09, 1.580688e+09,\n",
       "       1.580688e+09, 1.580688e+09, 1.580688e+09, 1.580688e+09, 1.580688e+09,\n",
       "       1.580688e+09, 1.580688e+09, 1.580688e+09, 1.580688e+09, 1.580688e+09,\n",
       "       1.580688e+09, 1.580688e+09, 1.580688e+09, 1.580688e+09, 1.580688e+09,\n",
       "       1.580688e+09, 1.580688e+09, 1.580688e+09, 1.580688e+09, 1.580688e+09])</pre></div></li></ul></div></li><li class='xr-section-item'><input id='section-be65f373-3059-4827-9139-b83f77d39910' class='xr-section-summary-in' type='checkbox'  checked><label for='section-be65f373-3059-4827-9139-b83f77d39910' class='xr-section-summary' >Attributes: <span>(1)</span></label><div class='xr-section-inline-details'></div><div class='xr-section-details'><dl class='xr-attrs'><dt><span>object :</span></dt><dd>ns</dd></dl></div></li></ul></div></div>"
      ],
      "text/plain": [
       "<xarray.DataArray 'ns_image' (time: 25, x: 128, y: 128)>\n",
       "array([[[1.25826974, 1.95925757, 1.75195039, ..., 1.75195039,\n",
       "         1.95925757, 1.25826974],\n",
       "        [1.95925757, 1.74115687, 0.83008752, ..., 0.83008752,\n",
       "         1.74115687, 1.95925757],\n",
       "        [1.75195039, 0.83008752, 0.07707731, ..., 0.07707731,\n",
       "         0.83008752, 1.75195039],\n",
       "        ...,\n",
       "        [1.75195039, 0.83008752, 0.07707731, ..., 0.07707731,\n",
       "         0.83008752, 1.75195039],\n",
       "        [1.95925757, 1.74115687, 0.83008752, ..., 0.83008752,\n",
       "         1.74115687, 1.95925757],\n",
       "        [1.25826974, 1.95925757, 1.75195039, ..., 1.75195039,\n",
       "         1.95925757, 1.25826974]],\n",
       "\n",
       "       [[0.29249125, 1.23494802, 1.9468762 , ..., 1.9468762 ,\n",
       "         1.23494802, 0.29249125],\n",
       "        [1.23494802, 1.9519689 , 1.76847642, ..., 1.76847642,\n",
       "         1.9519689 , 1.23494802],\n",
       "        [1.9468762 , 1.76847642, 0.87194573, ..., 0.87194573,\n",
       "         1.76847642, 1.9468762 ],\n",
       "...\n",
       "        [0.80507418, 0.0616111 , 0.20513158, ..., 0.20513158,\n",
       "         0.0616111 , 0.80507418],\n",
       "        [1.72430956, 0.78918797, 0.0616111 , ..., 0.0616111 ,\n",
       "         0.78918797, 1.72430956],\n",
       "        [1.9657785 , 1.72430956, 0.80507418, ..., 0.80507418,\n",
       "         1.72430956, 1.9657785 ]],\n",
       "\n",
       "       [[1.25826974, 1.95925757, 1.75195039, ..., 1.75195039,\n",
       "         1.95925757, 1.25826974],\n",
       "        [1.95925757, 1.74115687, 0.83008752, ..., 0.83008752,\n",
       "         1.74115687, 1.95925757],\n",
       "        [1.75195039, 0.83008752, 0.07707731, ..., 0.07707731,\n",
       "         0.83008752, 1.75195039],\n",
       "        ...,\n",
       "        [1.75195039, 0.83008752, 0.07707731, ..., 0.07707731,\n",
       "         0.83008752, 1.75195039],\n",
       "        [1.95925757, 1.74115687, 0.83008752, ..., 0.83008752,\n",
       "         1.74115687, 1.95925757],\n",
       "        [1.25826974, 1.95925757, 1.75195039, ..., 1.75195039,\n",
       "         1.95925757, 1.25826974]]])\n",
       "Coordinates:\n",
       "  * time     (time) float64 1.581e+09 1.581e+09 ... 1.581e+09 1.581e+09\n",
       "Dimensions without coordinates: x, y\n",
       "Attributes:\n",
       "    object:   ns"
      ]
     },
     "execution_count": 1,
     "metadata": {},
     "output_type": "execute_result"
    }
   ],
   "source": [
    "image = ds[\"ns_image\"]\n",
    "image"
   ]
  },
  {
   "cell_type": "markdown",
   "metadata": {},
   "source": [
    "Inside this `xarray.DataArray` is a plain old numpy array."
   ]
  },
  {
   "cell_type": "code",
   "execution_count": 22,
   "metadata": {
    "execution": {
     "iopub.execute_input": "2021-03-28T22:27:31.200471Z",
     "iopub.status.busy": "2021-03-28T22:27:31.200000Z",
     "iopub.status.idle": "2021-03-28T22:27:31.204995Z",
     "shell.execute_reply": "2021-03-28T22:27:31.204561Z"
    }
   },
   "outputs": [
    {
     "data": {
      "text/plain": [
       "numpy.ndarray"
      ]
     },
     "execution_count": 1,
     "metadata": {},
     "output_type": "execute_result"
    }
   ],
   "source": [
    "type(image.values)"
   ]
  },
  {
   "cell_type": "markdown",
   "metadata": {},
   "source": [
    "The extra context provided by xarray is very useful. Notice that the dimensions have names, so we can perform aggregations over named axes without remembering the _order_ of the dimensions."
   ]
  },
  {
   "cell_type": "code",
   "execution_count": 23,
   "metadata": {
    "execution": {
     "iopub.execute_input": "2021-03-28T22:27:31.210039Z",
     "iopub.status.busy": "2021-03-28T22:27:31.209114Z",
     "iopub.status.idle": "2021-03-28T22:27:31.220212Z",
     "shell.execute_reply": "2021-03-28T22:27:31.219771Z"
    }
   },
   "outputs": [
    {
     "data": {
      "text/html": [
       "<div><svg style=\"position: absolute; width: 0; height: 0; overflow: hidden\">\n",
       "<defs>\n",
       "<symbol id=\"icon-database\" viewBox=\"0 0 32 32\">\n",
       "<path d=\"M16 0c-8.837 0-16 2.239-16 5v4c0 2.761 7.163 5 16 5s16-2.239 16-5v-4c0-2.761-7.163-5-16-5z\"></path>\n",
       "<path d=\"M16 17c-8.837 0-16-2.239-16-5v6c0 2.761 7.163 5 16 5s16-2.239 16-5v-6c0 2.761-7.163 5-16 5z\"></path>\n",
       "<path d=\"M16 26c-8.837 0-16-2.239-16-5v6c0 2.761 7.163 5 16 5s16-2.239 16-5v-6c0 2.761-7.163 5-16 5z\"></path>\n",
       "</symbol>\n",
       "<symbol id=\"icon-file-text2\" viewBox=\"0 0 32 32\">\n",
       "<path d=\"M28.681 7.159c-0.694-0.947-1.662-2.053-2.724-3.116s-2.169-2.030-3.116-2.724c-1.612-1.182-2.393-1.319-2.841-1.319h-15.5c-1.378 0-2.5 1.121-2.5 2.5v27c0 1.378 1.122 2.5 2.5 2.5h23c1.378 0 2.5-1.122 2.5-2.5v-19.5c0-0.448-0.137-1.23-1.319-2.841zM24.543 5.457c0.959 0.959 1.712 1.825 2.268 2.543h-4.811v-4.811c0.718 0.556 1.584 1.309 2.543 2.268zM28 29.5c0 0.271-0.229 0.5-0.5 0.5h-23c-0.271 0-0.5-0.229-0.5-0.5v-27c0-0.271 0.229-0.5 0.5-0.5 0 0 15.499-0 15.5 0v7c0 0.552 0.448 1 1 1h7v19.5z\"></path>\n",
       "<path d=\"M23 26h-14c-0.552 0-1-0.448-1-1s0.448-1 1-1h14c0.552 0 1 0.448 1 1s-0.448 1-1 1z\"></path>\n",
       "<path d=\"M23 22h-14c-0.552 0-1-0.448-1-1s0.448-1 1-1h14c0.552 0 1 0.448 1 1s-0.448 1-1 1z\"></path>\n",
       "<path d=\"M23 18h-14c-0.552 0-1-0.448-1-1s0.448-1 1-1h14c0.552 0 1 0.448 1 1s-0.448 1-1 1z\"></path>\n",
       "</symbol>\n",
       "</defs>\n",
       "</svg>\n",
       "<style>/* CSS stylesheet for displaying xarray objects in jupyterlab.\n",
       " *\n",
       " */\n",
       "\n",
       ":root {\n",
       "  --xr-font-color0: var(--jp-content-font-color0, rgba(0, 0, 0, 1));\n",
       "  --xr-font-color2: var(--jp-content-font-color2, rgba(0, 0, 0, 0.54));\n",
       "  --xr-font-color3: var(--jp-content-font-color3, rgba(0, 0, 0, 0.38));\n",
       "  --xr-border-color: var(--jp-border-color2, #e0e0e0);\n",
       "  --xr-disabled-color: var(--jp-layout-color3, #bdbdbd);\n",
       "  --xr-background-color: var(--jp-layout-color0, white);\n",
       "  --xr-background-color-row-even: var(--jp-layout-color1, white);\n",
       "  --xr-background-color-row-odd: var(--jp-layout-color2, #eeeeee);\n",
       "}\n",
       "\n",
       "html[theme=dark],\n",
       "body.vscode-dark {\n",
       "  --xr-font-color0: rgba(255, 255, 255, 1);\n",
       "  --xr-font-color2: rgba(255, 255, 255, 0.54);\n",
       "  --xr-font-color3: rgba(255, 255, 255, 0.38);\n",
       "  --xr-border-color: #1F1F1F;\n",
       "  --xr-disabled-color: #515151;\n",
       "  --xr-background-color: #111111;\n",
       "  --xr-background-color-row-even: #111111;\n",
       "  --xr-background-color-row-odd: #313131;\n",
       "}\n",
       "\n",
       ".xr-wrap {\n",
       "  display: block;\n",
       "  min-width: 300px;\n",
       "  max-width: 700px;\n",
       "}\n",
       "\n",
       ".xr-text-repr-fallback {\n",
       "  /* fallback to plain text repr when CSS is not injected (untrusted notebook) */\n",
       "  display: none;\n",
       "}\n",
       "\n",
       ".xr-header {\n",
       "  padding-top: 6px;\n",
       "  padding-bottom: 6px;\n",
       "  margin-bottom: 4px;\n",
       "  border-bottom: solid 1px var(--xr-border-color);\n",
       "}\n",
       "\n",
       ".xr-header > div,\n",
       ".xr-header > ul {\n",
       "  display: inline;\n",
       "  margin-top: 0;\n",
       "  margin-bottom: 0;\n",
       "}\n",
       "\n",
       ".xr-obj-type,\n",
       ".xr-array-name {\n",
       "  margin-left: 2px;\n",
       "  margin-right: 10px;\n",
       "}\n",
       "\n",
       ".xr-obj-type {\n",
       "  color: var(--xr-font-color2);\n",
       "}\n",
       "\n",
       ".xr-sections {\n",
       "  padding-left: 0 !important;\n",
       "  display: grid;\n",
       "  grid-template-columns: 150px auto auto 1fr 20px 20px;\n",
       "}\n",
       "\n",
       ".xr-section-item {\n",
       "  display: contents;\n",
       "}\n",
       "\n",
       ".xr-section-item input {\n",
       "  display: none;\n",
       "}\n",
       "\n",
       ".xr-section-item input + label {\n",
       "  color: var(--xr-disabled-color);\n",
       "}\n",
       "\n",
       ".xr-section-item input:enabled + label {\n",
       "  cursor: pointer;\n",
       "  color: var(--xr-font-color2);\n",
       "}\n",
       "\n",
       ".xr-section-item input:enabled + label:hover {\n",
       "  color: var(--xr-font-color0);\n",
       "}\n",
       "\n",
       ".xr-section-summary {\n",
       "  grid-column: 1;\n",
       "  color: var(--xr-font-color2);\n",
       "  font-weight: 500;\n",
       "}\n",
       "\n",
       ".xr-section-summary > span {\n",
       "  display: inline-block;\n",
       "  padding-left: 0.5em;\n",
       "}\n",
       "\n",
       ".xr-section-summary-in:disabled + label {\n",
       "  color: var(--xr-font-color2);\n",
       "}\n",
       "\n",
       ".xr-section-summary-in + label:before {\n",
       "  display: inline-block;\n",
       "  content: '►';\n",
       "  font-size: 11px;\n",
       "  width: 15px;\n",
       "  text-align: center;\n",
       "}\n",
       "\n",
       ".xr-section-summary-in:disabled + label:before {\n",
       "  color: var(--xr-disabled-color);\n",
       "}\n",
       "\n",
       ".xr-section-summary-in:checked + label:before {\n",
       "  content: '▼';\n",
       "}\n",
       "\n",
       ".xr-section-summary-in:checked + label > span {\n",
       "  display: none;\n",
       "}\n",
       "\n",
       ".xr-section-summary,\n",
       ".xr-section-inline-details {\n",
       "  padding-top: 4px;\n",
       "  padding-bottom: 4px;\n",
       "}\n",
       "\n",
       ".xr-section-inline-details {\n",
       "  grid-column: 2 / -1;\n",
       "}\n",
       "\n",
       ".xr-section-details {\n",
       "  display: none;\n",
       "  grid-column: 1 / -1;\n",
       "  margin-bottom: 5px;\n",
       "}\n",
       "\n",
       ".xr-section-summary-in:checked ~ .xr-section-details {\n",
       "  display: contents;\n",
       "}\n",
       "\n",
       ".xr-array-wrap {\n",
       "  grid-column: 1 / -1;\n",
       "  display: grid;\n",
       "  grid-template-columns: 20px auto;\n",
       "}\n",
       "\n",
       ".xr-array-wrap > label {\n",
       "  grid-column: 1;\n",
       "  vertical-align: top;\n",
       "}\n",
       "\n",
       ".xr-preview {\n",
       "  color: var(--xr-font-color3);\n",
       "}\n",
       "\n",
       ".xr-array-preview,\n",
       ".xr-array-data {\n",
       "  padding: 0 5px !important;\n",
       "  grid-column: 2;\n",
       "}\n",
       "\n",
       ".xr-array-data,\n",
       ".xr-array-in:checked ~ .xr-array-preview {\n",
       "  display: none;\n",
       "}\n",
       "\n",
       ".xr-array-in:checked ~ .xr-array-data,\n",
       ".xr-array-preview {\n",
       "  display: inline-block;\n",
       "}\n",
       "\n",
       ".xr-dim-list {\n",
       "  display: inline-block !important;\n",
       "  list-style: none;\n",
       "  padding: 0 !important;\n",
       "  margin: 0;\n",
       "}\n",
       "\n",
       ".xr-dim-list li {\n",
       "  display: inline-block;\n",
       "  padding: 0;\n",
       "  margin: 0;\n",
       "}\n",
       "\n",
       ".xr-dim-list:before {\n",
       "  content: '(';\n",
       "}\n",
       "\n",
       ".xr-dim-list:after {\n",
       "  content: ')';\n",
       "}\n",
       "\n",
       ".xr-dim-list li:not(:last-child):after {\n",
       "  content: ',';\n",
       "  padding-right: 5px;\n",
       "}\n",
       "\n",
       ".xr-has-index {\n",
       "  font-weight: bold;\n",
       "}\n",
       "\n",
       ".xr-var-list,\n",
       ".xr-var-item {\n",
       "  display: contents;\n",
       "}\n",
       "\n",
       ".xr-var-item > div,\n",
       ".xr-var-item label,\n",
       ".xr-var-item > .xr-var-name span {\n",
       "  background-color: var(--xr-background-color-row-even);\n",
       "  margin-bottom: 0;\n",
       "}\n",
       "\n",
       ".xr-var-item > .xr-var-name:hover span {\n",
       "  padding-right: 5px;\n",
       "}\n",
       "\n",
       ".xr-var-list > li:nth-child(odd) > div,\n",
       ".xr-var-list > li:nth-child(odd) > label,\n",
       ".xr-var-list > li:nth-child(odd) > .xr-var-name span {\n",
       "  background-color: var(--xr-background-color-row-odd);\n",
       "}\n",
       "\n",
       ".xr-var-name {\n",
       "  grid-column: 1;\n",
       "}\n",
       "\n",
       ".xr-var-dims {\n",
       "  grid-column: 2;\n",
       "}\n",
       "\n",
       ".xr-var-dtype {\n",
       "  grid-column: 3;\n",
       "  text-align: right;\n",
       "  color: var(--xr-font-color2);\n",
       "}\n",
       "\n",
       ".xr-var-preview {\n",
       "  grid-column: 4;\n",
       "}\n",
       "\n",
       ".xr-var-name,\n",
       ".xr-var-dims,\n",
       ".xr-var-dtype,\n",
       ".xr-preview,\n",
       ".xr-attrs dt {\n",
       "  white-space: nowrap;\n",
       "  overflow: hidden;\n",
       "  text-overflow: ellipsis;\n",
       "  padding-right: 10px;\n",
       "}\n",
       "\n",
       ".xr-var-name:hover,\n",
       ".xr-var-dims:hover,\n",
       ".xr-var-dtype:hover,\n",
       ".xr-attrs dt:hover {\n",
       "  overflow: visible;\n",
       "  width: auto;\n",
       "  z-index: 1;\n",
       "}\n",
       "\n",
       ".xr-var-attrs,\n",
       ".xr-var-data {\n",
       "  display: none;\n",
       "  background-color: var(--xr-background-color) !important;\n",
       "  padding-bottom: 5px !important;\n",
       "}\n",
       "\n",
       ".xr-var-attrs-in:checked ~ .xr-var-attrs,\n",
       ".xr-var-data-in:checked ~ .xr-var-data {\n",
       "  display: block;\n",
       "}\n",
       "\n",
       ".xr-var-data > table {\n",
       "  float: right;\n",
       "}\n",
       "\n",
       ".xr-var-name span,\n",
       ".xr-var-data,\n",
       ".xr-attrs {\n",
       "  padding-left: 25px !important;\n",
       "}\n",
       "\n",
       ".xr-attrs,\n",
       ".xr-var-attrs,\n",
       ".xr-var-data {\n",
       "  grid-column: 1 / -1;\n",
       "}\n",
       "\n",
       "dl.xr-attrs {\n",
       "  padding: 0;\n",
       "  margin: 0;\n",
       "  display: grid;\n",
       "  grid-template-columns: 125px auto;\n",
       "}\n",
       "\n",
       ".xr-attrs dt,\n",
       ".xr-attrs dd {\n",
       "  padding: 0;\n",
       "  margin: 0;\n",
       "  float: left;\n",
       "  padding-right: 10px;\n",
       "  width: auto;\n",
       "}\n",
       "\n",
       ".xr-attrs dt {\n",
       "  font-weight: normal;\n",
       "  grid-column: 1;\n",
       "}\n",
       "\n",
       ".xr-attrs dt:hover span {\n",
       "  display: inline-block;\n",
       "  background: var(--xr-background-color);\n",
       "  padding-right: 10px;\n",
       "}\n",
       "\n",
       ".xr-attrs dd {\n",
       "  grid-column: 2;\n",
       "  white-space: pre-wrap;\n",
       "  word-break: break-all;\n",
       "}\n",
       "\n",
       ".xr-icon-database,\n",
       ".xr-icon-file-text2 {\n",
       "  display: inline-block;\n",
       "  vertical-align: middle;\n",
       "  width: 1em;\n",
       "  height: 1.5em !important;\n",
       "  stroke-width: 0;\n",
       "  stroke: currentColor;\n",
       "  fill: currentColor;\n",
       "}\n",
       "</style><pre class='xr-text-repr-fallback'>&lt;xarray.DataArray &#x27;ns_image&#x27; (x: 128, y: 128)&gt;\n",
       "array([[25.25826974, 25.95925757, 25.75195039, ..., 25.75195039,\n",
       "        25.95925757, 25.25826974],\n",
       "       [25.95925757, 25.74115687, 24.83008752, ..., 24.83008752,\n",
       "        25.74115687, 25.95925757],\n",
       "       [25.75195039, 24.83008752, 24.07707731, ..., 24.07707731,\n",
       "        24.83008752, 25.75195039],\n",
       "       ...,\n",
       "       [25.75195039, 24.83008752, 24.07707731, ..., 24.07707731,\n",
       "        24.83008752, 25.75195039],\n",
       "       [25.95925757, 25.74115687, 24.83008752, ..., 24.83008752,\n",
       "        25.74115687, 25.95925757],\n",
       "       [25.25826974, 25.95925757, 25.75195039, ..., 25.75195039,\n",
       "        25.95925757, 25.25826974]])\n",
       "Dimensions without coordinates: x, y</pre><div class='xr-wrap' hidden><div class='xr-header'><div class='xr-obj-type'>xarray.DataArray</div><div class='xr-array-name'>'ns_image'</div><ul class='xr-dim-list'><li><span>x</span>: 128</li><li><span>y</span>: 128</li></ul></div><ul class='xr-sections'><li class='xr-section-item'><div class='xr-array-wrap'><input id='section-2e8ced25-ea77-4595-8554-1e5a704b3945' class='xr-array-in' type='checkbox' checked><label for='section-2e8ced25-ea77-4595-8554-1e5a704b3945' title='Show/hide data repr'><svg class='icon xr-icon-database'><use xlink:href='#icon-database'></use></svg></label><div class='xr-array-preview xr-preview'><span>25.26 25.96 25.75 24.86 24.1 24.12 ... 24.1 24.86 25.75 25.96 25.26</span></div><div class='xr-array-data'><pre>array([[25.25826974, 25.95925757, 25.75195039, ..., 25.75195039,\n",
       "        25.95925757, 25.25826974],\n",
       "       [25.95925757, 25.74115687, 24.83008752, ..., 24.83008752,\n",
       "        25.74115687, 25.95925757],\n",
       "       [25.75195039, 24.83008752, 24.07707731, ..., 24.07707731,\n",
       "        24.83008752, 25.75195039],\n",
       "       ...,\n",
       "       [25.75195039, 24.83008752, 24.07707731, ..., 24.07707731,\n",
       "        24.83008752, 25.75195039],\n",
       "       [25.95925757, 25.74115687, 24.83008752, ..., 24.83008752,\n",
       "        25.74115687, 25.95925757],\n",
       "       [25.25826974, 25.95925757, 25.75195039, ..., 25.75195039,\n",
       "        25.95925757, 25.25826974]])</pre></div></div></li><li class='xr-section-item'><input id='section-37e4bc0e-68c4-41d7-85ee-5178daba5fcb' class='xr-section-summary-in' type='checkbox' disabled ><label for='section-37e4bc0e-68c4-41d7-85ee-5178daba5fcb' class='xr-section-summary'  title='Expand/collapse section'>Coordinates: <span>(0)</span></label><div class='xr-section-inline-details'></div><div class='xr-section-details'><ul class='xr-var-list'></ul></div></li><li class='xr-section-item'><input id='section-55e68952-a461-47af-b2d6-8d8937453612' class='xr-section-summary-in' type='checkbox' disabled ><label for='section-55e68952-a461-47af-b2d6-8d8937453612' class='xr-section-summary'  title='Expand/collapse section'>Attributes: <span>(0)</span></label><div class='xr-section-inline-details'></div><div class='xr-section-details'><dl class='xr-attrs'></dl></div></li></ul></div></div>"
      ],
      "text/plain": [
       "<xarray.DataArray 'ns_image' (x: 128, y: 128)>\n",
       "array([[25.25826974, 25.95925757, 25.75195039, ..., 25.75195039,\n",
       "        25.95925757, 25.25826974],\n",
       "       [25.95925757, 25.74115687, 24.83008752, ..., 24.83008752,\n",
       "        25.74115687, 25.95925757],\n",
       "       [25.75195039, 24.83008752, 24.07707731, ..., 24.07707731,\n",
       "        24.83008752, 25.75195039],\n",
       "       ...,\n",
       "       [25.75195039, 24.83008752, 24.07707731, ..., 24.07707731,\n",
       "        24.83008752, 25.75195039],\n",
       "       [25.95925757, 25.74115687, 24.83008752, ..., 24.83008752,\n",
       "        25.74115687, 25.95925757],\n",
       "       [25.25826974, 25.95925757, 25.75195039, ..., 25.75195039,\n",
       "        25.95925757, 25.25826974]])\n",
       "Dimensions without coordinates: x, y"
      ]
     },
     "execution_count": 1,
     "metadata": {},
     "output_type": "execute_result"
    }
   ],
   "source": [
    "image.sum(\"time\")  # With just plain numpy, this would be image.sum(0) and we'd have to keep track ourselves that 0 = \"time\"."
   ]
  },
  {
   "cell_type": "markdown",
   "metadata": {},
   "source": [
    "The `plot` method on `xarray.DataArray` often just \"does the right thing\" based on the dimensionality of the data. It even labels our axes for us!"
   ]
  },
  {
   "cell_type": "code",
   "execution_count": 24,
   "metadata": {
    "execution": {
     "iopub.execute_input": "2021-03-28T22:27:31.223942Z",
     "iopub.status.busy": "2021-03-28T22:27:31.223145Z",
     "iopub.status.idle": "2021-03-28T22:27:31.523767Z",
     "shell.execute_reply": "2021-03-28T22:27:31.524250Z"
    }
   },
   "outputs": [
    {
     "data": {
      "text/plain": [
       "<matplotlib.collections.QuadMesh at 0x7fbf001d8438>"
      ]
     },
     "execution_count": 1,
     "metadata": {},
     "output_type": "execute_result"
    },
    {
     "data": {
      "image/png": "[encoded data removed]",
      "text/plain": [
       "<Figure size 614.4x460.8 with 2 Axes>"
      ]
     },
     "metadata": {},
     "output_type": "display_data"
    }
   ],
   "source": [
    "image.sum(\"time\").plot()"
   ]
  },
  {
   "cell_type": "markdown",
   "metadata": {},
   "source": [
    "For a quick overview of xarray see [the xarray documentation](https://xarray.pydata.org/en/stable/quick-overview.html). Also see these tutorials in particular for interesting usages of xarray:\n",
    "\n",
    "* [Slice and Interpolate Image Data](./Slice%20and%20Interpolate%20Image%20Data.ipynb)\n",
    "* [Higher Dimensional Data](./Higher%20Dimensional%20Data.ipynb)"
   ]
  },
  {
   "cell_type": "markdown",
   "metadata": {},
   "source": [
    "## Exercises"
   ]
  },
  {
   "cell_type": "markdown",
   "metadata": {},
   "source": [
    "1. Coming back to our `run`"
   ]
  },
  {
   "cell_type": "code",
   "execution_count": 25,
   "metadata": {
    "execution": {
     "iopub.execute_input": "2021-03-28T22:27:31.529440Z",
     "iopub.status.busy": "2021-03-28T22:27:31.528655Z",
     "iopub.status.idle": "2021-03-28T22:27:31.531636Z",
     "shell.execute_reply": "2021-03-28T22:27:31.532031Z"
    }
   },
   "outputs": [
    {
     "data": {
      "text/plain": [
       "BlueskyRun\n",
       "  uid='6f3ee9a1-ff4b-47ba-a439-9027cd9e6ced'\n",
       "  exit_status='success'\n",
       "  2020-02-03 00:00:00.000 -- 2020-02-03 00:00:00.070\n",
       "  Streams:\n",
       "    * baseline\n",
       "    * primary\n"
      ]
     },
     "execution_count": 1,
     "metadata": {},
     "output_type": "execute_result"
    }
   ],
   "source": [
    "run"
   ]
  },
  {
   "cell_type": "markdown",
   "metadata": {},
   "source": [
    "read the \"baseline\" stream. The baseline stream conventionally includes readings taken just before and after a scan to record all potentially-relevant positions and temperatures and note if they have drifted."
   ]
  },
  {
   "cell_type": "code",
   "execution_count": 26,
   "metadata": {
    "execution": {
     "iopub.execute_input": "2021-03-28T22:27:31.536169Z",
     "iopub.status.busy": "2021-03-28T22:27:31.534946Z",
     "iopub.status.idle": "2021-03-28T22:27:31.536968Z",
     "shell.execute_reply": "2021-03-28T22:27:31.537350Z"
    }
   },
   "outputs": [],
   "source": [
    "# Try your solution here."
   ]
  },
  {
   "cell_type": "code",
   "execution_count": 27,
   "metadata": {
    "execution": {
     "iopub.execute_input": "2021-03-28T22:27:31.541363Z",
     "iopub.status.busy": "2021-03-28T22:27:31.540751Z",
     "iopub.status.idle": "2021-03-28T22:27:31.543269Z",
     "shell.execute_reply": "2021-03-28T22:27:31.542862Z"
    }
   },
   "outputs": [],
   "source": [
    "%load solutions/access_baseline_data.py"
   ]
  }
 ],
 "metadata": {
  "kernelspec": {
   "display_name": "Python 3",
   "language": "python",
   "name": "python3"
  },
  "language_info": {
   "codemirror_mode": {
    "name": "ipython",
    "version": 3
   },
   "file_extension": ".py",
   "mimetype": "text/x-python",
   "name": "python",
   "nbconvert_exporter": "python",
   "pygments_lexer": "ipython3",
   "version": "3.7.1"
  }
 },
 "nbformat": 4,
 "nbformat_minor": 4
}
