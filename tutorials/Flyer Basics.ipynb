{
 "cells": [
  {
   "cell_type": "markdown",
   "metadata": {},
   "source": [
    "# Flyer Basics\n",
    "\n",
    "We want to understand how to build a *Flyer* in \"Bluesky\" to support various types of fly scans and remote data loggers.  The data about Flyers is spread about the standard documentation.  We need some clarity and a few examples that build complexity incrementally.\n",
    "\n",
    "The basic notion of a Flyer is that it directs an *external controller* (we'll call it the *controller* here) to perform some data collection process.  Usually, a *controller* is used to collect data at rates beyond the capabilities of Bluesky plans and the RunEngine.  Examples could be waveforms from a storage oscilloscope or a continuous motion scan of a diffractometer.\n",
    "\n",
    "This notebook will show the basic requirements for a Flyer and build a simple working example you can use a template for your own work.  (Our inspiration to create this [basic flyer tutorial](https://github.com/prjemian/ipython_mintvm/issues/3#issuecomment-385058577) was the goal of operating various fly scans at the APS, such as the USAXS fly scan, from Bluesky.  The examples we found before we started this project quickly became too instrument-specific to serve as tutorials.)\n",
    "## Python imports and definitions \n",
    "\n",
    "Here are the full set of packages to imported.  The first block are Python standard packages, then come the ophyd, Bluesky, and databroker packages.  Just the parts we plan on using here.  Since this is also a tutorial, we will not rename imports or use other such shortcuts in the documentation (the online code has some shortcuts).\n",
    "\n",
    "* Create a logger instance in case we want to investigate internal details as our code runs.\n",
    "* Create an instance of the Bluesky RunEngine.\n",
    "* Create an instance of the databroker using `databroker.temp()`, establishing a temporary, disposable yet fully-functional databroker for just this tutorial session.\n",
    "* Subscribe that databroker instance to the RunEngine so it receives the document stream each time we run a plan.\n",
    "\n",
    "Links\n",
    "\n",
    "* USAXS fly scan - https://github.com/APS-USAXS/ipython-usaxs/issues/3\n",
    "* `databroker.temp()` - https://blueskyproject.io/databroker/v1/api.html\n"
   ]
  },
  {
   "cell_type": "code",
   "execution_count": 1,
   "metadata": {
    "execution": {
     "iopub.execute_input": "2021-03-28T22:28:27.819468Z",
     "iopub.status.busy": "2021-03-28T22:28:27.818665Z",
     "iopub.status.idle": "2021-03-28T22:28:29.612821Z",
     "shell.execute_reply": "2021-03-28T22:28:29.613213Z"
    }
   },
   "outputs": [
    {
     "name": "stderr",
     "output_type": "stream",
     "text": [
      "/home/travis/virtualenv/python3.7.1/lib/python3.7/site-packages/traitlets/traitlets.py:3036: FutureWarning: --rc={'figure.dpi': 96} for dict-traits is deprecated in traitlets 5.0. You can pass --rc <key=value> ... multiple times to add items to a dict.\n",
      "  FutureWarning,\n",
      "/home/travis/virtualenv/python3.7.1/lib/python3.7/site-packages/pims/image_reader.py:26: RuntimeWarning: PIMS image_reader.py could not find scikit-image. Falling back to matplotlib's imread(), which uses floats instead of integers. This may break your scripts. \n",
      "(To ignore this warning, include the line \"warnings.simplefilter(\"ignore\", RuntimeWarning)\" in your script.)\n",
      "  warnings.warn(RuntimeWarning(ski_preferred))\n"
     ]
    },
    {
     "data": {
      "text/plain": [
       "0"
      ]
     },
     "execution_count": 1,
     "metadata": {},
     "output_type": "execute_result"
    }
   ],
   "source": [
    "import logging\n",
    "import threading\n",
    "import time\n",
    "\n",
    "import ophyd\n",
    "import bluesky\n",
    "import bluesky.plans\n",
    "import databroker\n",
    "\n",
    "logger = logging.getLogger()\n",
    "RE = bluesky.RunEngine({})\n",
    "db = databroker.temp()\n",
    "RE.subscribe(db.insert)"
   ]
  },
  {
   "cell_type": "markdown",
   "metadata": {},
   "source": [
    "### Bare Minimum Requirements for a Flyer <a class=\"anchor\" id=\"flyer-requirements\" />\n",
    "\n",
    "In Bluesky, a *Flyer* is an `ophyd.Device` that meets the *Fly-able interface*, which has three methods:\n",
    "\n",
    "1. Kickoff - begin accumulating data\n",
    "1. Complete - Bluesky tells the Flyer that Bluesky is ready to receive data\n",
    "1. Collect - the device provides the data to Bluesky\n",
    "\n",
    "The first two methods must return an instance of `ophyd.status.Status` (a.k.a. a *status* object).  For our code, we choose a specialized version of `Status()`, the `DeviceStatus()` object, based on the explanation provided in discussion.\n",
    "\n",
    "The `collect()` method requires a companion `describe_collect()` that informs the RunEngine what kind of data to expect from `collect()`.  If no timestamp information is provided from the *controller*, then do as we show here and use the workstation's clock to provide a timestamp for the event.\n",
    "\n",
    "This example (which does absolutely nothing) meets the bare minimum requirement.\n",
    "\n",
    "Links\n",
    "\n",
    "* *Flyer* - https://blueskyproject.io/bluesky/async.html?highlight=flyer#flying\n",
    "* `ophyd.Device` - https://blueskyproject.io/ophyd/device-overview.html\n",
    "* *Fly-able interface* - https://blueskyproject.io/ophyd/architecture.html#fly-able-interface\n",
    "* returns - https://blueskyproject.io/bluesky/hardware.html#kickoff\n",
    "* `ophyd.status.Status` - https://blueskyproject.io/ophyd/generated/ophyd.status.Status.html\n",
    "* `DeviceStatus()` - https://blueskyproject.io/ophyd/generated/ophyd.status.DeviceStatus.html\n",
    "* discussion - https://github.com/NSLS-II/tutorial-docker/pull/7#discussion_r185054364"
   ]
  },
  {
   "cell_type": "code",
   "execution_count": 2,
   "metadata": {
    "execution": {
     "iopub.execute_input": "2021-03-28T22:28:29.625478Z",
     "iopub.status.busy": "2021-03-28T22:28:29.620857Z",
     "iopub.status.idle": "2021-03-28T22:28:29.631732Z",
     "shell.execute_reply": "2021-03-28T22:28:29.632142Z"
    }
   },
   "outputs": [
    {
     "name": "stdout",
     "output_type": "stream",
     "text": [
      "DeviceStatus(device=flyer, done=False, success=False)\n",
      "[{'data': {}, 'timestamps': {}, 'time': 1616970509.6189258}]\n"
     ]
    },
    {
     "name": "stderr",
     "output_type": "stream",
     "text": [
      "/home/travis/virtualenv/python3.7.1/lib/python3.7/site-packages/event_model/__init__.py:209: UserWarning: The document type 'bulk_events' has been deprecated in favor of 'event_page', whose structure is a transpose of 'bulk_events'.\n",
      "  \"The document type 'bulk_events' has been deprecated in favor of \"\n"
     ]
    },
    {
     "data": {
      "text/plain": [
       "('38c6ae8e-aa35-40a1-9306-1b1b96a9e7bb',)"
      ]
     },
     "execution_count": 1,
     "metadata": {},
     "output_type": "execute_result"
    }
   ],
   "source": [
    "class BareMinimumFlyer(ophyd.Device):\n",
    "\n",
    "    def kickoff(self):\n",
    "        kickoff_status = ophyd.DeviceStatus(self)\n",
    "        kickoff_status._finished(success=True)\n",
    "        return kickoff_status\n",
    "\n",
    "    def complete(self):\n",
    "        complete_status = ophyd.DeviceStatus(self)\n",
    "        complete_status._finished(success=True)\n",
    "        return complete_status\n",
    "\n",
    "    def collect(self):\n",
    "        yield {'data':{}, 'timestamps':{}, 'time':time.time()}\n",
    "    \n",
    "    def describe_collect(self):\n",
    "        return {self.name: {}}\n",
    "\n",
    "\n",
    "flyer = BareMinimumFlyer(name=\"flyer\")\n",
    "print(flyer.complete())\n",
    "print(list(flyer.collect()))\n",
    "\n",
    "# if this next step succeeds, it's proof that we did this right!\n",
    "RE(bluesky.plans.fly([flyer]))"
   ]
  },
  {
   "cell_type": "markdown",
   "metadata": {},
   "source": [
    "Only three `documents` were emitted from the `RunEngine`: `start`, `descriptor`, and `stop` since we generated no data content."
   ]
  },
  {
   "cell_type": "code",
   "execution_count": 3,
   "metadata": {
    "execution": {
     "iopub.execute_input": "2021-03-28T22:28:29.642969Z",
     "iopub.status.busy": "2021-03-28T22:28:29.635908Z",
     "iopub.status.idle": "2021-03-28T22:28:29.654887Z",
     "shell.execute_reply": "2021-03-28T22:28:29.655283Z"
    }
   },
   "outputs": [
    {
     "data": {
      "text/plain": [
       "[('start',\n",
       "  {'uid': '38c6ae8e-aa35-40a1-9306-1b1b96a9e7bb',\n",
       "   'time': 1616970509.619722,\n",
       "   'versions': {'ophyd': '1.6.1', 'bluesky': '1.6.7'},\n",
       "   'scan_id': 1,\n",
       "   'plan_type': 'generator',\n",
       "   'plan_name': 'fly'}),\n",
       " ('descriptor',\n",
       "  {'run_start': '38c6ae8e-aa35-40a1-9306-1b1b96a9e7bb',\n",
       "   'time': 1616970509.6226776,\n",
       "   'data_keys': {},\n",
       "   'uid': 'a45b44a0-0d2c-49e3-88cd-14331f386f05',\n",
       "   'name': 'flyer',\n",
       "   'configuration': {'flyer': {'data': {}, 'timestamps': {}, 'data_keys': {}}},\n",
       "   'hints': {'flyer': {'fields': []}},\n",
       "   'object_keys': {'flyer': []}}),\n",
       " ('stop',\n",
       "  {'run_start': '38c6ae8e-aa35-40a1-9306-1b1b96a9e7bb',\n",
       "   'time': 1616970509.624576,\n",
       "   'uid': 'f2b1df71-160f-42dc-8c26-7264b02b9a9b',\n",
       "   'exit_status': 'success',\n",
       "   'reason': '',\n",
       "   'num_events': {'flyer': 1}})]"
      ]
     },
     "execution_count": 1,
     "metadata": {},
     "output_type": "execute_result"
    }
   ],
   "source": [
    "list(db[-1].documents())"
   ]
  },
  {
   "cell_type": "markdown",
   "metadata": {},
   "source": [
    "### Flyer : a starting template <a class=\"anchor\" id=\"flyer-template\" />\n",
    "\n",
    "The `BareMinimumFlyer` is a good start to use a Flyer but we'll need to add a few more things to make a good template.  The first thing to do is to make the status objects known to any method of the class.  We'll prepend both of them with `self.` and describe in the code comments what is happening.  In the constructor (`__init__()`), we set both to `None`, the value we expect when not kicked off or *flying*, respectively.  Since we **need** a constructor, we must remember to call the constructor of the superclass as well or our `ophyd.Device` will not work correctly.\n",
    "\n",
    "    def __init__(self, *args, **kwargs):\n",
    "        super().__init__('', parent=None, **kwargs)\n",
    "        self.kickoff_status = None\n",
    "        self.complete_status = None\n",
    "\n",
    "Our *controller* could take some time to signal that it is finished (seconds to minutes, at least).  We need a way to detect this completion.  We can do that either by polling the PV or by subscribing to a callback on the completion event.  We'll make that choice when we implement the actual activity.  Here, intend to wait in a polling loop.  Since the polling loop is an activity that does not return until the *controller* is done, we must do that waiting in a thread (consider an [alternative suggestion to use `epics.ca.CAThread` separate from that of the RunEngine.  (We do not want to block the RunEngine thread so it is free to respond to other activities, such as data from other streams or the user inerface.)  So, we run `my_activity()` in a separate thread that is called from `kickoff()`:\n",
    "\n",
    "        thread = threading.Thread(target=self.my_activity, daemon=True)\n",
    "        thread.start()\n",
    "\n",
    "Link\n",
    "\n",
    "* `epics.ca.CAThread` - https://github.com/NSLS-II/tutorial-docker/pull/7#discussion_r184905960\n",
    "\n",
    "The basic outline of `my_activity()` is:\n",
    "\n",
    "    def my_activity(self):\n",
    "        # tell the *controller* to do its work\n",
    "        # once started, we notify by updating the status object\n",
    "        self.kickoff_status._finished(success=True)\n",
    "\n",
    "        # wait for for it to tell us it is done \n",
    "        # after the wait, we declare victory\n",
    "        self.complete_status._finished(success=True)\n",
    "\n",
    "The waiting step will *block the thread* in which `my_activity()` is running but that's OK since this is separate from the RunEngine's thread.\n",
    "\n",
    "Within `my_activity()`,  we've left two comments starting with `# TODO: ` marking where we need to add code that will complete the specifics of our final project.  Since this tutorial develops a starting template for that project (and others), we leave these comments as-is.\n",
    "\n",
    "We've also added some diagnostic reporting (calls to `logger.info(...)`) to build out the next example:"
   ]
  },
  {
   "cell_type": "code",
   "execution_count": 4,
   "metadata": {
    "execution": {
     "iopub.execute_input": "2021-03-28T22:28:29.665432Z",
     "iopub.status.busy": "2021-03-28T22:28:29.663725Z",
     "iopub.status.idle": "2021-03-28T22:28:29.665992Z",
     "shell.execute_reply": "2021-03-28T22:28:29.666414Z"
    }
   },
   "outputs": [],
   "source": [
    "class MyFlyer(ophyd.Device):\n",
    "    \"\"\"\n",
    "    starting template for a Flyer that we understand\n",
    "    \"\"\"\n",
    "\n",
    "    def __init__(self, *args, **kwargs):\n",
    "        super().__init__('', parent=None, **kwargs)\n",
    "        self.complete_status = None\n",
    "\n",
    "    def my_activity(self):\n",
    "        \"\"\"\n",
    "        start the \"fly scan\" here, could wait for completion\n",
    "        \n",
    "        It's OK to use blocking calls here \n",
    "        since this is called in a separate thread\n",
    "        from the Bluesky RunEngine.\n",
    "        \"\"\"\n",
    "        logger.info(\"activity()\")\n",
    "        if self.complete_status is None:\n",
    "            logger.info(\"leaving activity() - not complete\")\n",
    "            return\n",
    "        \n",
    "        # TODO: do the activity here\n",
    "\n",
    "        # once started, we notify by updating the status object\n",
    "        self.kickoff_status._finished(success=True)\n",
    "\n",
    "        # TODO: wait for completion\n",
    "        \n",
    "        # after the wait, we declare victory\n",
    "        self.complete_status._finished(success=True)\n",
    "        logger.info(\"activity() complete. status = \" + str(self.complete_status))\n",
    "\n",
    "    def kickoff(self):\n",
    "        \"\"\"\n",
    "        Start this Flyer\n",
    "        \"\"\"\n",
    "        logger.info(\"kickoff()\")\n",
    "        self.kickoff_status = ophyd.DeviceStatus(self)\n",
    "        self.complete_status = ophyd.DeviceStatus(self)\n",
    "        \n",
    "        thread = threading.Thread(target=self.my_activity, daemon=True)\n",
    "        thread.start()\n",
    "\n",
    "        return self.kickoff_status\n",
    "\n",
    "    def complete(self):\n",
    "        \"\"\"\n",
    "        Wait for flying to be complete\n",
    "        \"\"\"\n",
    "        logger.info(\"complete()\")\n",
    "        if self.complete_status is None:\n",
    "            raise RuntimeError(\"No collection in progress\")\n",
    "\n",
    "        return self.complete_status\n",
    "\n",
    "    def collect(self):\n",
    "        \"\"\"\n",
    "        Retrieve the data\n",
    "        \"\"\"\n",
    "        logger.info(\"collect()\")\n",
    "        self.complete_status = None\n",
    "        yield {'data':{}, 'timestamps':{}, 'time':time.time()}\n",
    "    \n",
    "    def describe_collect(self):\n",
    "        \"\"\"\n",
    "        Describe details for ``collect()`` method\n",
    "        \"\"\"\n",
    "        logger.info(\"describe_collect()\")\n",
    "        return {self.name: {}}\n"
   ]
  },
  {
   "cell_type": "code",
   "execution_count": 5,
   "metadata": {
    "execution": {
     "iopub.execute_input": "2021-03-28T22:28:29.671362Z",
     "iopub.status.busy": "2021-03-28T22:28:29.669710Z",
     "iopub.status.idle": "2021-03-28T22:28:29.671973Z",
     "shell.execute_reply": "2021-03-28T22:28:29.672385Z"
    }
   },
   "outputs": [],
   "source": [
    "ifly = MyFlyer(name=\"ifly\")"
   ]
  },
  {
   "cell_type": "markdown",
   "metadata": {},
   "source": [
    "### Diagnostics  <a class=\"anchor\" id=\"Diagnostics\" />\n",
    "\n",
    "When building a `Flyer`, it is useful to have some diagnostics in place.  Already, we have been using some of these, including printing interim messages via calls to `logger.info(...)`.  Another useful diagnostic step is to call each of the methods individually to make sure they are acting as expected.\n",
    "\n",
    "1. create an instance of the `Flyer`\n",
    "\n",
    "    flyer = MyFlyer(name=\"flyer\")\n",
    "\n",
    "1. verify that `kickoff()` returns a status that is \"Done\"\n",
    "\n",
    "    status = flyer.kickoff()\n",
    "    status.done\n",
    "\n",
    "1. verify that `complete()` returns a status that is \"Done\"\n",
    "\n",
    "    status = flyer.complete()\n",
    "    status.done\n",
    "\n",
    "1. verify that `describe_collect()` returns a dictionary\n",
    "\n",
    "    d = flyer.describe_collect()\n",
    "    d\n",
    "\n",
    "1. verify that `collect()` returns a generator\n",
    "\n",
    "    g = flyer.collect()\n",
    "    g\n",
    "\n",
    "1. verify that generator is a list of data dictionaries\n",
    "\n",
    "    list(g)\n",
    "\n",
    "\n",
    "Apply some of those steps here (we'll skip testing the `ifly.complete()` method when not flying since it raises a `RuntimeError` exception if data collection is not in progress):"
   ]
  },
  {
   "cell_type": "code",
   "execution_count": 6,
   "metadata": {
    "execution": {
     "iopub.execute_input": "2021-03-28T22:28:29.677339Z",
     "iopub.status.busy": "2021-03-28T22:28:29.676633Z",
     "iopub.status.idle": "2021-03-28T22:28:29.679638Z",
     "shell.execute_reply": "2021-03-28T22:28:29.680033Z"
    }
   },
   "outputs": [
    {
     "data": {
      "text/plain": [
       "{'ifly': {}}"
      ]
     },
     "execution_count": 1,
     "metadata": {},
     "output_type": "execute_result"
    }
   ],
   "source": [
    "ifly.describe_collect()"
   ]
  },
  {
   "cell_type": "code",
   "execution_count": 7,
   "metadata": {
    "execution": {
     "iopub.execute_input": "2021-03-28T22:28:29.685048Z",
     "iopub.status.busy": "2021-03-28T22:28:29.684255Z",
     "iopub.status.idle": "2021-03-28T22:28:29.687385Z",
     "shell.execute_reply": "2021-03-28T22:28:29.687782Z"
    }
   },
   "outputs": [
    {
     "data": {
      "text/plain": [
       "[{'data': {}, 'timestamps': {}, 'time': 1616970509.6818006}]"
      ]
     },
     "execution_count": 1,
     "metadata": {},
     "output_type": "execute_result"
    }
   ],
   "source": [
    "list(ifly.collect())"
   ]
  },
  {
   "cell_type": "markdown",
   "metadata": {},
   "source": [
    "Now, run this fly scan:"
   ]
  },
  {
   "cell_type": "code",
   "execution_count": 8,
   "metadata": {
    "execution": {
     "iopub.execute_input": "2021-03-28T22:28:29.695611Z",
     "iopub.status.busy": "2021-03-28T22:28:29.694706Z",
     "iopub.status.idle": "2021-03-28T22:28:29.698584Z",
     "shell.execute_reply": "2021-03-28T22:28:29.699095Z"
    }
   },
   "outputs": [
    {
     "data": {
      "text/plain": [
       "('d5a4a8c5-42b3-495c-af1f-67478288f245',)"
      ]
     },
     "execution_count": 1,
     "metadata": {},
     "output_type": "execute_result"
    }
   ],
   "source": [
    "RE(bluesky.plans.fly([ifly]))"
   ]
  },
  {
   "cell_type": "code",
   "execution_count": 9,
   "metadata": {
    "execution": {
     "iopub.execute_input": "2021-03-28T22:28:29.707587Z",
     "iopub.status.busy": "2021-03-28T22:28:29.702732Z",
     "iopub.status.idle": "2021-03-28T22:28:29.711873Z",
     "shell.execute_reply": "2021-03-28T22:28:29.712261Z"
    }
   },
   "outputs": [
    {
     "data": {
      "text/plain": [
       "['ifly']"
      ]
     },
     "execution_count": 1,
     "metadata": {},
     "output_type": "execute_result"
    }
   ],
   "source": [
    "db[-1].stream_names"
   ]
  },
  {
   "cell_type": "code",
   "execution_count": 10,
   "metadata": {
    "execution": {
     "iopub.execute_input": "2021-03-28T22:28:29.720496Z",
     "iopub.status.busy": "2021-03-28T22:28:29.715287Z",
     "iopub.status.idle": "2021-03-28T22:28:29.731366Z",
     "shell.execute_reply": "2021-03-28T22:28:29.731797Z"
    }
   },
   "outputs": [
    {
     "data": {
      "text/html": [
       "<div>\n",
       "<style scoped>\n",
       "    .dataframe tbody tr th:only-of-type {\n",
       "        vertical-align: middle;\n",
       "    }\n",
       "\n",
       "    .dataframe tbody tr th {\n",
       "        vertical-align: top;\n",
       "    }\n",
       "\n",
       "    .dataframe thead th {\n",
       "        text-align: right;\n",
       "    }\n",
       "</style>\n",
       "<table border=\"1\" class=\"dataframe\">\n",
       "  <thead>\n",
       "    <tr style=\"text-align: right;\">\n",
       "      <th></th>\n",
       "    </tr>\n",
       "    <tr>\n",
       "      <th>seq_num</th>\n",
       "    </tr>\n",
       "  </thead>\n",
       "  <tbody>\n",
       "  </tbody>\n",
       "</table>\n",
       "</div>"
      ],
      "text/plain": [
       "Empty DataFrame\n",
       "Columns: []\n",
       "Index: []"
      ]
     },
     "execution_count": 1,
     "metadata": {},
     "output_type": "execute_result"
    }
   ],
   "source": [
    "db[-1].table(\"ifly\")"
   ]
  },
  {
   "cell_type": "markdown",
   "metadata": {},
   "source": [
    "Still only three `documents` were emitted from the `RunEngine`: `start`, `descriptor`, and `stop`."
   ]
  },
  {
   "cell_type": "code",
   "execution_count": 11,
   "metadata": {
    "execution": {
     "iopub.execute_input": "2021-03-28T22:28:29.735864Z",
     "iopub.status.busy": "2021-03-28T22:28:29.734998Z",
     "iopub.status.idle": "2021-03-28T22:28:29.740721Z",
     "shell.execute_reply": "2021-03-28T22:28:29.741108Z"
    }
   },
   "outputs": [
    {
     "data": {
      "text/plain": [
       "[('start',\n",
       "  {'uid': 'd5a4a8c5-42b3-495c-af1f-67478288f245',\n",
       "   'time': 1616970509.6903975,\n",
       "   'versions': {'ophyd': '1.6.1', 'bluesky': '1.6.7'},\n",
       "   'scan_id': 2,\n",
       "   'plan_type': 'generator',\n",
       "   'plan_name': 'fly'}),\n",
       " ('descriptor',\n",
       "  {'run_start': 'd5a4a8c5-42b3-495c-af1f-67478288f245',\n",
       "   'time': 1616970509.6925519,\n",
       "   'data_keys': {},\n",
       "   'uid': 'f1d0a3bc-8025-4394-9874-86da18871750',\n",
       "   'name': 'ifly',\n",
       "   'configuration': {'ifly': {'data': {}, 'timestamps': {}, 'data_keys': {}}},\n",
       "   'hints': {'ifly': {'fields': []}},\n",
       "   'object_keys': {'ifly': []}}),\n",
       " ('stop',\n",
       "  {'run_start': 'd5a4a8c5-42b3-495c-af1f-67478288f245',\n",
       "   'time': 1616970509.6932213,\n",
       "   'uid': 'b50aebe4-c4fb-4264-9fb9-92deff97aded',\n",
       "   'exit_status': 'success',\n",
       "   'reason': '',\n",
       "   'num_events': {'ifly': 1}})]"
      ]
     },
     "execution_count": 1,
     "metadata": {},
     "output_type": "execute_result"
    }
   ],
   "source": [
    "list(db[-1].documents())"
   ]
  },
  {
   "cell_type": "markdown",
   "metadata": {},
   "source": [
    "## First working Flyer - trivial data <a class=\"anchor\" id=\"trivial-data-flyer\" />\n",
    "\n",
    "To collect data, we need to modify both the `collect()` *and* the `describe_collect()` methods.  Bluesky needs to know what kind of data to expect from this Flyer, so that it can generate the correct `descriptor` document.\n",
    "\n",
    "For the *most* trivial case, we'll return a single number (`1.2345`) as the result of the first working Flyer.\n",
    "\n",
    "In the `describe_collect()` method, we create a dictionary that describes the data to be collected:\n",
    "\n",
    "        d = dict(\n",
    "            source = \"fictional\",\n",
    "            dtype = \"number\",\n",
    "            shape = []\n",
    "        )\n",
    "        return {\n",
    "            'ifly': {\n",
    "                \"x\": d\n",
    "            }\n",
    "        }\n",
    "\n",
    "Then, in the `collect()` method, add the actual data collection code:\n",
    "\n",
    "        t = time.time()\n",
    "        d = dict(\n",
    "            time=t,\n",
    "            data=dict(x=1.2345),\n",
    "            timestamps=dict(x=t)\n",
    "        )\n",
    "        yield d\n"
   ]
  },
  {
   "cell_type": "code",
   "execution_count": 12,
   "metadata": {
    "execution": {
     "iopub.execute_input": "2021-03-28T22:28:29.751854Z",
     "iopub.status.busy": "2021-03-28T22:28:29.750220Z",
     "iopub.status.idle": "2021-03-28T22:28:29.752515Z",
     "shell.execute_reply": "2021-03-28T22:28:29.752915Z"
    }
   },
   "outputs": [],
   "source": [
    "class MyFlyer(ophyd.Device):\n",
    "    \"\"\"\n",
    "    build a Flyer that we understand\n",
    "    \"\"\"\n",
    "\n",
    "    def __init__(self, *args, **kwargs):\n",
    "        super().__init__('', parent=None, **kwargs)\n",
    "        self.complete_status = None\n",
    "\n",
    "    def my_activity(self):\n",
    "        \"\"\"\n",
    "        start the \"fly scan\" here, could wait for completion\n",
    "        \n",
    "        It's OK to use blocking calls here \n",
    "        since this is called in a separate thread\n",
    "        from the Bluesky RunEngine.\n",
    "        \"\"\"\n",
    "        logger.info(\"activity()\")\n",
    "        if self.complete_status is None:\n",
    "            logger.info(\"leaving activity() - not complete\")\n",
    "            return\n",
    "        \n",
    "        # TODO: do the activity here\n",
    "\n",
    "        # once started, we notify by updating the status object\n",
    "        self.kickoff_status._finished(success=True)\n",
    "\n",
    "        # TODO: wait for completion\n",
    "        \n",
    "        # after the wait, we declare victory\n",
    "        self.complete_status._finished(success=True)\n",
    "        logger.info(\"activity() complete. status = \" + str(self.complete_status))\n",
    "\n",
    "    def kickoff(self):\n",
    "        \"\"\"\n",
    "        Start this Flyer\n",
    "        \"\"\"\n",
    "        logger.info(\"kickoff()\")\n",
    "        self.kickoff_status = ophyd.DeviceStatus(self)\n",
    "        self.complete_status = ophyd.DeviceStatus(self)\n",
    "        \n",
    "        thread = threading.Thread(target=self.my_activity, daemon=True)\n",
    "        thread.start()\n",
    "\n",
    "        return self.kickoff_status\n",
    "\n",
    "    def complete(self):\n",
    "        \"\"\"\n",
    "        Wait for flying to be complete\n",
    "        \"\"\"\n",
    "        logger.info(\"complete()\")\n",
    "        if self.complete_status is None:\n",
    "            raise RuntimeError(\"No collection in progress\")\n",
    "\n",
    "        return self.complete_status\n",
    "\n",
    "    def describe_collect(self):\n",
    "        \"\"\"\n",
    "        Describe details for ``collect()`` method\n",
    "        \"\"\"\n",
    "        logger.info(\"describe_collect()\")\n",
    "        d = dict(\n",
    "            source = \"fictional\",\n",
    "            dtype = \"number\",\n",
    "            shape = []\n",
    "        )\n",
    "        return {\n",
    "            'ifly': {\n",
    "                \"x\": d\n",
    "            }\n",
    "        }\n",
    "\n",
    "    def collect(self):\n",
    "        \"\"\"\n",
    "        Start this Flyer\n",
    "        \"\"\"\n",
    "        logger.info(\"collect()\")\n",
    "        self.complete_status = None\n",
    "        t = time.time()\n",
    "        d = dict(\n",
    "            time=t,\n",
    "            data=dict(x=1.2345),\n",
    "            timestamps=dict(x=t)\n",
    "        )\n",
    "        yield d"
   ]
  },
  {
   "cell_type": "markdown",
   "metadata": {},
   "source": [
    "As before, create a new instance of the *revised* `MyFlyer` class."
   ]
  },
  {
   "cell_type": "code",
   "execution_count": 13,
   "metadata": {
    "execution": {
     "iopub.execute_input": "2021-03-28T22:28:29.757737Z",
     "iopub.status.busy": "2021-03-28T22:28:29.756173Z",
     "iopub.status.idle": "2021-03-28T22:28:29.758413Z",
     "shell.execute_reply": "2021-03-28T22:28:29.758936Z"
    }
   },
   "outputs": [],
   "source": [
    "ifly = MyFlyer(name=\"ifly\")"
   ]
  },
  {
   "cell_type": "code",
   "execution_count": 14,
   "metadata": {
    "execution": {
     "iopub.execute_input": "2021-03-28T22:28:29.763558Z",
     "iopub.status.busy": "2021-03-28T22:28:29.763061Z",
     "iopub.status.idle": "2021-03-28T22:28:29.767171Z",
     "shell.execute_reply": "2021-03-28T22:28:29.766737Z"
    }
   },
   "outputs": [
    {
     "name": "stdout",
     "output_type": "stream",
     "text": [
      "output from describe_collect() :  {'ifly': {'x': {'source': 'fictional', 'dtype': 'number', 'shape': []}}}\n",
      "list output from collect() :  [{'time': 1616970509.7610927, 'data': {'x': 1.2345}, 'timestamps': {'x': 1616970509.7610927}}]\n"
     ]
    }
   ],
   "source": [
    "print('output from describe_collect() : ', ifly.describe_collect())\n",
    "print(\"list output from collect() : \", list(ifly.collect()))"
   ]
  },
  {
   "cell_type": "markdown",
   "metadata": {},
   "source": [
    "Running this flyer with the RunEngine seems anticlimactic but the lack of exceptions tells us that it ran and we get a UUID at the end."
   ]
  },
  {
   "cell_type": "code",
   "execution_count": 15,
   "metadata": {
    "execution": {
     "iopub.execute_input": "2021-03-28T22:28:29.772050Z",
     "iopub.status.busy": "2021-03-28T22:28:29.771427Z",
     "iopub.status.idle": "2021-03-28T22:28:29.780377Z",
     "shell.execute_reply": "2021-03-28T22:28:29.780807Z"
    }
   },
   "outputs": [
    {
     "name": "stderr",
     "output_type": "stream",
     "text": [
      "/home/travis/virtualenv/python3.7.1/lib/python3.7/site-packages/event_model/__init__.py:209: UserWarning: The document type 'bulk_events' has been deprecated in favor of 'event_page', whose structure is a transpose of 'bulk_events'.\n",
      "  \"The document type 'bulk_events' has been deprecated in favor of \"\n"
     ]
    },
    {
     "data": {
      "text/plain": [
       "('2ba3ea96-54f1-4f8b-9076-990d7d35d4ec',)"
      ]
     },
     "execution_count": 1,
     "metadata": {},
     "output_type": "execute_result"
    }
   ],
   "source": [
    "RE(bluesky.plans.fly([ifly]))"
   ]
  },
  {
   "cell_type": "markdown",
   "metadata": {},
   "source": [
    "We next query the last scan in the databroker and show a table of the stream from `collect()`:"
   ]
  },
  {
   "cell_type": "code",
   "execution_count": 16,
   "metadata": {
    "execution": {
     "iopub.execute_input": "2021-03-28T22:28:29.789667Z",
     "iopub.status.busy": "2021-03-28T22:28:29.783889Z",
     "iopub.status.idle": "2021-03-28T22:28:29.807751Z",
     "shell.execute_reply": "2021-03-28T22:28:29.807337Z"
    }
   },
   "outputs": [
    {
     "data": {
      "text/html": [
       "<div>\n",
       "<style scoped>\n",
       "    .dataframe tbody tr th:only-of-type {\n",
       "        vertical-align: middle;\n",
       "    }\n",
       "\n",
       "    .dataframe tbody tr th {\n",
       "        vertical-align: top;\n",
       "    }\n",
       "\n",
       "    .dataframe thead th {\n",
       "        text-align: right;\n",
       "    }\n",
       "</style>\n",
       "<table border=\"1\" class=\"dataframe\">\n",
       "  <thead>\n",
       "    <tr style=\"text-align: right;\">\n",
       "      <th></th>\n",
       "      <th>time</th>\n",
       "      <th>x</th>\n",
       "    </tr>\n",
       "    <tr>\n",
       "      <th>seq_num</th>\n",
       "      <th></th>\n",
       "      <th></th>\n",
       "    </tr>\n",
       "  </thead>\n",
       "  <tbody>\n",
       "    <tr>\n",
       "      <th>1</th>\n",
       "      <td>2021-03-28 22:28:29.772977591</td>\n",
       "      <td>1.2345</td>\n",
       "    </tr>\n",
       "  </tbody>\n",
       "</table>\n",
       "</div>"
      ],
      "text/plain": [
       "                                 time       x\n",
       "seq_num                                      \n",
       "1       2021-03-28 22:28:29.772977591  1.2345"
      ]
     },
     "execution_count": 1,
     "metadata": {},
     "output_type": "execute_result"
    }
   ],
   "source": [
    "h = db[-1]\n",
    "h.table(h.stream_names[0])"
   ]
  },
  {
   "cell_type": "markdown",
   "metadata": {},
   "source": [
    "Now, there is one more document type emitted: `event`.  Only one `event` since there is only one data point."
   ]
  },
  {
   "cell_type": "code",
   "execution_count": 17,
   "metadata": {
    "execution": {
     "iopub.execute_input": "2021-03-28T22:28:29.811808Z",
     "iopub.status.busy": "2021-03-28T22:28:29.810924Z",
     "iopub.status.idle": "2021-03-28T22:28:29.817274Z",
     "shell.execute_reply": "2021-03-28T22:28:29.816826Z"
    }
   },
   "outputs": [
    {
     "data": {
      "text/plain": [
       "[('start',\n",
       "  {'uid': '2ba3ea96-54f1-4f8b-9076-990d7d35d4ec',\n",
       "   'time': 1616970509.7694173,\n",
       "   'versions': {'ophyd': '1.6.1', 'bluesky': '1.6.7'},\n",
       "   'scan_id': 3,\n",
       "   'plan_type': 'generator',\n",
       "   'plan_name': 'fly'}),\n",
       " ('descriptor',\n",
       "  {'run_start': '2ba3ea96-54f1-4f8b-9076-990d7d35d4ec',\n",
       "   'time': 1616970509.7724054,\n",
       "   'data_keys': {'x': {'source': 'fictional', 'dtype': 'number', 'shape': []}},\n",
       "   'uid': 'cb2bcde2-ec07-4039-9c53-342f8d83c7d0',\n",
       "   'name': 'ifly',\n",
       "   'configuration': {'ifly': {'data': {}, 'timestamps': {}, 'data_keys': {}}},\n",
       "   'hints': {'ifly': {'fields': []}},\n",
       "   'object_keys': {'ifly': ['x']}}),\n",
       " ('event',\n",
       "  {'descriptor': 'cb2bcde2-ec07-4039-9c53-342f8d83c7d0',\n",
       "   'uid': '004aad3a-56ef-4baf-b919-39f4c01500c6',\n",
       "   'time': 1616970509.7729776,\n",
       "   'seq_num': 1,\n",
       "   'data': {'x': 1.2345},\n",
       "   'timestamps': {'x': 1616970509.7729776},\n",
       "   'filled': {}}),\n",
       " ('stop',\n",
       "  {'run_start': '2ba3ea96-54f1-4f8b-9076-990d7d35d4ec',\n",
       "   'time': 1616970509.7733142,\n",
       "   'uid': '31aeeee5-ed81-461b-bb88-dc537c18d95c',\n",
       "   'exit_status': 'success',\n",
       "   'reason': '',\n",
       "   'num_events': {'ifly': 1}})]"
      ]
     },
     "execution_count": 1,
     "metadata": {},
     "output_type": "execute_result"
    }
   ],
   "source": [
    "list(db[-1].documents())"
   ]
  },
  {
   "cell_type": "markdown",
   "metadata": {},
   "source": [
    "## Flyer that \"collects\" 1-D array data  <a class=\"anchor\" id=\"simple-1d-array-flyer\" />\n",
    "\n",
    "We continue to expand the capabilities of our working example of a Flyer.  Now, we wish to \"collect\" a 1-D array of data.  We'll manufacture that data ourselves to keep the code simple.\n",
    "\n",
    "Here, we generate an array of 5 numbers, each representing the elapsed time (in seconds) since the scan started (in `kickoff()`).  We record the start time with `self.t0 = time.time()`.  Also, `time.time()` is used to generate the timestamps in the data events.  In a real case, we *might* get timestamps from the *controller* or we'd have to make it up ourselves, just like this example."
   ]
  },
  {
   "cell_type": "code",
   "execution_count": 18,
   "metadata": {
    "execution": {
     "iopub.execute_input": "2021-03-28T22:28:29.828168Z",
     "iopub.status.busy": "2021-03-28T22:28:29.826547Z",
     "iopub.status.idle": "2021-03-28T22:28:29.828796Z",
     "shell.execute_reply": "2021-03-28T22:28:29.829211Z"
    }
   },
   "outputs": [],
   "source": [
    "class MyFlyer(ophyd.Device):\n",
    "    \"\"\"\n",
    "    a Flyer that we understand that reports 1-D array of data\n",
    "    \"\"\"\n",
    "\n",
    "    def __init__(self, *args, **kwargs):\n",
    "        super().__init__('', parent=None, **kwargs)\n",
    "        self.complete_status = None\n",
    "        self.t0 = 0\n",
    "\n",
    "    def my_activity(self):\n",
    "        \"\"\"\n",
    "        start the \"fly scan\" here, could wait for completion\n",
    "        \n",
    "        It's OK to use blocking calls here \n",
    "        since this is called in a separate thread\n",
    "        from the Bluesky RunEngine.\n",
    "        \"\"\"\n",
    "        logger.info(\"activity()\")\n",
    "        if self.complete_status is None:\n",
    "            logger.info(\"leaving activity() - not complete\")\n",
    "            return\n",
    "        \n",
    "        # TODO: do the activity here\n",
    "\n",
    "        # once started, we notify by updating the status object\n",
    "        self.kickoff_status._finished(success=True)\n",
    "\n",
    "        # TODO: wait for completion\n",
    "        \n",
    "        # after the wait, we declare victory\n",
    "        self.complete_status._finished(success=True)\n",
    "        logger.info(\"activity() complete. status = \" + str(self.complete_status))\n",
    "\n",
    "    def kickoff(self):\n",
    "        \"\"\"\n",
    "        Start this Flyer\n",
    "        \"\"\"\n",
    "        logger.info(\"kickoff()\")\n",
    "        self.kickoff_status = ophyd.DeviceStatus(self)\n",
    "        self.complete_status = ophyd.DeviceStatus(self)\n",
    "        self.t0 = time.time()\n",
    "        \n",
    "        thread = threading.Thread(target=self.my_activity, daemon=True)\n",
    "        thread.start()\n",
    "\n",
    "        return self.kickoff_status\n",
    "\n",
    "    def complete(self):\n",
    "        \"\"\"\n",
    "        Wait for flying to be complete\n",
    "        \"\"\"\n",
    "        logger.info(\"complete()\")\n",
    "        if self.complete_status is None:\n",
    "            raise RuntimeError(\"No collection in progress\")\n",
    "\n",
    "        return self.complete_status\n",
    "\n",
    "    def describe_collect(self):\n",
    "        \"\"\"\n",
    "        Describe details for ``collect()`` method\n",
    "        \"\"\"\n",
    "        logger.info(\"describe_collect()\")\n",
    "        d = dict(\n",
    "            source = \"elapsed time, s\",\n",
    "            dtype = \"number\",\n",
    "            shape = (1,)\n",
    "        )\n",
    "        return {\n",
    "            self.name: {\n",
    "                \"x\": d\n",
    "            }\n",
    "        }\n",
    "\n",
    "    def collect(self):\n",
    "        \"\"\"\n",
    "        Start this Flyer\n",
    "        \"\"\"\n",
    "        logger.info(\"collect()\")\n",
    "        self.complete_status = None\n",
    "        for _ in range(5):\n",
    "            t = time.time()\n",
    "            x = t - self.t0 # data is elapsed time since kickoff()\n",
    "            d = dict(\n",
    "                time=t,\n",
    "                data=dict(x=x),\n",
    "                timestamps=dict(x=t)\n",
    "            )\n",
    "            yield d\n"
   ]
  },
  {
   "cell_type": "code",
   "execution_count": 19,
   "metadata": {
    "execution": {
     "iopub.execute_input": "2021-03-28T22:28:29.833927Z",
     "iopub.status.busy": "2021-03-28T22:28:29.832364Z",
     "iopub.status.idle": "2021-03-28T22:28:29.834647Z",
     "shell.execute_reply": "2021-03-28T22:28:29.835073Z"
    }
   },
   "outputs": [],
   "source": [
    "ifly = MyFlyer(name=\"ifly\")"
   ]
  },
  {
   "cell_type": "code",
   "execution_count": 20,
   "metadata": {
    "execution": {
     "iopub.execute_input": "2021-03-28T22:28:29.840299Z",
     "iopub.status.busy": "2021-03-28T22:28:29.838713Z",
     "iopub.status.idle": "2021-03-28T22:28:29.842097Z",
     "shell.execute_reply": "2021-03-28T22:28:29.841537Z"
    }
   },
   "outputs": [
    {
     "name": "stdout",
     "output_type": "stream",
     "text": [
      "{'ifly': {'x': {'source': 'elapsed time, s', 'dtype': 'number', 'shape': (1,)}}}\n"
     ]
    }
   ],
   "source": [
    "print(ifly.describe_collect())"
   ]
  },
  {
   "cell_type": "code",
   "execution_count": 21,
   "metadata": {
    "execution": {
     "iopub.execute_input": "2021-03-28T22:28:29.847479Z",
     "iopub.status.busy": "2021-03-28T22:28:29.846772Z",
     "iopub.status.idle": "2021-03-28T22:28:29.849890Z",
     "shell.execute_reply": "2021-03-28T22:28:29.850301Z"
    }
   },
   "outputs": [
    {
     "data": {
      "text/plain": [
       "[{'time': 1616970509.8438156,\n",
       "  'data': {'x': 1616970509.8438156},\n",
       "  'timestamps': {'x': 1616970509.8438156}},\n",
       " {'time': 1616970509.8438177,\n",
       "  'data': {'x': 1616970509.8438177},\n",
       "  'timestamps': {'x': 1616970509.8438177}},\n",
       " {'time': 1616970509.843819,\n",
       "  'data': {'x': 1616970509.843819},\n",
       "  'timestamps': {'x': 1616970509.843819}},\n",
       " {'time': 1616970509.84382,\n",
       "  'data': {'x': 1616970509.84382},\n",
       "  'timestamps': {'x': 1616970509.84382}},\n",
       " {'time': 1616970509.8438208,\n",
       "  'data': {'x': 1616970509.8438208},\n",
       "  'timestamps': {'x': 1616970509.8438208}}]"
      ]
     },
     "execution_count": 1,
     "metadata": {},
     "output_type": "execute_result"
    }
   ],
   "source": [
    "list(ifly.collect())"
   ]
  },
  {
   "cell_type": "markdown",
   "metadata": {},
   "source": [
    "Again, not much information from running this flyer, except that it succeeds and a uuid is returned."
   ]
  },
  {
   "cell_type": "code",
   "execution_count": 22,
   "metadata": {
    "execution": {
     "iopub.execute_input": "2021-03-28T22:28:29.854867Z",
     "iopub.status.busy": "2021-03-28T22:28:29.854256Z",
     "iopub.status.idle": "2021-03-28T22:28:29.864066Z",
     "shell.execute_reply": "2021-03-28T22:28:29.864554Z"
    }
   },
   "outputs": [
    {
     "name": "stderr",
     "output_type": "stream",
     "text": [
      "/home/travis/virtualenv/python3.7.1/lib/python3.7/site-packages/event_model/__init__.py:209: UserWarning: The document type 'bulk_events' has been deprecated in favor of 'event_page', whose structure is a transpose of 'bulk_events'.\n",
      "  \"The document type 'bulk_events' has been deprecated in favor of \"\n"
     ]
    },
    {
     "data": {
      "text/plain": [
       "('cc145b33-b9e3-47bb-a618-e30320393b19',)"
      ]
     },
     "execution_count": 1,
     "metadata": {},
     "output_type": "execute_result"
    }
   ],
   "source": [
    "RE(bluesky.plans.fly([ifly]))"
   ]
  },
  {
   "cell_type": "markdown",
   "metadata": {},
   "source": [
    "More information is obtained by asking the databroker about the most recent scan.  Here's the data table from our stream of data events.  (The stream is named \"ifly\" as set from `self.name` in the `describe_collect()` method.)  We'll reference that last scan as `h` to reduce the amount of typing."
   ]
  },
  {
   "cell_type": "code",
   "execution_count": 23,
   "metadata": {
    "execution": {
     "iopub.execute_input": "2021-03-28T22:28:29.868698Z",
     "iopub.status.busy": "2021-03-28T22:28:29.867802Z",
     "iopub.status.idle": "2021-03-28T22:28:29.877190Z",
     "shell.execute_reply": "2021-03-28T22:28:29.877584Z"
    }
   },
   "outputs": [
    {
     "data": {
      "text/plain": [
       "'ifly'"
      ]
     },
     "execution_count": 1,
     "metadata": {},
     "output_type": "execute_result"
    }
   ],
   "source": [
    "h = db[-1]\n",
    "h.stream_names[0]"
   ]
  },
  {
   "cell_type": "code",
   "execution_count": 24,
   "metadata": {
    "execution": {
     "iopub.execute_input": "2021-03-28T22:28:29.893893Z",
     "iopub.status.busy": "2021-03-28T22:28:29.893160Z",
     "iopub.status.idle": "2021-03-28T22:28:29.896232Z",
     "shell.execute_reply": "2021-03-28T22:28:29.896642Z"
    }
   },
   "outputs": [
    {
     "data": {
      "text/html": [
       "<div>\n",
       "<style scoped>\n",
       "    .dataframe tbody tr th:only-of-type {\n",
       "        vertical-align: middle;\n",
       "    }\n",
       "\n",
       "    .dataframe tbody tr th {\n",
       "        vertical-align: top;\n",
       "    }\n",
       "\n",
       "    .dataframe thead th {\n",
       "        text-align: right;\n",
       "    }\n",
       "</style>\n",
       "<table border=\"1\" class=\"dataframe\">\n",
       "  <thead>\n",
       "    <tr style=\"text-align: right;\">\n",
       "      <th></th>\n",
       "      <th>time</th>\n",
       "      <th>x</th>\n",
       "    </tr>\n",
       "    <tr>\n",
       "      <th>seq_num</th>\n",
       "      <th></th>\n",
       "      <th></th>\n",
       "    </tr>\n",
       "  </thead>\n",
       "  <tbody>\n",
       "    <tr>\n",
       "      <th>1</th>\n",
       "      <td>2021-03-28 22:28:29.856477737</td>\n",
       "      <td>0.001919</td>\n",
       "    </tr>\n",
       "    <tr>\n",
       "      <th>2</th>\n",
       "      <td>2021-03-28 22:28:29.856513739</td>\n",
       "      <td>0.001955</td>\n",
       "    </tr>\n",
       "    <tr>\n",
       "      <th>3</th>\n",
       "      <td>2021-03-28 22:28:29.856523991</td>\n",
       "      <td>0.001965</td>\n",
       "    </tr>\n",
       "    <tr>\n",
       "      <th>4</th>\n",
       "      <td>2021-03-28 22:28:29.856531858</td>\n",
       "      <td>0.001973</td>\n",
       "    </tr>\n",
       "    <tr>\n",
       "      <th>5</th>\n",
       "      <td>2021-03-28 22:28:29.856538773</td>\n",
       "      <td>0.001980</td>\n",
       "    </tr>\n",
       "  </tbody>\n",
       "</table>\n",
       "</div>"
      ],
      "text/plain": [
       "                                 time         x\n",
       "seq_num                                        \n",
       "1       2021-03-28 22:28:29.856477737  0.001919\n",
       "2       2021-03-28 22:28:29.856513739  0.001955\n",
       "3       2021-03-28 22:28:29.856523991  0.001965\n",
       "4       2021-03-28 22:28:29.856531858  0.001973\n",
       "5       2021-03-28 22:28:29.856538773  0.001980"
      ]
     },
     "execution_count": 1,
     "metadata": {},
     "output_type": "execute_result"
    }
   ],
   "source": [
    "h.table(h.stream_names[0])"
   ]
  },
  {
   "cell_type": "markdown",
   "metadata": {},
   "source": [
    "We generated 5 data points, there are 5 `event` documents to match."
   ]
  },
  {
   "cell_type": "code",
   "execution_count": 25,
   "metadata": {
    "execution": {
     "iopub.execute_input": "2021-03-28T22:28:29.900820Z",
     "iopub.status.busy": "2021-03-28T22:28:29.899952Z",
     "iopub.status.idle": "2021-03-28T22:28:29.908253Z",
     "shell.execute_reply": "2021-03-28T22:28:29.907823Z"
    }
   },
   "outputs": [
    {
     "data": {
      "text/plain": [
       "[('start',\n",
       "  {'uid': 'cc145b33-b9e3-47bb-a618-e30320393b19',\n",
       "   'time': 1616970509.8527,\n",
       "   'versions': {'ophyd': '1.6.1', 'bluesky': '1.6.7'},\n",
       "   'scan_id': 4,\n",
       "   'plan_type': 'generator',\n",
       "   'plan_name': 'fly'}),\n",
       " ('descriptor',\n",
       "  {'run_start': 'cc145b33-b9e3-47bb-a618-e30320393b19',\n",
       "   'time': 1616970509.8559418,\n",
       "   'data_keys': {'x': {'source': 'elapsed time, s',\n",
       "     'dtype': 'number',\n",
       "     'shape': [1]}},\n",
       "   'uid': '5dec3426-9b8b-4268-a795-9a06b64b77a4',\n",
       "   'name': 'ifly',\n",
       "   'configuration': {'ifly': {'data': {}, 'timestamps': {}, 'data_keys': {}}},\n",
       "   'hints': {'ifly': {'fields': []}},\n",
       "   'object_keys': {'ifly': ['x']}}),\n",
       " ('event',\n",
       "  {'descriptor': '5dec3426-9b8b-4268-a795-9a06b64b77a4',\n",
       "   'uid': '859c8024-8ccf-4bc8-94c3-b59c5db33e81',\n",
       "   'time': 1616970509.8564777,\n",
       "   'seq_num': 1,\n",
       "   'data': {'x': 0.0019190311431884766},\n",
       "   'timestamps': {'x': 1616970509.8564777},\n",
       "   'filled': {}}),\n",
       " ('event',\n",
       "  {'descriptor': '5dec3426-9b8b-4268-a795-9a06b64b77a4',\n",
       "   'uid': '0a10c3f6-1fbb-415a-89ba-459b31a86363',\n",
       "   'time': 1616970509.8565137,\n",
       "   'seq_num': 2,\n",
       "   'data': {'x': 0.0019550323486328125},\n",
       "   'timestamps': {'x': 1616970509.8565137},\n",
       "   'filled': {}}),\n",
       " ('event',\n",
       "  {'descriptor': '5dec3426-9b8b-4268-a795-9a06b64b77a4',\n",
       "   'uid': '5f5b454f-7a33-48b7-971a-bca2a5f81a09',\n",
       "   'time': 1616970509.856524,\n",
       "   'seq_num': 3,\n",
       "   'data': {'x': 0.0019652843475341797},\n",
       "   'timestamps': {'x': 1616970509.856524},\n",
       "   'filled': {}}),\n",
       " ('event',\n",
       "  {'descriptor': '5dec3426-9b8b-4268-a795-9a06b64b77a4',\n",
       "   'uid': 'ee5205ac-eccc-4c38-9538-06ee04677d99',\n",
       "   'time': 1616970509.8565319,\n",
       "   'seq_num': 4,\n",
       "   'data': {'x': 0.0019731521606445312},\n",
       "   'timestamps': {'x': 1616970509.8565319},\n",
       "   'filled': {}}),\n",
       " ('event',\n",
       "  {'descriptor': '5dec3426-9b8b-4268-a795-9a06b64b77a4',\n",
       "   'uid': 'c7879ee0-f2b8-498f-ad65-d1dbf7a590ca',\n",
       "   'time': 1616970509.8565388,\n",
       "   'seq_num': 5,\n",
       "   'data': {'x': 0.0019800662994384766},\n",
       "   'timestamps': {'x': 1616970509.8565388},\n",
       "   'filled': {}}),\n",
       " ('stop',\n",
       "  {'run_start': 'cc145b33-b9e3-47bb-a618-e30320393b19',\n",
       "   'time': 1616970509.857033,\n",
       "   'uid': 'd87f6f6e-1927-48cc-8105-64221c087ea0',\n",
       "   'exit_status': 'success',\n",
       "   'reason': '',\n",
       "   'num_events': {'ifly': 5}})]"
      ]
     },
     "execution_count": 1,
     "metadata": {},
     "output_type": "execute_result"
    }
   ],
   "source": [
    "list(db[-1].documents())"
   ]
  },
  {
   "cell_type": "markdown",
   "metadata": {},
   "source": [
    "## Conclusion\n",
    "\n",
    "Now you have seen the basic steps in creating a `Flyer`.  You have also been shown a few diagnostic tools to help you investigate your code development."
   ]
  }
 ],
 "metadata": {
  "kernelspec": {
   "display_name": "Python 3",
   "language": "python",
   "name": "python3"
  },
  "language_info": {
   "codemirror_mode": {
    "name": "ipython",
    "version": 3
   },
   "file_extension": ".py",
   "mimetype": "text/x-python",
   "name": "python",
   "nbconvert_exporter": "python",
   "pygments_lexer": "ipython3",
   "version": "3.7.1"
  }
 },
 "nbformat": 4,
 "nbformat_minor": 4
}
