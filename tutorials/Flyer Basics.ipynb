{
 "cells": [
  {
   "cell_type": "markdown",
   "metadata": {},
   "source": [
    "# Flyer Basics\n",
    "\n",
    "We want to understand how to build a *Flyer* in \"Bluesky\" to support various types of fly scans and remote data loggers.  The data about Flyers is spread about the standard documentation.  We need some clarity and a few examples that build complexity incrementally.\n",
    "\n",
    "The basic notion of a Flyer is that it directs an *external controller* (we'll call it the *controller* here) to perform some data collection process.  Usually, a *controller* is used to collect data at rates beyond the capabilities of Bluesky plans and the RunEngine.  Examples could be waveforms from a storage oscilloscope or a continuous motion scan of a diffractometer.\n",
    "\n",
    "This notebook will show the basic requirements for a Flyer and build a simple working example you can use a template for your own work.  (Our inspiration to create this [basic flyer tutorial](https://github.com/prjemian/ipython_mintvm/issues/3#issuecomment-385058577) was the goal of operating various fly scans at the APS, such as the USAXS fly scan, from Bluesky.  The examples we found before we started this project quickly became too instrument-specific to serve as tutorials.)\n",
    "## Python imports and definitions \n",
    "\n",
    "Here are the full set of packages to imported.  The first block are Python standard packages, then come the ophyd, Bluesky, and databroker packages.  Just the parts we plan on using here.  Since this is also a tutorial, we will not rename imports or use other such shortcuts in the documentation (the online code has some shortcuts).\n",
    "\n",
    "* Create a logger instance in case we want to investigate internal details as our code runs.\n",
    "* Create an instance of the Bluesky RunEngine.\n",
    "* Create an instance of the databroker using `databroker.temp()`, establishing a temporary, disposable yet fully-functional databroker for just this tutorial session.\n",
    "* Subscribe that databroker instance to the RunEngine so it receives the document stream each time we run a plan.\n",
    "\n",
    "Links\n",
    "\n",
    "* USAXS fly scan - https://github.com/APS-USAXS/ipython-usaxs/issues/3\n",
    "* `databroker.temp()` - https://blueskyproject.io/databroker/v1/api.html\n"
   ]
  },
  {
   "cell_type": "code",
   "execution_count": 1,
   "metadata": {
    "execution": {
     "iopub.execute_input": "2021-03-27T22:28:31.157539Z",
     "iopub.status.busy": "2021-03-27T22:28:31.156729Z",
     "iopub.status.idle": "2021-03-27T22:28:33.135908Z",
     "shell.execute_reply": "2021-03-27T22:28:33.136334Z"
    }
   },
   "outputs": [
    {
     "name": "stderr",
     "output_type": "stream",
     "text": [
      "/home/travis/virtualenv/python3.7.1/lib/python3.7/site-packages/traitlets/traitlets.py:3036: FutureWarning: --rc={'figure.dpi': 96} for dict-traits is deprecated in traitlets 5.0. You can pass --rc <key=value> ... multiple times to add items to a dict.\n",
      "  FutureWarning,\n",
      "/home/travis/virtualenv/python3.7.1/lib/python3.7/site-packages/pims/image_reader.py:26: RuntimeWarning: PIMS image_reader.py could not find scikit-image. Falling back to matplotlib's imread(), which uses floats instead of integers. This may break your scripts. \n",
      "(To ignore this warning, include the line \"warnings.simplefilter(\"ignore\", RuntimeWarning)\" in your script.)\n",
      "  warnings.warn(RuntimeWarning(ski_preferred))\n"
     ]
    },
    {
     "data": {
      "text/plain": [
       "0"
      ]
     },
     "execution_count": 1,
     "metadata": {},
     "output_type": "execute_result"
    }
   ],
   "source": [
    "import logging\n",
    "import threading\n",
    "import time\n",
    "\n",
    "import ophyd\n",
    "import bluesky\n",
    "import bluesky.plans\n",
    "import databroker\n",
    "\n",
    "logger = logging.getLogger()\n",
    "RE = bluesky.RunEngine({})\n",
    "db = databroker.temp()\n",
    "RE.subscribe(db.insert)"
   ]
  },
  {
   "cell_type": "markdown",
   "metadata": {},
   "source": [
    "### Bare Minimum Requirements for a Flyer <a class=\"anchor\" id=\"flyer-requirements\" />\n",
    "\n",
    "In Bluesky, a *Flyer* is an `ophyd.Device` that meets the *Fly-able interface*, which has three methods:\n",
    "\n",
    "1. Kickoff - begin accumulating data\n",
    "1. Complete - Bluesky tells the Flyer that Bluesky is ready to receive data\n",
    "1. Collect - the device provides the data to Bluesky\n",
    "\n",
    "The first two methods must return an instance of `ophyd.status.Status` (a.k.a. a *status* object).  For our code, we choose a specialized version of `Status()`, the `DeviceStatus()` object, based on the explanation provided in discussion.\n",
    "\n",
    "The `collect()` method requires a companion `describe_collect()` that informs the RunEngine what kind of data to expect from `collect()`.  If no timestamp information is provided from the *controller*, then do as we show here and use the workstation's clock to provide a timestamp for the event.\n",
    "\n",
    "This example (which does absolutely nothing) meets the bare minimum requirement.\n",
    "\n",
    "Links\n",
    "\n",
    "* *Flyer* - https://blueskyproject.io/bluesky/async.html?highlight=flyer#flying\n",
    "* `ophyd.Device` - https://blueskyproject.io/ophyd/device-overview.html\n",
    "* *Fly-able interface* - https://blueskyproject.io/ophyd/architecture.html#fly-able-interface\n",
    "* returns - https://blueskyproject.io/bluesky/hardware.html#kickoff\n",
    "* `ophyd.status.Status` - https://blueskyproject.io/ophyd/generated/ophyd.status.Status.html\n",
    "* `DeviceStatus()` - https://blueskyproject.io/ophyd/generated/ophyd.status.DeviceStatus.html\n",
    "* discussion - https://github.com/NSLS-II/tutorial-docker/pull/7#discussion_r185054364"
   ]
  },
  {
   "cell_type": "code",
   "execution_count": 2,
   "metadata": {
    "execution": {
     "iopub.execute_input": "2021-03-27T22:28:33.143506Z",
     "iopub.status.busy": "2021-03-27T22:28:33.142962Z",
     "iopub.status.idle": "2021-03-27T22:28:33.156468Z",
     "shell.execute_reply": "2021-03-27T22:28:33.156897Z"
    }
   },
   "outputs": [
    {
     "name": "stdout",
     "output_type": "stream",
     "text": [
      "DeviceStatus(device=flyer, done=False, success=False)\n",
      "[{'data': {}, 'timestamps': {}, 'time': 1616884113.1439667}]\n"
     ]
    },
    {
     "name": "stderr",
     "output_type": "stream",
     "text": [
      "/home/travis/virtualenv/python3.7.1/lib/python3.7/site-packages/event_model/__init__.py:209: UserWarning: The document type 'bulk_events' has been deprecated in favor of 'event_page', whose structure is a transpose of 'bulk_events'.\n",
      "  \"The document type 'bulk_events' has been deprecated in favor of \"\n"
     ]
    },
    {
     "data": {
      "text/plain": [
       "('5c22c3a7-9422-49f6-90e9-11dd87e1e8a7',)"
      ]
     },
     "execution_count": 1,
     "metadata": {},
     "output_type": "execute_result"
    }
   ],
   "source": [
    "class BareMinimumFlyer(ophyd.Device):\n",
    "\n",
    "    def kickoff(self):\n",
    "        kickoff_status = ophyd.DeviceStatus(self)\n",
    "        kickoff_status._finished(success=True)\n",
    "        return kickoff_status\n",
    "\n",
    "    def complete(self):\n",
    "        complete_status = ophyd.DeviceStatus(self)\n",
    "        complete_status._finished(success=True)\n",
    "        return complete_status\n",
    "\n",
    "    def collect(self):\n",
    "        yield {'data':{}, 'timestamps':{}, 'time':time.time()}\n",
    "    \n",
    "    def describe_collect(self):\n",
    "        return {self.name: {}}\n",
    "\n",
    "\n",
    "flyer = BareMinimumFlyer(name=\"flyer\")\n",
    "print(flyer.complete())\n",
    "print(list(flyer.collect()))\n",
    "\n",
    "# if this next step succeeds, it's proof that we did this right!\n",
    "RE(bluesky.plans.fly([flyer]))"
   ]
  },
  {
   "cell_type": "markdown",
   "metadata": {},
   "source": [
    "Only three `documents` were emitted from the `RunEngine`: `start`, `descriptor`, and `stop` since we generated no data content."
   ]
  },
  {
   "cell_type": "code",
   "execution_count": 3,
   "metadata": {
    "execution": {
     "iopub.execute_input": "2021-03-27T22:28:33.177917Z",
     "iopub.status.busy": "2021-03-27T22:28:33.176675Z",
     "iopub.status.idle": "2021-03-27T22:28:33.180466Z",
     "shell.execute_reply": "2021-03-27T22:28:33.180878Z"
    }
   },
   "outputs": [
    {
     "data": {
      "text/plain": [
       "[('start',\n",
       "  {'uid': '5c22c3a7-9422-49f6-90e9-11dd87e1e8a7',\n",
       "   'time': 1616884113.145271,\n",
       "   'versions': {'ophyd': '1.6.1', 'bluesky': '1.6.7'},\n",
       "   'scan_id': 1,\n",
       "   'plan_type': 'generator',\n",
       "   'plan_name': 'fly'}),\n",
       " ('descriptor',\n",
       "  {'run_start': '5c22c3a7-9422-49f6-90e9-11dd87e1e8a7',\n",
       "   'time': 1616884113.1477926,\n",
       "   'data_keys': {},\n",
       "   'uid': '2db9ecae-6f99-4244-9d31-f025450a4426',\n",
       "   'name': 'flyer',\n",
       "   'configuration': {'flyer': {'data': {}, 'timestamps': {}, 'data_keys': {}}},\n",
       "   'hints': {'flyer': {'fields': []}},\n",
       "   'object_keys': {'flyer': []}}),\n",
       " ('stop',\n",
       "  {'run_start': '5c22c3a7-9422-49f6-90e9-11dd87e1e8a7',\n",
       "   'time': 1616884113.149469,\n",
       "   'uid': '07d20fbb-5467-4001-a914-5a4d4f66651f',\n",
       "   'exit_status': 'success',\n",
       "   'reason': '',\n",
       "   'num_events': {'flyer': 1}})]"
      ]
     },
     "execution_count": 1,
     "metadata": {},
     "output_type": "execute_result"
    }
   ],
   "source": [
    "list(db[-1].documents())"
   ]
  },
  {
   "cell_type": "markdown",
   "metadata": {},
   "source": [
    "### Flyer : a starting template <a class=\"anchor\" id=\"flyer-template\" />\n",
    "\n",
    "The `BareMinimumFlyer` is a good start to use a Flyer but we'll need to add a few more things to make a good template.  The first thing to do is to make the status objects known to any method of the class.  We'll prepend both of them with `self.` and describe in the code comments what is happening.  In the constructor (`__init__()`), we set both to `None`, the value we expect when not kicked off or *flying*, respectively.  Since we **need** a constructor, we must remember to call the constructor of the superclass as well or our `ophyd.Device` will not work correctly.\n",
    "\n",
    "    def __init__(self, *args, **kwargs):\n",
    "        super().__init__('', parent=None, **kwargs)\n",
    "        self.kickoff_status = None\n",
    "        self.complete_status = None\n",
    "\n",
    "Our *controller* could take some time to signal that it is finished (seconds to minutes, at least).  We need a way to detect this completion.  We can do that either by polling the PV or by subscribing to a callback on the completion event.  We'll make that choice when we implement the actual activity.  Here, intend to wait in a polling loop.  Since the polling loop is an activity that does not return until the *controller* is done, we must do that waiting in a thread (consider an [alternative suggestion to use `epics.ca.CAThread` separate from that of the RunEngine.  (We do not want to block the RunEngine thread so it is free to respond to other activities, such as data from other streams or the user inerface.)  So, we run `my_activity()` in a separate thread that is called from `kickoff()`:\n",
    "\n",
    "        thread = threading.Thread(target=self.my_activity, daemon=True)\n",
    "        thread.start()\n",
    "\n",
    "Link\n",
    "\n",
    "* `epics.ca.CAThread` - https://github.com/NSLS-II/tutorial-docker/pull/7#discussion_r184905960\n",
    "\n",
    "The basic outline of `my_activity()` is:\n",
    "\n",
    "    def my_activity(self):\n",
    "        # tell the *controller* to do its work\n",
    "        # once started, we notify by updating the status object\n",
    "        self.kickoff_status._finished(success=True)\n",
    "\n",
    "        # wait for for it to tell us it is done \n",
    "        # after the wait, we declare victory\n",
    "        self.complete_status._finished(success=True)\n",
    "\n",
    "The waiting step will *block the thread* in which `my_activity()` is running but that's OK since this is separate from the RunEngine's thread.\n",
    "\n",
    "Within `my_activity()`,  we've left two comments starting with `# TODO: ` marking where we need to add code that will complete the specifics of our final project.  Since this tutorial develops a starting template for that project (and others), we leave these comments as-is.\n",
    "\n",
    "We've also added some diagnostic reporting (calls to `logger.info(...)`) to build out the next example:"
   ]
  },
  {
   "cell_type": "code",
   "execution_count": 4,
   "metadata": {
    "execution": {
     "iopub.execute_input": "2021-03-27T22:28:33.191831Z",
     "iopub.status.busy": "2021-03-27T22:28:33.190160Z",
     "iopub.status.idle": "2021-03-27T22:28:33.192386Z",
     "shell.execute_reply": "2021-03-27T22:28:33.192969Z"
    }
   },
   "outputs": [],
   "source": [
    "class MyFlyer(ophyd.Device):\n",
    "    \"\"\"\n",
    "    starting template for a Flyer that we understand\n",
    "    \"\"\"\n",
    "\n",
    "    def __init__(self, *args, **kwargs):\n",
    "        super().__init__('', parent=None, **kwargs)\n",
    "        self.complete_status = None\n",
    "\n",
    "    def my_activity(self):\n",
    "        \"\"\"\n",
    "        start the \"fly scan\" here, could wait for completion\n",
    "        \n",
    "        It's OK to use blocking calls here \n",
    "        since this is called in a separate thread\n",
    "        from the Bluesky RunEngine.\n",
    "        \"\"\"\n",
    "        logger.info(\"activity()\")\n",
    "        if self.complete_status is None:\n",
    "            logger.info(\"leaving activity() - not complete\")\n",
    "            return\n",
    "        \n",
    "        # TODO: do the activity here\n",
    "\n",
    "        # once started, we notify by updating the status object\n",
    "        self.kickoff_status._finished(success=True)\n",
    "\n",
    "        # TODO: wait for completion\n",
    "        \n",
    "        # after the wait, we declare victory\n",
    "        self.complete_status._finished(success=True)\n",
    "        logger.info(\"activity() complete. status = \" + str(self.complete_status))\n",
    "\n",
    "    def kickoff(self):\n",
    "        \"\"\"\n",
    "        Start this Flyer\n",
    "        \"\"\"\n",
    "        logger.info(\"kickoff()\")\n",
    "        self.kickoff_status = ophyd.DeviceStatus(self)\n",
    "        self.complete_status = ophyd.DeviceStatus(self)\n",
    "        \n",
    "        thread = threading.Thread(target=self.my_activity, daemon=True)\n",
    "        thread.start()\n",
    "\n",
    "        return self.kickoff_status\n",
    "\n",
    "    def complete(self):\n",
    "        \"\"\"\n",
    "        Wait for flying to be complete\n",
    "        \"\"\"\n",
    "        logger.info(\"complete()\")\n",
    "        if self.complete_status is None:\n",
    "            raise RuntimeError(\"No collection in progress\")\n",
    "\n",
    "        return self.complete_status\n",
    "\n",
    "    def collect(self):\n",
    "        \"\"\"\n",
    "        Retrieve the data\n",
    "        \"\"\"\n",
    "        logger.info(\"collect()\")\n",
    "        self.complete_status = None\n",
    "        yield {'data':{}, 'timestamps':{}, 'time':time.time()}\n",
    "    \n",
    "    def describe_collect(self):\n",
    "        \"\"\"\n",
    "        Describe details for ``collect()`` method\n",
    "        \"\"\"\n",
    "        logger.info(\"describe_collect()\")\n",
    "        return {self.name: {}}\n"
   ]
  },
  {
   "cell_type": "code",
   "execution_count": 5,
   "metadata": {
    "execution": {
     "iopub.execute_input": "2021-03-27T22:28:33.198830Z",
     "iopub.status.busy": "2021-03-27T22:28:33.196985Z",
     "iopub.status.idle": "2021-03-27T22:28:33.199634Z",
     "shell.execute_reply": "2021-03-27T22:28:33.200155Z"
    }
   },
   "outputs": [],
   "source": [
    "ifly = MyFlyer(name=\"ifly\")"
   ]
  },
  {
   "cell_type": "markdown",
   "metadata": {},
   "source": [
    "### Diagnostics  <a class=\"anchor\" id=\"Diagnostics\" />\n",
    "\n",
    "When building a `Flyer`, it is useful to have some diagnostics in place.  Already, we have been using some of these, including printing interim messages via calls to `logger.info(...)`.  Another useful diagnostic step is to call each of the methods individually to make sure they are acting as expected.\n",
    "\n",
    "1. create an instance of the `Flyer`\n",
    "\n",
    "    flyer = MyFlyer(name=\"flyer\")\n",
    "\n",
    "1. verify that `kickoff()` returns a status that is \"Done\"\n",
    "\n",
    "    status = flyer.kickoff()\n",
    "    status.done\n",
    "\n",
    "1. verify that `complete()` returns a status that is \"Done\"\n",
    "\n",
    "    status = flyer.complete()\n",
    "    status.done\n",
    "\n",
    "1. verify that `describe_collect()` returns a dictionary\n",
    "\n",
    "    d = flyer.describe_collect()\n",
    "    d\n",
    "\n",
    "1. verify that `collect()` returns a generator\n",
    "\n",
    "    g = flyer.collect()\n",
    "    g\n",
    "\n",
    "1. verify that generator is a list of data dictionaries\n",
    "\n",
    "    list(g)\n",
    "\n",
    "\n",
    "Apply some of those steps here (we'll skip testing the `ifly.complete()` method when not flying since it raises a `RuntimeError` exception if data collection is not in progress):"
   ]
  },
  {
   "cell_type": "code",
   "execution_count": 6,
   "metadata": {
    "execution": {
     "iopub.execute_input": "2021-03-27T22:28:33.205994Z",
     "iopub.status.busy": "2021-03-27T22:28:33.205016Z",
     "iopub.status.idle": "2021-03-27T22:28:33.208141Z",
     "shell.execute_reply": "2021-03-27T22:28:33.208545Z"
    }
   },
   "outputs": [
    {
     "data": {
      "text/plain": [
       "{'ifly': {}}"
      ]
     },
     "execution_count": 1,
     "metadata": {},
     "output_type": "execute_result"
    }
   ],
   "source": [
    "ifly.describe_collect()"
   ]
  },
  {
   "cell_type": "code",
   "execution_count": 7,
   "metadata": {
    "execution": {
     "iopub.execute_input": "2021-03-27T22:28:33.214595Z",
     "iopub.status.busy": "2021-03-27T22:28:33.213206Z",
     "iopub.status.idle": "2021-03-27T22:28:33.216427Z",
     "shell.execute_reply": "2021-03-27T22:28:33.216842Z"
    }
   },
   "outputs": [
    {
     "data": {
      "text/plain": [
       "[{'data': {}, 'timestamps': {}, 'time': 1616884113.2107577}]"
      ]
     },
     "execution_count": 1,
     "metadata": {},
     "output_type": "execute_result"
    }
   ],
   "source": [
    "list(ifly.collect())"
   ]
  },
  {
   "cell_type": "markdown",
   "metadata": {},
   "source": [
    "Now, run this fly scan:"
   ]
  },
  {
   "cell_type": "code",
   "execution_count": 8,
   "metadata": {
    "execution": {
     "iopub.execute_input": "2021-03-27T22:28:33.225478Z",
     "iopub.status.busy": "2021-03-27T22:28:33.224594Z",
     "iopub.status.idle": "2021-03-27T22:28:33.229036Z",
     "shell.execute_reply": "2021-03-27T22:28:33.228567Z"
    }
   },
   "outputs": [
    {
     "data": {
      "text/plain": [
       "('9eda314b-ee5e-413d-bfdb-09725fff8fc5',)"
      ]
     },
     "execution_count": 1,
     "metadata": {},
     "output_type": "execute_result"
    }
   ],
   "source": [
    "RE(bluesky.plans.fly([ifly]))"
   ]
  },
  {
   "cell_type": "code",
   "execution_count": 9,
   "metadata": {
    "execution": {
     "iopub.execute_input": "2021-03-27T22:28:33.237985Z",
     "iopub.status.busy": "2021-03-27T22:28:33.232431Z",
     "iopub.status.idle": "2021-03-27T22:28:33.242322Z",
     "shell.execute_reply": "2021-03-27T22:28:33.242751Z"
    }
   },
   "outputs": [
    {
     "data": {
      "text/plain": [
       "['ifly']"
      ]
     },
     "execution_count": 1,
     "metadata": {},
     "output_type": "execute_result"
    }
   ],
   "source": [
    "db[-1].stream_names"
   ]
  },
  {
   "cell_type": "code",
   "execution_count": 10,
   "metadata": {
    "execution": {
     "iopub.execute_input": "2021-03-27T22:28:33.247065Z",
     "iopub.status.busy": "2021-03-27T22:28:33.246279Z",
     "iopub.status.idle": "2021-03-27T22:28:33.264383Z",
     "shell.execute_reply": "2021-03-27T22:28:33.264824Z"
    }
   },
   "outputs": [
    {
     "data": {
      "text/html": [
       "<div>\n",
       "<style scoped>\n",
       "    .dataframe tbody tr th:only-of-type {\n",
       "        vertical-align: middle;\n",
       "    }\n",
       "\n",
       "    .dataframe tbody tr th {\n",
       "        vertical-align: top;\n",
       "    }\n",
       "\n",
       "    .dataframe thead th {\n",
       "        text-align: right;\n",
       "    }\n",
       "</style>\n",
       "<table border=\"1\" class=\"dataframe\">\n",
       "  <thead>\n",
       "    <tr style=\"text-align: right;\">\n",
       "      <th></th>\n",
       "    </tr>\n",
       "    <tr>\n",
       "      <th>seq_num</th>\n",
       "    </tr>\n",
       "  </thead>\n",
       "  <tbody>\n",
       "  </tbody>\n",
       "</table>\n",
       "</div>"
      ],
      "text/plain": [
       "Empty DataFrame\n",
       "Columns: []\n",
       "Index: []"
      ]
     },
     "execution_count": 1,
     "metadata": {},
     "output_type": "execute_result"
    }
   ],
   "source": [
    "db[-1].table(\"ifly\")"
   ]
  },
  {
   "cell_type": "markdown",
   "metadata": {},
   "source": [
    "Still only three `documents` were emitted from the `RunEngine`: `start`, `descriptor`, and `stop`."
   ]
  },
  {
   "cell_type": "code",
   "execution_count": 11,
   "metadata": {
    "execution": {
     "iopub.execute_input": "2021-03-27T22:28:33.272158Z",
     "iopub.status.busy": "2021-03-27T22:28:33.271489Z",
     "iopub.status.idle": "2021-03-27T22:28:33.274587Z",
     "shell.execute_reply": "2021-03-27T22:28:33.275216Z"
    }
   },
   "outputs": [
    {
     "data": {
      "text/plain": [
       "[('start',\n",
       "  {'uid': '9eda314b-ee5e-413d-bfdb-09725fff8fc5',\n",
       "   'time': 1616884113.219631,\n",
       "   'versions': {'ophyd': '1.6.1', 'bluesky': '1.6.7'},\n",
       "   'scan_id': 2,\n",
       "   'plan_type': 'generator',\n",
       "   'plan_name': 'fly'}),\n",
       " ('descriptor',\n",
       "  {'run_start': '9eda314b-ee5e-413d-bfdb-09725fff8fc5',\n",
       "   'time': 1616884113.2221541,\n",
       "   'data_keys': {},\n",
       "   'uid': '85fb4243-9ac6-46ca-92f7-e37aedb2aba6',\n",
       "   'name': 'ifly',\n",
       "   'configuration': {'ifly': {'data': {}, 'timestamps': {}, 'data_keys': {}}},\n",
       "   'hints': {'ifly': {'fields': []}},\n",
       "   'object_keys': {'ifly': []}}),\n",
       " ('stop',\n",
       "  {'run_start': '9eda314b-ee5e-413d-bfdb-09725fff8fc5',\n",
       "   'time': 1616884113.2229688,\n",
       "   'uid': '6ac85f20-abae-4ca2-9a00-83ec0dd8f360',\n",
       "   'exit_status': 'success',\n",
       "   'reason': '',\n",
       "   'num_events': {'ifly': 1}})]"
      ]
     },
     "execution_count": 1,
     "metadata": {},
     "output_type": "execute_result"
    }
   ],
   "source": [
    "list(db[-1].documents())"
   ]
  },
  {
   "cell_type": "markdown",
   "metadata": {},
   "source": [
    "## First working Flyer - trivial data <a class=\"anchor\" id=\"trivial-data-flyer\" />\n",
    "\n",
    "To collect data, we need to modify both the `collect()` *and* the `describe_collect()` methods.  Bluesky needs to know what kind of data to expect from this Flyer, so that it can generate the correct `descriptor` document.\n",
    "\n",
    "For the *most* trivial case, we'll return a single number (`1.2345`) as the result of the first working Flyer.\n",
    "\n",
    "In the `describe_collect()` method, we create a dictionary that describes the data to be collected:\n",
    "\n",
    "        d = dict(\n",
    "            source = \"fictional\",\n",
    "            dtype = \"number\",\n",
    "            shape = []\n",
    "        )\n",
    "        return {\n",
    "            'ifly': {\n",
    "                \"x\": d\n",
    "            }\n",
    "        }\n",
    "\n",
    "Then, in the `collect()` method, add the actual data collection code:\n",
    "\n",
    "        t = time.time()\n",
    "        d = dict(\n",
    "            time=t,\n",
    "            data=dict(x=1.2345),\n",
    "            timestamps=dict(x=t)\n",
    "        )\n",
    "        yield d\n"
   ]
  },
  {
   "cell_type": "code",
   "execution_count": 12,
   "metadata": {
    "execution": {
     "iopub.execute_input": "2021-03-27T22:28:33.286881Z",
     "iopub.status.busy": "2021-03-27T22:28:33.285155Z",
     "iopub.status.idle": "2021-03-27T22:28:33.287478Z",
     "shell.execute_reply": "2021-03-27T22:28:33.287892Z"
    }
   },
   "outputs": [],
   "source": [
    "class MyFlyer(ophyd.Device):\n",
    "    \"\"\"\n",
    "    build a Flyer that we understand\n",
    "    \"\"\"\n",
    "\n",
    "    def __init__(self, *args, **kwargs):\n",
    "        super().__init__('', parent=None, **kwargs)\n",
    "        self.complete_status = None\n",
    "\n",
    "    def my_activity(self):\n",
    "        \"\"\"\n",
    "        start the \"fly scan\" here, could wait for completion\n",
    "        \n",
    "        It's OK to use blocking calls here \n",
    "        since this is called in a separate thread\n",
    "        from the Bluesky RunEngine.\n",
    "        \"\"\"\n",
    "        logger.info(\"activity()\")\n",
    "        if self.complete_status is None:\n",
    "            logger.info(\"leaving activity() - not complete\")\n",
    "            return\n",
    "        \n",
    "        # TODO: do the activity here\n",
    "\n",
    "        # once started, we notify by updating the status object\n",
    "        self.kickoff_status._finished(success=True)\n",
    "\n",
    "        # TODO: wait for completion\n",
    "        \n",
    "        # after the wait, we declare victory\n",
    "        self.complete_status._finished(success=True)\n",
    "        logger.info(\"activity() complete. status = \" + str(self.complete_status))\n",
    "\n",
    "    def kickoff(self):\n",
    "        \"\"\"\n",
    "        Start this Flyer\n",
    "        \"\"\"\n",
    "        logger.info(\"kickoff()\")\n",
    "        self.kickoff_status = ophyd.DeviceStatus(self)\n",
    "        self.complete_status = ophyd.DeviceStatus(self)\n",
    "        \n",
    "        thread = threading.Thread(target=self.my_activity, daemon=True)\n",
    "        thread.start()\n",
    "\n",
    "        return self.kickoff_status\n",
    "\n",
    "    def complete(self):\n",
    "        \"\"\"\n",
    "        Wait for flying to be complete\n",
    "        \"\"\"\n",
    "        logger.info(\"complete()\")\n",
    "        if self.complete_status is None:\n",
    "            raise RuntimeError(\"No collection in progress\")\n",
    "\n",
    "        return self.complete_status\n",
    "\n",
    "    def describe_collect(self):\n",
    "        \"\"\"\n",
    "        Describe details for ``collect()`` method\n",
    "        \"\"\"\n",
    "        logger.info(\"describe_collect()\")\n",
    "        d = dict(\n",
    "            source = \"fictional\",\n",
    "            dtype = \"number\",\n",
    "            shape = []\n",
    "        )\n",
    "        return {\n",
    "            'ifly': {\n",
    "                \"x\": d\n",
    "            }\n",
    "        }\n",
    "\n",
    "    def collect(self):\n",
    "        \"\"\"\n",
    "        Start this Flyer\n",
    "        \"\"\"\n",
    "        logger.info(\"collect()\")\n",
    "        self.complete_status = None\n",
    "        t = time.time()\n",
    "        d = dict(\n",
    "            time=t,\n",
    "            data=dict(x=1.2345),\n",
    "            timestamps=dict(x=t)\n",
    "        )\n",
    "        yield d"
   ]
  },
  {
   "cell_type": "markdown",
   "metadata": {},
   "source": [
    "As before, create a new instance of the *revised* `MyFlyer` class."
   ]
  },
  {
   "cell_type": "code",
   "execution_count": 13,
   "metadata": {
    "execution": {
     "iopub.execute_input": "2021-03-27T22:28:33.293204Z",
     "iopub.status.busy": "2021-03-27T22:28:33.291764Z",
     "iopub.status.idle": "2021-03-27T22:28:33.294257Z",
     "shell.execute_reply": "2021-03-27T22:28:33.294707Z"
    }
   },
   "outputs": [],
   "source": [
    "ifly = MyFlyer(name=\"ifly\")"
   ]
  },
  {
   "cell_type": "code",
   "execution_count": 14,
   "metadata": {
    "execution": {
     "iopub.execute_input": "2021-03-27T22:28:33.301140Z",
     "iopub.status.busy": "2021-03-27T22:28:33.299563Z",
     "iopub.status.idle": "2021-03-27T22:28:33.303040Z",
     "shell.execute_reply": "2021-03-27T22:28:33.302591Z"
    }
   },
   "outputs": [
    {
     "name": "stdout",
     "output_type": "stream",
     "text": [
      "output from describe_collect() :  {'ifly': {'x': {'source': 'fictional', 'dtype': 'number', 'shape': []}}}\n",
      "list output from collect() :  [{'time': 1616884113.2973123, 'data': {'x': 1.2345}, 'timestamps': {'x': 1616884113.2973123}}]\n"
     ]
    }
   ],
   "source": [
    "print('output from describe_collect() : ', ifly.describe_collect())\n",
    "print(\"list output from collect() : \", list(ifly.collect()))"
   ]
  },
  {
   "cell_type": "markdown",
   "metadata": {},
   "source": [
    "Running this flyer with the RunEngine seems anticlimactic but the lack of exceptions tells us that it ran and we get a UUID at the end."
   ]
  },
  {
   "cell_type": "code",
   "execution_count": 15,
   "metadata": {
    "execution": {
     "iopub.execute_input": "2021-03-27T22:28:33.308379Z",
     "iopub.status.busy": "2021-03-27T22:28:33.307890Z",
     "iopub.status.idle": "2021-03-27T22:28:33.319452Z",
     "shell.execute_reply": "2021-03-27T22:28:33.318998Z"
    }
   },
   "outputs": [
    {
     "name": "stderr",
     "output_type": "stream",
     "text": [
      "/home/travis/virtualenv/python3.7.1/lib/python3.7/site-packages/event_model/__init__.py:209: UserWarning: The document type 'bulk_events' has been deprecated in favor of 'event_page', whose structure is a transpose of 'bulk_events'.\n",
      "  \"The document type 'bulk_events' has been deprecated in favor of \"\n"
     ]
    },
    {
     "data": {
      "text/plain": [
       "('dc28ad18-78e6-49bc-b350-38f1bf9ad9af',)"
      ]
     },
     "execution_count": 1,
     "metadata": {},
     "output_type": "execute_result"
    }
   ],
   "source": [
    "RE(bluesky.plans.fly([ifly]))"
   ]
  },
  {
   "cell_type": "markdown",
   "metadata": {},
   "source": [
    "We next query the last scan in the databroker and show a table of the stream from `collect()`:"
   ]
  },
  {
   "cell_type": "code",
   "execution_count": 16,
   "metadata": {
    "execution": {
     "iopub.execute_input": "2021-03-27T22:28:33.324080Z",
     "iopub.status.busy": "2021-03-27T22:28:33.323222Z",
     "iopub.status.idle": "2021-03-27T22:28:33.348916Z",
     "shell.execute_reply": "2021-03-27T22:28:33.349338Z"
    }
   },
   "outputs": [
    {
     "data": {
      "text/html": [
       "<div>\n",
       "<style scoped>\n",
       "    .dataframe tbody tr th:only-of-type {\n",
       "        vertical-align: middle;\n",
       "    }\n",
       "\n",
       "    .dataframe tbody tr th {\n",
       "        vertical-align: top;\n",
       "    }\n",
       "\n",
       "    .dataframe thead th {\n",
       "        text-align: right;\n",
       "    }\n",
       "</style>\n",
       "<table border=\"1\" class=\"dataframe\">\n",
       "  <thead>\n",
       "    <tr style=\"text-align: right;\">\n",
       "      <th></th>\n",
       "      <th>time</th>\n",
       "      <th>x</th>\n",
       "    </tr>\n",
       "    <tr>\n",
       "      <th>seq_num</th>\n",
       "      <th></th>\n",
       "      <th></th>\n",
       "    </tr>\n",
       "  </thead>\n",
       "  <tbody>\n",
       "    <tr>\n",
       "      <th>1</th>\n",
       "      <td>2021-03-27 22:28:33.310423374</td>\n",
       "      <td>1.2345</td>\n",
       "    </tr>\n",
       "  </tbody>\n",
       "</table>\n",
       "</div>"
      ],
      "text/plain": [
       "                                 time       x\n",
       "seq_num                                      \n",
       "1       2021-03-27 22:28:33.310423374  1.2345"
      ]
     },
     "execution_count": 1,
     "metadata": {},
     "output_type": "execute_result"
    }
   ],
   "source": [
    "h = db[-1]\n",
    "h.table(h.stream_names[0])"
   ]
  },
  {
   "cell_type": "markdown",
   "metadata": {},
   "source": [
    "Now, there is one more document type emitted: `event`.  Only one `event` since there is only one data point."
   ]
  },
  {
   "cell_type": "code",
   "execution_count": 17,
   "metadata": {
    "execution": {
     "iopub.execute_input": "2021-03-27T22:28:33.353997Z",
     "iopub.status.busy": "2021-03-27T22:28:33.353098Z",
     "iopub.status.idle": "2021-03-27T22:28:33.359572Z",
     "shell.execute_reply": "2021-03-27T22:28:33.359959Z"
    }
   },
   "outputs": [
    {
     "data": {
      "text/plain": [
       "[('start',\n",
       "  {'uid': 'dc28ad18-78e6-49bc-b350-38f1bf9ad9af',\n",
       "   'time': 1616884113.3062382,\n",
       "   'versions': {'ophyd': '1.6.1', 'bluesky': '1.6.7'},\n",
       "   'scan_id': 3,\n",
       "   'plan_type': 'generator',\n",
       "   'plan_name': 'fly'}),\n",
       " ('descriptor',\n",
       "  {'run_start': 'dc28ad18-78e6-49bc-b350-38f1bf9ad9af',\n",
       "   'time': 1616884113.3097594,\n",
       "   'data_keys': {'x': {'source': 'fictional', 'dtype': 'number', 'shape': []}},\n",
       "   'uid': '23afecec-1bc0-43c4-91ee-dd4705d7f370',\n",
       "   'name': 'ifly',\n",
       "   'configuration': {'ifly': {'data': {}, 'timestamps': {}, 'data_keys': {}}},\n",
       "   'hints': {'ifly': {'fields': []}},\n",
       "   'object_keys': {'ifly': ['x']}}),\n",
       " ('event',\n",
       "  {'descriptor': '23afecec-1bc0-43c4-91ee-dd4705d7f370',\n",
       "   'uid': '8c491e2b-1a12-4e6b-9cf6-c9c6bd0ff2c4',\n",
       "   'time': 1616884113.3104234,\n",
       "   'seq_num': 1,\n",
       "   'data': {'x': 1.2345},\n",
       "   'timestamps': {'x': 1616884113.3104234},\n",
       "   'filled': {}}),\n",
       " ('stop',\n",
       "  {'run_start': 'dc28ad18-78e6-49bc-b350-38f1bf9ad9af',\n",
       "   'time': 1616884113.3107996,\n",
       "   'uid': 'fbc405d0-8068-4689-acb3-a3b4d098905c',\n",
       "   'exit_status': 'success',\n",
       "   'reason': '',\n",
       "   'num_events': {'ifly': 1}})]"
      ]
     },
     "execution_count": 1,
     "metadata": {},
     "output_type": "execute_result"
    }
   ],
   "source": [
    "list(db[-1].documents())"
   ]
  },
  {
   "cell_type": "markdown",
   "metadata": {},
   "source": [
    "## Flyer that \"collects\" 1-D array data  <a class=\"anchor\" id=\"simple-1d-array-flyer\" />\n",
    "\n",
    "We continue to expand the capabilities of our working example of a Flyer.  Now, we wish to \"collect\" a 1-D array of data.  We'll manufacture that data ourselves to keep the code simple.\n",
    "\n",
    "Here, we generate an array of 5 numbers, each representing the elapsed time (in seconds) since the scan started (in `kickoff()`).  We record the start time with `self.t0 = time.time()`.  Also, `time.time()` is used to generate the timestamps in the data events.  In a real case, we *might* get timestamps from the *controller* or we'd have to make it up ourselves, just like this example."
   ]
  },
  {
   "cell_type": "code",
   "execution_count": 18,
   "metadata": {
    "execution": {
     "iopub.execute_input": "2021-03-27T22:28:33.372562Z",
     "iopub.status.busy": "2021-03-27T22:28:33.370720Z",
     "iopub.status.idle": "2021-03-27T22:28:33.373195Z",
     "shell.execute_reply": "2021-03-27T22:28:33.373652Z"
    }
   },
   "outputs": [],
   "source": [
    "class MyFlyer(ophyd.Device):\n",
    "    \"\"\"\n",
    "    a Flyer that we understand that reports 1-D array of data\n",
    "    \"\"\"\n",
    "\n",
    "    def __init__(self, *args, **kwargs):\n",
    "        super().__init__('', parent=None, **kwargs)\n",
    "        self.complete_status = None\n",
    "        self.t0 = 0\n",
    "\n",
    "    def my_activity(self):\n",
    "        \"\"\"\n",
    "        start the \"fly scan\" here, could wait for completion\n",
    "        \n",
    "        It's OK to use blocking calls here \n",
    "        since this is called in a separate thread\n",
    "        from the Bluesky RunEngine.\n",
    "        \"\"\"\n",
    "        logger.info(\"activity()\")\n",
    "        if self.complete_status is None:\n",
    "            logger.info(\"leaving activity() - not complete\")\n",
    "            return\n",
    "        \n",
    "        # TODO: do the activity here\n",
    "\n",
    "        # once started, we notify by updating the status object\n",
    "        self.kickoff_status._finished(success=True)\n",
    "\n",
    "        # TODO: wait for completion\n",
    "        \n",
    "        # after the wait, we declare victory\n",
    "        self.complete_status._finished(success=True)\n",
    "        logger.info(\"activity() complete. status = \" + str(self.complete_status))\n",
    "\n",
    "    def kickoff(self):\n",
    "        \"\"\"\n",
    "        Start this Flyer\n",
    "        \"\"\"\n",
    "        logger.info(\"kickoff()\")\n",
    "        self.kickoff_status = ophyd.DeviceStatus(self)\n",
    "        self.complete_status = ophyd.DeviceStatus(self)\n",
    "        self.t0 = time.time()\n",
    "        \n",
    "        thread = threading.Thread(target=self.my_activity, daemon=True)\n",
    "        thread.start()\n",
    "\n",
    "        return self.kickoff_status\n",
    "\n",
    "    def complete(self):\n",
    "        \"\"\"\n",
    "        Wait for flying to be complete\n",
    "        \"\"\"\n",
    "        logger.info(\"complete()\")\n",
    "        if self.complete_status is None:\n",
    "            raise RuntimeError(\"No collection in progress\")\n",
    "\n",
    "        return self.complete_status\n",
    "\n",
    "    def describe_collect(self):\n",
    "        \"\"\"\n",
    "        Describe details for ``collect()`` method\n",
    "        \"\"\"\n",
    "        logger.info(\"describe_collect()\")\n",
    "        d = dict(\n",
    "            source = \"elapsed time, s\",\n",
    "            dtype = \"number\",\n",
    "            shape = (1,)\n",
    "        )\n",
    "        return {\n",
    "            self.name: {\n",
    "                \"x\": d\n",
    "            }\n",
    "        }\n",
    "\n",
    "    def collect(self):\n",
    "        \"\"\"\n",
    "        Start this Flyer\n",
    "        \"\"\"\n",
    "        logger.info(\"collect()\")\n",
    "        self.complete_status = None\n",
    "        for _ in range(5):\n",
    "            t = time.time()\n",
    "            x = t - self.t0 # data is elapsed time since kickoff()\n",
    "            d = dict(\n",
    "                time=t,\n",
    "                data=dict(x=x),\n",
    "                timestamps=dict(x=t)\n",
    "            )\n",
    "            yield d\n"
   ]
  },
  {
   "cell_type": "code",
   "execution_count": 19,
   "metadata": {
    "execution": {
     "iopub.execute_input": "2021-03-27T22:28:33.378881Z",
     "iopub.status.busy": "2021-03-27T22:28:33.378353Z",
     "iopub.status.idle": "2021-03-27T22:28:33.382227Z",
     "shell.execute_reply": "2021-03-27T22:28:33.381716Z"
    }
   },
   "outputs": [],
   "source": [
    "ifly = MyFlyer(name=\"ifly\")"
   ]
  },
  {
   "cell_type": "code",
   "execution_count": 20,
   "metadata": {
    "execution": {
     "iopub.execute_input": "2021-03-27T22:28:33.386763Z",
     "iopub.status.busy": "2021-03-27T22:28:33.386222Z",
     "iopub.status.idle": "2021-03-27T22:28:33.390667Z",
     "shell.execute_reply": "2021-03-27T22:28:33.390178Z"
    }
   },
   "outputs": [
    {
     "name": "stdout",
     "output_type": "stream",
     "text": [
      "{'ifly': {'x': {'source': 'elapsed time, s', 'dtype': 'number', 'shape': (1,)}}}\n"
     ]
    }
   ],
   "source": [
    "print(ifly.describe_collect())"
   ]
  },
  {
   "cell_type": "code",
   "execution_count": 21,
   "metadata": {
    "execution": {
     "iopub.execute_input": "2021-03-27T22:28:33.397211Z",
     "iopub.status.busy": "2021-03-27T22:28:33.396462Z",
     "iopub.status.idle": "2021-03-27T22:28:33.399615Z",
     "shell.execute_reply": "2021-03-27T22:28:33.400021Z"
    }
   },
   "outputs": [
    {
     "data": {
      "text/plain": [
       "[{'time': 1616884113.3929274,\n",
       "  'data': {'x': 1616884113.3929274},\n",
       "  'timestamps': {'x': 1616884113.3929274}},\n",
       " {'time': 1616884113.3929322,\n",
       "  'data': {'x': 1616884113.3929322},\n",
       "  'timestamps': {'x': 1616884113.3929322}},\n",
       " {'time': 1616884113.3929334,\n",
       "  'data': {'x': 1616884113.3929334},\n",
       "  'timestamps': {'x': 1616884113.3929334}},\n",
       " {'time': 1616884113.3929346,\n",
       "  'data': {'x': 1616884113.3929346},\n",
       "  'timestamps': {'x': 1616884113.3929346}},\n",
       " {'time': 1616884113.3929362,\n",
       "  'data': {'x': 1616884113.3929362},\n",
       "  'timestamps': {'x': 1616884113.3929362}}]"
      ]
     },
     "execution_count": 1,
     "metadata": {},
     "output_type": "execute_result"
    }
   ],
   "source": [
    "list(ifly.collect())"
   ]
  },
  {
   "cell_type": "markdown",
   "metadata": {},
   "source": [
    "Again, not much information from running this flyer, except that it succeeds and a uuid is returned."
   ]
  },
  {
   "cell_type": "code",
   "execution_count": 22,
   "metadata": {
    "execution": {
     "iopub.execute_input": "2021-03-27T22:28:33.406850Z",
     "iopub.status.busy": "2021-03-27T22:28:33.405448Z",
     "iopub.status.idle": "2021-03-27T22:28:33.414818Z",
     "shell.execute_reply": "2021-03-27T22:28:33.415237Z"
    }
   },
   "outputs": [
    {
     "name": "stderr",
     "output_type": "stream",
     "text": [
      "/home/travis/virtualenv/python3.7.1/lib/python3.7/site-packages/event_model/__init__.py:209: UserWarning: The document type 'bulk_events' has been deprecated in favor of 'event_page', whose structure is a transpose of 'bulk_events'.\n",
      "  \"The document type 'bulk_events' has been deprecated in favor of \"\n"
     ]
    },
    {
     "data": {
      "text/plain": [
       "('27b84144-dec6-453d-96a1-2088dbf75635',)"
      ]
     },
     "execution_count": 1,
     "metadata": {},
     "output_type": "execute_result"
    }
   ],
   "source": [
    "RE(bluesky.plans.fly([ifly]))"
   ]
  },
  {
   "cell_type": "markdown",
   "metadata": {},
   "source": [
    "More information is obtained by asking the databroker about the most recent scan.  Here's the data table from our stream of data events.  (The stream is named \"ifly\" as set from `self.name` in the `describe_collect()` method.)  We'll reference that last scan as `h` to reduce the amount of typing."
   ]
  },
  {
   "cell_type": "code",
   "execution_count": 23,
   "metadata": {
    "execution": {
     "iopub.execute_input": "2021-03-27T22:28:33.425154Z",
     "iopub.status.busy": "2021-03-27T22:28:33.419001Z",
     "iopub.status.idle": "2021-03-27T22:28:33.430386Z",
     "shell.execute_reply": "2021-03-27T22:28:33.430869Z"
    }
   },
   "outputs": [
    {
     "data": {
      "text/plain": [
       "'ifly'"
      ]
     },
     "execution_count": 1,
     "metadata": {},
     "output_type": "execute_result"
    }
   ],
   "source": [
    "h = db[-1]\n",
    "h.stream_names[0]"
   ]
  },
  {
   "cell_type": "code",
   "execution_count": 24,
   "metadata": {
    "execution": {
     "iopub.execute_input": "2021-03-27T22:28:33.450486Z",
     "iopub.status.busy": "2021-03-27T22:28:33.449096Z",
     "iopub.status.idle": "2021-03-27T22:28:33.452499Z",
     "shell.execute_reply": "2021-03-27T22:28:33.452917Z"
    }
   },
   "outputs": [
    {
     "data": {
      "text/html": [
       "<div>\n",
       "<style scoped>\n",
       "    .dataframe tbody tr th:only-of-type {\n",
       "        vertical-align: middle;\n",
       "    }\n",
       "\n",
       "    .dataframe tbody tr th {\n",
       "        vertical-align: top;\n",
       "    }\n",
       "\n",
       "    .dataframe thead th {\n",
       "        text-align: right;\n",
       "    }\n",
       "</style>\n",
       "<table border=\"1\" class=\"dataframe\">\n",
       "  <thead>\n",
       "    <tr style=\"text-align: right;\">\n",
       "      <th></th>\n",
       "      <th>time</th>\n",
       "      <th>x</th>\n",
       "    </tr>\n",
       "    <tr>\n",
       "      <th>seq_num</th>\n",
       "      <th></th>\n",
       "      <th></th>\n",
       "    </tr>\n",
       "  </thead>\n",
       "  <tbody>\n",
       "    <tr>\n",
       "      <th>1</th>\n",
       "      <td>2021-03-27 22:28:33.407558203</td>\n",
       "      <td>0.002943</td>\n",
       "    </tr>\n",
       "    <tr>\n",
       "      <th>2</th>\n",
       "      <td>2021-03-27 22:28:33.407584667</td>\n",
       "      <td>0.002970</td>\n",
       "    </tr>\n",
       "    <tr>\n",
       "      <th>3</th>\n",
       "      <td>2021-03-27 22:28:33.407595634</td>\n",
       "      <td>0.002981</td>\n",
       "    </tr>\n",
       "    <tr>\n",
       "      <th>4</th>\n",
       "      <td>2021-03-27 22:28:33.407604218</td>\n",
       "      <td>0.002989</td>\n",
       "    </tr>\n",
       "    <tr>\n",
       "      <th>5</th>\n",
       "      <td>2021-03-27 22:28:33.407612324</td>\n",
       "      <td>0.002997</td>\n",
       "    </tr>\n",
       "  </tbody>\n",
       "</table>\n",
       "</div>"
      ],
      "text/plain": [
       "                                 time         x\n",
       "seq_num                                        \n",
       "1       2021-03-27 22:28:33.407558203  0.002943\n",
       "2       2021-03-27 22:28:33.407584667  0.002970\n",
       "3       2021-03-27 22:28:33.407595634  0.002981\n",
       "4       2021-03-27 22:28:33.407604218  0.002989\n",
       "5       2021-03-27 22:28:33.407612324  0.002997"
      ]
     },
     "execution_count": 1,
     "metadata": {},
     "output_type": "execute_result"
    }
   ],
   "source": [
    "h.table(h.stream_names[0])"
   ]
  },
  {
   "cell_type": "markdown",
   "metadata": {},
   "source": [
    "We generated 5 data points, there are 5 `event` documents to match."
   ]
  },
  {
   "cell_type": "code",
   "execution_count": 25,
   "metadata": {
    "execution": {
     "iopub.execute_input": "2021-03-27T22:28:33.462056Z",
     "iopub.status.busy": "2021-03-27T22:28:33.456776Z",
     "iopub.status.idle": "2021-03-27T22:28:33.465014Z",
     "shell.execute_reply": "2021-03-27T22:28:33.465520Z"
    }
   },
   "outputs": [
    {
     "data": {
      "text/plain": [
       "[('start',\n",
       "  {'uid': '27b84144-dec6-453d-96a1-2088dbf75635',\n",
       "   'time': 1616884113.4031184,\n",
       "   'versions': {'ophyd': '1.6.1', 'bluesky': '1.6.7'},\n",
       "   'scan_id': 4,\n",
       "   'plan_type': 'generator',\n",
       "   'plan_name': 'fly'}),\n",
       " ('descriptor',\n",
       "  {'run_start': '27b84144-dec6-453d-96a1-2088dbf75635',\n",
       "   'time': 1616884113.4068944,\n",
       "   'data_keys': {'x': {'source': 'elapsed time, s',\n",
       "     'dtype': 'number',\n",
       "     'shape': [1]}},\n",
       "   'uid': '438071f4-e6f1-4c82-babe-06a4b78add37',\n",
       "   'name': 'ifly',\n",
       "   'configuration': {'ifly': {'data': {}, 'timestamps': {}, 'data_keys': {}}},\n",
       "   'hints': {'ifly': {'fields': []}},\n",
       "   'object_keys': {'ifly': ['x']}}),\n",
       " ('event',\n",
       "  {'descriptor': '438071f4-e6f1-4c82-babe-06a4b78add37',\n",
       "   'uid': '31f31220-41f0-46bf-b695-c3d9e08ad19e',\n",
       "   'time': 1616884113.4075582,\n",
       "   'seq_num': 1,\n",
       "   'data': {'x': 0.002943277359008789},\n",
       "   'timestamps': {'x': 1616884113.4075582},\n",
       "   'filled': {}}),\n",
       " ('event',\n",
       "  {'descriptor': '438071f4-e6f1-4c82-babe-06a4b78add37',\n",
       "   'uid': '4c057c6b-7a9c-4c3f-a704-f1b6990112a6',\n",
       "   'time': 1616884113.4075847,\n",
       "   'seq_num': 2,\n",
       "   'data': {'x': 0.0029697418212890625},\n",
       "   'timestamps': {'x': 1616884113.4075847},\n",
       "   'filled': {}}),\n",
       " ('event',\n",
       "  {'descriptor': '438071f4-e6f1-4c82-babe-06a4b78add37',\n",
       "   'uid': '872e2b9f-b444-4583-a72d-70ef6f097eca',\n",
       "   'time': 1616884113.4075956,\n",
       "   'seq_num': 3,\n",
       "   'data': {'x': 0.0029807090759277344},\n",
       "   'timestamps': {'x': 1616884113.4075956},\n",
       "   'filled': {}}),\n",
       " ('event',\n",
       "  {'descriptor': '438071f4-e6f1-4c82-babe-06a4b78add37',\n",
       "   'uid': '4f08f9e4-8ebf-45b8-a99e-8fa84a8107c1',\n",
       "   'time': 1616884113.4076042,\n",
       "   'seq_num': 4,\n",
       "   'data': {'x': 0.0029892921447753906},\n",
       "   'timestamps': {'x': 1616884113.4076042},\n",
       "   'filled': {}}),\n",
       " ('event',\n",
       "  {'descriptor': '438071f4-e6f1-4c82-babe-06a4b78add37',\n",
       "   'uid': '82de7f15-e327-48de-8634-cf2d1889f939',\n",
       "   'time': 1616884113.4076123,\n",
       "   'seq_num': 5,\n",
       "   'data': {'x': 0.0029973983764648438},\n",
       "   'timestamps': {'x': 1616884113.4076123},\n",
       "   'filled': {}}),\n",
       " ('stop',\n",
       "  {'run_start': '27b84144-dec6-453d-96a1-2088dbf75635',\n",
       "   'time': 1616884113.4081993,\n",
       "   'uid': '9b08241a-44b6-4005-b8a5-2de186b3e05d',\n",
       "   'exit_status': 'success',\n",
       "   'reason': '',\n",
       "   'num_events': {'ifly': 5}})]"
      ]
     },
     "execution_count": 1,
     "metadata": {},
     "output_type": "execute_result"
    }
   ],
   "source": [
    "list(db[-1].documents())"
   ]
  },
  {
   "cell_type": "markdown",
   "metadata": {},
   "source": [
    "## Conclusion\n",
    "\n",
    "Now you have seen the basic steps in creating a `Flyer`.  You have also been shown a few diagnostic tools to help you investigate your code development."
   ]
  }
 ],
 "metadata": {
  "kernelspec": {
   "display_name": "Python 3",
   "language": "python",
   "name": "python3"
  },
  "language_info": {
   "codemirror_mode": {
    "name": "ipython",
    "version": 3
   },
   "file_extension": ".py",
   "mimetype": "text/x-python",
   "name": "python",
   "nbconvert_exporter": "python",
   "pygments_lexer": "ipython3",
   "version": "3.7.1"
  }
 },
 "nbformat": 4,
 "nbformat_minor": 4
}
