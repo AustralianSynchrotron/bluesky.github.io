{
 "cells": [
  {
   "cell_type": "markdown",
   "metadata": {},
   "source": [
    "# Hello Bluesky: Reading detectors and scanning\n",
    "\n",
    "In this notebook you will:\n",
    "\n",
    "* Connect to some simulated hardware.\n",
    "* Acquire some data via two common experimental procedures (\"plans\"), ``count`` and ``scan``.\n",
    "* Write a custom plan.\n",
    "\n",
    "Recommend Prerequisites:\n",
    "\n",
    "* [Hello Python and Jupyter](./Hello%20Python%20and%20Jupyter.ipynb)"
   ]
  },
  {
   "cell_type": "markdown",
   "metadata": {},
   "source": [
    "## Configuration\n",
    "Below, we will connect to EPICS IOC(s) controlling simulated hardware in lieu of actual motors and detectors. An EPICS IOC is control system software that allows communication with a wide variety of hardware using a common interface. The IOCs should already be running in the background. Run this command to verify that they are running: it should produce output with RUNNING on each line. In the event of a problem, edit this command to replace `status` with `restart all` and run again."
   ]
  },
  {
   "cell_type": "code",
   "execution_count": 1,
   "metadata": {
    "execution": {
     "iopub.execute_input": "2021-02-05T23:35:16.333119Z",
     "iopub.status.busy": "2021-02-05T23:35:16.332364Z",
     "iopub.status.idle": "2021-02-05T23:35:16.675958Z",
     "shell.execute_reply": "2021-02-05T23:35:16.676381Z"
    }
   },
   "outputs": [
    {
     "name": "stderr",
     "output_type": "stream",
     "text": [
      "/home/travis/virtualenv/python3.7.1/lib/python3.7/site-packages/traitlets/traitlets.py:3036: FutureWarning: --rc={'figure.dpi': 96} for dict-traits is deprecated in traitlets 5.0. You can pass --rc <key=value> ... multiple times to add items to a dict.\n",
      "  FutureWarning,\n"
     ]
    }
   ],
   "source": [
    "%matplotlib widget"
   ]
  },
  {
   "cell_type": "code",
   "execution_count": 2,
   "metadata": {
    "execution": {
     "iopub.execute_input": "2021-02-05T23:35:16.682998Z",
     "iopub.status.busy": "2021-02-05T23:35:16.679908Z",
     "iopub.status.idle": "2021-02-05T23:35:16.996374Z",
     "shell.execute_reply": "2021-02-05T23:35:16.995509Z"
    }
   },
   "outputs": [
    {
     "name": "stdout",
     "output_type": "stream",
     "text": [
      "decay                            RUNNING   pid 4922, uptime 0:01:28\r\n",
      "mini_beamline                    RUNNING   pid 4923, uptime 0:01:28\r\n",
      "random_walk                      RUNNING   pid 4924, uptime 0:01:28\r\n",
      "random_walk_horiz                RUNNING   pid 4925, uptime 0:01:28\r\n",
      "random_walk_vert                 RUNNING   pid 4926, uptime 0:01:28\r\n",
      "simple                           RUNNING   pid 4927, uptime 0:01:28\r\n",
      "thermo_sim                       RUNNING   pid 4928, uptime 0:01:28\r\n",
      "trigger_with_pc                  FATAL     Exited too quickly (process log may have details)\r\n"
     ]
    }
   ],
   "source": [
    "!supervisorctl -c supervisor/supervisord.conf status"
   ]
  },
  {
   "cell_type": "code",
   "execution_count": 3,
   "metadata": {
    "execution": {
     "iopub.execute_input": "2021-02-05T23:35:17.001976Z",
     "iopub.status.busy": "2021-02-05T23:35:17.001133Z",
     "iopub.status.idle": "2021-02-05T23:35:18.780640Z",
     "shell.execute_reply": "2021-02-05T23:35:18.781065Z"
    }
   },
   "outputs": [
    {
     "name": "stderr",
     "output_type": "stream",
     "text": [
      "/home/travis/virtualenv/python3.7.1/lib/python3.7/site-packages/pims/image_reader.py:26: RuntimeWarning: PIMS image_reader.py could not find scikit-image. Falling back to matplotlib's imread(), which uses floats instead of integers. This may break your scripts. \n",
      "(To ignore this warning, include the line \"warnings.simplefilter(\"ignore\", RuntimeWarning)\" in your script.)\n",
      "  warnings.warn(RuntimeWarning(ski_preferred))\n"
     ]
    }
   ],
   "source": [
    "%run scripts/beamline_configuration.py"
   ]
  },
  {
   "cell_type": "code",
   "execution_count": 4,
   "metadata": {
    "execution": {
     "iopub.execute_input": "2021-02-05T23:35:18.785582Z",
     "iopub.status.busy": "2021-02-05T23:35:18.785027Z",
     "iopub.status.idle": "2021-02-05T23:35:18.788373Z",
     "shell.execute_reply": "2021-02-05T23:35:18.788765Z"
    }
   },
   "outputs": [],
   "source": [
    "# aliases for convenience/readability\n",
    "motor = motor_ph\n",
    "det = ph"
   ]
  },
  {
   "cell_type": "markdown",
   "metadata": {},
   "source": [
    "Check that we can communicate with the hardware. If this doesn't raise an error, it worked."
   ]
  },
  {
   "cell_type": "code",
   "execution_count": 5,
   "metadata": {
    "execution": {
     "iopub.execute_input": "2021-02-05T23:35:18.793894Z",
     "iopub.status.busy": "2021-02-05T23:35:18.792342Z",
     "iopub.status.idle": "2021-02-05T23:35:18.794636Z",
     "shell.execute_reply": "2021-02-05T23:35:18.795049Z"
    }
   },
   "outputs": [],
   "source": [
    "det.wait_for_connection()"
   ]
  },
  {
   "cell_type": "markdown",
   "metadata": {},
   "source": [
    "## Data Acquisition\n",
    "\n",
    "### Executing a `count` plan with various parameters"
   ]
  },
  {
   "cell_type": "markdown",
   "metadata": {},
   "source": [
    "In the example below, the Bluesky run engine is the interpreter of experiment plans and `count` is an experiment plan used here to acquire one reading from a point detector."
   ]
  },
  {
   "cell_type": "code",
   "execution_count": 6,
   "metadata": {
    "execution": {
     "iopub.execute_input": "2021-02-05T23:35:18.803081Z",
     "iopub.status.busy": "2021-02-05T23:35:18.802151Z",
     "iopub.status.idle": "2021-02-05T23:35:18.918135Z",
     "shell.execute_reply": "2021-02-05T23:35:18.918592Z"
    }
   },
   "outputs": [
    {
     "name": "stdout",
     "output_type": "stream",
     "text": [
      "\n",
      "\n",
      "Transient Scan ID: 6     Time: 2021-02-05 23:35:18\n",
      "Persistent Unique Scan ID: 'f21aa2f4-d90f-472d-9bb2-a361aecc09f1'\n",
      "New stream: 'primary'\n",
      "+-----------+------------+------------+\n",
      "|   seq_num |       time |     ph_det |\n",
      "+-----------+------------+------------+\n",
      "|         1 | 23:35:18.8 |     102581 |\n",
      "+-----------+------------+------------+\n",
      "generator count ['f21aa2f4'] (scan num: 6)\n",
      "\n",
      "\n",
      "\n"
     ]
    },
    {
     "data": {
      "text/plain": [
       "('f21aa2f4-d90f-472d-9bb2-a361aecc09f1',)"
      ]
     },
     "execution_count": 1,
     "metadata": {},
     "output_type": "execute_result"
    }
   ],
   "source": [
    "from bluesky.plans import count\n",
    "RE(count([det]))"
   ]
  },
  {
   "cell_type": "markdown",
   "metadata": {},
   "source": [
    "The return value is a list of the run IDs that uniquely identify this data set. The \"scan num\" is easier to remember but is not good for long-term reference because it may not be unique.\n",
    "\n",
    "Let's looks at the documentation for `count` to see what our other options are."
   ]
  },
  {
   "cell_type": "code",
   "execution_count": 7,
   "metadata": {
    "execution": {
     "iopub.execute_input": "2021-02-05T23:35:18.924684Z",
     "iopub.status.busy": "2021-02-05T23:35:18.923017Z",
     "iopub.status.idle": "2021-02-05T23:35:18.926457Z",
     "shell.execute_reply": "2021-02-05T23:35:18.926019Z"
    }
   },
   "outputs": [
    {
     "name": "stdout",
     "output_type": "stream",
     "text": [
      "Help on function count in module bluesky.plans:\n",
      "\n",
      "count(detectors, num=1, delay=None, *, per_shot=None, md=None)\n",
      "    Take one or more readings from detectors.\n",
      "    \n",
      "    Parameters\n",
      "    ----------\n",
      "    detectors : list\n",
      "        list of 'readable' objects\n",
      "    num : integer, optional\n",
      "        number of readings to take; default is 1\n",
      "    \n",
      "        If None, capture data until canceled\n",
      "    delay : iterable or scalar, optional\n",
      "        Time delay in seconds between successive readings; default is 0.\n",
      "    per_shot : callable, optional\n",
      "        hook for customizing action of inner loop (messages per step)\n",
      "        Expected signature ::\n",
      "    \n",
      "           def f(detectors: Iterable[OphydObj]) -> Generator[Msg]:\n",
      "               ...\n",
      "    \n",
      "    md : dict, optional\n",
      "        metadata\n",
      "    \n",
      "    Notes\n",
      "    -----\n",
      "    If ``delay`` is an iterable, it must have at least ``num - 1`` entries or\n",
      "    the plan will raise a ``ValueError`` during iteration.\n",
      "\n"
     ]
    }
   ],
   "source": [
    "help(count)  # or, equiavently, type count? or ?count"
   ]
  },
  {
   "cell_type": "code",
   "execution_count": 8,
   "metadata": {
    "execution": {
     "iopub.execute_input": "2021-02-05T23:35:18.941642Z",
     "iopub.status.busy": "2021-02-05T23:35:18.940589Z",
     "iopub.status.idle": "2021-02-05T23:35:18.956326Z",
     "shell.execute_reply": "2021-02-05T23:35:18.947867Z"
    },
    "nbsphinx": "hidden"
   },
   "outputs": [
    {
     "data": {
      "application/vnd.jupyter.widget-view+json": {
       "model_id": "75d7a70962fc4034ae780459ad4bdd41",
       "version_major": 2,
       "version_minor": 0
      },
      "text/plain": [
       "Canvas(toolbar=Toolbar(toolitems=[('Home', 'Reset original view', 'home', 'home'), ('Back', 'Back to previous …"
      ]
     },
     "metadata": {},
     "output_type": "display_data"
    },
    {
     "data": {
      "text/plain": [
       "<Figure size 640x480 with 0 Axes>"
      ]
     },
     "execution_count": 1,
     "metadata": {},
     "output_type": "execute_result"
    }
   ],
   "source": [
    "# Creating a figure explicitly in advance helps with the\n",
    "# top-to-bottom flow of this notebook, but it is not necessary.\n",
    "# If this is omitted, bluesky will cause a figure to appear\n",
    "# during the RE(...) execution below.\n",
    "plt.figure('ph_det vs time')"
   ]
  },
  {
   "cell_type": "code",
   "execution_count": 9,
   "metadata": {
    "execution": {
     "iopub.execute_input": "2021-02-05T23:35:18.979128Z",
     "iopub.status.busy": "2021-02-05T23:35:18.978266Z",
     "iopub.status.idle": "2021-02-05T23:35:19.287076Z",
     "shell.execute_reply": "2021-02-05T23:35:19.286639Z"
    }
   },
   "outputs": [
    {
     "name": "stdout",
     "output_type": "stream",
     "text": [
      "\n",
      "\n",
      "Transient Scan ID: 7     Time: 2021-02-05 23:35:18\n",
      "Persistent Unique Scan ID: '0da07bae-096b-4501-86a1-0e376146ba08'\n",
      "New stream: 'primary'\n"
     ]
    },
    {
     "name": "stdout",
     "output_type": "stream",
     "text": [
      "+-----------+------------+------------+\n",
      "|   seq_num |       time |     ph_det |\n",
      "+-----------+------------+------------+\n",
      "|         1 | 23:35:19.0 |     101427 |\n",
      "|         2 | 23:35:19.0 |     101995 |\n",
      "|         3 | 23:35:19.0 |     101664 |\n",
      "|         4 | 23:35:19.0 |     101060 |\n",
      "|         5 | 23:35:19.1 |     100389 |\n"
     ]
    },
    {
     "name": "stdout",
     "output_type": "stream",
     "text": [
      "+-----------+------------+------------+\n",
      "generator count ['0da07bae'] (scan num: 7)\n",
      "\n",
      "\n",
      "\n"
     ]
    },
    {
     "data": {
      "text/plain": [
       "('0da07bae-096b-4501-86a1-0e376146ba08',)"
      ]
     },
     "execution_count": 1,
     "metadata": {},
     "output_type": "execute_result"
    }
   ],
   "source": [
    "# five consecutive readings\n",
    "RE(count([det], num=5))"
   ]
  },
  {
   "cell_type": "code",
   "execution_count": 10,
   "metadata": {
    "execution": {
     "iopub.execute_input": "2021-02-05T23:35:19.305581Z",
     "iopub.status.busy": "2021-02-05T23:35:19.294304Z",
     "iopub.status.idle": "2021-02-05T23:35:19.421091Z",
     "shell.execute_reply": "2021-02-05T23:35:19.421859Z"
    }
   },
   "outputs": [
    {
     "data": {
      "image/png": "[encoded data removed]",
      "text/plain": [
       "<Figure size 500x500 with 1 Axes>"
      ]
     },
     "execution_count": 1,
     "metadata": {},
     "output_type": "execute_result"
    }
   ],
   "source": [
    "plt.gcf()  # Display a snapshot of the current state of the figure."
   ]
  },
  {
   "cell_type": "code",
   "execution_count": 11,
   "metadata": {
    "execution": {
     "iopub.execute_input": "2021-02-05T23:35:19.553916Z",
     "iopub.status.busy": "2021-02-05T23:35:19.553373Z",
     "iopub.status.idle": "2021-02-05T23:35:19.559281Z",
     "shell.execute_reply": "2021-02-05T23:35:19.559714Z"
    },
    "nbsphinx": "hidden"
   },
   "outputs": [
    {
     "data": {
      "application/vnd.jupyter.widget-view+json": {
       "model_id": "75d7a70962fc4034ae780459ad4bdd41",
       "version_major": 2,
       "version_minor": 0
      },
      "text/plain": [
       "Canvas(toolbar=Toolbar(toolitems=[('Home', 'Reset original view', 'home', 'home'), ('Back', 'Back to previous …"
      ]
     },
     "metadata": {},
     "output_type": "display_data"
    }
   ],
   "source": [
    "plt.gcf().canvas  # To avoid needing to scroll up, display the interactive canvas again here."
   ]
  },
  {
   "cell_type": "code",
   "execution_count": 12,
   "metadata": {
    "execution": {
     "iopub.execute_input": "2021-02-05T23:35:19.568006Z",
     "iopub.status.busy": "2021-02-05T23:35:19.566012Z",
     "iopub.status.idle": "2021-02-05T23:35:24.738549Z",
     "shell.execute_reply": "2021-02-05T23:35:24.738946Z"
    }
   },
   "outputs": [
    {
     "name": "stdout",
     "output_type": "stream",
     "text": [
      "\n",
      "\n",
      "Transient Scan ID: 8     Time: 2021-02-05 23:35:19\n",
      "Persistent Unique Scan ID: '7de1e006-59c1-41b2-a821-362a0e623b79'\n",
      "New stream: 'primary'\n",
      "+-----------+------------+------------+\n",
      "|   seq_num |       time |     ph_det |\n",
      "+-----------+------------+------------+\n",
      "|         1 | 23:35:19.5 |      97412 |\n"
     ]
    },
    {
     "name": "stdout",
     "output_type": "stream",
     "text": [
      "|         2 | 23:35:20.5 |      93542 |\n"
     ]
    },
    {
     "name": "stdout",
     "output_type": "stream",
     "text": [
      "|         3 | 23:35:21.5 |      97637 |\n"
     ]
    },
    {
     "name": "stdout",
     "output_type": "stream",
     "text": [
      "|         4 | 23:35:22.5 |     102655 |\n"
     ]
    },
    {
     "name": "stdout",
     "output_type": "stream",
     "text": [
      "|         5 | 23:35:23.5 |      98044 |\n"
     ]
    },
    {
     "name": "stdout",
     "output_type": "stream",
     "text": [
      "+-----------+------------+------------+\n",
      "generator count ['7de1e006'] (scan num: 8)\n",
      "\n",
      "\n",
      "\n"
     ]
    },
    {
     "data": {
      "text/plain": [
       "('7de1e006-59c1-41b2-a821-362a0e623b79',)"
      ]
     },
     "execution_count": 1,
     "metadata": {},
     "output_type": "execute_result"
    }
   ],
   "source": [
    "# five sequential readings separated by a 1-second delay\n",
    "RE(count([det], num=5, delay=1))"
   ]
  },
  {
   "cell_type": "code",
   "execution_count": 13,
   "metadata": {
    "execution": {
     "iopub.execute_input": "2021-02-05T23:35:24.751460Z",
     "iopub.status.busy": "2021-02-05T23:35:24.750503Z",
     "iopub.status.idle": "2021-02-05T23:35:24.860084Z",
     "shell.execute_reply": "2021-02-05T23:35:24.859201Z"
    }
   },
   "outputs": [
    {
     "data": {
      "image/png": "[encoded data removed]",
      "text/plain": [
       "<Figure size 500x500 with 1 Axes>"
      ]
     },
     "execution_count": 1,
     "metadata": {},
     "output_type": "execute_result"
    }
   ],
   "source": [
    "plt.gcf()  # Display a snapshot of the current state of the figure."
   ]
  },
  {
   "cell_type": "markdown",
   "metadata": {},
   "source": [
    "### Scan\n",
    "\n",
    "Scan ``motor`` from -10 to 10, stopping at 15 equally-spaced points along the way and reading ``det``."
   ]
  },
  {
   "cell_type": "code",
   "execution_count": 14,
   "metadata": {
    "execution": {
     "iopub.execute_input": "2021-02-05T23:35:24.989086Z",
     "iopub.status.busy": "2021-02-05T23:35:24.988176Z",
     "iopub.status.idle": "2021-02-05T23:35:24.999726Z",
     "shell.execute_reply": "2021-02-05T23:35:24.999244Z"
    },
    "nbsphinx": "hidden"
   },
   "outputs": [
    {
     "data": {
      "application/vnd.jupyter.widget-view+json": {
       "model_id": "f21199bd3537447aa330760033ad8278",
       "version_major": 2,
       "version_minor": 0
      },
      "text/plain": [
       "Canvas(toolbar=Toolbar(toolitems=[('Home', 'Reset original view', 'home', 'home'), ('Back', 'Back to previous …"
      ]
     },
     "metadata": {},
     "output_type": "display_data"
    },
    {
     "data": {
      "text/plain": [
       "<Figure size 640x480 with 0 Axes>"
      ]
     },
     "execution_count": 1,
     "metadata": {},
     "output_type": "execute_result"
    }
   ],
   "source": [
    "# Creating a figure explicitly in advance helps with the\n",
    "# top-to-bottom flow of this notebook, but it is not necessary.\n",
    "# If this is omitted, bluesky will cause a figure to appear\n",
    "# during the RE(...) execution below.\n",
    "plt.figure('ph_det vs motor_ph')"
   ]
  },
  {
   "cell_type": "code",
   "execution_count": 15,
   "metadata": {
    "execution": {
     "iopub.execute_input": "2021-02-05T23:35:25.007407Z",
     "iopub.status.busy": "2021-02-05T23:35:25.006692Z",
     "iopub.status.idle": "2021-02-05T23:35:25.672401Z",
     "shell.execute_reply": "2021-02-05T23:35:25.672881Z"
    }
   },
   "outputs": [
    {
     "name": "stdout",
     "output_type": "stream",
     "text": [
      "\n",
      "\n",
      "Transient Scan ID: 9     Time: 2021-02-05 23:35:25\n",
      "Persistent Unique Scan ID: '11da31e8-e4cf-4628-bf04-097f5d19ea69'\n"
     ]
    },
    {
     "name": "stdout",
     "output_type": "stream",
     "text": [
      "New stream: 'primary'\n",
      "+-----------+------------+------------+------------+\n",
      "|   seq_num |       time |   motor_ph |     ph_det |\n",
      "+-----------+------------+------------+------------+\n",
      "|         1 | 23:35:25.2 |    -10.000 |      13315 |\n",
      "|         2 | 23:35:25.3 |     -8.571 |      22534 |\n",
      "|         3 | 23:35:25.3 |     -7.143 |      35421 |\n",
      "|         4 | 23:35:25.3 |     -5.714 |      51385 |\n",
      "|         5 | 23:35:25.3 |     -4.286 |      68461 |\n",
      "|         6 | 23:35:25.4 |     -2.857 |      84338 |\n"
     ]
    },
    {
     "name": "stdout",
     "output_type": "stream",
     "text": [
      "|         7 | 23:35:25.4 |     -1.429 |      94629 |\n",
      "|         8 | 23:35:25.4 |      0.000 |      99844 |\n",
      "|         9 | 23:35:25.4 |      1.429 |      95292 |\n",
      "|        10 | 23:35:25.4 |      2.857 |      83877 |\n",
      "|        11 | 23:35:25.4 |      4.286 |      68855 |\n",
      "|        12 | 23:35:25.5 |      5.714 |      52210 |\n",
      "|        13 | 23:35:25.5 |      7.143 |      36082 |\n",
      "|        14 | 23:35:25.5 |      8.571 |      23132 |\n",
      "|        15 | 23:35:25.5 |     10.000 |      13653 |\n"
     ]
    },
    {
     "name": "stdout",
     "output_type": "stream",
     "text": [
      "+-----------+------------+------------+------------+\n",
      "generator scan ['11da31e8'] (scan num: 9)\n",
      "\n",
      "\n",
      "\n"
     ]
    },
    {
     "data": {
      "text/plain": [
       "('11da31e8-e4cf-4628-bf04-097f5d19ea69',)"
      ]
     },
     "execution_count": 1,
     "metadata": {},
     "output_type": "execute_result"
    }
   ],
   "source": [
    "RE(scan([det], motor, -10, 10, 15))"
   ]
  },
  {
   "cell_type": "code",
   "execution_count": 16,
   "metadata": {
    "execution": {
     "iopub.execute_input": "2021-02-05T23:35:25.680531Z",
     "iopub.status.busy": "2021-02-05T23:35:25.679611Z",
     "iopub.status.idle": "2021-02-05T23:35:25.794843Z",
     "shell.execute_reply": "2021-02-05T23:35:25.794416Z"
    }
   },
   "outputs": [
    {
     "data": {
      "image/png": "[encoded data removed]",
      "text/plain": [
       "<Figure size 500x500 with 1 Axes>"
      ]
     },
     "execution_count": 1,
     "metadata": {},
     "output_type": "execute_result"
    }
   ],
   "source": [
    "plt.gcf()  # Display a snapshot of the current state of the figure."
   ]
  },
  {
   "cell_type": "markdown",
   "metadata": {},
   "source": [
    "### Simulators\n",
    "\n",
    "Bluesky includes utilities to inspecting plans before they are run. You can imagine various reasons you might want to do this. Example:"
   ]
  },
  {
   "cell_type": "code",
   "execution_count": 17,
   "metadata": {
    "execution": {
     "iopub.execute_input": "2021-02-05T23:35:25.908150Z",
     "iopub.status.busy": "2021-02-05T23:35:25.907673Z",
     "iopub.status.idle": "2021-02-05T23:35:25.912396Z",
     "shell.execute_reply": "2021-02-05T23:35:25.911960Z"
    }
   },
   "outputs": [
    {
     "name": "stdout",
     "output_type": "stream",
     "text": [
      "=================================== Open Run ===================================\n",
      "motor_ph -> -1.0\n",
      "  Read ['ph', 'motor_ph']\n",
      "motor_ph -> 0.0\n",
      "  Read ['ph', 'motor_ph']\n",
      "motor_ph -> 1.0\n",
      "  Read ['ph', 'motor_ph']\n",
      "================================== Close Run ===================================\n"
     ]
    }
   ],
   "source": [
    "from bluesky.simulators import summarize_plan\n",
    "\n",
    "summarize_plan(scan([det], motor, -1, 1, 3))"
   ]
  },
  {
   "cell_type": "markdown",
   "metadata": {},
   "source": [
    "### Custom plan\n",
    "\n",
    "Define a custom \"plan\", using the Python syntax ``yield from`` to dispatch out to built-in plans."
   ]
  },
  {
   "cell_type": "code",
   "execution_count": 18,
   "metadata": {
    "execution": {
     "iopub.execute_input": "2021-02-05T23:35:25.918226Z",
     "iopub.status.busy": "2021-02-05T23:35:25.917688Z",
     "iopub.status.idle": "2021-02-05T23:35:25.920512Z",
     "shell.execute_reply": "2021-02-05T23:35:25.920902Z"
    },
    "nbsphinx": "hidden"
   },
   "outputs": [
    {
     "data": {
      "application/vnd.jupyter.widget-view+json": {
       "model_id": "f21199bd3537447aa330760033ad8278",
       "version_major": 2,
       "version_minor": 0
      },
      "text/plain": [
       "Canvas(toolbar=Toolbar(toolitems=[('Home', 'Reset original view', 'home', 'home'), ('Back', 'Back to previous …"
      ]
     },
     "metadata": {},
     "output_type": "display_data"
    }
   ],
   "source": [
    "plt.gcf().canvas  # To avoid needing to scroll up, display the interactive canvas again here."
   ]
  },
  {
   "cell_type": "code",
   "execution_count": 19,
   "metadata": {
    "execution": {
     "iopub.execute_input": "2021-02-05T23:35:25.925829Z",
     "iopub.status.busy": "2021-02-05T23:35:25.925370Z",
     "iopub.status.idle": "2021-02-05T23:35:28.973393Z",
     "shell.execute_reply": "2021-02-05T23:35:28.972917Z"
    }
   },
   "outputs": [
    {
     "name": "stdout",
     "output_type": "stream",
     "text": [
      "\n",
      "\n",
      "Transient Scan ID: 10     Time: 2021-02-05 23:35:25\n",
      "Persistent Unique Scan ID: '2b539644-7adc-43ee-b83f-b1bf2a2314ca'\n"
     ]
    },
    {
     "name": "stdout",
     "output_type": "stream",
     "text": [
      "New stream: 'primary'\n",
      "+-----------+------------+------------+------------+\n",
      "|   seq_num |       time |   motor_ph |     ph_det |\n",
      "+-----------+------------+------------+------------+\n",
      "|         1 | 23:35:26.3 |    -10.000 |        146 |\n",
      "|         2 | 23:35:26.4 |     -5.000 |        641 |\n"
     ]
    },
    {
     "name": "stdout",
     "output_type": "stream",
     "text": [
      "|         3 | 23:35:26.5 |      0.000 |       1082 |\n",
      "|         4 | 23:35:26.6 |      5.000 |        661 |\n"
     ]
    },
    {
     "name": "stdout",
     "output_type": "stream",
     "text": [
      "|         5 | 23:35:26.8 |     10.000 |        133 |\n",
      "+-----------+------------+------------+------------+\n",
      "generator scan ['2b539644'] (scan num: 10)\n",
      "\n",
      "\n",
      "\n",
      "\n",
      "\n",
      "Transient Scan ID: 11     Time: 2021-02-05 23:35:26\n",
      "Persistent Unique Scan ID: '6689a6dd-e4a9-4ae7-94be-cc77154f5b2d'\n"
     ]
    },
    {
     "name": "stdout",
     "output_type": "stream",
     "text": [
      "New stream: 'primary'\n",
      "+-----------+------------+------------+------------+\n",
      "|   seq_num |       time |   motor_ph |     ph_det |\n",
      "+-----------+------------+------------+------------+\n",
      "|         1 | 23:35:27.3 |    -10.000 |       1328 |\n",
      "|         2 | 23:35:27.4 |     -5.000 |       6238 |\n"
     ]
    },
    {
     "name": "stdout",
     "output_type": "stream",
     "text": [
      "|         3 | 23:35:27.5 |      0.000 |      10181 |\n",
      "|         4 | 23:35:27.7 |      5.000 |       5990 |\n"
     ]
    },
    {
     "name": "stdout",
     "output_type": "stream",
     "text": [
      "|         5 | 23:35:27.8 |     10.000 |       1313 |\n",
      "+-----------+------------+------------+------------+\n",
      "generator scan ['6689a6dd'] (scan num: 11)\n",
      "\n",
      "\n",
      "\n",
      "\n",
      "\n",
      "Transient Scan ID: 12     Time: 2021-02-05 23:35:27\n",
      "Persistent Unique Scan ID: '487dd0d7-16e8-4ca1-a0dc-dcd9064d0aaf'\n"
     ]
    },
    {
     "name": "stdout",
     "output_type": "stream",
     "text": [
      "New stream: 'primary'\n",
      "+-----------+------------+------------+------------+\n",
      "|   seq_num |       time |   motor_ph |     ph_det |\n",
      "+-----------+------------+------------+------------+\n",
      "|         1 | 23:35:28.3 |    -10.000 |      13035 |\n",
      "|         2 | 23:35:28.4 |     -5.000 |      57463 |\n"
     ]
    },
    {
     "name": "stdout",
     "output_type": "stream",
     "text": [
      "|         3 | 23:35:28.5 |      0.000 |      95464 |\n",
      "|         4 | 23:35:28.6 |      5.000 |      57831 |\n"
     ]
    },
    {
     "name": "stdout",
     "output_type": "stream",
     "text": [
      "|         5 | 23:35:28.8 |     10.000 |      13224 |\n",
      "+-----------+------------+------------+------------+\n",
      "generator scan ['487dd0d7'] (scan num: 12)\n",
      "\n",
      "\n",
      "\n"
     ]
    },
    {
     "data": {
      "text/plain": [
       "('2b539644-7adc-43ee-b83f-b1bf2a2314ca',\n",
       " '6689a6dd-e4a9-4ae7-94be-cc77154f5b2d',\n",
       " '487dd0d7-16e8-4ca1-a0dc-dcd9064d0aaf')"
      ]
     },
     "execution_count": 1,
     "metadata": {},
     "output_type": "execute_result"
    }
   ],
   "source": [
    "# The plan_stubs module contains smaller plans.\n",
    "# They can be used alone or as buildling blocks for larger plans.\n",
    "from bluesky.plan_stubs import mv\n",
    "\n",
    "\n",
    "def sweep_exposure_time(times):\n",
    "    \"Multiple scans: one per exposure time setting.\"\n",
    "    for t in times:\n",
    "        yield from mv(det.exp, t)\n",
    "        yield from scan([det], motor, -10, 10, 5)\n",
    "        \n",
    "RE(sweep_exposure_time([0.01, 0.1, 1]))"
   ]
  },
  {
   "cell_type": "code",
   "execution_count": 20,
   "metadata": {
    "execution": {
     "iopub.execute_input": "2021-02-05T23:35:28.988789Z",
     "iopub.status.busy": "2021-02-05T23:35:28.985657Z",
     "iopub.status.idle": "2021-02-05T23:35:29.108337Z",
     "shell.execute_reply": "2021-02-05T23:35:29.109945Z"
    }
   },
   "outputs": [
    {
     "data": {
      "image/png": "[encoded data removed]",
      "text/plain": [
       "<Figure size 500x500 with 1 Axes>"
      ]
     },
     "execution_count": 1,
     "metadata": {},
     "output_type": "execute_result"
    }
   ],
   "source": [
    "plt.gcf()  # Display a snapshot of the current state of the figure."
   ]
  },
  {
   "cell_type": "markdown",
   "metadata": {},
   "source": [
    "## Exercises"
   ]
  },
  {
   "cell_type": "markdown",
   "metadata": {},
   "source": [
    "Q1: Above we ran a `count` with multiple readings separated by a fixed delay. The ``delay`` parameter also accepts a list of values. Try a `count` with a variable delay.\n"
   ]
  },
  {
   "cell_type": "code",
   "execution_count": 21,
   "metadata": {
    "execution": {
     "iopub.execute_input": "2021-02-05T23:35:29.245508Z",
     "iopub.status.busy": "2021-02-05T23:35:29.245005Z",
     "iopub.status.idle": "2021-02-05T23:35:29.248854Z",
     "shell.execute_reply": "2021-02-05T23:35:29.248422Z"
    }
   },
   "outputs": [],
   "source": [
    "# Try your solution here. Fill in the blank:\n",
    "# RE(count(____)))"
   ]
  },
  {
   "cell_type": "markdown",
   "metadata": {},
   "source": [
    "Execute the following cell to reveal a solution:"
   ]
  },
  {
   "cell_type": "code",
   "execution_count": 22,
   "metadata": {
    "execution": {
     "iopub.execute_input": "2021-02-05T23:35:29.253894Z",
     "iopub.status.busy": "2021-02-05T23:35:29.252931Z",
     "iopub.status.idle": "2021-02-05T23:35:29.256032Z",
     "shell.execute_reply": "2021-02-05T23:35:29.255448Z"
    }
   },
   "outputs": [],
   "source": [
    "%load solutions/count_variable_delay.py"
   ]
  },
  {
   "cell_type": "markdown",
   "metadata": {},
   "source": [
    "Q2: Write a custom plan that scans the same region twice, first with coarse steps and then with fine steps."
   ]
  },
  {
   "cell_type": "code",
   "execution_count": 23,
   "metadata": {
    "execution": {
     "iopub.execute_input": "2021-02-05T23:35:29.261003Z",
     "iopub.status.busy": "2021-02-05T23:35:29.259401Z",
     "iopub.status.idle": "2021-02-05T23:35:29.261666Z",
     "shell.execute_reply": "2021-02-05T23:35:29.262147Z"
    }
   },
   "outputs": [],
   "source": [
    "# Try your solution here. Fill in the blank:\n",
    "# def coarse_and_fine(detectors, motor, start, stop):\n",
    "#     yield from scan(___)\n",
    "#     yield from scan(___)\n",
    "#\n",
    "# RE(coarse_and_fine([det], motor, -10, 10))"
   ]
  },
  {
   "cell_type": "code",
   "execution_count": 24,
   "metadata": {
    "execution": {
     "iopub.execute_input": "2021-02-05T23:35:29.267164Z",
     "iopub.status.busy": "2021-02-05T23:35:29.265963Z",
     "iopub.status.idle": "2021-02-05T23:35:29.268289Z",
     "shell.execute_reply": "2021-02-05T23:35:29.268695Z"
    }
   },
   "outputs": [],
   "source": [
    "%load solutions/scan_coarse_and_fine.py"
   ]
  },
  {
   "cell_type": "markdown",
   "metadata": {},
   "source": [
    "Q3. All of the usages of scan we have seen so far scan from negative to positive. Scan from positive to negative."
   ]
  },
  {
   "cell_type": "code",
   "execution_count": 25,
   "metadata": {
    "execution": {
     "iopub.execute_input": "2021-02-05T23:35:29.273238Z",
     "iopub.status.busy": "2021-02-05T23:35:29.271676Z",
     "iopub.status.idle": "2021-02-05T23:35:29.273956Z",
     "shell.execute_reply": "2021-02-05T23:35:29.274397Z"
    }
   },
   "outputs": [],
   "source": [
    "# Try your solution here."
   ]
  },
  {
   "cell_type": "code",
   "execution_count": 26,
   "metadata": {
    "execution": {
     "iopub.execute_input": "2021-02-05T23:35:29.279187Z",
     "iopub.status.busy": "2021-02-05T23:35:29.277965Z",
     "iopub.status.idle": "2021-02-05T23:35:29.280227Z",
     "shell.execute_reply": "2021-02-05T23:35:29.280722Z"
    }
   },
   "outputs": [],
   "source": [
    "%load solutions/scan_positive_to_negative.py"
   ]
  },
  {
   "cell_type": "markdown",
   "metadata": {},
   "source": [
    "Q4: The ``scan`` plan samples equally-spaced points. To sample *arbitrary* points, you can use ``list_scan``. Import it from the same module that we imported ``scan`` from, then use ``list_scan?`` to view its documentation and figure out how to use it. Scan the positions ``[1, 1, 2, 3, 5, 8]``."
   ]
  },
  {
   "cell_type": "code",
   "execution_count": 27,
   "metadata": {
    "execution": {
     "iopub.execute_input": "2021-02-05T23:35:29.285314Z",
     "iopub.status.busy": "2021-02-05T23:35:29.283745Z",
     "iopub.status.idle": "2021-02-05T23:35:29.286039Z",
     "shell.execute_reply": "2021-02-05T23:35:29.286472Z"
    }
   },
   "outputs": [],
   "source": [
    "# Try your solution here."
   ]
  },
  {
   "cell_type": "code",
   "execution_count": 28,
   "metadata": {
    "execution": {
     "iopub.execute_input": "2021-02-05T23:35:29.291364Z",
     "iopub.status.busy": "2021-02-05T23:35:29.290141Z",
     "iopub.status.idle": "2021-02-05T23:35:29.292564Z",
     "shell.execute_reply": "2021-02-05T23:35:29.292986Z"
    }
   },
   "outputs": [],
   "source": [
    "%load solutions/scan_fibonacci.py"
   ]
  },
  {
   "cell_type": "markdown",
   "metadata": {},
   "source": [
    "Q5: What's wrong with this? (What does it do?)"
   ]
  },
  {
   "cell_type": "code",
   "execution_count": 29,
   "metadata": {
    "execution": {
     "iopub.execute_input": "2021-02-05T23:35:29.298139Z",
     "iopub.status.busy": "2021-02-05T23:35:29.296611Z",
     "iopub.status.idle": "2021-02-05T23:35:29.298819Z",
     "shell.execute_reply": "2021-02-05T23:35:29.299240Z"
    }
   },
   "outputs": [],
   "source": [
    "# Broken example\n",
    "def sweep_exposure_time(times):\n",
    "    \"Multiple scans: one per exposure time setting.\"\n",
    "    for t in times:\n",
    "        mv(det.exp, t)\n",
    "        scan([det], motor, -10, 10, 15)"
   ]
  },
  {
   "cell_type": "code",
   "execution_count": 30,
   "metadata": {
    "execution": {
     "iopub.execute_input": "2021-02-05T23:35:29.304404Z",
     "iopub.status.busy": "2021-02-05T23:35:29.302876Z",
     "iopub.status.idle": "2021-02-05T23:35:29.305130Z",
     "shell.execute_reply": "2021-02-05T23:35:29.305641Z"
    }
   },
   "outputs": [],
   "source": [
    "%load solutions/broken_sweep_exposure_time_explanation.txt"
   ]
  }
 ],
 "metadata": {
  "kernelspec": {
   "display_name": "Python 3",
   "language": "python",
   "name": "python3"
  },
  "language_info": {
   "codemirror_mode": {
    "name": "ipython",
    "version": 3
   },
   "file_extension": ".py",
   "mimetype": "text/x-python",
   "name": "python",
   "nbconvert_exporter": "python",
   "pygments_lexer": "ipython3",
   "version": "3.7.1"
  },
  "widgets": {
   "application/vnd.jupyter.widget-state+json": {
    "state": {
     "02dd1c71778446fdb25c27a2f10754db": {
      "model_module": "@jupyter-widgets/base",
      "model_module_version": "1.2.0",
      "model_name": "LayoutModel",
      "state": {
       "_model_module": "@jupyter-widgets/base",
       "_model_module_version": "1.2.0",
       "_model_name": "LayoutModel",
       "_view_count": null,
       "_view_module": "@jupyter-widgets/base",
       "_view_module_version": "1.2.0",
       "_view_name": "LayoutView",
       "align_content": null,
       "align_items": null,
       "align_self": null,
       "border": null,
       "bottom": null,
       "display": null,
       "flex": null,
       "flex_flow": null,
       "grid_area": null,
       "grid_auto_columns": null,
       "grid_auto_flow": null,
       "grid_auto_rows": null,
       "grid_column": null,
       "grid_gap": null,
       "grid_row": null,
       "grid_template_areas": null,
       "grid_template_columns": null,
       "grid_template_rows": null,
       "height": null,
       "justify_content": null,
       "justify_items": null,
       "left": null,
       "margin": null,
       "max_height": null,
       "max_width": null,
       "min_height": null,
       "min_width": null,
       "object_fit": null,
       "object_position": null,
       "order": null,
       "overflow": null,
       "overflow_x": null,
       "overflow_y": null,
       "padding": null,
       "right": null,
       "top": null,
       "visibility": null,
       "width": null
      }
     },
     "5bb779384f6d4d6d9e3fff06cb158e12": {
      "model_module": "@jupyter-widgets/base",
      "model_module_version": "1.2.0",
      "model_name": "LayoutModel",
      "state": {
       "_model_module": "@jupyter-widgets/base",
       "_model_module_version": "1.2.0",
       "_model_name": "LayoutModel",
       "_view_count": null,
       "_view_module": "@jupyter-widgets/base",
       "_view_module_version": "1.2.0",
       "_view_name": "LayoutView",
       "align_content": null,
       "align_items": null,
       "align_self": null,
       "border": null,
       "bottom": null,
       "display": null,
       "flex": null,
       "flex_flow": null,
       "grid_area": null,
       "grid_auto_columns": null,
       "grid_auto_flow": null,
       "grid_auto_rows": null,
       "grid_column": null,
       "grid_gap": null,
       "grid_row": null,
       "grid_template_areas": null,
       "grid_template_columns": null,
       "grid_template_rows": null,
       "height": null,
       "justify_content": null,
       "justify_items": null,
       "left": null,
       "margin": null,
       "max_height": null,
       "max_width": null,
       "min_height": null,
       "min_width": null,
       "object_fit": null,
       "object_position": null,
       "order": null,
       "overflow": null,
       "overflow_x": null,
       "overflow_y": null,
       "padding": null,
       "right": null,
       "top": null,
       "visibility": null,
       "width": null
      }
     },
     "6b2c200a93724be5a59671ce886c1c42": {
      "model_module": "@jupyter-widgets/base",
      "model_module_version": "1.2.0",
      "model_name": "LayoutModel",
      "state": {
       "_model_module": "@jupyter-widgets/base",
       "_model_module_version": "1.2.0",
       "_model_name": "LayoutModel",
       "_view_count": null,
       "_view_module": "@jupyter-widgets/base",
       "_view_module_version": "1.2.0",
       "_view_name": "LayoutView",
       "align_content": null,
       "align_items": null,
       "align_self": null,
       "border": null,
       "bottom": null,
       "display": null,
       "flex": null,
       "flex_flow": null,
       "grid_area": null,
       "grid_auto_columns": null,
       "grid_auto_flow": null,
       "grid_auto_rows": null,
       "grid_column": null,
       "grid_gap": null,
       "grid_row": null,
       "grid_template_areas": null,
       "grid_template_columns": null,
       "grid_template_rows": null,
       "height": null,
       "justify_content": null,
       "justify_items": null,
       "left": null,
       "margin": null,
       "max_height": null,
       "max_width": null,
       "min_height": null,
       "min_width": null,
       "object_fit": null,
       "object_position": null,
       "order": null,
       "overflow": null,
       "overflow_x": null,
       "overflow_y": null,
       "padding": null,
       "right": null,
       "top": null,
       "visibility": null,
       "width": null
      }
     },
     "75d7a70962fc4034ae780459ad4bdd41": {
      "model_module": "jupyter-matplotlib",
      "model_module_version": "^0.8.3",
      "model_name": "MPLCanvasModel",
      "state": {
       "_cursor": "default",
       "_dom_classes": [],
       "_figure_label": "ph_det vs time",
       "_height": 500,
       "_image_mode": "diff",
       "_message": "",
       "_model_module": "jupyter-matplotlib",
       "_model_module_version": "^0.8.3",
       "_model_name": "MPLCanvasModel",
       "_rubberband_height": 0,
       "_rubberband_width": 0,
       "_rubberband_x": 0,
       "_rubberband_y": 0,
       "_view_count": null,
       "_view_module": "jupyter-matplotlib",
       "_view_module_version": "^0.8.3",
       "_view_name": "MPLCanvasView",
       "_width": 500,
       "capture_scroll": false,
       "footer_visible": true,
       "header_visible": true,
       "layout": "IPY_MODEL_5bb779384f6d4d6d9e3fff06cb158e12",
       "resizable": true,
       "toolbar": "IPY_MODEL_d1570682c2474eb59863d10800df828d",
       "toolbar_position": "left",
       "toolbar_visible": true
      }
     },
     "b95077c70d364649b4218ba6d0bd4006": {
      "model_module": "@jupyter-widgets/base",
      "model_module_version": "1.2.0",
      "model_name": "LayoutModel",
      "state": {
       "_model_module": "@jupyter-widgets/base",
       "_model_module_version": "1.2.0",
       "_model_name": "LayoutModel",
       "_view_count": null,
       "_view_module": "@jupyter-widgets/base",
       "_view_module_version": "1.2.0",
       "_view_name": "LayoutView",
       "align_content": null,
       "align_items": null,
       "align_self": null,
       "border": null,
       "bottom": null,
       "display": null,
       "flex": null,
       "flex_flow": null,
       "grid_area": null,
       "grid_auto_columns": null,
       "grid_auto_flow": null,
       "grid_auto_rows": null,
       "grid_column": null,
       "grid_gap": null,
       "grid_row": null,
       "grid_template_areas": null,
       "grid_template_columns": null,
       "grid_template_rows": null,
       "height": null,
       "justify_content": null,
       "justify_items": null,
       "left": null,
       "margin": null,
       "max_height": null,
       "max_width": null,
       "min_height": null,
       "min_width": null,
       "object_fit": null,
       "object_position": null,
       "order": null,
       "overflow": null,
       "overflow_x": null,
       "overflow_y": null,
       "padding": null,
       "right": null,
       "top": null,
       "visibility": null,
       "width": null
      }
     },
     "be28156a8e914cdbb67fe8512c41714a": {
      "model_module": "jupyter-matplotlib",
      "model_module_version": "^0.8.3",
      "model_name": "ToolbarModel",
      "state": {
       "_current_action": "",
       "_dom_classes": [],
       "_model_module": "jupyter-matplotlib",
       "_model_module_version": "^0.8.3",
       "_model_name": "ToolbarModel",
       "_view_count": null,
       "_view_module": "jupyter-matplotlib",
       "_view_module_version": "^0.8.3",
       "_view_name": "ToolbarView",
       "button_style": "",
       "collapsed": true,
       "layout": "IPY_MODEL_b95077c70d364649b4218ba6d0bd4006",
       "orientation": "vertical",
       "toolitems": [
        [
         "Home",
         "Reset original view",
         "home",
         "home"
        ],
        [
         "Back",
         "Back to previous view",
         "arrow-left",
         "back"
        ],
        [
         "Forward",
         "Forward to next view",
         "arrow-right",
         "forward"
        ],
        [
         "Pan",
         "Left button pans, Right button zooms\nx/y fixes axis, CTRL fixes aspect",
         "arrows",
         "pan"
        ],
        [
         "Zoom",
         "Zoom to rectangle\nx/y fixes axis, CTRL fixes aspect",
         "square-o",
         "zoom"
        ],
        [
         "Download",
         "Download plot",
         "floppy-o",
         "save_figure"
        ]
       ]
      }
     },
     "d1570682c2474eb59863d10800df828d": {
      "model_module": "jupyter-matplotlib",
      "model_module_version": "^0.8.3",
      "model_name": "ToolbarModel",
      "state": {
       "_current_action": "",
       "_dom_classes": [],
       "_model_module": "jupyter-matplotlib",
       "_model_module_version": "^0.8.3",
       "_model_name": "ToolbarModel",
       "_view_count": null,
       "_view_module": "jupyter-matplotlib",
       "_view_module_version": "^0.8.3",
       "_view_name": "ToolbarView",
       "button_style": "",
       "collapsed": true,
       "layout": "IPY_MODEL_6b2c200a93724be5a59671ce886c1c42",
       "orientation": "vertical",
       "toolitems": [
        [
         "Home",
         "Reset original view",
         "home",
         "home"
        ],
        [
         "Back",
         "Back to previous view",
         "arrow-left",
         "back"
        ],
        [
         "Forward",
         "Forward to next view",
         "arrow-right",
         "forward"
        ],
        [
         "Pan",
         "Left button pans, Right button zooms\nx/y fixes axis, CTRL fixes aspect",
         "arrows",
         "pan"
        ],
        [
         "Zoom",
         "Zoom to rectangle\nx/y fixes axis, CTRL fixes aspect",
         "square-o",
         "zoom"
        ],
        [
         "Download",
         "Download plot",
         "floppy-o",
         "save_figure"
        ]
       ]
      }
     },
     "f21199bd3537447aa330760033ad8278": {
      "model_module": "jupyter-matplotlib",
      "model_module_version": "^0.8.3",
      "model_name": "MPLCanvasModel",
      "state": {
       "_cursor": "default",
       "_dom_classes": [],
       "_figure_label": "ph_det vs motor_ph",
       "_height": 500,
       "_image_mode": "diff",
       "_message": "",
       "_model_module": "jupyter-matplotlib",
       "_model_module_version": "^0.8.3",
       "_model_name": "MPLCanvasModel",
       "_rubberband_height": 0,
       "_rubberband_width": 0,
       "_rubberband_x": 0,
       "_rubberband_y": 0,
       "_view_count": null,
       "_view_module": "jupyter-matplotlib",
       "_view_module_version": "^0.8.3",
       "_view_name": "MPLCanvasView",
       "_width": 500,
       "capture_scroll": false,
       "footer_visible": true,
       "header_visible": true,
       "layout": "IPY_MODEL_02dd1c71778446fdb25c27a2f10754db",
       "resizable": true,
       "toolbar": "IPY_MODEL_be28156a8e914cdbb67fe8512c41714a",
       "toolbar_position": "left",
       "toolbar_visible": true
      }
     }
    },
    "version_major": 2,
    "version_minor": 0
   }
  }
 },
 "nbformat": 4,
 "nbformat_minor": 4
}
