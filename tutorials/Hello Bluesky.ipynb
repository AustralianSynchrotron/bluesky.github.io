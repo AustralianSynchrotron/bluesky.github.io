{
 "cells": [
  {
   "cell_type": "markdown",
   "metadata": {},
   "source": [
    "# Hello Bluesky: Reading detectors and scanning\n",
    "\n",
    "In this notebook you will:\n",
    "\n",
    "* Connect to some simulated hardware.\n",
    "* Acquire some data via two common experimental procedures (\"plans\"), ``count`` and ``scan``.\n",
    "* Write a custom plan.\n",
    "\n",
    "Recommend Prerequisites:\n",
    "\n",
    "* [Hello Python and Jupyter](./Hello%20Python%20and%20Jupyter.ipynb)"
   ]
  },
  {
   "cell_type": "markdown",
   "metadata": {},
   "source": [
    "## Configuration\n",
    "Below, we will connect to EPICS IOC(s) controlling simulated hardware in lieu of actual motors and detectors. An EPICS IOC is control system software that allows communication with a wide variety of hardware using a common interface. The IOCs should already be running in the background. Run this command to verify that they are running: it should produce output with RUNNING on each line. In the event of a problem, edit this command to replace `status` with `restart all` and run again."
   ]
  },
  {
   "cell_type": "code",
   "execution_count": 1,
   "metadata": {},
   "outputs": [],
   "source": [
    "%matplotlib widget"
   ]
  },
  {
   "cell_type": "code",
   "execution_count": 2,
   "metadata": {},
   "outputs": [
    {
     "name": "stdout",
     "output_type": "stream",
     "text": [
      "decay                            RUNNING   pid 4842, uptime 0:01:23\r\n",
      "mini_beamline                    RUNNING   pid 4843, uptime 0:01:23\r\n",
      "random_walk                      RUNNING   pid 4858, uptime 0:01:22\r\n",
      "random_walk_horiz                RUNNING   pid 4860, uptime 0:01:22\r\n",
      "random_walk_vert                 RUNNING   pid 4846, uptime 0:01:23\r\n",
      "simple                           RUNNING   pid 4847, uptime 0:01:23\r\n",
      "thermo_sim                       RUNNING   pid 4848, uptime 0:01:23\r\n",
      "trigger_with_pc                  RUNNING   pid 4849, uptime 0:01:23\r\n"
     ]
    }
   ],
   "source": [
    "!supervisorctl -c supervisor/supervisord.conf status"
   ]
  },
  {
   "cell_type": "code",
   "execution_count": 3,
   "metadata": {},
   "outputs": [],
   "source": [
    "%run scripts/beamline_configuration.py"
   ]
  },
  {
   "cell_type": "code",
   "execution_count": 4,
   "metadata": {},
   "outputs": [],
   "source": [
    "# aliases for convenience/readability\n",
    "motor = motor_ph\n",
    "det = ph"
   ]
  },
  {
   "cell_type": "markdown",
   "metadata": {},
   "source": [
    "Check that we can communicate with the hardware. If this doesn't raise an error, it worked."
   ]
  },
  {
   "cell_type": "code",
   "execution_count": 5,
   "metadata": {},
   "outputs": [],
   "source": [
    "det.wait_for_connection()"
   ]
  },
  {
   "cell_type": "markdown",
   "metadata": {},
   "source": [
    "## Data Acquisition\n",
    "\n",
    "### Executing a `count` plan with various parameters"
   ]
  },
  {
   "cell_type": "markdown",
   "metadata": {},
   "source": [
    "In the example below, the Bluesky run engine is the interpreter of experiment plans and `count` is an experiment plan used here to acquire one reading from a point detector."
   ]
  },
  {
   "cell_type": "code",
   "execution_count": 6,
   "metadata": {},
   "outputs": [
    {
     "name": "stdout",
     "output_type": "stream",
     "text": [
      "\n",
      "\n",
      "Transient Scan ID: 6     Time: 2020-05-26 20:06:41\n",
      "Persistent Unique Scan ID: '2ec28ecb-561d-463d-ad88-2251313735dd'\n",
      "New stream: 'primary'\n",
      "+-----------+------------+------------+\n",
      "|   seq_num |       time |     ph_det |\n",
      "+-----------+------------+------------+\n",
      "|         1 | 20:06:41.5 |     101493 |\n",
      "+-----------+------------+------------+\n",
      "generator count ['2ec28ecb'] (scan num: 6)\n",
      "\n",
      "\n",
      "\n"
     ]
    },
    {
     "data": {
      "text/plain": [
       "('2ec28ecb-561d-463d-ad88-2251313735dd',)"
      ]
     },
     "execution_count": 6,
     "metadata": {},
     "output_type": "execute_result"
    }
   ],
   "source": [
    "from bluesky.plans import count\n",
    "RE(count([det]))"
   ]
  },
  {
   "cell_type": "markdown",
   "metadata": {},
   "source": [
    "The return value is a list of the run IDs that uniquely identify this data set. The \"scan num\" is easier to remember but is not good for long-term reference because it may not be unique.\n",
    "\n",
    "Let's looks at the documentation for `count` to see what our other options are."
   ]
  },
  {
   "cell_type": "code",
   "execution_count": 7,
   "metadata": {},
   "outputs": [
    {
     "name": "stdout",
     "output_type": "stream",
     "text": [
      "Help on function count in module bluesky.plans:\n",
      "\n",
      "count(detectors, num=1, delay=None, *, per_shot=None, md=None)\n",
      "    Take one or more readings from detectors.\n",
      "    \n",
      "    Parameters\n",
      "    ----------\n",
      "    detectors : list\n",
      "        list of 'readable' objects\n",
      "    num : integer, optional\n",
      "        number of readings to take; default is 1\n",
      "    \n",
      "        If None, capture data until canceled\n",
      "    delay : iterable or scalar, optional\n",
      "        Time delay in seconds between successive readings; default is 0.\n",
      "    per_shot : callable, optional\n",
      "        hook for customizing action of inner loop (messages per step)\n",
      "        Expected signature ::\n",
      "    \n",
      "           def f(detectors: Iterable[OphydObj]) -> Generator[Msg]:\n",
      "               ...\n",
      "    \n",
      "    md : dict, optional\n",
      "        metadata\n",
      "    \n",
      "    Notes\n",
      "    -----\n",
      "    If ``delay`` is an iterable, it must have at least ``num - 1`` entries or\n",
      "    the plan will raise a ``ValueError`` during iteration.\n",
      "\n"
     ]
    }
   ],
   "source": [
    "help(count)  # or, equiavently, type count? or ?count"
   ]
  },
  {
   "cell_type": "code",
   "execution_count": 8,
   "metadata": {
    "nbsphinx": "hidden"
   },
   "outputs": [
    {
     "data": {
      "application/vnd.jupyter.widget-view+json": {
       "model_id": "269a911400df48489fdc2e1ab180edad",
       "version_major": 2,
       "version_minor": 0
      },
      "text/plain": [
       "Canvas(toolbar=Toolbar(toolitems=[('Home', 'Reset original view', 'home', 'home'), ('Back', 'Back to previous …"
      ]
     },
     "metadata": {},
     "output_type": "display_data"
    },
    {
     "data": {
      "text/plain": [
       "<Figure size 640x480 with 0 Axes>"
      ]
     },
     "execution_count": 8,
     "metadata": {},
     "output_type": "execute_result"
    }
   ],
   "source": [
    "# Creating a figure explicitly in advance helps with the\n",
    "# top-to-bottom flow of this notebook, but it is not necessary.\n",
    "# If this is omitted, bluesky will cause a figure to appear\n",
    "# during the RE(...) execution below.\n",
    "plt.figure('ph_det vs time')"
   ]
  },
  {
   "cell_type": "code",
   "execution_count": 9,
   "metadata": {},
   "outputs": [
    {
     "name": "stdout",
     "output_type": "stream",
     "text": [
      "\n",
      "\n",
      "Transient Scan ID: 7     Time: 2020-05-26 20:06:41\n",
      "Persistent Unique Scan ID: '3040d055-1ced-41d3-828d-f94d49e68630'\n",
      "New stream: 'primary'\n"
     ]
    },
    {
     "name": "stdout",
     "output_type": "stream",
     "text": [
      "+-----------+------------+------------+\n",
      "|   seq_num |       time |     ph_det |\n",
      "+-----------+------------+------------+\n",
      "|         1 | 20:06:41.7 |      99745 |\n",
      "|         2 | 20:06:41.7 |      99950 |\n",
      "|         3 | 20:06:41.7 |      99857 |\n",
      "|         4 | 20:06:41.7 |     100533 |\n",
      "|         5 | 20:06:41.7 |     100326 |\n"
     ]
    },
    {
     "name": "stdout",
     "output_type": "stream",
     "text": [
      "+-----------+------------+------------+\n",
      "generator count ['3040d055'] (scan num: 7)\n",
      "\n",
      "\n",
      "\n"
     ]
    },
    {
     "data": {
      "text/plain": [
       "('3040d055-1ced-41d3-828d-f94d49e68630',)"
      ]
     },
     "execution_count": 9,
     "metadata": {},
     "output_type": "execute_result"
    }
   ],
   "source": [
    "# five consecutive readings\n",
    "RE(count([det], num=5))"
   ]
  },
  {
   "cell_type": "code",
   "execution_count": 10,
   "metadata": {},
   "outputs": [
    {
     "data": {
      "image/png": "[encoded data removed]",
      "text/plain": [
       "<Figure size 640x400 with 1 Axes>"
      ]
     },
     "execution_count": 10,
     "metadata": {},
     "output_type": "execute_result"
    }
   ],
   "source": [
    "plt.gcf()  # Display a snapshot of the current state of the figure."
   ]
  },
  {
   "cell_type": "code",
   "execution_count": 11,
   "metadata": {
    "nbsphinx": "hidden"
   },
   "outputs": [
    {
     "data": {
      "application/vnd.jupyter.widget-view+json": {
       "model_id": "269a911400df48489fdc2e1ab180edad",
       "version_major": 2,
       "version_minor": 0
      },
      "text/plain": [
       "Canvas(toolbar=Toolbar(toolitems=[('Home', 'Reset original view', 'home', 'home'), ('Back', 'Back to previous …"
      ]
     },
     "metadata": {},
     "output_type": "display_data"
    }
   ],
   "source": [
    "plt.gcf().canvas  # To avoid needing to scroll up, display the interactive canvas again here."
   ]
  },
  {
   "cell_type": "code",
   "execution_count": 12,
   "metadata": {},
   "outputs": [
    {
     "name": "stdout",
     "output_type": "stream",
     "text": [
      "\n",
      "\n",
      "Transient Scan ID: 8     Time: 2020-05-26 20:06:42\n",
      "Persistent Unique Scan ID: '2060e785-d5de-4f00-912b-3c9dcf1e230c'\n",
      "New stream: 'primary'\n",
      "+-----------+------------+------------+\n",
      "|   seq_num |       time |     ph_det |\n",
      "+-----------+------------+------------+\n",
      "|         1 | 20:06:42.2 |      96053 |\n"
     ]
    },
    {
     "name": "stdout",
     "output_type": "stream",
     "text": [
      "|         2 | 20:06:43.2 |      93800 |\n"
     ]
    },
    {
     "name": "stdout",
     "output_type": "stream",
     "text": [
      "|         3 | 20:06:44.2 |     100421 |\n"
     ]
    },
    {
     "name": "stdout",
     "output_type": "stream",
     "text": [
      "|         4 | 20:06:45.2 |     101761 |\n"
     ]
    },
    {
     "name": "stdout",
     "output_type": "stream",
     "text": [
      "|         5 | 20:06:46.2 |      95752 |\n"
     ]
    },
    {
     "name": "stdout",
     "output_type": "stream",
     "text": [
      "+-----------+------------+------------+\n",
      "generator count ['2060e785'] (scan num: 8)\n",
      "\n",
      "\n",
      "\n"
     ]
    },
    {
     "data": {
      "text/plain": [
       "('2060e785-d5de-4f00-912b-3c9dcf1e230c',)"
      ]
     },
     "execution_count": 12,
     "metadata": {},
     "output_type": "execute_result"
    }
   ],
   "source": [
    "# five sequential readings separated by a 1-second delay\n",
    "RE(count([det], num=5, delay=1))"
   ]
  },
  {
   "cell_type": "code",
   "execution_count": 13,
   "metadata": {},
   "outputs": [
    {
     "data": {
      "image/png": "[encoded data removed]",
      "text/plain": [
       "<Figure size 640x400 with 1 Axes>"
      ]
     },
     "execution_count": 13,
     "metadata": {},
     "output_type": "execute_result"
    }
   ],
   "source": [
    "plt.gcf()  # Display a snapshot of the current state of the figure."
   ]
  },
  {
   "cell_type": "markdown",
   "metadata": {},
   "source": [
    "### Scan\n",
    "\n",
    "Scan ``motor`` from -10 to 10, stopping at 15 equally-spaced points along the way and reading ``det``."
   ]
  },
  {
   "cell_type": "code",
   "execution_count": 14,
   "metadata": {
    "nbsphinx": "hidden"
   },
   "outputs": [
    {
     "data": {
      "application/vnd.jupyter.widget-view+json": {
       "model_id": "5a6e7d010496480f899a5ca7ed37b067",
       "version_major": 2,
       "version_minor": 0
      },
      "text/plain": [
       "Canvas(toolbar=Toolbar(toolitems=[('Home', 'Reset original view', 'home', 'home'), ('Back', 'Back to previous …"
      ]
     },
     "metadata": {},
     "output_type": "display_data"
    },
    {
     "data": {
      "text/plain": [
       "<Figure size 640x480 with 0 Axes>"
      ]
     },
     "execution_count": 14,
     "metadata": {},
     "output_type": "execute_result"
    }
   ],
   "source": [
    "# Creating a figure explicitly in advance helps with the\n",
    "# top-to-bottom flow of this notebook, but it is not necessary.\n",
    "# If this is omitted, bluesky will cause a figure to appear\n",
    "# during the RE(...) execution below.\n",
    "plt.figure('ph_det vs motor_ph')"
   ]
  },
  {
   "cell_type": "code",
   "execution_count": 15,
   "metadata": {},
   "outputs": [
    {
     "name": "stdout",
     "output_type": "stream",
     "text": [
      "\n",
      "\n",
      "Transient Scan ID: 9     Time: 2020-05-26 20:06:47\n",
      "Persistent Unique Scan ID: '038097b6-cc8f-46a9-81e4-7dcfd0b7f7d9'\n"
     ]
    },
    {
     "name": "stdout",
     "output_type": "stream",
     "text": [
      "New stream: 'primary'\n",
      "+-----------+------------+------------+------------+\n",
      "|   seq_num |       time |   motor_ph |     ph_det |\n",
      "+-----------+------------+------------+------------+\n",
      "|         1 | 20:06:47.9 |    -10.000 |      13361 |\n",
      "|         2 | 20:06:47.9 |     -8.571 |      22900 |\n",
      "|         3 | 20:06:47.9 |     -7.143 |      35887 |\n",
      "|         4 | 20:06:48.0 |     -5.714 |      52608 |\n",
      "|         5 | 20:06:48.0 |     -4.286 |      69541 |\n",
      "|         6 | 20:06:48.0 |     -2.857 |      85513 |\n"
     ]
    },
    {
     "name": "stdout",
     "output_type": "stream",
     "text": [
      "|         7 | 20:06:48.1 |     -1.429 |      97718 |\n",
      "|         8 | 20:06:48.1 |      0.000 |     101127 |\n",
      "|         9 | 20:06:48.1 |      1.429 |      96898 |\n",
      "|        10 | 20:06:48.1 |      2.857 |      86347 |\n",
      "|        11 | 20:06:48.1 |      4.286 |      70032 |\n",
      "|        12 | 20:06:48.1 |      5.714 |      52875 |\n",
      "|        13 | 20:06:48.1 |      7.143 |      36669 |\n",
      "|        14 | 20:06:48.1 |      8.571 |      23481 |\n",
      "|        15 | 20:06:48.1 |     10.000 |      13775 |\n",
      "+-----------+------------+------------+------------+\n",
      "generator scan ['038097b6'] (scan num: 9)\n",
      "\n",
      "\n",
      "\n"
     ]
    },
    {
     "data": {
      "text/plain": [
       "('038097b6-cc8f-46a9-81e4-7dcfd0b7f7d9',)"
      ]
     },
     "execution_count": 15,
     "metadata": {},
     "output_type": "execute_result"
    }
   ],
   "source": [
    "RE(scan([det], motor, -10, 10, 15))"
   ]
  },
  {
   "cell_type": "code",
   "execution_count": 16,
   "metadata": {},
   "outputs": [
    {
     "data": {
      "image/png": "[encoded data removed]",
      "text/plain": [
       "<Figure size 640x400 with 1 Axes>"
      ]
     },
     "execution_count": 16,
     "metadata": {},
     "output_type": "execute_result"
    }
   ],
   "source": [
    "plt.gcf()  # Display a snapshot of the current state of the figure."
   ]
  },
  {
   "cell_type": "markdown",
   "metadata": {},
   "source": [
    "### Simulators\n",
    "\n",
    "Bluesky includes utilities to inspecting plans before they are run. You can imagine various reasons you might want to do this. Example:"
   ]
  },
  {
   "cell_type": "code",
   "execution_count": 17,
   "metadata": {},
   "outputs": [
    {
     "name": "stdout",
     "output_type": "stream",
     "text": [
      "=================================== Open Run ===================================\n",
      "motor_ph -> -1.0\n",
      "  Read ['ph', 'motor_ph']\n",
      "motor_ph -> 0.0\n",
      "  Read ['ph', 'motor_ph']\n",
      "motor_ph -> 1.0\n",
      "  Read ['ph', 'motor_ph']\n",
      "================================== Close Run ===================================\n"
     ]
    }
   ],
   "source": [
    "from bluesky.simulators import summarize_plan\n",
    "\n",
    "summarize_plan(scan([det], motor, -1, 1, 3))"
   ]
  },
  {
   "cell_type": "markdown",
   "metadata": {},
   "source": [
    "### Custom plan\n",
    "\n",
    "Define a custom \"plan\", using the Python syntax ``yield from`` to dispatch out to built-in plans."
   ]
  },
  {
   "cell_type": "code",
   "execution_count": 18,
   "metadata": {
    "nbsphinx": "hidden"
   },
   "outputs": [
    {
     "data": {
      "application/vnd.jupyter.widget-view+json": {
       "model_id": "5a6e7d010496480f899a5ca7ed37b067",
       "version_major": 2,
       "version_minor": 0
      },
      "text/plain": [
       "Canvas(toolbar=Toolbar(toolitems=[('Home', 'Reset original view', 'home', 'home'), ('Back', 'Back to previous …"
      ]
     },
     "metadata": {},
     "output_type": "display_data"
    }
   ],
   "source": [
    "plt.gcf().canvas  # To avoid needing to scroll up, display the interactive canvas again here."
   ]
  },
  {
   "cell_type": "code",
   "execution_count": 19,
   "metadata": {},
   "outputs": [
    {
     "name": "stdout",
     "output_type": "stream",
     "text": [
      "\n",
      "\n",
      "Transient Scan ID: 10     Time: 2020-05-26 20:06:48\n",
      "Persistent Unique Scan ID: '49ed218e-117d-43c0-a476-7c365ec4a65d'\n"
     ]
    },
    {
     "name": "stdout",
     "output_type": "stream",
     "text": [
      "New stream: 'primary'\n",
      "+-----------+------------+------------+------------+\n",
      "|   seq_num |       time |   motor_ph |     ph_det |\n",
      "+-----------+------------+------------+------------+\n",
      "|         1 | 20:06:49.0 |    -10.000 |        136 |\n",
      "|         2 | 20:06:49.1 |     -5.000 |        603 |\n"
     ]
    },
    {
     "name": "stdout",
     "output_type": "stream",
     "text": [
      "|         3 | 20:06:49.3 |      0.000 |       1050 |\n",
      "|         4 | 20:06:49.4 |      5.000 |        624 |\n"
     ]
    },
    {
     "name": "stdout",
     "output_type": "stream",
     "text": [
      "|         5 | 20:06:49.5 |     10.000 |        143 |\n",
      "+-----------+------------+------------+------------+\n",
      "generator scan ['49ed218e'] (scan num: 10)\n",
      "\n",
      "\n",
      "\n",
      "\n",
      "\n",
      "Transient Scan ID: 11     Time: 2020-05-26 20:06:49\n",
      "Persistent Unique Scan ID: 'b79f98e7-74e8-4252-ad56-926e1a3bd857'\n"
     ]
    },
    {
     "name": "stdout",
     "output_type": "stream",
     "text": [
      "New stream: 'primary'\n",
      "+-----------+------------+------------+------------+\n",
      "|   seq_num |       time |   motor_ph |     ph_det |\n",
      "+-----------+------------+------------+------------+\n",
      "|         1 | 20:06:50.1 |    -10.000 |       1349 |\n",
      "|         2 | 20:06:50.2 |     -5.000 |       6057 |\n"
     ]
    },
    {
     "name": "stdout",
     "output_type": "stream",
     "text": [
      "|         3 | 20:06:50.3 |      0.000 |       9658 |\n",
      "|         4 | 20:06:50.4 |      5.000 |       5780 |\n"
     ]
    },
    {
     "name": "stdout",
     "output_type": "stream",
     "text": [
      "|         5 | 20:06:50.6 |     10.000 |       1355 |\n",
      "+-----------+------------+------------+------------+\n",
      "generator scan ['b79f98e7'] (scan num: 11)\n",
      "\n",
      "\n",
      "\n",
      "\n",
      "\n",
      "Transient Scan ID: 12     Time: 2020-05-26 20:06:50\n",
      "Persistent Unique Scan ID: '16f3b52c-a42b-45c7-96ee-01132a4dea18'\n"
     ]
    },
    {
     "name": "stdout",
     "output_type": "stream",
     "text": [
      "New stream: 'primary'\n",
      "+-----------+------------+------------+------------+\n",
      "|   seq_num |       time |   motor_ph |     ph_det |\n",
      "+-----------+------------+------------+------------+\n",
      "|         1 | 20:06:51.2 |    -10.000 |      13029 |\n",
      "|         2 | 20:06:51.3 |     -5.000 |      58654 |\n"
     ]
    },
    {
     "name": "stdout",
     "output_type": "stream",
     "text": [
      "|         3 | 20:06:51.5 |      0.000 |      97220 |\n",
      "|         4 | 20:06:51.6 |      5.000 |      59221 |\n"
     ]
    },
    {
     "name": "stdout",
     "output_type": "stream",
     "text": [
      "|         5 | 20:06:51.7 |     10.000 |      13140 |\n",
      "+-----------+------------+------------+------------+\n",
      "generator scan ['16f3b52c'] (scan num: 12)\n",
      "\n",
      "\n",
      "\n"
     ]
    },
    {
     "data": {
      "text/plain": [
       "('49ed218e-117d-43c0-a476-7c365ec4a65d',\n",
       " 'b79f98e7-74e8-4252-ad56-926e1a3bd857',\n",
       " '16f3b52c-a42b-45c7-96ee-01132a4dea18')"
      ]
     },
     "execution_count": 19,
     "metadata": {},
     "output_type": "execute_result"
    }
   ],
   "source": [
    "# The plan_stubs module contains smaller plans.\n",
    "# They can be used alone or as buildling blocks for larger plans.\n",
    "from bluesky.plan_stubs import mv\n",
    "\n",
    "\n",
    "def sweep_exposure_time(times):\n",
    "    \"Multiple scans: one per exposure time setting.\"\n",
    "    for t in times:\n",
    "        yield from mv(det.exp, t)\n",
    "        yield from scan([det], motor, -10, 10, 5)\n",
    "        \n",
    "RE(sweep_exposure_time([0.01, 0.1, 1]))"
   ]
  },
  {
   "cell_type": "code",
   "execution_count": 20,
   "metadata": {},
   "outputs": [
    {
     "data": {
      "image/png": "[encoded data removed]",
      "text/plain": [
       "<Figure size 640x400 with 1 Axes>"
      ]
     },
     "execution_count": 20,
     "metadata": {},
     "output_type": "execute_result"
    }
   ],
   "source": [
    "plt.gcf()  # Display a snapshot of the current state of the figure."
   ]
  },
  {
   "cell_type": "markdown",
   "metadata": {},
   "source": [
    "## Exercises"
   ]
  },
  {
   "cell_type": "markdown",
   "metadata": {},
   "source": [
    "Q1: Above we ran a `count` with multiple readings separated by a fixed delay. The ``delay`` parameter also accepts a list of values. Try a `count` with a variable delay.\n"
   ]
  },
  {
   "cell_type": "code",
   "execution_count": 21,
   "metadata": {},
   "outputs": [],
   "source": [
    "# Try your solution here. Fill in the blank:\n",
    "# RE(count(____)))"
   ]
  },
  {
   "cell_type": "markdown",
   "metadata": {},
   "source": [
    "Execute the following cell to reveal a solution:"
   ]
  },
  {
   "cell_type": "code",
   "execution_count": 22,
   "metadata": {},
   "outputs": [],
   "source": [
    "%load solutions/count_variable_delay.py"
   ]
  },
  {
   "cell_type": "markdown",
   "metadata": {},
   "source": [
    "Q2: Write a custom plan that scans the same region twice, first with coarse steps and then with fine steps."
   ]
  },
  {
   "cell_type": "code",
   "execution_count": 23,
   "metadata": {},
   "outputs": [],
   "source": [
    "# Try your solution here. Fill in the blank:\n",
    "# def coarse_and_fine(detectors, motor, start, stop):\n",
    "#     yield from scan(___)\n",
    "#     yield from scan(___)\n",
    "#\n",
    "# RE(coarse_and_fine([det], motor, -10, 10))"
   ]
  },
  {
   "cell_type": "code",
   "execution_count": 24,
   "metadata": {},
   "outputs": [],
   "source": [
    "%load solutions/scan_coarse_and_fine.py"
   ]
  },
  {
   "cell_type": "markdown",
   "metadata": {},
   "source": [
    "Q3. All of the usages of scan we have seen so far scan from negative to positive. Scan from positive to negative."
   ]
  },
  {
   "cell_type": "code",
   "execution_count": 25,
   "metadata": {},
   "outputs": [],
   "source": [
    "# Try your solution here."
   ]
  },
  {
   "cell_type": "code",
   "execution_count": 26,
   "metadata": {},
   "outputs": [],
   "source": [
    "%load solutions/scan_positive_to_negative.py"
   ]
  },
  {
   "cell_type": "markdown",
   "metadata": {},
   "source": [
    "Q4: The ``scan`` plan samples equally-spaced points. To sample *arbitrary* points, you can use ``list_scan``. Import it from the same module that we imported ``scan`` from, then use ``list_scan?`` to view its documentation and figure out how to use it. Scan the positions ``[1, 1, 2, 3, 5, 8]``."
   ]
  },
  {
   "cell_type": "code",
   "execution_count": 27,
   "metadata": {},
   "outputs": [],
   "source": [
    "# Try your solution here."
   ]
  },
  {
   "cell_type": "code",
   "execution_count": 28,
   "metadata": {},
   "outputs": [],
   "source": [
    "%load solutions/scan_fibonacci.py"
   ]
  },
  {
   "cell_type": "markdown",
   "metadata": {},
   "source": [
    "Q5: What's wrong with this? (What does it do?)"
   ]
  },
  {
   "cell_type": "code",
   "execution_count": 29,
   "metadata": {},
   "outputs": [],
   "source": [
    "# Broken example\n",
    "def sweep_exposure_time(times):\n",
    "    \"Multiple scans: one per exposure time setting.\"\n",
    "    for t in times:\n",
    "        mv(det.exp, t)\n",
    "        scan([det], motor, -10, 10, 15)"
   ]
  },
  {
   "cell_type": "code",
   "execution_count": 30,
   "metadata": {},
   "outputs": [],
   "source": [
    "%load solutions/broken_sweep_exposure_time_explanation.txt"
   ]
  }
 ],
 "metadata": {
  "kernelspec": {
   "display_name": "Python 3",
   "language": "python",
   "name": "python3"
  },
  "language_info": {
   "codemirror_mode": {
    "name": "ipython",
    "version": 3
   },
   "file_extension": ".py",
   "mimetype": "text/x-python",
   "name": "python",
   "nbconvert_exporter": "python",
   "pygments_lexer": "ipython3",
   "version": "3.7.1"
  },
  "widgets": {
   "application/vnd.jupyter.widget-state+json": {
    "state": {
     "1cbf67d38e784591a6e18d95935979e5": {
      "model_module": "@jupyter-widgets/base",
      "model_module_version": "1.2.0",
      "model_name": "LayoutModel",
      "state": {
       "_model_module": "@jupyter-widgets/base",
       "_model_module_version": "1.2.0",
       "_model_name": "LayoutModel",
       "_view_count": null,
       "_view_module": "@jupyter-widgets/base",
       "_view_module_version": "1.2.0",
       "_view_name": "LayoutView",
       "align_content": null,
       "align_items": null,
       "align_self": null,
       "border": null,
       "bottom": null,
       "display": null,
       "flex": null,
       "flex_flow": null,
       "grid_area": null,
       "grid_auto_columns": null,
       "grid_auto_flow": null,
       "grid_auto_rows": null,
       "grid_column": null,
       "grid_gap": null,
       "grid_row": null,
       "grid_template_areas": null,
       "grid_template_columns": null,
       "grid_template_rows": null,
       "height": null,
       "justify_content": null,
       "justify_items": null,
       "left": null,
       "margin": null,
       "max_height": null,
       "max_width": null,
       "min_height": null,
       "min_width": null,
       "object_fit": null,
       "object_position": null,
       "order": null,
       "overflow": null,
       "overflow_x": null,
       "overflow_y": null,
       "padding": null,
       "right": null,
       "top": null,
       "visibility": null,
       "width": null
      }
     },
     "269a911400df48489fdc2e1ab180edad": {
      "model_module": "jupyter-matplotlib",
      "model_module_version": "^0.7.2",
      "model_name": "MPLCanvasModel",
      "state": {
       "_cursor": "default",
       "_dom_classes": [],
       "_figure_label": "ph_det vs time",
       "_height": 400,
       "_image_mode": "diff",
       "_message": "",
       "_model_module": "jupyter-matplotlib",
       "_model_module_version": "^0.7.2",
       "_model_name": "MPLCanvasModel",
       "_rubberband_height": 0,
       "_rubberband_width": 0,
       "_rubberband_x": 0,
       "_rubberband_y": 0,
       "_view_count": null,
       "_view_module": "jupyter-matplotlib",
       "_view_module_version": "^0.7.2",
       "_view_name": "MPLCanvasView",
       "_width": 640,
       "footer_visible": true,
       "header_visible": true,
       "layout": "IPY_MODEL_dbe09f2e243e4f86b6c2a3d34ee66ad6",
       "resizable": true,
       "toolbar": "IPY_MODEL_54339de1f7484ef6a8af48d2f9730d40",
       "toolbar_position": "left",
       "toolbar_visible": true
      }
     },
     "45189412c8544019abd7d25ec733eea4": {
      "model_module": "jupyter-matplotlib",
      "model_module_version": "^0.7.2",
      "model_name": "ToolbarModel",
      "state": {
       "_current_action": "",
       "_dom_classes": [],
       "_model_module": "jupyter-matplotlib",
       "_model_module_version": "^0.7.2",
       "_model_name": "ToolbarModel",
       "_view_count": null,
       "_view_module": "jupyter-matplotlib",
       "_view_module_version": "^0.7.2",
       "_view_name": "ToolbarView",
       "button_style": "",
       "collapsed": true,
       "layout": "IPY_MODEL_ddb2ac942f134f898c63cc2c13f19b32",
       "orientation": "vertical",
       "toolitems": [
        [
         "Home",
         "Reset original view",
         "home",
         "home"
        ],
        [
         "Back",
         "Back to previous view",
         "arrow-left",
         "back"
        ],
        [
         "Forward",
         "Forward to next view",
         "arrow-right",
         "forward"
        ],
        [
         "Pan",
         "Pan axes with left mouse, zoom with right",
         "arrows",
         "pan"
        ],
        [
         "Zoom",
         "Zoom to rectangle",
         "square-o",
         "zoom"
        ],
        [
         "Download",
         "Download plot",
         "floppy-o",
         "save_figure"
        ]
       ]
      }
     },
     "54339de1f7484ef6a8af48d2f9730d40": {
      "model_module": "jupyter-matplotlib",
      "model_module_version": "^0.7.2",
      "model_name": "ToolbarModel",
      "state": {
       "_current_action": "",
       "_dom_classes": [],
       "_model_module": "jupyter-matplotlib",
       "_model_module_version": "^0.7.2",
       "_model_name": "ToolbarModel",
       "_view_count": null,
       "_view_module": "jupyter-matplotlib",
       "_view_module_version": "^0.7.2",
       "_view_name": "ToolbarView",
       "button_style": "",
       "collapsed": true,
       "layout": "IPY_MODEL_8725708f23c9462d8c9b3e34736c4f38",
       "orientation": "vertical",
       "toolitems": [
        [
         "Home",
         "Reset original view",
         "home",
         "home"
        ],
        [
         "Back",
         "Back to previous view",
         "arrow-left",
         "back"
        ],
        [
         "Forward",
         "Forward to next view",
         "arrow-right",
         "forward"
        ],
        [
         "Pan",
         "Pan axes with left mouse, zoom with right",
         "arrows",
         "pan"
        ],
        [
         "Zoom",
         "Zoom to rectangle",
         "square-o",
         "zoom"
        ],
        [
         "Download",
         "Download plot",
         "floppy-o",
         "save_figure"
        ]
       ]
      }
     },
     "5a6e7d010496480f899a5ca7ed37b067": {
      "model_module": "jupyter-matplotlib",
      "model_module_version": "^0.7.2",
      "model_name": "MPLCanvasModel",
      "state": {
       "_cursor": "pointer",
       "_dom_classes": [],
       "_figure_label": "ph_det vs motor_ph",
       "_height": 400,
       "_image_mode": "diff",
       "_message": "",
       "_model_module": "jupyter-matplotlib",
       "_model_module_version": "^0.7.2",
       "_model_name": "MPLCanvasModel",
       "_rubberband_height": 0,
       "_rubberband_width": 0,
       "_rubberband_x": 0,
       "_rubberband_y": 0,
       "_view_count": null,
       "_view_module": "jupyter-matplotlib",
       "_view_module_version": "^0.7.2",
       "_view_name": "MPLCanvasView",
       "_width": 640,
       "footer_visible": true,
       "header_visible": true,
       "layout": "IPY_MODEL_1cbf67d38e784591a6e18d95935979e5",
       "resizable": true,
       "toolbar": "IPY_MODEL_45189412c8544019abd7d25ec733eea4",
       "toolbar_position": "left",
       "toolbar_visible": true
      }
     },
     "8725708f23c9462d8c9b3e34736c4f38": {
      "model_module": "@jupyter-widgets/base",
      "model_module_version": "1.2.0",
      "model_name": "LayoutModel",
      "state": {
       "_model_module": "@jupyter-widgets/base",
       "_model_module_version": "1.2.0",
       "_model_name": "LayoutModel",
       "_view_count": null,
       "_view_module": "@jupyter-widgets/base",
       "_view_module_version": "1.2.0",
       "_view_name": "LayoutView",
       "align_content": null,
       "align_items": null,
       "align_self": null,
       "border": null,
       "bottom": null,
       "display": null,
       "flex": null,
       "flex_flow": null,
       "grid_area": null,
       "grid_auto_columns": null,
       "grid_auto_flow": null,
       "grid_auto_rows": null,
       "grid_column": null,
       "grid_gap": null,
       "grid_row": null,
       "grid_template_areas": null,
       "grid_template_columns": null,
       "grid_template_rows": null,
       "height": null,
       "justify_content": null,
       "justify_items": null,
       "left": null,
       "margin": null,
       "max_height": null,
       "max_width": null,
       "min_height": null,
       "min_width": null,
       "object_fit": null,
       "object_position": null,
       "order": null,
       "overflow": null,
       "overflow_x": null,
       "overflow_y": null,
       "padding": null,
       "right": null,
       "top": null,
       "visibility": null,
       "width": null
      }
     },
     "dbe09f2e243e4f86b6c2a3d34ee66ad6": {
      "model_module": "@jupyter-widgets/base",
      "model_module_version": "1.2.0",
      "model_name": "LayoutModel",
      "state": {
       "_model_module": "@jupyter-widgets/base",
       "_model_module_version": "1.2.0",
       "_model_name": "LayoutModel",
       "_view_count": null,
       "_view_module": "@jupyter-widgets/base",
       "_view_module_version": "1.2.0",
       "_view_name": "LayoutView",
       "align_content": null,
       "align_items": null,
       "align_self": null,
       "border": null,
       "bottom": null,
       "display": null,
       "flex": null,
       "flex_flow": null,
       "grid_area": null,
       "grid_auto_columns": null,
       "grid_auto_flow": null,
       "grid_auto_rows": null,
       "grid_column": null,
       "grid_gap": null,
       "grid_row": null,
       "grid_template_areas": null,
       "grid_template_columns": null,
       "grid_template_rows": null,
       "height": null,
       "justify_content": null,
       "justify_items": null,
       "left": null,
       "margin": null,
       "max_height": null,
       "max_width": null,
       "min_height": null,
       "min_width": null,
       "object_fit": null,
       "object_position": null,
       "order": null,
       "overflow": null,
       "overflow_x": null,
       "overflow_y": null,
       "padding": null,
       "right": null,
       "top": null,
       "visibility": null,
       "width": null
      }
     },
     "ddb2ac942f134f898c63cc2c13f19b32": {
      "model_module": "@jupyter-widgets/base",
      "model_module_version": "1.2.0",
      "model_name": "LayoutModel",
      "state": {
       "_model_module": "@jupyter-widgets/base",
       "_model_module_version": "1.2.0",
       "_model_name": "LayoutModel",
       "_view_count": null,
       "_view_module": "@jupyter-widgets/base",
       "_view_module_version": "1.2.0",
       "_view_name": "LayoutView",
       "align_content": null,
       "align_items": null,
       "align_self": null,
       "border": null,
       "bottom": null,
       "display": null,
       "flex": null,
       "flex_flow": null,
       "grid_area": null,
       "grid_auto_columns": null,
       "grid_auto_flow": null,
       "grid_auto_rows": null,
       "grid_column": null,
       "grid_gap": null,
       "grid_row": null,
       "grid_template_areas": null,
       "grid_template_columns": null,
       "grid_template_rows": null,
       "height": null,
       "justify_content": null,
       "justify_items": null,
       "left": null,
       "margin": null,
       "max_height": null,
       "max_width": null,
       "min_height": null,
       "min_width": null,
       "object_fit": null,
       "object_position": null,
       "order": null,
       "overflow": null,
       "overflow_x": null,
       "overflow_y": null,
       "padding": null,
       "right": null,
       "top": null,
       "visibility": null,
       "width": null
      }
     }
    },
    "version_major": 2,
    "version_minor": 0
   }
  }
 },
 "nbformat": 4,
 "nbformat_minor": 4
}
