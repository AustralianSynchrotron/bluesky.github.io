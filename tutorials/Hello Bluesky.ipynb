{
 "cells": [
  {
   "cell_type": "markdown",
   "metadata": {},
   "source": [
    "# Hello Bluesky: Reading detectors and scanning\n",
    "\n",
    "In this notebook you will:\n",
    "\n",
    "* Connect to some simulated hardware.\n",
    "* Acquire some data via two common experimental procedures (\"plans\"), ``count`` and ``scan``.\n",
    "* Write a custom plan.\n",
    "\n",
    "Recommend Prerequisites:\n",
    "\n",
    "* [Hello Python and Jupyter](./Hello%20Python%20and%20Jupyter.ipynb)"
   ]
  },
  {
   "cell_type": "markdown",
   "metadata": {},
   "source": [
    "## Configuration\n",
    "Below, we will connect to EPICS IOC(s) controlling simulated hardware in lieu of actual motors and detectors. An EPICS IOC is control system software that allows communication with a wide variety of hardware using a common interface. The IOCs should already be running in the background. Run this command to verify that they are running: it should produce output with RUNNING on each line. In the event of a problem, edit this command to replace `status` with `restart all` and run again."
   ]
  },
  {
   "cell_type": "code",
   "execution_count": 1,
   "metadata": {},
   "outputs": [],
   "source": [
    "%matplotlib widget"
   ]
  },
  {
   "cell_type": "code",
   "execution_count": 2,
   "metadata": {},
   "outputs": [
    {
     "name": "stdout",
     "output_type": "stream",
     "text": [
      "decay                            RUNNING   pid 4873, uptime 0:01:23\r\n",
      "mini_beamline                    RUNNING   pid 4874, uptime 0:01:23\r\n",
      "random_walk                      RUNNING   pid 4875, uptime 0:01:23\r\n",
      "random_walk_horiz                RUNNING   pid 4876, uptime 0:01:23\r\n",
      "random_walk_vert                 RUNNING   pid 4877, uptime 0:01:23\r\n",
      "simple                           RUNNING   pid 4878, uptime 0:01:23\r\n",
      "thermo_sim                       RUNNING   pid 4879, uptime 0:01:23\r\n",
      "trigger_with_pc                  RUNNING   pid 4880, uptime 0:01:23\r\n"
     ]
    }
   ],
   "source": [
    "!supervisorctl -c supervisor/supervisord.conf status"
   ]
  },
  {
   "cell_type": "code",
   "execution_count": 3,
   "metadata": {},
   "outputs": [
    {
     "name": "stderr",
     "output_type": "stream",
     "text": [
      "/home/travis/virtualenv/python3.7.1/lib/python3.7/site-packages/pims/image_reader.py:26: RuntimeWarning: PIMS image_reader.py could not find scikit-image. Falling back to matplotlib's imread(), which uses floats instead of integers. This may break your scripts. \n",
      "(To ignore this warning, include the line \"warnings.simplefilter(\"ignore\", RuntimeWarning)\" in your script.)\n",
      "  warnings.warn(RuntimeWarning(ski_preferred))\n"
     ]
    }
   ],
   "source": [
    "%run scripts/beamline_configuration.py"
   ]
  },
  {
   "cell_type": "code",
   "execution_count": 4,
   "metadata": {},
   "outputs": [],
   "source": [
    "# aliases for convenience/readability\n",
    "motor = motor_ph\n",
    "det = ph"
   ]
  },
  {
   "cell_type": "markdown",
   "metadata": {},
   "source": [
    "Check that we can communicate with the hardware. If this doesn't raise an error, it worked."
   ]
  },
  {
   "cell_type": "code",
   "execution_count": 5,
   "metadata": {},
   "outputs": [],
   "source": [
    "det.wait_for_connection()"
   ]
  },
  {
   "cell_type": "markdown",
   "metadata": {},
   "source": [
    "## Data Acquisition\n",
    "\n",
    "### Executing a `count` plan with various parameters"
   ]
  },
  {
   "cell_type": "markdown",
   "metadata": {},
   "source": [
    "In the example below, the Bluesky run engine is the interpreter of experiment plans and `count` is an experiment plan used here to acquire one reading from a point detector."
   ]
  },
  {
   "cell_type": "code",
   "execution_count": 6,
   "metadata": {},
   "outputs": [
    {
     "name": "stdout",
     "output_type": "stream",
     "text": [
      "\n",
      "\n",
      "Transient Scan ID: 6     Time: 2020-07-02 20:48:35\n",
      "Persistent Unique Scan ID: 'ee949f5c-6753-4a42-a22d-d5b9feae6388'\n",
      "New stream: 'primary'\n",
      "+-----------+------------+------------+\n",
      "|   seq_num |       time |     ph_det |\n",
      "+-----------+------------+------------+\n",
      "|         1 | 20:48:35.2 |      93044 |\n",
      "+-----------+------------+------------+\n",
      "generator count ['ee949f5c'] (scan num: 6)\n",
      "\n",
      "\n",
      "\n"
     ]
    },
    {
     "data": {
      "text/plain": [
       "('ee949f5c-6753-4a42-a22d-d5b9feae6388',)"
      ]
     },
     "execution_count": 6,
     "metadata": {},
     "output_type": "execute_result"
    }
   ],
   "source": [
    "from bluesky.plans import count\n",
    "RE(count([det]))"
   ]
  },
  {
   "cell_type": "markdown",
   "metadata": {},
   "source": [
    "The return value is a list of the run IDs that uniquely identify this data set. The \"scan num\" is easier to remember but is not good for long-term reference because it may not be unique.\n",
    "\n",
    "Let's looks at the documentation for `count` to see what our other options are."
   ]
  },
  {
   "cell_type": "code",
   "execution_count": 7,
   "metadata": {},
   "outputs": [
    {
     "name": "stdout",
     "output_type": "stream",
     "text": [
      "Help on function count in module bluesky.plans:\n",
      "\n",
      "count(detectors, num=1, delay=None, *, per_shot=None, md=None)\n",
      "    Take one or more readings from detectors.\n",
      "    \n",
      "    Parameters\n",
      "    ----------\n",
      "    detectors : list\n",
      "        list of 'readable' objects\n",
      "    num : integer, optional\n",
      "        number of readings to take; default is 1\n",
      "    \n",
      "        If None, capture data until canceled\n",
      "    delay : iterable or scalar, optional\n",
      "        Time delay in seconds between successive readings; default is 0.\n",
      "    per_shot : callable, optional\n",
      "        hook for customizing action of inner loop (messages per step)\n",
      "        Expected signature ::\n",
      "    \n",
      "           def f(detectors: Iterable[OphydObj]) -> Generator[Msg]:\n",
      "               ...\n",
      "    \n",
      "    md : dict, optional\n",
      "        metadata\n",
      "    \n",
      "    Notes\n",
      "    -----\n",
      "    If ``delay`` is an iterable, it must have at least ``num - 1`` entries or\n",
      "    the plan will raise a ``ValueError`` during iteration.\n",
      "\n"
     ]
    }
   ],
   "source": [
    "help(count)  # or, equiavently, type count? or ?count"
   ]
  },
  {
   "cell_type": "code",
   "execution_count": 8,
   "metadata": {
    "nbsphinx": "hidden"
   },
   "outputs": [
    {
     "data": {
      "application/vnd.jupyter.widget-view+json": {
       "model_id": "7c5fa60cb99543028621a7771d647e88",
       "version_major": 2,
       "version_minor": 0
      },
      "text/plain": [
       "Canvas(toolbar=Toolbar(toolitems=[('Home', 'Reset original view', 'home', 'home'), ('Back', 'Back to previous …"
      ]
     },
     "metadata": {},
     "output_type": "display_data"
    },
    {
     "data": {
      "text/plain": [
       "<Figure size 640x480 with 0 Axes>"
      ]
     },
     "execution_count": 8,
     "metadata": {},
     "output_type": "execute_result"
    }
   ],
   "source": [
    "# Creating a figure explicitly in advance helps with the\n",
    "# top-to-bottom flow of this notebook, but it is not necessary.\n",
    "# If this is omitted, bluesky will cause a figure to appear\n",
    "# during the RE(...) execution below.\n",
    "plt.figure('ph_det vs time')"
   ]
  },
  {
   "cell_type": "code",
   "execution_count": 9,
   "metadata": {},
   "outputs": [
    {
     "name": "stdout",
     "output_type": "stream",
     "text": [
      "\n",
      "\n",
      "Transient Scan ID: 7     Time: 2020-07-02 20:48:35\n",
      "Persistent Unique Scan ID: 'eb2c3c68-4dd8-4650-8b2e-6ff8c0bc0690'\n",
      "New stream: 'primary'\n"
     ]
    },
    {
     "name": "stdout",
     "output_type": "stream",
     "text": [
      "+-----------+------------+------------+\n",
      "|   seq_num |       time |     ph_det |\n",
      "+-----------+------------+------------+\n",
      "|         1 | 20:48:35.5 |      93380 |\n",
      "|         2 | 20:48:35.5 |      92742 |\n",
      "|         3 | 20:48:35.5 |      93262 |\n",
      "|         4 | 20:48:35.5 |      93138 |\n",
      "|         5 | 20:48:35.5 |      93285 |\n"
     ]
    },
    {
     "name": "stdout",
     "output_type": "stream",
     "text": [
      "+-----------+------------+------------+\n",
      "generator count ['eb2c3c68'] (scan num: 7)\n",
      "\n",
      "\n",
      "\n"
     ]
    },
    {
     "data": {
      "text/plain": [
       "('eb2c3c68-4dd8-4650-8b2e-6ff8c0bc0690',)"
      ]
     },
     "execution_count": 9,
     "metadata": {},
     "output_type": "execute_result"
    }
   ],
   "source": [
    "# five consecutive readings\n",
    "RE(count([det], num=5))"
   ]
  },
  {
   "cell_type": "code",
   "execution_count": 10,
   "metadata": {},
   "outputs": [
    {
     "data": {
      "image/png": "[encoded data removed]",
      "text/plain": [
       "<Figure size 640x400 with 1 Axes>"
      ]
     },
     "execution_count": 10,
     "metadata": {},
     "output_type": "execute_result"
    }
   ],
   "source": [
    "plt.gcf()  # Display a snapshot of the current state of the figure."
   ]
  },
  {
   "cell_type": "code",
   "execution_count": 11,
   "metadata": {
    "nbsphinx": "hidden"
   },
   "outputs": [
    {
     "data": {
      "application/vnd.jupyter.widget-view+json": {
       "model_id": "7c5fa60cb99543028621a7771d647e88",
       "version_major": 2,
       "version_minor": 0
      },
      "text/plain": [
       "Canvas(toolbar=Toolbar(toolitems=[('Home', 'Reset original view', 'home', 'home'), ('Back', 'Back to previous …"
      ]
     },
     "metadata": {},
     "output_type": "display_data"
    }
   ],
   "source": [
    "plt.gcf().canvas  # To avoid needing to scroll up, display the interactive canvas again here."
   ]
  },
  {
   "cell_type": "code",
   "execution_count": 12,
   "metadata": {},
   "outputs": [
    {
     "name": "stdout",
     "output_type": "stream",
     "text": [
      "\n",
      "\n",
      "Transient Scan ID: 8     Time: 2020-07-02 20:48:36\n",
      "Persistent Unique Scan ID: '2a53f37c-3bd4-410b-ac16-2e712d6a7215'\n",
      "New stream: 'primary'\n",
      "+-----------+------------+------------+\n",
      "|   seq_num |       time |     ph_det |\n",
      "+-----------+------------+------------+\n",
      "|         1 | 20:48:36.0 |      95192 |\n"
     ]
    },
    {
     "name": "stdout",
     "output_type": "stream",
     "text": [
      "|         2 | 20:48:37.0 |     102107 |\n"
     ]
    },
    {
     "name": "stdout",
     "output_type": "stream",
     "text": [
      "|         3 | 20:48:38.0 |     100760 |\n"
     ]
    },
    {
     "name": "stdout",
     "output_type": "stream",
     "text": [
      "|         4 | 20:48:39.0 |      94270 |\n"
     ]
    },
    {
     "name": "stdout",
     "output_type": "stream",
     "text": [
      "|         5 | 20:48:40.0 |      95636 |\n"
     ]
    },
    {
     "name": "stdout",
     "output_type": "stream",
     "text": [
      "+-----------+------------+------------+\n",
      "generator count ['2a53f37c'] (scan num: 8)\n",
      "\n",
      "\n",
      "\n"
     ]
    },
    {
     "data": {
      "text/plain": [
       "('2a53f37c-3bd4-410b-ac16-2e712d6a7215',)"
      ]
     },
     "execution_count": 12,
     "metadata": {},
     "output_type": "execute_result"
    }
   ],
   "source": [
    "# five sequential readings separated by a 1-second delay\n",
    "RE(count([det], num=5, delay=1))"
   ]
  },
  {
   "cell_type": "code",
   "execution_count": 13,
   "metadata": {},
   "outputs": [
    {
     "data": {
      "image/png": "[encoded data removed]",
      "text/plain": [
       "<Figure size 640x400 with 1 Axes>"
      ]
     },
     "execution_count": 13,
     "metadata": {},
     "output_type": "execute_result"
    }
   ],
   "source": [
    "plt.gcf()  # Display a snapshot of the current state of the figure."
   ]
  },
  {
   "cell_type": "markdown",
   "metadata": {},
   "source": [
    "### Scan\n",
    "\n",
    "Scan ``motor`` from -10 to 10, stopping at 15 equally-spaced points along the way and reading ``det``."
   ]
  },
  {
   "cell_type": "code",
   "execution_count": 14,
   "metadata": {
    "nbsphinx": "hidden"
   },
   "outputs": [
    {
     "data": {
      "application/vnd.jupyter.widget-view+json": {
       "model_id": "5aed144509d44583b3a01680ed38d14a",
       "version_major": 2,
       "version_minor": 0
      },
      "text/plain": [
       "Canvas(toolbar=Toolbar(toolitems=[('Home', 'Reset original view', 'home', 'home'), ('Back', 'Back to previous …"
      ]
     },
     "metadata": {},
     "output_type": "display_data"
    },
    {
     "data": {
      "text/plain": [
       "<Figure size 640x480 with 0 Axes>"
      ]
     },
     "execution_count": 14,
     "metadata": {},
     "output_type": "execute_result"
    }
   ],
   "source": [
    "# Creating a figure explicitly in advance helps with the\n",
    "# top-to-bottom flow of this notebook, but it is not necessary.\n",
    "# If this is omitted, bluesky will cause a figure to appear\n",
    "# during the RE(...) execution below.\n",
    "plt.figure('ph_det vs motor_ph')"
   ]
  },
  {
   "cell_type": "code",
   "execution_count": 15,
   "metadata": {},
   "outputs": [
    {
     "name": "stdout",
     "output_type": "stream",
     "text": [
      "\n",
      "\n",
      "Transient Scan ID: 9     Time: 2020-07-02 20:48:41\n",
      "Persistent Unique Scan ID: 'beea3dbc-b5b5-49e7-97d1-3bf8ee58d2b8'\n"
     ]
    },
    {
     "name": "stdout",
     "output_type": "stream",
     "text": [
      "New stream: 'primary'\n",
      "+-----------+------------+------------+------------+\n",
      "|   seq_num |       time |   motor_ph |     ph_det |\n",
      "+-----------+------------+------------+------------+\n",
      "|         1 | 20:48:41.7 |    -10.000 |      14232 |\n",
      "|         2 | 20:48:41.8 |     -8.571 |      23739 |\n",
      "|         3 | 20:48:41.8 |     -7.143 |      37234 |\n",
      "|         4 | 20:48:41.8 |     -5.714 |      54141 |\n",
      "|         5 | 20:48:41.8 |     -4.286 |      71759 |\n",
      "|         6 | 20:48:41.9 |     -2.857 |      87112 |\n"
     ]
    },
    {
     "name": "stdout",
     "output_type": "stream",
     "text": [
      "|         7 | 20:48:41.9 |     -1.429 |      98668 |\n",
      "|         8 | 20:48:41.9 |      0.000 |     103278 |\n",
      "|         9 | 20:48:41.9 |      1.429 |      99125 |\n",
      "|        10 | 20:48:41.9 |      2.857 |      87885 |\n",
      "|        11 | 20:48:41.9 |      4.286 |      71426 |\n",
      "|        12 | 20:48:41.9 |      5.714 |      53661 |\n",
      "|        13 | 20:48:41.9 |      7.143 |      37078 |\n",
      "|        14 | 20:48:41.9 |      8.571 |      23291 |\n",
      "|        15 | 20:48:42.0 |     10.000 |      13891 |\n",
      "+-----------+------------+------------+------------+\n",
      "generator scan ['beea3dbc'] (scan num: 9)\n",
      "\n",
      "\n",
      "\n"
     ]
    },
    {
     "data": {
      "text/plain": [
       "('beea3dbc-b5b5-49e7-97d1-3bf8ee58d2b8',)"
      ]
     },
     "execution_count": 15,
     "metadata": {},
     "output_type": "execute_result"
    }
   ],
   "source": [
    "RE(scan([det], motor, -10, 10, 15))"
   ]
  },
  {
   "cell_type": "code",
   "execution_count": 16,
   "metadata": {},
   "outputs": [
    {
     "data": {
      "image/png": "[encoded data removed]",
      "text/plain": [
       "<Figure size 640x400 with 1 Axes>"
      ]
     },
     "execution_count": 16,
     "metadata": {},
     "output_type": "execute_result"
    }
   ],
   "source": [
    "plt.gcf()  # Display a snapshot of the current state of the figure."
   ]
  },
  {
   "cell_type": "markdown",
   "metadata": {},
   "source": [
    "### Simulators\n",
    "\n",
    "Bluesky includes utilities to inspecting plans before they are run. You can imagine various reasons you might want to do this. Example:"
   ]
  },
  {
   "cell_type": "code",
   "execution_count": 17,
   "metadata": {},
   "outputs": [
    {
     "name": "stdout",
     "output_type": "stream",
     "text": [
      "=================================== Open Run ===================================\n",
      "motor_ph -> -1.0\n",
      "  Read ['ph', 'motor_ph']\n",
      "motor_ph -> 0.0\n",
      "  Read ['ph', 'motor_ph']\n",
      "motor_ph -> 1.0\n",
      "  Read ['ph', 'motor_ph']\n",
      "================================== Close Run ===================================\n"
     ]
    }
   ],
   "source": [
    "from bluesky.simulators import summarize_plan\n",
    "\n",
    "summarize_plan(scan([det], motor, -1, 1, 3))"
   ]
  },
  {
   "cell_type": "markdown",
   "metadata": {},
   "source": [
    "### Custom plan\n",
    "\n",
    "Define a custom \"plan\", using the Python syntax ``yield from`` to dispatch out to built-in plans."
   ]
  },
  {
   "cell_type": "code",
   "execution_count": 18,
   "metadata": {
    "nbsphinx": "hidden"
   },
   "outputs": [
    {
     "data": {
      "application/vnd.jupyter.widget-view+json": {
       "model_id": "5aed144509d44583b3a01680ed38d14a",
       "version_major": 2,
       "version_minor": 0
      },
      "text/plain": [
       "Canvas(toolbar=Toolbar(toolitems=[('Home', 'Reset original view', 'home', 'home'), ('Back', 'Back to previous …"
      ]
     },
     "metadata": {},
     "output_type": "display_data"
    }
   ],
   "source": [
    "plt.gcf().canvas  # To avoid needing to scroll up, display the interactive canvas again here."
   ]
  },
  {
   "cell_type": "code",
   "execution_count": 19,
   "metadata": {},
   "outputs": [
    {
     "name": "stdout",
     "output_type": "stream",
     "text": [
      "\n",
      "\n",
      "Transient Scan ID: 10     Time: 2020-07-02 20:48:42\n",
      "Persistent Unique Scan ID: '4d2c6a9e-f83b-418a-a798-bbf5a7529645'\n"
     ]
    },
    {
     "name": "stdout",
     "output_type": "stream",
     "text": [
      "New stream: 'primary'\n",
      "+-----------+------------+------------+------------+\n",
      "|   seq_num |       time |   motor_ph |     ph_det |\n",
      "+-----------+------------+------------+------------+\n",
      "|         1 | 20:48:42.9 |    -10.000 |        132 |\n",
      "|         2 | 20:48:43.0 |     -5.000 |        604 |\n"
     ]
    },
    {
     "name": "stdout",
     "output_type": "stream",
     "text": [
      "|         3 | 20:48:43.1 |      0.000 |        939 |\n",
      "|         4 | 20:48:43.2 |      5.000 |        584 |\n"
     ]
    },
    {
     "name": "stdout",
     "output_type": "stream",
     "text": [
      "|         5 | 20:48:43.3 |     10.000 |        113 |\n",
      "+-----------+------------+------------+------------+\n",
      "generator scan ['4d2c6a9e'] (scan num: 10)\n",
      "\n",
      "\n",
      "\n",
      "\n",
      "\n",
      "Transient Scan ID: 11     Time: 2020-07-02 20:48:43\n",
      "Persistent Unique Scan ID: 'a0a22697-9a0f-4681-a29c-db59c6c9cd09'\n"
     ]
    },
    {
     "name": "stdout",
     "output_type": "stream",
     "text": [
      "New stream: 'primary'\n",
      "+-----------+------------+------------+------------+\n",
      "|   seq_num |       time |   motor_ph |     ph_det |\n",
      "+-----------+------------+------------+------------+\n",
      "|         1 | 20:48:43.9 |    -10.000 |       1296 |\n",
      "|         2 | 20:48:44.0 |     -5.000 |       5933 |\n"
     ]
    },
    {
     "name": "stdout",
     "output_type": "stream",
     "text": [
      "|         3 | 20:48:44.2 |      0.000 |       9817 |\n",
      "|         4 | 20:48:44.3 |      5.000 |       6006 |\n"
     ]
    },
    {
     "name": "stdout",
     "output_type": "stream",
     "text": [
      "|         5 | 20:48:44.4 |     10.000 |       1381 |\n",
      "+-----------+------------+------------+------------+\n",
      "generator scan ['a0a22697'] (scan num: 11)\n",
      "\n",
      "\n",
      "\n",
      "\n",
      "\n",
      "Transient Scan ID: 12     Time: 2020-07-02 20:48:44\n",
      "Persistent Unique Scan ID: 'e925147d-e555-49b3-a2cb-fe7921cbd010'\n"
     ]
    },
    {
     "name": "stdout",
     "output_type": "stream",
     "text": [
      "New stream: 'primary'\n",
      "+-----------+------------+------------+------------+\n",
      "|   seq_num |       time |   motor_ph |     ph_det |\n",
      "+-----------+------------+------------+------------+\n",
      "|         1 | 20:48:45.0 |    -10.000 |      14086 |\n",
      "|         2 | 20:48:45.1 |     -5.000 |      63367 |\n"
     ]
    },
    {
     "name": "stdout",
     "output_type": "stream",
     "text": [
      "|         3 | 20:48:45.2 |      0.000 |     104854 |\n",
      "|         4 | 20:48:45.3 |      5.000 |      63359 |\n"
     ]
    },
    {
     "name": "stdout",
     "output_type": "stream",
     "text": [
      "|         5 | 20:48:45.4 |     10.000 |      13980 |\n",
      "+-----------+------------+------------+------------+\n",
      "generator scan ['e925147d'] (scan num: 12)\n",
      "\n",
      "\n",
      "\n"
     ]
    },
    {
     "data": {
      "text/plain": [
       "('4d2c6a9e-f83b-418a-a798-bbf5a7529645',\n",
       " 'a0a22697-9a0f-4681-a29c-db59c6c9cd09',\n",
       " 'e925147d-e555-49b3-a2cb-fe7921cbd010')"
      ]
     },
     "execution_count": 19,
     "metadata": {},
     "output_type": "execute_result"
    }
   ],
   "source": [
    "# The plan_stubs module contains smaller plans.\n",
    "# They can be used alone or as buildling blocks for larger plans.\n",
    "from bluesky.plan_stubs import mv\n",
    "\n",
    "\n",
    "def sweep_exposure_time(times):\n",
    "    \"Multiple scans: one per exposure time setting.\"\n",
    "    for t in times:\n",
    "        yield from mv(det.exp, t)\n",
    "        yield from scan([det], motor, -10, 10, 5)\n",
    "        \n",
    "RE(sweep_exposure_time([0.01, 0.1, 1]))"
   ]
  },
  {
   "cell_type": "code",
   "execution_count": 20,
   "metadata": {},
   "outputs": [
    {
     "data": {
      "image/png": "[encoded data removed]",
      "text/plain": [
       "<Figure size 640x400 with 1 Axes>"
      ]
     },
     "execution_count": 20,
     "metadata": {},
     "output_type": "execute_result"
    }
   ],
   "source": [
    "plt.gcf()  # Display a snapshot of the current state of the figure."
   ]
  },
  {
   "cell_type": "markdown",
   "metadata": {},
   "source": [
    "## Exercises"
   ]
  },
  {
   "cell_type": "markdown",
   "metadata": {},
   "source": [
    "Q1: Above we ran a `count` with multiple readings separated by a fixed delay. The ``delay`` parameter also accepts a list of values. Try a `count` with a variable delay.\n"
   ]
  },
  {
   "cell_type": "code",
   "execution_count": 21,
   "metadata": {},
   "outputs": [],
   "source": [
    "# Try your solution here. Fill in the blank:\n",
    "# RE(count(____)))"
   ]
  },
  {
   "cell_type": "markdown",
   "metadata": {},
   "source": [
    "Execute the following cell to reveal a solution:"
   ]
  },
  {
   "cell_type": "code",
   "execution_count": 22,
   "metadata": {},
   "outputs": [],
   "source": [
    "%load solutions/count_variable_delay.py"
   ]
  },
  {
   "cell_type": "markdown",
   "metadata": {},
   "source": [
    "Q2: Write a custom plan that scans the same region twice, first with coarse steps and then with fine steps."
   ]
  },
  {
   "cell_type": "code",
   "execution_count": 23,
   "metadata": {},
   "outputs": [],
   "source": [
    "# Try your solution here. Fill in the blank:\n",
    "# def coarse_and_fine(detectors, motor, start, stop):\n",
    "#     yield from scan(___)\n",
    "#     yield from scan(___)\n",
    "#\n",
    "# RE(coarse_and_fine([det], motor, -10, 10))"
   ]
  },
  {
   "cell_type": "code",
   "execution_count": 24,
   "metadata": {},
   "outputs": [],
   "source": [
    "%load solutions/scan_coarse_and_fine.py"
   ]
  },
  {
   "cell_type": "markdown",
   "metadata": {},
   "source": [
    "Q3. All of the usages of scan we have seen so far scan from negative to positive. Scan from positive to negative."
   ]
  },
  {
   "cell_type": "code",
   "execution_count": 25,
   "metadata": {},
   "outputs": [],
   "source": [
    "# Try your solution here."
   ]
  },
  {
   "cell_type": "code",
   "execution_count": 26,
   "metadata": {},
   "outputs": [],
   "source": [
    "%load solutions/scan_positive_to_negative.py"
   ]
  },
  {
   "cell_type": "markdown",
   "metadata": {},
   "source": [
    "Q4: The ``scan`` plan samples equally-spaced points. To sample *arbitrary* points, you can use ``list_scan``. Import it from the same module that we imported ``scan`` from, then use ``list_scan?`` to view its documentation and figure out how to use it. Scan the positions ``[1, 1, 2, 3, 5, 8]``."
   ]
  },
  {
   "cell_type": "code",
   "execution_count": 27,
   "metadata": {},
   "outputs": [],
   "source": [
    "# Try your solution here."
   ]
  },
  {
   "cell_type": "code",
   "execution_count": 28,
   "metadata": {},
   "outputs": [],
   "source": [
    "%load solutions/scan_fibonacci.py"
   ]
  },
  {
   "cell_type": "markdown",
   "metadata": {},
   "source": [
    "Q5: What's wrong with this? (What does it do?)"
   ]
  },
  {
   "cell_type": "code",
   "execution_count": 29,
   "metadata": {},
   "outputs": [],
   "source": [
    "# Broken example\n",
    "def sweep_exposure_time(times):\n",
    "    \"Multiple scans: one per exposure time setting.\"\n",
    "    for t in times:\n",
    "        mv(det.exp, t)\n",
    "        scan([det], motor, -10, 10, 15)"
   ]
  },
  {
   "cell_type": "code",
   "execution_count": 30,
   "metadata": {},
   "outputs": [],
   "source": [
    "%load solutions/broken_sweep_exposure_time_explanation.txt"
   ]
  }
 ],
 "metadata": {
  "kernelspec": {
   "display_name": "Python 3",
   "language": "python",
   "name": "python3"
  },
  "language_info": {
   "codemirror_mode": {
    "name": "ipython",
    "version": 3
   },
   "file_extension": ".py",
   "mimetype": "text/x-python",
   "name": "python",
   "nbconvert_exporter": "python",
   "pygments_lexer": "ipython3",
   "version": "3.7.1"
  },
  "widgets": {
   "application/vnd.jupyter.widget-state+json": {
    "state": {
     "1d076650cd80474a9e6927fad79f297d": {
      "model_module": "@jupyter-widgets/base",
      "model_module_version": "1.2.0",
      "model_name": "LayoutModel",
      "state": {
       "_model_module": "@jupyter-widgets/base",
       "_model_module_version": "1.2.0",
       "_model_name": "LayoutModel",
       "_view_count": null,
       "_view_module": "@jupyter-widgets/base",
       "_view_module_version": "1.2.0",
       "_view_name": "LayoutView",
       "align_content": null,
       "align_items": null,
       "align_self": null,
       "border": null,
       "bottom": null,
       "display": null,
       "flex": null,
       "flex_flow": null,
       "grid_area": null,
       "grid_auto_columns": null,
       "grid_auto_flow": null,
       "grid_auto_rows": null,
       "grid_column": null,
       "grid_gap": null,
       "grid_row": null,
       "grid_template_areas": null,
       "grid_template_columns": null,
       "grid_template_rows": null,
       "height": null,
       "justify_content": null,
       "justify_items": null,
       "left": null,
       "margin": null,
       "max_height": null,
       "max_width": null,
       "min_height": null,
       "min_width": null,
       "object_fit": null,
       "object_position": null,
       "order": null,
       "overflow": null,
       "overflow_x": null,
       "overflow_y": null,
       "padding": null,
       "right": null,
       "top": null,
       "visibility": null,
       "width": null
      }
     },
     "2e6d25e2f9fc4514a8bb3481f95d9c3a": {
      "model_module": "@jupyter-widgets/base",
      "model_module_version": "1.2.0",
      "model_name": "LayoutModel",
      "state": {
       "_model_module": "@jupyter-widgets/base",
       "_model_module_version": "1.2.0",
       "_model_name": "LayoutModel",
       "_view_count": null,
       "_view_module": "@jupyter-widgets/base",
       "_view_module_version": "1.2.0",
       "_view_name": "LayoutView",
       "align_content": null,
       "align_items": null,
       "align_self": null,
       "border": null,
       "bottom": null,
       "display": null,
       "flex": null,
       "flex_flow": null,
       "grid_area": null,
       "grid_auto_columns": null,
       "grid_auto_flow": null,
       "grid_auto_rows": null,
       "grid_column": null,
       "grid_gap": null,
       "grid_row": null,
       "grid_template_areas": null,
       "grid_template_columns": null,
       "grid_template_rows": null,
       "height": null,
       "justify_content": null,
       "justify_items": null,
       "left": null,
       "margin": null,
       "max_height": null,
       "max_width": null,
       "min_height": null,
       "min_width": null,
       "object_fit": null,
       "object_position": null,
       "order": null,
       "overflow": null,
       "overflow_x": null,
       "overflow_y": null,
       "padding": null,
       "right": null,
       "top": null,
       "visibility": null,
       "width": null
      }
     },
     "5aed144509d44583b3a01680ed38d14a": {
      "model_module": "jupyter-matplotlib",
      "model_module_version": "^0.7.2",
      "model_name": "MPLCanvasModel",
      "state": {
       "_cursor": "pointer",
       "_dom_classes": [],
       "_figure_label": "ph_det vs motor_ph",
       "_height": 400,
       "_image_mode": "diff",
       "_message": "",
       "_model_module": "jupyter-matplotlib",
       "_model_module_version": "^0.7.2",
       "_model_name": "MPLCanvasModel",
       "_rubberband_height": 0,
       "_rubberband_width": 0,
       "_rubberband_x": 0,
       "_rubberband_y": 0,
       "_view_count": null,
       "_view_module": "jupyter-matplotlib",
       "_view_module_version": "^0.7.2",
       "_view_name": "MPLCanvasView",
       "_width": 640,
       "footer_visible": true,
       "header_visible": true,
       "layout": "IPY_MODEL_6e42680415014c09873c9d430f9ecf4f",
       "resizable": true,
       "toolbar": "IPY_MODEL_a0ff1736dfc7473db4a58b4b2bcd025d",
       "toolbar_position": "left",
       "toolbar_visible": true
      }
     },
     "6e42680415014c09873c9d430f9ecf4f": {
      "model_module": "@jupyter-widgets/base",
      "model_module_version": "1.2.0",
      "model_name": "LayoutModel",
      "state": {
       "_model_module": "@jupyter-widgets/base",
       "_model_module_version": "1.2.0",
       "_model_name": "LayoutModel",
       "_view_count": null,
       "_view_module": "@jupyter-widgets/base",
       "_view_module_version": "1.2.0",
       "_view_name": "LayoutView",
       "align_content": null,
       "align_items": null,
       "align_self": null,
       "border": null,
       "bottom": null,
       "display": null,
       "flex": null,
       "flex_flow": null,
       "grid_area": null,
       "grid_auto_columns": null,
       "grid_auto_flow": null,
       "grid_auto_rows": null,
       "grid_column": null,
       "grid_gap": null,
       "grid_row": null,
       "grid_template_areas": null,
       "grid_template_columns": null,
       "grid_template_rows": null,
       "height": null,
       "justify_content": null,
       "justify_items": null,
       "left": null,
       "margin": null,
       "max_height": null,
       "max_width": null,
       "min_height": null,
       "min_width": null,
       "object_fit": null,
       "object_position": null,
       "order": null,
       "overflow": null,
       "overflow_x": null,
       "overflow_y": null,
       "padding": null,
       "right": null,
       "top": null,
       "visibility": null,
       "width": null
      }
     },
     "7c5fa60cb99543028621a7771d647e88": {
      "model_module": "jupyter-matplotlib",
      "model_module_version": "^0.7.2",
      "model_name": "MPLCanvasModel",
      "state": {
       "_cursor": "default",
       "_dom_classes": [],
       "_figure_label": "ph_det vs time",
       "_height": 400,
       "_image_mode": "diff",
       "_message": "",
       "_model_module": "jupyter-matplotlib",
       "_model_module_version": "^0.7.2",
       "_model_name": "MPLCanvasModel",
       "_rubberband_height": 0,
       "_rubberband_width": 0,
       "_rubberband_x": 0,
       "_rubberband_y": 0,
       "_view_count": null,
       "_view_module": "jupyter-matplotlib",
       "_view_module_version": "^0.7.2",
       "_view_name": "MPLCanvasView",
       "_width": 640,
       "footer_visible": true,
       "header_visible": true,
       "layout": "IPY_MODEL_2e6d25e2f9fc4514a8bb3481f95d9c3a",
       "resizable": true,
       "toolbar": "IPY_MODEL_cca1ee19a7f046f3abf728ade9ad0e8d",
       "toolbar_position": "left",
       "toolbar_visible": true
      }
     },
     "a0ff1736dfc7473db4a58b4b2bcd025d": {
      "model_module": "jupyter-matplotlib",
      "model_module_version": "^0.7.2",
      "model_name": "ToolbarModel",
      "state": {
       "_current_action": "",
       "_dom_classes": [],
       "_model_module": "jupyter-matplotlib",
       "_model_module_version": "^0.7.2",
       "_model_name": "ToolbarModel",
       "_view_count": null,
       "_view_module": "jupyter-matplotlib",
       "_view_module_version": "^0.7.2",
       "_view_name": "ToolbarView",
       "button_style": "",
       "collapsed": true,
       "layout": "IPY_MODEL_1d076650cd80474a9e6927fad79f297d",
       "orientation": "vertical",
       "toolitems": [
        [
         "Home",
         "Reset original view",
         "home",
         "home"
        ],
        [
         "Back",
         "Back to previous view",
         "arrow-left",
         "back"
        ],
        [
         "Forward",
         "Forward to next view",
         "arrow-right",
         "forward"
        ],
        [
         "Pan",
         "Pan axes with left mouse, zoom with right",
         "arrows",
         "pan"
        ],
        [
         "Zoom",
         "Zoom to rectangle",
         "square-o",
         "zoom"
        ],
        [
         "Download",
         "Download plot",
         "floppy-o",
         "save_figure"
        ]
       ]
      }
     },
     "cca1ee19a7f046f3abf728ade9ad0e8d": {
      "model_module": "jupyter-matplotlib",
      "model_module_version": "^0.7.2",
      "model_name": "ToolbarModel",
      "state": {
       "_current_action": "",
       "_dom_classes": [],
       "_model_module": "jupyter-matplotlib",
       "_model_module_version": "^0.7.2",
       "_model_name": "ToolbarModel",
       "_view_count": null,
       "_view_module": "jupyter-matplotlib",
       "_view_module_version": "^0.7.2",
       "_view_name": "ToolbarView",
       "button_style": "",
       "collapsed": true,
       "layout": "IPY_MODEL_ceeafef20d36416fa0bafa206af400e5",
       "orientation": "vertical",
       "toolitems": [
        [
         "Home",
         "Reset original view",
         "home",
         "home"
        ],
        [
         "Back",
         "Back to previous view",
         "arrow-left",
         "back"
        ],
        [
         "Forward",
         "Forward to next view",
         "arrow-right",
         "forward"
        ],
        [
         "Pan",
         "Pan axes with left mouse, zoom with right",
         "arrows",
         "pan"
        ],
        [
         "Zoom",
         "Zoom to rectangle",
         "square-o",
         "zoom"
        ],
        [
         "Download",
         "Download plot",
         "floppy-o",
         "save_figure"
        ]
       ]
      }
     },
     "ceeafef20d36416fa0bafa206af400e5": {
      "model_module": "@jupyter-widgets/base",
      "model_module_version": "1.2.0",
      "model_name": "LayoutModel",
      "state": {
       "_model_module": "@jupyter-widgets/base",
       "_model_module_version": "1.2.0",
       "_model_name": "LayoutModel",
       "_view_count": null,
       "_view_module": "@jupyter-widgets/base",
       "_view_module_version": "1.2.0",
       "_view_name": "LayoutView",
       "align_content": null,
       "align_items": null,
       "align_self": null,
       "border": null,
       "bottom": null,
       "display": null,
       "flex": null,
       "flex_flow": null,
       "grid_area": null,
       "grid_auto_columns": null,
       "grid_auto_flow": null,
       "grid_auto_rows": null,
       "grid_column": null,
       "grid_gap": null,
       "grid_row": null,
       "grid_template_areas": null,
       "grid_template_columns": null,
       "grid_template_rows": null,
       "height": null,
       "justify_content": null,
       "justify_items": null,
       "left": null,
       "margin": null,
       "max_height": null,
       "max_width": null,
       "min_height": null,
       "min_width": null,
       "object_fit": null,
       "object_position": null,
       "order": null,
       "overflow": null,
       "overflow_x": null,
       "overflow_y": null,
       "padding": null,
       "right": null,
       "top": null,
       "visibility": null,
       "width": null
      }
     }
    },
    "version_major": 2,
    "version_minor": 0
   }
  }
 },
 "nbformat": 4,
 "nbformat_minor": 4
}
